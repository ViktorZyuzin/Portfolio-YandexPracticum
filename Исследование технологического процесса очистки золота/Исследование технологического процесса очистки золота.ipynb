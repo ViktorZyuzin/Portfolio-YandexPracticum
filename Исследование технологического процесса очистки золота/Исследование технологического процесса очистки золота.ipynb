{
 "cells": [
  {
   "cell_type": "markdown",
   "metadata": {
    "toc": true
   },
   "source": [
    "<h1>Содержание<span class=\"tocSkip\"></span></h1>\n",
    "<div class=\"toc\"><ul class=\"toc-item\"><li><span><a href=\"#Подготовка-данных\" data-toc-modified-id=\"Подготовка-данных-1\"><span class=\"toc-item-num\">1&nbsp;&nbsp;</span>Подготовка данных</a></span></li><li><span><a href=\"#Анализ-данных\" data-toc-modified-id=\"Анализ-данных-2\"><span class=\"toc-item-num\">2&nbsp;&nbsp;</span>Анализ данных</a></span></li><li><span><a href=\"#Модель\" data-toc-modified-id=\"Модель-3\"><span class=\"toc-item-num\">3&nbsp;&nbsp;</span>Модель</a></span></li></ul></div>"
   ]
  },
  {
   "cell_type": "markdown",
   "metadata": {},
   "source": [
    "# Восстановление золота из руды"
   ]
  },
  {
   "cell_type": "markdown",
   "metadata": {},
   "source": [
    "Подготовьте прототип модели машинного обучения для «Цифры». Компания разрабатывает решения для эффективной работы промышленных предприятий.\n",
    "\n",
    "Модель должна предсказать коэффициент восстановления золота из золотосодержащей руды. Используйте данные с параметрами добычи и очистки. \n",
    "\n",
    "Модель поможет оптимизировать производство, чтобы не запускать предприятие с убыточными характеристиками.\n",
    "\n",
    "Вам нужно:\n",
    "\n",
    "1. Подготовить данные;\n",
    "2. Провести исследовательский анализ данных;\n",
    "3. Построить и обучить модель.\n",
    "\n",
    "Чтобы выполнить проект, обращайтесь к библиотекам *pandas*, *matplotlib* и *sklearn.* Вам поможет их документация."
   ]
  },
  {
   "cell_type": "markdown",
   "metadata": {},
   "source": [
    "## Подготовка данных"
   ]
  },
  {
   "cell_type": "code",
   "execution_count": 1,
   "metadata": {},
   "outputs": [],
   "source": [
    "import pandas as pd\n",
    "import numpy as np\n",
    "import os\n",
    "from matplotlib import pyplot as plt\n",
    "import seaborn as sns\n",
    "from sklearn.preprocessing import StandardScaler\n",
    "from sklearn.metrics import mean_absolute_error\n",
    "from sklearn.model_selection import cross_val_score\n",
    "from sklearn.model_selection import cross_val_predict\n",
    "from sklearn.metrics import fbeta_score, make_scorer\n",
    "from sklearn.dummy import DummyRegressor\n",
    "from sklearn.model_selection import GridSearchCV\n",
    "from warnings import simplefilter\n",
    "simplefilter(action='ignore', category=FutureWarning)\n",
    "from sklearn.model_selection import cross_validate\n",
    "from sklearn.metrics import mean_absolute_error\n",
    "from sklearn.metrics import make_scorer\n",
    "from sklearn.linear_model import LinearRegression\n",
    "from sklearn.tree import DecisionTreeRegressor\n",
    "from sklearn.ensemble import RandomForestRegressor"
   ]
  },
  {
   "cell_type": "markdown",
   "metadata": {},
   "source": [
    "**1.1. Откроем файлы и изучим их.**"
   ]
  },
  {
   "cell_type": "code",
   "execution_count": 2,
   "metadata": {},
   "outputs": [],
   "source": [
    "path_full_1 = 'gold_recovery_full_new.csv'\n",
    "path_full_2 = '/datasets/gold_recovery_full_new.csv'\n",
    "\n",
    "path_train_1 = 'gold_recovery_train_new.csv'\n",
    "path_train_2 = '/datasets/gold_recovery_train_new.csv'\n",
    "\n",
    "path_test_1 = 'gold_recovery_test_new.csv'\n",
    "path_test_2 = '/datasets/gold_recovery_test_new.csv'\n",
    "\n",
    "\n",
    "# data_full\n",
    "if os.path.exists(path_full_1):\n",
    "    full = pd.read_csv(path_full_1)\n",
    "elif os.path.exists(path_full_2):\n",
    "    full = pd.read_csv(path_full_2)\n",
    "else:\n",
    "    print('Ой, что-то пошло не так!')\n",
    "    \n",
    "# data_train\n",
    "if os.path.exists(path_train_1):\n",
    "    train = pd.read_csv(path_train_1)\n",
    "elif os.path.exists(path_train_2):\n",
    "    train = pd.read_csv(path_train_2)\n",
    "else:\n",
    "    print('Ой, что-то пошло не так!')\n",
    "\n",
    "# data_test\n",
    "if os.path.exists(path_test_1):\n",
    "    test = pd.read_csv(path_test_1)\n",
    "elif os.path.exists(path_test_2):\n",
    "    test = pd.read_csv(path_test_2)\n",
    "else:\n",
    "    print('Ой, что-то пошло не так!')"
   ]
  },
  {
   "cell_type": "code",
   "execution_count": 3,
   "metadata": {},
   "outputs": [
    {
     "name": "stdout",
     "output_type": "stream",
     "text": [
      "<class 'pandas.core.frame.DataFrame'>\n",
      "RangeIndex: 14149 entries, 0 to 14148\n",
      "Data columns (total 87 columns):\n",
      " #   Column                                              Non-Null Count  Dtype  \n",
      "---  ------                                              --------------  -----  \n",
      " 0   date                                                14149 non-null  object \n",
      " 1   final.output.concentrate_ag                         14148 non-null  float64\n",
      " 2   final.output.concentrate_pb                         14148 non-null  float64\n",
      " 3   final.output.concentrate_sol                        13938 non-null  float64\n",
      " 4   final.output.concentrate_au                         14149 non-null  float64\n",
      " 5   final.output.recovery                               14149 non-null  float64\n",
      " 6   final.output.tail_ag                                14149 non-null  float64\n",
      " 7   final.output.tail_pb                                14049 non-null  float64\n",
      " 8   final.output.tail_sol                               14144 non-null  float64\n",
      " 9   final.output.tail_au                                14149 non-null  float64\n",
      " 10  primary_cleaner.input.sulfate                       14129 non-null  float64\n",
      " 11  primary_cleaner.input.depressant                    14117 non-null  float64\n",
      " 12  primary_cleaner.input.feed_size                     14149 non-null  float64\n",
      " 13  primary_cleaner.input.xanthate                      14049 non-null  float64\n",
      " 14  primary_cleaner.output.concentrate_ag               14149 non-null  float64\n",
      " 15  primary_cleaner.output.concentrate_pb               14063 non-null  float64\n",
      " 16  primary_cleaner.output.concentrate_sol              13863 non-null  float64\n",
      " 17  primary_cleaner.output.concentrate_au               14149 non-null  float64\n",
      " 18  primary_cleaner.output.tail_ag                      14148 non-null  float64\n",
      " 19  primary_cleaner.output.tail_pb                      14134 non-null  float64\n",
      " 20  primary_cleaner.output.tail_sol                     14103 non-null  float64\n",
      " 21  primary_cleaner.output.tail_au                      14149 non-null  float64\n",
      " 22  primary_cleaner.state.floatbank8_a_air              14145 non-null  float64\n",
      " 23  primary_cleaner.state.floatbank8_a_level            14148 non-null  float64\n",
      " 24  primary_cleaner.state.floatbank8_b_air              14145 non-null  float64\n",
      " 25  primary_cleaner.state.floatbank8_b_level            14148 non-null  float64\n",
      " 26  primary_cleaner.state.floatbank8_c_air              14147 non-null  float64\n",
      " 27  primary_cleaner.state.floatbank8_c_level            14148 non-null  float64\n",
      " 28  primary_cleaner.state.floatbank8_d_air              14146 non-null  float64\n",
      " 29  primary_cleaner.state.floatbank8_d_level            14148 non-null  float64\n",
      " 30  rougher.calculation.sulfate_to_au_concentrate       14148 non-null  float64\n",
      " 31  rougher.calculation.floatbank10_sulfate_to_au_feed  14148 non-null  float64\n",
      " 32  rougher.calculation.floatbank11_sulfate_to_au_feed  14148 non-null  float64\n",
      " 33  rougher.calculation.au_pb_ratio                     14149 non-null  float64\n",
      " 34  rougher.input.feed_ag                               14149 non-null  float64\n",
      " 35  rougher.input.feed_pb                               14049 non-null  float64\n",
      " 36  rougher.input.feed_rate                             14141 non-null  float64\n",
      " 37  rougher.input.feed_size                             14005 non-null  float64\n",
      " 38  rougher.input.feed_sol                              14071 non-null  float64\n",
      " 39  rougher.input.feed_au                               14149 non-null  float64\n",
      " 40  rougher.input.floatbank10_sulfate                   14120 non-null  float64\n",
      " 41  rougher.input.floatbank10_xanthate                  14141 non-null  float64\n",
      " 42  rougher.input.floatbank11_sulfate                   14113 non-null  float64\n",
      " 43  rougher.input.floatbank11_xanthate                  13721 non-null  float64\n",
      " 44  rougher.output.concentrate_ag                       14149 non-null  float64\n",
      " 45  rougher.output.concentrate_pb                       14149 non-null  float64\n",
      " 46  rougher.output.concentrate_sol                      14127 non-null  float64\n",
      " 47  rougher.output.concentrate_au                       14149 non-null  float64\n",
      " 48  rougher.output.recovery                             14149 non-null  float64\n",
      " 49  rougher.output.tail_ag                              14148 non-null  float64\n",
      " 50  rougher.output.tail_pb                              14149 non-null  float64\n",
      " 51  rougher.output.tail_sol                             14149 non-null  float64\n",
      " 52  rougher.output.tail_au                              14149 non-null  float64\n",
      " 53  rougher.state.floatbank10_a_air                     14148 non-null  float64\n",
      " 54  rougher.state.floatbank10_a_level                   14148 non-null  float64\n",
      " 55  rougher.state.floatbank10_b_air                     14148 non-null  float64\n",
      " 56  rougher.state.floatbank10_b_level                   14148 non-null  float64\n",
      " 57  rougher.state.floatbank10_c_air                     14148 non-null  float64\n",
      " 58  rougher.state.floatbank10_c_level                   14148 non-null  float64\n",
      " 59  rougher.state.floatbank10_d_air                     14149 non-null  float64\n",
      " 60  rougher.state.floatbank10_d_level                   14149 non-null  float64\n",
      " 61  rougher.state.floatbank10_e_air                     13713 non-null  float64\n",
      " 62  rougher.state.floatbank10_e_level                   14149 non-null  float64\n",
      " 63  rougher.state.floatbank10_f_air                     14149 non-null  float64\n",
      " 64  rougher.state.floatbank10_f_level                   14149 non-null  float64\n",
      " 65  secondary_cleaner.output.tail_ag                    14147 non-null  float64\n",
      " 66  secondary_cleaner.output.tail_pb                    14139 non-null  float64\n",
      " 67  secondary_cleaner.output.tail_sol                   12544 non-null  float64\n",
      " 68  secondary_cleaner.output.tail_au                    14149 non-null  float64\n",
      " 69  secondary_cleaner.state.floatbank2_a_air            13932 non-null  float64\n",
      " 70  secondary_cleaner.state.floatbank2_a_level          14148 non-null  float64\n",
      " 71  secondary_cleaner.state.floatbank2_b_air            14128 non-null  float64\n",
      " 72  secondary_cleaner.state.floatbank2_b_level          14148 non-null  float64\n",
      " 73  secondary_cleaner.state.floatbank3_a_air            14145 non-null  float64\n",
      " 74  secondary_cleaner.state.floatbank3_a_level          14148 non-null  float64\n",
      " 75  secondary_cleaner.state.floatbank3_b_air            14148 non-null  float64\n",
      " 76  secondary_cleaner.state.floatbank3_b_level          14148 non-null  float64\n",
      " 77  secondary_cleaner.state.floatbank4_a_air            14143 non-null  float64\n",
      " 78  secondary_cleaner.state.floatbank4_a_level          14148 non-null  float64\n",
      " 79  secondary_cleaner.state.floatbank4_b_air            14148 non-null  float64\n",
      " 80  secondary_cleaner.state.floatbank4_b_level          14148 non-null  float64\n",
      " 81  secondary_cleaner.state.floatbank5_a_air            14148 non-null  float64\n",
      " 82  secondary_cleaner.state.floatbank5_a_level          14148 non-null  float64\n",
      " 83  secondary_cleaner.state.floatbank5_b_air            14148 non-null  float64\n",
      " 84  secondary_cleaner.state.floatbank5_b_level          14148 non-null  float64\n",
      " 85  secondary_cleaner.state.floatbank6_a_air            14147 non-null  float64\n",
      " 86  secondary_cleaner.state.floatbank6_a_level          14148 non-null  float64\n",
      "dtypes: float64(86), object(1)\n",
      "memory usage: 9.4+ MB\n",
      "None\n",
      "<class 'pandas.core.frame.DataFrame'>\n",
      "RangeIndex: 5290 entries, 0 to 5289\n",
      "Data columns (total 53 columns):\n",
      " #   Column                                      Non-Null Count  Dtype  \n",
      "---  ------                                      --------------  -----  \n",
      " 0   date                                        5290 non-null   object \n",
      " 1   primary_cleaner.input.sulfate               5286 non-null   float64\n",
      " 2   primary_cleaner.input.depressant            5285 non-null   float64\n",
      " 3   primary_cleaner.input.feed_size             5290 non-null   float64\n",
      " 4   primary_cleaner.input.xanthate              5286 non-null   float64\n",
      " 5   primary_cleaner.state.floatbank8_a_air      5290 non-null   float64\n",
      " 6   primary_cleaner.state.floatbank8_a_level    5290 non-null   float64\n",
      " 7   primary_cleaner.state.floatbank8_b_air      5290 non-null   float64\n",
      " 8   primary_cleaner.state.floatbank8_b_level    5290 non-null   float64\n",
      " 9   primary_cleaner.state.floatbank8_c_air      5290 non-null   float64\n",
      " 10  primary_cleaner.state.floatbank8_c_level    5290 non-null   float64\n",
      " 11  primary_cleaner.state.floatbank8_d_air      5290 non-null   float64\n",
      " 12  primary_cleaner.state.floatbank8_d_level    5290 non-null   float64\n",
      " 13  rougher.input.feed_ag                       5290 non-null   float64\n",
      " 14  rougher.input.feed_pb                       5290 non-null   float64\n",
      " 15  rougher.input.feed_rate                     5287 non-null   float64\n",
      " 16  rougher.input.feed_size                     5289 non-null   float64\n",
      " 17  rougher.input.feed_sol                      5269 non-null   float64\n",
      " 18  rougher.input.feed_au                       5290 non-null   float64\n",
      " 19  rougher.input.floatbank10_sulfate           5285 non-null   float64\n",
      " 20  rougher.input.floatbank10_xanthate          5290 non-null   float64\n",
      " 21  rougher.input.floatbank11_sulfate           5282 non-null   float64\n",
      " 22  rougher.input.floatbank11_xanthate          5265 non-null   float64\n",
      " 23  rougher.state.floatbank10_a_air             5290 non-null   float64\n",
      " 24  rougher.state.floatbank10_a_level           5290 non-null   float64\n",
      " 25  rougher.state.floatbank10_b_air             5290 non-null   float64\n",
      " 26  rougher.state.floatbank10_b_level           5290 non-null   float64\n",
      " 27  rougher.state.floatbank10_c_air             5290 non-null   float64\n",
      " 28  rougher.state.floatbank10_c_level           5290 non-null   float64\n",
      " 29  rougher.state.floatbank10_d_air             5290 non-null   float64\n",
      " 30  rougher.state.floatbank10_d_level           5290 non-null   float64\n",
      " 31  rougher.state.floatbank10_e_air             5290 non-null   float64\n",
      " 32  rougher.state.floatbank10_e_level           5290 non-null   float64\n",
      " 33  rougher.state.floatbank10_f_air             5290 non-null   float64\n",
      " 34  rougher.state.floatbank10_f_level           5290 non-null   float64\n",
      " 35  secondary_cleaner.state.floatbank2_a_air    5287 non-null   float64\n",
      " 36  secondary_cleaner.state.floatbank2_a_level  5290 non-null   float64\n",
      " 37  secondary_cleaner.state.floatbank2_b_air    5288 non-null   float64\n",
      " 38  secondary_cleaner.state.floatbank2_b_level  5290 non-null   float64\n",
      " 39  secondary_cleaner.state.floatbank3_a_air    5281 non-null   float64\n",
      " 40  secondary_cleaner.state.floatbank3_a_level  5290 non-null   float64\n",
      " 41  secondary_cleaner.state.floatbank3_b_air    5290 non-null   float64\n",
      " 42  secondary_cleaner.state.floatbank3_b_level  5290 non-null   float64\n",
      " 43  secondary_cleaner.state.floatbank4_a_air    5290 non-null   float64\n",
      " 44  secondary_cleaner.state.floatbank4_a_level  5290 non-null   float64\n",
      " 45  secondary_cleaner.state.floatbank4_b_air    5290 non-null   float64\n",
      " 46  secondary_cleaner.state.floatbank4_b_level  5290 non-null   float64\n",
      " 47  secondary_cleaner.state.floatbank5_a_air    5290 non-null   float64\n",
      " 48  secondary_cleaner.state.floatbank5_a_level  5290 non-null   float64\n",
      " 49  secondary_cleaner.state.floatbank5_b_air    5290 non-null   float64\n",
      " 50  secondary_cleaner.state.floatbank5_b_level  5290 non-null   float64\n",
      " 51  secondary_cleaner.state.floatbank6_a_air    5290 non-null   float64\n",
      " 52  secondary_cleaner.state.floatbank6_a_level  5290 non-null   float64\n",
      "dtypes: float64(52), object(1)\n",
      "memory usage: 2.1+ MB\n",
      "None\n",
      "<class 'pandas.core.frame.DataFrame'>\n",
      "RangeIndex: 19439 entries, 0 to 19438\n",
      "Data columns (total 87 columns):\n",
      " #   Column                                              Non-Null Count  Dtype  \n",
      "---  ------                                              --------------  -----  \n",
      " 0   date                                                19439 non-null  object \n",
      " 1   final.output.concentrate_ag                         19438 non-null  float64\n",
      " 2   final.output.concentrate_pb                         19438 non-null  float64\n",
      " 3   final.output.concentrate_sol                        19228 non-null  float64\n",
      " 4   final.output.concentrate_au                         19439 non-null  float64\n",
      " 5   final.output.recovery                               19439 non-null  float64\n",
      " 6   final.output.tail_ag                                19438 non-null  float64\n",
      " 7   final.output.tail_pb                                19338 non-null  float64\n",
      " 8   final.output.tail_sol                               19433 non-null  float64\n",
      " 9   final.output.tail_au                                19439 non-null  float64\n",
      " 10  primary_cleaner.input.sulfate                       19415 non-null  float64\n",
      " 11  primary_cleaner.input.depressant                    19402 non-null  float64\n",
      " 12  primary_cleaner.input.feed_size                     19439 non-null  float64\n",
      " 13  primary_cleaner.input.xanthate                      19335 non-null  float64\n",
      " 14  primary_cleaner.output.concentrate_ag               19439 non-null  float64\n",
      " 15  primary_cleaner.output.concentrate_pb               19323 non-null  float64\n",
      " 16  primary_cleaner.output.concentrate_sol              19069 non-null  float64\n",
      " 17  primary_cleaner.output.concentrate_au               19439 non-null  float64\n",
      " 18  primary_cleaner.output.tail_ag                      19435 non-null  float64\n",
      " 19  primary_cleaner.output.tail_pb                      19418 non-null  float64\n",
      " 20  primary_cleaner.output.tail_sol                     19377 non-null  float64\n",
      " 21  primary_cleaner.output.tail_au                      19439 non-null  float64\n",
      " 22  primary_cleaner.state.floatbank8_a_air              19435 non-null  float64\n",
      " 23  primary_cleaner.state.floatbank8_a_level            19438 non-null  float64\n",
      " 24  primary_cleaner.state.floatbank8_b_air              19435 non-null  float64\n",
      " 25  primary_cleaner.state.floatbank8_b_level            19438 non-null  float64\n",
      " 26  primary_cleaner.state.floatbank8_c_air              19437 non-null  float64\n",
      " 27  primary_cleaner.state.floatbank8_c_level            19438 non-null  float64\n",
      " 28  primary_cleaner.state.floatbank8_d_air              19436 non-null  float64\n",
      " 29  primary_cleaner.state.floatbank8_d_level            19438 non-null  float64\n",
      " 30  rougher.calculation.sulfate_to_au_concentrate       19437 non-null  float64\n",
      " 31  rougher.calculation.floatbank10_sulfate_to_au_feed  19437 non-null  float64\n",
      " 32  rougher.calculation.floatbank11_sulfate_to_au_feed  19437 non-null  float64\n",
      " 33  rougher.calculation.au_pb_ratio                     19439 non-null  float64\n",
      " 34  rougher.input.feed_ag                               19439 non-null  float64\n",
      " 35  rougher.input.feed_pb                               19339 non-null  float64\n",
      " 36  rougher.input.feed_rate                             19428 non-null  float64\n",
      " 37  rougher.input.feed_size                             19294 non-null  float64\n",
      " 38  rougher.input.feed_sol                              19340 non-null  float64\n",
      " 39  rougher.input.feed_au                               19439 non-null  float64\n",
      " 40  rougher.input.floatbank10_sulfate                   19405 non-null  float64\n",
      " 41  rougher.input.floatbank10_xanthate                  19431 non-null  float64\n",
      " 42  rougher.input.floatbank11_sulfate                   19395 non-null  float64\n",
      " 43  rougher.input.floatbank11_xanthate                  18986 non-null  float64\n",
      " 44  rougher.output.concentrate_ag                       19439 non-null  float64\n",
      " 45  rougher.output.concentrate_pb                       19439 non-null  float64\n",
      " 46  rougher.output.concentrate_sol                      19416 non-null  float64\n",
      " 47  rougher.output.concentrate_au                       19439 non-null  float64\n",
      " 48  rougher.output.recovery                             19439 non-null  float64\n",
      " 49  rougher.output.tail_ag                              19438 non-null  float64\n",
      " 50  rougher.output.tail_pb                              19439 non-null  float64\n",
      " 51  rougher.output.tail_sol                             19439 non-null  float64\n",
      " 52  rougher.output.tail_au                              19439 non-null  float64\n",
      " 53  rougher.state.floatbank10_a_air                     19438 non-null  float64\n",
      " 54  rougher.state.floatbank10_a_level                   19438 non-null  float64\n",
      " 55  rougher.state.floatbank10_b_air                     19438 non-null  float64\n",
      " 56  rougher.state.floatbank10_b_level                   19438 non-null  float64\n",
      " 57  rougher.state.floatbank10_c_air                     19438 non-null  float64\n",
      " 58  rougher.state.floatbank10_c_level                   19438 non-null  float64\n",
      " 59  rougher.state.floatbank10_d_air                     19439 non-null  float64\n",
      " 60  rougher.state.floatbank10_d_level                   19439 non-null  float64\n",
      " 61  rougher.state.floatbank10_e_air                     19003 non-null  float64\n",
      " 62  rougher.state.floatbank10_e_level                   19439 non-null  float64\n",
      " 63  rougher.state.floatbank10_f_air                     19439 non-null  float64\n",
      " 64  rougher.state.floatbank10_f_level                   19439 non-null  float64\n",
      " 65  secondary_cleaner.output.tail_ag                    19437 non-null  float64\n",
      " 66  secondary_cleaner.output.tail_pb                    19427 non-null  float64\n",
      " 67  secondary_cleaner.output.tail_sol                   17691 non-null  float64\n",
      " 68  secondary_cleaner.output.tail_au                    19439 non-null  float64\n",
      " 69  secondary_cleaner.state.floatbank2_a_air            19219 non-null  float64\n",
      " 70  secondary_cleaner.state.floatbank2_a_level          19438 non-null  float64\n",
      " 71  secondary_cleaner.state.floatbank2_b_air            19416 non-null  float64\n",
      " 72  secondary_cleaner.state.floatbank2_b_level          19438 non-null  float64\n",
      " 73  secondary_cleaner.state.floatbank3_a_air            19426 non-null  float64\n",
      " 74  secondary_cleaner.state.floatbank3_a_level          19438 non-null  float64\n",
      " 75  secondary_cleaner.state.floatbank3_b_air            19438 non-null  float64\n",
      " 76  secondary_cleaner.state.floatbank3_b_level          19438 non-null  float64\n",
      " 77  secondary_cleaner.state.floatbank4_a_air            19433 non-null  float64\n",
      " 78  secondary_cleaner.state.floatbank4_a_level          19438 non-null  float64\n",
      " 79  secondary_cleaner.state.floatbank4_b_air            19438 non-null  float64\n",
      " 80  secondary_cleaner.state.floatbank4_b_level          19438 non-null  float64\n",
      " 81  secondary_cleaner.state.floatbank5_a_air            19438 non-null  float64\n",
      " 82  secondary_cleaner.state.floatbank5_a_level          19438 non-null  float64\n",
      " 83  secondary_cleaner.state.floatbank5_b_air            19438 non-null  float64\n",
      " 84  secondary_cleaner.state.floatbank5_b_level          19438 non-null  float64\n",
      " 85  secondary_cleaner.state.floatbank6_a_air            19437 non-null  float64\n",
      " 86  secondary_cleaner.state.floatbank6_a_level          19438 non-null  float64\n",
      "dtypes: float64(86), object(1)\n",
      "memory usage: 12.9+ MB\n",
      "None\n"
     ]
    }
   ],
   "source": [
    "datasets = [train, test, full]\n",
    "for dataset in datasets:\n",
    "  print(dataset.info())"
   ]
  },
  {
   "cell_type": "code",
   "execution_count": 4,
   "metadata": {
    "scrolled": true
   },
   "outputs": [
    {
     "data": {
      "text/html": [
       "<div>\n",
       "<style scoped>\n",
       "    .dataframe tbody tr th:only-of-type {\n",
       "        vertical-align: middle;\n",
       "    }\n",
       "\n",
       "    .dataframe tbody tr th {\n",
       "        vertical-align: top;\n",
       "    }\n",
       "\n",
       "    .dataframe thead th {\n",
       "        text-align: right;\n",
       "    }\n",
       "</style>\n",
       "<table border=\"1\" class=\"dataframe\">\n",
       "  <thead>\n",
       "    <tr style=\"text-align: right;\">\n",
       "      <th></th>\n",
       "      <th>final.output.concentrate_ag</th>\n",
       "      <th>final.output.concentrate_pb</th>\n",
       "      <th>final.output.concentrate_sol</th>\n",
       "      <th>final.output.concentrate_au</th>\n",
       "      <th>final.output.recovery</th>\n",
       "      <th>final.output.tail_ag</th>\n",
       "      <th>final.output.tail_pb</th>\n",
       "      <th>final.output.tail_sol</th>\n",
       "      <th>final.output.tail_au</th>\n",
       "      <th>primary_cleaner.input.sulfate</th>\n",
       "      <th>...</th>\n",
       "      <th>secondary_cleaner.state.floatbank4_a_air</th>\n",
       "      <th>secondary_cleaner.state.floatbank4_a_level</th>\n",
       "      <th>secondary_cleaner.state.floatbank4_b_air</th>\n",
       "      <th>secondary_cleaner.state.floatbank4_b_level</th>\n",
       "      <th>secondary_cleaner.state.floatbank5_a_air</th>\n",
       "      <th>secondary_cleaner.state.floatbank5_a_level</th>\n",
       "      <th>secondary_cleaner.state.floatbank5_b_air</th>\n",
       "      <th>secondary_cleaner.state.floatbank5_b_level</th>\n",
       "      <th>secondary_cleaner.state.floatbank6_a_air</th>\n",
       "      <th>secondary_cleaner.state.floatbank6_a_level</th>\n",
       "    </tr>\n",
       "  </thead>\n",
       "  <tbody>\n",
       "    <tr>\n",
       "      <th>count</th>\n",
       "      <td>14148.000000</td>\n",
       "      <td>14148.000000</td>\n",
       "      <td>13938.000000</td>\n",
       "      <td>14149.000000</td>\n",
       "      <td>14149.000000</td>\n",
       "      <td>14149.000000</td>\n",
       "      <td>14049.000000</td>\n",
       "      <td>14144.000000</td>\n",
       "      <td>14149.000000</td>\n",
       "      <td>14129.000000</td>\n",
       "      <td>...</td>\n",
       "      <td>14143.000000</td>\n",
       "      <td>14148.000000</td>\n",
       "      <td>14148.000000</td>\n",
       "      <td>14148.000000</td>\n",
       "      <td>14148.000000</td>\n",
       "      <td>14148.000000</td>\n",
       "      <td>14148.000000</td>\n",
       "      <td>14148.000000</td>\n",
       "      <td>14147.000000</td>\n",
       "      <td>14148.000000</td>\n",
       "    </tr>\n",
       "    <tr>\n",
       "      <th>mean</th>\n",
       "      <td>5.142034</td>\n",
       "      <td>10.132960</td>\n",
       "      <td>9.202849</td>\n",
       "      <td>44.003792</td>\n",
       "      <td>66.518832</td>\n",
       "      <td>9.607035</td>\n",
       "      <td>2.597298</td>\n",
       "      <td>10.512122</td>\n",
       "      <td>2.918421</td>\n",
       "      <td>133.320659</td>\n",
       "      <td>...</td>\n",
       "      <td>19.985454</td>\n",
       "      <td>-478.696836</td>\n",
       "      <td>15.487065</td>\n",
       "      <td>-460.229416</td>\n",
       "      <td>16.775136</td>\n",
       "      <td>-483.956022</td>\n",
       "      <td>13.064590</td>\n",
       "      <td>-483.966564</td>\n",
       "      <td>19.577539</td>\n",
       "      <td>-506.798480</td>\n",
       "    </tr>\n",
       "    <tr>\n",
       "      <th>std</th>\n",
       "      <td>1.369586</td>\n",
       "      <td>1.654930</td>\n",
       "      <td>2.790516</td>\n",
       "      <td>4.905261</td>\n",
       "      <td>10.295402</td>\n",
       "      <td>2.319069</td>\n",
       "      <td>0.971843</td>\n",
       "      <td>3.003617</td>\n",
       "      <td>0.903712</td>\n",
       "      <td>39.431659</td>\n",
       "      <td>...</td>\n",
       "      <td>5.657723</td>\n",
       "      <td>50.736021</td>\n",
       "      <td>5.255655</td>\n",
       "      <td>58.843586</td>\n",
       "      <td>5.831906</td>\n",
       "      <td>37.892788</td>\n",
       "      <td>5.765617</td>\n",
       "      <td>39.207913</td>\n",
       "      <td>5.764417</td>\n",
       "      <td>37.079249</td>\n",
       "    </tr>\n",
       "    <tr>\n",
       "      <th>min</th>\n",
       "      <td>0.000000</td>\n",
       "      <td>0.000000</td>\n",
       "      <td>0.000000</td>\n",
       "      <td>0.000000</td>\n",
       "      <td>0.000000</td>\n",
       "      <td>0.000000</td>\n",
       "      <td>0.000000</td>\n",
       "      <td>0.000000</td>\n",
       "      <td>0.000000</td>\n",
       "      <td>0.003112</td>\n",
       "      <td>...</td>\n",
       "      <td>0.000000</td>\n",
       "      <td>-799.709069</td>\n",
       "      <td>0.000000</td>\n",
       "      <td>-799.889113</td>\n",
       "      <td>-0.372054</td>\n",
       "      <td>-797.142475</td>\n",
       "      <td>0.646208</td>\n",
       "      <td>-800.006180</td>\n",
       "      <td>0.195324</td>\n",
       "      <td>-809.398668</td>\n",
       "    </tr>\n",
       "    <tr>\n",
       "      <th>25%</th>\n",
       "      <td>4.211620</td>\n",
       "      <td>9.297355</td>\n",
       "      <td>7.484645</td>\n",
       "      <td>43.276111</td>\n",
       "      <td>62.545817</td>\n",
       "      <td>7.997429</td>\n",
       "      <td>1.905973</td>\n",
       "      <td>8.811324</td>\n",
       "      <td>2.368607</td>\n",
       "      <td>107.006651</td>\n",
       "      <td>...</td>\n",
       "      <td>14.990775</td>\n",
       "      <td>-500.628656</td>\n",
       "      <td>11.894558</td>\n",
       "      <td>-500.149000</td>\n",
       "      <td>11.083980</td>\n",
       "      <td>-500.363177</td>\n",
       "      <td>8.994405</td>\n",
       "      <td>-500.105994</td>\n",
       "      <td>14.989304</td>\n",
       "      <td>-500.745104</td>\n",
       "    </tr>\n",
       "    <tr>\n",
       "      <th>50%</th>\n",
       "      <td>4.994652</td>\n",
       "      <td>10.297144</td>\n",
       "      <td>8.845462</td>\n",
       "      <td>44.872436</td>\n",
       "      <td>67.432775</td>\n",
       "      <td>9.480270</td>\n",
       "      <td>2.592022</td>\n",
       "      <td>10.514621</td>\n",
       "      <td>2.851025</td>\n",
       "      <td>133.018328</td>\n",
       "      <td>...</td>\n",
       "      <td>20.001789</td>\n",
       "      <td>-499.681450</td>\n",
       "      <td>14.975536</td>\n",
       "      <td>-499.388738</td>\n",
       "      <td>17.932223</td>\n",
       "      <td>-499.702452</td>\n",
       "      <td>11.997547</td>\n",
       "      <td>-499.914556</td>\n",
       "      <td>19.984175</td>\n",
       "      <td>-500.061431</td>\n",
       "    </tr>\n",
       "    <tr>\n",
       "      <th>75%</th>\n",
       "      <td>5.859540</td>\n",
       "      <td>11.170603</td>\n",
       "      <td>10.487508</td>\n",
       "      <td>46.166425</td>\n",
       "      <td>72.346428</td>\n",
       "      <td>11.003707</td>\n",
       "      <td>3.241723</td>\n",
       "      <td>11.933009</td>\n",
       "      <td>3.434764</td>\n",
       "      <td>159.825396</td>\n",
       "      <td>...</td>\n",
       "      <td>24.990826</td>\n",
       "      <td>-477.472413</td>\n",
       "      <td>20.059375</td>\n",
       "      <td>-400.039008</td>\n",
       "      <td>21.346550</td>\n",
       "      <td>-487.712108</td>\n",
       "      <td>17.982903</td>\n",
       "      <td>-453.186936</td>\n",
       "      <td>24.991623</td>\n",
       "      <td>-499.536466</td>\n",
       "    </tr>\n",
       "    <tr>\n",
       "      <th>max</th>\n",
       "      <td>16.001945</td>\n",
       "      <td>17.031899</td>\n",
       "      <td>18.124851</td>\n",
       "      <td>52.756638</td>\n",
       "      <td>100.000000</td>\n",
       "      <td>19.552149</td>\n",
       "      <td>5.639565</td>\n",
       "      <td>22.317730</td>\n",
       "      <td>8.197408</td>\n",
       "      <td>250.127834</td>\n",
       "      <td>...</td>\n",
       "      <td>30.115735</td>\n",
       "      <td>-245.239184</td>\n",
       "      <td>24.007913</td>\n",
       "      <td>-145.071088</td>\n",
       "      <td>43.709931</td>\n",
       "      <td>-275.073125</td>\n",
       "      <td>27.926001</td>\n",
       "      <td>-157.396071</td>\n",
       "      <td>32.188906</td>\n",
       "      <td>-104.427459</td>\n",
       "    </tr>\n",
       "  </tbody>\n",
       "</table>\n",
       "<p>8 rows × 86 columns</p>\n",
       "</div>"
      ],
      "text/plain": [
       "       final.output.concentrate_ag  final.output.concentrate_pb  \\\n",
       "count                 14148.000000                 14148.000000   \n",
       "mean                      5.142034                    10.132960   \n",
       "std                       1.369586                     1.654930   \n",
       "min                       0.000000                     0.000000   \n",
       "25%                       4.211620                     9.297355   \n",
       "50%                       4.994652                    10.297144   \n",
       "75%                       5.859540                    11.170603   \n",
       "max                      16.001945                    17.031899   \n",
       "\n",
       "       final.output.concentrate_sol  final.output.concentrate_au  \\\n",
       "count                  13938.000000                 14149.000000   \n",
       "mean                       9.202849                    44.003792   \n",
       "std                        2.790516                     4.905261   \n",
       "min                        0.000000                     0.000000   \n",
       "25%                        7.484645                    43.276111   \n",
       "50%                        8.845462                    44.872436   \n",
       "75%                       10.487508                    46.166425   \n",
       "max                       18.124851                    52.756638   \n",
       "\n",
       "       final.output.recovery  final.output.tail_ag  final.output.tail_pb  \\\n",
       "count           14149.000000          14149.000000          14049.000000   \n",
       "mean               66.518832              9.607035              2.597298   \n",
       "std                10.295402              2.319069              0.971843   \n",
       "min                 0.000000              0.000000              0.000000   \n",
       "25%                62.545817              7.997429              1.905973   \n",
       "50%                67.432775              9.480270              2.592022   \n",
       "75%                72.346428             11.003707              3.241723   \n",
       "max               100.000000             19.552149              5.639565   \n",
       "\n",
       "       final.output.tail_sol  final.output.tail_au  \\\n",
       "count           14144.000000          14149.000000   \n",
       "mean               10.512122              2.918421   \n",
       "std                 3.003617              0.903712   \n",
       "min                 0.000000              0.000000   \n",
       "25%                 8.811324              2.368607   \n",
       "50%                10.514621              2.851025   \n",
       "75%                11.933009              3.434764   \n",
       "max                22.317730              8.197408   \n",
       "\n",
       "       primary_cleaner.input.sulfate  ...  \\\n",
       "count                   14129.000000  ...   \n",
       "mean                      133.320659  ...   \n",
       "std                        39.431659  ...   \n",
       "min                         0.003112  ...   \n",
       "25%                       107.006651  ...   \n",
       "50%                       133.018328  ...   \n",
       "75%                       159.825396  ...   \n",
       "max                       250.127834  ...   \n",
       "\n",
       "       secondary_cleaner.state.floatbank4_a_air  \\\n",
       "count                              14143.000000   \n",
       "mean                                  19.985454   \n",
       "std                                    5.657723   \n",
       "min                                    0.000000   \n",
       "25%                                   14.990775   \n",
       "50%                                   20.001789   \n",
       "75%                                   24.990826   \n",
       "max                                   30.115735   \n",
       "\n",
       "       secondary_cleaner.state.floatbank4_a_level  \\\n",
       "count                                14148.000000   \n",
       "mean                                  -478.696836   \n",
       "std                                     50.736021   \n",
       "min                                   -799.709069   \n",
       "25%                                   -500.628656   \n",
       "50%                                   -499.681450   \n",
       "75%                                   -477.472413   \n",
       "max                                   -245.239184   \n",
       "\n",
       "       secondary_cleaner.state.floatbank4_b_air  \\\n",
       "count                              14148.000000   \n",
       "mean                                  15.487065   \n",
       "std                                    5.255655   \n",
       "min                                    0.000000   \n",
       "25%                                   11.894558   \n",
       "50%                                   14.975536   \n",
       "75%                                   20.059375   \n",
       "max                                   24.007913   \n",
       "\n",
       "       secondary_cleaner.state.floatbank4_b_level  \\\n",
       "count                                14148.000000   \n",
       "mean                                  -460.229416   \n",
       "std                                     58.843586   \n",
       "min                                   -799.889113   \n",
       "25%                                   -500.149000   \n",
       "50%                                   -499.388738   \n",
       "75%                                   -400.039008   \n",
       "max                                   -145.071088   \n",
       "\n",
       "       secondary_cleaner.state.floatbank5_a_air  \\\n",
       "count                              14148.000000   \n",
       "mean                                  16.775136   \n",
       "std                                    5.831906   \n",
       "min                                   -0.372054   \n",
       "25%                                   11.083980   \n",
       "50%                                   17.932223   \n",
       "75%                                   21.346550   \n",
       "max                                   43.709931   \n",
       "\n",
       "       secondary_cleaner.state.floatbank5_a_level  \\\n",
       "count                                14148.000000   \n",
       "mean                                  -483.956022   \n",
       "std                                     37.892788   \n",
       "min                                   -797.142475   \n",
       "25%                                   -500.363177   \n",
       "50%                                   -499.702452   \n",
       "75%                                   -487.712108   \n",
       "max                                   -275.073125   \n",
       "\n",
       "       secondary_cleaner.state.floatbank5_b_air  \\\n",
       "count                              14148.000000   \n",
       "mean                                  13.064590   \n",
       "std                                    5.765617   \n",
       "min                                    0.646208   \n",
       "25%                                    8.994405   \n",
       "50%                                   11.997547   \n",
       "75%                                   17.982903   \n",
       "max                                   27.926001   \n",
       "\n",
       "       secondary_cleaner.state.floatbank5_b_level  \\\n",
       "count                                14148.000000   \n",
       "mean                                  -483.966564   \n",
       "std                                     39.207913   \n",
       "min                                   -800.006180   \n",
       "25%                                   -500.105994   \n",
       "50%                                   -499.914556   \n",
       "75%                                   -453.186936   \n",
       "max                                   -157.396071   \n",
       "\n",
       "       secondary_cleaner.state.floatbank6_a_air  \\\n",
       "count                              14147.000000   \n",
       "mean                                  19.577539   \n",
       "std                                    5.764417   \n",
       "min                                    0.195324   \n",
       "25%                                   14.989304   \n",
       "50%                                   19.984175   \n",
       "75%                                   24.991623   \n",
       "max                                   32.188906   \n",
       "\n",
       "       secondary_cleaner.state.floatbank6_a_level  \n",
       "count                                14148.000000  \n",
       "mean                                  -506.798480  \n",
       "std                                     37.079249  \n",
       "min                                   -809.398668  \n",
       "25%                                   -500.745104  \n",
       "50%                                   -500.061431  \n",
       "75%                                   -499.536466  \n",
       "max                                   -104.427459  \n",
       "\n",
       "[8 rows x 86 columns]"
      ]
     },
     "metadata": {},
     "output_type": "display_data"
    },
    {
     "data": {
      "text/html": [
       "<div>\n",
       "<style scoped>\n",
       "    .dataframe tbody tr th:only-of-type {\n",
       "        vertical-align: middle;\n",
       "    }\n",
       "\n",
       "    .dataframe tbody tr th {\n",
       "        vertical-align: top;\n",
       "    }\n",
       "\n",
       "    .dataframe thead th {\n",
       "        text-align: right;\n",
       "    }\n",
       "</style>\n",
       "<table border=\"1\" class=\"dataframe\">\n",
       "  <thead>\n",
       "    <tr style=\"text-align: right;\">\n",
       "      <th></th>\n",
       "      <th>primary_cleaner.input.sulfate</th>\n",
       "      <th>primary_cleaner.input.depressant</th>\n",
       "      <th>primary_cleaner.input.feed_size</th>\n",
       "      <th>primary_cleaner.input.xanthate</th>\n",
       "      <th>primary_cleaner.state.floatbank8_a_air</th>\n",
       "      <th>primary_cleaner.state.floatbank8_a_level</th>\n",
       "      <th>primary_cleaner.state.floatbank8_b_air</th>\n",
       "      <th>primary_cleaner.state.floatbank8_b_level</th>\n",
       "      <th>primary_cleaner.state.floatbank8_c_air</th>\n",
       "      <th>primary_cleaner.state.floatbank8_c_level</th>\n",
       "      <th>...</th>\n",
       "      <th>secondary_cleaner.state.floatbank4_a_air</th>\n",
       "      <th>secondary_cleaner.state.floatbank4_a_level</th>\n",
       "      <th>secondary_cleaner.state.floatbank4_b_air</th>\n",
       "      <th>secondary_cleaner.state.floatbank4_b_level</th>\n",
       "      <th>secondary_cleaner.state.floatbank5_a_air</th>\n",
       "      <th>secondary_cleaner.state.floatbank5_a_level</th>\n",
       "      <th>secondary_cleaner.state.floatbank5_b_air</th>\n",
       "      <th>secondary_cleaner.state.floatbank5_b_level</th>\n",
       "      <th>secondary_cleaner.state.floatbank6_a_air</th>\n",
       "      <th>secondary_cleaner.state.floatbank6_a_level</th>\n",
       "    </tr>\n",
       "  </thead>\n",
       "  <tbody>\n",
       "    <tr>\n",
       "      <th>count</th>\n",
       "      <td>5286.000000</td>\n",
       "      <td>5285.000000</td>\n",
       "      <td>5290.000000</td>\n",
       "      <td>5286.000000</td>\n",
       "      <td>5.290000e+03</td>\n",
       "      <td>5290.000000</td>\n",
       "      <td>5.290000e+03</td>\n",
       "      <td>5290.000000</td>\n",
       "      <td>5.290000e+03</td>\n",
       "      <td>5290.000000</td>\n",
       "      <td>...</td>\n",
       "      <td>5.290000e+03</td>\n",
       "      <td>5290.000000</td>\n",
       "      <td>5.290000e+03</td>\n",
       "      <td>5290.000000</td>\n",
       "      <td>5290.000000</td>\n",
       "      <td>5290.000000</td>\n",
       "      <td>5290.000000</td>\n",
       "      <td>5290.000000</td>\n",
       "      <td>5290.000000</td>\n",
       "      <td>5290.000000</td>\n",
       "    </tr>\n",
       "    <tr>\n",
       "      <th>mean</th>\n",
       "      <td>174.839652</td>\n",
       "      <td>8.683596</td>\n",
       "      <td>7.266339</td>\n",
       "      <td>1.383803</td>\n",
       "      <td>1.539494e+03</td>\n",
       "      <td>-497.665883</td>\n",
       "      <td>1.545174e+03</td>\n",
       "      <td>-500.273098</td>\n",
       "      <td>1.527272e+03</td>\n",
       "      <td>-498.330680</td>\n",
       "      <td>...</td>\n",
       "      <td>1.632007e+01</td>\n",
       "      <td>-505.144570</td>\n",
       "      <td>1.373544e+01</td>\n",
       "      <td>-463.349858</td>\n",
       "      <td>12.804186</td>\n",
       "      <td>-501.329122</td>\n",
       "      <td>9.881145</td>\n",
       "      <td>-495.663398</td>\n",
       "      <td>17.304935</td>\n",
       "      <td>-501.793193</td>\n",
       "    </tr>\n",
       "    <tr>\n",
       "      <th>std</th>\n",
       "      <td>43.027080</td>\n",
       "      <td>3.072050</td>\n",
       "      <td>0.610219</td>\n",
       "      <td>0.643474</td>\n",
       "      <td>1.167979e+02</td>\n",
       "      <td>19.952431</td>\n",
       "      <td>1.222246e+02</td>\n",
       "      <td>32.968307</td>\n",
       "      <td>1.225380e+02</td>\n",
       "      <td>21.964876</td>\n",
       "      <td>...</td>\n",
       "      <td>3.493583e+00</td>\n",
       "      <td>31.427337</td>\n",
       "      <td>3.430484e+00</td>\n",
       "      <td>86.189107</td>\n",
       "      <td>3.026591</td>\n",
       "      <td>17.951495</td>\n",
       "      <td>2.868205</td>\n",
       "      <td>34.535007</td>\n",
       "      <td>4.536544</td>\n",
       "      <td>39.044215</td>\n",
       "    </tr>\n",
       "    <tr>\n",
       "      <th>min</th>\n",
       "      <td>2.566156</td>\n",
       "      <td>0.003839</td>\n",
       "      <td>5.650000</td>\n",
       "      <td>0.004984</td>\n",
       "      <td>5.445860e-32</td>\n",
       "      <td>-795.316337</td>\n",
       "      <td>6.647490e-32</td>\n",
       "      <td>-799.997015</td>\n",
       "      <td>4.033736e-32</td>\n",
       "      <td>-799.960571</td>\n",
       "      <td>...</td>\n",
       "      <td>1.079872e-16</td>\n",
       "      <td>-799.798523</td>\n",
       "      <td>2.489718e-17</td>\n",
       "      <td>-800.836914</td>\n",
       "      <td>0.069227</td>\n",
       "      <td>-797.323986</td>\n",
       "      <td>0.528083</td>\n",
       "      <td>-800.220337</td>\n",
       "      <td>-0.079426</td>\n",
       "      <td>-809.741464</td>\n",
       "    </tr>\n",
       "    <tr>\n",
       "      <th>25%</th>\n",
       "      <td>147.121401</td>\n",
       "      <td>6.489555</td>\n",
       "      <td>6.890000</td>\n",
       "      <td>0.907623</td>\n",
       "      <td>1.498936e+03</td>\n",
       "      <td>-500.357298</td>\n",
       "      <td>1.498971e+03</td>\n",
       "      <td>-500.703002</td>\n",
       "      <td>1.473230e+03</td>\n",
       "      <td>-501.018117</td>\n",
       "      <td>...</td>\n",
       "      <td>1.403618e+01</td>\n",
       "      <td>-500.868258</td>\n",
       "      <td>1.202862e+01</td>\n",
       "      <td>-500.323028</td>\n",
       "      <td>10.914838</td>\n",
       "      <td>-500.726841</td>\n",
       "      <td>8.036719</td>\n",
       "      <td>-500.194668</td>\n",
       "      <td>13.997317</td>\n",
       "      <td>-500.690984</td>\n",
       "    </tr>\n",
       "    <tr>\n",
       "      <th>50%</th>\n",
       "      <td>177.828489</td>\n",
       "      <td>8.052207</td>\n",
       "      <td>7.250000</td>\n",
       "      <td>1.197610</td>\n",
       "      <td>1.585129e+03</td>\n",
       "      <td>-499.969164</td>\n",
       "      <td>1.595622e+03</td>\n",
       "      <td>-500.028514</td>\n",
       "      <td>1.549595e+03</td>\n",
       "      <td>-500.017711</td>\n",
       "      <td>...</td>\n",
       "      <td>1.700847e+01</td>\n",
       "      <td>-500.115727</td>\n",
       "      <td>1.496486e+01</td>\n",
       "      <td>-499.576513</td>\n",
       "      <td>12.954182</td>\n",
       "      <td>-499.990332</td>\n",
       "      <td>10.004301</td>\n",
       "      <td>-499.990535</td>\n",
       "      <td>16.014935</td>\n",
       "      <td>-500.007126</td>\n",
       "    </tr>\n",
       "    <tr>\n",
       "      <th>75%</th>\n",
       "      <td>208.125438</td>\n",
       "      <td>10.027764</td>\n",
       "      <td>7.600000</td>\n",
       "      <td>1.797819</td>\n",
       "      <td>1.602077e+03</td>\n",
       "      <td>-499.568951</td>\n",
       "      <td>1.602324e+03</td>\n",
       "      <td>-499.293257</td>\n",
       "      <td>1.601144e+03</td>\n",
       "      <td>-498.994130</td>\n",
       "      <td>...</td>\n",
       "      <td>1.803862e+01</td>\n",
       "      <td>-499.404224</td>\n",
       "      <td>1.596213e+01</td>\n",
       "      <td>-400.933805</td>\n",
       "      <td>15.097528</td>\n",
       "      <td>-499.283191</td>\n",
       "      <td>11.997467</td>\n",
       "      <td>-499.719913</td>\n",
       "      <td>21.020013</td>\n",
       "      <td>-499.373018</td>\n",
       "    </tr>\n",
       "    <tr>\n",
       "      <th>max</th>\n",
       "      <td>265.983123</td>\n",
       "      <td>40.000000</td>\n",
       "      <td>15.500000</td>\n",
       "      <td>4.102454</td>\n",
       "      <td>2.103104e+03</td>\n",
       "      <td>-57.195404</td>\n",
       "      <td>1.813084e+03</td>\n",
       "      <td>-142.527229</td>\n",
       "      <td>1.715054e+03</td>\n",
       "      <td>-150.937035</td>\n",
       "      <td>...</td>\n",
       "      <td>3.005180e+01</td>\n",
       "      <td>-401.565212</td>\n",
       "      <td>3.126971e+01</td>\n",
       "      <td>-6.506986</td>\n",
       "      <td>25.258848</td>\n",
       "      <td>-244.483566</td>\n",
       "      <td>14.086866</td>\n",
       "      <td>-137.740004</td>\n",
       "      <td>26.705889</td>\n",
       "      <td>-123.307487</td>\n",
       "    </tr>\n",
       "  </tbody>\n",
       "</table>\n",
       "<p>8 rows × 52 columns</p>\n",
       "</div>"
      ],
      "text/plain": [
       "       primary_cleaner.input.sulfate  primary_cleaner.input.depressant  \\\n",
       "count                    5286.000000                       5285.000000   \n",
       "mean                      174.839652                          8.683596   \n",
       "std                        43.027080                          3.072050   \n",
       "min                         2.566156                          0.003839   \n",
       "25%                       147.121401                          6.489555   \n",
       "50%                       177.828489                          8.052207   \n",
       "75%                       208.125438                         10.027764   \n",
       "max                       265.983123                         40.000000   \n",
       "\n",
       "       primary_cleaner.input.feed_size  primary_cleaner.input.xanthate  \\\n",
       "count                      5290.000000                     5286.000000   \n",
       "mean                          7.266339                        1.383803   \n",
       "std                           0.610219                        0.643474   \n",
       "min                           5.650000                        0.004984   \n",
       "25%                           6.890000                        0.907623   \n",
       "50%                           7.250000                        1.197610   \n",
       "75%                           7.600000                        1.797819   \n",
       "max                          15.500000                        4.102454   \n",
       "\n",
       "       primary_cleaner.state.floatbank8_a_air  \\\n",
       "count                            5.290000e+03   \n",
       "mean                             1.539494e+03   \n",
       "std                              1.167979e+02   \n",
       "min                              5.445860e-32   \n",
       "25%                              1.498936e+03   \n",
       "50%                              1.585129e+03   \n",
       "75%                              1.602077e+03   \n",
       "max                              2.103104e+03   \n",
       "\n",
       "       primary_cleaner.state.floatbank8_a_level  \\\n",
       "count                               5290.000000   \n",
       "mean                                -497.665883   \n",
       "std                                   19.952431   \n",
       "min                                 -795.316337   \n",
       "25%                                 -500.357298   \n",
       "50%                                 -499.969164   \n",
       "75%                                 -499.568951   \n",
       "max                                  -57.195404   \n",
       "\n",
       "       primary_cleaner.state.floatbank8_b_air  \\\n",
       "count                            5.290000e+03   \n",
       "mean                             1.545174e+03   \n",
       "std                              1.222246e+02   \n",
       "min                              6.647490e-32   \n",
       "25%                              1.498971e+03   \n",
       "50%                              1.595622e+03   \n",
       "75%                              1.602324e+03   \n",
       "max                              1.813084e+03   \n",
       "\n",
       "       primary_cleaner.state.floatbank8_b_level  \\\n",
       "count                               5290.000000   \n",
       "mean                                -500.273098   \n",
       "std                                   32.968307   \n",
       "min                                 -799.997015   \n",
       "25%                                 -500.703002   \n",
       "50%                                 -500.028514   \n",
       "75%                                 -499.293257   \n",
       "max                                 -142.527229   \n",
       "\n",
       "       primary_cleaner.state.floatbank8_c_air  \\\n",
       "count                            5.290000e+03   \n",
       "mean                             1.527272e+03   \n",
       "std                              1.225380e+02   \n",
       "min                              4.033736e-32   \n",
       "25%                              1.473230e+03   \n",
       "50%                              1.549595e+03   \n",
       "75%                              1.601144e+03   \n",
       "max                              1.715054e+03   \n",
       "\n",
       "       primary_cleaner.state.floatbank8_c_level  ...  \\\n",
       "count                               5290.000000  ...   \n",
       "mean                                -498.330680  ...   \n",
       "std                                   21.964876  ...   \n",
       "min                                 -799.960571  ...   \n",
       "25%                                 -501.018117  ...   \n",
       "50%                                 -500.017711  ...   \n",
       "75%                                 -498.994130  ...   \n",
       "max                                 -150.937035  ...   \n",
       "\n",
       "       secondary_cleaner.state.floatbank4_a_air  \\\n",
       "count                              5.290000e+03   \n",
       "mean                               1.632007e+01   \n",
       "std                                3.493583e+00   \n",
       "min                                1.079872e-16   \n",
       "25%                                1.403618e+01   \n",
       "50%                                1.700847e+01   \n",
       "75%                                1.803862e+01   \n",
       "max                                3.005180e+01   \n",
       "\n",
       "       secondary_cleaner.state.floatbank4_a_level  \\\n",
       "count                                 5290.000000   \n",
       "mean                                  -505.144570   \n",
       "std                                     31.427337   \n",
       "min                                   -799.798523   \n",
       "25%                                   -500.868258   \n",
       "50%                                   -500.115727   \n",
       "75%                                   -499.404224   \n",
       "max                                   -401.565212   \n",
       "\n",
       "       secondary_cleaner.state.floatbank4_b_air  \\\n",
       "count                              5.290000e+03   \n",
       "mean                               1.373544e+01   \n",
       "std                                3.430484e+00   \n",
       "min                                2.489718e-17   \n",
       "25%                                1.202862e+01   \n",
       "50%                                1.496486e+01   \n",
       "75%                                1.596213e+01   \n",
       "max                                3.126971e+01   \n",
       "\n",
       "       secondary_cleaner.state.floatbank4_b_level  \\\n",
       "count                                 5290.000000   \n",
       "mean                                  -463.349858   \n",
       "std                                     86.189107   \n",
       "min                                   -800.836914   \n",
       "25%                                   -500.323028   \n",
       "50%                                   -499.576513   \n",
       "75%                                   -400.933805   \n",
       "max                                     -6.506986   \n",
       "\n",
       "       secondary_cleaner.state.floatbank5_a_air  \\\n",
       "count                               5290.000000   \n",
       "mean                                  12.804186   \n",
       "std                                    3.026591   \n",
       "min                                    0.069227   \n",
       "25%                                   10.914838   \n",
       "50%                                   12.954182   \n",
       "75%                                   15.097528   \n",
       "max                                   25.258848   \n",
       "\n",
       "       secondary_cleaner.state.floatbank5_a_level  \\\n",
       "count                                 5290.000000   \n",
       "mean                                  -501.329122   \n",
       "std                                     17.951495   \n",
       "min                                   -797.323986   \n",
       "25%                                   -500.726841   \n",
       "50%                                   -499.990332   \n",
       "75%                                   -499.283191   \n",
       "max                                   -244.483566   \n",
       "\n",
       "       secondary_cleaner.state.floatbank5_b_air  \\\n",
       "count                               5290.000000   \n",
       "mean                                   9.881145   \n",
       "std                                    2.868205   \n",
       "min                                    0.528083   \n",
       "25%                                    8.036719   \n",
       "50%                                   10.004301   \n",
       "75%                                   11.997467   \n",
       "max                                   14.086866   \n",
       "\n",
       "       secondary_cleaner.state.floatbank5_b_level  \\\n",
       "count                                 5290.000000   \n",
       "mean                                  -495.663398   \n",
       "std                                     34.535007   \n",
       "min                                   -800.220337   \n",
       "25%                                   -500.194668   \n",
       "50%                                   -499.990535   \n",
       "75%                                   -499.719913   \n",
       "max                                   -137.740004   \n",
       "\n",
       "       secondary_cleaner.state.floatbank6_a_air  \\\n",
       "count                               5290.000000   \n",
       "mean                                  17.304935   \n",
       "std                                    4.536544   \n",
       "min                                   -0.079426   \n",
       "25%                                   13.997317   \n",
       "50%                                   16.014935   \n",
       "75%                                   21.020013   \n",
       "max                                   26.705889   \n",
       "\n",
       "       secondary_cleaner.state.floatbank6_a_level  \n",
       "count                                 5290.000000  \n",
       "mean                                  -501.793193  \n",
       "std                                     39.044215  \n",
       "min                                   -809.741464  \n",
       "25%                                   -500.690984  \n",
       "50%                                   -500.007126  \n",
       "75%                                   -499.373018  \n",
       "max                                   -123.307487  \n",
       "\n",
       "[8 rows x 52 columns]"
      ]
     },
     "metadata": {},
     "output_type": "display_data"
    },
    {
     "data": {
      "text/html": [
       "<div>\n",
       "<style scoped>\n",
       "    .dataframe tbody tr th:only-of-type {\n",
       "        vertical-align: middle;\n",
       "    }\n",
       "\n",
       "    .dataframe tbody tr th {\n",
       "        vertical-align: top;\n",
       "    }\n",
       "\n",
       "    .dataframe thead th {\n",
       "        text-align: right;\n",
       "    }\n",
       "</style>\n",
       "<table border=\"1\" class=\"dataframe\">\n",
       "  <thead>\n",
       "    <tr style=\"text-align: right;\">\n",
       "      <th></th>\n",
       "      <th>final.output.concentrate_ag</th>\n",
       "      <th>final.output.concentrate_pb</th>\n",
       "      <th>final.output.concentrate_sol</th>\n",
       "      <th>final.output.concentrate_au</th>\n",
       "      <th>final.output.recovery</th>\n",
       "      <th>final.output.tail_ag</th>\n",
       "      <th>final.output.tail_pb</th>\n",
       "      <th>final.output.tail_sol</th>\n",
       "      <th>final.output.tail_au</th>\n",
       "      <th>primary_cleaner.input.sulfate</th>\n",
       "      <th>...</th>\n",
       "      <th>secondary_cleaner.state.floatbank4_a_air</th>\n",
       "      <th>secondary_cleaner.state.floatbank4_a_level</th>\n",
       "      <th>secondary_cleaner.state.floatbank4_b_air</th>\n",
       "      <th>secondary_cleaner.state.floatbank4_b_level</th>\n",
       "      <th>secondary_cleaner.state.floatbank5_a_air</th>\n",
       "      <th>secondary_cleaner.state.floatbank5_a_level</th>\n",
       "      <th>secondary_cleaner.state.floatbank5_b_air</th>\n",
       "      <th>secondary_cleaner.state.floatbank5_b_level</th>\n",
       "      <th>secondary_cleaner.state.floatbank6_a_air</th>\n",
       "      <th>secondary_cleaner.state.floatbank6_a_level</th>\n",
       "    </tr>\n",
       "  </thead>\n",
       "  <tbody>\n",
       "    <tr>\n",
       "      <th>count</th>\n",
       "      <td>19438.000000</td>\n",
       "      <td>19438.000000</td>\n",
       "      <td>19228.000000</td>\n",
       "      <td>19439.000000</td>\n",
       "      <td>19439.000000</td>\n",
       "      <td>19438.000000</td>\n",
       "      <td>19338.000000</td>\n",
       "      <td>19433.000000</td>\n",
       "      <td>19439.000000</td>\n",
       "      <td>19415.000000</td>\n",
       "      <td>...</td>\n",
       "      <td>19433.000000</td>\n",
       "      <td>19438.000000</td>\n",
       "      <td>19438.000000</td>\n",
       "      <td>19438.000000</td>\n",
       "      <td>19438.000000</td>\n",
       "      <td>19438.000000</td>\n",
       "      <td>19438.000000</td>\n",
       "      <td>19438.000000</td>\n",
       "      <td>19437.000000</td>\n",
       "      <td>19438.000000</td>\n",
       "    </tr>\n",
       "    <tr>\n",
       "      <th>mean</th>\n",
       "      <td>5.168470</td>\n",
       "      <td>9.978895</td>\n",
       "      <td>9.501224</td>\n",
       "      <td>44.076513</td>\n",
       "      <td>67.050208</td>\n",
       "      <td>9.688589</td>\n",
       "      <td>2.705795</td>\n",
       "      <td>10.583728</td>\n",
       "      <td>3.042467</td>\n",
       "      <td>144.624774</td>\n",
       "      <td>...</td>\n",
       "      <td>18.987674</td>\n",
       "      <td>-485.894516</td>\n",
       "      <td>15.010366</td>\n",
       "      <td>-461.078636</td>\n",
       "      <td>15.694452</td>\n",
       "      <td>-488.684065</td>\n",
       "      <td>12.198224</td>\n",
       "      <td>-487.149827</td>\n",
       "      <td>18.959024</td>\n",
       "      <td>-505.436305</td>\n",
       "    </tr>\n",
       "    <tr>\n",
       "      <th>std</th>\n",
       "      <td>1.372348</td>\n",
       "      <td>1.669240</td>\n",
       "      <td>2.787537</td>\n",
       "      <td>5.129784</td>\n",
       "      <td>10.125840</td>\n",
       "      <td>2.328642</td>\n",
       "      <td>0.949077</td>\n",
       "      <td>2.868782</td>\n",
       "      <td>0.922808</td>\n",
       "      <td>44.464071</td>\n",
       "      <td>...</td>\n",
       "      <td>5.411058</td>\n",
       "      <td>47.758570</td>\n",
       "      <td>4.890228</td>\n",
       "      <td>67.405524</td>\n",
       "      <td>5.510974</td>\n",
       "      <td>34.533396</td>\n",
       "      <td>5.333024</td>\n",
       "      <td>38.347312</td>\n",
       "      <td>5.550498</td>\n",
       "      <td>37.689057</td>\n",
       "    </tr>\n",
       "    <tr>\n",
       "      <th>min</th>\n",
       "      <td>0.000000</td>\n",
       "      <td>0.000000</td>\n",
       "      <td>0.000000</td>\n",
       "      <td>0.000000</td>\n",
       "      <td>0.000000</td>\n",
       "      <td>0.000000</td>\n",
       "      <td>0.000000</td>\n",
       "      <td>0.000000</td>\n",
       "      <td>0.000000</td>\n",
       "      <td>0.003112</td>\n",
       "      <td>...</td>\n",
       "      <td>0.000000</td>\n",
       "      <td>-799.798523</td>\n",
       "      <td>0.000000</td>\n",
       "      <td>-800.836914</td>\n",
       "      <td>-0.372054</td>\n",
       "      <td>-797.323986</td>\n",
       "      <td>0.528083</td>\n",
       "      <td>-800.220337</td>\n",
       "      <td>-0.079426</td>\n",
       "      <td>-809.741464</td>\n",
       "    </tr>\n",
       "    <tr>\n",
       "      <th>25%</th>\n",
       "      <td>4.251240</td>\n",
       "      <td>9.137262</td>\n",
       "      <td>7.722820</td>\n",
       "      <td>43.402215</td>\n",
       "      <td>63.299712</td>\n",
       "      <td>8.062878</td>\n",
       "      <td>2.040119</td>\n",
       "      <td>8.938947</td>\n",
       "      <td>2.461138</td>\n",
       "      <td>114.107029</td>\n",
       "      <td>...</td>\n",
       "      <td>14.975734</td>\n",
       "      <td>-500.704892</td>\n",
       "      <td>11.940294</td>\n",
       "      <td>-500.187742</td>\n",
       "      <td>10.988606</td>\n",
       "      <td>-500.458467</td>\n",
       "      <td>8.971105</td>\n",
       "      <td>-500.129462</td>\n",
       "      <td>14.983037</td>\n",
       "      <td>-500.728067</td>\n",
       "    </tr>\n",
       "    <tr>\n",
       "      <th>50%</th>\n",
       "      <td>5.066094</td>\n",
       "      <td>10.102433</td>\n",
       "      <td>9.218961</td>\n",
       "      <td>45.011244</td>\n",
       "      <td>68.172738</td>\n",
       "      <td>9.743623</td>\n",
       "      <td>2.748730</td>\n",
       "      <td>10.622456</td>\n",
       "      <td>2.984909</td>\n",
       "      <td>143.232103</td>\n",
       "      <td>...</td>\n",
       "      <td>18.017481</td>\n",
       "      <td>-499.837793</td>\n",
       "      <td>14.971014</td>\n",
       "      <td>-499.459786</td>\n",
       "      <td>15.000036</td>\n",
       "      <td>-499.802605</td>\n",
       "      <td>11.019433</td>\n",
       "      <td>-499.935317</td>\n",
       "      <td>19.960541</td>\n",
       "      <td>-500.048400</td>\n",
       "    </tr>\n",
       "    <tr>\n",
       "      <th>75%</th>\n",
       "      <td>5.895527</td>\n",
       "      <td>11.035769</td>\n",
       "      <td>10.947813</td>\n",
       "      <td>46.275313</td>\n",
       "      <td>72.686642</td>\n",
       "      <td>11.134294</td>\n",
       "      <td>3.333216</td>\n",
       "      <td>12.104271</td>\n",
       "      <td>3.571351</td>\n",
       "      <td>175.075656</td>\n",
       "      <td>...</td>\n",
       "      <td>23.012470</td>\n",
       "      <td>-498.249730</td>\n",
       "      <td>19.034162</td>\n",
       "      <td>-400.118106</td>\n",
       "      <td>18.026190</td>\n",
       "      <td>-498.384187</td>\n",
       "      <td>14.019088</td>\n",
       "      <td>-499.436708</td>\n",
       "      <td>24.003170</td>\n",
       "      <td>-499.495378</td>\n",
       "    </tr>\n",
       "    <tr>\n",
       "      <th>max</th>\n",
       "      <td>16.001945</td>\n",
       "      <td>17.031899</td>\n",
       "      <td>19.615720</td>\n",
       "      <td>52.756638</td>\n",
       "      <td>100.000000</td>\n",
       "      <td>19.552149</td>\n",
       "      <td>5.804178</td>\n",
       "      <td>22.317730</td>\n",
       "      <td>8.245022</td>\n",
       "      <td>265.983123</td>\n",
       "      <td>...</td>\n",
       "      <td>30.115735</td>\n",
       "      <td>-245.239184</td>\n",
       "      <td>31.269706</td>\n",
       "      <td>-6.506986</td>\n",
       "      <td>43.709931</td>\n",
       "      <td>-244.483566</td>\n",
       "      <td>27.926001</td>\n",
       "      <td>-137.740004</td>\n",
       "      <td>32.188906</td>\n",
       "      <td>-104.427459</td>\n",
       "    </tr>\n",
       "  </tbody>\n",
       "</table>\n",
       "<p>8 rows × 86 columns</p>\n",
       "</div>"
      ],
      "text/plain": [
       "       final.output.concentrate_ag  final.output.concentrate_pb  \\\n",
       "count                 19438.000000                 19438.000000   \n",
       "mean                      5.168470                     9.978895   \n",
       "std                       1.372348                     1.669240   \n",
       "min                       0.000000                     0.000000   \n",
       "25%                       4.251240                     9.137262   \n",
       "50%                       5.066094                    10.102433   \n",
       "75%                       5.895527                    11.035769   \n",
       "max                      16.001945                    17.031899   \n",
       "\n",
       "       final.output.concentrate_sol  final.output.concentrate_au  \\\n",
       "count                  19228.000000                 19439.000000   \n",
       "mean                       9.501224                    44.076513   \n",
       "std                        2.787537                     5.129784   \n",
       "min                        0.000000                     0.000000   \n",
       "25%                        7.722820                    43.402215   \n",
       "50%                        9.218961                    45.011244   \n",
       "75%                       10.947813                    46.275313   \n",
       "max                       19.615720                    52.756638   \n",
       "\n",
       "       final.output.recovery  final.output.tail_ag  final.output.tail_pb  \\\n",
       "count           19439.000000          19438.000000          19338.000000   \n",
       "mean               67.050208              9.688589              2.705795   \n",
       "std                10.125840              2.328642              0.949077   \n",
       "min                 0.000000              0.000000              0.000000   \n",
       "25%                63.299712              8.062878              2.040119   \n",
       "50%                68.172738              9.743623              2.748730   \n",
       "75%                72.686642             11.134294              3.333216   \n",
       "max               100.000000             19.552149              5.804178   \n",
       "\n",
       "       final.output.tail_sol  final.output.tail_au  \\\n",
       "count           19433.000000          19439.000000   \n",
       "mean               10.583728              3.042467   \n",
       "std                 2.868782              0.922808   \n",
       "min                 0.000000              0.000000   \n",
       "25%                 8.938947              2.461138   \n",
       "50%                10.622456              2.984909   \n",
       "75%                12.104271              3.571351   \n",
       "max                22.317730              8.245022   \n",
       "\n",
       "       primary_cleaner.input.sulfate  ...  \\\n",
       "count                   19415.000000  ...   \n",
       "mean                      144.624774  ...   \n",
       "std                        44.464071  ...   \n",
       "min                         0.003112  ...   \n",
       "25%                       114.107029  ...   \n",
       "50%                       143.232103  ...   \n",
       "75%                       175.075656  ...   \n",
       "max                       265.983123  ...   \n",
       "\n",
       "       secondary_cleaner.state.floatbank4_a_air  \\\n",
       "count                              19433.000000   \n",
       "mean                                  18.987674   \n",
       "std                                    5.411058   \n",
       "min                                    0.000000   \n",
       "25%                                   14.975734   \n",
       "50%                                   18.017481   \n",
       "75%                                   23.012470   \n",
       "max                                   30.115735   \n",
       "\n",
       "       secondary_cleaner.state.floatbank4_a_level  \\\n",
       "count                                19438.000000   \n",
       "mean                                  -485.894516   \n",
       "std                                     47.758570   \n",
       "min                                   -799.798523   \n",
       "25%                                   -500.704892   \n",
       "50%                                   -499.837793   \n",
       "75%                                   -498.249730   \n",
       "max                                   -245.239184   \n",
       "\n",
       "       secondary_cleaner.state.floatbank4_b_air  \\\n",
       "count                              19438.000000   \n",
       "mean                                  15.010366   \n",
       "std                                    4.890228   \n",
       "min                                    0.000000   \n",
       "25%                                   11.940294   \n",
       "50%                                   14.971014   \n",
       "75%                                   19.034162   \n",
       "max                                   31.269706   \n",
       "\n",
       "       secondary_cleaner.state.floatbank4_b_level  \\\n",
       "count                                19438.000000   \n",
       "mean                                  -461.078636   \n",
       "std                                     67.405524   \n",
       "min                                   -800.836914   \n",
       "25%                                   -500.187742   \n",
       "50%                                   -499.459786   \n",
       "75%                                   -400.118106   \n",
       "max                                     -6.506986   \n",
       "\n",
       "       secondary_cleaner.state.floatbank5_a_air  \\\n",
       "count                              19438.000000   \n",
       "mean                                  15.694452   \n",
       "std                                    5.510974   \n",
       "min                                   -0.372054   \n",
       "25%                                   10.988606   \n",
       "50%                                   15.000036   \n",
       "75%                                   18.026190   \n",
       "max                                   43.709931   \n",
       "\n",
       "       secondary_cleaner.state.floatbank5_a_level  \\\n",
       "count                                19438.000000   \n",
       "mean                                  -488.684065   \n",
       "std                                     34.533396   \n",
       "min                                   -797.323986   \n",
       "25%                                   -500.458467   \n",
       "50%                                   -499.802605   \n",
       "75%                                   -498.384187   \n",
       "max                                   -244.483566   \n",
       "\n",
       "       secondary_cleaner.state.floatbank5_b_air  \\\n",
       "count                              19438.000000   \n",
       "mean                                  12.198224   \n",
       "std                                    5.333024   \n",
       "min                                    0.528083   \n",
       "25%                                    8.971105   \n",
       "50%                                   11.019433   \n",
       "75%                                   14.019088   \n",
       "max                                   27.926001   \n",
       "\n",
       "       secondary_cleaner.state.floatbank5_b_level  \\\n",
       "count                                19438.000000   \n",
       "mean                                  -487.149827   \n",
       "std                                     38.347312   \n",
       "min                                   -800.220337   \n",
       "25%                                   -500.129462   \n",
       "50%                                   -499.935317   \n",
       "75%                                   -499.436708   \n",
       "max                                   -137.740004   \n",
       "\n",
       "       secondary_cleaner.state.floatbank6_a_air  \\\n",
       "count                              19437.000000   \n",
       "mean                                  18.959024   \n",
       "std                                    5.550498   \n",
       "min                                   -0.079426   \n",
       "25%                                   14.983037   \n",
       "50%                                   19.960541   \n",
       "75%                                   24.003170   \n",
       "max                                   32.188906   \n",
       "\n",
       "       secondary_cleaner.state.floatbank6_a_level  \n",
       "count                                19438.000000  \n",
       "mean                                  -505.436305  \n",
       "std                                     37.689057  \n",
       "min                                   -809.741464  \n",
       "25%                                   -500.728067  \n",
       "50%                                   -500.048400  \n",
       "75%                                   -499.495378  \n",
       "max                                   -104.427459  \n",
       "\n",
       "[8 rows x 86 columns]"
      ]
     },
     "metadata": {},
     "output_type": "display_data"
    }
   ],
   "source": [
    "datasets = [train, test, full]\n",
    "for dataset in datasets:\n",
    "  display(dataset.describe())"
   ]
  },
  {
   "cell_type": "markdown",
   "metadata": {},
   "source": [
    "**1.2 Проверим, что эффективность обогащения рассчитана правильно**"
   ]
  },
  {
   "cell_type": "code",
   "execution_count": 5,
   "metadata": {},
   "outputs": [],
   "source": [
    "#Вычислим эффективность обогащения на обучающей выборке\n",
    "C = train['rougher.output.concentrate_au']\n",
    "F = train['rougher.input.feed_au']\n",
    "T = train['rougher.output.tail_au']"
   ]
  },
  {
   "cell_type": "code",
   "execution_count": 6,
   "metadata": {},
   "outputs": [
    {
     "data": {
      "text/plain": [
       "82.70450164550293"
      ]
     },
     "execution_count": 6,
     "metadata": {},
     "output_type": "execute_result"
    }
   ],
   "source": [
    "#Cоздадим новый столбец для наших вычислений\n",
    "train['recovery_calc'] = ((C*(F-T))/(F*(C-T)))*100\n",
    "train['recovery_calc'].mean()"
   ]
  },
  {
   "cell_type": "code",
   "execution_count": 7,
   "metadata": {},
   "outputs": [
    {
     "data": {
      "text/plain": [
       "82.70450164550293"
      ]
     },
     "execution_count": 7,
     "metadata": {},
     "output_type": "execute_result"
    }
   ],
   "source": [
    "#Cравним с прзнаком rougher.output.recovery\n",
    "train['rougher.output.recovery'].mean()"
   ]
  },
  {
   "cell_type": "markdown",
   "metadata": {},
   "source": [
    "Значения нашего расчета равны с признаком 'rougher.output.recovery'. Поэтому можно предположить, что эффективность обогащения расчитана правильно."
   ]
  },
  {
   "cell_type": "markdown",
   "metadata": {},
   "source": [
    "Проверим наше предположение при помощи (MAE). Найдем среднюю абсолютную ошибку между нашими расчётами и значением признака."
   ]
  },
  {
   "cell_type": "code",
   "execution_count": 8,
   "metadata": {},
   "outputs": [
    {
     "name": "stdout",
     "output_type": "stream",
     "text": [
      "9.73512347450521e-15\n"
     ]
    }
   ],
   "source": [
    "print(mean_absolute_error(train['recovery_calc'], train['rougher.output.recovery']))"
   ]
  },
  {
   "cell_type": "markdown",
   "metadata": {},
   "source": [
    "Значение MAE близко к нулю, поэтому можно утверждать что расчеты верны."
   ]
  },
  {
   "cell_type": "code",
   "execution_count": 9,
   "metadata": {},
   "outputs": [],
   "source": [
    "#Удалим столбец\n",
    "train.drop('recovery_calc', axis=1, inplace=True)"
   ]
  },
  {
   "cell_type": "markdown",
   "metadata": {},
   "source": [
    "**1.3. Проанализируем признаки, недоступные в тестовой выборке. Что это за параметры? К какому типу относятся?**"
   ]
  },
  {
   "cell_type": "code",
   "execution_count": 10,
   "metadata": {
    "scrolled": true
   },
   "outputs": [
    {
     "data": {
      "text/plain": [
       "Index(['final.output.concentrate_ag', 'final.output.concentrate_au',\n",
       "       'final.output.concentrate_pb', 'final.output.concentrate_sol',\n",
       "       'final.output.recovery', 'final.output.tail_ag', 'final.output.tail_au',\n",
       "       'final.output.tail_pb', 'final.output.tail_sol',\n",
       "       'primary_cleaner.output.concentrate_ag',\n",
       "       'primary_cleaner.output.concentrate_au',\n",
       "       'primary_cleaner.output.concentrate_pb',\n",
       "       'primary_cleaner.output.concentrate_sol',\n",
       "       'primary_cleaner.output.tail_ag', 'primary_cleaner.output.tail_au',\n",
       "       'primary_cleaner.output.tail_pb', 'primary_cleaner.output.tail_sol',\n",
       "       'rougher.calculation.au_pb_ratio',\n",
       "       'rougher.calculation.floatbank10_sulfate_to_au_feed',\n",
       "       'rougher.calculation.floatbank11_sulfate_to_au_feed',\n",
       "       'rougher.calculation.sulfate_to_au_concentrate',\n",
       "       'rougher.output.concentrate_ag', 'rougher.output.concentrate_au',\n",
       "       'rougher.output.concentrate_pb', 'rougher.output.concentrate_sol',\n",
       "       'rougher.output.recovery', 'rougher.output.tail_ag',\n",
       "       'rougher.output.tail_au', 'rougher.output.tail_pb',\n",
       "       'rougher.output.tail_sol', 'secondary_cleaner.output.tail_ag',\n",
       "       'secondary_cleaner.output.tail_au', 'secondary_cleaner.output.tail_pb',\n",
       "       'secondary_cleaner.output.tail_sol'],\n",
       "      dtype='object')"
      ]
     },
     "execution_count": 10,
     "metadata": {},
     "output_type": "execute_result"
    }
   ],
   "source": [
    "train.columns.difference(test.columns)"
   ]
  },
  {
   "cell_type": "markdown",
   "metadata": {},
   "source": [
    "От сюда следует что в тестовой выборке отсутствуют признаки которые относятся к вторичным стадиям обогащения, параметры продуктов, расчетные характеристики, относящиеся к разным этапам(final.output, primary_cleaner.output, rougher.calculations, rougher.output, secondary_cleaner.output)"
   ]
  },
  {
   "cell_type": "markdown",
   "metadata": {},
   "source": [
    "**1.4. Проведем предобработку данных.**"
   ]
  },
  {
   "cell_type": "code",
   "execution_count": 11,
   "metadata": {
    "scrolled": true
   },
   "outputs": [
    {
     "data": {
      "text/plain": [
       "date                                            0\n",
       "final.output.concentrate_ag                     1\n",
       "final.output.concentrate_pb                     1\n",
       "final.output.concentrate_sol                  211\n",
       "final.output.concentrate_au                     0\n",
       "                                             ... \n",
       "secondary_cleaner.state.floatbank5_a_level      1\n",
       "secondary_cleaner.state.floatbank5_b_air        1\n",
       "secondary_cleaner.state.floatbank5_b_level      1\n",
       "secondary_cleaner.state.floatbank6_a_air        2\n",
       "secondary_cleaner.state.floatbank6_a_level      1\n",
       "Length: 87, dtype: int64"
      ]
     },
     "metadata": {},
     "output_type": "display_data"
    },
    {
     "data": {
      "text/plain": [
       "date                                           0\n",
       "primary_cleaner.input.sulfate                  4\n",
       "primary_cleaner.input.depressant               5\n",
       "primary_cleaner.input.feed_size                0\n",
       "primary_cleaner.input.xanthate                 4\n",
       "primary_cleaner.state.floatbank8_a_air         0\n",
       "primary_cleaner.state.floatbank8_a_level       0\n",
       "primary_cleaner.state.floatbank8_b_air         0\n",
       "primary_cleaner.state.floatbank8_b_level       0\n",
       "primary_cleaner.state.floatbank8_c_air         0\n",
       "primary_cleaner.state.floatbank8_c_level       0\n",
       "primary_cleaner.state.floatbank8_d_air         0\n",
       "primary_cleaner.state.floatbank8_d_level       0\n",
       "rougher.input.feed_ag                          0\n",
       "rougher.input.feed_pb                          0\n",
       "rougher.input.feed_rate                        3\n",
       "rougher.input.feed_size                        1\n",
       "rougher.input.feed_sol                        21\n",
       "rougher.input.feed_au                          0\n",
       "rougher.input.floatbank10_sulfate              5\n",
       "rougher.input.floatbank10_xanthate             0\n",
       "rougher.input.floatbank11_sulfate              8\n",
       "rougher.input.floatbank11_xanthate            25\n",
       "rougher.state.floatbank10_a_air                0\n",
       "rougher.state.floatbank10_a_level              0\n",
       "rougher.state.floatbank10_b_air                0\n",
       "rougher.state.floatbank10_b_level              0\n",
       "rougher.state.floatbank10_c_air                0\n",
       "rougher.state.floatbank10_c_level              0\n",
       "rougher.state.floatbank10_d_air                0\n",
       "rougher.state.floatbank10_d_level              0\n",
       "rougher.state.floatbank10_e_air                0\n",
       "rougher.state.floatbank10_e_level              0\n",
       "rougher.state.floatbank10_f_air                0\n",
       "rougher.state.floatbank10_f_level              0\n",
       "secondary_cleaner.state.floatbank2_a_air       3\n",
       "secondary_cleaner.state.floatbank2_a_level     0\n",
       "secondary_cleaner.state.floatbank2_b_air       2\n",
       "secondary_cleaner.state.floatbank2_b_level     0\n",
       "secondary_cleaner.state.floatbank3_a_air       9\n",
       "secondary_cleaner.state.floatbank3_a_level     0\n",
       "secondary_cleaner.state.floatbank3_b_air       0\n",
       "secondary_cleaner.state.floatbank3_b_level     0\n",
       "secondary_cleaner.state.floatbank4_a_air       0\n",
       "secondary_cleaner.state.floatbank4_a_level     0\n",
       "secondary_cleaner.state.floatbank4_b_air       0\n",
       "secondary_cleaner.state.floatbank4_b_level     0\n",
       "secondary_cleaner.state.floatbank5_a_air       0\n",
       "secondary_cleaner.state.floatbank5_a_level     0\n",
       "secondary_cleaner.state.floatbank5_b_air       0\n",
       "secondary_cleaner.state.floatbank5_b_level     0\n",
       "secondary_cleaner.state.floatbank6_a_air       0\n",
       "secondary_cleaner.state.floatbank6_a_level     0\n",
       "dtype: int64"
      ]
     },
     "metadata": {},
     "output_type": "display_data"
    },
    {
     "data": {
      "text/plain": [
       "date                                            0\n",
       "final.output.concentrate_ag                     1\n",
       "final.output.concentrate_pb                     1\n",
       "final.output.concentrate_sol                  211\n",
       "final.output.concentrate_au                     0\n",
       "                                             ... \n",
       "secondary_cleaner.state.floatbank5_a_level      1\n",
       "secondary_cleaner.state.floatbank5_b_air        1\n",
       "secondary_cleaner.state.floatbank5_b_level      1\n",
       "secondary_cleaner.state.floatbank6_a_air        2\n",
       "secondary_cleaner.state.floatbank6_a_level      1\n",
       "Length: 87, dtype: int64"
      ]
     },
     "metadata": {},
     "output_type": "display_data"
    }
   ],
   "source": [
    "#Проверим данные на пропуски\n",
    "for dataset in datasets:\n",
    "  display(dataset.isna().sum())"
   ]
  },
  {
   "cell_type": "markdown",
   "metadata": {},
   "source": [
    "Заполним пропуски соответствующими значениями в следующем ряду методом ffill."
   ]
  },
  {
   "cell_type": "code",
   "execution_count": 12,
   "metadata": {},
   "outputs": [],
   "source": [
    "for dataset in datasets:\n",
    "  dataset.ffill(axis='rows', inplace=True)"
   ]
  },
  {
   "cell_type": "code",
   "execution_count": 13,
   "metadata": {
    "scrolled": true
   },
   "outputs": [
    {
     "data": {
      "text/plain": [
       "date                                          0\n",
       "final.output.concentrate_ag                   0\n",
       "final.output.concentrate_pb                   0\n",
       "final.output.concentrate_sol                  0\n",
       "final.output.concentrate_au                   0\n",
       "                                             ..\n",
       "secondary_cleaner.state.floatbank5_a_level    0\n",
       "secondary_cleaner.state.floatbank5_b_air      0\n",
       "secondary_cleaner.state.floatbank5_b_level    0\n",
       "secondary_cleaner.state.floatbank6_a_air      0\n",
       "secondary_cleaner.state.floatbank6_a_level    0\n",
       "Length: 87, dtype: int64"
      ]
     },
     "metadata": {},
     "output_type": "display_data"
    },
    {
     "data": {
      "text/plain": [
       "date                                          0\n",
       "primary_cleaner.input.sulfate                 0\n",
       "primary_cleaner.input.depressant              0\n",
       "primary_cleaner.input.feed_size               0\n",
       "primary_cleaner.input.xanthate                0\n",
       "primary_cleaner.state.floatbank8_a_air        0\n",
       "primary_cleaner.state.floatbank8_a_level      0\n",
       "primary_cleaner.state.floatbank8_b_air        0\n",
       "primary_cleaner.state.floatbank8_b_level      0\n",
       "primary_cleaner.state.floatbank8_c_air        0\n",
       "primary_cleaner.state.floatbank8_c_level      0\n",
       "primary_cleaner.state.floatbank8_d_air        0\n",
       "primary_cleaner.state.floatbank8_d_level      0\n",
       "rougher.input.feed_ag                         0\n",
       "rougher.input.feed_pb                         0\n",
       "rougher.input.feed_rate                       0\n",
       "rougher.input.feed_size                       0\n",
       "rougher.input.feed_sol                        0\n",
       "rougher.input.feed_au                         0\n",
       "rougher.input.floatbank10_sulfate             0\n",
       "rougher.input.floatbank10_xanthate            0\n",
       "rougher.input.floatbank11_sulfate             0\n",
       "rougher.input.floatbank11_xanthate            0\n",
       "rougher.state.floatbank10_a_air               0\n",
       "rougher.state.floatbank10_a_level             0\n",
       "rougher.state.floatbank10_b_air               0\n",
       "rougher.state.floatbank10_b_level             0\n",
       "rougher.state.floatbank10_c_air               0\n",
       "rougher.state.floatbank10_c_level             0\n",
       "rougher.state.floatbank10_d_air               0\n",
       "rougher.state.floatbank10_d_level             0\n",
       "rougher.state.floatbank10_e_air               0\n",
       "rougher.state.floatbank10_e_level             0\n",
       "rougher.state.floatbank10_f_air               0\n",
       "rougher.state.floatbank10_f_level             0\n",
       "secondary_cleaner.state.floatbank2_a_air      0\n",
       "secondary_cleaner.state.floatbank2_a_level    0\n",
       "secondary_cleaner.state.floatbank2_b_air      0\n",
       "secondary_cleaner.state.floatbank2_b_level    0\n",
       "secondary_cleaner.state.floatbank3_a_air      0\n",
       "secondary_cleaner.state.floatbank3_a_level    0\n",
       "secondary_cleaner.state.floatbank3_b_air      0\n",
       "secondary_cleaner.state.floatbank3_b_level    0\n",
       "secondary_cleaner.state.floatbank4_a_air      0\n",
       "secondary_cleaner.state.floatbank4_a_level    0\n",
       "secondary_cleaner.state.floatbank4_b_air      0\n",
       "secondary_cleaner.state.floatbank4_b_level    0\n",
       "secondary_cleaner.state.floatbank5_a_air      0\n",
       "secondary_cleaner.state.floatbank5_a_level    0\n",
       "secondary_cleaner.state.floatbank5_b_air      0\n",
       "secondary_cleaner.state.floatbank5_b_level    0\n",
       "secondary_cleaner.state.floatbank6_a_air      0\n",
       "secondary_cleaner.state.floatbank6_a_level    0\n",
       "dtype: int64"
      ]
     },
     "metadata": {},
     "output_type": "display_data"
    },
    {
     "data": {
      "text/plain": [
       "date                                          0\n",
       "final.output.concentrate_ag                   0\n",
       "final.output.concentrate_pb                   0\n",
       "final.output.concentrate_sol                  0\n",
       "final.output.concentrate_au                   0\n",
       "                                             ..\n",
       "secondary_cleaner.state.floatbank5_a_level    0\n",
       "secondary_cleaner.state.floatbank5_b_air      0\n",
       "secondary_cleaner.state.floatbank5_b_level    0\n",
       "secondary_cleaner.state.floatbank6_a_air      0\n",
       "secondary_cleaner.state.floatbank6_a_level    0\n",
       "Length: 87, dtype: int64"
      ]
     },
     "metadata": {},
     "output_type": "display_data"
    }
   ],
   "source": [
    "#Проверим наличие пропусков после обработки\n",
    "for dataset in datasets:\n",
    "  display(dataset.isna().sum())"
   ]
  },
  {
   "cell_type": "code",
   "execution_count": 14,
   "metadata": {},
   "outputs": [
    {
     "data": {
      "text/plain": [
       "0"
      ]
     },
     "metadata": {},
     "output_type": "display_data"
    },
    {
     "data": {
      "text/plain": [
       "0"
      ]
     },
     "metadata": {},
     "output_type": "display_data"
    },
    {
     "data": {
      "text/plain": [
       "0"
      ]
     },
     "metadata": {},
     "output_type": "display_data"
    }
   ],
   "source": [
    "#Проверим данные на наличие дубликатов\n",
    "for dataset in datasets:\n",
    "  display(dataset.duplicated().sum())"
   ]
  },
  {
   "cell_type": "markdown",
   "metadata": {},
   "source": [
    "Дубликатов не обнаружено"
   ]
  },
  {
   "cell_type": "markdown",
   "metadata": {},
   "source": [
    "## Анализ данных"
   ]
  },
  {
   "cell_type": "markdown",
   "metadata": {},
   "source": [
    "**2.1. Посмотрим, как меняется концентрация металлов (Au, Ag, Pb) на различных этапах очистки. Опишем выводы.**"
   ]
  },
  {
   "cell_type": "code",
   "execution_count": 15,
   "metadata": {},
   "outputs": [],
   "source": [
    "#фильтруем даные серебра\n",
    "data_ag = full[['rougher.input.feed_ag', 'rougher.output.concentrate_ag', \n",
    "              'primary_cleaner.output.concentrate_ag', \n",
    "              'final.output.concentrate_ag']]\n",
    "#изменим названия колонок для удобства чтения\n",
    "data_ag = data_ag.rename(columns={'rougher.input.feed_ag': 'input', 'rougher.output.concentrate_ag': 'rougher', \n",
    "                              'primary_cleaner.output.concentrate_ag': 'primary_cleaner', \n",
    "                              'final.output.concentrate_ag': 'final'})"
   ]
  },
  {
   "cell_type": "code",
   "execution_count": 16,
   "metadata": {},
   "outputs": [],
   "source": [
    "#фильтруем даные свинца\n",
    "data_pb = full[['rougher.input.feed_pb', 'rougher.output.concentrate_pb', \n",
    "              'primary_cleaner.output.concentrate_pb', \n",
    "              'final.output.concentrate_pb']]\n",
    "#изменим названия колонок для удобства чтения\n",
    "data_pb = data_pb.rename(columns={'rougher.input.feed_pb': 'input', 'rougher.output.concentrate_pb': 'rougher', \n",
    "                              'primary_cleaner.output.concentrate_pb': 'primary_cleaner', \n",
    "                              'final.output.concentrate_pb': 'final'})"
   ]
  },
  {
   "cell_type": "code",
   "execution_count": 17,
   "metadata": {},
   "outputs": [],
   "source": [
    "#фильтруем даные золота\n",
    "data_au = full[['rougher.input.feed_au', 'rougher.output.concentrate_au', \n",
    "              'primary_cleaner.output.concentrate_au', \n",
    "              'final.output.concentrate_au']]\n",
    "#изменим названия колонок для удобства чтения\n",
    "data_au = data_au.rename(columns={'rougher.input.feed_au': 'input', 'rougher.output.concentrate_au': 'rougher', \n",
    "                              'primary_cleaner.output.concentrate_au': 'primary_cleaner', \n",
    "                              'final.output.concentrate_au': 'final'})"
   ]
  },
  {
   "cell_type": "code",
   "execution_count": 18,
   "metadata": {},
   "outputs": [
    {
     "data": {
      "image/png": "[encoded data removed]",
      "text/plain": [
       "<Figure size 1584x432 with 3 Axes>"
      ]
     },
     "metadata": {
      "needs_background": "light"
     },
     "output_type": "display_data"
    }
   ],
   "source": [
    "#построим графики изменения концентрации металлов на различных этапах очистки.\n",
    "fig, (ax1, ax2, ax3) = plt.subplots(1, 3, figsize=(22, 6))\n",
    "\n",
    "data_ag.mean().plot(ax=ax1, subplots=True, fontsize=12)\n",
    "ax1.set_title('Ag', fontsize=16)\n",
    "ax1.set_ylabel('concentrate', fontsize=14)\n",
    "ax1.set_xlabel('cleaning stages', fontsize=14)\n",
    "\n",
    "data_pb.mean().plot(ax=ax2, subplots=True, fontsize=12)\n",
    "ax2.set_title('Pb', fontsize=16)\n",
    "ax2.set_ylabel('concentrate', fontsize=14)\n",
    "ax2.set_xlabel('cleaning stages', fontsize=14)\n",
    "\n",
    "data_au.mean().plot(ax=ax3, subplots=True, fontsize=12)\n",
    "ax3.set_title('Au', fontsize=16)\n",
    "ax3.set_ylabel('concentrate', fontsize=14)\n",
    "ax3.set_xlabel('cleaning stages', fontsize=14)\n",
    "\n",
    "\n",
    "plt.show()"
   ]
  },
  {
   "cell_type": "markdown",
   "metadata": {},
   "source": [
    "Из графиков мы видим:\n",
    "\n",
    "Количество серебра в отвалах резко повышается после флотации. Далее уменьшается на каждом этапе очистки.\n",
    "\n",
    "Свинец резко повышает свою концентрацию на этапе флотации - первичной очистки, а потом идет плавное и не значительное повышение концентрации на этапе финальной очистки.\n",
    "\n",
    "Золото возрастает прямопропорционально с каждым этапом очистки"
   ]
  },
  {
   "cell_type": "markdown",
   "metadata": {},
   "source": [
    "**2.2. Сравним распределения размеров гранул сырья на обучающей и тестовой выборках.**"
   ]
  },
  {
   "cell_type": "code",
   "execution_count": 19,
   "metadata": {},
   "outputs": [
    {
     "data": {
      "image/png": "[encoded data removed]",
      "text/plain": [
       "<Figure size 648x288 with 1 Axes>"
      ]
     },
     "metadata": {
      "needs_background": "light"
     },
     "output_type": "display_data"
    },
    {
     "data": {
      "image/png": "[encoded data removed]",
      "text/plain": [
       "<Figure size 648x288 with 1 Axes>"
      ]
     },
     "metadata": {
      "needs_background": "light"
     },
     "output_type": "display_data"
    }
   ],
   "source": [
    "for stage in ['rougher', 'primary_cleaner']:\n",
    "    \n",
    "    fig = plt.figure(figsize=(9, 4), tight_layout=True)\n",
    "    fig.suptitle(f'Распределение размера гранул сырья на этапе {stage}')\n",
    "    column = stage + '.input.feed_size'\n",
    "\n",
    "    sns.distplot(train[column], kde=True, hist=False)\n",
    "    sns.distplot(test[column], kde=True, hist=False)\n",
    "    \n",
    "    plt.legend(['Обучающая', 'Тестовая'], loc='best')\n",
    "    plt.xlabel('Размер гранул мм')\n",
    "    plt.ylabel('Плотность')"
   ]
  },
  {
   "cell_type": "markdown",
   "metadata": {},
   "source": [
    "Видим, что распределения размера гранул сырья на этапах в обучающей и тестовой выборках статистически значимо не различаются."
   ]
  },
  {
   "cell_type": "markdown",
   "metadata": {},
   "source": [
    "**2.3 Исследуем суммарную концентрацию всех веществ на разных стадиях: в сырье, в черновом и финальном концентратах.**"
   ]
  },
  {
   "cell_type": "code",
   "execution_count": 20,
   "metadata": {},
   "outputs": [],
   "source": [
    "#Найдем суммарную концентрацию металлов (ag, pb, sol, au) в сырье\n",
    "sum_r_feed = full[['rougher.input.feed_ag', \n",
    "                   'rougher.input.feed_pb', \n",
    "                   'rougher.input.feed_sol', \n",
    "                   'rougher.input.feed_au']].sum(axis=1)"
   ]
  },
  {
   "cell_type": "code",
   "execution_count": 21,
   "metadata": {},
   "outputs": [
    {
     "data": {
      "text/plain": [
       "0    51.680034\n",
       "1    50.659114\n",
       "2    50.609929\n",
       "3    51.061546\n",
       "4    47.859163\n",
       "dtype: float64"
      ]
     },
     "execution_count": 21,
     "metadata": {},
     "output_type": "execute_result"
    }
   ],
   "source": [
    "sum_r_feed.head()"
   ]
  },
  {
   "cell_type": "code",
   "execution_count": 22,
   "metadata": {},
   "outputs": [
    {
     "data": {
      "text/plain": [
       "Text(0.5, 1.0, 'Суммарная концентрация металлов в сырье')"
      ]
     },
     "execution_count": 22,
     "metadata": {},
     "output_type": "execute_result"
    },
    {
     "data": {
      "image/png": "[encoded data removed]",
      "text/plain": [
       "<Figure size 1152x576 with 1 Axes>"
      ]
     },
     "metadata": {
      "needs_background": "light"
     },
     "output_type": "display_data"
    }
   ],
   "source": [
    "#Построим гистограмму для суммарной концентрации металлов в сырье\n",
    "plt.subplots(figsize = (16,8))\n",
    "sns.histplot(sum_r_feed, fill=True, bins=300, palette='coolwarm')\n",
    "plt.title('Суммарная концентрация металлов в сырье')"
   ]
  },
  {
   "cell_type": "code",
   "execution_count": 23,
   "metadata": {},
   "outputs": [],
   "source": [
    "#Найдем суммарную концентрацию металлов (ag, pb, sol, au) в черновом концентрате\n",
    "sum_r_conc = full[['rougher.output.concentrate_pb', \n",
    "                   'rougher.output.concentrate_ag', \n",
    "                   'rougher.output.concentrate_sol', \n",
    "                   'rougher.output.concentrate_au']].sum(axis=1)"
   ]
  },
  {
   "cell_type": "code",
   "execution_count": 24,
   "metadata": {},
   "outputs": [
    {
     "data": {
      "text/plain": [
       "Text(0.5, 1.0, 'Суммарная концентрация металлов в черновом концентрате')"
      ]
     },
     "execution_count": 24,
     "metadata": {},
     "output_type": "execute_result"
    },
    {
     "data": {
      "image/png": "[encoded data removed]",
      "text/plain": [
       "<Figure size 1152x576 with 1 Axes>"
      ]
     },
     "metadata": {
      "needs_background": "light"
     },
     "output_type": "display_data"
    }
   ],
   "source": [
    "#Построим гистограмму для суммарной концентрации металлов в черновом концентрате\n",
    "plt.subplots(figsize = (16,8))\n",
    "sns.histplot(sum_r_conc, fill=True, bins=300, palette='coolwarm')\n",
    "plt.title('Суммарная концентрация металлов в черновом концентрате')"
   ]
  },
  {
   "cell_type": "code",
   "execution_count": 25,
   "metadata": {},
   "outputs": [],
   "source": [
    "#Найдем суммарную концентрацию металлов (ag, pb, sol, au) в финальном концентрате\n",
    "sum_fin_conc = full[['final.output.concentrate_pb', \n",
    "                   'final.output.concentrate_ag', \n",
    "                   'final.output.concentrate_sol', \n",
    "                   'final.output.concentrate_au']].sum(axis=1)"
   ]
  },
  {
   "cell_type": "code",
   "execution_count": 26,
   "metadata": {},
   "outputs": [
    {
     "data": {
      "text/plain": [
       "Text(0.5, 1.0, 'Суммарная концентрация металлов в финальном концентрате')"
      ]
     },
     "execution_count": 26,
     "metadata": {},
     "output_type": "execute_result"
    },
    {
     "data": {
      "image/png": "[encoded data removed]",
      "text/plain": [
       "<Figure size 1152x576 with 1 Axes>"
      ]
     },
     "metadata": {
      "needs_background": "light"
     },
     "output_type": "display_data"
    }
   ],
   "source": [
    "#Построим гистограмму для суммарной концентрации металлов в финальном концентрате\n",
    "plt.subplots(figsize = (16,8))\n",
    "sns.histplot(sum_fin_conc, fill=True, bins=300, palette='coolwarm')\n",
    "plt.title('Суммарная концентрация металлов в финальном концентрате')"
   ]
  },
  {
   "cell_type": "markdown",
   "metadata": {},
   "source": [
    "Во всех стадиях присутствуют аномальные нулевые значения суммарной концетрации. Мы могли бы их удалить, но поскольку в тестовой выборке содержатся только признаки для сырья в которых почти нет аномалий, это не имеет большого смысла."
   ]
  },
  {
   "cell_type": "markdown",
   "metadata": {},
   "source": [
    "Удалим аномальные значения "
   ]
  },
  {
   "cell_type": "code",
   "execution_count": 27,
   "metadata": {},
   "outputs": [
    {
     "data": {
      "text/plain": [
       "(14149, 87)"
      ]
     },
     "execution_count": 27,
     "metadata": {},
     "output_type": "execute_result"
    }
   ],
   "source": [
    "train.shape"
   ]
  },
  {
   "cell_type": "code",
   "execution_count": 28,
   "metadata": {},
   "outputs": [],
   "source": [
    "train = train[(train['rougher.output.concentrate_au'] != 0) & (train['rougher.output.concentrate_ag'] != 0) & (train['rougher.output.concentrate_pb'] != 0) & (train['rougher.output.concentrate_sol'] != 0)]\n",
    "train = train[(train['final.output.concentrate_au'] != 0) & (train['final.output.concentrate_ag'] != 0) & (train['final.output.concentrate_pb'] != 0) & (train['final.output.concentrate_sol'] != 0)]\n"
   ]
  },
  {
   "cell_type": "code",
   "execution_count": 29,
   "metadata": {},
   "outputs": [
    {
     "data": {
      "text/plain": [
       "(13792, 87)"
      ]
     },
     "execution_count": 29,
     "metadata": {},
     "output_type": "execute_result"
    }
   ],
   "source": [
    "train.shape"
   ]
  },
  {
   "cell_type": "markdown",
   "metadata": {},
   "source": [
    "## Модель"
   ]
  },
  {
   "cell_type": "code",
   "execution_count": 30,
   "metadata": {},
   "outputs": [
    {
     "data": {
      "text/html": [
       "<div>\n",
       "<style scoped>\n",
       "    .dataframe tbody tr th:only-of-type {\n",
       "        vertical-align: middle;\n",
       "    }\n",
       "\n",
       "    .dataframe tbody tr th {\n",
       "        vertical-align: top;\n",
       "    }\n",
       "\n",
       "    .dataframe thead th {\n",
       "        text-align: right;\n",
       "    }\n",
       "</style>\n",
       "<table border=\"1\" class=\"dataframe\">\n",
       "  <thead>\n",
       "    <tr style=\"text-align: right;\">\n",
       "      <th></th>\n",
       "      <th>date</th>\n",
       "      <th>rougher.output.recovery</th>\n",
       "      <th>final.output.recovery</th>\n",
       "    </tr>\n",
       "  </thead>\n",
       "  <tbody>\n",
       "    <tr>\n",
       "      <th>0</th>\n",
       "      <td>2016-01-15 00:00:00</td>\n",
       "      <td>87.107763</td>\n",
       "      <td>70.541216</td>\n",
       "    </tr>\n",
       "    <tr>\n",
       "      <th>1</th>\n",
       "      <td>2016-01-15 01:00:00</td>\n",
       "      <td>86.843261</td>\n",
       "      <td>69.266198</td>\n",
       "    </tr>\n",
       "    <tr>\n",
       "      <th>2</th>\n",
       "      <td>2016-01-15 02:00:00</td>\n",
       "      <td>86.842308</td>\n",
       "      <td>68.116445</td>\n",
       "    </tr>\n",
       "    <tr>\n",
       "      <th>3</th>\n",
       "      <td>2016-01-15 03:00:00</td>\n",
       "      <td>87.226430</td>\n",
       "      <td>68.347543</td>\n",
       "    </tr>\n",
       "    <tr>\n",
       "      <th>4</th>\n",
       "      <td>2016-01-15 04:00:00</td>\n",
       "      <td>86.688794</td>\n",
       "      <td>66.927016</td>\n",
       "    </tr>\n",
       "  </tbody>\n",
       "</table>\n",
       "</div>"
      ],
      "text/plain": [
       "                  date  rougher.output.recovery  final.output.recovery\n",
       "0  2016-01-15 00:00:00                87.107763              70.541216\n",
       "1  2016-01-15 01:00:00                86.843261              69.266198\n",
       "2  2016-01-15 02:00:00                86.842308              68.116445\n",
       "3  2016-01-15 03:00:00                87.226430              68.347543\n",
       "4  2016-01-15 04:00:00                86.688794              66.927016"
      ]
     },
     "execution_count": 30,
     "metadata": {},
     "output_type": "execute_result"
    }
   ],
   "source": [
    "#Создадим датасет для целевых признаков, которых нет в тестовой выборке\n",
    "data_target = full[['date', 'rougher.output.recovery', 'final.output.recovery']]\n",
    "data_target.head()"
   ]
  },
  {
   "cell_type": "code",
   "execution_count": 31,
   "metadata": {},
   "outputs": [],
   "source": [
    "#Добавим их в тестовую выборку из полной\n",
    "test = test.merge(data_target, how = 'left', on = 'date')"
   ]
  },
  {
   "cell_type": "code",
   "execution_count": 32,
   "metadata": {},
   "outputs": [],
   "source": [
    "#Удалим столбец с датой и признаки которых нет в тестовой\n",
    "test.drop(['date'], axis=1, inplace=True)\n",
    "train = train.drop(set(train.columns)-set(test.columns), axis=1)"
   ]
  },
  {
   "cell_type": "markdown",
   "metadata": {},
   "source": [
    "**3.1 Напишем функцию для вычисления итоговой sMAPE**"
   ]
  },
  {
   "cell_type": "code",
   "execution_count": 33,
   "metadata": {},
   "outputs": [],
   "source": [
    "def get_smape(target, predict):\n",
    "    smape = (1/len(target))*np.sum((np.abs(target - predict))/( (np.abs(target)+np.abs(predict))/2))*100\n",
    "    return smape"
   ]
  },
  {
   "cell_type": "code",
   "execution_count": 34,
   "metadata": {},
   "outputs": [],
   "source": [
    "smape_scorer = make_scorer(get_smape, greater_is_better = False)"
   ]
  },
  {
   "cell_type": "code",
   "execution_count": 35,
   "metadata": {},
   "outputs": [],
   "source": [
    "def get_final_smape(rougher, final):\n",
    "    final = 0.25*rougher+0.75*final\n",
    "    return final"
   ]
  },
  {
   "cell_type": "code",
   "execution_count": 36,
   "metadata": {},
   "outputs": [],
   "source": [
    "#Выделим признаки на тренировочной выборке для чернового концентрата (rougher)\n",
    "features_train_rough = train.filter(regex='^rougher',axis=1)\n",
    "features_train_rough = features_train_rough.drop(['rougher.output.recovery'], axis=1)\n",
    "target_train_rough = train['rougher.output.recovery']\n",
    "\n",
    "#Выделим признаки на тренировочной выборке для финального концентрата (final)\n",
    "features_train_fin = train.drop(['rougher.output.recovery', 'final.output.recovery'], axis=1)\n",
    "target_train_fin = train['final.output.recovery']\n",
    "\n",
    "#Выделим признаки на тестовой выборке для чернового концентрата (rougher)\n",
    "features_test_rough = test.filter(regex='^rougher',axis=1)\n",
    "features_test_rough = features_test_rough.drop(['rougher.output.recovery'], axis=1)\n",
    "target_test_rough = test['rougher.output.recovery']\n",
    "\n",
    "#Выделим признаки на тестовой выборке для финального концентрата (final)\n",
    "features_test_fin = test.drop(['rougher.output.recovery', 'final.output.recovery'], axis=1)\n",
    "target_test_fin = test['final.output.recovery']"
   ]
  },
  {
   "cell_type": "code",
   "execution_count": 37,
   "metadata": {},
   "outputs": [
    {
     "name": "stdout",
     "output_type": "stream",
     "text": [
      "Размер features_train_rough: (13792, 22)\n",
      "Размер target_train_rough: (13792,)\n",
      "Размер features_train_fin: (13792, 52)\n",
      "Размер target_train_fin: (13792,)\n",
      "Размер features_test_rough: (5290, 22)\n",
      "Размер target_test_rough: (5290,)\n",
      "Размер features_test_fin: (5290, 52)\n",
      "Размер target_test_fin: (5290,)\n"
     ]
    }
   ],
   "source": [
    "print('Размер features_train_rough:', features_train_rough.shape)\n",
    "print('Размер target_train_rough:', target_train_rough.shape)\n",
    "\n",
    "print('Размер features_train_fin:', features_train_fin.shape)\n",
    "print('Размер target_train_fin:', target_train_fin.shape)\n",
    "\n",
    "print('Размер features_test_rough:', features_test_rough.shape)\n",
    "print('Размер target_test_rough:', target_test_rough.shape)\n",
    "\n",
    "print('Размер features_test_fin:', features_test_fin.shape)\n",
    "print('Размер target_test_fin:', target_test_fin.shape)"
   ]
  },
  {
   "cell_type": "markdown",
   "metadata": {},
   "source": [
    "**3.2. Обучим разные модели и оценим их качество кросс-валидацией. Выберем лучшую модель и проверим её на тестовой выборке. Опишем выводы.**"
   ]
  },
  {
   "cell_type": "code",
   "execution_count": 38,
   "metadata": {},
   "outputs": [],
   "source": [
    "#Проведем стандартизацию\n",
    "feature_scaler = StandardScaler()\n",
    "features_train_rough = feature_scaler.fit_transform(features_train_rough)\n",
    "features_test_rough = feature_scaler.transform(features_test_rough)"
   ]
  },
  {
   "cell_type": "code",
   "execution_count": 39,
   "metadata": {},
   "outputs": [
    {
     "data": {
      "text/html": [
       "<div>\n",
       "<style scoped>\n",
       "    .dataframe tbody tr th:only-of-type {\n",
       "        vertical-align: middle;\n",
       "    }\n",
       "\n",
       "    .dataframe tbody tr th {\n",
       "        vertical-align: top;\n",
       "    }\n",
       "\n",
       "    .dataframe thead th {\n",
       "        text-align: right;\n",
       "    }\n",
       "</style>\n",
       "<table border=\"1\" class=\"dataframe\">\n",
       "  <thead>\n",
       "    <tr style=\"text-align: right;\">\n",
       "      <th></th>\n",
       "      <th>0</th>\n",
       "      <th>1</th>\n",
       "      <th>2</th>\n",
       "      <th>3</th>\n",
       "      <th>4</th>\n",
       "      <th>5</th>\n",
       "      <th>6</th>\n",
       "      <th>7</th>\n",
       "      <th>8</th>\n",
       "      <th>9</th>\n",
       "      <th>...</th>\n",
       "      <th>12</th>\n",
       "      <th>13</th>\n",
       "      <th>14</th>\n",
       "      <th>15</th>\n",
       "      <th>16</th>\n",
       "      <th>17</th>\n",
       "      <th>18</th>\n",
       "      <th>19</th>\n",
       "      <th>20</th>\n",
       "      <th>21</th>\n",
       "    </tr>\n",
       "  </thead>\n",
       "  <tbody>\n",
       "    <tr>\n",
       "      <th>0</th>\n",
       "      <td>-1.305743</td>\n",
       "      <td>-1.114223</td>\n",
       "      <td>0.467197</td>\n",
       "      <td>-0.206923</td>\n",
       "      <td>0.102835</td>\n",
       "      <td>-0.712365</td>\n",
       "      <td>0.088585</td>\n",
       "      <td>0.122362</td>\n",
       "      <td>0.134873</td>\n",
       "      <td>0.146067</td>\n",
       "      <td>...</td>\n",
       "      <td>1.537857</td>\n",
       "      <td>0.512805</td>\n",
       "      <td>1.415970</td>\n",
       "      <td>0.407295</td>\n",
       "      <td>1.845056</td>\n",
       "      <td>0.252659</td>\n",
       "      <td>1.704340</td>\n",
       "      <td>0.165074</td>\n",
       "      <td>2.160221</td>\n",
       "      <td>0.223195</td>\n",
       "    </tr>\n",
       "    <tr>\n",
       "      <th>1</th>\n",
       "      <td>-1.273616</td>\n",
       "      <td>-1.131537</td>\n",
       "      <td>0.484051</td>\n",
       "      <td>-0.129294</td>\n",
       "      <td>-0.109488</td>\n",
       "      <td>-0.716308</td>\n",
       "      <td>0.083827</td>\n",
       "      <td>0.120336</td>\n",
       "      <td>0.177846</td>\n",
       "      <td>0.151577</td>\n",
       "      <td>...</td>\n",
       "      <td>1.525458</td>\n",
       "      <td>0.247109</td>\n",
       "      <td>1.407032</td>\n",
       "      <td>0.270673</td>\n",
       "      <td>1.852667</td>\n",
       "      <td>0.276748</td>\n",
       "      <td>1.676232</td>\n",
       "      <td>0.246308</td>\n",
       "      <td>2.065364</td>\n",
       "      <td>0.255383</td>\n",
       "    </tr>\n",
       "    <tr>\n",
       "      <th>2</th>\n",
       "      <td>-1.297239</td>\n",
       "      <td>-1.229128</td>\n",
       "      <td>0.529815</td>\n",
       "      <td>-0.119245</td>\n",
       "      <td>-0.065574</td>\n",
       "      <td>-0.776940</td>\n",
       "      <td>0.068219</td>\n",
       "      <td>0.294970</td>\n",
       "      <td>0.157398</td>\n",
       "      <td>0.307732</td>\n",
       "      <td>...</td>\n",
       "      <td>1.517672</td>\n",
       "      <td>0.246148</td>\n",
       "      <td>1.403228</td>\n",
       "      <td>0.268455</td>\n",
       "      <td>1.849421</td>\n",
       "      <td>0.276738</td>\n",
       "      <td>1.675985</td>\n",
       "      <td>0.262796</td>\n",
       "      <td>2.068769</td>\n",
       "      <td>0.248167</td>\n",
       "    </tr>\n",
       "    <tr>\n",
       "      <th>3</th>\n",
       "      <td>-1.335932</td>\n",
       "      <td>-1.340845</td>\n",
       "      <td>0.651219</td>\n",
       "      <td>-0.107025</td>\n",
       "      <td>0.113629</td>\n",
       "      <td>-0.904099</td>\n",
       "      <td>-0.021408</td>\n",
       "      <td>0.300256</td>\n",
       "      <td>0.095978</td>\n",
       "      <td>0.301182</td>\n",
       "      <td>...</td>\n",
       "      <td>1.521639</td>\n",
       "      <td>0.235488</td>\n",
       "      <td>1.404832</td>\n",
       "      <td>0.269243</td>\n",
       "      <td>1.839255</td>\n",
       "      <td>0.273576</td>\n",
       "      <td>1.685429</td>\n",
       "      <td>0.261159</td>\n",
       "      <td>2.068302</td>\n",
       "      <td>0.261185</td>\n",
       "    </tr>\n",
       "    <tr>\n",
       "      <th>4</th>\n",
       "      <td>-1.326618</td>\n",
       "      <td>-1.570976</td>\n",
       "      <td>0.631328</td>\n",
       "      <td>-0.182639</td>\n",
       "      <td>-0.392337</td>\n",
       "      <td>-1.140916</td>\n",
       "      <td>-0.228837</td>\n",
       "      <td>0.296291</td>\n",
       "      <td>-0.101317</td>\n",
       "      <td>0.299815</td>\n",
       "      <td>...</td>\n",
       "      <td>1.522460</td>\n",
       "      <td>0.253278</td>\n",
       "      <td>1.406458</td>\n",
       "      <td>0.267024</td>\n",
       "      <td>1.848989</td>\n",
       "      <td>0.277536</td>\n",
       "      <td>1.688739</td>\n",
       "      <td>0.281550</td>\n",
       "      <td>2.073579</td>\n",
       "      <td>0.250289</td>\n",
       "    </tr>\n",
       "    <tr>\n",
       "      <th>...</th>\n",
       "      <td>...</td>\n",
       "      <td>...</td>\n",
       "      <td>...</td>\n",
       "      <td>...</td>\n",
       "      <td>...</td>\n",
       "      <td>...</td>\n",
       "      <td>...</td>\n",
       "      <td>...</td>\n",
       "      <td>...</td>\n",
       "      <td>...</td>\n",
       "      <td>...</td>\n",
       "      <td>...</td>\n",
       "      <td>...</td>\n",
       "      <td>...</td>\n",
       "      <td>...</td>\n",
       "      <td>...</td>\n",
       "      <td>...</td>\n",
       "      <td>...</td>\n",
       "      <td>...</td>\n",
       "      <td>...</td>\n",
       "      <td>...</td>\n",
       "    </tr>\n",
       "    <tr>\n",
       "      <th>13787</th>\n",
       "      <td>-1.310252</td>\n",
       "      <td>1.025067</td>\n",
       "      <td>0.828038</td>\n",
       "      <td>1.102662</td>\n",
       "      <td>0.215752</td>\n",
       "      <td>-1.311746</td>\n",
       "      <td>-1.214548</td>\n",
       "      <td>2.993836</td>\n",
       "      <td>-0.962215</td>\n",
       "      <td>2.707669</td>\n",
       "      <td>...</td>\n",
       "      <td>-0.952049</td>\n",
       "      <td>-0.604397</td>\n",
       "      <td>-1.198283</td>\n",
       "      <td>-0.599675</td>\n",
       "      <td>-1.276820</td>\n",
       "      <td>-0.607345</td>\n",
       "      <td>-1.268867</td>\n",
       "      <td>-0.608713</td>\n",
       "      <td>-1.070565</td>\n",
       "      <td>-0.581403</td>\n",
       "    </tr>\n",
       "    <tr>\n",
       "      <th>13788</th>\n",
       "      <td>-1.294664</td>\n",
       "      <td>0.591669</td>\n",
       "      <td>0.810091</td>\n",
       "      <td>2.565995</td>\n",
       "      <td>0.461590</td>\n",
       "      <td>-1.570845</td>\n",
       "      <td>-1.339832</td>\n",
       "      <td>3.127213</td>\n",
       "      <td>-1.143150</td>\n",
       "      <td>2.823017</td>\n",
       "      <td>...</td>\n",
       "      <td>-0.963766</td>\n",
       "      <td>-0.636107</td>\n",
       "      <td>-1.195444</td>\n",
       "      <td>-0.644816</td>\n",
       "      <td>-1.261827</td>\n",
       "      <td>-0.622991</td>\n",
       "      <td>-1.275029</td>\n",
       "      <td>-0.627725</td>\n",
       "      <td>-1.069111</td>\n",
       "      <td>-0.570326</td>\n",
       "    </tr>\n",
       "    <tr>\n",
       "      <th>13789</th>\n",
       "      <td>-1.374438</td>\n",
       "      <td>0.477043</td>\n",
       "      <td>0.777731</td>\n",
       "      <td>2.685703</td>\n",
       "      <td>0.759885</td>\n",
       "      <td>-1.734232</td>\n",
       "      <td>-1.577597</td>\n",
       "      <td>3.122341</td>\n",
       "      <td>-1.280994</td>\n",
       "      <td>2.824814</td>\n",
       "      <td>...</td>\n",
       "      <td>-0.951307</td>\n",
       "      <td>-0.655453</td>\n",
       "      <td>-1.190546</td>\n",
       "      <td>-0.637941</td>\n",
       "      <td>-1.247809</td>\n",
       "      <td>-0.664845</td>\n",
       "      <td>-1.272345</td>\n",
       "      <td>-0.631550</td>\n",
       "      <td>-1.066588</td>\n",
       "      <td>-0.748467</td>\n",
       "    </tr>\n",
       "    <tr>\n",
       "      <th>13790</th>\n",
       "      <td>-1.333381</td>\n",
       "      <td>0.369314</td>\n",
       "      <td>0.671910</td>\n",
       "      <td>2.749802</td>\n",
       "      <td>0.687424</td>\n",
       "      <td>-1.818791</td>\n",
       "      <td>-1.693569</td>\n",
       "      <td>3.120612</td>\n",
       "      <td>-1.381973</td>\n",
       "      <td>2.822424</td>\n",
       "      <td>...</td>\n",
       "      <td>-0.928535</td>\n",
       "      <td>-0.626138</td>\n",
       "      <td>-1.169773</td>\n",
       "      <td>-0.632357</td>\n",
       "      <td>-1.288795</td>\n",
       "      <td>-0.566275</td>\n",
       "      <td>-1.258552</td>\n",
       "      <td>-0.605636</td>\n",
       "      <td>-1.061513</td>\n",
       "      <td>-0.610998</td>\n",
       "    </tr>\n",
       "    <tr>\n",
       "      <th>13791</th>\n",
       "      <td>-1.274883</td>\n",
       "      <td>0.344727</td>\n",
       "      <td>0.779058</td>\n",
       "      <td>1.484992</td>\n",
       "      <td>0.570964</td>\n",
       "      <td>-1.817379</td>\n",
       "      <td>-1.713048</td>\n",
       "      <td>3.130549</td>\n",
       "      <td>-1.392911</td>\n",
       "      <td>2.832716</td>\n",
       "      <td>...</td>\n",
       "      <td>-0.966112</td>\n",
       "      <td>-0.631832</td>\n",
       "      <td>-1.201511</td>\n",
       "      <td>-0.634448</td>\n",
       "      <td>-1.266695</td>\n",
       "      <td>-0.594532</td>\n",
       "      <td>-1.270063</td>\n",
       "      <td>-0.609439</td>\n",
       "      <td>-1.068546</td>\n",
       "      <td>-0.616029</td>\n",
       "    </tr>\n",
       "  </tbody>\n",
       "</table>\n",
       "<p>13792 rows × 22 columns</p>\n",
       "</div>"
      ],
      "text/plain": [
       "             0         1         2         3         4         5         6   \\\n",
       "0     -1.305743 -1.114223  0.467197 -0.206923  0.102835 -0.712365  0.088585   \n",
       "1     -1.273616 -1.131537  0.484051 -0.129294 -0.109488 -0.716308  0.083827   \n",
       "2     -1.297239 -1.229128  0.529815 -0.119245 -0.065574 -0.776940  0.068219   \n",
       "3     -1.335932 -1.340845  0.651219 -0.107025  0.113629 -0.904099 -0.021408   \n",
       "4     -1.326618 -1.570976  0.631328 -0.182639 -0.392337 -1.140916 -0.228837   \n",
       "...         ...       ...       ...       ...       ...       ...       ...   \n",
       "13787 -1.310252  1.025067  0.828038  1.102662  0.215752 -1.311746 -1.214548   \n",
       "13788 -1.294664  0.591669  0.810091  2.565995  0.461590 -1.570845 -1.339832   \n",
       "13789 -1.374438  0.477043  0.777731  2.685703  0.759885 -1.734232 -1.577597   \n",
       "13790 -1.333381  0.369314  0.671910  2.749802  0.687424 -1.818791 -1.693569   \n",
       "13791 -1.274883  0.344727  0.779058  1.484992  0.570964 -1.817379 -1.713048   \n",
       "\n",
       "             7         8         9   ...        12        13        14  \\\n",
       "0      0.122362  0.134873  0.146067  ...  1.537857  0.512805  1.415970   \n",
       "1      0.120336  0.177846  0.151577  ...  1.525458  0.247109  1.407032   \n",
       "2      0.294970  0.157398  0.307732  ...  1.517672  0.246148  1.403228   \n",
       "3      0.300256  0.095978  0.301182  ...  1.521639  0.235488  1.404832   \n",
       "4      0.296291 -0.101317  0.299815  ...  1.522460  0.253278  1.406458   \n",
       "...         ...       ...       ...  ...       ...       ...       ...   \n",
       "13787  2.993836 -0.962215  2.707669  ... -0.952049 -0.604397 -1.198283   \n",
       "13788  3.127213 -1.143150  2.823017  ... -0.963766 -0.636107 -1.195444   \n",
       "13789  3.122341 -1.280994  2.824814  ... -0.951307 -0.655453 -1.190546   \n",
       "13790  3.120612 -1.381973  2.822424  ... -0.928535 -0.626138 -1.169773   \n",
       "13791  3.130549 -1.392911  2.832716  ... -0.966112 -0.631832 -1.201511   \n",
       "\n",
       "             15        16        17        18        19        20        21  \n",
       "0      0.407295  1.845056  0.252659  1.704340  0.165074  2.160221  0.223195  \n",
       "1      0.270673  1.852667  0.276748  1.676232  0.246308  2.065364  0.255383  \n",
       "2      0.268455  1.849421  0.276738  1.675985  0.262796  2.068769  0.248167  \n",
       "3      0.269243  1.839255  0.273576  1.685429  0.261159  2.068302  0.261185  \n",
       "4      0.267024  1.848989  0.277536  1.688739  0.281550  2.073579  0.250289  \n",
       "...         ...       ...       ...       ...       ...       ...       ...  \n",
       "13787 -0.599675 -1.276820 -0.607345 -1.268867 -0.608713 -1.070565 -0.581403  \n",
       "13788 -0.644816 -1.261827 -0.622991 -1.275029 -0.627725 -1.069111 -0.570326  \n",
       "13789 -0.637941 -1.247809 -0.664845 -1.272345 -0.631550 -1.066588 -0.748467  \n",
       "13790 -0.632357 -1.288795 -0.566275 -1.258552 -0.605636 -1.061513 -0.610998  \n",
       "13791 -0.634448 -1.266695 -0.594532 -1.270063 -0.609439 -1.068546 -0.616029  \n",
       "\n",
       "[13792 rows x 22 columns]"
      ]
     },
     "execution_count": 39,
     "metadata": {},
     "output_type": "execute_result"
    }
   ],
   "source": [
    "features_train_rough = pd.DataFrame(features_train_rough)\n",
    "features_train_rough"
   ]
  },
  {
   "cell_type": "code",
   "execution_count": 40,
   "metadata": {
    "scrolled": true
   },
   "outputs": [
    {
     "data": {
      "text/html": [
       "<div>\n",
       "<style scoped>\n",
       "    .dataframe tbody tr th:only-of-type {\n",
       "        vertical-align: middle;\n",
       "    }\n",
       "\n",
       "    .dataframe tbody tr th {\n",
       "        vertical-align: top;\n",
       "    }\n",
       "\n",
       "    .dataframe thead th {\n",
       "        text-align: right;\n",
       "    }\n",
       "</style>\n",
       "<table border=\"1\" class=\"dataframe\">\n",
       "  <thead>\n",
       "    <tr style=\"text-align: right;\">\n",
       "      <th></th>\n",
       "      <th>0</th>\n",
       "      <th>1</th>\n",
       "      <th>2</th>\n",
       "      <th>3</th>\n",
       "      <th>4</th>\n",
       "      <th>5</th>\n",
       "      <th>6</th>\n",
       "      <th>7</th>\n",
       "      <th>8</th>\n",
       "      <th>9</th>\n",
       "      <th>...</th>\n",
       "      <th>12</th>\n",
       "      <th>13</th>\n",
       "      <th>14</th>\n",
       "      <th>15</th>\n",
       "      <th>16</th>\n",
       "      <th>17</th>\n",
       "      <th>18</th>\n",
       "      <th>19</th>\n",
       "      <th>20</th>\n",
       "      <th>21</th>\n",
       "    </tr>\n",
       "  </thead>\n",
       "  <tbody>\n",
       "    <tr>\n",
       "      <th>0</th>\n",
       "      <td>2.412018</td>\n",
       "      <td>1.959739</td>\n",
       "      <td>0.141046</td>\n",
       "      <td>0.106002</td>\n",
       "      <td>1.151932</td>\n",
       "      <td>2.204567</td>\n",
       "      <td>1.611512</td>\n",
       "      <td>0.254962</td>\n",
       "      <td>1.490944</td>\n",
       "      <td>0.263884</td>\n",
       "      <td>...</td>\n",
       "      <td>-0.403028</td>\n",
       "      <td>1.133655</td>\n",
       "      <td>-0.246784</td>\n",
       "      <td>1.174191</td>\n",
       "      <td>-0.072444</td>\n",
       "      <td>1.183594</td>\n",
       "      <td>-0.466051</td>\n",
       "      <td>1.154285</td>\n",
       "      <td>-0.501451</td>\n",
       "      <td>1.173649</td>\n",
       "    </tr>\n",
       "    <tr>\n",
       "      <th>1</th>\n",
       "      <td>2.363199</td>\n",
       "      <td>1.858266</td>\n",
       "      <td>0.144050</td>\n",
       "      <td>0.073544</td>\n",
       "      <td>0.984012</td>\n",
       "      <td>2.118524</td>\n",
       "      <td>1.636087</td>\n",
       "      <td>0.114208</td>\n",
       "      <td>1.525593</td>\n",
       "      <td>0.143218</td>\n",
       "      <td>...</td>\n",
       "      <td>-0.410408</td>\n",
       "      <td>1.119035</td>\n",
       "      <td>-0.247897</td>\n",
       "      <td>1.169997</td>\n",
       "      <td>-0.061825</td>\n",
       "      <td>1.175439</td>\n",
       "      <td>-0.463212</td>\n",
       "      <td>1.154983</td>\n",
       "      <td>-0.497836</td>\n",
       "      <td>1.039162</td>\n",
       "    </tr>\n",
       "    <tr>\n",
       "      <th>2</th>\n",
       "      <td>2.417225</td>\n",
       "      <td>1.767010</td>\n",
       "      <td>0.139349</td>\n",
       "      <td>0.287651</td>\n",
       "      <td>1.257339</td>\n",
       "      <td>2.208334</td>\n",
       "      <td>1.632998</td>\n",
       "      <td>-0.021053</td>\n",
       "      <td>1.521829</td>\n",
       "      <td>0.022287</td>\n",
       "      <td>...</td>\n",
       "      <td>-0.415653</td>\n",
       "      <td>1.113485</td>\n",
       "      <td>-0.254061</td>\n",
       "      <td>1.144136</td>\n",
       "      <td>-0.065350</td>\n",
       "      <td>1.160198</td>\n",
       "      <td>-0.463622</td>\n",
       "      <td>1.159484</td>\n",
       "      <td>-0.497150</td>\n",
       "      <td>1.126204</td>\n",
       "    </tr>\n",
       "    <tr>\n",
       "      <th>3</th>\n",
       "      <td>2.026889</td>\n",
       "      <td>1.481053</td>\n",
       "      <td>0.013732</td>\n",
       "      <td>-0.017219</td>\n",
       "      <td>0.958315</td>\n",
       "      <td>2.255368</td>\n",
       "      <td>1.490963</td>\n",
       "      <td>-0.065436</td>\n",
       "      <td>1.395995</td>\n",
       "      <td>-0.018319</td>\n",
       "      <td>...</td>\n",
       "      <td>-0.394326</td>\n",
       "      <td>1.141540</td>\n",
       "      <td>-0.243279</td>\n",
       "      <td>1.167921</td>\n",
       "      <td>-0.067127</td>\n",
       "      <td>1.219274</td>\n",
       "      <td>-0.452876</td>\n",
       "      <td>1.138251</td>\n",
       "      <td>-0.494784</td>\n",
       "      <td>1.144969</td>\n",
       "    </tr>\n",
       "    <tr>\n",
       "      <th>4</th>\n",
       "      <td>1.459253</td>\n",
       "      <td>1.162472</td>\n",
       "      <td>0.126112</td>\n",
       "      <td>0.132204</td>\n",
       "      <td>1.000362</td>\n",
       "      <td>1.791004</td>\n",
       "      <td>0.588583</td>\n",
       "      <td>-0.123632</td>\n",
       "      <td>0.623660</td>\n",
       "      <td>-0.070378</td>\n",
       "      <td>...</td>\n",
       "      <td>-0.101296</td>\n",
       "      <td>1.126611</td>\n",
       "      <td>0.020601</td>\n",
       "      <td>1.180390</td>\n",
       "      <td>0.168825</td>\n",
       "      <td>1.158647</td>\n",
       "      <td>-0.147905</td>\n",
       "      <td>1.163884</td>\n",
       "      <td>-0.500999</td>\n",
       "      <td>1.154257</td>\n",
       "    </tr>\n",
       "    <tr>\n",
       "      <th>...</th>\n",
       "      <td>...</td>\n",
       "      <td>...</td>\n",
       "      <td>...</td>\n",
       "      <td>...</td>\n",
       "      <td>...</td>\n",
       "      <td>...</td>\n",
       "      <td>...</td>\n",
       "      <td>...</td>\n",
       "      <td>...</td>\n",
       "      <td>...</td>\n",
       "      <td>...</td>\n",
       "      <td>...</td>\n",
       "      <td>...</td>\n",
       "      <td>...</td>\n",
       "      <td>...</td>\n",
       "      <td>...</td>\n",
       "      <td>...</td>\n",
       "      <td>...</td>\n",
       "      <td>...</td>\n",
       "      <td>...</td>\n",
       "      <td>...</td>\n",
       "    </tr>\n",
       "    <tr>\n",
       "      <th>5285</th>\n",
       "      <td>1.624054</td>\n",
       "      <td>1.096370</td>\n",
       "      <td>0.449212</td>\n",
       "      <td>0.281355</td>\n",
       "      <td>1.151849</td>\n",
       "      <td>1.407558</td>\n",
       "      <td>-0.490634</td>\n",
       "      <td>1.212347</td>\n",
       "      <td>-0.330365</td>\n",
       "      <td>1.115620</td>\n",
       "      <td>...</td>\n",
       "      <td>-1.502362</td>\n",
       "      <td>-0.626806</td>\n",
       "      <td>-1.651146</td>\n",
       "      <td>-0.621813</td>\n",
       "      <td>-1.728155</td>\n",
       "      <td>-0.594981</td>\n",
       "      <td>-1.259372</td>\n",
       "      <td>-0.627657</td>\n",
       "      <td>-1.060853</td>\n",
       "      <td>-0.621837</td>\n",
       "    </tr>\n",
       "    <tr>\n",
       "      <th>5286</th>\n",
       "      <td>1.464894</td>\n",
       "      <td>0.897426</td>\n",
       "      <td>0.531450</td>\n",
       "      <td>0.099514</td>\n",
       "      <td>0.965596</td>\n",
       "      <td>1.250979</td>\n",
       "      <td>-0.530648</td>\n",
       "      <td>1.209576</td>\n",
       "      <td>-0.365930</td>\n",
       "      <td>1.118698</td>\n",
       "      <td>...</td>\n",
       "      <td>-1.468995</td>\n",
       "      <td>-0.594991</td>\n",
       "      <td>-1.627916</td>\n",
       "      <td>-0.581597</td>\n",
       "      <td>-1.713561</td>\n",
       "      <td>-0.545353</td>\n",
       "      <td>-1.255971</td>\n",
       "      <td>-0.612751</td>\n",
       "      <td>-1.061608</td>\n",
       "      <td>-0.566042</td>\n",
       "    </tr>\n",
       "    <tr>\n",
       "      <th>5287</th>\n",
       "      <td>1.437290</td>\n",
       "      <td>0.830427</td>\n",
       "      <td>0.687131</td>\n",
       "      <td>0.579776</td>\n",
       "      <td>0.965416</td>\n",
       "      <td>1.206711</td>\n",
       "      <td>-0.468104</td>\n",
       "      <td>1.205347</td>\n",
       "      <td>-0.310238</td>\n",
       "      <td>1.116030</td>\n",
       "      <td>...</td>\n",
       "      <td>-1.512044</td>\n",
       "      <td>-0.618600</td>\n",
       "      <td>-1.665105</td>\n",
       "      <td>-0.620035</td>\n",
       "      <td>-1.709068</td>\n",
       "      <td>-0.624293</td>\n",
       "      <td>-1.263778</td>\n",
       "      <td>-0.613298</td>\n",
       "      <td>-1.067592</td>\n",
       "      <td>-0.600139</td>\n",
       "    </tr>\n",
       "    <tr>\n",
       "      <th>5288</th>\n",
       "      <td>1.439301</td>\n",
       "      <td>0.773714</td>\n",
       "      <td>0.697031</td>\n",
       "      <td>0.771197</td>\n",
       "      <td>1.090220</td>\n",
       "      <td>1.155678</td>\n",
       "      <td>-0.298822</td>\n",
       "      <td>1.208813</td>\n",
       "      <td>-0.164439</td>\n",
       "      <td>1.117785</td>\n",
       "      <td>...</td>\n",
       "      <td>-1.501481</td>\n",
       "      <td>-0.621936</td>\n",
       "      <td>-1.656590</td>\n",
       "      <td>-0.634816</td>\n",
       "      <td>-1.750602</td>\n",
       "      <td>-0.621143</td>\n",
       "      <td>-1.270217</td>\n",
       "      <td>-0.629336</td>\n",
       "      <td>-1.068758</td>\n",
       "      <td>-0.634966</td>\n",
       "    </tr>\n",
       "    <tr>\n",
       "      <th>5289</th>\n",
       "      <td>1.235611</td>\n",
       "      <td>0.541780</td>\n",
       "      <td>0.863320</td>\n",
       "      <td>0.754401</td>\n",
       "      <td>0.924296</td>\n",
       "      <td>0.960852</td>\n",
       "      <td>-0.280749</td>\n",
       "      <td>1.204911</td>\n",
       "      <td>-0.146505</td>\n",
       "      <td>1.117950</td>\n",
       "      <td>...</td>\n",
       "      <td>-1.485107</td>\n",
       "      <td>-0.621367</td>\n",
       "      <td>-1.656475</td>\n",
       "      <td>-0.616589</td>\n",
       "      <td>-1.736281</td>\n",
       "      <td>-0.630370</td>\n",
       "      <td>-1.265085</td>\n",
       "      <td>-0.637097</td>\n",
       "      <td>-1.065307</td>\n",
       "      <td>-0.600684</td>\n",
       "    </tr>\n",
       "  </tbody>\n",
       "</table>\n",
       "<p>5290 rows × 22 columns</p>\n",
       "</div>"
      ],
      "text/plain": [
       "            0         1         2         3         4         5         6   \\\n",
       "0     2.412018  1.959739  0.141046  0.106002  1.151932  2.204567  1.611512   \n",
       "1     2.363199  1.858266  0.144050  0.073544  0.984012  2.118524  1.636087   \n",
       "2     2.417225  1.767010  0.139349  0.287651  1.257339  2.208334  1.632998   \n",
       "3     2.026889  1.481053  0.013732 -0.017219  0.958315  2.255368  1.490963   \n",
       "4     1.459253  1.162472  0.126112  0.132204  1.000362  1.791004  0.588583   \n",
       "...        ...       ...       ...       ...       ...       ...       ...   \n",
       "5285  1.624054  1.096370  0.449212  0.281355  1.151849  1.407558 -0.490634   \n",
       "5286  1.464894  0.897426  0.531450  0.099514  0.965596  1.250979 -0.530648   \n",
       "5287  1.437290  0.830427  0.687131  0.579776  0.965416  1.206711 -0.468104   \n",
       "5288  1.439301  0.773714  0.697031  0.771197  1.090220  1.155678 -0.298822   \n",
       "5289  1.235611  0.541780  0.863320  0.754401  0.924296  0.960852 -0.280749   \n",
       "\n",
       "            7         8         9   ...        12        13        14  \\\n",
       "0     0.254962  1.490944  0.263884  ... -0.403028  1.133655 -0.246784   \n",
       "1     0.114208  1.525593  0.143218  ... -0.410408  1.119035 -0.247897   \n",
       "2    -0.021053  1.521829  0.022287  ... -0.415653  1.113485 -0.254061   \n",
       "3    -0.065436  1.395995 -0.018319  ... -0.394326  1.141540 -0.243279   \n",
       "4    -0.123632  0.623660 -0.070378  ... -0.101296  1.126611  0.020601   \n",
       "...        ...       ...       ...  ...       ...       ...       ...   \n",
       "5285  1.212347 -0.330365  1.115620  ... -1.502362 -0.626806 -1.651146   \n",
       "5286  1.209576 -0.365930  1.118698  ... -1.468995 -0.594991 -1.627916   \n",
       "5287  1.205347 -0.310238  1.116030  ... -1.512044 -0.618600 -1.665105   \n",
       "5288  1.208813 -0.164439  1.117785  ... -1.501481 -0.621936 -1.656590   \n",
       "5289  1.204911 -0.146505  1.117950  ... -1.485107 -0.621367 -1.656475   \n",
       "\n",
       "            15        16        17        18        19        20        21  \n",
       "0     1.174191 -0.072444  1.183594 -0.466051  1.154285 -0.501451  1.173649  \n",
       "1     1.169997 -0.061825  1.175439 -0.463212  1.154983 -0.497836  1.039162  \n",
       "2     1.144136 -0.065350  1.160198 -0.463622  1.159484 -0.497150  1.126204  \n",
       "3     1.167921 -0.067127  1.219274 -0.452876  1.138251 -0.494784  1.144969  \n",
       "4     1.180390  0.168825  1.158647 -0.147905  1.163884 -0.500999  1.154257  \n",
       "...        ...       ...       ...       ...       ...       ...       ...  \n",
       "5285 -0.621813 -1.728155 -0.594981 -1.259372 -0.627657 -1.060853 -0.621837  \n",
       "5286 -0.581597 -1.713561 -0.545353 -1.255971 -0.612751 -1.061608 -0.566042  \n",
       "5287 -0.620035 -1.709068 -0.624293 -1.263778 -0.613298 -1.067592 -0.600139  \n",
       "5288 -0.634816 -1.750602 -0.621143 -1.270217 -0.629336 -1.068758 -0.634966  \n",
       "5289 -0.616589 -1.736281 -0.630370 -1.265085 -0.637097 -1.065307 -0.600684  \n",
       "\n",
       "[5290 rows x 22 columns]"
      ]
     },
     "execution_count": 40,
     "metadata": {},
     "output_type": "execute_result"
    }
   ],
   "source": [
    "features_test_rough = pd.DataFrame(features_test_rough)\n",
    "features_test_rough"
   ]
  },
  {
   "cell_type": "code",
   "execution_count": 41,
   "metadata": {},
   "outputs": [],
   "source": [
    "dct_with_scores = {}"
   ]
  },
  {
   "cell_type": "markdown",
   "metadata": {},
   "source": [
    "**Модель LinearRegression**"
   ]
  },
  {
   "cell_type": "code",
   "execution_count": 42,
   "metadata": {},
   "outputs": [
    {
     "name": "stdout",
     "output_type": "stream",
     "text": [
      "CPU times: user 3 s, sys: 4.64 s, total: 7.64 s\n",
      "Wall time: 7.63 s\n"
     ]
    }
   ],
   "source": [
    "%%time\n",
    "model_lr_rougher = LinearRegression()\n",
    "smape_rougher = cross_val_score(model_lr_rougher,\n",
    "                          features_train_fin,\n",
    "                          target_train_rough,\n",
    "                          scoring=smape_scorer,\n",
    "                          cv=5)\n",
    "final_smape_rougher = smape_rougher.mean()\n",
    "model_lr_final = LinearRegression()\n",
    "smape_final = cross_val_score(model_lr_final,\n",
    "                        features_train_fin,\n",
    "                        target_train_fin,\n",
    "                        scoring=smape_scorer,\n",
    "                        cv=5)\n",
    "final_smape_final = smape_final.mean()\n",
    "result_smape = get_final_smape(final_smape_rougher, final_smape_final)*(-1)\n",
    "dct_with_scores['LR'] = [result_smape]"
   ]
  },
  {
   "cell_type": "markdown",
   "metadata": {},
   "source": [
    "**Модель DecisionTreeRegressor**"
   ]
  },
  {
   "cell_type": "code",
   "execution_count": 43,
   "metadata": {},
   "outputs": [
    {
     "name": "stdout",
     "output_type": "stream",
     "text": [
      "CPU times: user 24.1 s, sys: 218 ms, total: 24.3 s\n",
      "Wall time: 24.4 s\n"
     ]
    }
   ],
   "source": [
    "%%time\n",
    "best_result_for_dt = 100\n",
    "best_param_for_dt = 0\n",
    "for n in range(1, 10, 1):\n",
    "    model_dt_rougher = DecisionTreeRegressor(max_depth=n, random_state=12345)\n",
    "    smape_rougher = cross_val_score(model_dt_rougher,\n",
    "                              features_train_fin,\n",
    "                              target_train_rough,\n",
    "                              scoring=smape_scorer,\n",
    "                              cv=5)\n",
    "    final_smape_rougher = smape_rougher.mean()\n",
    "\n",
    "    model_dt_final = DecisionTreeRegressor(max_depth=n, random_state=12345)\n",
    "    smape_final = cross_val_score(model_dt_final, \n",
    "                                  features_train_fin,\n",
    "                                  target_train_fin,\n",
    "                                  scoring=smape_scorer,\n",
    "                                  cv=5)\n",
    "    final_smape_final = smape_final.mean()\n",
    "    result_smape = get_final_smape(final_smape_rougher, final_smape_final)*(-1)\n",
    "    if result_smape < best_result_for_dt:\n",
    "        best_result_for_dt = result_smape\n",
    "        best_param_for_dt = n\n",
    "dct_with_scores['DT'] = [best_result_for_dt, best_param_for_dt]"
   ]
  },
  {
   "cell_type": "markdown",
   "metadata": {},
   "source": [
    "**Модель RandomForestRegressor**"
   ]
  },
  {
   "cell_type": "code",
   "execution_count": 44,
   "metadata": {},
   "outputs": [
    {
     "name": "stdout",
     "output_type": "stream",
     "text": [
      "CPU times: user 13min 29s, sys: 1.62 s, total: 13min 31s\n",
      "Wall time: 13min 34s\n"
     ]
    }
   ],
   "source": [
    "%%time\n",
    "best_model_for_rf = 100\n",
    "best_param_for_rf = 0\n",
    "for n in range(10, 100, 30):\n",
    "    for d in range(2,10,2):\n",
    "        model_rf_rougher = RandomForestRegressor(n_estimators=n, max_depth=d, random_state=12345)\n",
    "        smape_rougher = cross_val_score(model_rf_rougher,\n",
    "                                  features_train_fin,\n",
    "                                  target_train_rough,\n",
    "                                  scoring=smape_scorer,\n",
    "                                  cv=5)\n",
    "        final_smape_rougher = smape_rougher.mean()\n",
    "\n",
    "        model_rf_final = RandomForestRegressor(n_estimators=n, max_depth=d, random_state=12345)\n",
    "        smape_final = cross_val_score(model_rf_final,\n",
    "                                features_train_fin,\n",
    "                                target_train_fin,\n",
    "                                scoring=smape_scorer,\n",
    "                                cv=5)\n",
    "        final_smape_final = smape_final.mean()\n",
    "        result_smape = get_final_smape(final_smape_rougher, final_smape_final)*(-1)\n",
    "        if result_smape < best_model_for_rf:\n",
    "            best_model_for_rf = result_smape\n",
    "            best_param_for_rf = [n,d]\n",
    "dct_with_scores['RF'] = [best_model_for_rf, best_param_for_rf]"
   ]
  },
  {
   "cell_type": "code",
   "execution_count": 45,
   "metadata": {},
   "outputs": [
    {
     "name": "stdout",
     "output_type": "stream",
     "text": [
      "\n",
      " модель LR с результатом - 10.059261443482796\n",
      "\n",
      " модель DT с результатом - 8.925785452030949\n",
      "\n",
      " модель RF с результатом - 8.529258429567625\n"
     ]
    }
   ],
   "source": [
    "for key in dct_with_scores.keys():\n",
    "    print(f'\\n модель {str(key)} с результатом - {dct_with_scores[key][0]}')"
   ]
  },
  {
   "cell_type": "markdown",
   "metadata": {},
   "source": [
    "**Лучшая модель: RandomForestRegressor**"
   ]
  },
  {
   "cell_type": "markdown",
   "metadata": {},
   "source": [
    "Получим лучшие параметры для данной модели"
   ]
  },
  {
   "cell_type": "code",
   "execution_count": 46,
   "metadata": {},
   "outputs": [
    {
     "name": "stdout",
     "output_type": "stream",
     "text": [
      "\n",
      "best params for RandomForestRegressor: est - 10, depth - 4\n"
     ]
    }
   ],
   "source": [
    "print('\\nbest params for RandomForestRegressor: est - {}, depth - {}'.format(dct_with_scores['RF'][1][0], dct_with_scores['RF'][1][1]))"
   ]
  },
  {
   "cell_type": "markdown",
   "metadata": {},
   "source": [
    "**3.3 Проверим лучшую модель на тестовой выборке**"
   ]
  },
  {
   "cell_type": "code",
   "execution_count": 52,
   "metadata": {},
   "outputs": [
    {
     "name": "stdout",
     "output_type": "stream",
     "text": [
      "\n",
      "SMAPE для тестовой выборки - 9.75033130300162\n"
     ]
    }
   ],
   "source": [
    "model_for_test_rougher = RandomForestRegressor(n_estimators=10, max_depth=4, random_state=12345)\n",
    "model_for_test_rougher.fit(features_train_rough, target_train_rough)\n",
    "predicted_rougher = model_for_test_rougher.predict(features_test_rough)\n",
    "\n",
    "model_for_test_final = RandomForestRegressor(n_estimators=10, max_depth=4, random_state=12345)\n",
    "model_for_test_final.fit(features_train_fin, target_train_fin)\n",
    "predicted_final = model_for_test_final.predict(features_test_fin)\n",
    "\n",
    "smape_for_test_rougher = get_smape(target_test_rough, predicted_rougher)\n",
    "smape_for_test_final = get_smape(target_test_fin, predicted_final)\n",
    "final_smape_for_test = get_final_smape(smape_for_test_rougher, smape_for_test_final)\n",
    "\n",
    "print(f'\\nSMAPE для тестовой выборки - {final_smape_for_test}')"
   ]
  },
  {
   "cell_type": "markdown",
   "metadata": {},
   "source": [
    "**3.4 Проверим модель на адекватность**"
   ]
  },
  {
   "cell_type": "code",
   "execution_count": 53,
   "metadata": {},
   "outputs": [
    {
     "ename": "NameError",
     "evalue": "name 'smape_total' is not defined",
     "output_type": "error",
     "traceback": [
      "\u001b[0;31m---------------------------------------------------------------------------\u001b[0m",
      "\u001b[0;31mNameError\u001b[0m                                 Traceback (most recent call last)",
      "\u001b[0;32m/tmp/ipykernel_145/843486946.py\u001b[0m in \u001b[0;36m<module>\u001b[0;34m\u001b[0m\n\u001b[1;32m      6\u001b[0m \u001b[0mtest_predictions_f\u001b[0m \u001b[0;34m=\u001b[0m \u001b[0mdummy_model_f\u001b[0m\u001b[0;34m.\u001b[0m\u001b[0mpredict\u001b[0m\u001b[0;34m(\u001b[0m\u001b[0mfeatures_test_fin\u001b[0m\u001b[0;34m)\u001b[0m\u001b[0;34m\u001b[0m\u001b[0;34m\u001b[0m\u001b[0m\n\u001b[1;32m      7\u001b[0m \u001b[0;34m\u001b[0m\u001b[0m\n\u001b[0;32m----> 8\u001b[0;31m print('Итоговое sMAPE для DummyRegressor:',smape_total(\n\u001b[0m\u001b[1;32m      9\u001b[0m     target_test_rough, test_predictions_r, target_test_fin, test_predictions_f).mean())\n",
      "\u001b[0;31mNameError\u001b[0m: name 'smape_total' is not defined"
     ]
    }
   ],
   "source": [
    "dummy_model_r = DummyRegressor(strategy=\"mean\")\n",
    "dummy_model_f = DummyRegressor(strategy=\"mean\")\n",
    "dummy_model_r.fit(features_train_rough, target_train_rough)\n",
    "dummy_model_f.fit(features_train_fin, target_train_fin)\n",
    "test_predictions_r = dummy_model_r.predict(features_test_rough)\n",
    "test_predictions_f = dummy_model_f.predict(features_test_fin)\n",
    "\n",
    "print('Итоговое sMAPE для DummyRegressor:',smape_total(\n",
    "    target_test_rough, test_predictions_r, target_test_fin, test_predictions_f).mean())"
   ]
  },
  {
   "cell_type": "code",
   "execution_count": 54,
   "metadata": {},
   "outputs": [
    {
     "name": "stdout",
     "output_type": "stream",
     "text": [
      "\n",
      "ПОКАЗАТЕЛЬ SMAPE ДЛЯ КОНСТАНТНОЙ МОДЕЛИ - 9.82146839182027\n"
     ]
    }
   ],
   "source": [
    "dummy_regr_for_rougher = DummyRegressor(strategy=\"mean\")\n",
    "dummy_regr_for_final = DummyRegressor(strategy=\"mean\")\n",
    "\n",
    "dummy_regr_for_rougher.fit(features_train_rough, target_train_rough)\n",
    "dummy_regr_for_final.fit(features_train_fin, target_train_fin)\n",
    "\n",
    "dummy_predicted_rougher = dummy_regr_for_rougher.predict(features_test_rough)\n",
    "dummy_predicted_final = dummy_regr_for_final.predict(features_test_fin)\n",
    "\n",
    "smape_for_const_rougher = get_smape(target_test_rough, dummy_predicted_rougher)\n",
    "smape_for_const_final = get_smape(target_test_fin, dummy_predicted_final)\n",
    "\n",
    "final_smape_for_const = get_final_smape(smape_for_const_rougher, smape_for_const_final)\n",
    "\n",
    "print(f'\\nПОКАЗАТЕЛЬ SMAPE ДЛЯ КОНСТАНТНОЙ МОДЕЛИ - {final_smape_for_const}')"
   ]
  },
  {
   "cell_type": "markdown",
   "metadata": {},
   "source": [
    "**Выводы**\n",
    "\n",
    "В рамках предобработки данных проекта, изучены загруженные файлы.\n",
    "\n",
    "Проверен расчёт эффективности обогащения. Вычислено значение MAE между данными и расчётными значениями эффективности. Полученные значения МАЕ близки к 0. Это означаем, что эффективность обогащения рассчитана правильно.\n",
    "\n",
    "Проведена проверка на дубликаты. Обработаны пропуски.\n",
    "\n",
    "Анализ концентрации металлов показал, что концентрация золота значительно увеличивается на каждом этапе обработки сырья. \n",
    "\n",
    "Построены графики распределения плотности значений размеров гранул на входе в этапы флотации и финальной очистки выборок train и test Сами распределения похожи, что говорит об однородности данных размеров сырья в выборках train и test\n",
    "\n",
    "Исследована суммарная концентрация всех веществ на разных стадиях: в сырье, в черновом и финальном концентратах.\n",
    "\n",
    "Подготовлены датафреймы для прогнозирования features, target\n",
    "\n",
    "Описана функция для вычисления итоговой sMAPE.\n",
    "\n",
    "На данных train обучены модели линейной регрессии, дерева решений, а также случайного леса. Проведена оценка каждой модели. В результате для дальнешего прогнозирования выбирана модель случайного леса smape = 8.529 est=10, max_deph=4\n",
    "\n",
    "Итоговый расчёт на тестовых данных выбранной модели случайного леса позволил получить прогноз целевых признаков концентрации золота для этапа флотации и финальной очистки с показателем smape равным 9.75\n",
    "\n",
    "Проведена проверка модели на адекватность. Итоговая оценка smape константной модели на тестовых данных равна 9.82"
   ]
  }
 ],
 "metadata": {
  "ExecuteTimeLog": [
   {
    "duration": 44,
    "start_time": "2023-02-16T21:07:17.482Z"
   },
   {
    "duration": 1555,
    "start_time": "2023-02-16T21:07:19.057Z"
   },
   {
    "duration": 113,
    "start_time": "2023-02-16T21:07:20.613Z"
   },
   {
    "duration": 1315,
    "start_time": "2023-02-16T21:07:37.850Z"
   },
   {
    "duration": 142,
    "start_time": "2023-02-16T21:07:39.167Z"
   },
   {
    "duration": 0,
    "start_time": "2023-02-16T21:07:39.310Z"
   },
   {
    "duration": 45,
    "start_time": "2023-02-16T21:09:24.665Z"
   },
   {
    "duration": 1355,
    "start_time": "2023-02-16T21:09:57.228Z"
   },
   {
    "duration": 149,
    "start_time": "2023-02-16T21:09:58.586Z"
   },
   {
    "duration": 0,
    "start_time": "2023-02-16T21:09:58.737Z"
   },
   {
    "duration": 80,
    "start_time": "2023-02-16T21:12:13.392Z"
   },
   {
    "duration": 45,
    "start_time": "2023-02-16T21:45:52.195Z"
   },
   {
    "duration": 1676,
    "start_time": "2023-02-17T06:33:59.656Z"
   },
   {
    "duration": 154,
    "start_time": "2023-02-17T06:34:01.334Z"
   },
   {
    "duration": 0,
    "start_time": "2023-02-17T06:34:01.489Z"
   },
   {
    "duration": 13,
    "start_time": "2023-02-17T06:34:21.368Z"
   },
   {
    "duration": 13,
    "start_time": "2023-02-17T06:35:35.096Z"
   },
   {
    "duration": 6,
    "start_time": "2023-02-17T06:36:17.986Z"
   },
   {
    "duration": 3349,
    "start_time": "2023-02-17T06:36:19.130Z"
   },
   {
    "duration": 886,
    "start_time": "2023-02-17T06:45:02.953Z"
   },
   {
    "duration": 44,
    "start_time": "2023-02-17T06:45:14.284Z"
   },
   {
    "duration": 13,
    "start_time": "2023-02-17T06:46:49.004Z"
   },
   {
    "duration": 664,
    "start_time": "2023-02-17T06:47:56.045Z"
   },
   {
    "duration": 607,
    "start_time": "2023-02-17T06:48:35.517Z"
   },
   {
    "duration": 3,
    "start_time": "2023-02-17T07:28:02.352Z"
   },
   {
    "duration": 8,
    "start_time": "2023-02-17T07:28:25.121Z"
   },
   {
    "duration": 4,
    "start_time": "2023-02-17T07:28:35.697Z"
   },
   {
    "duration": 4,
    "start_time": "2023-02-17T07:28:42.904Z"
   },
   {
    "duration": 5,
    "start_time": "2023-02-17T07:34:49.178Z"
   },
   {
    "duration": 3,
    "start_time": "2023-02-17T07:36:29.379Z"
   },
   {
    "duration": 11,
    "start_time": "2023-02-17T07:36:39.052Z"
   },
   {
    "duration": 1441,
    "start_time": "2023-02-17T07:36:43.191Z"
   },
   {
    "duration": 842,
    "start_time": "2023-02-17T07:36:44.635Z"
   },
   {
    "duration": 43,
    "start_time": "2023-02-17T07:36:45.479Z"
   },
   {
    "duration": 693,
    "start_time": "2023-02-17T07:36:45.524Z"
   },
   {
    "duration": 3,
    "start_time": "2023-02-17T07:36:46.219Z"
   },
   {
    "duration": 12,
    "start_time": "2023-02-17T07:36:46.223Z"
   },
   {
    "duration": 5,
    "start_time": "2023-02-17T07:36:46.249Z"
   },
   {
    "duration": 14,
    "start_time": "2023-02-17T07:36:46.255Z"
   },
   {
    "duration": 26,
    "start_time": "2023-02-17T07:36:46.271Z"
   },
   {
    "duration": 1564,
    "start_time": "2023-02-17T18:20:06.912Z"
   },
   {
    "duration": 3314,
    "start_time": "2023-02-17T18:20:08.478Z"
   },
   {
    "duration": 40,
    "start_time": "2023-02-17T18:20:11.794Z"
   },
   {
    "duration": 646,
    "start_time": "2023-02-17T18:20:11.836Z"
   },
   {
    "duration": 3,
    "start_time": "2023-02-17T18:20:12.483Z"
   },
   {
    "duration": 20,
    "start_time": "2023-02-17T18:20:12.488Z"
   },
   {
    "duration": 4,
    "start_time": "2023-02-17T18:20:12.509Z"
   },
   {
    "duration": 7,
    "start_time": "2023-02-17T18:20:12.514Z"
   },
   {
    "duration": 18,
    "start_time": "2023-02-17T18:20:12.522Z"
   },
   {
    "duration": 7,
    "start_time": "2023-02-17T18:20:30.388Z"
   },
   {
    "duration": 25,
    "start_time": "2023-02-17T18:34:55.064Z"
   },
   {
    "duration": 13,
    "start_time": "2023-02-17T18:43:23.918Z"
   },
   {
    "duration": 13,
    "start_time": "2023-02-17T18:43:27.260Z"
   },
   {
    "duration": 1476,
    "start_time": "2023-02-17T18:43:31.806Z"
   },
   {
    "duration": 792,
    "start_time": "2023-02-17T18:43:33.283Z"
   },
   {
    "duration": 39,
    "start_time": "2023-02-17T18:43:34.077Z"
   },
   {
    "duration": 606,
    "start_time": "2023-02-17T18:43:34.118Z"
   },
   {
    "duration": 3,
    "start_time": "2023-02-17T18:43:34.726Z"
   },
   {
    "duration": 11,
    "start_time": "2023-02-17T18:43:34.731Z"
   },
   {
    "duration": 4,
    "start_time": "2023-02-17T18:43:34.743Z"
   },
   {
    "duration": 5,
    "start_time": "2023-02-17T18:43:34.749Z"
   },
   {
    "duration": 16,
    "start_time": "2023-02-17T18:43:34.755Z"
   },
   {
    "duration": 32,
    "start_time": "2023-02-17T18:43:34.773Z"
   },
   {
    "duration": 21,
    "start_time": "2023-02-17T18:43:34.807Z"
   },
   {
    "duration": 12,
    "start_time": "2023-02-17T18:43:34.829Z"
   },
   {
    "duration": 19,
    "start_time": "2023-02-17T18:44:27.758Z"
   },
   {
    "duration": 239,
    "start_time": "2023-02-17T18:45:43.930Z"
   },
   {
    "duration": 216,
    "start_time": "2023-02-17T18:46:04.939Z"
   },
   {
    "duration": 202,
    "start_time": "2023-02-17T18:46:14.045Z"
   },
   {
    "duration": 214,
    "start_time": "2023-02-17T18:46:25.989Z"
   },
   {
    "duration": 4,
    "start_time": "2023-02-17T19:19:41.566Z"
   },
   {
    "duration": 4,
    "start_time": "2023-02-17T19:19:43.725Z"
   },
   {
    "duration": 4,
    "start_time": "2023-02-17T19:19:46.415Z"
   },
   {
    "duration": 4,
    "start_time": "2023-02-17T19:20:59.149Z"
   },
   {
    "duration": 5,
    "start_time": "2023-02-17T19:21:01.053Z"
   },
   {
    "duration": 5,
    "start_time": "2023-02-17T19:21:01.786Z"
   },
   {
    "duration": 3,
    "start_time": "2023-02-17T19:24:46.282Z"
   },
   {
    "duration": 323,
    "start_time": "2023-02-17T19:24:48.052Z"
   },
   {
    "duration": 693,
    "start_time": "2023-02-17T19:25:20.752Z"
   },
   {
    "duration": 456,
    "start_time": "2023-02-17T19:26:08.196Z"
   },
   {
    "duration": 139,
    "start_time": "2023-02-17T19:27:19.838Z"
   },
   {
    "duration": 359,
    "start_time": "2023-02-17T19:27:37.880Z"
   },
   {
    "duration": 321,
    "start_time": "2023-02-17T19:27:52.337Z"
   },
   {
    "duration": 604,
    "start_time": "2023-02-17T19:28:02.621Z"
   },
   {
    "duration": 473,
    "start_time": "2023-02-17T19:28:05.380Z"
   },
   {
    "duration": 1251,
    "start_time": "2023-02-17T19:28:16.550Z"
   },
   {
    "duration": 362,
    "start_time": "2023-02-17T19:28:29.170Z"
   },
   {
    "duration": 353,
    "start_time": "2023-02-17T19:28:49.779Z"
   },
   {
    "duration": 474,
    "start_time": "2023-02-17T19:29:08.439Z"
   },
   {
    "duration": 347,
    "start_time": "2023-02-17T19:31:55.723Z"
   },
   {
    "duration": 1405,
    "start_time": "2023-02-17T19:37:55.631Z"
   },
   {
    "duration": 860,
    "start_time": "2023-02-17T19:37:57.038Z"
   },
   {
    "duration": 43,
    "start_time": "2023-02-17T19:37:57.899Z"
   },
   {
    "duration": 617,
    "start_time": "2023-02-17T19:37:57.944Z"
   },
   {
    "duration": 3,
    "start_time": "2023-02-17T19:37:58.562Z"
   },
   {
    "duration": 35,
    "start_time": "2023-02-17T19:37:58.567Z"
   },
   {
    "duration": 41,
    "start_time": "2023-02-17T19:37:58.603Z"
   },
   {
    "duration": 20,
    "start_time": "2023-02-17T19:37:58.646Z"
   },
   {
    "duration": 45,
    "start_time": "2023-02-17T19:37:58.668Z"
   },
   {
    "duration": 16,
    "start_time": "2023-02-17T19:37:58.716Z"
   },
   {
    "duration": 40,
    "start_time": "2023-02-17T19:37:58.734Z"
   },
   {
    "duration": 14,
    "start_time": "2023-02-17T19:37:58.776Z"
   },
   {
    "duration": 36,
    "start_time": "2023-02-17T19:37:58.792Z"
   },
   {
    "duration": 259,
    "start_time": "2023-02-17T19:37:58.830Z"
   },
   {
    "duration": 5,
    "start_time": "2023-02-17T19:37:59.090Z"
   },
   {
    "duration": 37,
    "start_time": "2023-02-17T19:37:59.105Z"
   },
   {
    "duration": 34,
    "start_time": "2023-02-17T19:37:59.144Z"
   },
   {
    "duration": 375,
    "start_time": "2023-02-17T19:37:59.179Z"
   },
   {
    "duration": 13,
    "start_time": "2023-02-17T19:47:31.873Z"
   },
   {
    "duration": 1282,
    "start_time": "2023-02-17T19:47:59.646Z"
   },
   {
    "duration": 5,
    "start_time": "2023-02-17T19:49:08.121Z"
   },
   {
    "duration": 1378,
    "start_time": "2023-02-17T19:49:12.854Z"
   },
   {
    "duration": 831,
    "start_time": "2023-02-17T19:49:14.234Z"
   },
   {
    "duration": 52,
    "start_time": "2023-02-17T19:49:15.067Z"
   },
   {
    "duration": 645,
    "start_time": "2023-02-17T19:49:15.122Z"
   },
   {
    "duration": 3,
    "start_time": "2023-02-17T19:49:15.769Z"
   },
   {
    "duration": 13,
    "start_time": "2023-02-17T19:49:15.774Z"
   },
   {
    "duration": 16,
    "start_time": "2023-02-17T19:49:15.789Z"
   },
   {
    "duration": 9,
    "start_time": "2023-02-17T19:49:15.806Z"
   },
   {
    "duration": 17,
    "start_time": "2023-02-17T19:49:15.817Z"
   },
   {
    "duration": 4,
    "start_time": "2023-02-17T19:49:15.837Z"
   },
   {
    "duration": 24,
    "start_time": "2023-02-17T19:49:15.843Z"
   },
   {
    "duration": 37,
    "start_time": "2023-02-17T19:49:15.869Z"
   },
   {
    "duration": 21,
    "start_time": "2023-02-17T19:49:15.908Z"
   },
   {
    "duration": 262,
    "start_time": "2023-02-17T19:49:15.931Z"
   },
   {
    "duration": 11,
    "start_time": "2023-02-17T19:49:16.195Z"
   },
   {
    "duration": 13,
    "start_time": "2023-02-17T19:49:16.208Z"
   },
   {
    "duration": 5,
    "start_time": "2023-02-17T19:49:16.223Z"
   },
   {
    "duration": 354,
    "start_time": "2023-02-17T19:49:16.230Z"
   },
   {
    "duration": 1303,
    "start_time": "2023-02-17T19:49:16.586Z"
   },
   {
    "duration": 9,
    "start_time": "2023-02-17T19:52:39.533Z"
   },
   {
    "duration": 8,
    "start_time": "2023-02-17T19:52:41.023Z"
   },
   {
    "duration": 5,
    "start_time": "2023-02-17T19:52:41.762Z"
   },
   {
    "duration": 5,
    "start_time": "2023-02-17T19:52:42.570Z"
   },
   {
    "duration": 5,
    "start_time": "2023-02-17T20:21:34.450Z"
   },
   {
    "duration": 5,
    "start_time": "2023-02-17T20:21:42.987Z"
   },
   {
    "duration": 5,
    "start_time": "2023-02-17T20:22:23.019Z"
   },
   {
    "duration": 1342,
    "start_time": "2023-02-17T20:24:06.060Z"
   },
   {
    "duration": 795,
    "start_time": "2023-02-17T20:24:07.404Z"
   },
   {
    "duration": 38,
    "start_time": "2023-02-17T20:24:08.201Z"
   },
   {
    "duration": 576,
    "start_time": "2023-02-17T20:24:08.241Z"
   },
   {
    "duration": 3,
    "start_time": "2023-02-17T20:24:08.819Z"
   },
   {
    "duration": 28,
    "start_time": "2023-02-17T20:24:08.823Z"
   },
   {
    "duration": 16,
    "start_time": "2023-02-17T20:24:08.853Z"
   },
   {
    "duration": 26,
    "start_time": "2023-02-17T20:24:08.871Z"
   },
   {
    "duration": 29,
    "start_time": "2023-02-17T20:24:08.899Z"
   },
   {
    "duration": 11,
    "start_time": "2023-02-17T20:24:08.929Z"
   },
   {
    "duration": 35,
    "start_time": "2023-02-17T20:24:08.942Z"
   },
   {
    "duration": 35,
    "start_time": "2023-02-17T20:24:08.979Z"
   },
   {
    "duration": 41,
    "start_time": "2023-02-17T20:24:09.016Z"
   },
   {
    "duration": 231,
    "start_time": "2023-02-17T20:24:09.060Z"
   },
   {
    "duration": 5,
    "start_time": "2023-02-17T20:24:09.292Z"
   },
   {
    "duration": 7,
    "start_time": "2023-02-17T20:24:09.304Z"
   },
   {
    "duration": 27,
    "start_time": "2023-02-17T20:24:09.313Z"
   },
   {
    "duration": 392,
    "start_time": "2023-02-17T20:24:09.342Z"
   },
   {
    "duration": 1356,
    "start_time": "2023-02-17T20:24:09.736Z"
   },
   {
    "duration": 11,
    "start_time": "2023-02-17T20:24:11.094Z"
   },
   {
    "duration": 25,
    "start_time": "2023-02-17T20:24:11.107Z"
   },
   {
    "duration": 551,
    "start_time": "2023-02-17T20:24:11.133Z"
   },
   {
    "duration": 5,
    "start_time": "2023-02-17T20:24:11.685Z"
   },
   {
    "duration": 570,
    "start_time": "2023-02-17T20:24:11.691Z"
   },
   {
    "duration": 5,
    "start_time": "2023-02-17T20:24:12.262Z"
   },
   {
    "duration": 629,
    "start_time": "2023-02-17T20:24:12.268Z"
   },
   {
    "duration": 1431,
    "start_time": "2023-02-18T07:43:30.653Z"
   },
   {
    "duration": 1872,
    "start_time": "2023-02-18T07:43:32.086Z"
   },
   {
    "duration": 38,
    "start_time": "2023-02-18T07:43:33.959Z"
   },
   {
    "duration": 555,
    "start_time": "2023-02-18T07:43:33.999Z"
   },
   {
    "duration": 3,
    "start_time": "2023-02-18T07:43:34.555Z"
   },
   {
    "duration": 14,
    "start_time": "2023-02-18T07:43:34.560Z"
   },
   {
    "duration": 25,
    "start_time": "2023-02-18T07:43:34.576Z"
   },
   {
    "duration": 6,
    "start_time": "2023-02-18T07:43:34.602Z"
   },
   {
    "duration": 16,
    "start_time": "2023-02-18T07:43:34.610Z"
   },
   {
    "duration": 5,
    "start_time": "2023-02-18T07:43:34.628Z"
   },
   {
    "duration": 19,
    "start_time": "2023-02-18T07:43:34.637Z"
   },
   {
    "duration": 10,
    "start_time": "2023-02-18T07:43:34.658Z"
   },
   {
    "duration": 18,
    "start_time": "2023-02-18T07:43:34.670Z"
   },
   {
    "duration": 236,
    "start_time": "2023-02-18T07:43:34.690Z"
   },
   {
    "duration": 11,
    "start_time": "2023-02-18T07:43:34.928Z"
   },
   {
    "duration": 24,
    "start_time": "2023-02-18T07:43:34.940Z"
   },
   {
    "duration": 10,
    "start_time": "2023-02-18T07:43:34.966Z"
   },
   {
    "duration": 355,
    "start_time": "2023-02-18T07:43:34.978Z"
   },
   {
    "duration": 1183,
    "start_time": "2023-02-18T07:43:35.337Z"
   },
   {
    "duration": 5,
    "start_time": "2023-02-18T07:43:36.521Z"
   },
   {
    "duration": 8,
    "start_time": "2023-02-18T07:43:36.537Z"
   },
   {
    "duration": 524,
    "start_time": "2023-02-18T07:43:36.546Z"
   },
   {
    "duration": 4,
    "start_time": "2023-02-18T07:43:37.072Z"
   },
   {
    "duration": 533,
    "start_time": "2023-02-18T07:43:37.077Z"
   },
   {
    "duration": 4,
    "start_time": "2023-02-18T07:43:37.611Z"
   },
   {
    "duration": 606,
    "start_time": "2023-02-18T07:43:37.617Z"
   },
   {
    "duration": 4,
    "start_time": "2023-02-18T09:40:19.192Z"
   },
   {
    "duration": 12,
    "start_time": "2023-02-18T10:11:29.729Z"
   },
   {
    "duration": 9,
    "start_time": "2023-02-18T10:11:59.510Z"
   },
   {
    "duration": 100,
    "start_time": "2023-02-18T10:12:43.734Z"
   },
   {
    "duration": 11,
    "start_time": "2023-02-18T10:12:48.811Z"
   },
   {
    "duration": 9,
    "start_time": "2023-02-18T10:13:54.564Z"
   },
   {
    "duration": 4,
    "start_time": "2023-02-18T10:33:03.187Z"
   },
   {
    "duration": 4,
    "start_time": "2023-02-18T10:33:10.224Z"
   },
   {
    "duration": 19,
    "start_time": "2023-02-18T10:59:59.265Z"
   },
   {
    "duration": 13,
    "start_time": "2023-02-18T11:00:09.100Z"
   },
   {
    "duration": 7,
    "start_time": "2023-02-18T11:06:48.555Z"
   },
   {
    "duration": 1316,
    "start_time": "2023-02-18T11:08:43.503Z"
   },
   {
    "duration": 676,
    "start_time": "2023-02-18T11:08:44.821Z"
   },
   {
    "duration": 39,
    "start_time": "2023-02-18T11:08:45.498Z"
   },
   {
    "duration": 575,
    "start_time": "2023-02-18T11:08:45.539Z"
   },
   {
    "duration": 3,
    "start_time": "2023-02-18T11:08:46.116Z"
   },
   {
    "duration": 17,
    "start_time": "2023-02-18T11:08:46.120Z"
   },
   {
    "duration": 4,
    "start_time": "2023-02-18T11:08:46.139Z"
   },
   {
    "duration": 4,
    "start_time": "2023-02-18T11:08:46.145Z"
   },
   {
    "duration": 16,
    "start_time": "2023-02-18T11:08:46.151Z"
   },
   {
    "duration": 5,
    "start_time": "2023-02-18T11:08:46.169Z"
   },
   {
    "duration": 19,
    "start_time": "2023-02-18T11:08:46.175Z"
   },
   {
    "duration": 41,
    "start_time": "2023-02-18T11:08:46.196Z"
   },
   {
    "duration": 18,
    "start_time": "2023-02-18T11:08:46.239Z"
   },
   {
    "duration": 224,
    "start_time": "2023-02-18T11:08:46.258Z"
   },
   {
    "duration": 4,
    "start_time": "2023-02-18T11:08:46.484Z"
   },
   {
    "duration": 7,
    "start_time": "2023-02-18T11:08:46.489Z"
   },
   {
    "duration": 6,
    "start_time": "2023-02-18T11:08:46.497Z"
   },
   {
    "duration": 347,
    "start_time": "2023-02-18T11:08:46.505Z"
   },
   {
    "duration": 1159,
    "start_time": "2023-02-18T11:08:46.854Z"
   },
   {
    "duration": 6,
    "start_time": "2023-02-18T11:08:48.015Z"
   },
   {
    "duration": 15,
    "start_time": "2023-02-18T11:08:48.023Z"
   },
   {
    "duration": 552,
    "start_time": "2023-02-18T11:08:48.040Z"
   },
   {
    "duration": 5,
    "start_time": "2023-02-18T11:08:48.594Z"
   },
   {
    "duration": 514,
    "start_time": "2023-02-18T11:08:48.601Z"
   },
   {
    "duration": 5,
    "start_time": "2023-02-18T11:08:49.116Z"
   },
   {
    "duration": 588,
    "start_time": "2023-02-18T11:08:49.123Z"
   },
   {
    "duration": 9,
    "start_time": "2023-02-18T11:08:49.713Z"
   },
   {
    "duration": 20,
    "start_time": "2023-02-18T11:08:49.725Z"
   },
   {
    "duration": 8,
    "start_time": "2023-02-18T11:08:49.747Z"
   },
   {
    "duration": 3,
    "start_time": "2023-02-18T11:08:49.757Z"
   },
   {
    "duration": 15,
    "start_time": "2023-02-18T11:08:49.762Z"
   },
   {
    "duration": 9,
    "start_time": "2023-02-18T11:08:49.779Z"
   },
   {
    "duration": 222,
    "start_time": "2023-02-18T11:10:28.100Z"
   },
   {
    "duration": 125,
    "start_time": "2023-02-18T11:10:39.822Z"
   },
   {
    "duration": 673,
    "start_time": "2023-02-18T11:10:47.830Z"
   },
   {
    "duration": 866,
    "start_time": "2023-02-18T11:11:24.482Z"
   },
   {
    "duration": 573,
    "start_time": "2023-02-18T11:11:41.956Z"
   },
   {
    "duration": 538,
    "start_time": "2023-02-18T11:11:45.794Z"
   },
   {
    "duration": 3,
    "start_time": "2023-02-18T11:13:16.911Z"
   },
   {
    "duration": 4,
    "start_time": "2023-02-18T11:13:45.254Z"
   },
   {
    "duration": 58,
    "start_time": "2023-02-18T11:13:48.771Z"
   },
   {
    "duration": 4,
    "start_time": "2023-02-18T11:13:57.361Z"
   },
   {
    "duration": 52,
    "start_time": "2023-02-18T11:14:00.491Z"
   },
   {
    "duration": 10,
    "start_time": "2023-02-18T11:14:04.025Z"
   },
   {
    "duration": 4,
    "start_time": "2023-02-18T11:14:09.156Z"
   },
   {
    "duration": 4,
    "start_time": "2023-02-18T11:14:11.022Z"
   },
   {
    "duration": 5,
    "start_time": "2023-02-18T11:14:16.669Z"
   },
   {
    "duration": 4,
    "start_time": "2023-02-18T11:14:50.496Z"
   },
   {
    "duration": 47,
    "start_time": "2023-02-19T07:52:56.559Z"
   },
   {
    "duration": 1548,
    "start_time": "2023-02-19T07:53:00.782Z"
   },
   {
    "duration": 1963,
    "start_time": "2023-02-19T07:53:02.332Z"
   },
   {
    "duration": 42,
    "start_time": "2023-02-19T07:53:04.297Z"
   },
   {
    "duration": 609,
    "start_time": "2023-02-19T07:53:04.340Z"
   },
   {
    "duration": 2,
    "start_time": "2023-02-19T07:53:04.952Z"
   },
   {
    "duration": 11,
    "start_time": "2023-02-19T07:53:04.956Z"
   },
   {
    "duration": 5,
    "start_time": "2023-02-19T07:53:04.969Z"
   },
   {
    "duration": 6,
    "start_time": "2023-02-19T07:53:04.976Z"
   },
   {
    "duration": 18,
    "start_time": "2023-02-19T07:53:04.983Z"
   },
   {
    "duration": 6,
    "start_time": "2023-02-19T07:53:05.027Z"
   },
   {
    "duration": 24,
    "start_time": "2023-02-19T07:53:05.035Z"
   },
   {
    "duration": 15,
    "start_time": "2023-02-19T07:53:05.061Z"
   },
   {
    "duration": 49,
    "start_time": "2023-02-19T07:53:05.078Z"
   },
   {
    "duration": 234,
    "start_time": "2023-02-19T07:53:05.130Z"
   },
   {
    "duration": 4,
    "start_time": "2023-02-19T07:53:05.366Z"
   },
   {
    "duration": 6,
    "start_time": "2023-02-19T07:53:05.372Z"
   },
   {
    "duration": 11,
    "start_time": "2023-02-19T07:53:05.379Z"
   },
   {
    "duration": 379,
    "start_time": "2023-02-19T07:53:05.391Z"
   },
   {
    "duration": 1157,
    "start_time": "2023-02-19T07:53:05.771Z"
   },
   {
    "duration": 5,
    "start_time": "2023-02-19T07:53:06.930Z"
   },
   {
    "duration": 7,
    "start_time": "2023-02-19T07:53:06.937Z"
   },
   {
    "duration": 567,
    "start_time": "2023-02-19T07:53:06.946Z"
   },
   {
    "duration": 5,
    "start_time": "2023-02-19T07:53:07.516Z"
   },
   {
    "duration": 580,
    "start_time": "2023-02-19T07:53:07.523Z"
   },
   {
    "duration": 6,
    "start_time": "2023-02-19T07:53:08.105Z"
   },
   {
    "duration": 726,
    "start_time": "2023-02-19T07:53:08.113Z"
   },
   {
    "duration": 10,
    "start_time": "2023-02-19T07:53:08.841Z"
   },
   {
    "duration": 18,
    "start_time": "2023-02-19T07:53:08.853Z"
   },
   {
    "duration": 11,
    "start_time": "2023-02-19T07:53:08.873Z"
   },
   {
    "duration": 4,
    "start_time": "2023-02-19T07:53:08.886Z"
   },
   {
    "duration": 48,
    "start_time": "2023-02-19T07:53:08.892Z"
   },
   {
    "duration": 8,
    "start_time": "2023-02-19T07:53:08.942Z"
   },
   {
    "duration": 29,
    "start_time": "2023-02-19T07:53:08.952Z"
   },
   {
    "duration": 114,
    "start_time": "2023-02-19T07:54:18.406Z"
   },
   {
    "duration": 10,
    "start_time": "2023-02-19T07:55:07.632Z"
   },
   {
    "duration": 6,
    "start_time": "2023-02-19T07:55:37.584Z"
   },
   {
    "duration": 14,
    "start_time": "2023-02-19T07:55:47.285Z"
   },
   {
    "duration": 24,
    "start_time": "2023-02-19T07:55:48.747Z"
   },
   {
    "duration": 31,
    "start_time": "2023-02-19T07:57:06.355Z"
   },
   {
    "duration": 29,
    "start_time": "2023-02-19T07:57:16.200Z"
   },
   {
    "duration": 55,
    "start_time": "2023-02-19T07:59:30.778Z"
   },
   {
    "duration": 712,
    "start_time": "2023-02-19T08:01:02.019Z"
   },
   {
    "duration": 2321,
    "start_time": "2023-02-19T08:01:20.608Z"
   },
   {
    "duration": 1568,
    "start_time": "2023-02-20T11:00:06.342Z"
   },
   {
    "duration": 3101,
    "start_time": "2023-02-20T11:00:07.912Z"
   },
   {
    "duration": 40,
    "start_time": "2023-02-20T11:00:11.014Z"
   },
   {
    "duration": 559,
    "start_time": "2023-02-20T11:00:11.056Z"
   },
   {
    "duration": 4,
    "start_time": "2023-02-20T11:00:11.616Z"
   },
   {
    "duration": 12,
    "start_time": "2023-02-20T11:00:11.622Z"
   },
   {
    "duration": 6,
    "start_time": "2023-02-20T11:00:11.636Z"
   },
   {
    "duration": 19,
    "start_time": "2023-02-20T11:00:11.644Z"
   },
   {
    "duration": 24,
    "start_time": "2023-02-20T11:00:11.665Z"
   },
   {
    "duration": 4,
    "start_time": "2023-02-20T11:00:11.692Z"
   },
   {
    "duration": 21,
    "start_time": "2023-02-20T11:00:11.698Z"
   },
   {
    "duration": 12,
    "start_time": "2023-02-20T11:00:11.720Z"
   },
   {
    "duration": 39,
    "start_time": "2023-02-20T11:00:11.734Z"
   },
   {
    "duration": 227,
    "start_time": "2023-02-20T11:00:11.774Z"
   },
   {
    "duration": 4,
    "start_time": "2023-02-20T11:00:12.002Z"
   },
   {
    "duration": 10,
    "start_time": "2023-02-20T11:00:12.007Z"
   },
   {
    "duration": 22,
    "start_time": "2023-02-20T11:00:12.018Z"
   },
   {
    "duration": 328,
    "start_time": "2023-02-20T11:00:12.041Z"
   },
   {
    "duration": 1153,
    "start_time": "2023-02-20T11:00:12.371Z"
   },
   {
    "duration": 5,
    "start_time": "2023-02-20T11:00:13.526Z"
   },
   {
    "duration": 12,
    "start_time": "2023-02-20T11:00:13.533Z"
   },
   {
    "duration": 528,
    "start_time": "2023-02-20T11:00:13.546Z"
   },
   {
    "duration": 5,
    "start_time": "2023-02-20T11:00:14.075Z"
   },
   {
    "duration": 493,
    "start_time": "2023-02-20T11:00:14.081Z"
   },
   {
    "duration": 5,
    "start_time": "2023-02-20T11:00:14.575Z"
   },
   {
    "duration": 689,
    "start_time": "2023-02-20T11:00:14.581Z"
   },
   {
    "duration": 11,
    "start_time": "2023-02-20T11:00:15.271Z"
   },
   {
    "duration": 16,
    "start_time": "2023-02-20T11:00:15.285Z"
   },
   {
    "duration": 15,
    "start_time": "2023-02-20T11:00:15.302Z"
   },
   {
    "duration": 4,
    "start_time": "2023-02-20T11:00:15.319Z"
   },
   {
    "duration": 17,
    "start_time": "2023-02-20T11:00:15.324Z"
   },
   {
    "duration": 6,
    "start_time": "2023-02-20T11:00:15.362Z"
   },
   {
    "duration": 14,
    "start_time": "2023-02-20T11:00:15.370Z"
   },
   {
    "duration": 25,
    "start_time": "2023-02-20T11:00:15.385Z"
   },
   {
    "duration": 23,
    "start_time": "2023-02-20T11:00:15.411Z"
   },
   {
    "duration": 2553,
    "start_time": "2023-02-20T11:00:15.462Z"
   },
   {
    "duration": 2634,
    "start_time": "2023-02-20T11:02:21.915Z"
   },
   {
    "duration": 1369,
    "start_time": "2023-02-20T11:14:33.291Z"
   },
   {
    "duration": 777,
    "start_time": "2023-02-20T11:14:34.662Z"
   },
   {
    "duration": 38,
    "start_time": "2023-02-20T11:14:35.441Z"
   },
   {
    "duration": 588,
    "start_time": "2023-02-20T11:14:35.481Z"
   },
   {
    "duration": 2,
    "start_time": "2023-02-20T11:14:36.071Z"
   },
   {
    "duration": 12,
    "start_time": "2023-02-20T11:14:36.075Z"
   },
   {
    "duration": 4,
    "start_time": "2023-02-20T11:14:36.088Z"
   },
   {
    "duration": 21,
    "start_time": "2023-02-20T11:14:36.094Z"
   },
   {
    "duration": 17,
    "start_time": "2023-02-20T11:14:36.117Z"
   },
   {
    "duration": 10,
    "start_time": "2023-02-20T11:14:36.137Z"
   },
   {
    "duration": 26,
    "start_time": "2023-02-20T11:14:36.149Z"
   },
   {
    "duration": 11,
    "start_time": "2023-02-20T11:14:36.177Z"
   },
   {
    "duration": 22,
    "start_time": "2023-02-20T11:14:36.190Z"
   },
   {
    "duration": 249,
    "start_time": "2023-02-20T11:14:36.213Z"
   },
   {
    "duration": 4,
    "start_time": "2023-02-20T11:14:36.464Z"
   },
   {
    "duration": 7,
    "start_time": "2023-02-20T11:14:36.470Z"
   },
   {
    "duration": 7,
    "start_time": "2023-02-20T11:14:36.478Z"
   },
   {
    "duration": 391,
    "start_time": "2023-02-20T11:14:36.486Z"
   },
   {
    "duration": 1174,
    "start_time": "2023-02-20T11:14:36.879Z"
   },
   {
    "duration": 8,
    "start_time": "2023-02-20T11:14:38.055Z"
   },
   {
    "duration": 8,
    "start_time": "2023-02-20T11:14:38.064Z"
   },
   {
    "duration": 555,
    "start_time": "2023-02-20T11:14:38.073Z"
   },
   {
    "duration": 5,
    "start_time": "2023-02-20T11:14:38.630Z"
   },
   {
    "duration": 518,
    "start_time": "2023-02-20T11:14:38.637Z"
   },
   {
    "duration": 7,
    "start_time": "2023-02-20T11:14:39.156Z"
   },
   {
    "duration": 618,
    "start_time": "2023-02-20T11:14:39.164Z"
   },
   {
    "duration": 9,
    "start_time": "2023-02-20T11:14:39.783Z"
   },
   {
    "duration": 12,
    "start_time": "2023-02-20T11:14:39.795Z"
   },
   {
    "duration": 10,
    "start_time": "2023-02-20T11:14:39.809Z"
   },
   {
    "duration": 9,
    "start_time": "2023-02-20T11:14:39.821Z"
   },
   {
    "duration": 6,
    "start_time": "2023-02-20T11:14:39.831Z"
   },
   {
    "duration": 32,
    "start_time": "2023-02-20T11:14:39.839Z"
   },
   {
    "duration": 9,
    "start_time": "2023-02-20T11:14:39.873Z"
   },
   {
    "duration": 13,
    "start_time": "2023-02-20T11:14:39.884Z"
   },
   {
    "duration": 23,
    "start_time": "2023-02-20T11:14:39.899Z"
   },
   {
    "duration": 43,
    "start_time": "2023-02-20T11:14:39.923Z"
   },
   {
    "duration": 2814,
    "start_time": "2023-02-20T11:14:39.968Z"
   },
   {
    "duration": 387486,
    "start_time": "2023-02-20T11:14:57.575Z"
   },
   {
    "duration": 11,
    "start_time": "2023-02-20T12:58:21.547Z"
   },
   {
    "duration": 3282,
    "start_time": "2023-02-20T12:58:50.179Z"
   },
   {
    "duration": 13530,
    "start_time": "2023-02-20T13:00:09.660Z"
   },
   {
    "duration": 371,
    "start_time": "2023-02-20T13:33:19.315Z"
   },
   {
    "duration": 369,
    "start_time": "2023-02-20T13:33:32.298Z"
   },
   {
    "duration": 342,
    "start_time": "2023-02-20T13:34:35.883Z"
   },
   {
    "duration": 9,
    "start_time": "2023-02-20T13:35:49.019Z"
   },
   {
    "duration": 1545,
    "start_time": "2023-02-22T02:48:15.289Z"
   },
   {
    "duration": 3652,
    "start_time": "2023-02-22T02:48:16.836Z"
   },
   {
    "duration": 42,
    "start_time": "2023-02-22T02:48:20.490Z"
   },
   {
    "duration": 602,
    "start_time": "2023-02-22T02:48:20.535Z"
   },
   {
    "duration": 10,
    "start_time": "2023-02-22T02:48:21.139Z"
   },
   {
    "duration": 29,
    "start_time": "2023-02-22T02:48:21.151Z"
   },
   {
    "duration": 10,
    "start_time": "2023-02-22T02:48:21.182Z"
   },
   {
    "duration": 14,
    "start_time": "2023-02-22T02:48:21.194Z"
   },
   {
    "duration": 18,
    "start_time": "2023-02-22T02:48:21.210Z"
   },
   {
    "duration": 20,
    "start_time": "2023-02-22T02:48:21.231Z"
   },
   {
    "duration": 30,
    "start_time": "2023-02-22T02:48:21.253Z"
   },
   {
    "duration": 14,
    "start_time": "2023-02-22T02:48:21.285Z"
   },
   {
    "duration": 24,
    "start_time": "2023-02-22T02:48:21.301Z"
   },
   {
    "duration": 258,
    "start_time": "2023-02-22T02:48:21.327Z"
   },
   {
    "duration": 6,
    "start_time": "2023-02-22T02:48:21.587Z"
   },
   {
    "duration": 47,
    "start_time": "2023-02-22T02:48:21.595Z"
   },
   {
    "duration": 23,
    "start_time": "2023-02-22T02:48:21.644Z"
   },
   {
    "duration": 376,
    "start_time": "2023-02-22T02:48:21.669Z"
   },
   {
    "duration": 1274,
    "start_time": "2023-02-22T02:48:22.047Z"
   },
   {
    "duration": 5,
    "start_time": "2023-02-22T02:48:23.323Z"
   },
   {
    "duration": 19,
    "start_time": "2023-02-22T02:48:23.330Z"
   },
   {
    "duration": 628,
    "start_time": "2023-02-22T02:48:23.351Z"
   },
   {
    "duration": 5,
    "start_time": "2023-02-22T02:48:23.981Z"
   },
   {
    "duration": 556,
    "start_time": "2023-02-22T02:48:23.988Z"
   },
   {
    "duration": 6,
    "start_time": "2023-02-22T02:48:24.546Z"
   },
   {
    "duration": 685,
    "start_time": "2023-02-22T02:48:24.554Z"
   },
   {
    "duration": 11,
    "start_time": "2023-02-22T02:48:25.241Z"
   },
   {
    "duration": 12,
    "start_time": "2023-02-22T02:48:25.256Z"
   },
   {
    "duration": 8,
    "start_time": "2023-02-22T02:48:25.270Z"
   },
   {
    "duration": 4,
    "start_time": "2023-02-22T02:48:25.279Z"
   },
   {
    "duration": 8,
    "start_time": "2023-02-22T02:48:25.284Z"
   },
   {
    "duration": 17,
    "start_time": "2023-02-22T02:48:25.294Z"
   },
   {
    "duration": 36,
    "start_time": "2023-02-22T02:48:25.313Z"
   },
   {
    "duration": 13,
    "start_time": "2023-02-22T02:48:25.351Z"
   },
   {
    "duration": 35,
    "start_time": "2023-02-22T02:48:25.366Z"
   },
   {
    "duration": 46,
    "start_time": "2023-02-22T02:48:25.403Z"
   },
   {
    "duration": 415625,
    "start_time": "2023-02-22T02:48:25.451Z"
   },
   {
    "duration": 2272,
    "start_time": "2023-02-22T02:55:21.078Z"
   },
   {
    "duration": 14965,
    "start_time": "2023-02-22T02:55:23.355Z"
   },
   {
    "duration": 370,
    "start_time": "2023-02-22T02:55:38.322Z"
   },
   {
    "duration": 8,
    "start_time": "2023-02-22T02:55:38.694Z"
   },
   {
    "duration": 306,
    "start_time": "2023-02-22T04:02:42.021Z"
   },
   {
    "duration": 350,
    "start_time": "2023-02-22T04:05:09.232Z"
   },
   {
    "duration": 6,
    "start_time": "2023-02-22T04:08:47.861Z"
   },
   {
    "duration": 324,
    "start_time": "2023-02-22T04:08:49.151Z"
   },
   {
    "duration": 4,
    "start_time": "2023-02-22T04:52:55.832Z"
   },
   {
    "duration": 113,
    "start_time": "2023-02-22T05:37:22.226Z"
   },
   {
    "duration": 11,
    "start_time": "2023-02-22T05:38:38.550Z"
   },
   {
    "duration": 9,
    "start_time": "2023-02-22T05:52:59.479Z"
   },
   {
    "duration": 4,
    "start_time": "2023-02-22T05:53:28.081Z"
   },
   {
    "duration": 17,
    "start_time": "2023-02-22T05:53:30.800Z"
   },
   {
    "duration": 13,
    "start_time": "2023-02-22T05:53:41.696Z"
   },
   {
    "duration": 8,
    "start_time": "2023-02-22T05:55:59.392Z"
   },
   {
    "duration": 4,
    "start_time": "2023-02-22T05:56:15.985Z"
   },
   {
    "duration": 11,
    "start_time": "2023-02-22T05:56:33.216Z"
   },
   {
    "duration": 7,
    "start_time": "2023-02-22T05:56:37.296Z"
   },
   {
    "duration": 9,
    "start_time": "2023-02-22T05:56:38.784Z"
   },
   {
    "duration": 10,
    "start_time": "2023-02-22T05:56:44.864Z"
   },
   {
    "duration": 9,
    "start_time": "2023-02-22T05:56:55.977Z"
   },
   {
    "duration": 10,
    "start_time": "2023-02-22T05:56:57.369Z"
   },
   {
    "duration": 1381,
    "start_time": "2023-02-22T05:57:06.550Z"
   },
   {
    "duration": 782,
    "start_time": "2023-02-22T05:57:07.933Z"
   },
   {
    "duration": 42,
    "start_time": "2023-02-22T05:57:08.717Z"
   },
   {
    "duration": 611,
    "start_time": "2023-02-22T05:57:08.761Z"
   },
   {
    "duration": 2,
    "start_time": "2023-02-22T05:57:09.374Z"
   },
   {
    "duration": 20,
    "start_time": "2023-02-22T05:57:09.378Z"
   },
   {
    "duration": 4,
    "start_time": "2023-02-22T05:57:09.400Z"
   },
   {
    "duration": 12,
    "start_time": "2023-02-22T05:57:09.406Z"
   },
   {
    "duration": 16,
    "start_time": "2023-02-22T05:57:09.419Z"
   },
   {
    "duration": 15,
    "start_time": "2023-02-22T05:57:09.437Z"
   },
   {
    "duration": 20,
    "start_time": "2023-02-22T05:57:09.453Z"
   },
   {
    "duration": 11,
    "start_time": "2023-02-22T05:57:09.475Z"
   },
   {
    "duration": 19,
    "start_time": "2023-02-22T05:57:09.488Z"
   },
   {
    "duration": 266,
    "start_time": "2023-02-22T05:57:09.509Z"
   },
   {
    "duration": 5,
    "start_time": "2023-02-22T05:57:09.777Z"
   },
   {
    "duration": 10,
    "start_time": "2023-02-22T05:57:09.784Z"
   },
   {
    "duration": 10,
    "start_time": "2023-02-22T05:57:09.796Z"
   },
   {
    "duration": 365,
    "start_time": "2023-02-22T05:57:09.807Z"
   },
   {
    "duration": 1147,
    "start_time": "2023-02-22T05:57:10.174Z"
   },
   {
    "duration": 5,
    "start_time": "2023-02-22T05:57:11.322Z"
   },
   {
    "duration": 20,
    "start_time": "2023-02-22T05:57:11.329Z"
   },
   {
    "duration": 560,
    "start_time": "2023-02-22T05:57:11.350Z"
   },
   {
    "duration": 6,
    "start_time": "2023-02-22T05:57:11.912Z"
   },
   {
    "duration": 540,
    "start_time": "2023-02-22T05:57:11.920Z"
   },
   {
    "duration": 5,
    "start_time": "2023-02-22T05:57:12.461Z"
   },
   {
    "duration": 630,
    "start_time": "2023-02-22T05:57:12.468Z"
   },
   {
    "duration": 3,
    "start_time": "2023-02-22T05:57:13.100Z"
   },
   {
    "duration": 5,
    "start_time": "2023-02-22T05:57:13.106Z"
   },
   {
    "duration": 11,
    "start_time": "2023-02-22T05:57:13.113Z"
   },
   {
    "duration": 33,
    "start_time": "2023-02-22T05:57:13.125Z"
   },
   {
    "duration": 9,
    "start_time": "2023-02-22T05:57:13.160Z"
   },
   {
    "duration": 3,
    "start_time": "2023-02-22T05:57:13.171Z"
   },
   {
    "duration": 9,
    "start_time": "2023-02-22T05:57:13.175Z"
   },
   {
    "duration": 20,
    "start_time": "2023-02-22T05:57:13.185Z"
   },
   {
    "duration": 8,
    "start_time": "2023-02-22T05:57:13.207Z"
   },
   {
    "duration": 36,
    "start_time": "2023-02-22T05:57:13.217Z"
   },
   {
    "duration": 25,
    "start_time": "2023-02-22T05:57:13.254Z"
   },
   {
    "duration": 23,
    "start_time": "2023-02-22T05:57:13.281Z"
   },
   {
    "duration": 425658,
    "start_time": "2023-02-22T05:57:13.305Z"
   },
   {
    "duration": 3490,
    "start_time": "2023-02-22T06:04:18.965Z"
   },
   {
    "duration": 15207,
    "start_time": "2023-02-22T06:04:22.464Z"
   },
   {
    "duration": 362,
    "start_time": "2023-02-22T06:04:37.673Z"
   },
   {
    "duration": 18,
    "start_time": "2023-02-22T06:04:38.037Z"
   },
   {
    "duration": 7,
    "start_time": "2023-02-22T06:23:43.807Z"
   },
   {
    "duration": 129,
    "start_time": "2023-02-22T06:23:46.265Z"
   },
   {
    "duration": 2,
    "start_time": "2023-02-22T06:23:55.504Z"
   },
   {
    "duration": 2,
    "start_time": "2023-02-22T06:23:56.896Z"
   },
   {
    "duration": 3,
    "start_time": "2023-02-22T06:24:07.598Z"
   },
   {
    "duration": 1550,
    "start_time": "2023-02-22T06:24:25.153Z"
   },
   {
    "duration": 872,
    "start_time": "2023-02-22T06:24:26.705Z"
   },
   {
    "duration": 43,
    "start_time": "2023-02-22T06:24:27.579Z"
   },
   {
    "duration": 649,
    "start_time": "2023-02-22T06:24:27.624Z"
   },
   {
    "duration": 3,
    "start_time": "2023-02-22T06:24:28.275Z"
   },
   {
    "duration": 11,
    "start_time": "2023-02-22T06:24:28.280Z"
   },
   {
    "duration": 6,
    "start_time": "2023-02-22T06:24:28.293Z"
   },
   {
    "duration": 9,
    "start_time": "2023-02-22T06:24:28.301Z"
   },
   {
    "duration": 17,
    "start_time": "2023-02-22T06:24:28.312Z"
   },
   {
    "duration": 6,
    "start_time": "2023-02-22T06:24:28.349Z"
   },
   {
    "duration": 26,
    "start_time": "2023-02-22T06:24:28.356Z"
   },
   {
    "duration": 14,
    "start_time": "2023-02-22T06:24:28.383Z"
   },
   {
    "duration": 51,
    "start_time": "2023-02-22T06:24:28.399Z"
   },
   {
    "duration": 246,
    "start_time": "2023-02-22T06:24:28.451Z"
   },
   {
    "duration": 5,
    "start_time": "2023-02-22T06:24:28.699Z"
   },
   {
    "duration": 9,
    "start_time": "2023-02-22T06:24:28.706Z"
   },
   {
    "duration": 11,
    "start_time": "2023-02-22T06:24:28.716Z"
   },
   {
    "duration": 378,
    "start_time": "2023-02-22T06:24:28.729Z"
   },
   {
    "duration": 1270,
    "start_time": "2023-02-22T06:24:29.109Z"
   },
   {
    "duration": 6,
    "start_time": "2023-02-22T06:24:30.381Z"
   },
   {
    "duration": 25,
    "start_time": "2023-02-22T06:24:30.389Z"
   },
   {
    "duration": 603,
    "start_time": "2023-02-22T06:24:30.416Z"
   },
   {
    "duration": 6,
    "start_time": "2023-02-22T06:24:31.021Z"
   },
   {
    "duration": 607,
    "start_time": "2023-02-22T06:24:31.029Z"
   },
   {
    "duration": 15,
    "start_time": "2023-02-22T06:24:31.638Z"
   },
   {
    "duration": 704,
    "start_time": "2023-02-22T06:24:31.655Z"
   },
   {
    "duration": 5,
    "start_time": "2023-02-22T06:24:32.361Z"
   },
   {
    "duration": 10,
    "start_time": "2023-02-22T06:24:32.370Z"
   },
   {
    "duration": 14,
    "start_time": "2023-02-22T06:24:32.381Z"
   },
   {
    "duration": 10,
    "start_time": "2023-02-22T06:24:32.397Z"
   },
   {
    "duration": 4,
    "start_time": "2023-02-22T06:24:32.408Z"
   },
   {
    "duration": 35,
    "start_time": "2023-02-22T06:24:32.414Z"
   },
   {
    "duration": 17,
    "start_time": "2023-02-22T06:24:32.451Z"
   },
   {
    "duration": 10,
    "start_time": "2023-02-22T06:24:32.470Z"
   },
   {
    "duration": 17,
    "start_time": "2023-02-22T06:24:32.481Z"
   },
   {
    "duration": 49,
    "start_time": "2023-02-22T06:24:32.500Z"
   },
   {
    "duration": 26,
    "start_time": "2023-02-22T06:24:32.551Z"
   },
   {
    "duration": 417197,
    "start_time": "2023-02-22T06:24:32.578Z"
   },
   {
    "duration": 2380,
    "start_time": "2023-02-22T06:31:29.777Z"
   },
   {
    "duration": 13947,
    "start_time": "2023-02-22T06:31:32.249Z"
   },
   {
    "duration": 371,
    "start_time": "2023-02-22T06:31:46.198Z"
   },
   {
    "duration": 8,
    "start_time": "2023-02-22T06:31:46.571Z"
   },
   {
    "duration": 1501,
    "start_time": "2023-02-22T07:27:23.253Z"
   },
   {
    "duration": 1424,
    "start_time": "2023-02-22T07:27:59.256Z"
   },
   {
    "duration": 829,
    "start_time": "2023-02-22T07:28:00.682Z"
   },
   {
    "duration": 41,
    "start_time": "2023-02-22T07:28:01.512Z"
   },
   {
    "duration": 640,
    "start_time": "2023-02-22T07:28:01.554Z"
   },
   {
    "duration": 3,
    "start_time": "2023-02-22T07:28:02.196Z"
   },
   {
    "duration": 25,
    "start_time": "2023-02-22T07:28:02.200Z"
   },
   {
    "duration": 4,
    "start_time": "2023-02-22T07:28:02.227Z"
   },
   {
    "duration": 20,
    "start_time": "2023-02-22T07:28:02.233Z"
   },
   {
    "duration": 17,
    "start_time": "2023-02-22T07:28:02.254Z"
   },
   {
    "duration": 5,
    "start_time": "2023-02-22T07:28:02.273Z"
   },
   {
    "duration": 27,
    "start_time": "2023-02-22T07:28:02.279Z"
   },
   {
    "duration": 11,
    "start_time": "2023-02-22T07:28:02.308Z"
   },
   {
    "duration": 35,
    "start_time": "2023-02-22T07:28:02.321Z"
   },
   {
    "duration": 249,
    "start_time": "2023-02-22T07:28:02.358Z"
   },
   {
    "duration": 4,
    "start_time": "2023-02-22T07:28:02.609Z"
   },
   {
    "duration": 8,
    "start_time": "2023-02-22T07:28:02.615Z"
   },
   {
    "duration": 22,
    "start_time": "2023-02-22T07:28:02.624Z"
   },
   {
    "duration": 365,
    "start_time": "2023-02-22T07:28:02.648Z"
   },
   {
    "duration": 1235,
    "start_time": "2023-02-22T07:28:03.015Z"
   },
   {
    "duration": 5,
    "start_time": "2023-02-22T07:28:04.251Z"
   },
   {
    "duration": 40,
    "start_time": "2023-02-22T07:28:04.258Z"
   },
   {
    "duration": 591,
    "start_time": "2023-02-22T07:28:04.299Z"
   },
   {
    "duration": 5,
    "start_time": "2023-02-22T07:28:04.892Z"
   },
   {
    "duration": 622,
    "start_time": "2023-02-22T07:28:04.899Z"
   },
   {
    "duration": 5,
    "start_time": "2023-02-22T07:28:05.523Z"
   },
   {
    "duration": 672,
    "start_time": "2023-02-22T07:28:05.530Z"
   },
   {
    "duration": 18,
    "start_time": "2023-02-22T07:28:06.204Z"
   },
   {
    "duration": 9,
    "start_time": "2023-02-22T07:28:06.225Z"
   },
   {
    "duration": 17,
    "start_time": "2023-02-22T07:28:06.249Z"
   },
   {
    "duration": 7,
    "start_time": "2023-02-22T07:28:06.268Z"
   },
   {
    "duration": 22,
    "start_time": "2023-02-22T07:28:06.277Z"
   },
   {
    "duration": 19,
    "start_time": "2023-02-22T07:28:06.302Z"
   },
   {
    "duration": 23,
    "start_time": "2023-02-22T07:28:06.323Z"
   },
   {
    "duration": 42,
    "start_time": "2023-02-22T07:28:06.349Z"
   },
   {
    "duration": 38,
    "start_time": "2023-02-22T07:28:06.393Z"
   },
   {
    "duration": 34,
    "start_time": "2023-02-22T07:28:06.436Z"
   },
   {
    "duration": 35,
    "start_time": "2023-02-22T07:28:06.472Z"
   },
   {
    "duration": 384227,
    "start_time": "2023-02-22T07:28:06.512Z"
   },
   {
    "duration": 2330,
    "start_time": "2023-02-22T07:34:30.741Z"
   },
   {
    "duration": 14095,
    "start_time": "2023-02-22T07:34:33.073Z"
   },
   {
    "duration": 336,
    "start_time": "2023-02-22T07:34:47.170Z"
   },
   {
    "duration": 8,
    "start_time": "2023-02-22T07:34:47.508Z"
   },
   {
    "duration": 4,
    "start_time": "2023-02-22T08:20:53.209Z"
   },
   {
    "duration": 4,
    "start_time": "2023-02-22T08:21:05.526Z"
   },
   {
    "duration": 1423,
    "start_time": "2023-02-22T08:21:10.608Z"
   },
   {
    "duration": 834,
    "start_time": "2023-02-22T08:21:12.033Z"
   },
   {
    "duration": 41,
    "start_time": "2023-02-22T08:21:12.868Z"
   },
   {
    "duration": 618,
    "start_time": "2023-02-22T08:21:12.911Z"
   },
   {
    "duration": 3,
    "start_time": "2023-02-22T08:21:13.531Z"
   },
   {
    "duration": 14,
    "start_time": "2023-02-22T08:21:13.535Z"
   },
   {
    "duration": 5,
    "start_time": "2023-02-22T08:21:13.551Z"
   },
   {
    "duration": 8,
    "start_time": "2023-02-22T08:21:13.557Z"
   },
   {
    "duration": 16,
    "start_time": "2023-02-22T08:21:13.567Z"
   },
   {
    "duration": 6,
    "start_time": "2023-02-22T08:21:13.586Z"
   },
   {
    "duration": 56,
    "start_time": "2023-02-22T08:21:13.594Z"
   },
   {
    "duration": 14,
    "start_time": "2023-02-22T08:21:13.652Z"
   },
   {
    "duration": 20,
    "start_time": "2023-02-22T08:21:13.668Z"
   },
   {
    "duration": 272,
    "start_time": "2023-02-22T08:21:13.690Z"
   },
   {
    "duration": 5,
    "start_time": "2023-02-22T08:21:13.964Z"
   },
   {
    "duration": 9,
    "start_time": "2023-02-22T08:21:13.971Z"
   },
   {
    "duration": 7,
    "start_time": "2023-02-22T08:21:13.982Z"
   },
   {
    "duration": 363,
    "start_time": "2023-02-22T08:21:13.991Z"
   },
   {
    "duration": 1178,
    "start_time": "2023-02-22T08:21:14.356Z"
   },
   {
    "duration": 14,
    "start_time": "2023-02-22T08:21:15.536Z"
   },
   {
    "duration": 23,
    "start_time": "2023-02-22T08:21:15.551Z"
   },
   {
    "duration": 577,
    "start_time": "2023-02-22T08:21:15.576Z"
   },
   {
    "duration": 5,
    "start_time": "2023-02-22T08:21:16.155Z"
   },
   {
    "duration": 664,
    "start_time": "2023-02-22T08:21:16.161Z"
   },
   {
    "duration": 6,
    "start_time": "2023-02-22T08:21:16.827Z"
   },
   {
    "duration": 668,
    "start_time": "2023-02-22T08:21:16.834Z"
   },
   {
    "duration": 4,
    "start_time": "2023-02-22T08:21:17.503Z"
   },
   {
    "duration": 47,
    "start_time": "2023-02-22T08:21:17.510Z"
   },
   {
    "duration": 13,
    "start_time": "2023-02-22T08:21:17.558Z"
   },
   {
    "duration": 39,
    "start_time": "2023-02-22T08:21:17.572Z"
   },
   {
    "duration": 36,
    "start_time": "2023-02-22T08:21:17.613Z"
   },
   {
    "duration": 29,
    "start_time": "2023-02-22T08:21:17.651Z"
   },
   {
    "duration": 24,
    "start_time": "2023-02-22T08:21:17.681Z"
   },
   {
    "duration": 41,
    "start_time": "2023-02-22T08:21:17.706Z"
   },
   {
    "duration": 48,
    "start_time": "2023-02-22T08:21:17.749Z"
   },
   {
    "duration": 30,
    "start_time": "2023-02-22T08:21:17.798Z"
   },
   {
    "duration": 42,
    "start_time": "2023-02-22T08:21:17.829Z"
   },
   {
    "duration": 56,
    "start_time": "2023-02-22T08:21:17.872Z"
   },
   {
    "duration": 46,
    "start_time": "2023-02-22T08:21:17.930Z"
   },
   {
    "duration": 368607,
    "start_time": "2023-02-22T08:21:17.978Z"
   },
   {
    "duration": 2169,
    "start_time": "2023-02-22T08:27:26.587Z"
   },
   {
    "duration": 13589,
    "start_time": "2023-02-22T08:27:28.758Z"
   },
   {
    "duration": 338,
    "start_time": "2023-02-22T08:27:42.349Z"
   },
   {
    "duration": 9,
    "start_time": "2023-02-22T08:27:42.689Z"
   },
   {
    "duration": 139,
    "start_time": "2023-02-23T10:38:31.433Z"
   },
   {
    "duration": 1974,
    "start_time": "2023-02-23T10:38:42.726Z"
   },
   {
    "duration": 2457,
    "start_time": "2023-02-23T10:38:44.704Z"
   },
   {
    "duration": 46,
    "start_time": "2023-02-23T10:38:47.163Z"
   },
   {
    "duration": 699,
    "start_time": "2023-02-23T10:38:47.211Z"
   },
   {
    "duration": 7,
    "start_time": "2023-02-23T10:38:47.912Z"
   },
   {
    "duration": 31,
    "start_time": "2023-02-23T10:38:47.921Z"
   },
   {
    "duration": 5,
    "start_time": "2023-02-23T10:38:47.954Z"
   },
   {
    "duration": 8,
    "start_time": "2023-02-23T10:38:47.961Z"
   },
   {
    "duration": 18,
    "start_time": "2023-02-23T10:38:47.971Z"
   },
   {
    "duration": 6,
    "start_time": "2023-02-23T10:38:47.993Z"
   },
   {
    "duration": 38,
    "start_time": "2023-02-23T10:38:48.001Z"
   },
   {
    "duration": 16,
    "start_time": "2023-02-23T10:38:48.040Z"
   },
   {
    "duration": 29,
    "start_time": "2023-02-23T10:38:48.059Z"
   },
   {
    "duration": 293,
    "start_time": "2023-02-23T10:38:48.090Z"
   },
   {
    "duration": 5,
    "start_time": "2023-02-23T10:38:48.385Z"
   },
   {
    "duration": 7,
    "start_time": "2023-02-23T10:38:48.392Z"
   },
   {
    "duration": 7,
    "start_time": "2023-02-23T10:38:48.401Z"
   },
   {
    "duration": 422,
    "start_time": "2023-02-23T10:38:48.427Z"
   },
   {
    "duration": 1197,
    "start_time": "2023-02-23T10:38:48.852Z"
   },
   {
    "duration": 6,
    "start_time": "2023-02-23T10:38:50.051Z"
   },
   {
    "duration": 30,
    "start_time": "2023-02-23T10:38:50.060Z"
   },
   {
    "duration": 880,
    "start_time": "2023-02-23T10:38:50.093Z"
   },
   {
    "duration": 7,
    "start_time": "2023-02-23T10:38:50.976Z"
   },
   {
    "duration": 666,
    "start_time": "2023-02-23T10:38:50.985Z"
   },
   {
    "duration": 5,
    "start_time": "2023-02-23T10:38:51.653Z"
   },
   {
    "duration": 773,
    "start_time": "2023-02-23T10:38:51.660Z"
   },
   {
    "duration": 9,
    "start_time": "2023-02-23T10:38:52.435Z"
   },
   {
    "duration": 25,
    "start_time": "2023-02-23T10:38:52.449Z"
   },
   {
    "duration": 5,
    "start_time": "2023-02-23T10:38:52.477Z"
   },
   {
    "duration": 17,
    "start_time": "2023-02-23T10:38:52.484Z"
   },
   {
    "duration": 35,
    "start_time": "2023-02-23T10:38:52.503Z"
   },
   {
    "duration": 9,
    "start_time": "2023-02-23T10:38:52.540Z"
   },
   {
    "duration": 15,
    "start_time": "2023-02-23T10:38:52.552Z"
   },
   {
    "duration": 14,
    "start_time": "2023-02-23T10:38:52.569Z"
   },
   {
    "duration": 28,
    "start_time": "2023-02-23T10:38:52.586Z"
   },
   {
    "duration": 15,
    "start_time": "2023-02-23T10:38:52.617Z"
   },
   {
    "duration": 65,
    "start_time": "2023-02-23T10:38:52.634Z"
   },
   {
    "duration": 54,
    "start_time": "2023-02-23T10:38:52.701Z"
   },
   {
    "duration": 27,
    "start_time": "2023-02-23T10:38:52.757Z"
   },
   {
    "duration": 2,
    "start_time": "2023-02-23T10:38:52.786Z"
   },
   {
    "duration": 9,
    "start_time": "2023-02-23T10:38:52.790Z"
   },
   {
    "duration": 0,
    "start_time": "2023-02-23T10:38:52.801Z"
   },
   {
    "duration": 0,
    "start_time": "2023-02-23T10:38:52.802Z"
   },
   {
    "duration": 8,
    "start_time": "2023-02-23T10:39:11.284Z"
   },
   {
    "duration": 111,
    "start_time": "2023-02-23T10:40:58.442Z"
   },
   {
    "duration": 14,
    "start_time": "2023-02-23T10:56:23.992Z"
   },
   {
    "duration": 12,
    "start_time": "2023-02-23T10:58:02.940Z"
   },
   {
    "duration": 2154,
    "start_time": "2023-02-23T10:58:32.488Z"
   },
   {
    "duration": 2429,
    "start_time": "2023-02-23T11:00:46.204Z"
   },
   {
    "duration": 616,
    "start_time": "2023-02-23T11:01:51.317Z"
   },
   {
    "duration": 1132,
    "start_time": "2023-02-23T11:02:11.207Z"
   },
   {
    "duration": 4934,
    "start_time": "2023-02-23T11:02:47.299Z"
   },
   {
    "duration": 4789,
    "start_time": "2023-02-23T11:03:14.542Z"
   },
   {
    "duration": 55,
    "start_time": "2023-02-23T11:07:22.445Z"
   },
   {
    "duration": 190568,
    "start_time": "2023-02-23T11:08:27.460Z"
   },
   {
    "duration": 62,
    "start_time": "2023-02-23T12:54:04.244Z"
   },
   {
    "duration": 9,
    "start_time": "2023-02-23T12:54:41.818Z"
   },
   {
    "duration": 73,
    "start_time": "2023-02-23T12:54:44.612Z"
   },
   {
    "duration": 9,
    "start_time": "2023-02-23T12:56:01.844Z"
   },
   {
    "duration": 498,
    "start_time": "2023-02-23T12:56:50.650Z"
   },
   {
    "duration": 2131,
    "start_time": "2023-02-23T13:02:59.491Z"
   },
   {
    "duration": 2330,
    "start_time": "2023-02-23T13:04:36.657Z"
   },
   {
    "duration": 2079,
    "start_time": "2023-02-23T13:09:00.497Z"
   },
   {
    "duration": 194497,
    "start_time": "2023-02-23T13:11:19.740Z"
   },
   {
    "duration": 4,
    "start_time": "2023-02-23T13:29:59.449Z"
   },
   {
    "duration": 1500,
    "start_time": "2023-02-23T13:44:28.047Z"
   },
   {
    "duration": 782,
    "start_time": "2023-02-23T13:44:29.550Z"
   },
   {
    "duration": 71,
    "start_time": "2023-02-23T13:44:30.336Z"
   },
   {
    "duration": 743,
    "start_time": "2023-02-23T13:44:30.409Z"
   },
   {
    "duration": 2,
    "start_time": "2023-02-23T13:44:31.154Z"
   },
   {
    "duration": 25,
    "start_time": "2023-02-23T13:44:31.158Z"
   },
   {
    "duration": 5,
    "start_time": "2023-02-23T13:44:31.184Z"
   },
   {
    "duration": 43,
    "start_time": "2023-02-23T13:44:31.191Z"
   },
   {
    "duration": 38,
    "start_time": "2023-02-23T13:44:31.238Z"
   },
   {
    "duration": 11,
    "start_time": "2023-02-23T13:44:31.278Z"
   },
   {
    "duration": 37,
    "start_time": "2023-02-23T13:44:31.291Z"
   },
   {
    "duration": 15,
    "start_time": "2023-02-23T13:44:31.332Z"
   },
   {
    "duration": 24,
    "start_time": "2023-02-23T13:44:31.349Z"
   },
   {
    "duration": 248,
    "start_time": "2023-02-23T13:44:31.377Z"
   },
   {
    "duration": 7,
    "start_time": "2023-02-23T13:44:31.629Z"
   },
   {
    "duration": 18,
    "start_time": "2023-02-23T13:44:31.638Z"
   },
   {
    "duration": 6,
    "start_time": "2023-02-23T13:44:31.658Z"
   },
   {
    "duration": 449,
    "start_time": "2023-02-23T13:44:31.667Z"
   },
   {
    "duration": 1323,
    "start_time": "2023-02-23T13:44:32.118Z"
   },
   {
    "duration": 6,
    "start_time": "2023-02-23T13:44:33.447Z"
   },
   {
    "duration": 11,
    "start_time": "2023-02-23T13:44:33.454Z"
   },
   {
    "duration": 649,
    "start_time": "2023-02-23T13:44:33.467Z"
   },
   {
    "duration": 19,
    "start_time": "2023-02-23T13:44:34.118Z"
   },
   {
    "duration": 620,
    "start_time": "2023-02-23T13:44:34.145Z"
   },
   {
    "duration": 5,
    "start_time": "2023-02-23T13:44:34.766Z"
   },
   {
    "duration": 736,
    "start_time": "2023-02-23T13:44:34.773Z"
   },
   {
    "duration": 5,
    "start_time": "2023-02-23T13:44:35.511Z"
   },
   {
    "duration": 20,
    "start_time": "2023-02-23T13:44:35.528Z"
   },
   {
    "duration": 6,
    "start_time": "2023-02-23T13:44:35.550Z"
   },
   {
    "duration": 12,
    "start_time": "2023-02-23T13:44:35.559Z"
   },
   {
    "duration": 29,
    "start_time": "2023-02-23T13:44:35.573Z"
   },
   {
    "duration": 8,
    "start_time": "2023-02-23T13:44:35.605Z"
   },
   {
    "duration": 17,
    "start_time": "2023-02-23T13:44:35.615Z"
   },
   {
    "duration": 15,
    "start_time": "2023-02-23T13:44:35.639Z"
   },
   {
    "duration": 17,
    "start_time": "2023-02-23T13:44:35.655Z"
   },
   {
    "duration": 12,
    "start_time": "2023-02-23T13:44:35.674Z"
   },
   {
    "duration": 15,
    "start_time": "2023-02-23T13:44:35.688Z"
   },
   {
    "duration": 40,
    "start_time": "2023-02-23T13:44:35.705Z"
   },
   {
    "duration": 25,
    "start_time": "2023-02-23T13:44:35.747Z"
   },
   {
    "duration": 202567,
    "start_time": "2023-02-23T13:44:35.773Z"
   },
   {
    "duration": 2484,
    "start_time": "2023-02-23T13:47:58.348Z"
   },
   {
    "duration": 405,
    "start_time": "2023-02-23T13:48:00.834Z"
   },
   {
    "duration": 13,
    "start_time": "2023-02-23T13:48:01.241Z"
   },
   {
    "duration": 2187,
    "start_time": "2023-02-23T13:50:12.668Z"
   },
   {
    "duration": 2637,
    "start_time": "2023-02-23T13:59:40.358Z"
   },
   {
    "duration": 2332,
    "start_time": "2023-02-23T14:00:50.683Z"
   },
   {
    "duration": 6384,
    "start_time": "2023-02-23T14:00:58.419Z"
   },
   {
    "duration": 4,
    "start_time": "2023-02-23T14:06:03.652Z"
   },
   {
    "duration": 86,
    "start_time": "2023-02-23T14:06:05.201Z"
   },
   {
    "duration": 99,
    "start_time": "2023-02-23T14:09:13.819Z"
   },
   {
    "duration": 81,
    "start_time": "2023-02-23T14:09:23.178Z"
   },
   {
    "duration": 59,
    "start_time": "2023-02-23T14:28:36.655Z"
   },
   {
    "duration": 622,
    "start_time": "2023-02-23T14:28:41.366Z"
   },
   {
    "duration": 514,
    "start_time": "2023-02-23T14:30:34.506Z"
   },
   {
    "duration": 2306,
    "start_time": "2023-02-23T14:31:16.490Z"
   },
   {
    "duration": 503,
    "start_time": "2023-02-23T14:31:32.665Z"
   },
   {
    "duration": 2370,
    "start_time": "2023-02-23T14:31:45.276Z"
   },
   {
    "duration": 485,
    "start_time": "2023-02-23T14:32:34.010Z"
   },
   {
    "duration": 2449,
    "start_time": "2023-02-23T14:33:52.342Z"
   },
   {
    "duration": 69,
    "start_time": "2023-02-23T14:34:33.803Z"
   },
   {
    "duration": 18109,
    "start_time": "2023-02-23T14:35:03.269Z"
   },
   {
    "duration": 15,
    "start_time": "2023-02-23T14:39:31.487Z"
   },
   {
    "duration": 3454,
    "start_time": "2023-02-23T14:39:51.008Z"
   },
   {
    "duration": 1423,
    "start_time": "2023-02-23T14:49:42.188Z"
   },
   {
    "duration": 845,
    "start_time": "2023-02-23T14:49:43.614Z"
   },
   {
    "duration": 47,
    "start_time": "2023-02-23T14:49:44.463Z"
   },
   {
    "duration": 699,
    "start_time": "2023-02-23T14:49:44.512Z"
   },
   {
    "duration": 3,
    "start_time": "2023-02-23T14:49:45.213Z"
   },
   {
    "duration": 23,
    "start_time": "2023-02-23T14:49:45.217Z"
   },
   {
    "duration": 15,
    "start_time": "2023-02-23T14:49:45.243Z"
   },
   {
    "duration": 8,
    "start_time": "2023-02-23T14:49:45.260Z"
   },
   {
    "duration": 21,
    "start_time": "2023-02-23T14:49:45.270Z"
   },
   {
    "duration": 6,
    "start_time": "2023-02-23T14:49:45.294Z"
   },
   {
    "duration": 50,
    "start_time": "2023-02-23T14:49:45.303Z"
   },
   {
    "duration": 12,
    "start_time": "2023-02-23T14:49:45.355Z"
   },
   {
    "duration": 21,
    "start_time": "2023-02-23T14:49:45.369Z"
   },
   {
    "duration": 274,
    "start_time": "2023-02-23T14:49:45.391Z"
   },
   {
    "duration": 5,
    "start_time": "2023-02-23T14:49:45.666Z"
   },
   {
    "duration": 7,
    "start_time": "2023-02-23T14:49:45.673Z"
   },
   {
    "duration": 8,
    "start_time": "2023-02-23T14:49:45.683Z"
   },
   {
    "duration": 468,
    "start_time": "2023-02-23T14:49:45.693Z"
   },
   {
    "duration": 1477,
    "start_time": "2023-02-23T14:49:46.164Z"
   },
   {
    "duration": 7,
    "start_time": "2023-02-23T14:49:47.645Z"
   },
   {
    "duration": 33,
    "start_time": "2023-02-23T14:49:47.654Z"
   },
   {
    "duration": 662,
    "start_time": "2023-02-23T14:49:47.689Z"
   },
   {
    "duration": 6,
    "start_time": "2023-02-23T14:49:48.354Z"
   },
   {
    "duration": 923,
    "start_time": "2023-02-23T14:49:48.363Z"
   },
   {
    "duration": 5,
    "start_time": "2023-02-23T14:49:49.289Z"
   },
   {
    "duration": 797,
    "start_time": "2023-02-23T14:49:49.296Z"
   },
   {
    "duration": 4,
    "start_time": "2023-02-23T14:49:50.095Z"
   },
   {
    "duration": 64,
    "start_time": "2023-02-23T14:49:50.103Z"
   },
   {
    "duration": 18,
    "start_time": "2023-02-23T14:49:50.170Z"
   },
   {
    "duration": 22,
    "start_time": "2023-02-23T14:49:50.190Z"
   },
   {
    "duration": 32,
    "start_time": "2023-02-23T14:49:50.214Z"
   },
   {
    "duration": 9,
    "start_time": "2023-02-23T14:49:50.248Z"
   },
   {
    "duration": 17,
    "start_time": "2023-02-23T14:49:50.259Z"
   },
   {
    "duration": 4,
    "start_time": "2023-02-23T14:49:50.278Z"
   },
   {
    "duration": 38,
    "start_time": "2023-02-23T14:49:50.284Z"
   },
   {
    "duration": 71,
    "start_time": "2023-02-23T14:49:50.324Z"
   },
   {
    "duration": 55,
    "start_time": "2023-02-23T14:49:50.396Z"
   },
   {
    "duration": 56,
    "start_time": "2023-02-23T14:49:50.453Z"
   },
   {
    "duration": 36,
    "start_time": "2023-02-23T14:49:50.511Z"
   },
   {
    "duration": 3,
    "start_time": "2023-02-23T14:49:50.548Z"
   },
   {
    "duration": 244,
    "start_time": "2023-02-23T14:49:50.553Z"
   },
   {
    "duration": 327,
    "start_time": "2023-02-23T14:49:50.799Z"
   },
   {
    "duration": 10,
    "start_time": "2023-02-23T14:49:51.130Z"
   },
   {
    "duration": 3,
    "start_time": "2023-02-23T14:57:33.261Z"
   },
   {
    "duration": 2640,
    "start_time": "2023-02-23T14:57:44.465Z"
   },
   {
    "duration": 2626,
    "start_time": "2023-02-23T14:59:07.757Z"
   },
   {
    "duration": 1596,
    "start_time": "2023-02-24T04:42:56.644Z"
   },
   {
    "duration": 3376,
    "start_time": "2023-02-24T04:42:58.242Z"
   },
   {
    "duration": 43,
    "start_time": "2023-02-24T04:43:01.620Z"
   },
   {
    "duration": 634,
    "start_time": "2023-02-24T04:43:01.664Z"
   },
   {
    "duration": 2,
    "start_time": "2023-02-24T04:43:02.301Z"
   },
   {
    "duration": 29,
    "start_time": "2023-02-24T04:43:02.305Z"
   },
   {
    "duration": 47,
    "start_time": "2023-02-24T04:43:02.336Z"
   },
   {
    "duration": 14,
    "start_time": "2023-02-24T04:43:02.384Z"
   },
   {
    "duration": 25,
    "start_time": "2023-02-24T04:43:02.400Z"
   },
   {
    "duration": 9,
    "start_time": "2023-02-24T04:43:02.427Z"
   },
   {
    "duration": 50,
    "start_time": "2023-02-24T04:43:02.437Z"
   },
   {
    "duration": 14,
    "start_time": "2023-02-24T04:43:02.488Z"
   },
   {
    "duration": 27,
    "start_time": "2023-02-24T04:43:02.504Z"
   },
   {
    "duration": 245,
    "start_time": "2023-02-24T04:43:02.534Z"
   },
   {
    "duration": 5,
    "start_time": "2023-02-24T04:43:02.781Z"
   },
   {
    "duration": 17,
    "start_time": "2023-02-24T04:43:02.787Z"
   },
   {
    "duration": 14,
    "start_time": "2023-02-24T04:43:02.806Z"
   },
   {
    "duration": 387,
    "start_time": "2023-02-24T04:43:02.822Z"
   },
   {
    "duration": 1284,
    "start_time": "2023-02-24T04:43:03.211Z"
   },
   {
    "duration": 5,
    "start_time": "2023-02-24T04:43:04.497Z"
   },
   {
    "duration": 17,
    "start_time": "2023-02-24T04:43:04.504Z"
   },
   {
    "duration": 569,
    "start_time": "2023-02-24T04:43:04.523Z"
   },
   {
    "duration": 5,
    "start_time": "2023-02-24T04:43:05.094Z"
   },
   {
    "duration": 577,
    "start_time": "2023-02-24T04:43:05.100Z"
   },
   {
    "duration": 5,
    "start_time": "2023-02-24T04:43:05.679Z"
   },
   {
    "duration": 672,
    "start_time": "2023-02-24T04:43:05.686Z"
   },
   {
    "duration": 4,
    "start_time": "2023-02-24T04:43:06.359Z"
   },
   {
    "duration": 26,
    "start_time": "2023-02-24T04:43:06.365Z"
   },
   {
    "duration": 4,
    "start_time": "2023-02-24T04:43:06.393Z"
   },
   {
    "duration": 17,
    "start_time": "2023-02-24T04:43:06.398Z"
   },
   {
    "duration": 24,
    "start_time": "2023-02-24T04:43:06.417Z"
   },
   {
    "duration": 8,
    "start_time": "2023-02-24T04:43:06.442Z"
   },
   {
    "duration": 4,
    "start_time": "2023-02-24T04:43:06.452Z"
   },
   {
    "duration": 6,
    "start_time": "2023-02-24T04:43:06.458Z"
   },
   {
    "duration": 11,
    "start_time": "2023-02-24T04:43:06.465Z"
   },
   {
    "duration": 18,
    "start_time": "2023-02-24T04:43:06.477Z"
   },
   {
    "duration": 12,
    "start_time": "2023-02-24T04:43:06.497Z"
   },
   {
    "duration": 34,
    "start_time": "2023-02-24T04:43:06.511Z"
   },
   {
    "duration": 29,
    "start_time": "2023-02-24T04:43:06.547Z"
   },
   {
    "duration": 26,
    "start_time": "2023-02-24T04:43:06.578Z"
   },
   {
    "duration": 3,
    "start_time": "2023-02-24T04:43:06.607Z"
   },
   {
    "duration": 2272,
    "start_time": "2023-02-24T04:43:06.611Z"
   },
   {
    "duration": 328,
    "start_time": "2023-02-24T04:43:08.885Z"
   },
   {
    "duration": 8,
    "start_time": "2023-02-24T04:43:09.214Z"
   },
   {
    "duration": 1861,
    "start_time": "2023-02-24T04:45:29.389Z"
   },
   {
    "duration": 1524,
    "start_time": "2023-02-24T04:46:09.326Z"
   },
   {
    "duration": 1785,
    "start_time": "2023-02-24T04:48:22.663Z"
   },
   {
    "duration": 1326,
    "start_time": "2023-02-24T04:50:57.330Z"
   },
   {
    "duration": 1598,
    "start_time": "2023-02-24T04:51:12.858Z"
   },
   {
    "duration": 3,
    "start_time": "2023-02-24T04:54:27.936Z"
   },
   {
    "duration": 77,
    "start_time": "2023-02-24T04:54:29.857Z"
   },
   {
    "duration": 1897,
    "start_time": "2023-02-24T04:54:48.048Z"
   },
   {
    "duration": 421,
    "start_time": "2023-02-24T04:55:47.242Z"
   },
   {
    "duration": 422,
    "start_time": "2023-02-24T04:57:15.383Z"
   },
   {
    "duration": 205063,
    "start_time": "2023-02-24T05:44:56.183Z"
   },
   {
    "duration": 96,
    "start_time": "2023-02-24T06:02:27.609Z"
   },
   {
    "duration": 576,
    "start_time": "2023-02-24T06:03:16.676Z"
   },
   {
    "duration": 634,
    "start_time": "2023-02-24T06:03:49.575Z"
   },
   {
    "duration": 661,
    "start_time": "2023-02-24T06:03:59.143Z"
   },
   {
    "duration": 531,
    "start_time": "2023-02-24T06:04:22.281Z"
   },
   {
    "duration": 654,
    "start_time": "2023-02-24T06:06:03.332Z"
   },
   {
    "duration": 556,
    "start_time": "2023-02-24T06:07:25.759Z"
   },
   {
    "duration": 544,
    "start_time": "2023-02-24T06:16:11.178Z"
   },
   {
    "duration": 526,
    "start_time": "2023-02-24T06:22:07.644Z"
   },
   {
    "duration": 6,
    "start_time": "2023-02-24T06:26:50.443Z"
   },
   {
    "duration": 1478,
    "start_time": "2023-02-24T06:26:54.973Z"
   },
   {
    "duration": 123,
    "start_time": "2023-02-24T06:26:56.453Z"
   },
   {
    "duration": 0,
    "start_time": "2023-02-24T06:26:56.579Z"
   },
   {
    "duration": 0,
    "start_time": "2023-02-24T06:26:56.581Z"
   },
   {
    "duration": 0,
    "start_time": "2023-02-24T06:26:56.582Z"
   },
   {
    "duration": 0,
    "start_time": "2023-02-24T06:26:56.583Z"
   },
   {
    "duration": 0,
    "start_time": "2023-02-24T06:26:56.584Z"
   },
   {
    "duration": 0,
    "start_time": "2023-02-24T06:26:56.585Z"
   },
   {
    "duration": 0,
    "start_time": "2023-02-24T06:26:56.586Z"
   },
   {
    "duration": 0,
    "start_time": "2023-02-24T06:26:56.587Z"
   },
   {
    "duration": 0,
    "start_time": "2023-02-24T06:26:56.588Z"
   },
   {
    "duration": 0,
    "start_time": "2023-02-24T06:26:56.590Z"
   },
   {
    "duration": 0,
    "start_time": "2023-02-24T06:26:56.591Z"
   },
   {
    "duration": 0,
    "start_time": "2023-02-24T06:26:56.593Z"
   },
   {
    "duration": 0,
    "start_time": "2023-02-24T06:26:56.594Z"
   },
   {
    "duration": 0,
    "start_time": "2023-02-24T06:26:56.595Z"
   },
   {
    "duration": 0,
    "start_time": "2023-02-24T06:26:56.596Z"
   },
   {
    "duration": 0,
    "start_time": "2023-02-24T06:26:56.597Z"
   },
   {
    "duration": 0,
    "start_time": "2023-02-24T06:26:56.599Z"
   },
   {
    "duration": 0,
    "start_time": "2023-02-24T06:26:56.600Z"
   },
   {
    "duration": 0,
    "start_time": "2023-02-24T06:26:56.601Z"
   },
   {
    "duration": 0,
    "start_time": "2023-02-24T06:26:56.603Z"
   },
   {
    "duration": 0,
    "start_time": "2023-02-24T06:26:56.645Z"
   },
   {
    "duration": 0,
    "start_time": "2023-02-24T06:26:56.646Z"
   },
   {
    "duration": 0,
    "start_time": "2023-02-24T06:26:56.647Z"
   },
   {
    "duration": 0,
    "start_time": "2023-02-24T06:26:56.649Z"
   },
   {
    "duration": 0,
    "start_time": "2023-02-24T06:26:56.650Z"
   },
   {
    "duration": 0,
    "start_time": "2023-02-24T06:26:56.652Z"
   },
   {
    "duration": 0,
    "start_time": "2023-02-24T06:26:56.654Z"
   },
   {
    "duration": 0,
    "start_time": "2023-02-24T06:26:56.656Z"
   },
   {
    "duration": 0,
    "start_time": "2023-02-24T06:26:56.657Z"
   },
   {
    "duration": 0,
    "start_time": "2023-02-24T06:26:56.658Z"
   },
   {
    "duration": 0,
    "start_time": "2023-02-24T06:26:56.660Z"
   },
   {
    "duration": 0,
    "start_time": "2023-02-24T06:26:56.661Z"
   },
   {
    "duration": 0,
    "start_time": "2023-02-24T06:26:56.663Z"
   },
   {
    "duration": 0,
    "start_time": "2023-02-24T06:26:56.664Z"
   },
   {
    "duration": 0,
    "start_time": "2023-02-24T06:26:56.666Z"
   },
   {
    "duration": 0,
    "start_time": "2023-02-24T06:26:56.667Z"
   },
   {
    "duration": 0,
    "start_time": "2023-02-24T06:26:56.669Z"
   },
   {
    "duration": 0,
    "start_time": "2023-02-24T06:26:56.671Z"
   },
   {
    "duration": 0,
    "start_time": "2023-02-24T06:26:56.672Z"
   },
   {
    "duration": 0,
    "start_time": "2023-02-24T06:26:56.673Z"
   },
   {
    "duration": 0,
    "start_time": "2023-02-24T06:26:56.675Z"
   },
   {
    "duration": 0,
    "start_time": "2023-02-24T06:26:56.676Z"
   },
   {
    "duration": 83,
    "start_time": "2023-02-24T06:28:09.807Z"
   },
   {
    "duration": 5,
    "start_time": "2023-02-24T06:28:25.968Z"
   },
   {
    "duration": 12,
    "start_time": "2023-02-24T06:28:34.912Z"
   },
   {
    "duration": 4,
    "start_time": "2023-02-24T06:29:21.990Z"
   },
   {
    "duration": 10,
    "start_time": "2023-02-24T06:29:23.412Z"
   },
   {
    "duration": 1498,
    "start_time": "2023-02-24T06:34:04.058Z"
   },
   {
    "duration": 810,
    "start_time": "2023-02-24T06:34:05.558Z"
   },
   {
    "duration": 48,
    "start_time": "2023-02-24T06:34:06.370Z"
   },
   {
    "duration": 667,
    "start_time": "2023-02-24T06:34:06.421Z"
   },
   {
    "duration": 3,
    "start_time": "2023-02-24T06:34:07.090Z"
   },
   {
    "duration": 11,
    "start_time": "2023-02-24T06:34:07.094Z"
   },
   {
    "duration": 7,
    "start_time": "2023-02-24T06:34:07.107Z"
   },
   {
    "duration": 6,
    "start_time": "2023-02-24T06:34:07.115Z"
   },
   {
    "duration": 29,
    "start_time": "2023-02-24T06:34:07.122Z"
   },
   {
    "duration": 5,
    "start_time": "2023-02-24T06:34:07.153Z"
   },
   {
    "duration": 24,
    "start_time": "2023-02-24T06:34:07.160Z"
   },
   {
    "duration": 12,
    "start_time": "2023-02-24T06:34:07.186Z"
   },
   {
    "duration": 46,
    "start_time": "2023-02-24T06:34:07.199Z"
   },
   {
    "duration": 249,
    "start_time": "2023-02-24T06:34:07.247Z"
   },
   {
    "duration": 6,
    "start_time": "2023-02-24T06:34:07.497Z"
   },
   {
    "duration": 9,
    "start_time": "2023-02-24T06:34:07.504Z"
   },
   {
    "duration": 7,
    "start_time": "2023-02-24T06:34:07.514Z"
   },
   {
    "duration": 395,
    "start_time": "2023-02-24T06:34:07.523Z"
   },
   {
    "duration": 1212,
    "start_time": "2023-02-24T06:34:07.919Z"
   },
   {
    "duration": 15,
    "start_time": "2023-02-24T06:34:09.133Z"
   },
   {
    "duration": 9,
    "start_time": "2023-02-24T06:34:09.149Z"
   },
   {
    "duration": 623,
    "start_time": "2023-02-24T06:34:09.159Z"
   },
   {
    "duration": 4,
    "start_time": "2023-02-24T06:34:09.784Z"
   },
   {
    "duration": 564,
    "start_time": "2023-02-24T06:34:09.790Z"
   },
   {
    "duration": 6,
    "start_time": "2023-02-24T06:34:10.356Z"
   },
   {
    "duration": 708,
    "start_time": "2023-02-24T06:34:10.364Z"
   },
   {
    "duration": 4,
    "start_time": "2023-02-24T06:34:11.073Z"
   },
   {
    "duration": 20,
    "start_time": "2023-02-24T06:34:11.081Z"
   },
   {
    "duration": 5,
    "start_time": "2023-02-24T06:34:11.103Z"
   },
   {
    "duration": 10,
    "start_time": "2023-02-24T06:34:11.110Z"
   },
   {
    "duration": 12,
    "start_time": "2023-02-24T06:34:11.145Z"
   },
   {
    "duration": 6,
    "start_time": "2023-02-24T06:34:11.159Z"
   },
   {
    "duration": 3,
    "start_time": "2023-02-24T06:34:11.168Z"
   },
   {
    "duration": 6,
    "start_time": "2023-02-24T06:34:11.173Z"
   },
   {
    "duration": 19,
    "start_time": "2023-02-24T06:34:11.180Z"
   },
   {
    "duration": 8,
    "start_time": "2023-02-24T06:34:11.200Z"
   },
   {
    "duration": 43,
    "start_time": "2023-02-24T06:34:11.210Z"
   },
   {
    "duration": 28,
    "start_time": "2023-02-24T06:34:11.255Z"
   },
   {
    "duration": 26,
    "start_time": "2023-02-24T06:34:11.284Z"
   },
   {
    "duration": 202535,
    "start_time": "2023-02-24T06:34:11.312Z"
   },
   {
    "duration": 13860,
    "start_time": "2023-02-24T06:37:33.849Z"
   },
   {
    "duration": 346,
    "start_time": "2023-02-24T06:37:47.711Z"
   },
   {
    "duration": 9,
    "start_time": "2023-02-24T06:37:48.059Z"
   },
   {
    "duration": 3,
    "start_time": "2023-02-24T06:42:41.613Z"
   },
   {
    "duration": 212,
    "start_time": "2023-02-24T06:44:31.445Z"
   },
   {
    "duration": 2,
    "start_time": "2023-02-24T06:45:40.881Z"
   },
   {
    "duration": 2259,
    "start_time": "2023-02-24T06:45:50.590Z"
   },
   {
    "duration": 1604,
    "start_time": "2023-02-24T06:50:00.624Z"
   },
   {
    "duration": 1289,
    "start_time": "2023-02-24T06:50:02.230Z"
   },
   {
    "duration": 51,
    "start_time": "2023-02-24T06:50:03.521Z"
   },
   {
    "duration": 654,
    "start_time": "2023-02-24T06:50:03.574Z"
   },
   {
    "duration": 3,
    "start_time": "2023-02-24T06:50:04.230Z"
   },
   {
    "duration": 33,
    "start_time": "2023-02-24T06:50:04.235Z"
   },
   {
    "duration": 5,
    "start_time": "2023-02-24T06:50:04.270Z"
   },
   {
    "duration": 9,
    "start_time": "2023-02-24T06:50:04.276Z"
   },
   {
    "duration": 26,
    "start_time": "2023-02-24T06:50:04.287Z"
   },
   {
    "duration": 5,
    "start_time": "2023-02-24T06:50:04.315Z"
   },
   {
    "duration": 36,
    "start_time": "2023-02-24T06:50:04.322Z"
   },
   {
    "duration": 14,
    "start_time": "2023-02-24T06:50:04.360Z"
   },
   {
    "duration": 20,
    "start_time": "2023-02-24T06:50:04.376Z"
   },
   {
    "duration": 288,
    "start_time": "2023-02-24T06:50:04.397Z"
   },
   {
    "duration": 6,
    "start_time": "2023-02-24T06:50:04.687Z"
   },
   {
    "duration": 9,
    "start_time": "2023-02-24T06:50:04.696Z"
   },
   {
    "duration": 17,
    "start_time": "2023-02-24T06:50:04.707Z"
   },
   {
    "duration": 403,
    "start_time": "2023-02-24T06:50:04.726Z"
   },
   {
    "duration": 1300,
    "start_time": "2023-02-24T06:50:05.131Z"
   },
   {
    "duration": 22,
    "start_time": "2023-02-24T06:50:06.433Z"
   },
   {
    "duration": 6,
    "start_time": "2023-02-24T06:50:06.457Z"
   },
   {
    "duration": 628,
    "start_time": "2023-02-24T06:50:06.465Z"
   },
   {
    "duration": 5,
    "start_time": "2023-02-24T06:50:07.095Z"
   },
   {
    "duration": 599,
    "start_time": "2023-02-24T06:50:07.102Z"
   },
   {
    "duration": 5,
    "start_time": "2023-02-24T06:50:07.703Z"
   },
   {
    "duration": 730,
    "start_time": "2023-02-24T06:50:07.710Z"
   },
   {
    "duration": 5,
    "start_time": "2023-02-24T06:50:08.445Z"
   },
   {
    "duration": 31,
    "start_time": "2023-02-24T06:50:08.454Z"
   },
   {
    "duration": 4,
    "start_time": "2023-02-24T06:50:08.486Z"
   },
   {
    "duration": 13,
    "start_time": "2023-02-24T06:50:08.491Z"
   },
   {
    "duration": 13,
    "start_time": "2023-02-24T06:50:08.506Z"
   },
   {
    "duration": 29,
    "start_time": "2023-02-24T06:50:08.521Z"
   },
   {
    "duration": 6,
    "start_time": "2023-02-24T06:50:08.553Z"
   },
   {
    "duration": 14,
    "start_time": "2023-02-24T06:50:08.561Z"
   },
   {
    "duration": 18,
    "start_time": "2023-02-24T06:50:08.576Z"
   },
   {
    "duration": 9,
    "start_time": "2023-02-24T06:50:08.596Z"
   },
   {
    "duration": 20,
    "start_time": "2023-02-24T06:50:08.607Z"
   },
   {
    "duration": 38,
    "start_time": "2023-02-24T06:50:08.629Z"
   },
   {
    "duration": 25,
    "start_time": "2023-02-24T06:50:08.669Z"
   },
   {
    "duration": 212352,
    "start_time": "2023-02-24T06:50:08.695Z"
   },
   {
    "duration": 13978,
    "start_time": "2023-02-24T06:53:41.049Z"
   },
   {
    "duration": 338,
    "start_time": "2023-02-24T06:53:55.029Z"
   },
   {
    "duration": 9,
    "start_time": "2023-02-24T06:53:55.370Z"
   },
   {
    "duration": 119,
    "start_time": "2023-02-24T06:58:21.792Z"
   },
   {
    "duration": 526,
    "start_time": "2023-02-24T06:59:33.107Z"
   },
   {
    "duration": 14874,
    "start_time": "2023-02-24T07:00:16.148Z"
   },
   {
    "duration": 14889,
    "start_time": "2023-02-24T07:00:46.721Z"
   },
   {
    "duration": 597318,
    "start_time": "2023-02-24T07:13:41.798Z"
   },
   {
    "duration": 2267,
    "start_time": "2023-02-24T07:30:35.688Z"
   },
   {
    "duration": 5,
    "start_time": "2023-02-24T07:32:42.118Z"
   },
   {
    "duration": 48238,
    "start_time": "2023-02-24T07:34:05.839Z"
   },
   {
    "duration": 12,
    "start_time": "2023-02-24T07:35:11.644Z"
   },
   {
    "duration": 1598,
    "start_time": "2023-02-24T07:36:45.751Z"
   },
   {
    "duration": 916,
    "start_time": "2023-02-24T07:36:47.351Z"
   },
   {
    "duration": 44,
    "start_time": "2023-02-24T07:36:48.268Z"
   },
   {
    "duration": 649,
    "start_time": "2023-02-24T07:36:48.315Z"
   },
   {
    "duration": 3,
    "start_time": "2023-02-24T07:36:48.966Z"
   },
   {
    "duration": 18,
    "start_time": "2023-02-24T07:36:48.972Z"
   },
   {
    "duration": 6,
    "start_time": "2023-02-24T07:36:48.992Z"
   },
   {
    "duration": 11,
    "start_time": "2023-02-24T07:36:49.000Z"
   },
   {
    "duration": 39,
    "start_time": "2023-02-24T07:36:49.012Z"
   },
   {
    "duration": 6,
    "start_time": "2023-02-24T07:36:49.054Z"
   },
   {
    "duration": 24,
    "start_time": "2023-02-24T07:36:49.062Z"
   },
   {
    "duration": 14,
    "start_time": "2023-02-24T07:36:49.087Z"
   },
   {
    "duration": 56,
    "start_time": "2023-02-24T07:36:49.102Z"
   },
   {
    "duration": 271,
    "start_time": "2023-02-24T07:36:49.160Z"
   },
   {
    "duration": 12,
    "start_time": "2023-02-24T07:36:49.433Z"
   },
   {
    "duration": 9,
    "start_time": "2023-02-24T07:36:49.448Z"
   },
   {
    "duration": 24,
    "start_time": "2023-02-24T07:36:49.460Z"
   },
   {
    "duration": 377,
    "start_time": "2023-02-24T07:36:49.485Z"
   },
   {
    "duration": 1283,
    "start_time": "2023-02-24T07:36:49.864Z"
   },
   {
    "duration": 7,
    "start_time": "2023-02-24T07:36:51.149Z"
   },
   {
    "duration": 9,
    "start_time": "2023-02-24T07:36:51.157Z"
   },
   {
    "duration": 646,
    "start_time": "2023-02-24T07:36:51.167Z"
   },
   {
    "duration": 5,
    "start_time": "2023-02-24T07:36:51.815Z"
   },
   {
    "duration": 614,
    "start_time": "2023-02-24T07:36:51.823Z"
   },
   {
    "duration": 8,
    "start_time": "2023-02-24T07:36:52.439Z"
   },
   {
    "duration": 754,
    "start_time": "2023-02-24T07:36:52.449Z"
   },
   {
    "duration": 4,
    "start_time": "2023-02-24T07:36:53.205Z"
   },
   {
    "duration": 66,
    "start_time": "2023-02-24T07:36:53.212Z"
   },
   {
    "duration": 7,
    "start_time": "2023-02-24T07:36:53.280Z"
   },
   {
    "duration": 24,
    "start_time": "2023-02-24T07:36:53.289Z"
   },
   {
    "duration": 18,
    "start_time": "2023-02-24T07:36:53.315Z"
   },
   {
    "duration": 9,
    "start_time": "2023-02-24T07:36:53.335Z"
   },
   {
    "duration": 5,
    "start_time": "2023-02-24T07:36:53.347Z"
   },
   {
    "duration": 8,
    "start_time": "2023-02-24T07:36:53.354Z"
   },
   {
    "duration": 19,
    "start_time": "2023-02-24T07:36:53.363Z"
   },
   {
    "duration": 10,
    "start_time": "2023-02-24T07:36:53.384Z"
   },
   {
    "duration": 21,
    "start_time": "2023-02-24T07:36:53.396Z"
   },
   {
    "duration": 38,
    "start_time": "2023-02-24T07:36:53.419Z"
   },
   {
    "duration": 30,
    "start_time": "2023-02-24T07:36:53.459Z"
   },
   {
    "duration": 207456,
    "start_time": "2023-02-24T07:36:53.491Z"
   },
   {
    "duration": 15521,
    "start_time": "2023-02-24T07:40:20.950Z"
   },
   {
    "duration": 611888,
    "start_time": "2023-02-24T07:40:36.473Z"
   },
   {
    "duration": 2093,
    "start_time": "2023-02-24T07:50:48.363Z"
   },
   {
    "duration": 48837,
    "start_time": "2023-02-24T07:50:50.458Z"
   },
   {
    "duration": 13,
    "start_time": "2023-02-24T07:51:39.297Z"
   },
   {
    "duration": 1693,
    "start_time": "2023-02-25T08:16:02.484Z"
   },
   {
    "duration": 3095,
    "start_time": "2023-02-25T08:16:04.179Z"
   },
   {
    "duration": 37,
    "start_time": "2023-02-25T08:16:07.276Z"
   },
   {
    "duration": 564,
    "start_time": "2023-02-25T08:16:07.316Z"
   },
   {
    "duration": 3,
    "start_time": "2023-02-25T08:16:07.882Z"
   },
   {
    "duration": 12,
    "start_time": "2023-02-25T08:16:07.886Z"
   },
   {
    "duration": 4,
    "start_time": "2023-02-25T08:16:07.900Z"
   },
   {
    "duration": 12,
    "start_time": "2023-02-25T08:16:07.905Z"
   },
   {
    "duration": 21,
    "start_time": "2023-02-25T08:16:07.918Z"
   },
   {
    "duration": 13,
    "start_time": "2023-02-25T08:16:07.941Z"
   },
   {
    "duration": 28,
    "start_time": "2023-02-25T08:16:07.955Z"
   },
   {
    "duration": 21,
    "start_time": "2023-02-25T08:16:07.984Z"
   },
   {
    "duration": 31,
    "start_time": "2023-02-25T08:16:08.006Z"
   },
   {
    "duration": 218,
    "start_time": "2023-02-25T08:16:08.039Z"
   },
   {
    "duration": 4,
    "start_time": "2023-02-25T08:16:08.258Z"
   },
   {
    "duration": 6,
    "start_time": "2023-02-25T08:16:08.264Z"
   },
   {
    "duration": 7,
    "start_time": "2023-02-25T08:16:08.272Z"
   },
   {
    "duration": 343,
    "start_time": "2023-02-25T08:16:08.291Z"
   },
   {
    "duration": 1116,
    "start_time": "2023-02-25T08:16:08.636Z"
   },
   {
    "duration": 6,
    "start_time": "2023-02-25T08:16:09.754Z"
   },
   {
    "duration": 7,
    "start_time": "2023-02-25T08:16:09.761Z"
   },
   {
    "duration": 538,
    "start_time": "2023-02-25T08:16:09.770Z"
   },
   {
    "duration": 4,
    "start_time": "2023-02-25T08:16:10.310Z"
   },
   {
    "duration": 528,
    "start_time": "2023-02-25T08:16:10.316Z"
   },
   {
    "duration": 5,
    "start_time": "2023-02-25T08:16:10.846Z"
   },
   {
    "duration": 632,
    "start_time": "2023-02-25T08:16:10.853Z"
   },
   {
    "duration": 3,
    "start_time": "2023-02-25T08:16:11.491Z"
   },
   {
    "duration": 17,
    "start_time": "2023-02-25T08:16:11.497Z"
   },
   {
    "duration": 4,
    "start_time": "2023-02-25T08:16:11.515Z"
   },
   {
    "duration": 15,
    "start_time": "2023-02-25T08:16:11.520Z"
   },
   {
    "duration": 22,
    "start_time": "2023-02-25T08:16:11.536Z"
   },
   {
    "duration": 6,
    "start_time": "2023-02-25T08:16:11.560Z"
   },
   {
    "duration": 4,
    "start_time": "2023-02-25T08:16:11.568Z"
   },
   {
    "duration": 21,
    "start_time": "2023-02-25T08:16:11.574Z"
   },
   {
    "duration": 12,
    "start_time": "2023-02-25T08:16:11.596Z"
   },
   {
    "duration": 7,
    "start_time": "2023-02-25T08:16:11.610Z"
   },
   {
    "duration": 15,
    "start_time": "2023-02-25T08:16:11.619Z"
   },
   {
    "duration": 22,
    "start_time": "2023-02-25T08:16:11.635Z"
   },
   {
    "duration": 53,
    "start_time": "2023-02-25T08:16:11.658Z"
   },
   {
    "duration": 185585,
    "start_time": "2023-02-25T08:16:11.713Z"
   },
   {
    "duration": 13820,
    "start_time": "2023-02-25T08:19:17.301Z"
   },
   {
    "duration": 58,
    "start_time": "2023-02-25T08:19:31.123Z"
   },
   {
    "duration": 0,
    "start_time": "2023-02-25T08:19:31.182Z"
   },
   {
    "duration": 0,
    "start_time": "2023-02-25T08:19:31.184Z"
   },
   {
    "duration": 0,
    "start_time": "2023-02-25T08:19:31.185Z"
   },
   {
    "duration": 116,
    "start_time": "2023-02-25T09:54:46.679Z"
   },
   {
    "duration": 42,
    "start_time": "2023-02-25T09:55:08.835Z"
   },
   {
    "duration": 3,
    "start_time": "2023-02-25T10:00:06.669Z"
   },
   {
    "duration": 5,
    "start_time": "2023-02-25T10:05:25.912Z"
   },
   {
    "duration": 5,
    "start_time": "2023-02-25T10:05:34.427Z"
   },
   {
    "duration": 113,
    "start_time": "2023-02-25T10:05:38.381Z"
   },
   {
    "duration": 4,
    "start_time": "2023-02-25T10:07:18.988Z"
   },
   {
    "duration": 3735,
    "start_time": "2023-02-25T10:07:20.163Z"
   },
   {
    "duration": 4424,
    "start_time": "2023-02-25T10:07:52.685Z"
   },
   {
    "duration": 4,
    "start_time": "2023-02-25T10:08:16.299Z"
   },
   {
    "duration": 3,
    "start_time": "2023-02-25T10:08:17.319Z"
   },
   {
    "duration": 4794,
    "start_time": "2023-02-25T10:08:17.705Z"
   },
   {
    "duration": 4329,
    "start_time": "2023-02-25T10:08:31.073Z"
   },
   {
    "duration": 3892,
    "start_time": "2023-02-25T10:08:42.609Z"
   },
   {
    "duration": 3597,
    "start_time": "2023-02-25T10:09:25.510Z"
   },
   {
    "duration": 2442,
    "start_time": "2023-02-25T10:10:22.971Z"
   },
   {
    "duration": 1360,
    "start_time": "2023-02-25T10:10:43.104Z"
   },
   {
    "duration": 821,
    "start_time": "2023-02-25T10:10:44.466Z"
   },
   {
    "duration": 47,
    "start_time": "2023-02-25T10:10:45.288Z"
   },
   {
    "duration": 598,
    "start_time": "2023-02-25T10:10:45.337Z"
   },
   {
    "duration": 2,
    "start_time": "2023-02-25T10:10:45.937Z"
   },
   {
    "duration": 12,
    "start_time": "2023-02-25T10:10:45.941Z"
   },
   {
    "duration": 4,
    "start_time": "2023-02-25T10:10:45.954Z"
   },
   {
    "duration": 6,
    "start_time": "2023-02-25T10:10:45.959Z"
   },
   {
    "duration": 41,
    "start_time": "2023-02-25T10:10:45.966Z"
   },
   {
    "duration": 5,
    "start_time": "2023-02-25T10:10:46.009Z"
   },
   {
    "duration": 23,
    "start_time": "2023-02-25T10:10:46.015Z"
   },
   {
    "duration": 11,
    "start_time": "2023-02-25T10:10:46.040Z"
   },
   {
    "duration": 16,
    "start_time": "2023-02-25T10:10:46.053Z"
   },
   {
    "duration": 256,
    "start_time": "2023-02-25T10:10:46.095Z"
   },
   {
    "duration": 6,
    "start_time": "2023-02-25T10:10:46.352Z"
   },
   {
    "duration": 8,
    "start_time": "2023-02-25T10:10:46.360Z"
   },
   {
    "duration": 16,
    "start_time": "2023-02-25T10:10:46.370Z"
   },
   {
    "duration": 448,
    "start_time": "2023-02-25T10:10:46.388Z"
   },
   {
    "duration": 1147,
    "start_time": "2023-02-25T10:10:46.838Z"
   },
   {
    "duration": 15,
    "start_time": "2023-02-25T10:10:47.987Z"
   },
   {
    "duration": 6,
    "start_time": "2023-02-25T10:10:48.008Z"
   },
   {
    "duration": 557,
    "start_time": "2023-02-25T10:10:48.016Z"
   },
   {
    "duration": 5,
    "start_time": "2023-02-25T10:10:48.575Z"
   },
   {
    "duration": 528,
    "start_time": "2023-02-25T10:10:48.594Z"
   },
   {
    "duration": 6,
    "start_time": "2023-02-25T10:10:49.124Z"
   },
   {
    "duration": 620,
    "start_time": "2023-02-25T10:10:49.132Z"
   },
   {
    "duration": 4,
    "start_time": "2023-02-25T10:10:49.754Z"
   },
   {
    "duration": 17,
    "start_time": "2023-02-25T10:10:49.759Z"
   },
   {
    "duration": 14,
    "start_time": "2023-02-25T10:10:49.791Z"
   },
   {
    "duration": 12,
    "start_time": "2023-02-25T10:10:49.806Z"
   },
   {
    "duration": 14,
    "start_time": "2023-02-25T10:10:49.821Z"
   },
   {
    "duration": 7,
    "start_time": "2023-02-25T10:10:49.837Z"
   },
   {
    "duration": 5,
    "start_time": "2023-02-25T10:10:49.846Z"
   },
   {
    "duration": 8,
    "start_time": "2023-02-25T10:10:49.852Z"
   },
   {
    "duration": 13,
    "start_time": "2023-02-25T10:10:49.861Z"
   },
   {
    "duration": 23,
    "start_time": "2023-02-25T10:10:49.875Z"
   },
   {
    "duration": 24,
    "start_time": "2023-02-25T10:10:49.900Z"
   },
   {
    "duration": 23,
    "start_time": "2023-02-25T10:10:49.926Z"
   },
   {
    "duration": 21,
    "start_time": "2023-02-25T10:10:49.951Z"
   },
   {
    "duration": 196021,
    "start_time": "2023-02-25T10:10:49.974Z"
   },
   {
    "duration": 3102,
    "start_time": "2023-02-25T10:14:06.000Z"
   },
   {
    "duration": 47026,
    "start_time": "2023-02-25T10:14:09.104Z"
   },
   {
    "duration": 9,
    "start_time": "2023-02-25T10:14:56.132Z"
   },
   {
    "duration": 5,
    "start_time": "2023-02-25T10:21:35.713Z"
   },
   {
    "duration": 2,
    "start_time": "2023-02-25T10:21:57.179Z"
   },
   {
    "duration": 3,
    "start_time": "2023-02-25T10:22:31.323Z"
   },
   {
    "duration": 203044,
    "start_time": "2023-02-25T10:22:49.468Z"
   },
   {
    "duration": 2252,
    "start_time": "2023-02-25T10:27:39.790Z"
   },
   {
    "duration": 3,
    "start_time": "2023-02-25T10:27:54.271Z"
   },
   {
    "duration": 1577,
    "start_time": "2023-02-25T10:27:55.821Z"
   },
   {
    "duration": 6,
    "start_time": "2023-02-25T10:29:16.069Z"
   },
   {
    "duration": 118,
    "start_time": "2023-02-25T10:29:27.042Z"
   },
   {
    "duration": 10543,
    "start_time": "2023-02-25T10:29:34.765Z"
   },
   {
    "duration": 98,
    "start_time": "2023-02-25T10:30:16.086Z"
   },
   {
    "duration": 335547,
    "start_time": "2023-02-25T10:32:15.682Z"
   },
   {
    "duration": 5,
    "start_time": "2023-02-25T10:46:31.613Z"
   },
   {
    "duration": 4,
    "start_time": "2023-02-25T10:47:30.119Z"
   },
   {
    "duration": 4,
    "start_time": "2023-02-25T10:48:05.662Z"
   },
   {
    "duration": 4627,
    "start_time": "2023-02-25T10:56:51.363Z"
   },
   {
    "duration": 24929,
    "start_time": "2023-02-25T10:57:37.024Z"
   },
   {
    "duration": 801192,
    "start_time": "2023-02-25T10:58:35.231Z"
   },
   {
    "duration": 3,
    "start_time": "2023-02-25T11:12:19.374Z"
   },
   {
    "duration": 46817,
    "start_time": "2023-02-25T11:13:21.579Z"
   },
   {
    "duration": 9,
    "start_time": "2023-02-25T11:15:39.700Z"
   },
   {
    "duration": 2460,
    "start_time": "2023-02-25T11:21:39.282Z"
   },
   {
    "duration": 9,
    "start_time": "2023-02-25T11:21:48.563Z"
   },
   {
    "duration": 1418,
    "start_time": "2023-02-25T11:24:33.563Z"
   },
   {
    "duration": 942,
    "start_time": "2023-02-25T11:24:34.983Z"
   },
   {
    "duration": 40,
    "start_time": "2023-02-25T11:24:35.927Z"
   },
   {
    "duration": 688,
    "start_time": "2023-02-25T11:24:35.969Z"
   },
   {
    "duration": 3,
    "start_time": "2023-02-25T11:24:36.659Z"
   },
   {
    "duration": 16,
    "start_time": "2023-02-25T11:24:36.664Z"
   },
   {
    "duration": 11,
    "start_time": "2023-02-25T11:24:36.699Z"
   },
   {
    "duration": 17,
    "start_time": "2023-02-25T11:24:36.712Z"
   },
   {
    "duration": 17,
    "start_time": "2023-02-25T11:24:36.731Z"
   },
   {
    "duration": 5,
    "start_time": "2023-02-25T11:24:36.751Z"
   },
   {
    "duration": 21,
    "start_time": "2023-02-25T11:24:36.759Z"
   },
   {
    "duration": 18,
    "start_time": "2023-02-25T11:24:36.782Z"
   },
   {
    "duration": 43,
    "start_time": "2023-02-25T11:24:36.803Z"
   },
   {
    "duration": 232,
    "start_time": "2023-02-25T11:24:36.847Z"
   },
   {
    "duration": 5,
    "start_time": "2023-02-25T11:24:37.080Z"
   },
   {
    "duration": 6,
    "start_time": "2023-02-25T11:24:37.096Z"
   },
   {
    "duration": 22,
    "start_time": "2023-02-25T11:24:37.103Z"
   },
   {
    "duration": 353,
    "start_time": "2023-02-25T11:24:37.126Z"
   },
   {
    "duration": 1207,
    "start_time": "2023-02-25T11:24:37.481Z"
   },
   {
    "duration": 12,
    "start_time": "2023-02-25T11:24:38.689Z"
   },
   {
    "duration": 24,
    "start_time": "2023-02-25T11:24:38.706Z"
   },
   {
    "duration": 565,
    "start_time": "2023-02-25T11:24:38.731Z"
   },
   {
    "duration": 8,
    "start_time": "2023-02-25T11:24:39.298Z"
   },
   {
    "duration": 583,
    "start_time": "2023-02-25T11:24:39.308Z"
   },
   {
    "duration": 6,
    "start_time": "2023-02-25T11:24:39.893Z"
   },
   {
    "duration": 719,
    "start_time": "2023-02-25T11:24:39.904Z"
   },
   {
    "duration": 3,
    "start_time": "2023-02-25T11:24:40.625Z"
   },
   {
    "duration": 17,
    "start_time": "2023-02-25T11:24:40.631Z"
   },
   {
    "duration": 3,
    "start_time": "2023-02-25T11:24:40.649Z"
   },
   {
    "duration": 13,
    "start_time": "2023-02-25T11:24:40.654Z"
   },
   {
    "duration": 38,
    "start_time": "2023-02-25T11:24:40.668Z"
   },
   {
    "duration": 21,
    "start_time": "2023-02-25T11:24:40.708Z"
   },
   {
    "duration": 3,
    "start_time": "2023-02-25T11:24:40.730Z"
   },
   {
    "duration": 8,
    "start_time": "2023-02-25T11:24:40.735Z"
   },
   {
    "duration": 5,
    "start_time": "2023-02-25T11:24:40.744Z"
   },
   {
    "duration": 14,
    "start_time": "2023-02-25T11:24:40.751Z"
   },
   {
    "duration": 14,
    "start_time": "2023-02-25T11:24:40.767Z"
   },
   {
    "duration": 22,
    "start_time": "2023-02-25T11:24:40.783Z"
   },
   {
    "duration": 24,
    "start_time": "2023-02-25T11:24:40.807Z"
   },
   {
    "duration": 28,
    "start_time": "2023-02-25T11:24:40.832Z"
   },
   {
    "duration": 2,
    "start_time": "2023-02-25T11:24:40.862Z"
   },
   {
    "duration": 7642,
    "start_time": "2023-02-25T11:24:40.865Z"
   },
   {
    "duration": 24396,
    "start_time": "2023-02-25T11:24:48.511Z"
   },
   {
    "duration": 814509,
    "start_time": "2023-02-25T11:25:12.909Z"
   },
   {
    "duration": 5,
    "start_time": "2023-02-25T11:38:47.425Z"
   },
   {
    "duration": 20,
    "start_time": "2023-02-25T11:38:47.432Z"
   },
   {
    "duration": 2687,
    "start_time": "2023-02-25T11:38:47.453Z"
   },
   {
    "duration": 0,
    "start_time": "2023-02-25T11:38:50.142Z"
   },
   {
    "duration": 94,
    "start_time": "2023-02-25T11:42:36.666Z"
   },
   {
    "duration": 14,
    "start_time": "2023-02-25T11:42:43.831Z"
   },
   {
    "duration": 2599,
    "start_time": "2023-02-25T11:42:57.585Z"
   },
   {
    "duration": 2545,
    "start_time": "2023-02-25T11:44:29.024Z"
   },
   {
    "duration": 2635,
    "start_time": "2023-02-25T11:45:33.055Z"
   },
   {
    "duration": 11,
    "start_time": "2023-02-25T11:45:44.842Z"
   },
   {
    "duration": 9,
    "start_time": "2023-02-25T11:48:08.932Z"
   }
  ],
  "kernelspec": {
   "display_name": "Python 3 (ipykernel)",
   "language": "python",
   "name": "python3"
  },
  "language_info": {
   "codemirror_mode": {
    "name": "ipython",
    "version": 3
   },
   "file_extension": ".py",
   "mimetype": "text/x-python",
   "name": "python",
   "nbconvert_exporter": "python",
   "pygments_lexer": "ipython3",
   "version": "3.9.5"
  },
  "toc": {
   "base_numbering": 1,
   "nav_menu": {},
   "number_sections": true,
   "sideBar": true,
   "skip_h1_title": true,
   "title_cell": "Содержание",
   "title_sidebar": "Contents",
   "toc_cell": true,
   "toc_position": {
    "height": "calc(100% - 180px)",
    "left": "10px",
    "top": "150px",
    "width": "165px"
   },
   "toc_section_display": true,
   "toc_window_display": true
  }
 },
 "nbformat": 4,
 "nbformat_minor": 2
}
