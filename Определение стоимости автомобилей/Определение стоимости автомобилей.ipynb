{
 "cells": [
  {
   "cell_type": "markdown",
   "metadata": {},
   "source": [
    "# Определение стоимости автомобилей"
   ]
  },
  {
   "cell_type": "markdown",
   "metadata": {},
   "source": [
    "Сервис по продаже автомобилей с пробегом «Не бит, не крашен» разрабатывает приложение для привлечения новых клиентов. В нём можно быстро узнать рыночную стоимость своего автомобиля. В вашем распоряжении исторические данные: технические характеристики, комплектации и цены автомобилей. Вам нужно построить модель для определения стоимости. \n",
    "\n",
    "Заказчику важны:\n",
    "\n",
    "- качество предсказания;\n",
    "- скорость предсказания;\n",
    "- время обучения."
   ]
  },
  {
   "cell_type": "markdown",
   "metadata": {},
   "source": [
    "## Подготовка данных"
   ]
  },
  {
   "cell_type": "code",
   "execution_count": 1,
   "metadata": {},
   "outputs": [],
   "source": [
    "#Импортируем библиотеки\n",
    "import pandas as pd\n",
    "import seaborn as sns\n",
    "import matplotlib.pyplot as plt\n",
    "import copy\n",
    "import time\n",
    "import numpy as np\n",
    "import lightgbm as lgb\n",
    "import lightgbm as lgm"
   ]
  },
  {
   "cell_type": "code",
   "execution_count": 2,
   "metadata": {},
   "outputs": [],
   "source": [
    "#Игнорируем предупреждения\n",
    "import warnings\n",
    "warnings.filterwarnings('ignore')"
   ]
  },
  {
   "cell_type": "code",
   "execution_count": 3,
   "metadata": {},
   "outputs": [],
   "source": [
    "#Добавим необходимые библиотеки \n",
    "from scipy.stats import norm\n",
    "from sklearn.model_selection import KFold\n",
    "from sklearn.model_selection import GridSearchCV\n",
    "from sklearn.model_selection import train_test_split\n",
    "from sklearn.preprocessing import OrdinalEncoder\n",
    "from sklearn.linear_model import SGDRegressor\n",
    "from catboost import CatBoostRegressor\n",
    "from sklearn.ensemble import RandomForestRegressor\n",
    "from sklearn.tree import DecisionTreeRegressor\n",
    "from sklearn.metrics import mean_squared_error\n",
    "from sklearn.base import BaseEstimator\n",
    "from sklearn.preprocessing import OrdinalEncoder\n",
    "from sklearn.preprocessing import StandardScaler\n",
    "from sklearn.model_selection import cross_val_score\n",
    "from sklearn.metrics import mean_squared_error as mse\n",
    "from sklearn.metrics import roc_curve, roc_auc_score, r2_score, mean_absolute_error, make_scorer"
   ]
  },
  {
   "cell_type": "code",
   "execution_count": 4,
   "metadata": {},
   "outputs": [],
   "source": [
    "df = pd.read_csv('/datasets/autos.csv')"
   ]
  },
  {
   "cell_type": "code",
   "execution_count": 5,
   "metadata": {},
   "outputs": [
    {
     "data": {
      "text/html": [
       "<div>\n",
       "<style scoped>\n",
       "    .dataframe tbody tr th:only-of-type {\n",
       "        vertical-align: middle;\n",
       "    }\n",
       "\n",
       "    .dataframe tbody tr th {\n",
       "        vertical-align: top;\n",
       "    }\n",
       "\n",
       "    .dataframe thead th {\n",
       "        text-align: right;\n",
       "    }\n",
       "</style>\n",
       "<table border=\"1\" class=\"dataframe\">\n",
       "  <thead>\n",
       "    <tr style=\"text-align: right;\">\n",
       "      <th></th>\n",
       "      <th>DateCrawled</th>\n",
       "      <th>Price</th>\n",
       "      <th>VehicleType</th>\n",
       "      <th>RegistrationYear</th>\n",
       "      <th>Gearbox</th>\n",
       "      <th>Power</th>\n",
       "      <th>Model</th>\n",
       "      <th>Kilometer</th>\n",
       "      <th>RegistrationMonth</th>\n",
       "      <th>FuelType</th>\n",
       "      <th>Brand</th>\n",
       "      <th>Repaired</th>\n",
       "      <th>DateCreated</th>\n",
       "      <th>NumberOfPictures</th>\n",
       "      <th>PostalCode</th>\n",
       "      <th>LastSeen</th>\n",
       "    </tr>\n",
       "  </thead>\n",
       "  <tbody>\n",
       "    <tr>\n",
       "      <th>0</th>\n",
       "      <td>2016-03-24 11:52:17</td>\n",
       "      <td>480</td>\n",
       "      <td>NaN</td>\n",
       "      <td>1993</td>\n",
       "      <td>manual</td>\n",
       "      <td>0</td>\n",
       "      <td>golf</td>\n",
       "      <td>150000</td>\n",
       "      <td>0</td>\n",
       "      <td>petrol</td>\n",
       "      <td>volkswagen</td>\n",
       "      <td>NaN</td>\n",
       "      <td>2016-03-24 00:00:00</td>\n",
       "      <td>0</td>\n",
       "      <td>70435</td>\n",
       "      <td>2016-04-07 03:16:57</td>\n",
       "    </tr>\n",
       "    <tr>\n",
       "      <th>1</th>\n",
       "      <td>2016-03-24 10:58:45</td>\n",
       "      <td>18300</td>\n",
       "      <td>coupe</td>\n",
       "      <td>2011</td>\n",
       "      <td>manual</td>\n",
       "      <td>190</td>\n",
       "      <td>NaN</td>\n",
       "      <td>125000</td>\n",
       "      <td>5</td>\n",
       "      <td>gasoline</td>\n",
       "      <td>audi</td>\n",
       "      <td>yes</td>\n",
       "      <td>2016-03-24 00:00:00</td>\n",
       "      <td>0</td>\n",
       "      <td>66954</td>\n",
       "      <td>2016-04-07 01:46:50</td>\n",
       "    </tr>\n",
       "    <tr>\n",
       "      <th>2</th>\n",
       "      <td>2016-03-14 12:52:21</td>\n",
       "      <td>9800</td>\n",
       "      <td>suv</td>\n",
       "      <td>2004</td>\n",
       "      <td>auto</td>\n",
       "      <td>163</td>\n",
       "      <td>grand</td>\n",
       "      <td>125000</td>\n",
       "      <td>8</td>\n",
       "      <td>gasoline</td>\n",
       "      <td>jeep</td>\n",
       "      <td>NaN</td>\n",
       "      <td>2016-03-14 00:00:00</td>\n",
       "      <td>0</td>\n",
       "      <td>90480</td>\n",
       "      <td>2016-04-05 12:47:46</td>\n",
       "    </tr>\n",
       "    <tr>\n",
       "      <th>3</th>\n",
       "      <td>2016-03-17 16:54:04</td>\n",
       "      <td>1500</td>\n",
       "      <td>small</td>\n",
       "      <td>2001</td>\n",
       "      <td>manual</td>\n",
       "      <td>75</td>\n",
       "      <td>golf</td>\n",
       "      <td>150000</td>\n",
       "      <td>6</td>\n",
       "      <td>petrol</td>\n",
       "      <td>volkswagen</td>\n",
       "      <td>no</td>\n",
       "      <td>2016-03-17 00:00:00</td>\n",
       "      <td>0</td>\n",
       "      <td>91074</td>\n",
       "      <td>2016-03-17 17:40:17</td>\n",
       "    </tr>\n",
       "    <tr>\n",
       "      <th>4</th>\n",
       "      <td>2016-03-31 17:25:20</td>\n",
       "      <td>3600</td>\n",
       "      <td>small</td>\n",
       "      <td>2008</td>\n",
       "      <td>manual</td>\n",
       "      <td>69</td>\n",
       "      <td>fabia</td>\n",
       "      <td>90000</td>\n",
       "      <td>7</td>\n",
       "      <td>gasoline</td>\n",
       "      <td>skoda</td>\n",
       "      <td>no</td>\n",
       "      <td>2016-03-31 00:00:00</td>\n",
       "      <td>0</td>\n",
       "      <td>60437</td>\n",
       "      <td>2016-04-06 10:17:21</td>\n",
       "    </tr>\n",
       "  </tbody>\n",
       "</table>\n",
       "</div>"
      ],
      "text/plain": [
       "           DateCrawled  Price VehicleType  RegistrationYear Gearbox  Power  \\\n",
       "0  2016-03-24 11:52:17    480         NaN              1993  manual      0   \n",
       "1  2016-03-24 10:58:45  18300       coupe              2011  manual    190   \n",
       "2  2016-03-14 12:52:21   9800         suv              2004    auto    163   \n",
       "3  2016-03-17 16:54:04   1500       small              2001  manual     75   \n",
       "4  2016-03-31 17:25:20   3600       small              2008  manual     69   \n",
       "\n",
       "   Model  Kilometer  RegistrationMonth  FuelType       Brand Repaired  \\\n",
       "0   golf     150000                  0    petrol  volkswagen      NaN   \n",
       "1    NaN     125000                  5  gasoline        audi      yes   \n",
       "2  grand     125000                  8  gasoline        jeep      NaN   \n",
       "3   golf     150000                  6    petrol  volkswagen       no   \n",
       "4  fabia      90000                  7  gasoline       skoda       no   \n",
       "\n",
       "           DateCreated  NumberOfPictures  PostalCode             LastSeen  \n",
       "0  2016-03-24 00:00:00                 0       70435  2016-04-07 03:16:57  \n",
       "1  2016-03-24 00:00:00                 0       66954  2016-04-07 01:46:50  \n",
       "2  2016-03-14 00:00:00                 0       90480  2016-04-05 12:47:46  \n",
       "3  2016-03-17 00:00:00                 0       91074  2016-03-17 17:40:17  \n",
       "4  2016-03-31 00:00:00                 0       60437  2016-04-06 10:17:21  "
      ]
     },
     "execution_count": 5,
     "metadata": {},
     "output_type": "execute_result"
    }
   ],
   "source": [
    "df.head()"
   ]
  },
  {
   "cell_type": "code",
   "execution_count": 6,
   "metadata": {},
   "outputs": [
    {
     "data": {
      "text/plain": [
       "count                  354369\n",
       "unique                    109\n",
       "top       2016-04-03 00:00:00\n",
       "freq                    13719\n",
       "Name: DateCreated, dtype: object"
      ]
     },
     "execution_count": 6,
     "metadata": {},
     "output_type": "execute_result"
    }
   ],
   "source": [
    "df['DateCreated'].describe()"
   ]
  },
  {
   "cell_type": "code",
   "execution_count": 7,
   "metadata": {},
   "outputs": [
    {
     "name": "stdout",
     "output_type": "stream",
     "text": [
      "<class 'pandas.core.frame.DataFrame'>\n",
      "RangeIndex: 354369 entries, 0 to 354368\n",
      "Data columns (total 16 columns):\n",
      " #   Column             Non-Null Count   Dtype \n",
      "---  ------             --------------   ----- \n",
      " 0   DateCrawled        354369 non-null  object\n",
      " 1   Price              354369 non-null  int64 \n",
      " 2   VehicleType        316879 non-null  object\n",
      " 3   RegistrationYear   354369 non-null  int64 \n",
      " 4   Gearbox            334536 non-null  object\n",
      " 5   Power              354369 non-null  int64 \n",
      " 6   Model              334664 non-null  object\n",
      " 7   Kilometer          354369 non-null  int64 \n",
      " 8   RegistrationMonth  354369 non-null  int64 \n",
      " 9   FuelType           321474 non-null  object\n",
      " 10  Brand              354369 non-null  object\n",
      " 11  Repaired           283215 non-null  object\n",
      " 12  DateCreated        354369 non-null  object\n",
      " 13  NumberOfPictures   354369 non-null  int64 \n",
      " 14  PostalCode         354369 non-null  int64 \n",
      " 15  LastSeen           354369 non-null  object\n",
      "dtypes: int64(7), object(9)\n",
      "memory usage: 43.3+ MB\n"
     ]
    }
   ],
   "source": [
    "df.info()"
   ]
  },
  {
   "cell_type": "code",
   "execution_count": 8,
   "metadata": {},
   "outputs": [
    {
     "data": {
      "text/html": [
       "<div>\n",
       "<style scoped>\n",
       "    .dataframe tbody tr th:only-of-type {\n",
       "        vertical-align: middle;\n",
       "    }\n",
       "\n",
       "    .dataframe tbody tr th {\n",
       "        vertical-align: top;\n",
       "    }\n",
       "\n",
       "    .dataframe thead th {\n",
       "        text-align: right;\n",
       "    }\n",
       "</style>\n",
       "<table border=\"1\" class=\"dataframe\">\n",
       "  <thead>\n",
       "    <tr style=\"text-align: right;\">\n",
       "      <th></th>\n",
       "      <th>Price</th>\n",
       "      <th>RegistrationYear</th>\n",
       "      <th>Power</th>\n",
       "      <th>Kilometer</th>\n",
       "      <th>RegistrationMonth</th>\n",
       "      <th>NumberOfPictures</th>\n",
       "      <th>PostalCode</th>\n",
       "    </tr>\n",
       "  </thead>\n",
       "  <tbody>\n",
       "    <tr>\n",
       "      <th>count</th>\n",
       "      <td>354369.000000</td>\n",
       "      <td>354369.000000</td>\n",
       "      <td>354369.000000</td>\n",
       "      <td>354369.000000</td>\n",
       "      <td>354369.000000</td>\n",
       "      <td>354369.0</td>\n",
       "      <td>354369.000000</td>\n",
       "    </tr>\n",
       "    <tr>\n",
       "      <th>mean</th>\n",
       "      <td>4416.656776</td>\n",
       "      <td>2004.234448</td>\n",
       "      <td>110.094337</td>\n",
       "      <td>128211.172535</td>\n",
       "      <td>5.714645</td>\n",
       "      <td>0.0</td>\n",
       "      <td>50508.689087</td>\n",
       "    </tr>\n",
       "    <tr>\n",
       "      <th>std</th>\n",
       "      <td>4514.158514</td>\n",
       "      <td>90.227958</td>\n",
       "      <td>189.850405</td>\n",
       "      <td>37905.341530</td>\n",
       "      <td>3.726421</td>\n",
       "      <td>0.0</td>\n",
       "      <td>25783.096248</td>\n",
       "    </tr>\n",
       "    <tr>\n",
       "      <th>min</th>\n",
       "      <td>0.000000</td>\n",
       "      <td>1000.000000</td>\n",
       "      <td>0.000000</td>\n",
       "      <td>5000.000000</td>\n",
       "      <td>0.000000</td>\n",
       "      <td>0.0</td>\n",
       "      <td>1067.000000</td>\n",
       "    </tr>\n",
       "    <tr>\n",
       "      <th>25%</th>\n",
       "      <td>1050.000000</td>\n",
       "      <td>1999.000000</td>\n",
       "      <td>69.000000</td>\n",
       "      <td>125000.000000</td>\n",
       "      <td>3.000000</td>\n",
       "      <td>0.0</td>\n",
       "      <td>30165.000000</td>\n",
       "    </tr>\n",
       "    <tr>\n",
       "      <th>50%</th>\n",
       "      <td>2700.000000</td>\n",
       "      <td>2003.000000</td>\n",
       "      <td>105.000000</td>\n",
       "      <td>150000.000000</td>\n",
       "      <td>6.000000</td>\n",
       "      <td>0.0</td>\n",
       "      <td>49413.000000</td>\n",
       "    </tr>\n",
       "    <tr>\n",
       "      <th>75%</th>\n",
       "      <td>6400.000000</td>\n",
       "      <td>2008.000000</td>\n",
       "      <td>143.000000</td>\n",
       "      <td>150000.000000</td>\n",
       "      <td>9.000000</td>\n",
       "      <td>0.0</td>\n",
       "      <td>71083.000000</td>\n",
       "    </tr>\n",
       "    <tr>\n",
       "      <th>max</th>\n",
       "      <td>20000.000000</td>\n",
       "      <td>9999.000000</td>\n",
       "      <td>20000.000000</td>\n",
       "      <td>150000.000000</td>\n",
       "      <td>12.000000</td>\n",
       "      <td>0.0</td>\n",
       "      <td>99998.000000</td>\n",
       "    </tr>\n",
       "  </tbody>\n",
       "</table>\n",
       "</div>"
      ],
      "text/plain": [
       "               Price  RegistrationYear          Power      Kilometer  \\\n",
       "count  354369.000000     354369.000000  354369.000000  354369.000000   \n",
       "mean     4416.656776       2004.234448     110.094337  128211.172535   \n",
       "std      4514.158514         90.227958     189.850405   37905.341530   \n",
       "min         0.000000       1000.000000       0.000000    5000.000000   \n",
       "25%      1050.000000       1999.000000      69.000000  125000.000000   \n",
       "50%      2700.000000       2003.000000     105.000000  150000.000000   \n",
       "75%      6400.000000       2008.000000     143.000000  150000.000000   \n",
       "max     20000.000000       9999.000000   20000.000000  150000.000000   \n",
       "\n",
       "       RegistrationMonth  NumberOfPictures     PostalCode  \n",
       "count      354369.000000          354369.0  354369.000000  \n",
       "mean            5.714645               0.0   50508.689087  \n",
       "std             3.726421               0.0   25783.096248  \n",
       "min             0.000000               0.0    1067.000000  \n",
       "25%             3.000000               0.0   30165.000000  \n",
       "50%             6.000000               0.0   49413.000000  \n",
       "75%             9.000000               0.0   71083.000000  \n",
       "max            12.000000               0.0   99998.000000  "
      ]
     },
     "execution_count": 8,
     "metadata": {},
     "output_type": "execute_result"
    }
   ],
   "source": [
    "df.describe()"
   ]
  },
  {
   "cell_type": "code",
   "execution_count": 9,
   "metadata": {},
   "outputs": [],
   "source": [
    "#Переименуем столбцы датасета\n",
    "\n",
    "df.rename(columns={'DateCrawled': 'date_crawled', \n",
    "                         'Price': 'price',\n",
    "                         'VehicleType': 'vehicle_type',\n",
    "                         'RegistrationYear': 'reg_year',\n",
    "                         'Gearbox': 'gearbox',\n",
    "                         'Power': 'power',\n",
    "                         'Model': 'model',\n",
    "                         'Kilometer': 'kilometer',\n",
    "                         'RegistrationMonth': 'reg_month',\n",
    "                         'FuelType': 'fuel_type',\n",
    "                         'Brand': 'brand',\n",
    "                         'Repaired': 'not_repaired',\n",
    "                         'DateCreated': 'date_created',\n",
    "                         'NumberOfPictures': 'num_photo',\n",
    "                         'PostalCode': 'postal_code',\n",
    "                         'LastSeen': 'last_seen'\n",
    "                        }, inplace=True)"
   ]
  },
  {
   "cell_type": "code",
   "execution_count": 10,
   "metadata": {},
   "outputs": [],
   "source": [
    "#Удалим не нужные столбцы\n",
    "\n",
    "df.drop('date_created', axis=1, inplace=True)\n",
    "df.drop('last_seen', axis=1, inplace=True)\n",
    "df.drop('num_photo', axis=1, inplace=True)\n",
    "df.drop('postal_code', axis=1, inplace=True)\n",
    "df.drop('date_crawled', axis=1, inplace=True)\n",
    "df.drop('reg_month', axis=1, inplace=True)"
   ]
  },
  {
   "cell_type": "markdown",
   "metadata": {},
   "source": [
    "*Обработаем дубликаты и пропуски*"
   ]
  },
  {
   "cell_type": "code",
   "execution_count": 11,
   "metadata": {},
   "outputs": [
    {
     "name": "stdout",
     "output_type": "stream",
     "text": [
      "Количество дубликатов 45040\n"
     ]
    }
   ],
   "source": [
    "#Проверим данные на наличие дубликатов\n",
    "\n",
    "print('Количество дубликатов', df.duplicated().sum())"
   ]
  },
  {
   "cell_type": "code",
   "execution_count": 12,
   "metadata": {},
   "outputs": [],
   "source": [
    "# удалим дубликаты\n",
    "df = df.drop_duplicates()"
   ]
  },
  {
   "cell_type": "code",
   "execution_count": 13,
   "metadata": {},
   "outputs": [
    {
     "data": {
      "text/plain": [
       "price               0\n",
       "vehicle_type    34559\n",
       "reg_year            0\n",
       "gearbox         17207\n",
       "power               0\n",
       "model           18361\n",
       "kilometer           0\n",
       "fuel_type       30764\n",
       "brand               0\n",
       "not_repaired    64558\n",
       "dtype: int64"
      ]
     },
     "execution_count": 13,
     "metadata": {},
     "output_type": "execute_result"
    }
   ],
   "source": [
    "#Проверим данные на пропуски\n",
    "df.isna().sum()"
   ]
  },
  {
   "cell_type": "code",
   "execution_count": 14,
   "metadata": {},
   "outputs": [],
   "source": [
    "#Обработаем пропуски \n",
    "\n",
    "# Замена сделана таким образом, т.к. автомобиль чаще не был в ремонте\n",
    "df['not_repaired'].fillna('no', inplace=True)\n",
    "#данная категория, как раз обозначает тип авто,который не определен, что нам полностью подходит. Вероятнее всего стоит Nan, потому что человек создавший объявление пропустил данное поле по какой то причине.\n",
    "\n",
    "df['vehicle_type'].fillna('other', inplace=True) \n",
    "# больше 90% всех автомабилей используют бензин\n",
    "df['fuel_type'].fillna('petrol', inplace=True) \n",
    "df['gearbox'].fillna('manual', inplace=True)\n",
    "df['model'].fillna('other', inplace=True)"
   ]
  },
  {
   "cell_type": "code",
   "execution_count": 15,
   "metadata": {},
   "outputs": [
    {
     "data": {
      "text/plain": [
       "price           0\n",
       "vehicle_type    0\n",
       "reg_year        0\n",
       "gearbox         0\n",
       "power           0\n",
       "model           0\n",
       "kilometer       0\n",
       "fuel_type       0\n",
       "brand           0\n",
       "not_repaired    0\n",
       "dtype: int64"
      ]
     },
     "execution_count": 15,
     "metadata": {},
     "output_type": "execute_result"
    }
   ],
   "source": [
    "#Проверим данные на пропуски повторно\n",
    "df.isna().sum()"
   ]
  },
  {
   "cell_type": "code",
   "execution_count": 16,
   "metadata": {},
   "outputs": [
    {
     "name": "stdout",
     "output_type": "stream",
     "text": [
      "<class 'pandas.core.frame.DataFrame'>\n",
      "Int64Index: 309329 entries, 0 to 354368\n",
      "Data columns (total 10 columns):\n",
      " #   Column        Non-Null Count   Dtype \n",
      "---  ------        --------------   ----- \n",
      " 0   price         309329 non-null  int64 \n",
      " 1   vehicle_type  309329 non-null  object\n",
      " 2   reg_year      309329 non-null  int64 \n",
      " 3   gearbox       309329 non-null  object\n",
      " 4   power         309329 non-null  int64 \n",
      " 5   model         309329 non-null  object\n",
      " 6   kilometer     309329 non-null  int64 \n",
      " 7   fuel_type     309329 non-null  object\n",
      " 8   brand         309329 non-null  object\n",
      " 9   not_repaired  309329 non-null  object\n",
      "dtypes: int64(4), object(6)\n",
      "memory usage: 26.0+ MB\n"
     ]
    }
   ],
   "source": [
    "df.info()"
   ]
  },
  {
   "cell_type": "markdown",
   "metadata": {},
   "source": [
    "*Обработаем Аномальные значение в столбцах*"
   ]
  },
  {
   "cell_type": "code",
   "execution_count": 17,
   "metadata": {},
   "outputs": [
    {
     "data": {
      "text/html": [
       "<div>\n",
       "<style scoped>\n",
       "    .dataframe tbody tr th:only-of-type {\n",
       "        vertical-align: middle;\n",
       "    }\n",
       "\n",
       "    .dataframe tbody tr th {\n",
       "        vertical-align: top;\n",
       "    }\n",
       "\n",
       "    .dataframe thead th {\n",
       "        text-align: right;\n",
       "    }\n",
       "</style>\n",
       "<table border=\"1\" class=\"dataframe\">\n",
       "  <thead>\n",
       "    <tr style=\"text-align: right;\">\n",
       "      <th></th>\n",
       "      <th>price</th>\n",
       "      <th>reg_year</th>\n",
       "      <th>power</th>\n",
       "      <th>kilometer</th>\n",
       "    </tr>\n",
       "  </thead>\n",
       "  <tbody>\n",
       "    <tr>\n",
       "      <th>count</th>\n",
       "      <td>309329.000000</td>\n",
       "      <td>309329.000000</td>\n",
       "      <td>309329.000000</td>\n",
       "      <td>309329.000000</td>\n",
       "    </tr>\n",
       "    <tr>\n",
       "      <th>mean</th>\n",
       "      <td>4486.937196</td>\n",
       "      <td>2004.360105</td>\n",
       "      <td>110.976908</td>\n",
       "      <td>127217.735809</td>\n",
       "    </tr>\n",
       "    <tr>\n",
       "      <th>std</th>\n",
       "      <td>4564.852796</td>\n",
       "      <td>92.541399</td>\n",
       "      <td>200.969473</td>\n",
       "      <td>38532.941010</td>\n",
       "    </tr>\n",
       "    <tr>\n",
       "      <th>min</th>\n",
       "      <td>0.000000</td>\n",
       "      <td>1000.000000</td>\n",
       "      <td>0.000000</td>\n",
       "      <td>5000.000000</td>\n",
       "    </tr>\n",
       "    <tr>\n",
       "      <th>25%</th>\n",
       "      <td>1100.000000</td>\n",
       "      <td>1999.000000</td>\n",
       "      <td>69.000000</td>\n",
       "      <td>125000.000000</td>\n",
       "    </tr>\n",
       "    <tr>\n",
       "      <th>50%</th>\n",
       "      <td>2800.000000</td>\n",
       "      <td>2003.000000</td>\n",
       "      <td>105.000000</td>\n",
       "      <td>150000.000000</td>\n",
       "    </tr>\n",
       "    <tr>\n",
       "      <th>75%</th>\n",
       "      <td>6500.000000</td>\n",
       "      <td>2008.000000</td>\n",
       "      <td>143.000000</td>\n",
       "      <td>150000.000000</td>\n",
       "    </tr>\n",
       "    <tr>\n",
       "      <th>max</th>\n",
       "      <td>20000.000000</td>\n",
       "      <td>9999.000000</td>\n",
       "      <td>20000.000000</td>\n",
       "      <td>150000.000000</td>\n",
       "    </tr>\n",
       "  </tbody>\n",
       "</table>\n",
       "</div>"
      ],
      "text/plain": [
       "               price       reg_year          power      kilometer\n",
       "count  309329.000000  309329.000000  309329.000000  309329.000000\n",
       "mean     4486.937196    2004.360105     110.976908  127217.735809\n",
       "std      4564.852796      92.541399     200.969473   38532.941010\n",
       "min         0.000000    1000.000000       0.000000    5000.000000\n",
       "25%      1100.000000    1999.000000      69.000000  125000.000000\n",
       "50%      2800.000000    2003.000000     105.000000  150000.000000\n",
       "75%      6500.000000    2008.000000     143.000000  150000.000000\n",
       "max     20000.000000    9999.000000   20000.000000  150000.000000"
      ]
     },
     "execution_count": 17,
     "metadata": {},
     "output_type": "execute_result"
    }
   ],
   "source": [
    "df.describe()"
   ]
  },
  {
   "cell_type": "code",
   "execution_count": 18,
   "metadata": {},
   "outputs": [
    {
     "data": {
      "text/html": [
       "<div>\n",
       "<style scoped>\n",
       "    .dataframe tbody tr th:only-of-type {\n",
       "        vertical-align: middle;\n",
       "    }\n",
       "\n",
       "    .dataframe tbody tr th {\n",
       "        vertical-align: top;\n",
       "    }\n",
       "\n",
       "    .dataframe thead th {\n",
       "        text-align: right;\n",
       "    }\n",
       "</style>\n",
       "<table border=\"1\" class=\"dataframe\">\n",
       "  <thead>\n",
       "    <tr style=\"text-align: right;\">\n",
       "      <th></th>\n",
       "      <th>reg_year</th>\n",
       "    </tr>\n",
       "  </thead>\n",
       "  <tbody>\n",
       "    <tr>\n",
       "      <th>count</th>\n",
       "      <td>309329.000000</td>\n",
       "    </tr>\n",
       "    <tr>\n",
       "      <th>mean</th>\n",
       "      <td>2004.360105</td>\n",
       "    </tr>\n",
       "    <tr>\n",
       "      <th>std</th>\n",
       "      <td>92.541399</td>\n",
       "    </tr>\n",
       "    <tr>\n",
       "      <th>min</th>\n",
       "      <td>1000.000000</td>\n",
       "    </tr>\n",
       "    <tr>\n",
       "      <th>25%</th>\n",
       "      <td>1999.000000</td>\n",
       "    </tr>\n",
       "    <tr>\n",
       "      <th>50%</th>\n",
       "      <td>2003.000000</td>\n",
       "    </tr>\n",
       "    <tr>\n",
       "      <th>75%</th>\n",
       "      <td>2008.000000</td>\n",
       "    </tr>\n",
       "    <tr>\n",
       "      <th>max</th>\n",
       "      <td>9999.000000</td>\n",
       "    </tr>\n",
       "  </tbody>\n",
       "</table>\n",
       "</div>"
      ],
      "text/plain": [
       "            reg_year\n",
       "count  309329.000000\n",
       "mean     2004.360105\n",
       "std        92.541399\n",
       "min      1000.000000\n",
       "25%      1999.000000\n",
       "50%      2003.000000\n",
       "75%      2008.000000\n",
       "max      9999.000000"
      ]
     },
     "execution_count": 18,
     "metadata": {},
     "output_type": "execute_result"
    }
   ],
   "source": [
    "#Выбросы в поле registration year\n",
    "\n",
    "df[['reg_year']].describe()"
   ]
  },
  {
   "cell_type": "code",
   "execution_count": 19,
   "metadata": {},
   "outputs": [
    {
     "data": {
      "image/png": "[encoded data removed]",
      "text/plain": [
       "<Figure size 432x288 with 1 Axes>"
      ]
     },
     "metadata": {
      "needs_background": "light"
     },
     "output_type": "display_data"
    }
   ],
   "source": [
    "# визуализируем данные \n",
    "plt.title('Данные')\n",
    "df[['reg_year']].boxplot()\n",
    "plt.ylim(1980,2022)\n",
    "plt.ylabel('Значения')\n",
    "plt.xlabel('Показатель')\n",
    "plt.show()"
   ]
  },
  {
   "cell_type": "code",
   "execution_count": 20,
   "metadata": {},
   "outputs": [
    {
     "name": "stdout",
     "output_type": "stream",
     "text": [
      "Количество строк с выбросами в поле год регистрации 4047.\n"
     ]
    }
   ],
   "source": [
    "z = (df[(df['reg_year']<1950)|(df['reg_year']>2017)]).shape[0]\n",
    "print(f'Количество строк с выбросами в поле год регистрации {z}.')"
   ]
  },
  {
   "cell_type": "code",
   "execution_count": 21,
   "metadata": {},
   "outputs": [],
   "source": [
    "# удалим строки с выбросами в поле registration year\n",
    "df = df[(df['reg_year']>1950)&(df['reg_year']<2017)]"
   ]
  },
  {
   "cell_type": "code",
   "execution_count": 22,
   "metadata": {},
   "outputs": [
    {
     "data": {
      "text/html": [
       "<div>\n",
       "<style scoped>\n",
       "    .dataframe tbody tr th:only-of-type {\n",
       "        vertical-align: middle;\n",
       "    }\n",
       "\n",
       "    .dataframe tbody tr th {\n",
       "        vertical-align: top;\n",
       "    }\n",
       "\n",
       "    .dataframe thead th {\n",
       "        text-align: right;\n",
       "    }\n",
       "</style>\n",
       "<table border=\"1\" class=\"dataframe\">\n",
       "  <thead>\n",
       "    <tr style=\"text-align: right;\">\n",
       "      <th></th>\n",
       "      <th>reg_year</th>\n",
       "    </tr>\n",
       "  </thead>\n",
       "  <tbody>\n",
       "    <tr>\n",
       "      <th>count</th>\n",
       "      <td>295498.000000</td>\n",
       "    </tr>\n",
       "    <tr>\n",
       "      <th>mean</th>\n",
       "      <td>2002.550007</td>\n",
       "    </tr>\n",
       "    <tr>\n",
       "      <th>std</th>\n",
       "      <td>6.992431</td>\n",
       "    </tr>\n",
       "    <tr>\n",
       "      <th>min</th>\n",
       "      <td>1951.000000</td>\n",
       "    </tr>\n",
       "    <tr>\n",
       "      <th>25%</th>\n",
       "      <td>1999.000000</td>\n",
       "    </tr>\n",
       "    <tr>\n",
       "      <th>50%</th>\n",
       "      <td>2003.000000</td>\n",
       "    </tr>\n",
       "    <tr>\n",
       "      <th>75%</th>\n",
       "      <td>2007.000000</td>\n",
       "    </tr>\n",
       "    <tr>\n",
       "      <th>max</th>\n",
       "      <td>2016.000000</td>\n",
       "    </tr>\n",
       "  </tbody>\n",
       "</table>\n",
       "</div>"
      ],
      "text/plain": [
       "            reg_year\n",
       "count  295498.000000\n",
       "mean     2002.550007\n",
       "std         6.992431\n",
       "min      1951.000000\n",
       "25%      1999.000000\n",
       "50%      2003.000000\n",
       "75%      2007.000000\n",
       "max      2016.000000"
      ]
     },
     "execution_count": 22,
     "metadata": {},
     "output_type": "execute_result"
    }
   ],
   "source": [
    "df[['reg_year']].describe()"
   ]
  },
  {
   "cell_type": "code",
   "execution_count": 23,
   "metadata": {},
   "outputs": [
    {
     "data": {
      "text/html": [
       "<div>\n",
       "<style scoped>\n",
       "    .dataframe tbody tr th:only-of-type {\n",
       "        vertical-align: middle;\n",
       "    }\n",
       "\n",
       "    .dataframe tbody tr th {\n",
       "        vertical-align: top;\n",
       "    }\n",
       "\n",
       "    .dataframe thead th {\n",
       "        text-align: right;\n",
       "    }\n",
       "</style>\n",
       "<table border=\"1\" class=\"dataframe\">\n",
       "  <thead>\n",
       "    <tr style=\"text-align: right;\">\n",
       "      <th></th>\n",
       "      <th>power</th>\n",
       "    </tr>\n",
       "  </thead>\n",
       "  <tbody>\n",
       "    <tr>\n",
       "      <th>count</th>\n",
       "      <td>295498.000000</td>\n",
       "    </tr>\n",
       "    <tr>\n",
       "      <th>mean</th>\n",
       "      <td>112.019821</td>\n",
       "    </tr>\n",
       "    <tr>\n",
       "      <th>std</th>\n",
       "      <td>198.042225</td>\n",
       "    </tr>\n",
       "    <tr>\n",
       "      <th>min</th>\n",
       "      <td>0.000000</td>\n",
       "    </tr>\n",
       "    <tr>\n",
       "      <th>25%</th>\n",
       "      <td>70.000000</td>\n",
       "    </tr>\n",
       "    <tr>\n",
       "      <th>50%</th>\n",
       "      <td>105.000000</td>\n",
       "    </tr>\n",
       "    <tr>\n",
       "      <th>75%</th>\n",
       "      <td>143.000000</td>\n",
       "    </tr>\n",
       "    <tr>\n",
       "      <th>max</th>\n",
       "      <td>20000.000000</td>\n",
       "    </tr>\n",
       "  </tbody>\n",
       "</table>\n",
       "</div>"
      ],
      "text/plain": [
       "               power\n",
       "count  295498.000000\n",
       "mean      112.019821\n",
       "std       198.042225\n",
       "min         0.000000\n",
       "25%        70.000000\n",
       "50%       105.000000\n",
       "75%       143.000000\n",
       "max     20000.000000"
      ]
     },
     "execution_count": 23,
     "metadata": {},
     "output_type": "execute_result"
    }
   ],
   "source": [
    "df[['power']].describe()"
   ]
  },
  {
   "cell_type": "code",
   "execution_count": 24,
   "metadata": {},
   "outputs": [],
   "source": [
    "def data_hist(df, size, title_name, bins=20, x_label='Значения', y_label='Количество'):\n",
    "\n",
    "    \"\"\"Метод Гисторамма\"\"\"\n",
    "    plt.figure(figsize=size)\n",
    "    plt.hist(df, bins=bins)\n",
    "    plt.title(title_name)\n",
    "    plt.xlabel(x_label)\n",
    "    plt.ylabel(y_label)\n",
    "    plt.xlim()\n",
    "    plt.show"
   ]
  },
  {
   "cell_type": "code",
   "execution_count": 25,
   "metadata": {},
   "outputs": [
    {
     "data": {
      "image/png": "[encoded data removed]",
      "text/plain": [
       "<Figure size 1080x360 with 1 Axes>"
      ]
     },
     "metadata": {
      "needs_background": "light"
     },
     "output_type": "display_data"
    }
   ],
   "source": [
    "# Посмотрим на распределение значений \n",
    "size = (15, 5)\n",
    "title_name = 'Распределение по мощности'\n",
    "bins = 50\n",
    "\n",
    "data_hist(\n",
    "    df['power'][(df['power'] < 250)],\n",
    "    size,\n",
    "    title_name,\n",
    "    bins\n",
    "    )"
   ]
  },
  {
   "cell_type": "code",
   "execution_count": 26,
   "metadata": {},
   "outputs": [
    {
     "data": {
      "image/png": "[encoded data removed]",
      "text/plain": [
       "<Figure size 1080x360 with 1 Axes>"
      ]
     },
     "metadata": {
      "needs_background": "light"
     },
     "output_type": "display_data"
    }
   ],
   "source": [
    "# Посмотрим на распределение значений \n",
    "size = (15, 5)\n",
    "title_name = 'Распределение по мощности'\n",
    "bins = 50\n",
    "\n",
    "data_hist(\n",
    "    df['power'][(df['power'] > 25) & (df['power'] < 250)],\n",
    "    size,\n",
    "    title_name,\n",
    "    bins\n",
    "    )"
   ]
  },
  {
   "cell_type": "code",
   "execution_count": 27,
   "metadata": {},
   "outputs": [
    {
     "data": {
      "text/plain": [
       "39344"
      ]
     },
     "execution_count": 27,
     "metadata": {},
     "output_type": "execute_result"
    }
   ],
   "source": [
    "#проверим количество выбросов в столбце power\n",
    "len(df[['power']][(df['power'] < 25) | (df['power'] > 250)])"
   ]
  },
  {
   "cell_type": "code",
   "execution_count": 28,
   "metadata": {},
   "outputs": [],
   "source": [
    "#удалим выбросы\n",
    "df = df[(df['power'] > 25) & (df['power'] < 250)]"
   ]
  },
  {
   "cell_type": "code",
   "execution_count": 29,
   "metadata": {},
   "outputs": [],
   "source": [
    "#удалим выбросы стоимости\n",
    "df = df[df['price'] > 20]"
   ]
  },
  {
   "cell_type": "code",
   "execution_count": null,
   "metadata": {},
   "outputs": [],
   "source": []
  },
  {
   "cell_type": "code",
   "execution_count": 30,
   "metadata": {},
   "outputs": [
    {
     "name": "stdout",
     "output_type": "stream",
     "text": [
      "<class 'pandas.core.frame.DataFrame'>\n",
      "Int64Index: 249555 entries, 1 to 354368\n",
      "Data columns (total 10 columns):\n",
      " #   Column        Non-Null Count   Dtype \n",
      "---  ------        --------------   ----- \n",
      " 0   price         249555 non-null  int64 \n",
      " 1   vehicle_type  249555 non-null  object\n",
      " 2   reg_year      249555 non-null  int64 \n",
      " 3   gearbox       249555 non-null  object\n",
      " 4   power         249555 non-null  int64 \n",
      " 5   model         249555 non-null  object\n",
      " 6   kilometer     249555 non-null  int64 \n",
      " 7   fuel_type     249555 non-null  object\n",
      " 8   brand         249555 non-null  object\n",
      " 9   not_repaired  249555 non-null  object\n",
      "dtypes: int64(4), object(6)\n",
      "memory usage: 20.9+ MB\n"
     ]
    }
   ],
   "source": [
    "df.info()"
   ]
  },
  {
   "cell_type": "markdown",
   "metadata": {},
   "source": [
    "**ВЫВОД**\n",
    "\n",
    "1.После предобработки данных имеем датасет из 249555 строк с 10 категориальными и 1 целевым признаком.\n",
    "\n",
    "2.Пропуски, которые были в категориальных признаках, заменили на общие значения представленные в этих признаках.\n",
    "\n",
    "3.Т.к признак num_photo заполнен одними нулями, удалили этот признак как лишний.\n",
    "\n",
    "4.Избавились от аномалий в годе регистрации и мощности авто.\n",
    "\n",
    "5.Признаки date_created, last_seen, postal_code и date_crawled удалили как лишние.\n"
   ]
  },
  {
   "cell_type": "code",
   "execution_count": 31,
   "metadata": {},
   "outputs": [
    {
     "data": {
      "text/html": [
       "<div>\n",
       "<style scoped>\n",
       "    .dataframe tbody tr th:only-of-type {\n",
       "        vertical-align: middle;\n",
       "    }\n",
       "\n",
       "    .dataframe tbody tr th {\n",
       "        vertical-align: top;\n",
       "    }\n",
       "\n",
       "    .dataframe thead th {\n",
       "        text-align: right;\n",
       "    }\n",
       "</style>\n",
       "<table border=\"1\" class=\"dataframe\">\n",
       "  <thead>\n",
       "    <tr style=\"text-align: right;\">\n",
       "      <th></th>\n",
       "      <th>price</th>\n",
       "      <th>reg_year</th>\n",
       "      <th>power</th>\n",
       "      <th>kilometer</th>\n",
       "    </tr>\n",
       "  </thead>\n",
       "  <tbody>\n",
       "    <tr>\n",
       "      <th>count</th>\n",
       "      <td>249555.000000</td>\n",
       "      <td>249555.000000</td>\n",
       "      <td>249555.000000</td>\n",
       "      <td>249555.000000</td>\n",
       "    </tr>\n",
       "    <tr>\n",
       "      <th>mean</th>\n",
       "      <td>4787.308509</td>\n",
       "      <td>2002.902715</td>\n",
       "      <td>116.804356</td>\n",
       "      <td>127193.945222</td>\n",
       "    </tr>\n",
       "    <tr>\n",
       "      <th>std</th>\n",
       "      <td>4531.300946</td>\n",
       "      <td>6.585129</td>\n",
       "      <td>45.089193</td>\n",
       "      <td>37405.674936</td>\n",
       "    </tr>\n",
       "    <tr>\n",
       "      <th>min</th>\n",
       "      <td>24.000000</td>\n",
       "      <td>1951.000000</td>\n",
       "      <td>26.000000</td>\n",
       "      <td>5000.000000</td>\n",
       "    </tr>\n",
       "    <tr>\n",
       "      <th>25%</th>\n",
       "      <td>1350.000000</td>\n",
       "      <td>1999.000000</td>\n",
       "      <td>77.000000</td>\n",
       "      <td>125000.000000</td>\n",
       "    </tr>\n",
       "    <tr>\n",
       "      <th>50%</th>\n",
       "      <td>3199.000000</td>\n",
       "      <td>2003.000000</td>\n",
       "      <td>110.000000</td>\n",
       "      <td>150000.000000</td>\n",
       "    </tr>\n",
       "    <tr>\n",
       "      <th>75%</th>\n",
       "      <td>6900.000000</td>\n",
       "      <td>2007.000000</td>\n",
       "      <td>144.000000</td>\n",
       "      <td>150000.000000</td>\n",
       "    </tr>\n",
       "    <tr>\n",
       "      <th>max</th>\n",
       "      <td>20000.000000</td>\n",
       "      <td>2016.000000</td>\n",
       "      <td>249.000000</td>\n",
       "      <td>150000.000000</td>\n",
       "    </tr>\n",
       "  </tbody>\n",
       "</table>\n",
       "</div>"
      ],
      "text/plain": [
       "               price       reg_year          power      kilometer\n",
       "count  249555.000000  249555.000000  249555.000000  249555.000000\n",
       "mean     4787.308509    2002.902715     116.804356  127193.945222\n",
       "std      4531.300946       6.585129      45.089193   37405.674936\n",
       "min        24.000000    1951.000000      26.000000    5000.000000\n",
       "25%      1350.000000    1999.000000      77.000000  125000.000000\n",
       "50%      3199.000000    2003.000000     110.000000  150000.000000\n",
       "75%      6900.000000    2007.000000     144.000000  150000.000000\n",
       "max     20000.000000    2016.000000     249.000000  150000.000000"
      ]
     },
     "execution_count": 31,
     "metadata": {},
     "output_type": "execute_result"
    }
   ],
   "source": [
    "#КОД РЕВЬЮЕРА\n",
    "\n",
    "df.describe()"
   ]
  },
  {
   "cell_type": "markdown",
   "metadata": {},
   "source": [
    "## Обучение моделей"
   ]
  },
  {
   "cell_type": "code",
   "execution_count": 32,
   "metadata": {},
   "outputs": [
    {
     "name": "stdout",
     "output_type": "stream",
     "text": [
      "(199644, 9)\n",
      "(49911, 9)\n"
     ]
    }
   ],
   "source": [
    "features_train, features_test, target_train, target_test = train_test_split(df.drop('price',axis=1),\n",
    "                                                                            df['price'], test_size=0.2,\n",
    "                                                                            random_state=12345)\n",
    "\n",
    "for i in [features_train, features_test]:\n",
    "    print(i.shape)"
   ]
  },
  {
   "cell_type": "code",
   "execution_count": 33,
   "metadata": {},
   "outputs": [
    {
     "data": {
      "text/plain": [
       "['vehicle_type', 'gearbox', 'model', 'fuel_type', 'brand', 'not_repaired']"
      ]
     },
     "execution_count": 33,
     "metadata": {},
     "output_type": "execute_result"
    }
   ],
   "source": [
    "cat = features_train.select_dtypes('object').columns.to_list()\n",
    "cat"
   ]
  },
  {
   "cell_type": "code",
   "execution_count": 34,
   "metadata": {},
   "outputs": [
    {
     "data": {
      "text/html": [
       "<div>\n",
       "<style scoped>\n",
       "    .dataframe tbody tr th:only-of-type {\n",
       "        vertical-align: middle;\n",
       "    }\n",
       "\n",
       "    .dataframe tbody tr th {\n",
       "        vertical-align: top;\n",
       "    }\n",
       "\n",
       "    .dataframe thead th {\n",
       "        text-align: right;\n",
       "    }\n",
       "</style>\n",
       "<table border=\"1\" class=\"dataframe\">\n",
       "  <thead>\n",
       "    <tr style=\"text-align: right;\">\n",
       "      <th></th>\n",
       "      <th>vehicle_type</th>\n",
       "      <th>reg_year</th>\n",
       "      <th>gearbox</th>\n",
       "      <th>power</th>\n",
       "      <th>model</th>\n",
       "      <th>kilometer</th>\n",
       "      <th>fuel_type</th>\n",
       "      <th>brand</th>\n",
       "      <th>not_repaired</th>\n",
       "    </tr>\n",
       "  </thead>\n",
       "  <tbody>\n",
       "    <tr>\n",
       "      <th>235146</th>\n",
       "      <td>7.0</td>\n",
       "      <td>2004</td>\n",
       "      <td>1.0</td>\n",
       "      <td>116</td>\n",
       "      <td>11.0</td>\n",
       "      <td>150000</td>\n",
       "      <td>2.0</td>\n",
       "      <td>2.0</td>\n",
       "      <td>0.0</td>\n",
       "    </tr>\n",
       "    <tr>\n",
       "      <th>232005</th>\n",
       "      <td>5.0</td>\n",
       "      <td>2010</td>\n",
       "      <td>1.0</td>\n",
       "      <td>68</td>\n",
       "      <td>54.0</td>\n",
       "      <td>60000</td>\n",
       "      <td>6.0</td>\n",
       "      <td>5.0</td>\n",
       "      <td>0.0</td>\n",
       "    </tr>\n",
       "    <tr>\n",
       "      <th>54316</th>\n",
       "      <td>0.0</td>\n",
       "      <td>2003</td>\n",
       "      <td>1.0</td>\n",
       "      <td>101</td>\n",
       "      <td>219.0</td>\n",
       "      <td>150000</td>\n",
       "      <td>2.0</td>\n",
       "      <td>38.0</td>\n",
       "      <td>0.0</td>\n",
       "    </tr>\n",
       "    <tr>\n",
       "      <th>158525</th>\n",
       "      <td>4.0</td>\n",
       "      <td>2009</td>\n",
       "      <td>1.0</td>\n",
       "      <td>140</td>\n",
       "      <td>47.0</td>\n",
       "      <td>125000</td>\n",
       "      <td>2.0</td>\n",
       "      <td>20.0</td>\n",
       "      <td>0.0</td>\n",
       "    </tr>\n",
       "    <tr>\n",
       "      <th>136263</th>\n",
       "      <td>4.0</td>\n",
       "      <td>1988</td>\n",
       "      <td>0.0</td>\n",
       "      <td>85</td>\n",
       "      <td>136.0</td>\n",
       "      <td>150000</td>\n",
       "      <td>6.0</td>\n",
       "      <td>22.0</td>\n",
       "      <td>0.0</td>\n",
       "    </tr>\n",
       "  </tbody>\n",
       "</table>\n",
       "</div>"
      ],
      "text/plain": [
       "        vehicle_type  reg_year  gearbox  power  model  kilometer  fuel_type  \\\n",
       "235146           7.0      2004      1.0    116   11.0     150000        2.0   \n",
       "232005           5.0      2010      1.0     68   54.0      60000        6.0   \n",
       "54316            0.0      2003      1.0    101  219.0     150000        2.0   \n",
       "158525           4.0      2009      1.0    140   47.0     125000        2.0   \n",
       "136263           4.0      1988      0.0     85  136.0     150000        6.0   \n",
       "\n",
       "        brand  not_repaired  \n",
       "235146    2.0           0.0  \n",
       "232005    5.0           0.0  \n",
       "54316    38.0           0.0  \n",
       "158525   20.0           0.0  \n",
       "136263   22.0           0.0  "
      ]
     },
     "execution_count": 34,
     "metadata": {},
     "output_type": "execute_result"
    }
   ],
   "source": [
    "encoder = OrdinalEncoder(handle_unknown='ignore')\n",
    "\n",
    "features_train_oe = features_train.copy()\n",
    "features_test_oe = features_test.copy()\n",
    "\n",
    "features_train_oe[cat] = encoder.fit_transform(features_train[cat])\n",
    "features_test_oe[cat] = encoder.transform(features_test[cat])\n",
    "\n",
    "features_train_oe.head()"
   ]
  },
  {
   "cell_type": "markdown",
   "metadata": {},
   "source": [
    "**ВЫВОД**\n",
    "\n",
    "Выделен целевой признак, данные разбиты на обучающие и тестовые выборки.\n",
    "\n",
    "Для преобразования данных выбрали методику Original Encoding, т.к. планируем дальнейщую работу с моделями - дерево решений, случайный лес, градиентный бустинг.\n",
    "\n",
    "Проведена стандартизация данных."
   ]
  },
  {
   "cell_type": "markdown",
   "metadata": {},
   "source": [
    "## Анализ моделей"
   ]
  },
  {
   "cell_type": "markdown",
   "metadata": {},
   "source": [
    "**3.1 Случайный лес**"
   ]
  },
  {
   "cell_type": "code",
   "execution_count": 35,
   "metadata": {},
   "outputs": [],
   "source": [
    "def best(model, params, features_train, target_train):\n",
    "    \n",
    "    grid = GridSearchCV(model, params, cv=3, scoring='neg_root_mean_squared_error', n_jobs=-1)\n",
    "    grid.fit(features_train, target_train)\n",
    "    \n",
    "    rmse = -grid.best_score_ #метрика лучшей модели на кросс-валидации\n",
    "    the_best_model = grid.best_estimator_ #сохраняю лучшую модель уже обученную на всей train выборке\n",
    "    \n",
    "    results = pd.DataFrame(grid.cv_results_)\n",
    "    fit_time = results[results['rank_test_score'] == 1]['mean_fit_time'].values[0] #время обучения\n",
    "    pred_time = results[results['rank_test_score'] == 1]['mean_score_time'].values[0] #время предсказания\n",
    "    \n",
    "    print(f'RMSE: {rmse}')\n",
    "    print(f'Время обучения: {fit_time}')\n",
    "    print(f'Время предсказания: {pred_time}')\n",
    "    print(f'Лучшие гиперпараметры: {grid.best_params_}')\n",
    "    \n",
    "    return the_best_model"
   ]
  },
  {
   "cell_type": "markdown",
   "metadata": {},
   "source": [
    "**DecisionTreeRegressor**"
   ]
  },
  {
   "cell_type": "code",
   "execution_count": 36,
   "metadata": {},
   "outputs": [
    {
     "name": "stdout",
     "output_type": "stream",
     "text": [
      "RMSE: 1865.9953510179112\n",
      "Время обучения: 0.38034486770629883\n",
      "Время предсказания: 0.015540599822998047\n",
      "Лучшие гиперпараметры: {'max_depth': 14}\n",
      "CPU times: user 11.4 s, sys: 4.11 ms, total: 11.4 s\n",
      "Wall time: 11.4 s\n"
     ]
    }
   ],
   "source": [
    "%%time\n",
    "model_tree = DecisionTreeRegressor(random_state=42)\n",
    "params_tree = {'max_depth' : range(2, 16)}\n",
    "\n",
    "the_best_tree = best(model_tree, params_tree, features_train_oe, target_train)"
   ]
  },
  {
   "cell_type": "markdown",
   "metadata": {},
   "source": [
    "**RandomForestRegressor**"
   ]
  },
  {
   "cell_type": "code",
   "execution_count": 37,
   "metadata": {},
   "outputs": [
    {
     "name": "stdout",
     "output_type": "stream",
     "text": [
      "RMSE: 1632.478573787236\n",
      "Время обучения: 16.993233919143677\n",
      "Время предсказания: 1.3024770418802898\n",
      "Лучшие гиперпараметры: {'max_depth': 50, 'n_estimators': 50}\n",
      "CPU times: user 1min 21s, sys: 1.26 s, total: 1min 22s\n",
      "Wall time: 1min 22s\n"
     ]
    }
   ],
   "source": [
    "%%time\n",
    "model_forest = RandomForestRegressor(random_state = 12345)\n",
    "params_forest = {'n_estimators': range(50, 100, 50),'max_depth' : range(50, 100, 50)}\n",
    "\n",
    "the_best_forest = best(model_forest, params_forest, features_train_oe, target_train)"
   ]
  },
  {
   "cell_type": "markdown",
   "metadata": {},
   "source": [
    "**LGBMRegressor**"
   ]
  },
  {
   "cell_type": "code",
   "execution_count": 38,
   "metadata": {},
   "outputs": [
    {
     "name": "stdout",
     "output_type": "stream",
     "text": [
      "RMSE: 1601.8560449679414\n",
      "Время обучения: 3.064310630162557\n",
      "Время предсказания: 0.403578519821167\n",
      "Лучшие гиперпараметры: {'learning_rate': 0.1778279410038923, 'n_estimators': 60, 'num_leaves': 51}\n",
      "CPU times: user 4min 43s, sys: 1.47 s, total: 4min 45s\n",
      "Wall time: 4min 48s\n"
     ]
    }
   ],
   "source": [
    "%%time\n",
    "model_lgb = lgb.LGBMRegressor(boosting_type='gbdt', random_state=12345)\n",
    "params_lgb = {\n",
    "    'learning_rate': np.logspace(-3, 0, 5),\n",
    "    'n_estimators': [40, 60],\n",
    "    'num_leaves': [31, 41, 51],\n",
    "}\n",
    "\n",
    "the_best_lgb = best(model_lgb, params_lgb, features_train_oe, target_train)"
   ]
  },
  {
   "cell_type": "markdown",
   "metadata": {},
   "source": [
    "Возьмем как лучшую модель LGBMRegressor и проверим ее на тестовой выборке, потому как время от дерева решений отличается не сильно, а rmse значительно ниже."
   ]
  },
  {
   "cell_type": "code",
   "execution_count": 41,
   "metadata": {},
   "outputs": [
    {
     "name": "stdout",
     "output_type": "stream",
     "text": [
      "CPU times: user 2.01 s, sys: 16.5 ms, total: 2.02 s\n",
      "Wall time: 1.98 s\n"
     ]
    },
    {
     "data": {
      "text/plain": [
       "1487.0909362679563"
      ]
     },
     "execution_count": 41,
     "metadata": {},
     "output_type": "execute_result"
    }
   ],
   "source": [
    "%%time\n",
    "model_lgb = (lgb.LGBMRegressor(boosting_type='gbdt', random_state=12345, n_estimators=60, num_leaves=51, learning_rate=0.1778279410038923)\n",
    "             .fit(features_test_oe, target_test)\n",
    "            )\n",
    "predictions_test = model_lgb.predict(features_test_oe)\n",
    "mse_test = mean_squared_error(target_test, predictions_test)\n",
    "rmse_test = mse_test ** 0.5\n",
    "rmse_test"
   ]
  },
  {
   "cell_type": "markdown",
   "metadata": {},
   "source": [
    "**ВЫВОД**\n",
    "\n",
    "Для сравнения были обучены модели DecisionTreeRegressor, RandomForest и LightGMB. Для каждой модели подготовлены входные данные. \n",
    "\n",
    "Самый лучший результат по метрике показал LGBMRegressor\tRMSE = 1601\tи временем обучения 2.4 сек\n",
    "\n",
    "Самый лучший результат по времени показал DecisionTreeRegressor\tRMSE = 1865\tи временем обучения 0.3 сек\n",
    "\n",
    "LGBMRegressor на тестовой выборке показала более лучший результат RMSE = 1487."
   ]
  }
 ],
 "metadata": {
  "ExecuteTimeLog": [
   {
    "duration": 359,
    "start_time": "2023-03-30T03:40:22.560Z"
   },
   {
    "duration": 2,
    "start_time": "2023-03-30T03:41:43.879Z"
   },
   {
    "duration": 1111,
    "start_time": "2023-03-30T03:43:39.488Z"
   },
   {
    "duration": 20,
    "start_time": "2023-03-30T03:43:41.528Z"
   },
   {
    "duration": 826,
    "start_time": "2023-03-30T03:47:09.578Z"
   },
   {
    "duration": 101,
    "start_time": "2023-03-30T03:47:26.216Z"
   },
   {
    "duration": 17,
    "start_time": "2023-03-30T03:47:31.353Z"
   },
   {
    "duration": 12,
    "start_time": "2023-03-30T03:54:42.378Z"
   },
   {
    "duration": 123,
    "start_time": "2023-03-30T03:54:47.826Z"
   },
   {
    "duration": 59,
    "start_time": "2023-03-30T07:01:42.238Z"
   },
   {
    "duration": 1634,
    "start_time": "2023-03-30T07:01:47.463Z"
   },
   {
    "duration": 3,
    "start_time": "2023-03-30T07:01:49.099Z"
   },
   {
    "duration": 24,
    "start_time": "2023-03-30T07:01:49.103Z"
   },
   {
    "duration": 3280,
    "start_time": "2023-03-30T07:01:49.129Z"
   },
   {
    "duration": 19,
    "start_time": "2023-03-30T07:01:52.412Z"
   },
   {
    "duration": 161,
    "start_time": "2023-03-30T07:01:52.432Z"
   },
   {
    "duration": 134,
    "start_time": "2023-03-30T07:01:52.594Z"
   },
   {
    "duration": 10,
    "start_time": "2023-03-30T07:06:48.076Z"
   },
   {
    "duration": 127,
    "start_time": "2023-03-30T07:07:11.980Z"
   },
   {
    "duration": 3,
    "start_time": "2023-03-30T07:09:33.813Z"
   },
   {
    "duration": 10,
    "start_time": "2023-03-30T07:09:59.045Z"
   },
   {
    "duration": 28,
    "start_time": "2023-03-30T07:10:09.718Z"
   },
   {
    "duration": 5,
    "start_time": "2023-03-30T07:13:29.582Z"
   },
   {
    "duration": 1720,
    "start_time": "2023-03-30T07:13:33.887Z"
   },
   {
    "duration": 5,
    "start_time": "2023-03-30T07:13:35.609Z"
   },
   {
    "duration": 43,
    "start_time": "2023-03-30T07:13:35.616Z"
   },
   {
    "duration": 865,
    "start_time": "2023-03-30T07:13:35.661Z"
   },
   {
    "duration": 20,
    "start_time": "2023-03-30T07:13:36.528Z"
   },
   {
    "duration": 201,
    "start_time": "2023-03-30T07:13:36.550Z"
   },
   {
    "duration": 103,
    "start_time": "2023-03-30T07:13:36.753Z"
   },
   {
    "duration": 9,
    "start_time": "2023-03-30T07:13:36.858Z"
   },
   {
    "duration": 148,
    "start_time": "2023-03-30T07:48:59.297Z"
   },
   {
    "duration": 36,
    "start_time": "2023-03-30T07:49:15.980Z"
   },
   {
    "duration": 21,
    "start_time": "2023-03-30T13:53:39.765Z"
   },
   {
    "duration": 1360,
    "start_time": "2023-03-30T13:53:45.820Z"
   },
   {
    "duration": 2,
    "start_time": "2023-03-30T13:53:47.182Z"
   },
   {
    "duration": 50,
    "start_time": "2023-03-30T13:53:47.186Z"
   },
   {
    "duration": 812,
    "start_time": "2023-03-30T13:53:47.238Z"
   },
   {
    "duration": 19,
    "start_time": "2023-03-30T13:53:48.053Z"
   },
   {
    "duration": 140,
    "start_time": "2023-03-30T13:53:48.083Z"
   },
   {
    "duration": 111,
    "start_time": "2023-03-30T13:53:48.225Z"
   },
   {
    "duration": 5,
    "start_time": "2023-03-30T13:53:48.338Z"
   },
   {
    "duration": 54,
    "start_time": "2023-03-30T13:53:48.344Z"
   },
   {
    "duration": 103,
    "start_time": "2023-03-30T14:00:04.402Z"
   },
   {
    "duration": 280,
    "start_time": "2023-03-30T14:00:27.357Z"
   },
   {
    "duration": 36,
    "start_time": "2023-03-30T14:00:28.932Z"
   },
   {
    "duration": 103,
    "start_time": "2023-03-30T14:00:31.053Z"
   },
   {
    "duration": 43,
    "start_time": "2023-03-30T14:00:31.540Z"
   },
   {
    "duration": 37,
    "start_time": "2023-03-30T14:00:31.731Z"
   },
   {
    "duration": 39,
    "start_time": "2023-03-30T14:00:32.163Z"
   },
   {
    "duration": 99,
    "start_time": "2023-03-30T14:00:32.291Z"
   },
   {
    "duration": 1422,
    "start_time": "2023-03-30T14:00:37.947Z"
   },
   {
    "duration": 2,
    "start_time": "2023-03-30T14:00:39.371Z"
   },
   {
    "duration": 62,
    "start_time": "2023-03-30T14:00:39.375Z"
   },
   {
    "duration": 889,
    "start_time": "2023-03-30T14:00:39.439Z"
   },
   {
    "duration": 18,
    "start_time": "2023-03-30T14:00:40.330Z"
   },
   {
    "duration": 149,
    "start_time": "2023-03-30T14:00:40.350Z"
   },
   {
    "duration": 152,
    "start_time": "2023-03-30T14:00:40.501Z"
   },
   {
    "duration": 5,
    "start_time": "2023-03-30T14:00:40.654Z"
   },
   {
    "duration": 49,
    "start_time": "2023-03-30T14:00:40.660Z"
   },
   {
    "duration": 319,
    "start_time": "2023-03-30T14:00:40.711Z"
   },
   {
    "duration": 1763,
    "start_time": "2023-03-31T05:37:14.273Z"
   },
   {
    "duration": 5,
    "start_time": "2023-03-31T05:37:16.039Z"
   },
   {
    "duration": 47,
    "start_time": "2023-03-31T05:37:16.046Z"
   },
   {
    "duration": 1284,
    "start_time": "2023-03-31T05:37:16.102Z"
   },
   {
    "duration": 24,
    "start_time": "2023-03-31T05:37:17.388Z"
   },
   {
    "duration": 181,
    "start_time": "2023-03-31T05:37:17.414Z"
   },
   {
    "duration": 100,
    "start_time": "2023-03-31T05:37:17.597Z"
   },
   {
    "duration": 5,
    "start_time": "2023-03-31T05:37:17.698Z"
   },
   {
    "duration": 41,
    "start_time": "2023-03-31T05:37:17.704Z"
   },
   {
    "duration": 326,
    "start_time": "2023-03-31T05:37:17.747Z"
   },
   {
    "duration": 115,
    "start_time": "2023-03-31T05:41:02.702Z"
   },
   {
    "duration": 9,
    "start_time": "2023-03-31T05:41:29.846Z"
   },
   {
    "duration": 320,
    "start_time": "2023-03-31T05:41:38.782Z"
   },
   {
    "duration": 352,
    "start_time": "2023-03-31T05:42:11.182Z"
   },
   {
    "duration": 102,
    "start_time": "2023-03-31T05:42:52.598Z"
   },
   {
    "duration": 35,
    "start_time": "2023-03-31T05:44:08.047Z"
   },
   {
    "duration": 10,
    "start_time": "2023-03-31T05:44:37.502Z"
   },
   {
    "duration": 887,
    "start_time": "2023-03-31T05:44:44.159Z"
   },
   {
    "duration": 22,
    "start_time": "2023-03-31T05:44:53.326Z"
   },
   {
    "duration": 58,
    "start_time": "2023-03-31T05:49:11.024Z"
   },
   {
    "duration": 14,
    "start_time": "2023-03-31T05:49:18.543Z"
   },
   {
    "duration": 15,
    "start_time": "2023-03-31T05:49:28.400Z"
   },
   {
    "duration": 14,
    "start_time": "2023-03-31T05:49:37.624Z"
   },
   {
    "duration": 1561,
    "start_time": "2023-03-31T05:49:43.042Z"
   },
   {
    "duration": 3,
    "start_time": "2023-03-31T05:49:44.605Z"
   },
   {
    "duration": 27,
    "start_time": "2023-03-31T05:49:44.609Z"
   },
   {
    "duration": 943,
    "start_time": "2023-03-31T05:49:44.637Z"
   },
   {
    "duration": 17,
    "start_time": "2023-03-31T05:49:45.588Z"
   },
   {
    "duration": 171,
    "start_time": "2023-03-31T05:49:45.607Z"
   },
   {
    "duration": 112,
    "start_time": "2023-03-31T05:49:45.780Z"
   },
   {
    "duration": 4,
    "start_time": "2023-03-31T05:49:45.895Z"
   },
   {
    "duration": 112,
    "start_time": "2023-03-31T05:49:45.901Z"
   },
   {
    "duration": 1084,
    "start_time": "2023-03-31T05:49:46.014Z"
   },
   {
    "duration": 0,
    "start_time": "2023-03-31T05:49:47.099Z"
   },
   {
    "duration": 0,
    "start_time": "2023-03-31T05:49:47.101Z"
   },
   {
    "duration": 0,
    "start_time": "2023-03-31T05:49:47.102Z"
   },
   {
    "duration": 0,
    "start_time": "2023-03-31T05:49:47.102Z"
   },
   {
    "duration": 0,
    "start_time": "2023-03-31T05:49:47.104Z"
   },
   {
    "duration": 1509,
    "start_time": "2023-03-31T05:50:21.778Z"
   },
   {
    "duration": 3,
    "start_time": "2023-03-31T05:50:23.289Z"
   },
   {
    "duration": 26,
    "start_time": "2023-03-31T05:50:23.293Z"
   },
   {
    "duration": 981,
    "start_time": "2023-03-31T05:50:23.320Z"
   },
   {
    "duration": 21,
    "start_time": "2023-03-31T05:50:24.304Z"
   },
   {
    "duration": 198,
    "start_time": "2023-03-31T05:50:24.328Z"
   },
   {
    "duration": 104,
    "start_time": "2023-03-31T05:50:24.528Z"
   },
   {
    "duration": 5,
    "start_time": "2023-03-31T05:50:24.633Z"
   },
   {
    "duration": 140,
    "start_time": "2023-03-31T05:50:24.640Z"
   },
   {
    "duration": 384,
    "start_time": "2023-03-31T05:50:24.784Z"
   },
   {
    "duration": 381,
    "start_time": "2023-03-31T05:50:25.177Z"
   },
   {
    "duration": 145,
    "start_time": "2023-03-31T05:50:25.559Z"
   },
   {
    "duration": 21,
    "start_time": "2023-03-31T05:50:25.706Z"
   },
   {
    "duration": 38,
    "start_time": "2023-03-31T05:50:25.730Z"
   },
   {
    "duration": 23,
    "start_time": "2023-03-31T06:22:03.199Z"
   },
   {
    "duration": 185,
    "start_time": "2023-03-31T06:26:30.505Z"
   },
   {
    "duration": 1896,
    "start_time": "2023-03-31T06:26:50.150Z"
   },
   {
    "duration": 3,
    "start_time": "2023-03-31T06:26:52.048Z"
   },
   {
    "duration": 63,
    "start_time": "2023-03-31T06:26:52.053Z"
   },
   {
    "duration": 1063,
    "start_time": "2023-03-31T06:26:52.118Z"
   },
   {
    "duration": 23,
    "start_time": "2023-03-31T06:26:53.190Z"
   },
   {
    "duration": 238,
    "start_time": "2023-03-31T06:26:53.215Z"
   },
   {
    "duration": 179,
    "start_time": "2023-03-31T06:26:53.455Z"
   },
   {
    "duration": 6,
    "start_time": "2023-03-31T06:26:53.636Z"
   },
   {
    "duration": 136,
    "start_time": "2023-03-31T06:26:53.644Z"
   },
   {
    "duration": 496,
    "start_time": "2023-03-31T06:26:53.783Z"
   },
   {
    "duration": 539,
    "start_time": "2023-03-31T06:26:54.286Z"
   },
   {
    "duration": 183,
    "start_time": "2023-03-31T06:26:54.828Z"
   },
   {
    "duration": 176,
    "start_time": "2023-03-31T06:26:55.014Z"
   },
   {
    "duration": 6,
    "start_time": "2023-03-31T06:27:32.808Z"
   },
   {
    "duration": 26,
    "start_time": "2023-03-31T06:27:35.695Z"
   },
   {
    "duration": 1641,
    "start_time": "2023-03-31T06:27:52.088Z"
   },
   {
    "duration": 3,
    "start_time": "2023-03-31T06:27:53.731Z"
   },
   {
    "duration": 35,
    "start_time": "2023-03-31T06:27:53.736Z"
   },
   {
    "duration": 1130,
    "start_time": "2023-03-31T06:27:53.773Z"
   },
   {
    "duration": 18,
    "start_time": "2023-03-31T06:27:54.905Z"
   },
   {
    "duration": 207,
    "start_time": "2023-03-31T06:27:54.925Z"
   },
   {
    "duration": 141,
    "start_time": "2023-03-31T06:27:55.134Z"
   },
   {
    "duration": 8,
    "start_time": "2023-03-31T06:27:55.278Z"
   },
   {
    "duration": 133,
    "start_time": "2023-03-31T06:27:55.288Z"
   },
   {
    "duration": 394,
    "start_time": "2023-03-31T06:27:55.423Z"
   },
   {
    "duration": 428,
    "start_time": "2023-03-31T06:27:55.819Z"
   },
   {
    "duration": 142,
    "start_time": "2023-03-31T06:27:56.248Z"
   },
   {
    "duration": 134,
    "start_time": "2023-03-31T06:27:56.396Z"
   },
   {
    "duration": 1395,
    "start_time": "2023-03-31T06:28:54.937Z"
   },
   {
    "duration": 109,
    "start_time": "2023-03-31T06:29:13.729Z"
   },
   {
    "duration": 1658,
    "start_time": "2023-03-31T06:29:21.847Z"
   },
   {
    "duration": 3,
    "start_time": "2023-03-31T06:29:23.508Z"
   },
   {
    "duration": 36,
    "start_time": "2023-03-31T06:29:23.512Z"
   },
   {
    "duration": 1167,
    "start_time": "2023-03-31T06:29:23.550Z"
   },
   {
    "duration": 19,
    "start_time": "2023-03-31T06:29:24.719Z"
   },
   {
    "duration": 202,
    "start_time": "2023-03-31T06:29:24.739Z"
   },
   {
    "duration": 190,
    "start_time": "2023-03-31T06:29:24.943Z"
   },
   {
    "duration": 4,
    "start_time": "2023-03-31T06:29:25.135Z"
   },
   {
    "duration": 151,
    "start_time": "2023-03-31T06:29:25.141Z"
   },
   {
    "duration": 453,
    "start_time": "2023-03-31T06:29:25.297Z"
   },
   {
    "duration": 477,
    "start_time": "2023-03-31T06:29:25.752Z"
   },
   {
    "duration": 133,
    "start_time": "2023-03-31T06:29:26.231Z"
   },
   {
    "duration": 126,
    "start_time": "2023-03-31T06:29:26.366Z"
   },
   {
    "duration": 133,
    "start_time": "2023-03-31T06:30:20.289Z"
   },
   {
    "duration": 163,
    "start_time": "2023-03-31T06:30:38.458Z"
   },
   {
    "duration": 1590,
    "start_time": "2023-04-03T18:02:03.607Z"
   },
   {
    "duration": 3,
    "start_time": "2023-04-03T18:02:05.199Z"
   },
   {
    "duration": 39,
    "start_time": "2023-04-03T18:02:05.204Z"
   },
   {
    "duration": 1282,
    "start_time": "2023-04-03T18:02:05.244Z"
   },
   {
    "duration": 18,
    "start_time": "2023-04-03T18:02:06.529Z"
   },
   {
    "duration": 121,
    "start_time": "2023-04-03T18:02:06.551Z"
   },
   {
    "duration": 116,
    "start_time": "2023-04-03T18:02:06.674Z"
   },
   {
    "duration": 5,
    "start_time": "2023-04-03T18:02:06.791Z"
   },
   {
    "duration": 169,
    "start_time": "2023-04-03T18:02:06.803Z"
   },
   {
    "duration": 194,
    "start_time": "2023-04-03T18:02:06.974Z"
   },
   {
    "duration": 200,
    "start_time": "2023-04-03T18:02:07.170Z"
   },
   {
    "duration": 75,
    "start_time": "2023-04-03T18:02:07.372Z"
   },
   {
    "duration": 74,
    "start_time": "2023-04-03T18:02:07.449Z"
   },
   {
    "duration": 78,
    "start_time": "2023-04-03T18:02:07.526Z"
   },
   {
    "duration": 1514,
    "start_time": "2023-04-04T04:34:55.250Z"
   },
   {
    "duration": 3,
    "start_time": "2023-04-04T04:34:56.767Z"
   },
   {
    "duration": 31,
    "start_time": "2023-04-04T04:34:56.772Z"
   },
   {
    "duration": 1093,
    "start_time": "2023-04-04T04:34:56.805Z"
   },
   {
    "duration": 17,
    "start_time": "2023-04-04T04:34:57.901Z"
   },
   {
    "duration": 132,
    "start_time": "2023-04-04T04:34:57.920Z"
   },
   {
    "duration": 103,
    "start_time": "2023-04-04T04:34:58.053Z"
   },
   {
    "duration": 4,
    "start_time": "2023-04-04T04:34:58.157Z"
   },
   {
    "duration": 163,
    "start_time": "2023-04-04T04:34:58.163Z"
   },
   {
    "duration": 162,
    "start_time": "2023-04-04T04:34:58.328Z"
   },
   {
    "duration": 179,
    "start_time": "2023-04-04T04:34:58.492Z"
   },
   {
    "duration": 98,
    "start_time": "2023-04-04T04:34:58.673Z"
   },
   {
    "duration": 74,
    "start_time": "2023-04-04T04:34:58.773Z"
   },
   {
    "duration": 61,
    "start_time": "2023-04-04T04:34:58.849Z"
   },
   {
    "duration": 1372,
    "start_time": "2023-04-04T04:38:26.149Z"
   },
   {
    "duration": 3,
    "start_time": "2023-04-04T04:38:27.523Z"
   },
   {
    "duration": 31,
    "start_time": "2023-04-04T04:38:27.528Z"
   },
   {
    "duration": 860,
    "start_time": "2023-04-04T04:38:27.561Z"
   },
   {
    "duration": 17,
    "start_time": "2023-04-04T04:38:28.423Z"
   },
   {
    "duration": 129,
    "start_time": "2023-04-04T04:38:28.441Z"
   },
   {
    "duration": 107,
    "start_time": "2023-04-04T04:38:28.572Z"
   },
   {
    "duration": 4,
    "start_time": "2023-04-04T04:38:28.680Z"
   },
   {
    "duration": 178,
    "start_time": "2023-04-04T04:38:28.686Z"
   },
   {
    "duration": 161,
    "start_time": "2023-04-04T04:38:28.867Z"
   },
   {
    "duration": 179,
    "start_time": "2023-04-04T04:38:29.029Z"
   },
   {
    "duration": 68,
    "start_time": "2023-04-04T04:38:29.210Z"
   },
   {
    "duration": 75,
    "start_time": "2023-04-04T04:38:29.280Z"
   },
   {
    "duration": 68,
    "start_time": "2023-04-04T04:38:29.357Z"
   },
   {
    "duration": 68,
    "start_time": "2023-04-04T04:41:03.826Z"
   },
   {
    "duration": 63,
    "start_time": "2023-04-04T04:55:09.262Z"
   },
   {
    "duration": 1884,
    "start_time": "2023-04-04T09:28:28.130Z"
   },
   {
    "duration": 4,
    "start_time": "2023-04-04T09:28:30.017Z"
   },
   {
    "duration": 39,
    "start_time": "2023-04-04T09:28:30.024Z"
   },
   {
    "duration": 1140,
    "start_time": "2023-04-04T09:28:30.066Z"
   },
   {
    "duration": 21,
    "start_time": "2023-04-04T09:28:31.208Z"
   },
   {
    "duration": 159,
    "start_time": "2023-04-04T09:28:31.231Z"
   },
   {
    "duration": 116,
    "start_time": "2023-04-04T09:28:31.392Z"
   },
   {
    "duration": 5,
    "start_time": "2023-04-04T09:28:31.510Z"
   },
   {
    "duration": 192,
    "start_time": "2023-04-04T09:28:31.516Z"
   },
   {
    "duration": 195,
    "start_time": "2023-04-04T09:28:31.711Z"
   },
   {
    "duration": 241,
    "start_time": "2023-04-04T09:28:31.909Z"
   },
   {
    "duration": 86,
    "start_time": "2023-04-04T09:28:32.152Z"
   },
   {
    "duration": 95,
    "start_time": "2023-04-04T09:28:32.240Z"
   },
   {
    "duration": 81,
    "start_time": "2023-04-04T09:28:32.337Z"
   },
   {
    "duration": 144,
    "start_time": "2023-04-04T09:28:32.420Z"
   },
   {
    "duration": 93,
    "start_time": "2023-04-04T09:28:32.567Z"
   },
   {
    "duration": 113,
    "start_time": "2023-04-04T17:07:25.048Z"
   },
   {
    "duration": 23,
    "start_time": "2023-04-04T17:07:35.911Z"
   },
   {
    "duration": 134,
    "start_time": "2023-04-04T17:08:04.795Z"
   },
   {
    "duration": 114,
    "start_time": "2023-04-04T17:08:13.163Z"
   },
   {
    "duration": 422,
    "start_time": "2023-04-04T17:08:25.363Z"
   },
   {
    "duration": 11,
    "start_time": "2023-04-04T17:09:58.260Z"
   },
   {
    "duration": 7,
    "start_time": "2023-04-04T17:10:12.516Z"
   },
   {
    "duration": 705,
    "start_time": "2023-04-04T17:10:28.284Z"
   },
   {
    "duration": 20,
    "start_time": "2023-04-04T17:10:39.802Z"
   },
   {
    "duration": 1547,
    "start_time": "2023-04-05T06:02:44.895Z"
   },
   {
    "duration": 3,
    "start_time": "2023-04-05T06:02:46.444Z"
   },
   {
    "duration": 46,
    "start_time": "2023-04-05T06:02:46.448Z"
   },
   {
    "duration": 2704,
    "start_time": "2023-04-05T06:02:46.496Z"
   },
   {
    "duration": 15,
    "start_time": "2023-04-05T06:02:49.202Z"
   },
   {
    "duration": 109,
    "start_time": "2023-04-05T06:02:49.218Z"
   },
   {
    "duration": 89,
    "start_time": "2023-04-05T06:02:49.328Z"
   },
   {
    "duration": 5,
    "start_time": "2023-04-05T06:02:49.418Z"
   },
   {
    "duration": 143,
    "start_time": "2023-04-05T06:02:49.424Z"
   },
   {
    "duration": 209,
    "start_time": "2023-04-05T06:02:49.571Z"
   },
   {
    "duration": 179,
    "start_time": "2023-04-05T06:02:49.782Z"
   },
   {
    "duration": 72,
    "start_time": "2023-04-05T06:02:49.963Z"
   },
   {
    "duration": 77,
    "start_time": "2023-04-05T06:02:50.036Z"
   },
   {
    "duration": 72,
    "start_time": "2023-04-05T06:02:50.115Z"
   },
   {
    "duration": 83,
    "start_time": "2023-04-05T06:02:50.188Z"
   },
   {
    "duration": 74,
    "start_time": "2023-04-05T06:02:50.273Z"
   },
   {
    "duration": 34,
    "start_time": "2023-04-05T06:02:50.349Z"
   },
   {
    "duration": 388,
    "start_time": "2023-04-05T06:02:50.385Z"
   },
   {
    "duration": 6,
    "start_time": "2023-04-05T06:02:50.775Z"
   },
   {
    "duration": 45,
    "start_time": "2023-04-05T06:02:50.783Z"
   },
   {
    "duration": 20,
    "start_time": "2023-04-05T06:07:32.042Z"
   },
   {
    "duration": 114,
    "start_time": "2023-04-05T06:09:55.187Z"
   },
   {
    "duration": 4,
    "start_time": "2023-04-05T06:11:23.339Z"
   },
   {
    "duration": 9,
    "start_time": "2023-04-05T06:11:25.248Z"
   },
   {
    "duration": 198,
    "start_time": "2023-04-05T06:11:59.803Z"
   },
   {
    "duration": 9,
    "start_time": "2023-04-05T06:12:24.531Z"
   },
   {
    "duration": 227,
    "start_time": "2023-04-05T06:12:50.597Z"
   },
   {
    "duration": 10,
    "start_time": "2023-04-05T06:14:56.132Z"
   },
   {
    "duration": 22,
    "start_time": "2023-04-05T06:15:44.613Z"
   },
   {
    "duration": 11,
    "start_time": "2023-04-05T06:16:37.178Z"
   },
   {
    "duration": 69,
    "start_time": "2023-04-05T06:16:44.758Z"
   },
   {
    "duration": 1511,
    "start_time": "2023-04-05T07:13:46.608Z"
   },
   {
    "duration": 3,
    "start_time": "2023-04-05T07:13:48.121Z"
   },
   {
    "duration": 39,
    "start_time": "2023-04-05T07:13:48.125Z"
   },
   {
    "duration": 757,
    "start_time": "2023-04-05T07:13:48.166Z"
   },
   {
    "duration": 16,
    "start_time": "2023-04-05T07:13:48.924Z"
   },
   {
    "duration": 130,
    "start_time": "2023-04-05T07:13:48.942Z"
   },
   {
    "duration": 102,
    "start_time": "2023-04-05T07:13:49.073Z"
   },
   {
    "duration": 4,
    "start_time": "2023-04-05T07:13:49.176Z"
   },
   {
    "duration": 159,
    "start_time": "2023-04-05T07:13:49.181Z"
   },
   {
    "duration": 165,
    "start_time": "2023-04-05T07:13:49.342Z"
   },
   {
    "duration": 178,
    "start_time": "2023-04-05T07:13:49.509Z"
   },
   {
    "duration": 83,
    "start_time": "2023-04-05T07:13:49.689Z"
   },
   {
    "duration": 67,
    "start_time": "2023-04-05T07:13:49.773Z"
   },
   {
    "duration": 77,
    "start_time": "2023-04-05T07:13:49.842Z"
   },
   {
    "duration": 85,
    "start_time": "2023-04-05T07:13:49.920Z"
   },
   {
    "duration": 76,
    "start_time": "2023-04-05T07:13:50.007Z"
   },
   {
    "duration": 20,
    "start_time": "2023-04-05T07:13:50.084Z"
   },
   {
    "duration": 395,
    "start_time": "2023-04-05T07:13:50.105Z"
   },
   {
    "duration": 7,
    "start_time": "2023-04-05T07:13:50.502Z"
   },
   {
    "duration": 39,
    "start_time": "2023-04-05T07:13:50.510Z"
   },
   {
    "duration": 29,
    "start_time": "2023-04-05T07:13:50.550Z"
   },
   {
    "duration": 5,
    "start_time": "2023-04-05T07:13:50.581Z"
   },
   {
    "duration": 214,
    "start_time": "2023-04-05T07:13:50.588Z"
   },
   {
    "duration": 189,
    "start_time": "2023-04-05T07:13:50.804Z"
   },
   {
    "duration": 8,
    "start_time": "2023-04-05T07:13:50.995Z"
   },
   {
    "duration": 44,
    "start_time": "2023-04-05T07:13:51.005Z"
   },
   {
    "duration": 66,
    "start_time": "2023-04-05T07:13:51.050Z"
   },
   {
    "duration": 137,
    "start_time": "2023-04-05T07:54:36.094Z"
   },
   {
    "duration": 48,
    "start_time": "2023-04-05T07:55:08.300Z"
   },
   {
    "duration": 5,
    "start_time": "2023-04-05T07:59:18.233Z"
   },
   {
    "duration": 3,
    "start_time": "2023-04-05T08:12:18.711Z"
   },
   {
    "duration": 1393,
    "start_time": "2023-04-05T08:23:08.439Z"
   },
   {
    "duration": 3,
    "start_time": "2023-04-05T08:23:09.833Z"
   },
   {
    "duration": 39,
    "start_time": "2023-04-05T08:23:09.837Z"
   },
   {
    "duration": 727,
    "start_time": "2023-04-05T08:23:09.877Z"
   },
   {
    "duration": 19,
    "start_time": "2023-04-05T08:23:10.606Z"
   },
   {
    "duration": 143,
    "start_time": "2023-04-05T08:23:10.627Z"
   },
   {
    "duration": 101,
    "start_time": "2023-04-05T08:23:10.772Z"
   },
   {
    "duration": 5,
    "start_time": "2023-04-05T08:23:10.874Z"
   },
   {
    "duration": 158,
    "start_time": "2023-04-05T08:23:10.881Z"
   },
   {
    "duration": 190,
    "start_time": "2023-04-05T08:23:11.042Z"
   },
   {
    "duration": 184,
    "start_time": "2023-04-05T08:23:11.233Z"
   },
   {
    "duration": 70,
    "start_time": "2023-04-05T08:23:11.419Z"
   },
   {
    "duration": 84,
    "start_time": "2023-04-05T08:23:11.491Z"
   },
   {
    "duration": 68,
    "start_time": "2023-04-05T08:23:11.576Z"
   },
   {
    "duration": 97,
    "start_time": "2023-04-05T08:23:11.645Z"
   },
   {
    "duration": 72,
    "start_time": "2023-04-05T08:23:11.743Z"
   },
   {
    "duration": 27,
    "start_time": "2023-04-05T08:23:11.818Z"
   },
   {
    "duration": 655,
    "start_time": "2023-04-05T08:23:11.847Z"
   },
   {
    "duration": 7,
    "start_time": "2023-04-05T08:23:12.504Z"
   },
   {
    "duration": 27,
    "start_time": "2023-04-05T08:23:12.513Z"
   },
   {
    "duration": 46,
    "start_time": "2023-04-05T08:23:12.542Z"
   },
   {
    "duration": 3,
    "start_time": "2023-04-05T08:23:12.590Z"
   },
   {
    "duration": 242,
    "start_time": "2023-04-05T08:23:12.595Z"
   },
   {
    "duration": 188,
    "start_time": "2023-04-05T08:23:12.839Z"
   },
   {
    "duration": 8,
    "start_time": "2023-04-05T08:23:13.029Z"
   },
   {
    "duration": 33,
    "start_time": "2023-04-05T08:23:13.039Z"
   },
   {
    "duration": 109,
    "start_time": "2023-04-05T08:23:13.074Z"
   },
   {
    "duration": 4,
    "start_time": "2023-04-05T08:23:13.187Z"
   },
   {
    "duration": 134,
    "start_time": "2023-04-05T08:23:13.192Z"
   },
   {
    "duration": 0,
    "start_time": "2023-04-05T08:23:13.328Z"
   },
   {
    "duration": 0,
    "start_time": "2023-04-05T08:23:13.329Z"
   },
   {
    "duration": 3794,
    "start_time": "2023-04-05T08:23:33.014Z"
   },
   {
    "duration": 0,
    "start_time": "2023-04-05T08:23:36.810Z"
   },
   {
    "duration": 4249,
    "start_time": "2023-04-05T08:23:45.000Z"
   },
   {
    "duration": 3,
    "start_time": "2023-04-05T08:26:16.833Z"
   },
   {
    "duration": 4,
    "start_time": "2023-04-05T08:26:18.281Z"
   },
   {
    "duration": 4,
    "start_time": "2023-04-05T08:26:18.721Z"
   },
   {
    "duration": 5,
    "start_time": "2023-04-05T08:26:18.873Z"
   },
   {
    "duration": 4,
    "start_time": "2023-04-05T08:26:19.009Z"
   },
   {
    "duration": 3,
    "start_time": "2023-04-05T08:26:19.146Z"
   },
   {
    "duration": 4,
    "start_time": "2023-04-05T08:26:19.274Z"
   },
   {
    "duration": 4,
    "start_time": "2023-04-05T08:26:19.408Z"
   },
   {
    "duration": 4,
    "start_time": "2023-04-05T08:26:19.536Z"
   },
   {
    "duration": 4,
    "start_time": "2023-04-05T08:26:19.665Z"
   },
   {
    "duration": 1752,
    "start_time": "2023-04-05T08:26:23.918Z"
   },
   {
    "duration": 3,
    "start_time": "2023-04-05T08:26:25.672Z"
   },
   {
    "duration": 42,
    "start_time": "2023-04-05T08:26:25.677Z"
   },
   {
    "duration": 858,
    "start_time": "2023-04-05T08:26:25.721Z"
   },
   {
    "duration": 18,
    "start_time": "2023-04-05T08:26:26.581Z"
   },
   {
    "duration": 125,
    "start_time": "2023-04-05T08:26:26.601Z"
   },
   {
    "duration": 99,
    "start_time": "2023-04-05T08:26:26.728Z"
   },
   {
    "duration": 4,
    "start_time": "2023-04-05T08:26:26.829Z"
   },
   {
    "duration": 155,
    "start_time": "2023-04-05T08:26:26.835Z"
   },
   {
    "duration": 187,
    "start_time": "2023-04-05T08:26:26.991Z"
   },
   {
    "duration": 182,
    "start_time": "2023-04-05T08:26:27.179Z"
   },
   {
    "duration": 75,
    "start_time": "2023-04-05T08:26:27.363Z"
   },
   {
    "duration": 77,
    "start_time": "2023-04-05T08:26:27.440Z"
   },
   {
    "duration": 74,
    "start_time": "2023-04-05T08:26:27.520Z"
   },
   {
    "duration": 81,
    "start_time": "2023-04-05T08:26:27.595Z"
   },
   {
    "duration": 81,
    "start_time": "2023-04-05T08:26:27.677Z"
   },
   {
    "duration": 26,
    "start_time": "2023-04-05T08:26:27.760Z"
   },
   {
    "duration": 372,
    "start_time": "2023-04-05T08:26:27.788Z"
   },
   {
    "duration": 10,
    "start_time": "2023-04-05T08:26:28.162Z"
   },
   {
    "duration": 27,
    "start_time": "2023-04-05T08:26:28.174Z"
   },
   {
    "duration": 24,
    "start_time": "2023-04-05T08:26:28.202Z"
   },
   {
    "duration": 5,
    "start_time": "2023-04-05T08:26:28.229Z"
   },
   {
    "duration": 212,
    "start_time": "2023-04-05T08:26:28.235Z"
   },
   {
    "duration": 188,
    "start_time": "2023-04-05T08:26:28.448Z"
   },
   {
    "duration": 8,
    "start_time": "2023-04-05T08:26:28.638Z"
   },
   {
    "duration": 35,
    "start_time": "2023-04-05T08:26:28.648Z"
   },
   {
    "duration": 60,
    "start_time": "2023-04-05T08:26:28.685Z"
   },
   {
    "duration": 11,
    "start_time": "2023-04-05T08:26:28.746Z"
   },
   {
    "duration": 4397,
    "start_time": "2023-04-05T08:26:28.759Z"
   },
   {
    "duration": 0,
    "start_time": "2023-04-05T08:26:33.158Z"
   },
   {
    "duration": 0,
    "start_time": "2023-04-05T08:26:33.159Z"
   },
   {
    "duration": 5655,
    "start_time": "2023-04-05T08:26:42.057Z"
   },
   {
    "duration": 1660,
    "start_time": "2023-04-05T08:26:56.083Z"
   },
   {
    "duration": 2,
    "start_time": "2023-04-05T08:26:57.745Z"
   },
   {
    "duration": 27,
    "start_time": "2023-04-05T08:26:57.749Z"
   },
   {
    "duration": 694,
    "start_time": "2023-04-05T08:26:57.778Z"
   },
   {
    "duration": 15,
    "start_time": "2023-04-05T08:26:58.474Z"
   },
   {
    "duration": 155,
    "start_time": "2023-04-05T08:26:58.491Z"
   },
   {
    "duration": 91,
    "start_time": "2023-04-05T08:26:58.648Z"
   },
   {
    "duration": 4,
    "start_time": "2023-04-05T08:26:58.741Z"
   },
   {
    "duration": 165,
    "start_time": "2023-04-05T08:26:58.747Z"
   },
   {
    "duration": 149,
    "start_time": "2023-04-05T08:26:58.915Z"
   },
   {
    "duration": 178,
    "start_time": "2023-04-05T08:26:59.066Z"
   },
   {
    "duration": 62,
    "start_time": "2023-04-05T08:26:59.246Z"
   },
   {
    "duration": 72,
    "start_time": "2023-04-05T08:26:59.310Z"
   },
   {
    "duration": 59,
    "start_time": "2023-04-05T08:26:59.384Z"
   },
   {
    "duration": 85,
    "start_time": "2023-04-05T08:26:59.444Z"
   },
   {
    "duration": 81,
    "start_time": "2023-04-05T08:26:59.530Z"
   },
   {
    "duration": 24,
    "start_time": "2023-04-05T08:26:59.613Z"
   },
   {
    "duration": 372,
    "start_time": "2023-04-05T08:26:59.639Z"
   },
   {
    "duration": 7,
    "start_time": "2023-04-05T08:27:00.012Z"
   },
   {
    "duration": 59,
    "start_time": "2023-04-05T08:27:00.020Z"
   },
   {
    "duration": 22,
    "start_time": "2023-04-05T08:27:00.081Z"
   },
   {
    "duration": 4,
    "start_time": "2023-04-05T08:27:00.104Z"
   },
   {
    "duration": 217,
    "start_time": "2023-04-05T08:27:00.109Z"
   },
   {
    "duration": 246,
    "start_time": "2023-04-05T08:27:00.328Z"
   },
   {
    "duration": 10,
    "start_time": "2023-04-05T08:27:00.576Z"
   },
   {
    "duration": 38,
    "start_time": "2023-04-05T08:27:00.588Z"
   },
   {
    "duration": 111,
    "start_time": "2023-04-05T08:27:00.628Z"
   },
   {
    "duration": 101,
    "start_time": "2023-04-05T08:27:00.743Z"
   },
   {
    "duration": 126,
    "start_time": "2023-04-05T08:27:00.846Z"
   },
   {
    "duration": 115,
    "start_time": "2023-04-05T08:27:00.974Z"
   },
   {
    "duration": 0,
    "start_time": "2023-04-05T08:27:01.091Z"
   },
   {
    "duration": 4,
    "start_time": "2023-04-05T08:27:15.386Z"
   },
   {
    "duration": 545,
    "start_time": "2023-04-05T08:27:22.866Z"
   },
   {
    "duration": 10,
    "start_time": "2023-04-05T08:28:02.067Z"
   },
   {
    "duration": 1363,
    "start_time": "2023-04-05T08:29:57.779Z"
   },
   {
    "duration": 3,
    "start_time": "2023-04-05T08:29:59.143Z"
   },
   {
    "duration": 32,
    "start_time": "2023-04-05T08:29:59.148Z"
   },
   {
    "duration": 766,
    "start_time": "2023-04-05T08:29:59.183Z"
   },
   {
    "duration": 28,
    "start_time": "2023-04-05T08:29:59.951Z"
   },
   {
    "duration": 134,
    "start_time": "2023-04-05T08:29:59.981Z"
   },
   {
    "duration": 132,
    "start_time": "2023-04-05T08:30:00.118Z"
   },
   {
    "duration": 5,
    "start_time": "2023-04-05T08:30:00.252Z"
   },
   {
    "duration": 183,
    "start_time": "2023-04-05T08:30:00.258Z"
   },
   {
    "duration": 167,
    "start_time": "2023-04-05T08:30:00.445Z"
   },
   {
    "duration": 207,
    "start_time": "2023-04-05T08:30:00.613Z"
   },
   {
    "duration": 64,
    "start_time": "2023-04-05T08:30:00.821Z"
   },
   {
    "duration": 98,
    "start_time": "2023-04-05T08:30:00.886Z"
   },
   {
    "duration": 57,
    "start_time": "2023-04-05T08:30:00.986Z"
   },
   {
    "duration": 152,
    "start_time": "2023-04-05T08:30:01.044Z"
   },
   {
    "duration": 92,
    "start_time": "2023-04-05T08:30:01.198Z"
   },
   {
    "duration": 21,
    "start_time": "2023-04-05T08:30:01.292Z"
   },
   {
    "duration": 367,
    "start_time": "2023-04-05T08:30:01.315Z"
   },
   {
    "duration": 8,
    "start_time": "2023-04-05T08:30:01.684Z"
   },
   {
    "duration": 201,
    "start_time": "2023-04-05T08:30:01.693Z"
   },
   {
    "duration": 200,
    "start_time": "2023-04-05T08:30:01.895Z"
   },
   {
    "duration": 176,
    "start_time": "2023-04-05T08:30:02.097Z"
   },
   {
    "duration": 328,
    "start_time": "2023-04-05T08:30:02.275Z"
   },
   {
    "duration": 184,
    "start_time": "2023-04-05T08:30:02.605Z"
   },
   {
    "duration": 9,
    "start_time": "2023-04-05T08:30:02.791Z"
   },
   {
    "duration": 146,
    "start_time": "2023-04-05T08:30:02.802Z"
   },
   {
    "duration": 106,
    "start_time": "2023-04-05T08:30:02.951Z"
   },
   {
    "duration": 31,
    "start_time": "2023-04-05T08:30:03.060Z"
   },
   {
    "duration": 120,
    "start_time": "2023-04-05T08:30:03.093Z"
   },
   {
    "duration": 21,
    "start_time": "2023-04-05T08:30:03.215Z"
   },
   {
    "duration": 150,
    "start_time": "2023-04-05T08:30:03.238Z"
   },
   {
    "duration": 165,
    "start_time": "2023-04-05T08:30:03.389Z"
   },
   {
    "duration": 247,
    "start_time": "2023-04-05T08:30:03.556Z"
   },
   {
    "duration": 92,
    "start_time": "2023-04-05T08:30:03.805Z"
   },
   {
    "duration": 94,
    "start_time": "2023-04-05T08:30:03.899Z"
   },
   {
    "duration": 5,
    "start_time": "2023-04-05T08:30:03.995Z"
   },
   {
    "duration": 6,
    "start_time": "2023-04-05T08:30:04.002Z"
   },
   {
    "duration": 6,
    "start_time": "2023-04-05T08:30:04.010Z"
   },
   {
    "duration": 14,
    "start_time": "2023-04-05T08:30:04.017Z"
   },
   {
    "duration": 10,
    "start_time": "2023-04-05T08:30:04.032Z"
   },
   {
    "duration": 3056,
    "start_time": "2023-04-05T08:35:11.290Z"
   },
   {
    "duration": 3,
    "start_time": "2023-04-05T08:35:14.348Z"
   },
   {
    "duration": 36,
    "start_time": "2023-04-05T08:35:14.353Z"
   },
   {
    "duration": 1078,
    "start_time": "2023-04-05T08:35:14.391Z"
   },
   {
    "duration": 20,
    "start_time": "2023-04-05T08:35:15.472Z"
   },
   {
    "duration": 222,
    "start_time": "2023-04-05T08:35:15.494Z"
   },
   {
    "duration": 137,
    "start_time": "2023-04-05T08:35:15.725Z"
   },
   {
    "duration": 9,
    "start_time": "2023-04-05T08:35:15.864Z"
   },
   {
    "duration": 197,
    "start_time": "2023-04-05T08:35:15.876Z"
   },
   {
    "duration": 229,
    "start_time": "2023-04-05T08:35:16.075Z"
   },
   {
    "duration": 189,
    "start_time": "2023-04-05T08:35:16.306Z"
   },
   {
    "duration": 129,
    "start_time": "2023-04-05T08:35:16.497Z"
   },
   {
    "duration": 132,
    "start_time": "2023-04-05T08:35:16.629Z"
   },
   {
    "duration": 127,
    "start_time": "2023-04-05T08:35:16.769Z"
   },
   {
    "duration": 141,
    "start_time": "2023-04-05T08:35:16.898Z"
   },
   {
    "duration": 71,
    "start_time": "2023-04-05T08:35:17.041Z"
   },
   {
    "duration": 23,
    "start_time": "2023-04-05T08:35:17.114Z"
   },
   {
    "duration": 576,
    "start_time": "2023-04-05T08:35:17.139Z"
   },
   {
    "duration": 8,
    "start_time": "2023-04-05T08:35:17.716Z"
   },
   {
    "duration": 26,
    "start_time": "2023-04-05T08:35:17.725Z"
   },
   {
    "duration": 35,
    "start_time": "2023-04-05T08:35:17.753Z"
   },
   {
    "duration": 4,
    "start_time": "2023-04-05T08:35:17.790Z"
   },
   {
    "duration": 235,
    "start_time": "2023-04-05T08:35:17.795Z"
   },
   {
    "duration": 245,
    "start_time": "2023-04-05T08:35:18.033Z"
   },
   {
    "duration": 11,
    "start_time": "2023-04-05T08:35:18.280Z"
   },
   {
    "duration": 48,
    "start_time": "2023-04-05T08:35:18.294Z"
   },
   {
    "duration": 114,
    "start_time": "2023-04-05T08:35:18.345Z"
   },
   {
    "duration": 12,
    "start_time": "2023-04-05T08:35:18.461Z"
   },
   {
    "duration": 79,
    "start_time": "2023-04-05T08:35:18.475Z"
   },
   {
    "duration": 9,
    "start_time": "2023-04-05T08:35:18.556Z"
   },
   {
    "duration": 32,
    "start_time": "2023-04-05T08:35:18.567Z"
   },
   {
    "duration": 149,
    "start_time": "2023-04-05T08:35:18.602Z"
   },
   {
    "duration": 674,
    "start_time": "2023-04-05T08:35:18.753Z"
   },
   {
    "duration": 14,
    "start_time": "2023-04-05T08:35:19.429Z"
   },
   {
    "duration": 30,
    "start_time": "2023-04-05T08:35:19.445Z"
   },
   {
    "duration": 23,
    "start_time": "2023-04-05T08:35:19.479Z"
   },
   {
    "duration": 6,
    "start_time": "2023-04-05T08:49:26.143Z"
   },
   {
    "duration": 1857,
    "start_time": "2023-04-05T09:01:17.832Z"
   },
   {
    "duration": 3,
    "start_time": "2023-04-05T09:01:19.691Z"
   },
   {
    "duration": 24,
    "start_time": "2023-04-05T09:01:19.696Z"
   },
   {
    "duration": 784,
    "start_time": "2023-04-05T09:01:19.722Z"
   },
   {
    "duration": 17,
    "start_time": "2023-04-05T09:01:20.508Z"
   },
   {
    "duration": 143,
    "start_time": "2023-04-05T09:01:20.527Z"
   },
   {
    "duration": 115,
    "start_time": "2023-04-05T09:01:20.674Z"
   },
   {
    "duration": 5,
    "start_time": "2023-04-05T09:01:20.791Z"
   },
   {
    "duration": 179,
    "start_time": "2023-04-05T09:01:20.798Z"
   },
   {
    "duration": 186,
    "start_time": "2023-04-05T09:01:20.979Z"
   },
   {
    "duration": 189,
    "start_time": "2023-04-05T09:01:21.167Z"
   },
   {
    "duration": 79,
    "start_time": "2023-04-05T09:01:21.358Z"
   },
   {
    "duration": 94,
    "start_time": "2023-04-05T09:01:21.439Z"
   },
   {
    "duration": 132,
    "start_time": "2023-04-05T09:01:21.537Z"
   },
   {
    "duration": 121,
    "start_time": "2023-04-05T09:01:21.674Z"
   },
   {
    "duration": 93,
    "start_time": "2023-04-05T09:01:21.796Z"
   },
   {
    "duration": 22,
    "start_time": "2023-04-05T09:01:21.891Z"
   },
   {
    "duration": 393,
    "start_time": "2023-04-05T09:01:21.914Z"
   },
   {
    "duration": 6,
    "start_time": "2023-04-05T09:01:22.309Z"
   },
   {
    "duration": 64,
    "start_time": "2023-04-05T09:01:22.317Z"
   },
   {
    "duration": 25,
    "start_time": "2023-04-05T09:01:22.389Z"
   },
   {
    "duration": 4,
    "start_time": "2023-04-05T09:01:22.416Z"
   },
   {
    "duration": 198,
    "start_time": "2023-04-05T09:01:22.422Z"
   },
   {
    "duration": 194,
    "start_time": "2023-04-05T09:01:22.622Z"
   },
   {
    "duration": 8,
    "start_time": "2023-04-05T09:01:22.818Z"
   },
   {
    "duration": 29,
    "start_time": "2023-04-05T09:01:22.828Z"
   },
   {
    "duration": 102,
    "start_time": "2023-04-05T09:01:22.859Z"
   },
   {
    "duration": 26,
    "start_time": "2023-04-05T09:01:22.964Z"
   },
   {
    "duration": 115,
    "start_time": "2023-04-05T09:01:22.991Z"
   },
   {
    "duration": 4,
    "start_time": "2023-04-05T09:01:23.108Z"
   },
   {
    "duration": 17,
    "start_time": "2023-04-05T09:01:23.114Z"
   },
   {
    "duration": 87,
    "start_time": "2023-04-05T09:01:23.133Z"
   },
   {
    "duration": 477,
    "start_time": "2023-04-05T09:01:23.222Z"
   },
   {
    "duration": 8,
    "start_time": "2023-04-05T09:01:23.701Z"
   },
   {
    "duration": 9,
    "start_time": "2023-04-05T09:01:23.711Z"
   },
   {
    "duration": 12,
    "start_time": "2023-04-05T09:01:23.721Z"
   },
   {
    "duration": 104,
    "start_time": "2023-04-05T09:01:23.735Z"
   },
   {
    "duration": 27,
    "start_time": "2023-04-05T09:37:21.279Z"
   },
   {
    "duration": 1394,
    "start_time": "2023-04-05T09:37:30.425Z"
   },
   {
    "duration": 3,
    "start_time": "2023-04-05T09:37:31.820Z"
   },
   {
    "duration": 96,
    "start_time": "2023-04-05T09:37:31.824Z"
   },
   {
    "duration": 873,
    "start_time": "2023-04-05T09:37:31.921Z"
   },
   {
    "duration": 21,
    "start_time": "2023-04-05T09:37:32.797Z"
   },
   {
    "duration": 168,
    "start_time": "2023-04-05T09:37:32.821Z"
   },
   {
    "duration": 132,
    "start_time": "2023-04-05T09:37:32.994Z"
   },
   {
    "duration": 4,
    "start_time": "2023-04-05T09:37:33.128Z"
   },
   {
    "duration": 162,
    "start_time": "2023-04-05T09:37:33.134Z"
   },
   {
    "duration": 182,
    "start_time": "2023-04-05T09:37:33.299Z"
   },
   {
    "duration": 200,
    "start_time": "2023-04-05T09:37:33.485Z"
   },
   {
    "duration": 64,
    "start_time": "2023-04-05T09:37:33.690Z"
   },
   {
    "duration": 76,
    "start_time": "2023-04-05T09:37:33.756Z"
   },
   {
    "duration": 68,
    "start_time": "2023-04-05T09:37:33.836Z"
   },
   {
    "duration": 85,
    "start_time": "2023-04-05T09:37:33.905Z"
   },
   {
    "duration": 67,
    "start_time": "2023-04-05T09:37:33.992Z"
   },
   {
    "duration": 33,
    "start_time": "2023-04-05T09:37:34.060Z"
   },
   {
    "duration": 345,
    "start_time": "2023-04-05T09:37:34.095Z"
   },
   {
    "duration": 7,
    "start_time": "2023-04-05T09:37:34.441Z"
   },
   {
    "duration": 40,
    "start_time": "2023-04-05T09:37:34.450Z"
   },
   {
    "duration": 22,
    "start_time": "2023-04-05T09:37:34.491Z"
   },
   {
    "duration": 4,
    "start_time": "2023-04-05T09:37:34.515Z"
   },
   {
    "duration": 219,
    "start_time": "2023-04-05T09:37:34.521Z"
   },
   {
    "duration": 182,
    "start_time": "2023-04-05T09:37:34.742Z"
   },
   {
    "duration": 9,
    "start_time": "2023-04-05T09:37:34.926Z"
   },
   {
    "duration": 26,
    "start_time": "2023-04-05T09:37:34.936Z"
   },
   {
    "duration": 61,
    "start_time": "2023-04-05T09:37:34.980Z"
   },
   {
    "duration": 16,
    "start_time": "2023-04-05T09:37:35.042Z"
   },
   {
    "duration": 105,
    "start_time": "2023-04-05T09:37:35.060Z"
   },
   {
    "duration": 4,
    "start_time": "2023-04-05T09:37:35.167Z"
   },
   {
    "duration": 35,
    "start_time": "2023-04-05T09:37:35.172Z"
   },
   {
    "duration": 83,
    "start_time": "2023-04-05T09:37:35.208Z"
   },
   {
    "duration": 396,
    "start_time": "2023-04-05T09:37:35.293Z"
   },
   {
    "duration": 9,
    "start_time": "2023-04-05T09:37:35.692Z"
   },
   {
    "duration": 29,
    "start_time": "2023-04-05T09:37:35.703Z"
   },
   {
    "duration": 14,
    "start_time": "2023-04-05T09:37:35.734Z"
   },
   {
    "duration": 84,
    "start_time": "2023-04-05T09:37:35.749Z"
   },
   {
    "duration": 16,
    "start_time": "2023-04-05T09:37:35.835Z"
   },
   {
    "duration": 26,
    "start_time": "2023-04-05T09:37:53.567Z"
   },
   {
    "duration": 22,
    "start_time": "2023-04-05T09:37:55.041Z"
   },
   {
    "duration": 28,
    "start_time": "2023-04-05T09:37:55.500Z"
   },
   {
    "duration": 28,
    "start_time": "2023-04-05T09:37:55.707Z"
   },
   {
    "duration": 20,
    "start_time": "2023-04-05T09:37:55.840Z"
   },
   {
    "duration": 35,
    "start_time": "2023-04-05T09:37:55.996Z"
   },
   {
    "duration": 27,
    "start_time": "2023-04-05T09:37:56.136Z"
   },
   {
    "duration": 27,
    "start_time": "2023-04-05T09:37:56.274Z"
   },
   {
    "duration": 1396,
    "start_time": "2023-04-05T09:38:01.129Z"
   },
   {
    "duration": 2,
    "start_time": "2023-04-05T09:38:02.527Z"
   },
   {
    "duration": 61,
    "start_time": "2023-04-05T09:38:02.531Z"
   },
   {
    "duration": 857,
    "start_time": "2023-04-05T09:38:02.594Z"
   },
   {
    "duration": 46,
    "start_time": "2023-04-05T09:38:03.452Z"
   },
   {
    "duration": 115,
    "start_time": "2023-04-05T09:38:03.499Z"
   },
   {
    "duration": 121,
    "start_time": "2023-04-05T09:38:03.615Z"
   },
   {
    "duration": 3,
    "start_time": "2023-04-05T09:38:03.738Z"
   },
   {
    "duration": 180,
    "start_time": "2023-04-05T09:38:03.743Z"
   },
   {
    "duration": 170,
    "start_time": "2023-04-05T09:38:03.926Z"
   },
   {
    "duration": 212,
    "start_time": "2023-04-05T09:38:04.098Z"
   },
   {
    "duration": 78,
    "start_time": "2023-04-05T09:38:04.312Z"
   },
   {
    "duration": 77,
    "start_time": "2023-04-05T09:38:04.392Z"
   },
   {
    "duration": 81,
    "start_time": "2023-04-05T09:38:04.470Z"
   },
   {
    "duration": 77,
    "start_time": "2023-04-05T09:38:04.552Z"
   },
   {
    "duration": 72,
    "start_time": "2023-04-05T09:38:04.631Z"
   },
   {
    "duration": 17,
    "start_time": "2023-04-05T09:38:04.705Z"
   },
   {
    "duration": 386,
    "start_time": "2023-04-05T09:38:04.724Z"
   },
   {
    "duration": 8,
    "start_time": "2023-04-05T09:38:05.115Z"
   },
   {
    "duration": 32,
    "start_time": "2023-04-05T09:38:05.124Z"
   },
   {
    "duration": 46,
    "start_time": "2023-04-05T09:38:05.157Z"
   },
   {
    "duration": 5,
    "start_time": "2023-04-05T09:38:05.204Z"
   },
   {
    "duration": 202,
    "start_time": "2023-04-05T09:38:05.211Z"
   },
   {
    "duration": 193,
    "start_time": "2023-04-05T09:38:05.415Z"
   },
   {
    "duration": 8,
    "start_time": "2023-04-05T09:38:05.609Z"
   },
   {
    "duration": 27,
    "start_time": "2023-04-05T09:38:05.618Z"
   },
   {
    "duration": 82,
    "start_time": "2023-04-05T09:38:05.646Z"
   },
   {
    "duration": 4,
    "start_time": "2023-04-05T09:38:05.731Z"
   },
   {
    "duration": 134,
    "start_time": "2023-04-05T09:38:05.736Z"
   },
   {
    "duration": 17,
    "start_time": "2023-04-05T09:38:05.882Z"
   },
   {
    "duration": 48,
    "start_time": "2023-04-05T09:38:05.900Z"
   },
   {
    "duration": 113,
    "start_time": "2023-04-05T09:38:05.950Z"
   },
   {
    "duration": 449,
    "start_time": "2023-04-05T09:38:06.065Z"
   },
   {
    "duration": 8,
    "start_time": "2023-04-05T09:38:06.516Z"
   },
   {
    "duration": 28,
    "start_time": "2023-04-05T09:38:06.535Z"
   },
   {
    "duration": 49,
    "start_time": "2023-04-05T09:38:06.565Z"
   },
   {
    "duration": 96,
    "start_time": "2023-04-05T09:38:06.616Z"
   },
   {
    "duration": 20,
    "start_time": "2023-04-05T09:38:06.713Z"
   },
   {
    "duration": 51,
    "start_time": "2023-04-06T05:56:16.457Z"
   },
   {
    "duration": 7,
    "start_time": "2023-04-06T05:57:00.577Z"
   },
   {
    "duration": 2083,
    "start_time": "2023-04-06T05:57:05.369Z"
   },
   {
    "duration": 3,
    "start_time": "2023-04-06T05:57:07.454Z"
   },
   {
    "duration": 41,
    "start_time": "2023-04-06T05:57:07.458Z"
   },
   {
    "duration": 3067,
    "start_time": "2023-04-06T05:57:07.501Z"
   },
   {
    "duration": 17,
    "start_time": "2023-04-06T05:57:10.571Z"
   },
   {
    "duration": 194,
    "start_time": "2023-04-06T05:57:10.590Z"
   },
   {
    "duration": 108,
    "start_time": "2023-04-06T05:57:10.786Z"
   },
   {
    "duration": 4,
    "start_time": "2023-04-06T05:57:10.896Z"
   },
   {
    "duration": 201,
    "start_time": "2023-04-06T05:57:10.903Z"
   },
   {
    "duration": 258,
    "start_time": "2023-04-06T05:57:11.105Z"
   },
   {
    "duration": 201,
    "start_time": "2023-04-06T05:57:11.364Z"
   },
   {
    "duration": 90,
    "start_time": "2023-04-06T05:57:11.566Z"
   },
   {
    "duration": 131,
    "start_time": "2023-04-06T05:57:11.658Z"
   },
   {
    "duration": 101,
    "start_time": "2023-04-06T05:57:11.792Z"
   },
   {
    "duration": 123,
    "start_time": "2023-04-06T05:57:11.895Z"
   },
   {
    "duration": 108,
    "start_time": "2023-04-06T05:57:12.021Z"
   },
   {
    "duration": 27,
    "start_time": "2023-04-06T05:57:12.131Z"
   },
   {
    "duration": 559,
    "start_time": "2023-04-06T05:57:12.159Z"
   },
   {
    "duration": 9,
    "start_time": "2023-04-06T05:57:12.720Z"
   },
   {
    "duration": 89,
    "start_time": "2023-04-06T05:57:12.732Z"
   },
   {
    "duration": 53,
    "start_time": "2023-04-06T05:57:12.823Z"
   },
   {
    "duration": 4,
    "start_time": "2023-04-06T05:57:12.878Z"
   },
   {
    "duration": 273,
    "start_time": "2023-04-06T05:57:12.884Z"
   },
   {
    "duration": 241,
    "start_time": "2023-04-06T05:57:13.159Z"
   },
   {
    "duration": 17,
    "start_time": "2023-04-06T05:57:13.402Z"
   },
   {
    "duration": 37,
    "start_time": "2023-04-06T05:57:13.420Z"
   },
   {
    "duration": 89,
    "start_time": "2023-04-06T05:57:13.459Z"
   },
   {
    "duration": 12,
    "start_time": "2023-04-06T05:57:13.550Z"
   },
   {
    "duration": 115,
    "start_time": "2023-04-06T05:57:13.564Z"
   },
   {
    "duration": 4,
    "start_time": "2023-04-06T05:57:13.681Z"
   },
   {
    "duration": 25,
    "start_time": "2023-04-06T05:57:13.688Z"
   },
   {
    "duration": 94,
    "start_time": "2023-04-06T05:57:13.716Z"
   },
   {
    "duration": 501,
    "start_time": "2023-04-06T05:57:13.812Z"
   },
   {
    "duration": 10,
    "start_time": "2023-04-06T05:57:14.315Z"
   },
   {
    "duration": 23,
    "start_time": "2023-04-06T05:57:14.328Z"
   },
   {
    "duration": 18,
    "start_time": "2023-04-06T05:57:14.353Z"
   },
   {
    "duration": 94,
    "start_time": "2023-04-06T05:57:14.373Z"
   },
   {
    "duration": 21,
    "start_time": "2023-04-06T05:57:14.469Z"
   },
   {
    "duration": 1977,
    "start_time": "2023-04-06T15:10:32.212Z"
   },
   {
    "duration": 4,
    "start_time": "2023-04-06T15:10:34.191Z"
   },
   {
    "duration": 43,
    "start_time": "2023-04-06T15:10:34.197Z"
   },
   {
    "duration": 1139,
    "start_time": "2023-04-06T15:10:34.242Z"
   },
   {
    "duration": 34,
    "start_time": "2023-04-06T15:10:35.387Z"
   },
   {
    "duration": 356,
    "start_time": "2023-04-06T15:10:35.428Z"
   },
   {
    "duration": 143,
    "start_time": "2023-04-06T15:10:35.791Z"
   },
   {
    "duration": 12,
    "start_time": "2023-04-06T15:10:35.939Z"
   },
   {
    "duration": 257,
    "start_time": "2023-04-06T15:10:35.953Z"
   },
   {
    "duration": 227,
    "start_time": "2023-04-06T15:10:36.213Z"
   },
   {
    "duration": 260,
    "start_time": "2023-04-06T15:10:36.444Z"
   },
   {
    "duration": 116,
    "start_time": "2023-04-06T15:10:36.707Z"
   },
   {
    "duration": 165,
    "start_time": "2023-04-06T15:10:36.824Z"
   },
   {
    "duration": 109,
    "start_time": "2023-04-06T15:10:36.992Z"
   },
   {
    "duration": 135,
    "start_time": "2023-04-06T15:10:37.103Z"
   },
   {
    "duration": 125,
    "start_time": "2023-04-06T15:10:37.240Z"
   },
   {
    "duration": 28,
    "start_time": "2023-04-06T15:10:37.367Z"
   },
   {
    "duration": 580,
    "start_time": "2023-04-06T15:10:37.397Z"
   },
   {
    "duration": 10,
    "start_time": "2023-04-06T15:10:37.979Z"
   },
   {
    "duration": 106,
    "start_time": "2023-04-06T15:10:37.990Z"
   },
   {
    "duration": 44,
    "start_time": "2023-04-06T15:10:38.098Z"
   },
   {
    "duration": 28,
    "start_time": "2023-04-06T15:10:38.144Z"
   },
   {
    "duration": 394,
    "start_time": "2023-04-06T15:10:38.175Z"
   },
   {
    "duration": 272,
    "start_time": "2023-04-06T15:10:38.572Z"
   },
   {
    "duration": 18,
    "start_time": "2023-04-06T15:10:38.849Z"
   },
   {
    "duration": 35,
    "start_time": "2023-04-06T15:10:38.871Z"
   },
   {
    "duration": 125,
    "start_time": "2023-04-06T15:10:38.908Z"
   },
   {
    "duration": 42,
    "start_time": "2023-04-06T15:10:39.035Z"
   },
   {
    "duration": 143,
    "start_time": "2023-04-06T15:10:39.080Z"
   },
   {
    "duration": 5,
    "start_time": "2023-04-06T15:10:39.225Z"
   },
   {
    "duration": 57,
    "start_time": "2023-04-06T15:10:39.231Z"
   },
   {
    "duration": 112,
    "start_time": "2023-04-06T15:10:39.290Z"
   },
   {
    "duration": 598,
    "start_time": "2023-04-06T15:10:39.404Z"
   },
   {
    "duration": 15,
    "start_time": "2023-04-06T15:10:40.004Z"
   },
   {
    "duration": 38,
    "start_time": "2023-04-06T15:10:40.021Z"
   },
   {
    "duration": 27,
    "start_time": "2023-04-06T15:10:40.062Z"
   },
   {
    "duration": 107,
    "start_time": "2023-04-06T15:10:40.091Z"
   },
   {
    "duration": 27,
    "start_time": "2023-04-06T15:10:40.200Z"
   },
   {
    "duration": 26,
    "start_time": "2023-04-06T15:10:40.231Z"
   },
   {
    "duration": 10,
    "start_time": "2023-04-06T15:10:40.259Z"
   },
   {
    "duration": 12,
    "start_time": "2023-04-06T15:10:54.146Z"
   },
   {
    "duration": 12354,
    "start_time": "2023-04-06T15:26:59.251Z"
   },
   {
    "duration": 6,
    "start_time": "2023-04-06T15:27:40.837Z"
   },
   {
    "duration": 4,
    "start_time": "2023-04-06T15:28:16.068Z"
   },
   {
    "duration": 10510,
    "start_time": "2023-04-06T15:28:22.039Z"
   },
   {
    "duration": 130,
    "start_time": "2023-04-06T15:35:35.853Z"
   },
   {
    "duration": 5,
    "start_time": "2023-04-06T15:35:59.560Z"
   },
   {
    "duration": 53358,
    "start_time": "2023-04-06T15:36:03.443Z"
   },
   {
    "duration": 57481,
    "start_time": "2023-04-06T15:37:23.660Z"
   },
   {
    "duration": 4,
    "start_time": "2023-04-06T15:44:12.430Z"
   },
   {
    "duration": 4,
    "start_time": "2023-04-06T15:44:26.646Z"
   },
   {
    "duration": 2492821,
    "start_time": "2023-04-06T15:44:41.545Z"
   },
   {
    "duration": 4,
    "start_time": "2023-04-06T16:29:27.730Z"
   },
   {
    "duration": 27,
    "start_time": "2023-04-06T16:29:37.815Z"
   },
   {
    "duration": 3,
    "start_time": "2023-04-06T16:30:29.287Z"
   },
   {
    "duration": 122,
    "start_time": "2023-04-06T16:31:19.076Z"
   },
   {
    "duration": 12,
    "start_time": "2023-04-06T16:32:05.104Z"
   },
   {
    "duration": 4,
    "start_time": "2023-04-06T16:32:12.713Z"
   },
   {
    "duration": 110,
    "start_time": "2023-04-06T16:34:48.657Z"
   },
   {
    "duration": 4,
    "start_time": "2023-04-06T16:34:51.767Z"
   },
   {
    "duration": 142,
    "start_time": "2023-04-06T16:34:52.945Z"
   },
   {
    "duration": 232497,
    "start_time": "2023-04-06T16:35:24.607Z"
   },
   {
    "duration": 776,
    "start_time": "2023-04-06T16:50:34.019Z"
   },
   {
    "duration": 13,
    "start_time": "2023-04-06T16:50:47.620Z"
   },
   {
    "duration": 11,
    "start_time": "2023-04-06T16:51:57.389Z"
   },
   {
    "duration": 4,
    "start_time": "2023-04-06T16:52:04.157Z"
   },
   {
    "duration": 6,
    "start_time": "2023-04-06T16:52:07.971Z"
   },
   {
    "duration": 4,
    "start_time": "2023-04-06T16:52:15.365Z"
   },
   {
    "duration": 55,
    "start_time": "2023-04-06T16:53:22.404Z"
   },
   {
    "duration": 3,
    "start_time": "2023-04-06T16:53:35.973Z"
   },
   {
    "duration": 13,
    "start_time": "2023-04-06T16:53:41.748Z"
   },
   {
    "duration": 13209,
    "start_time": "2023-04-06T16:53:59.637Z"
   },
   {
    "duration": 299,
    "start_time": "2023-04-06T16:57:31.490Z"
   },
   {
    "duration": 5,
    "start_time": "2023-04-06T16:57:43.263Z"
   },
   {
    "duration": 4,
    "start_time": "2023-04-06T16:58:10.247Z"
   },
   {
    "duration": 387364,
    "start_time": "2023-04-06T16:58:52.188Z"
   },
   {
    "duration": 5,
    "start_time": "2023-04-06T17:07:39.355Z"
   },
   {
    "duration": 17,
    "start_time": "2023-04-06T17:07:46.034Z"
   },
   {
    "duration": 2,
    "start_time": "2023-04-06T17:08:20.491Z"
   },
   {
    "duration": 43911,
    "start_time": "2023-04-06T17:08:33.440Z"
   },
   {
    "duration": 939,
    "start_time": "2023-04-06T17:21:07.475Z"
   },
   {
    "duration": 187502,
    "start_time": "2023-04-06T17:24:14.251Z"
   },
   {
    "duration": 3,
    "start_time": "2023-04-06T17:28:56.543Z"
   },
   {
    "duration": 3,
    "start_time": "2023-04-06T17:31:27.973Z"
   },
   {
    "duration": 4,
    "start_time": "2023-04-06T17:31:37.185Z"
   },
   {
    "duration": 10895,
    "start_time": "2023-04-06T17:31:49.845Z"
   },
   {
    "duration": 4,
    "start_time": "2023-04-06T17:38:08.566Z"
   },
   {
    "duration": 245,
    "start_time": "2023-04-06T17:39:29.444Z"
   },
   {
    "duration": 262,
    "start_time": "2023-04-06T17:39:54.494Z"
   },
   {
    "duration": 8,
    "start_time": "2023-04-06T17:40:16.156Z"
   },
   {
    "duration": 339013,
    "start_time": "2023-04-06T17:40:27.816Z"
   },
   {
    "duration": 8,
    "start_time": "2023-04-06T17:48:27.045Z"
   },
   {
    "duration": 225,
    "start_time": "2023-04-06T17:48:43.189Z"
   },
   {
    "duration": 6,
    "start_time": "2023-04-06T17:49:25.195Z"
   },
   {
    "duration": 7,
    "start_time": "2023-04-06T17:49:32.945Z"
   },
   {
    "duration": 452293,
    "start_time": "2023-04-06T17:49:36.362Z"
   },
   {
    "duration": 8,
    "start_time": "2023-04-06T18:01:00.756Z"
   },
   {
    "duration": 208,
    "start_time": "2023-04-06T18:01:02.558Z"
   },
   {
    "duration": 675,
    "start_time": "2023-04-06T18:01:04.852Z"
   },
   {
    "duration": 15,
    "start_time": "2023-04-06T18:01:07.016Z"
   },
   {
    "duration": 731,
    "start_time": "2023-04-06T18:58:31.302Z"
   },
   {
    "duration": 630602,
    "start_time": "2023-04-06T18:59:55.117Z"
   },
   {
    "duration": 299637,
    "start_time": "2023-04-06T19:18:41.595Z"
   },
   {
    "duration": 28900,
    "start_time": "2023-04-06T19:28:48.631Z"
   },
   {
    "duration": 568,
    "start_time": "2023-04-06T19:44:49.961Z"
   },
   {
    "duration": 632,
    "start_time": "2023-04-06T19:46:15.210Z"
   },
   {
    "duration": 574,
    "start_time": "2023-04-06T19:46:19.458Z"
   },
   {
    "duration": 586,
    "start_time": "2023-04-06T19:46:20.746Z"
   },
   {
    "duration": 605,
    "start_time": "2023-04-06T19:46:22.019Z"
   },
   {
    "duration": 622,
    "start_time": "2023-04-06T19:46:23.218Z"
   },
   {
    "duration": 620,
    "start_time": "2023-04-06T19:46:24.419Z"
   },
   {
    "duration": 545,
    "start_time": "2023-04-06T19:46:25.491Z"
   },
   {
    "duration": 1508,
    "start_time": "2023-04-06T19:46:44.936Z"
   },
   {
    "duration": 3,
    "start_time": "2023-04-06T19:46:46.446Z"
   },
   {
    "duration": 92,
    "start_time": "2023-04-06T19:46:46.451Z"
   },
   {
    "duration": 971,
    "start_time": "2023-04-06T19:46:46.545Z"
   },
   {
    "duration": 21,
    "start_time": "2023-04-06T19:46:47.520Z"
   },
   {
    "duration": 153,
    "start_time": "2023-04-06T19:46:47.542Z"
   },
   {
    "duration": 153,
    "start_time": "2023-04-06T19:46:47.696Z"
   },
   {
    "duration": 5,
    "start_time": "2023-04-06T19:46:47.851Z"
   },
   {
    "duration": 204,
    "start_time": "2023-04-06T19:46:47.857Z"
   },
   {
    "duration": 198,
    "start_time": "2023-04-06T19:46:48.064Z"
   },
   {
    "duration": 270,
    "start_time": "2023-04-06T19:46:48.264Z"
   },
   {
    "duration": 98,
    "start_time": "2023-04-06T19:46:48.536Z"
   },
   {
    "duration": 101,
    "start_time": "2023-04-06T19:46:48.636Z"
   },
   {
    "duration": 92,
    "start_time": "2023-04-06T19:46:48.739Z"
   },
   {
    "duration": 99,
    "start_time": "2023-04-06T19:46:48.833Z"
   },
   {
    "duration": 67,
    "start_time": "2023-04-06T19:46:48.933Z"
   },
   {
    "duration": 42,
    "start_time": "2023-04-06T19:46:49.002Z"
   },
   {
    "duration": 457,
    "start_time": "2023-04-06T19:46:49.047Z"
   },
   {
    "duration": 18,
    "start_time": "2023-04-06T19:46:49.506Z"
   },
   {
    "duration": 29,
    "start_time": "2023-04-06T19:46:49.529Z"
   },
   {
    "duration": 23,
    "start_time": "2023-04-06T19:46:49.560Z"
   },
   {
    "duration": 3,
    "start_time": "2023-04-06T19:46:49.585Z"
   },
   {
    "duration": 259,
    "start_time": "2023-04-06T19:46:49.589Z"
   },
   {
    "duration": 308,
    "start_time": "2023-04-06T19:46:49.850Z"
   },
   {
    "duration": 8,
    "start_time": "2023-04-06T19:46:50.160Z"
   },
   {
    "duration": 30,
    "start_time": "2023-04-06T19:46:50.170Z"
   },
   {
    "duration": 92,
    "start_time": "2023-04-06T19:46:50.202Z"
   },
   {
    "duration": 4,
    "start_time": "2023-04-06T19:46:50.298Z"
   },
   {
    "duration": 131,
    "start_time": "2023-04-06T19:46:50.304Z"
   },
   {
    "duration": 5,
    "start_time": "2023-04-06T19:46:50.436Z"
   },
   {
    "duration": 9,
    "start_time": "2023-04-06T19:46:50.443Z"
   },
   {
    "duration": 85,
    "start_time": "2023-04-06T19:46:50.454Z"
   },
   {
    "duration": 469,
    "start_time": "2023-04-06T19:46:50.541Z"
   },
   {
    "duration": 17,
    "start_time": "2023-04-06T19:46:51.012Z"
   },
   {
    "duration": 26,
    "start_time": "2023-04-06T19:46:51.031Z"
   },
   {
    "duration": 12,
    "start_time": "2023-04-06T19:46:51.058Z"
   },
   {
    "duration": 102,
    "start_time": "2023-04-06T19:46:51.072Z"
   },
   {
    "duration": 22,
    "start_time": "2023-04-06T19:46:51.176Z"
   },
   {
    "duration": 29,
    "start_time": "2023-04-06T19:46:51.200Z"
   },
   {
    "duration": 16,
    "start_time": "2023-04-06T19:46:51.230Z"
   },
   {
    "duration": 20,
    "start_time": "2023-04-06T19:46:51.248Z"
   },
   {
    "duration": 9905,
    "start_time": "2023-04-06T19:46:51.270Z"
   },
   {
    "duration": 39394,
    "start_time": "2023-04-06T19:47:01.177Z"
   },
   {
    "duration": 4,
    "start_time": "2023-04-06T19:47:40.573Z"
   },
   {
    "duration": 18,
    "start_time": "2023-04-06T19:47:40.579Z"
   },
   {
    "duration": 2086133,
    "start_time": "2023-04-06T19:47:40.598Z"
   },
   {
    "duration": 4,
    "start_time": "2023-04-06T20:22:26.732Z"
   },
   {
    "duration": 28,
    "start_time": "2023-04-06T20:22:26.738Z"
   },
   {
    "duration": 17,
    "start_time": "2023-04-06T20:22:26.767Z"
   },
   {
    "duration": 220621,
    "start_time": "2023-04-06T20:22:26.786Z"
   },
   {
    "duration": 910,
    "start_time": "2023-04-06T20:26:07.409Z"
   },
   {
    "duration": 7,
    "start_time": "2023-04-06T20:26:08.321Z"
   },
   {
    "duration": 12,
    "start_time": "2023-04-06T20:26:08.330Z"
   },
   {
    "duration": 24,
    "start_time": "2023-04-06T20:26:08.344Z"
   },
   {
    "duration": 35,
    "start_time": "2023-04-06T20:26:08.370Z"
   },
   {
    "duration": 12910,
    "start_time": "2023-04-06T20:26:08.407Z"
   },
   {
    "duration": 290,
    "start_time": "2023-04-06T20:26:21.319Z"
   },
   {
    "duration": 14,
    "start_time": "2023-04-06T20:26:21.611Z"
   },
   {
    "duration": 20,
    "start_time": "2023-04-06T20:26:21.632Z"
   },
   {
    "duration": 357606,
    "start_time": "2023-04-06T20:26:21.653Z"
   },
   {
    "duration": 4,
    "start_time": "2023-04-06T20:32:19.261Z"
   },
   {
    "duration": 59,
    "start_time": "2023-04-06T20:32:19.266Z"
   },
   {
    "duration": 21,
    "start_time": "2023-04-06T20:32:19.328Z"
   },
   {
    "duration": 41095,
    "start_time": "2023-04-06T20:32:19.351Z"
   },
   {
    "duration": 803,
    "start_time": "2023-04-06T20:33:00.448Z"
   },
   {
    "duration": 165321,
    "start_time": "2023-04-06T20:33:01.253Z"
   },
   {
    "duration": 4,
    "start_time": "2023-04-06T20:35:46.576Z"
   },
   {
    "duration": 27,
    "start_time": "2023-04-06T20:35:46.582Z"
   },
   {
    "duration": 40731,
    "start_time": "2023-04-06T20:35:46.611Z"
   },
   {
    "duration": 310307,
    "start_time": "2023-04-06T20:36:27.347Z"
   },
   {
    "duration": 607096,
    "start_time": "2023-04-06T20:41:37.659Z"
   },
   {
    "duration": 681,
    "start_time": "2023-04-06T20:51:44.757Z"
   },
   {
    "duration": 101,
    "start_time": "2023-04-06T21:04:21.519Z"
   },
   {
    "duration": 47,
    "start_time": "2023-04-06T21:04:24.072Z"
   },
   {
    "duration": 27,
    "start_time": "2023-04-06T21:04:25.007Z"
   },
   {
    "duration": 30,
    "start_time": "2023-04-06T21:04:25.489Z"
   },
   {
    "duration": 28,
    "start_time": "2023-04-06T21:04:26.393Z"
   },
   {
    "duration": 28,
    "start_time": "2023-04-06T21:04:27.290Z"
   },
   {
    "duration": 61,
    "start_time": "2023-04-06T21:04:27.759Z"
   },
   {
    "duration": 64,
    "start_time": "2023-04-06T21:04:28.454Z"
   },
   {
    "duration": 29,
    "start_time": "2023-04-06T21:04:29.290Z"
   },
   {
    "duration": 64,
    "start_time": "2023-04-06T21:04:37.855Z"
   },
   {
    "duration": 2249,
    "start_time": "2023-04-08T15:24:08.915Z"
   },
   {
    "duration": 3,
    "start_time": "2023-04-08T15:24:11.166Z"
   },
   {
    "duration": 63,
    "start_time": "2023-04-08T15:24:12.166Z"
   },
   {
    "duration": 2804,
    "start_time": "2023-04-08T15:24:14.351Z"
   },
   {
    "duration": 22,
    "start_time": "2023-04-08T15:24:17.156Z"
   },
   {
    "duration": 2287,
    "start_time": "2023-04-08T15:32:39.842Z"
   },
   {
    "duration": 3,
    "start_time": "2023-04-08T15:32:42.131Z"
   },
   {
    "duration": 87,
    "start_time": "2023-04-08T15:32:42.136Z"
   },
   {
    "duration": 829,
    "start_time": "2023-04-08T15:32:42.225Z"
   },
   {
    "duration": 19,
    "start_time": "2023-04-08T15:32:43.748Z"
   },
   {
    "duration": 147,
    "start_time": "2023-04-08T15:32:43.949Z"
   },
   {
    "duration": 88,
    "start_time": "2023-04-08T15:32:44.120Z"
   },
   {
    "duration": 4,
    "start_time": "2023-04-08T15:32:44.449Z"
   },
   {
    "duration": 148,
    "start_time": "2023-04-08T15:32:44.743Z"
   },
   {
    "duration": 208,
    "start_time": "2023-04-08T15:32:45.056Z"
   },
   {
    "duration": 197,
    "start_time": "2023-04-08T15:32:45.266Z"
   },
   {
    "duration": 83,
    "start_time": "2023-04-08T15:32:45.465Z"
   },
   {
    "duration": 88,
    "start_time": "2023-04-08T15:32:45.550Z"
   },
   {
    "duration": 74,
    "start_time": "2023-04-08T15:32:46.084Z"
   },
   {
    "duration": 81,
    "start_time": "2023-04-08T15:32:46.359Z"
   },
   {
    "duration": 65,
    "start_time": "2023-04-08T15:32:46.814Z"
   },
   {
    "duration": 22,
    "start_time": "2023-04-08T15:32:47.145Z"
   },
   {
    "duration": 428,
    "start_time": "2023-04-08T15:32:47.731Z"
   },
   {
    "duration": 8,
    "start_time": "2023-04-08T15:32:48.161Z"
   },
   {
    "duration": 23,
    "start_time": "2023-04-08T15:32:48.256Z"
   },
   {
    "duration": 28,
    "start_time": "2023-04-08T15:32:48.646Z"
   },
   {
    "duration": 4,
    "start_time": "2023-04-08T15:32:49.016Z"
   },
   {
    "duration": 210,
    "start_time": "2023-04-08T15:32:49.211Z"
   },
   {
    "duration": 236,
    "start_time": "2023-04-08T15:32:49.681Z"
   },
   {
    "duration": 11,
    "start_time": "2023-04-08T15:32:49.983Z"
   },
   {
    "duration": 22,
    "start_time": "2023-04-08T15:32:50.526Z"
   },
   {
    "duration": 74,
    "start_time": "2023-04-08T15:32:50.756Z"
   },
   {
    "duration": 53,
    "start_time": "2023-04-08T15:32:51.741Z"
   },
   {
    "duration": 1660,
    "start_time": "2023-04-09T08:05:21.282Z"
   },
   {
    "duration": 3,
    "start_time": "2023-04-09T08:05:22.944Z"
   },
   {
    "duration": 77,
    "start_time": "2023-04-09T08:05:22.949Z"
   },
   {
    "duration": 1148,
    "start_time": "2023-04-09T08:05:23.028Z"
   },
   {
    "duration": 19,
    "start_time": "2023-04-09T08:05:24.178Z"
   },
   {
    "duration": 124,
    "start_time": "2023-04-09T08:05:24.199Z"
   },
   {
    "duration": 146,
    "start_time": "2023-04-09T08:05:24.325Z"
   },
   {
    "duration": 5,
    "start_time": "2023-04-09T08:05:24.473Z"
   },
   {
    "duration": 177,
    "start_time": "2023-04-09T08:05:24.479Z"
   },
   {
    "duration": 176,
    "start_time": "2023-04-09T08:05:24.658Z"
   },
   {
    "duration": 187,
    "start_time": "2023-04-09T08:05:24.836Z"
   },
   {
    "duration": 69,
    "start_time": "2023-04-09T08:05:25.025Z"
   },
   {
    "duration": 77,
    "start_time": "2023-04-09T08:05:25.096Z"
   },
   {
    "duration": 67,
    "start_time": "2023-04-09T08:05:25.177Z"
   },
   {
    "duration": 84,
    "start_time": "2023-04-09T08:05:25.246Z"
   },
   {
    "duration": 54,
    "start_time": "2023-04-09T08:05:25.332Z"
   },
   {
    "duration": 44,
    "start_time": "2023-04-09T08:05:25.389Z"
   },
   {
    "duration": 410,
    "start_time": "2023-04-09T08:05:25.435Z"
   },
   {
    "duration": 8,
    "start_time": "2023-04-09T08:05:25.848Z"
   },
   {
    "duration": 20,
    "start_time": "2023-04-09T08:05:25.859Z"
   },
   {
    "duration": 47,
    "start_time": "2023-04-09T08:05:25.881Z"
   },
   {
    "duration": 4,
    "start_time": "2023-04-09T08:05:25.929Z"
   },
   {
    "duration": 254,
    "start_time": "2023-04-09T08:05:25.934Z"
   },
   {
    "duration": 283,
    "start_time": "2023-04-09T08:05:26.191Z"
   },
   {
    "duration": 9,
    "start_time": "2023-04-09T08:05:26.477Z"
   },
   {
    "duration": 39,
    "start_time": "2023-04-09T08:05:26.488Z"
   },
   {
    "duration": 896,
    "start_time": "2023-04-09T08:05:26.529Z"
   },
   {
    "duration": 0,
    "start_time": "2023-04-09T08:05:27.429Z"
   },
   {
    "duration": 0,
    "start_time": "2023-04-09T08:05:27.431Z"
   },
   {
    "duration": 0,
    "start_time": "2023-04-09T08:05:27.432Z"
   },
   {
    "duration": 0,
    "start_time": "2023-04-09T08:05:27.433Z"
   },
   {
    "duration": 0,
    "start_time": "2023-04-09T08:05:27.434Z"
   },
   {
    "duration": 0,
    "start_time": "2023-04-09T08:05:27.435Z"
   },
   {
    "duration": 0,
    "start_time": "2023-04-09T08:05:27.437Z"
   },
   {
    "duration": 0,
    "start_time": "2023-04-09T08:05:27.439Z"
   },
   {
    "duration": 0,
    "start_time": "2023-04-09T08:05:27.440Z"
   },
   {
    "duration": 0,
    "start_time": "2023-04-09T08:05:27.441Z"
   },
   {
    "duration": 0,
    "start_time": "2023-04-09T08:05:27.443Z"
   },
   {
    "duration": 0,
    "start_time": "2023-04-09T08:05:27.444Z"
   },
   {
    "duration": 0,
    "start_time": "2023-04-09T08:05:27.446Z"
   },
   {
    "duration": 0,
    "start_time": "2023-04-09T08:05:27.447Z"
   },
   {
    "duration": 0,
    "start_time": "2023-04-09T08:05:27.449Z"
   },
   {
    "duration": 0,
    "start_time": "2023-04-09T08:05:27.450Z"
   },
   {
    "duration": 0,
    "start_time": "2023-04-09T08:05:27.451Z"
   },
   {
    "duration": 0,
    "start_time": "2023-04-09T08:05:27.453Z"
   },
   {
    "duration": 0,
    "start_time": "2023-04-09T08:05:27.454Z"
   },
   {
    "duration": 0,
    "start_time": "2023-04-09T08:05:27.456Z"
   },
   {
    "duration": 0,
    "start_time": "2023-04-09T08:05:27.458Z"
   },
   {
    "duration": 0,
    "start_time": "2023-04-09T08:05:27.459Z"
   },
   {
    "duration": 0,
    "start_time": "2023-04-09T08:05:27.460Z"
   },
   {
    "duration": 0,
    "start_time": "2023-04-09T08:05:27.462Z"
   },
   {
    "duration": 0,
    "start_time": "2023-04-09T08:05:27.463Z"
   },
   {
    "duration": 0,
    "start_time": "2023-04-09T08:05:27.465Z"
   },
   {
    "duration": 0,
    "start_time": "2023-04-09T08:05:27.466Z"
   },
   {
    "duration": 0,
    "start_time": "2023-04-09T08:05:27.524Z"
   },
   {
    "duration": 0,
    "start_time": "2023-04-09T08:05:27.526Z"
   },
   {
    "duration": 0,
    "start_time": "2023-04-09T08:05:27.527Z"
   },
   {
    "duration": 0,
    "start_time": "2023-04-09T08:05:27.529Z"
   },
   {
    "duration": 0,
    "start_time": "2023-04-09T08:05:27.531Z"
   },
   {
    "duration": 0,
    "start_time": "2023-04-09T08:05:27.532Z"
   },
   {
    "duration": 0,
    "start_time": "2023-04-09T08:05:27.534Z"
   },
   {
    "duration": 0,
    "start_time": "2023-04-09T08:05:27.535Z"
   },
   {
    "duration": 0,
    "start_time": "2023-04-09T08:05:27.537Z"
   },
   {
    "duration": 0,
    "start_time": "2023-04-09T08:05:27.538Z"
   },
   {
    "duration": 0,
    "start_time": "2023-04-09T08:05:27.540Z"
   },
   {
    "duration": 0,
    "start_time": "2023-04-09T08:05:27.542Z"
   },
   {
    "duration": 0,
    "start_time": "2023-04-09T08:05:27.543Z"
   },
   {
    "duration": 0,
    "start_time": "2023-04-09T08:05:27.544Z"
   },
   {
    "duration": 0,
    "start_time": "2023-04-09T08:05:27.546Z"
   },
   {
    "duration": 0,
    "start_time": "2023-04-09T08:05:27.548Z"
   },
   {
    "duration": 0,
    "start_time": "2023-04-09T08:05:27.550Z"
   },
   {
    "duration": 0,
    "start_time": "2023-04-09T08:05:27.551Z"
   },
   {
    "duration": 0,
    "start_time": "2023-04-09T08:05:27.553Z"
   },
   {
    "duration": 0,
    "start_time": "2023-04-09T08:05:27.554Z"
   },
   {
    "duration": 0,
    "start_time": "2023-04-09T08:05:27.556Z"
   },
   {
    "duration": 1403,
    "start_time": "2023-04-09T08:06:50.941Z"
   },
   {
    "duration": 3,
    "start_time": "2023-04-09T08:06:52.347Z"
   },
   {
    "duration": 80,
    "start_time": "2023-04-09T08:06:52.352Z"
   },
   {
    "duration": 920,
    "start_time": "2023-04-09T08:06:52.435Z"
   },
   {
    "duration": 19,
    "start_time": "2023-04-09T08:06:53.358Z"
   },
   {
    "duration": 126,
    "start_time": "2023-04-09T08:06:53.379Z"
   },
   {
    "duration": 152,
    "start_time": "2023-04-09T08:06:53.507Z"
   },
   {
    "duration": 6,
    "start_time": "2023-04-09T08:06:53.660Z"
   },
   {
    "duration": 190,
    "start_time": "2023-04-09T08:06:53.668Z"
   },
   {
    "duration": 175,
    "start_time": "2023-04-09T08:06:53.860Z"
   },
   {
    "duration": 187,
    "start_time": "2023-04-09T08:06:54.037Z"
   },
   {
    "duration": 65,
    "start_time": "2023-04-09T08:06:54.226Z"
   },
   {
    "duration": 79,
    "start_time": "2023-04-09T08:06:54.293Z"
   },
   {
    "duration": 67,
    "start_time": "2023-04-09T08:06:54.375Z"
   },
   {
    "duration": 83,
    "start_time": "2023-04-09T08:06:54.443Z"
   },
   {
    "duration": 52,
    "start_time": "2023-04-09T08:06:54.527Z"
   },
   {
    "duration": 42,
    "start_time": "2023-04-09T08:06:54.581Z"
   },
   {
    "duration": 408,
    "start_time": "2023-04-09T08:06:54.626Z"
   },
   {
    "duration": 9,
    "start_time": "2023-04-09T08:06:55.036Z"
   },
   {
    "duration": 29,
    "start_time": "2023-04-09T08:06:55.047Z"
   },
   {
    "duration": 29,
    "start_time": "2023-04-09T08:06:55.078Z"
   },
   {
    "duration": 15,
    "start_time": "2023-04-09T08:06:55.109Z"
   },
   {
    "duration": 264,
    "start_time": "2023-04-09T08:06:55.126Z"
   },
   {
    "duration": 281,
    "start_time": "2023-04-09T08:06:55.392Z"
   },
   {
    "duration": 9,
    "start_time": "2023-04-09T08:06:55.675Z"
   },
   {
    "duration": 40,
    "start_time": "2023-04-09T08:06:55.686Z"
   },
   {
    "duration": 19,
    "start_time": "2023-04-09T08:06:55.728Z"
   },
   {
    "duration": 76,
    "start_time": "2023-04-09T08:06:55.750Z"
   },
   {
    "duration": 51,
    "start_time": "2023-04-09T08:06:55.828Z"
   },
   {
    "duration": 4,
    "start_time": "2023-04-09T08:06:55.881Z"
   },
   {
    "duration": 114,
    "start_time": "2023-04-09T08:06:55.887Z"
   },
   {
    "duration": 5,
    "start_time": "2023-04-09T08:06:56.003Z"
   },
   {
    "duration": 13,
    "start_time": "2023-04-09T08:06:56.010Z"
   },
   {
    "duration": 59,
    "start_time": "2023-04-09T08:06:56.025Z"
   },
   {
    "duration": 401,
    "start_time": "2023-04-09T08:06:56.086Z"
   },
   {
    "duration": 8,
    "start_time": "2023-04-09T08:06:56.490Z"
   },
   {
    "duration": 138,
    "start_time": "2023-04-09T08:06:56.500Z"
   },
   {
    "duration": 0,
    "start_time": "2023-04-09T08:06:56.641Z"
   },
   {
    "duration": 0,
    "start_time": "2023-04-09T08:06:56.644Z"
   },
   {
    "duration": 0,
    "start_time": "2023-04-09T08:06:56.646Z"
   },
   {
    "duration": 0,
    "start_time": "2023-04-09T08:06:56.648Z"
   },
   {
    "duration": 0,
    "start_time": "2023-04-09T08:06:56.649Z"
   },
   {
    "duration": 0,
    "start_time": "2023-04-09T08:06:56.651Z"
   },
   {
    "duration": 0,
    "start_time": "2023-04-09T08:06:56.652Z"
   },
   {
    "duration": 0,
    "start_time": "2023-04-09T08:06:56.654Z"
   },
   {
    "duration": 0,
    "start_time": "2023-04-09T08:06:56.656Z"
   },
   {
    "duration": 0,
    "start_time": "2023-04-09T08:06:56.657Z"
   },
   {
    "duration": 0,
    "start_time": "2023-04-09T08:06:56.659Z"
   },
   {
    "duration": 0,
    "start_time": "2023-04-09T08:06:56.661Z"
   },
   {
    "duration": 0,
    "start_time": "2023-04-09T08:06:56.663Z"
   },
   {
    "duration": 0,
    "start_time": "2023-04-09T08:06:56.664Z"
   },
   {
    "duration": 0,
    "start_time": "2023-04-09T08:06:56.666Z"
   },
   {
    "duration": 0,
    "start_time": "2023-04-09T08:06:56.668Z"
   },
   {
    "duration": 0,
    "start_time": "2023-04-09T08:06:56.669Z"
   },
   {
    "duration": 0,
    "start_time": "2023-04-09T08:06:56.723Z"
   },
   {
    "duration": 0,
    "start_time": "2023-04-09T08:06:56.726Z"
   },
   {
    "duration": 0,
    "start_time": "2023-04-09T08:06:56.727Z"
   },
   {
    "duration": 0,
    "start_time": "2023-04-09T08:06:56.728Z"
   },
   {
    "duration": 0,
    "start_time": "2023-04-09T08:06:56.730Z"
   },
   {
    "duration": 0,
    "start_time": "2023-04-09T08:06:56.731Z"
   },
   {
    "duration": 0,
    "start_time": "2023-04-09T08:06:56.732Z"
   },
   {
    "duration": 0,
    "start_time": "2023-04-09T08:06:56.733Z"
   },
   {
    "duration": 0,
    "start_time": "2023-04-09T08:06:56.734Z"
   },
   {
    "duration": 0,
    "start_time": "2023-04-09T08:06:56.738Z"
   },
   {
    "duration": 0,
    "start_time": "2023-04-09T08:06:56.739Z"
   },
   {
    "duration": 0,
    "start_time": "2023-04-09T08:06:56.740Z"
   },
   {
    "duration": 0,
    "start_time": "2023-04-09T08:06:56.742Z"
   },
   {
    "duration": 0,
    "start_time": "2023-04-09T08:06:56.743Z"
   },
   {
    "duration": 0,
    "start_time": "2023-04-09T08:06:56.745Z"
   },
   {
    "duration": 0,
    "start_time": "2023-04-09T08:06:56.747Z"
   },
   {
    "duration": 0,
    "start_time": "2023-04-09T08:06:56.748Z"
   },
   {
    "duration": 0,
    "start_time": "2023-04-09T08:06:56.754Z"
   },
   {
    "duration": 0,
    "start_time": "2023-04-09T08:06:56.757Z"
   },
   {
    "duration": 0,
    "start_time": "2023-04-09T08:06:56.758Z"
   },
   {
    "duration": 0,
    "start_time": "2023-04-09T08:06:56.759Z"
   },
   {
    "duration": 15,
    "start_time": "2023-04-09T08:13:49.350Z"
   },
   {
    "duration": 13,
    "start_time": "2023-04-09T08:13:55.952Z"
   },
   {
    "duration": 20,
    "start_time": "2023-04-09T08:14:14.748Z"
   },
   {
    "duration": 45,
    "start_time": "2023-04-09T08:14:23.746Z"
   },
   {
    "duration": 1607,
    "start_time": "2023-04-09T08:14:38.762Z"
   },
   {
    "duration": 3,
    "start_time": "2023-04-09T08:14:40.372Z"
   },
   {
    "duration": 131,
    "start_time": "2023-04-09T08:14:40.377Z"
   },
   {
    "duration": 935,
    "start_time": "2023-04-09T08:14:40.512Z"
   },
   {
    "duration": 19,
    "start_time": "2023-04-09T08:14:41.449Z"
   },
   {
    "duration": 135,
    "start_time": "2023-04-09T08:14:41.470Z"
   },
   {
    "duration": 131,
    "start_time": "2023-04-09T08:14:41.607Z"
   },
   {
    "duration": 9,
    "start_time": "2023-04-09T08:14:41.741Z"
   },
   {
    "duration": 180,
    "start_time": "2023-04-09T08:14:41.753Z"
   },
   {
    "duration": 212,
    "start_time": "2023-04-09T08:14:41.938Z"
   },
   {
    "duration": 208,
    "start_time": "2023-04-09T08:14:42.153Z"
   },
   {
    "duration": 73,
    "start_time": "2023-04-09T08:14:42.362Z"
   },
   {
    "duration": 92,
    "start_time": "2023-04-09T08:14:42.439Z"
   },
   {
    "duration": 70,
    "start_time": "2023-04-09T08:14:42.539Z"
   },
   {
    "duration": 86,
    "start_time": "2023-04-09T08:14:42.611Z"
   },
   {
    "duration": 78,
    "start_time": "2023-04-09T08:14:42.699Z"
   },
   {
    "duration": 22,
    "start_time": "2023-04-09T08:14:42.778Z"
   },
   {
    "duration": 495,
    "start_time": "2023-04-09T08:14:42.801Z"
   },
   {
    "duration": 8,
    "start_time": "2023-04-09T08:14:43.297Z"
   },
   {
    "duration": 23,
    "start_time": "2023-04-09T08:14:43.307Z"
   },
   {
    "duration": 29,
    "start_time": "2023-04-09T08:14:43.339Z"
   },
   {
    "duration": 5,
    "start_time": "2023-04-09T08:14:43.370Z"
   },
   {
    "duration": 256,
    "start_time": "2023-04-09T08:14:43.377Z"
   },
   {
    "duration": 334,
    "start_time": "2023-04-09T08:14:43.640Z"
   },
   {
    "duration": 8,
    "start_time": "2023-04-09T08:14:43.976Z"
   },
   {
    "duration": 22,
    "start_time": "2023-04-09T08:14:43.986Z"
   },
   {
    "duration": 43,
    "start_time": "2023-04-09T08:14:44.009Z"
   },
   {
    "duration": 69,
    "start_time": "2023-04-09T08:14:44.059Z"
   },
   {
    "duration": 57,
    "start_time": "2023-04-09T08:14:44.130Z"
   },
   {
    "duration": 177,
    "start_time": "2023-04-09T08:14:44.189Z"
   },
   {
    "duration": 0,
    "start_time": "2023-04-09T08:14:44.368Z"
   },
   {
    "duration": 0,
    "start_time": "2023-04-09T08:14:44.369Z"
   },
   {
    "duration": 0,
    "start_time": "2023-04-09T08:14:44.370Z"
   },
   {
    "duration": 0,
    "start_time": "2023-04-09T08:14:44.371Z"
   },
   {
    "duration": 0,
    "start_time": "2023-04-09T08:14:44.372Z"
   },
   {
    "duration": 0,
    "start_time": "2023-04-09T08:14:44.373Z"
   },
   {
    "duration": 0,
    "start_time": "2023-04-09T08:14:44.374Z"
   },
   {
    "duration": 0,
    "start_time": "2023-04-09T08:14:44.375Z"
   },
   {
    "duration": 0,
    "start_time": "2023-04-09T08:14:44.376Z"
   },
   {
    "duration": 0,
    "start_time": "2023-04-09T08:14:44.377Z"
   },
   {
    "duration": 0,
    "start_time": "2023-04-09T08:14:44.378Z"
   },
   {
    "duration": 0,
    "start_time": "2023-04-09T08:14:44.379Z"
   },
   {
    "duration": 0,
    "start_time": "2023-04-09T08:14:44.380Z"
   },
   {
    "duration": 0,
    "start_time": "2023-04-09T08:14:44.381Z"
   },
   {
    "duration": 0,
    "start_time": "2023-04-09T08:14:44.382Z"
   },
   {
    "duration": 0,
    "start_time": "2023-04-09T08:14:44.383Z"
   },
   {
    "duration": 0,
    "start_time": "2023-04-09T08:14:44.384Z"
   },
   {
    "duration": 0,
    "start_time": "2023-04-09T08:14:44.385Z"
   },
   {
    "duration": 0,
    "start_time": "2023-04-09T08:14:44.386Z"
   },
   {
    "duration": 0,
    "start_time": "2023-04-09T08:14:44.387Z"
   },
   {
    "duration": 0,
    "start_time": "2023-04-09T08:14:44.389Z"
   },
   {
    "duration": 0,
    "start_time": "2023-04-09T08:14:44.424Z"
   },
   {
    "duration": 0,
    "start_time": "2023-04-09T08:14:44.425Z"
   },
   {
    "duration": 0,
    "start_time": "2023-04-09T08:14:44.431Z"
   },
   {
    "duration": 0,
    "start_time": "2023-04-09T08:14:44.432Z"
   },
   {
    "duration": 0,
    "start_time": "2023-04-09T08:14:44.434Z"
   },
   {
    "duration": 0,
    "start_time": "2023-04-09T08:14:44.435Z"
   },
   {
    "duration": 1,
    "start_time": "2023-04-09T08:14:44.435Z"
   },
   {
    "duration": 0,
    "start_time": "2023-04-09T08:14:44.442Z"
   },
   {
    "duration": 0,
    "start_time": "2023-04-09T08:14:44.443Z"
   },
   {
    "duration": 0,
    "start_time": "2023-04-09T08:14:44.444Z"
   },
   {
    "duration": 0,
    "start_time": "2023-04-09T08:14:44.445Z"
   },
   {
    "duration": 0,
    "start_time": "2023-04-09T08:14:44.446Z"
   },
   {
    "duration": 0,
    "start_time": "2023-04-09T08:14:44.447Z"
   },
   {
    "duration": 0,
    "start_time": "2023-04-09T08:14:44.448Z"
   },
   {
    "duration": 0,
    "start_time": "2023-04-09T08:14:44.454Z"
   },
   {
    "duration": 0,
    "start_time": "2023-04-09T08:14:44.456Z"
   },
   {
    "duration": 0,
    "start_time": "2023-04-09T08:14:44.458Z"
   },
   {
    "duration": 0,
    "start_time": "2023-04-09T08:14:44.459Z"
   },
   {
    "duration": 0,
    "start_time": "2023-04-09T08:14:44.461Z"
   },
   {
    "duration": 0,
    "start_time": "2023-04-09T08:14:44.462Z"
   },
   {
    "duration": 0,
    "start_time": "2023-04-09T08:14:44.463Z"
   },
   {
    "duration": 0,
    "start_time": "2023-04-09T08:14:44.464Z"
   },
   {
    "duration": 0,
    "start_time": "2023-04-09T08:14:44.465Z"
   },
   {
    "duration": 91,
    "start_time": "2023-04-09T08:16:06.303Z"
   },
   {
    "duration": 3,
    "start_time": "2023-04-09T08:16:09.150Z"
   },
   {
    "duration": 3,
    "start_time": "2023-04-09T08:38:13.173Z"
   },
   {
    "duration": 1554,
    "start_time": "2023-04-09T14:23:34.966Z"
   },
   {
    "duration": 3,
    "start_time": "2023-04-09T14:23:36.522Z"
   },
   {
    "duration": 66,
    "start_time": "2023-04-09T14:23:36.526Z"
   },
   {
    "duration": 2684,
    "start_time": "2023-04-09T14:23:36.593Z"
   },
   {
    "duration": 16,
    "start_time": "2023-04-09T14:23:39.280Z"
   },
   {
    "duration": 142,
    "start_time": "2023-04-09T14:23:39.297Z"
   },
   {
    "duration": 105,
    "start_time": "2023-04-09T14:23:39.441Z"
   },
   {
    "duration": 5,
    "start_time": "2023-04-09T14:23:39.548Z"
   },
   {
    "duration": 168,
    "start_time": "2023-04-09T14:23:39.554Z"
   },
   {
    "duration": 199,
    "start_time": "2023-04-09T14:23:39.724Z"
   },
   {
    "duration": 197,
    "start_time": "2023-04-09T14:23:39.924Z"
   },
   {
    "duration": 88,
    "start_time": "2023-04-09T14:23:40.123Z"
   },
   {
    "duration": 73,
    "start_time": "2023-04-09T14:23:40.213Z"
   },
   {
    "duration": 76,
    "start_time": "2023-04-09T14:23:40.288Z"
   },
   {
    "duration": 92,
    "start_time": "2023-04-09T14:23:40.365Z"
   },
   {
    "duration": 66,
    "start_time": "2023-04-09T14:23:40.459Z"
   },
   {
    "duration": 19,
    "start_time": "2023-04-09T14:23:40.527Z"
   },
   {
    "duration": 400,
    "start_time": "2023-04-09T14:23:40.547Z"
   },
   {
    "duration": 7,
    "start_time": "2023-04-09T14:23:40.948Z"
   },
   {
    "duration": 32,
    "start_time": "2023-04-09T14:23:40.956Z"
   },
   {
    "duration": 20,
    "start_time": "2023-04-09T14:23:40.990Z"
   },
   {
    "duration": 4,
    "start_time": "2023-04-09T14:23:41.011Z"
   },
   {
    "duration": 237,
    "start_time": "2023-04-09T14:23:41.016Z"
   },
   {
    "duration": 283,
    "start_time": "2023-04-09T14:23:41.254Z"
   },
   {
    "duration": 9,
    "start_time": "2023-04-09T14:23:41.539Z"
   },
   {
    "duration": 38,
    "start_time": "2023-04-09T14:23:41.550Z"
   },
   {
    "duration": 19,
    "start_time": "2023-04-09T14:23:41.590Z"
   },
   {
    "duration": 81,
    "start_time": "2023-04-09T14:23:41.611Z"
   },
   {
    "duration": 50,
    "start_time": "2023-04-09T14:23:41.694Z"
   },
   {
    "duration": 110,
    "start_time": "2023-04-09T14:23:41.746Z"
   },
   {
    "duration": 5,
    "start_time": "2023-04-09T14:23:41.858Z"
   },
   {
    "duration": 19,
    "start_time": "2023-04-09T14:23:41.865Z"
   },
   {
    "duration": 172,
    "start_time": "2023-04-09T14:23:41.886Z"
   },
   {
    "duration": 0,
    "start_time": "2023-04-09T14:23:42.061Z"
   },
   {
    "duration": 0,
    "start_time": "2023-04-09T14:23:42.063Z"
   },
   {
    "duration": 0,
    "start_time": "2023-04-09T14:23:42.064Z"
   },
   {
    "duration": 0,
    "start_time": "2023-04-09T14:23:42.066Z"
   },
   {
    "duration": 0,
    "start_time": "2023-04-09T14:23:42.067Z"
   },
   {
    "duration": 0,
    "start_time": "2023-04-09T14:23:42.069Z"
   },
   {
    "duration": 0,
    "start_time": "2023-04-09T14:23:42.084Z"
   },
   {
    "duration": 0,
    "start_time": "2023-04-09T14:23:42.085Z"
   },
   {
    "duration": 0,
    "start_time": "2023-04-09T14:23:42.086Z"
   },
   {
    "duration": 0,
    "start_time": "2023-04-09T14:23:42.087Z"
   },
   {
    "duration": 0,
    "start_time": "2023-04-09T14:23:42.090Z"
   },
   {
    "duration": 0,
    "start_time": "2023-04-09T14:23:42.092Z"
   },
   {
    "duration": 0,
    "start_time": "2023-04-09T14:23:42.093Z"
   },
   {
    "duration": 0,
    "start_time": "2023-04-09T14:23:42.094Z"
   },
   {
    "duration": 0,
    "start_time": "2023-04-09T14:23:42.096Z"
   },
   {
    "duration": 0,
    "start_time": "2023-04-09T14:23:42.097Z"
   },
   {
    "duration": 0,
    "start_time": "2023-04-09T14:23:42.099Z"
   },
   {
    "duration": 0,
    "start_time": "2023-04-09T14:23:42.100Z"
   },
   {
    "duration": 0,
    "start_time": "2023-04-09T14:23:42.101Z"
   },
   {
    "duration": 0,
    "start_time": "2023-04-09T14:23:42.103Z"
   },
   {
    "duration": 0,
    "start_time": "2023-04-09T14:23:42.104Z"
   },
   {
    "duration": 0,
    "start_time": "2023-04-09T14:23:42.105Z"
   },
   {
    "duration": 0,
    "start_time": "2023-04-09T14:23:42.107Z"
   },
   {
    "duration": 0,
    "start_time": "2023-04-09T14:23:42.108Z"
   },
   {
    "duration": 0,
    "start_time": "2023-04-09T14:23:42.109Z"
   },
   {
    "duration": 0,
    "start_time": "2023-04-09T14:23:42.111Z"
   },
   {
    "duration": 0,
    "start_time": "2023-04-09T14:23:42.112Z"
   },
   {
    "duration": 0,
    "start_time": "2023-04-09T14:23:42.113Z"
   },
   {
    "duration": 0,
    "start_time": "2023-04-09T14:23:42.115Z"
   },
   {
    "duration": 0,
    "start_time": "2023-04-09T14:23:42.116Z"
   },
   {
    "duration": 0,
    "start_time": "2023-04-09T14:23:42.117Z"
   },
   {
    "duration": 0,
    "start_time": "2023-04-09T14:23:42.119Z"
   },
   {
    "duration": 0,
    "start_time": "2023-04-09T14:23:42.120Z"
   },
   {
    "duration": 0,
    "start_time": "2023-04-09T14:23:42.121Z"
   },
   {
    "duration": 0,
    "start_time": "2023-04-09T14:23:42.185Z"
   },
   {
    "duration": 0,
    "start_time": "2023-04-09T14:23:42.186Z"
   },
   {
    "duration": 0,
    "start_time": "2023-04-09T14:23:42.187Z"
   },
   {
    "duration": 0,
    "start_time": "2023-04-09T14:23:42.189Z"
   },
   {
    "duration": 0,
    "start_time": "2023-04-09T14:23:42.191Z"
   },
   {
    "duration": 3,
    "start_time": "2023-04-09T14:28:05.049Z"
   },
   {
    "duration": 404,
    "start_time": "2023-04-09T14:28:07.050Z"
   },
   {
    "duration": 395,
    "start_time": "2023-04-09T15:21:00.028Z"
   },
   {
    "duration": 12,
    "start_time": "2023-04-09T15:22:30.011Z"
   },
   {
    "duration": 45,
    "start_time": "2023-04-09T17:00:35.263Z"
   },
   {
    "duration": 42,
    "start_time": "2023-04-09T17:00:40.852Z"
   },
   {
    "duration": 53,
    "start_time": "2023-04-09T17:01:05.815Z"
   },
   {
    "duration": 3,
    "start_time": "2023-04-09T17:26:21.964Z"
   },
   {
    "duration": 40898,
    "start_time": "2023-04-09T17:28:00.173Z"
   },
   {
    "duration": 3,
    "start_time": "2023-04-09T17:29:35.949Z"
   },
   {
    "duration": 39828,
    "start_time": "2023-04-09T17:29:37.727Z"
   },
   {
    "duration": 3,
    "start_time": "2023-04-09T17:34:41.503Z"
   },
   {
    "duration": 42134,
    "start_time": "2023-04-09T17:34:42.920Z"
   },
   {
    "duration": 8,
    "start_time": "2023-04-09T17:35:52.415Z"
   },
   {
    "duration": 14,
    "start_time": "2023-04-09T17:35:59.593Z"
   },
   {
    "duration": 122,
    "start_time": "2023-04-09T17:36:32.984Z"
   },
   {
    "duration": 14,
    "start_time": "2023-04-09T17:36:38.184Z"
   },
   {
    "duration": 12,
    "start_time": "2023-04-09T17:36:47.863Z"
   },
   {
    "duration": 78,
    "start_time": "2023-04-09T17:37:51.264Z"
   },
   {
    "duration": 2,
    "start_time": "2023-04-09T17:38:25.122Z"
   },
   {
    "duration": 78,
    "start_time": "2023-04-09T17:38:27.552Z"
   },
   {
    "duration": 640,
    "start_time": "2023-04-09T17:38:57.593Z"
   },
   {
    "duration": 13,
    "start_time": "2023-04-09T17:39:12.328Z"
   },
   {
    "duration": 14,
    "start_time": "2023-04-09T17:39:32.873Z"
   },
   {
    "duration": 13,
    "start_time": "2023-04-09T17:39:36.480Z"
   },
   {
    "duration": 13,
    "start_time": "2023-04-09T17:47:20.106Z"
   },
   {
    "duration": 61,
    "start_time": "2023-04-09T17:47:58.850Z"
   },
   {
    "duration": 80,
    "start_time": "2023-04-09T17:48:51.883Z"
   },
   {
    "duration": 55128,
    "start_time": "2023-04-09T17:49:25.003Z"
   },
   {
    "duration": 4,
    "start_time": "2023-04-09T17:54:41.852Z"
   },
   {
    "duration": 56182,
    "start_time": "2023-04-09T17:55:06.677Z"
   },
   {
    "duration": 9,
    "start_time": "2023-04-09T17:56:31.629Z"
   },
   {
    "duration": 198,
    "start_time": "2023-04-09T17:56:53.181Z"
   },
   {
    "duration": 13,
    "start_time": "2023-04-09T17:56:57.653Z"
   },
   {
    "duration": 14,
    "start_time": "2023-04-09T17:59:28.514Z"
   },
   {
    "duration": 92,
    "start_time": "2023-04-09T18:20:22.291Z"
   },
   {
    "duration": 42,
    "start_time": "2023-04-09T18:21:25.564Z"
   },
   {
    "duration": 62,
    "start_time": "2023-04-09T18:21:33.859Z"
   },
   {
    "duration": 53382,
    "start_time": "2023-04-09T18:21:41.995Z"
   },
   {
    "duration": 116,
    "start_time": "2023-04-09T18:23:09.108Z"
   },
   {
    "duration": 53364,
    "start_time": "2023-04-09T18:23:26.860Z"
   },
   {
    "duration": 4,
    "start_time": "2023-04-09T18:24:20.226Z"
   },
   {
    "duration": 4,
    "start_time": "2023-04-09T18:45:07.087Z"
   },
   {
    "duration": 92,
    "start_time": "2023-04-09T18:47:22.487Z"
   },
   {
    "duration": 98906,
    "start_time": "2023-04-09T18:48:38.640Z"
   },
   {
    "duration": 12,
    "start_time": "2023-04-09T18:50:59.032Z"
   },
   {
    "duration": 12,
    "start_time": "2023-04-09T18:51:31.621Z"
   },
   {
    "duration": 1400,
    "start_time": "2023-04-09T18:52:40.441Z"
   },
   {
    "duration": 3,
    "start_time": "2023-04-09T18:52:41.843Z"
   },
   {
    "duration": 65,
    "start_time": "2023-04-09T18:52:41.847Z"
   },
   {
    "duration": 758,
    "start_time": "2023-04-09T18:52:41.914Z"
   },
   {
    "duration": 23,
    "start_time": "2023-04-09T18:52:42.674Z"
   },
   {
    "duration": 157,
    "start_time": "2023-04-09T18:52:42.699Z"
   },
   {
    "duration": 106,
    "start_time": "2023-04-09T18:52:42.857Z"
   },
   {
    "duration": 4,
    "start_time": "2023-04-09T18:52:42.965Z"
   },
   {
    "duration": 183,
    "start_time": "2023-04-09T18:52:42.970Z"
   },
   {
    "duration": 165,
    "start_time": "2023-04-09T18:52:43.156Z"
   },
   {
    "duration": 177,
    "start_time": "2023-04-09T18:52:43.322Z"
   },
   {
    "duration": 70,
    "start_time": "2023-04-09T18:52:43.501Z"
   },
   {
    "duration": 68,
    "start_time": "2023-04-09T18:52:43.583Z"
   },
   {
    "duration": 85,
    "start_time": "2023-04-09T18:52:43.653Z"
   },
   {
    "duration": 84,
    "start_time": "2023-04-09T18:52:43.739Z"
   },
   {
    "duration": 45,
    "start_time": "2023-04-09T18:52:43.825Z"
   },
   {
    "duration": 18,
    "start_time": "2023-04-09T18:52:43.883Z"
   },
   {
    "duration": 364,
    "start_time": "2023-04-09T18:52:43.903Z"
   },
   {
    "duration": 16,
    "start_time": "2023-04-09T18:52:44.268Z"
   },
   {
    "duration": 20,
    "start_time": "2023-04-09T18:52:44.286Z"
   },
   {
    "duration": 21,
    "start_time": "2023-04-09T18:52:44.307Z"
   },
   {
    "duration": 3,
    "start_time": "2023-04-09T18:52:44.330Z"
   },
   {
    "duration": 220,
    "start_time": "2023-04-09T18:52:44.335Z"
   },
   {
    "duration": 280,
    "start_time": "2023-04-09T18:52:44.557Z"
   },
   {
    "duration": 10,
    "start_time": "2023-04-09T18:52:44.839Z"
   },
   {
    "duration": 31,
    "start_time": "2023-04-09T18:52:44.853Z"
   },
   {
    "duration": 18,
    "start_time": "2023-04-09T18:52:44.886Z"
   },
   {
    "duration": 77,
    "start_time": "2023-04-09T18:52:44.907Z"
   },
   {
    "duration": 44,
    "start_time": "2023-04-09T18:52:44.985Z"
   },
   {
    "duration": 407,
    "start_time": "2023-04-09T18:52:45.030Z"
   },
   {
    "duration": 11,
    "start_time": "2023-04-09T18:52:45.439Z"
   },
   {
    "duration": 54,
    "start_time": "2023-04-09T18:52:45.451Z"
   },
   {
    "duration": 57,
    "start_time": "2023-04-09T18:52:45.507Z"
   },
   {
    "duration": 3,
    "start_time": "2023-04-09T18:52:45.566Z"
   },
   {
    "duration": 96505,
    "start_time": "2023-04-09T18:52:45.582Z"
   },
   {
    "duration": 109,
    "start_time": "2023-04-09T18:54:22.088Z"
   },
   {
    "duration": 0,
    "start_time": "2023-04-09T18:54:22.199Z"
   },
   {
    "duration": 0,
    "start_time": "2023-04-09T18:54:22.200Z"
   },
   {
    "duration": 0,
    "start_time": "2023-04-09T18:54:22.201Z"
   },
   {
    "duration": 0,
    "start_time": "2023-04-09T18:54:22.202Z"
   },
   {
    "duration": 0,
    "start_time": "2023-04-09T18:54:22.203Z"
   },
   {
    "duration": 0,
    "start_time": "2023-04-09T18:54:22.204Z"
   },
   {
    "duration": 0,
    "start_time": "2023-04-09T18:54:22.205Z"
   },
   {
    "duration": 0,
    "start_time": "2023-04-09T18:54:22.206Z"
   },
   {
    "duration": 0,
    "start_time": "2023-04-09T18:54:22.207Z"
   },
   {
    "duration": 0,
    "start_time": "2023-04-09T18:54:22.208Z"
   },
   {
    "duration": 0,
    "start_time": "2023-04-09T18:54:22.209Z"
   },
   {
    "duration": 1449,
    "start_time": "2023-04-09T18:54:57.867Z"
   },
   {
    "duration": 3,
    "start_time": "2023-04-09T18:54:59.317Z"
   },
   {
    "duration": 70,
    "start_time": "2023-04-09T18:54:59.321Z"
   },
   {
    "duration": 897,
    "start_time": "2023-04-09T18:54:59.394Z"
   },
   {
    "duration": 20,
    "start_time": "2023-04-09T18:55:00.292Z"
   },
   {
    "duration": 269,
    "start_time": "2023-04-09T18:55:00.314Z"
   },
   {
    "duration": 106,
    "start_time": "2023-04-09T18:55:00.585Z"
   },
   {
    "duration": 4,
    "start_time": "2023-04-09T18:55:00.693Z"
   },
   {
    "duration": 194,
    "start_time": "2023-04-09T18:55:00.699Z"
   },
   {
    "duration": 171,
    "start_time": "2023-04-09T18:55:00.895Z"
   },
   {
    "duration": 190,
    "start_time": "2023-04-09T18:55:01.068Z"
   },
   {
    "duration": 79,
    "start_time": "2023-04-09T18:55:01.260Z"
   },
   {
    "duration": 93,
    "start_time": "2023-04-09T18:55:01.340Z"
   },
   {
    "duration": 89,
    "start_time": "2023-04-09T18:55:01.435Z"
   },
   {
    "duration": 97,
    "start_time": "2023-04-09T18:55:01.526Z"
   },
   {
    "duration": 87,
    "start_time": "2023-04-09T18:55:01.625Z"
   },
   {
    "duration": 20,
    "start_time": "2023-04-09T18:55:01.714Z"
   },
   {
    "duration": 452,
    "start_time": "2023-04-09T18:55:01.735Z"
   },
   {
    "duration": 8,
    "start_time": "2023-04-09T18:55:02.189Z"
   },
   {
    "duration": 25,
    "start_time": "2023-04-09T18:55:02.198Z"
   },
   {
    "duration": 24,
    "start_time": "2023-04-09T18:55:02.225Z"
   },
   {
    "duration": 32,
    "start_time": "2023-04-09T18:55:02.251Z"
   },
   {
    "duration": 223,
    "start_time": "2023-04-09T18:55:02.286Z"
   },
   {
    "duration": 276,
    "start_time": "2023-04-09T18:55:02.511Z"
   },
   {
    "duration": 9,
    "start_time": "2023-04-09T18:55:02.789Z"
   },
   {
    "duration": 42,
    "start_time": "2023-04-09T18:55:02.800Z"
   },
   {
    "duration": 32,
    "start_time": "2023-04-09T18:55:02.843Z"
   },
   {
    "duration": 74,
    "start_time": "2023-04-09T18:55:02.880Z"
   },
   {
    "duration": 61,
    "start_time": "2023-04-09T18:55:02.955Z"
   },
   {
    "duration": 433,
    "start_time": "2023-04-09T18:55:03.018Z"
   },
   {
    "duration": 12,
    "start_time": "2023-04-09T18:55:03.453Z"
   },
   {
    "duration": 59,
    "start_time": "2023-04-09T18:55:03.467Z"
   },
   {
    "duration": 81,
    "start_time": "2023-04-09T18:55:03.528Z"
   },
   {
    "duration": 4,
    "start_time": "2023-04-09T18:55:03.610Z"
   },
   {
    "duration": 103118,
    "start_time": "2023-04-09T18:55:03.615Z"
   },
   {
    "duration": 14,
    "start_time": "2023-04-09T18:56:46.735Z"
   },
   {
    "duration": 41017,
    "start_time": "2023-04-09T18:56:46.750Z"
   },
   {
    "duration": 21,
    "start_time": "2023-04-09T18:57:27.769Z"
   },
   {
    "duration": 2,
    "start_time": "2023-04-09T18:57:27.792Z"
   },
   {
    "duration": 433,
    "start_time": "2023-04-09T18:57:27.796Z"
   },
   {
    "duration": 106,
    "start_time": "2023-04-09T18:57:28.287Z"
   },
   {
    "duration": 69,
    "start_time": "2023-04-09T18:57:28.395Z"
   },
   {
    "duration": 54467,
    "start_time": "2023-04-09T18:57:28.465Z"
   },
   {
    "duration": 4,
    "start_time": "2023-04-09T18:58:22.934Z"
   },
   {
    "duration": 55391,
    "start_time": "2023-04-09T18:58:22.939Z"
   },
   {
    "duration": 208,
    "start_time": "2023-04-09T18:59:18.332Z"
   },
   {
    "duration": 11,
    "start_time": "2023-04-09T18:59:18.542Z"
   },
   {
    "duration": 753,
    "start_time": "2023-04-09T18:59:18.556Z"
   },
   {
    "duration": 58517,
    "start_time": "2023-04-09T19:02:16.787Z"
   },
   {
    "duration": 114,
    "start_time": "2023-04-09T19:03:38.051Z"
   },
   {
    "duration": 1402,
    "start_time": "2023-04-09T19:04:11.958Z"
   },
   {
    "duration": 3,
    "start_time": "2023-04-09T19:04:13.362Z"
   },
   {
    "duration": 80,
    "start_time": "2023-04-09T19:04:13.366Z"
   },
   {
    "duration": 818,
    "start_time": "2023-04-09T19:04:13.448Z"
   },
   {
    "duration": 25,
    "start_time": "2023-04-09T19:04:14.268Z"
   },
   {
    "duration": 140,
    "start_time": "2023-04-09T19:04:14.295Z"
   },
   {
    "duration": 130,
    "start_time": "2023-04-09T19:04:14.437Z"
   },
   {
    "duration": 5,
    "start_time": "2023-04-09T19:04:14.569Z"
   },
   {
    "duration": 171,
    "start_time": "2023-04-09T19:04:14.582Z"
   },
   {
    "duration": 179,
    "start_time": "2023-04-09T19:04:14.756Z"
   },
   {
    "duration": 178,
    "start_time": "2023-04-09T19:04:14.938Z"
   },
   {
    "duration": 72,
    "start_time": "2023-04-09T19:04:15.118Z"
   },
   {
    "duration": 65,
    "start_time": "2023-04-09T19:04:15.192Z"
   },
   {
    "duration": 89,
    "start_time": "2023-04-09T19:04:15.259Z"
   },
   {
    "duration": 75,
    "start_time": "2023-04-09T19:04:15.349Z"
   },
   {
    "duration": 61,
    "start_time": "2023-04-09T19:04:15.425Z"
   },
   {
    "duration": 20,
    "start_time": "2023-04-09T19:04:15.488Z"
   },
   {
    "duration": 363,
    "start_time": "2023-04-09T19:04:15.509Z"
   },
   {
    "duration": 13,
    "start_time": "2023-04-09T19:04:15.874Z"
   },
   {
    "duration": 25,
    "start_time": "2023-04-09T19:04:15.888Z"
   },
   {
    "duration": 18,
    "start_time": "2023-04-09T19:04:15.915Z"
   },
   {
    "duration": 4,
    "start_time": "2023-04-09T19:04:15.935Z"
   },
   {
    "duration": 204,
    "start_time": "2023-04-09T19:04:15.940Z"
   },
   {
    "duration": 245,
    "start_time": "2023-04-09T19:04:16.145Z"
   },
   {
    "duration": 8,
    "start_time": "2023-04-09T19:04:16.391Z"
   },
   {
    "duration": 18,
    "start_time": "2023-04-09T19:04:16.401Z"
   },
   {
    "duration": 16,
    "start_time": "2023-04-09T19:04:16.421Z"
   },
   {
    "duration": 80,
    "start_time": "2023-04-09T19:04:16.440Z"
   },
   {
    "duration": 41,
    "start_time": "2023-04-09T19:04:16.521Z"
   },
   {
    "duration": 395,
    "start_time": "2023-04-09T19:04:16.563Z"
   },
   {
    "duration": 13,
    "start_time": "2023-04-09T19:04:16.959Z"
   },
   {
    "duration": 72,
    "start_time": "2023-04-09T19:04:16.983Z"
   },
   {
    "duration": 63,
    "start_time": "2023-04-09T19:04:17.057Z"
   },
   {
    "duration": 3,
    "start_time": "2023-04-09T19:04:17.122Z"
   },
   {
    "duration": 98990,
    "start_time": "2023-04-09T19:04:17.127Z"
   },
   {
    "duration": 12,
    "start_time": "2023-04-09T19:05:56.118Z"
   },
   {
    "duration": 40167,
    "start_time": "2023-04-09T19:05:56.132Z"
   },
   {
    "duration": 12,
    "start_time": "2023-04-09T19:06:36.301Z"
   },
   {
    "duration": 26,
    "start_time": "2023-04-09T19:06:36.314Z"
   },
   {
    "duration": 744,
    "start_time": "2023-04-09T19:06:36.342Z"
   },
   {
    "duration": 191,
    "start_time": "2023-04-09T19:06:37.092Z"
   },
   {
    "duration": 75,
    "start_time": "2023-04-09T19:06:37.285Z"
   },
   {
    "duration": 55461,
    "start_time": "2023-04-09T19:06:37.361Z"
   },
   {
    "duration": 4,
    "start_time": "2023-04-09T19:07:32.824Z"
   },
   {
    "duration": 56773,
    "start_time": "2023-04-09T19:07:32.829Z"
   },
   {
    "duration": 201,
    "start_time": "2023-04-09T19:08:29.604Z"
   },
   {
    "duration": 130,
    "start_time": "2023-04-09T19:08:29.807Z"
   },
   {
    "duration": 15,
    "start_time": "2023-04-09T19:08:59.421Z"
   },
   {
    "duration": 14,
    "start_time": "2023-04-09T19:09:43.733Z"
   },
   {
    "duration": 12,
    "start_time": "2023-04-09T19:09:45.861Z"
   },
   {
    "duration": 12,
    "start_time": "2023-04-09T19:09:47.700Z"
   },
   {
    "duration": 13,
    "start_time": "2023-04-09T19:09:48.573Z"
   },
   {
    "duration": 12,
    "start_time": "2023-04-09T19:09:48.789Z"
   },
   {
    "duration": 13,
    "start_time": "2023-04-09T19:09:48.964Z"
   },
   {
    "duration": 12,
    "start_time": "2023-04-09T19:09:49.134Z"
   },
   {
    "duration": 13,
    "start_time": "2023-04-09T19:09:49.309Z"
   },
   {
    "duration": 13,
    "start_time": "2023-04-09T19:09:49.461Z"
   },
   {
    "duration": 13,
    "start_time": "2023-04-09T19:09:49.622Z"
   },
   {
    "duration": 99,
    "start_time": "2023-04-09T19:20:13.137Z"
   },
   {
    "duration": 79,
    "start_time": "2023-04-09T19:20:33.224Z"
   },
   {
    "duration": 40,
    "start_time": "2023-04-09T19:21:38.513Z"
   },
   {
    "duration": 154,
    "start_time": "2023-04-09T19:22:09.408Z"
   },
   {
    "duration": 57,
    "start_time": "2023-04-09T19:22:14.288Z"
   },
   {
    "duration": 104,
    "start_time": "2023-04-09T19:40:01.143Z"
   },
   {
    "duration": 93,
    "start_time": "2023-04-09T19:40:32.974Z"
   },
   {
    "duration": 177,
    "start_time": "2023-04-09T19:42:07.495Z"
   },
   {
    "duration": 83,
    "start_time": "2023-04-09T19:45:40.281Z"
   },
   {
    "duration": 103,
    "start_time": "2023-04-09T19:46:06.912Z"
   },
   {
    "duration": 84,
    "start_time": "2023-04-09T19:47:20.682Z"
   },
   {
    "duration": 79,
    "start_time": "2023-04-09T19:47:25.865Z"
   },
   {
    "duration": 81,
    "start_time": "2023-04-09T19:49:54.300Z"
   },
   {
    "duration": 78,
    "start_time": "2023-04-09T19:51:15.890Z"
   },
   {
    "duration": 81,
    "start_time": "2023-04-09T19:52:38.435Z"
   },
   {
    "duration": 81,
    "start_time": "2023-04-09T19:53:42.500Z"
   },
   {
    "duration": 81,
    "start_time": "2023-04-09T19:53:49.147Z"
   },
   {
    "duration": 79,
    "start_time": "2023-04-09T19:53:49.908Z"
   },
   {
    "duration": 3,
    "start_time": "2023-04-09T19:53:55.372Z"
   },
   {
    "duration": 78,
    "start_time": "2023-04-09T19:53:58.403Z"
   },
   {
    "duration": 1363,
    "start_time": "2023-04-09T19:54:15.778Z"
   },
   {
    "duration": 2,
    "start_time": "2023-04-09T19:54:17.143Z"
   },
   {
    "duration": 78,
    "start_time": "2023-04-09T19:54:17.147Z"
   },
   {
    "duration": 748,
    "start_time": "2023-04-09T19:54:17.227Z"
   },
   {
    "duration": 19,
    "start_time": "2023-04-09T19:54:17.977Z"
   },
   {
    "duration": 138,
    "start_time": "2023-04-09T19:54:17.997Z"
   },
   {
    "duration": 131,
    "start_time": "2023-04-09T19:54:18.137Z"
   },
   {
    "duration": 13,
    "start_time": "2023-04-09T19:54:18.270Z"
   },
   {
    "duration": 175,
    "start_time": "2023-04-09T19:54:18.285Z"
   },
   {
    "duration": 166,
    "start_time": "2023-04-09T19:54:18.464Z"
   },
   {
    "duration": 172,
    "start_time": "2023-04-09T19:54:18.632Z"
   },
   {
    "duration": 79,
    "start_time": "2023-04-09T19:54:18.805Z"
   },
   {
    "duration": 63,
    "start_time": "2023-04-09T19:54:18.886Z"
   },
   {
    "duration": 77,
    "start_time": "2023-04-09T19:54:18.951Z"
   },
   {
    "duration": 82,
    "start_time": "2023-04-09T19:54:19.029Z"
   },
   {
    "duration": 45,
    "start_time": "2023-04-09T19:54:19.113Z"
   },
   {
    "duration": 38,
    "start_time": "2023-04-09T19:54:19.160Z"
   },
   {
    "duration": 363,
    "start_time": "2023-04-09T19:54:19.200Z"
   },
   {
    "duration": 18,
    "start_time": "2023-04-09T19:54:19.565Z"
   },
   {
    "duration": 22,
    "start_time": "2023-04-09T19:54:19.584Z"
   },
   {
    "duration": 20,
    "start_time": "2023-04-09T19:54:19.607Z"
   },
   {
    "duration": 4,
    "start_time": "2023-04-09T19:54:19.629Z"
   },
   {
    "duration": 243,
    "start_time": "2023-04-09T19:54:19.634Z"
   },
   {
    "duration": 243,
    "start_time": "2023-04-09T19:54:19.879Z"
   },
   {
    "duration": 8,
    "start_time": "2023-04-09T19:54:20.123Z"
   },
   {
    "duration": 26,
    "start_time": "2023-04-09T19:54:20.132Z"
   },
   {
    "duration": 29,
    "start_time": "2023-04-09T19:54:20.160Z"
   },
   {
    "duration": 64,
    "start_time": "2023-04-09T19:54:20.192Z"
   },
   {
    "duration": 54,
    "start_time": "2023-04-09T19:54:20.258Z"
   },
   {
    "duration": 374,
    "start_time": "2023-04-09T19:54:20.314Z"
   },
   {
    "duration": 12,
    "start_time": "2023-04-09T19:54:20.690Z"
   },
   {
    "duration": 50,
    "start_time": "2023-04-09T19:54:20.703Z"
   },
   {
    "duration": 76,
    "start_time": "2023-04-09T19:54:20.755Z"
   },
   {
    "duration": 3,
    "start_time": "2023-04-09T19:54:20.833Z"
   },
   {
    "duration": 97064,
    "start_time": "2023-04-09T19:54:20.837Z"
   },
   {
    "duration": 13,
    "start_time": "2023-04-09T19:55:57.903Z"
   },
   {
    "duration": 38243,
    "start_time": "2023-04-09T19:55:57.917Z"
   },
   {
    "duration": 22,
    "start_time": "2023-04-09T19:56:36.162Z"
   },
   {
    "duration": 2,
    "start_time": "2023-04-09T19:56:36.186Z"
   },
   {
    "duration": 715,
    "start_time": "2023-04-09T19:56:36.190Z"
   },
   {
    "duration": 86,
    "start_time": "2023-04-09T19:56:36.907Z"
   },
   {
    "duration": 65,
    "start_time": "2023-04-09T19:56:37.084Z"
   },
   {
    "duration": 51599,
    "start_time": "2023-04-09T19:56:37.151Z"
   },
   {
    "duration": 3,
    "start_time": "2023-04-09T19:57:28.752Z"
   },
   {
    "duration": 55737,
    "start_time": "2023-04-09T19:57:28.757Z"
   },
   {
    "duration": 209,
    "start_time": "2023-04-09T19:58:24.497Z"
   },
   {
    "duration": 13,
    "start_time": "2023-04-09T19:58:24.707Z"
   },
   {
    "duration": 8,
    "start_time": "2023-04-09T19:58:24.721Z"
   },
   {
    "duration": 189,
    "start_time": "2023-04-09T19:58:24.731Z"
   },
   {
    "duration": 14,
    "start_time": "2023-04-09T19:58:24.922Z"
   },
   {
    "duration": 28803,
    "start_time": "2023-04-09T20:07:47.591Z"
   },
   {
    "duration": 6056,
    "start_time": "2023-04-09T20:09:54.351Z"
   },
   {
    "duration": 1353,
    "start_time": "2023-04-09T20:10:57.745Z"
   },
   {
    "duration": 2,
    "start_time": "2023-04-09T20:10:59.100Z"
   },
   {
    "duration": 63,
    "start_time": "2023-04-09T20:10:59.104Z"
   },
   {
    "duration": 829,
    "start_time": "2023-04-09T20:10:59.169Z"
   },
   {
    "duration": 17,
    "start_time": "2023-04-09T20:11:00.000Z"
   },
   {
    "duration": 136,
    "start_time": "2023-04-09T20:11:00.019Z"
   },
   {
    "duration": 94,
    "start_time": "2023-04-09T20:11:00.156Z"
   },
   {
    "duration": 4,
    "start_time": "2023-04-09T20:11:00.252Z"
   },
   {
    "duration": 182,
    "start_time": "2023-04-09T20:11:00.257Z"
   },
   {
    "duration": 187,
    "start_time": "2023-04-09T20:11:00.442Z"
   },
   {
    "duration": 189,
    "start_time": "2023-04-09T20:11:00.631Z"
   },
   {
    "duration": 76,
    "start_time": "2023-04-09T20:11:00.822Z"
   },
   {
    "duration": 100,
    "start_time": "2023-04-09T20:11:00.899Z"
   },
   {
    "duration": 124,
    "start_time": "2023-04-09T20:11:01.002Z"
   },
   {
    "duration": 96,
    "start_time": "2023-04-09T20:11:01.127Z"
   },
   {
    "duration": 60,
    "start_time": "2023-04-09T20:11:01.224Z"
   },
   {
    "duration": 21,
    "start_time": "2023-04-09T20:11:01.285Z"
   },
   {
    "duration": 422,
    "start_time": "2023-04-09T20:11:01.308Z"
   },
   {
    "duration": 7,
    "start_time": "2023-04-09T20:11:01.731Z"
   },
   {
    "duration": 43,
    "start_time": "2023-04-09T20:11:01.739Z"
   },
   {
    "duration": 21,
    "start_time": "2023-04-09T20:11:01.783Z"
   },
   {
    "duration": 3,
    "start_time": "2023-04-09T20:11:01.806Z"
   },
   {
    "duration": 266,
    "start_time": "2023-04-09T20:11:01.810Z"
   },
   {
    "duration": 265,
    "start_time": "2023-04-09T20:11:02.082Z"
   },
   {
    "duration": 8,
    "start_time": "2023-04-09T20:11:02.348Z"
   },
   {
    "duration": 39,
    "start_time": "2023-04-09T20:11:02.358Z"
   },
   {
    "duration": 18,
    "start_time": "2023-04-09T20:11:02.398Z"
   },
   {
    "duration": 80,
    "start_time": "2023-04-09T20:11:02.419Z"
   },
   {
    "duration": 48,
    "start_time": "2023-04-09T20:11:02.500Z"
   },
   {
    "duration": 398,
    "start_time": "2023-04-09T20:11:02.549Z"
   },
   {
    "duration": 12,
    "start_time": "2023-04-09T20:11:02.949Z"
   },
   {
    "duration": 60,
    "start_time": "2023-04-09T20:11:02.963Z"
   },
   {
    "duration": 89,
    "start_time": "2023-04-09T20:11:03.025Z"
   },
   {
    "duration": 5,
    "start_time": "2023-04-09T20:11:03.116Z"
   },
   {
    "duration": 96985,
    "start_time": "2023-04-09T20:11:03.122Z"
   },
   {
    "duration": 14,
    "start_time": "2023-04-09T20:12:40.108Z"
   },
   {
    "duration": 38822,
    "start_time": "2023-04-09T20:12:40.124Z"
   },
   {
    "duration": 12,
    "start_time": "2023-04-09T20:13:18.947Z"
   },
   {
    "duration": 17,
    "start_time": "2023-04-09T20:13:18.960Z"
   },
   {
    "duration": 705,
    "start_time": "2023-04-09T20:13:18.979Z"
   },
   {
    "duration": 104,
    "start_time": "2023-04-09T20:13:19.687Z"
   },
   {
    "duration": 92,
    "start_time": "2023-04-09T20:13:19.793Z"
   },
   {
    "duration": 52572,
    "start_time": "2023-04-09T20:13:19.887Z"
   },
   {
    "duration": 3,
    "start_time": "2023-04-09T20:14:12.461Z"
   },
   {
    "duration": 57899,
    "start_time": "2023-04-09T20:14:12.466Z"
   },
   {
    "duration": 201,
    "start_time": "2023-04-09T20:15:10.367Z"
   },
   {
    "duration": 22,
    "start_time": "2023-04-09T20:15:10.570Z"
   },
   {
    "duration": 48,
    "start_time": "2023-04-09T20:15:10.593Z"
   },
   {
    "duration": 30254,
    "start_time": "2023-04-09T20:15:10.642Z"
   },
   {
    "duration": 5893,
    "start_time": "2023-04-09T20:15:40.898Z"
   },
   {
    "duration": 13,
    "start_time": "2023-04-09T20:15:46.793Z"
   },
   {
    "duration": 2246,
    "start_time": "2023-04-10T12:28:00.237Z"
   },
   {
    "duration": 3,
    "start_time": "2023-04-10T12:28:02.486Z"
   },
   {
    "duration": 74,
    "start_time": "2023-04-10T12:28:02.492Z"
   },
   {
    "duration": 1242,
    "start_time": "2023-04-10T12:28:03.284Z"
   },
   {
    "duration": 23,
    "start_time": "2023-04-10T12:28:04.529Z"
   },
   {
    "duration": 145,
    "start_time": "2023-04-10T12:28:04.554Z"
   },
   {
    "duration": 128,
    "start_time": "2023-04-10T12:28:04.701Z"
   },
   {
    "duration": 6,
    "start_time": "2023-04-10T12:28:04.831Z"
   },
   {
    "duration": 183,
    "start_time": "2023-04-10T12:28:05.489Z"
   },
   {
    "duration": 173,
    "start_time": "2023-04-10T12:28:06.017Z"
   },
   {
    "duration": 213,
    "start_time": "2023-04-10T12:28:06.320Z"
   },
   {
    "duration": 75,
    "start_time": "2023-04-10T12:28:06.671Z"
   },
   {
    "duration": 74,
    "start_time": "2023-04-10T12:28:07.741Z"
   },
   {
    "duration": 70,
    "start_time": "2023-04-10T12:28:09.489Z"
   },
   {
    "duration": 93,
    "start_time": "2023-04-10T12:28:09.979Z"
   },
   {
    "duration": 56,
    "start_time": "2023-04-10T12:28:11.397Z"
   },
   {
    "duration": 25,
    "start_time": "2023-04-10T12:28:13.293Z"
   },
   {
    "duration": 453,
    "start_time": "2023-04-10T12:28:13.553Z"
   },
   {
    "duration": 9,
    "start_time": "2023-04-10T12:28:14.008Z"
   },
   {
    "duration": 43,
    "start_time": "2023-04-10T12:28:14.018Z"
   },
   {
    "duration": 31,
    "start_time": "2023-04-10T12:28:14.127Z"
   },
   {
    "duration": 6,
    "start_time": "2023-04-10T12:28:14.342Z"
   },
   {
    "duration": 240,
    "start_time": "2023-04-10T12:28:14.801Z"
   },
   {
    "duration": 245,
    "start_time": "2023-04-10T12:28:15.044Z"
   },
   {
    "duration": 10,
    "start_time": "2023-04-10T12:28:15.292Z"
   },
   {
    "duration": 21,
    "start_time": "2023-04-10T12:28:15.556Z"
   },
   {
    "duration": 22,
    "start_time": "2023-04-10T12:28:15.955Z"
   },
   {
    "duration": 62,
    "start_time": "2023-04-10T12:28:16.201Z"
   },
   {
    "duration": 60,
    "start_time": "2023-04-10T12:28:17.223Z"
   },
   {
    "duration": 7,
    "start_time": "2023-04-10T12:49:50.320Z"
   },
   {
    "duration": 84,
    "start_time": "2023-04-10T12:53:08.927Z"
   },
   {
    "duration": 22,
    "start_time": "2023-04-10T12:53:17.526Z"
   },
   {
    "duration": 17,
    "start_time": "2023-04-10T12:54:37.900Z"
   },
   {
    "duration": 827,
    "start_time": "2023-04-10T12:55:59.394Z"
   },
   {
    "duration": 5,
    "start_time": "2023-04-10T12:56:18.930Z"
   },
   {
    "duration": 3350,
    "start_time": "2023-04-10T12:59:44.494Z"
   },
   {
    "duration": 3285,
    "start_time": "2023-04-10T13:00:04.329Z"
   },
   {
    "duration": 5328,
    "start_time": "2023-04-10T13:00:29.421Z"
   },
   {
    "duration": 6549,
    "start_time": "2023-04-10T13:00:39.407Z"
   },
   {
    "duration": 9192,
    "start_time": "2023-04-10T13:00:51.087Z"
   },
   {
    "duration": 9213,
    "start_time": "2023-04-10T13:01:31.623Z"
   },
   {
    "duration": 11215,
    "start_time": "2023-04-10T13:01:49.070Z"
   },
   {
    "duration": 74,
    "start_time": "2023-04-10T14:06:00.406Z"
   },
   {
    "duration": 2163,
    "start_time": "2023-04-10T14:06:04.548Z"
   },
   {
    "duration": 4,
    "start_time": "2023-04-10T14:06:07.916Z"
   },
   {
    "duration": 73,
    "start_time": "2023-04-10T14:06:09.105Z"
   },
   {
    "duration": 3424,
    "start_time": "2023-04-10T14:06:11.076Z"
   },
   {
    "duration": 21,
    "start_time": "2023-04-10T14:06:16.226Z"
   },
   {
    "duration": 60,
    "start_time": "2023-04-10T14:06:18.192Z"
   },
   {
    "duration": 2458,
    "start_time": "2023-04-10T14:07:12.908Z"
   },
   {
    "duration": 1739,
    "start_time": "2023-04-10T14:08:09.623Z"
   },
   {
    "duration": 2,
    "start_time": "2023-04-10T14:08:11.365Z"
   },
   {
    "duration": 110,
    "start_time": "2023-04-10T14:08:11.369Z"
   },
   {
    "duration": 1117,
    "start_time": "2023-04-10T14:08:11.481Z"
   },
   {
    "duration": 25,
    "start_time": "2023-04-10T14:08:12.608Z"
   },
   {
    "duration": 65,
    "start_time": "2023-04-10T14:08:12.635Z"
   },
   {
    "duration": 200,
    "start_time": "2023-04-10T14:08:12.710Z"
   },
   {
    "duration": 118,
    "start_time": "2023-04-10T14:08:12.913Z"
   },
   {
    "duration": 7,
    "start_time": "2023-04-10T14:08:13.033Z"
   },
   {
    "duration": 215,
    "start_time": "2023-04-10T14:08:13.042Z"
   },
   {
    "duration": 207,
    "start_time": "2023-04-10T14:08:13.259Z"
   },
   {
    "duration": 237,
    "start_time": "2023-04-10T14:08:13.468Z"
   },
   {
    "duration": 89,
    "start_time": "2023-04-10T14:08:13.710Z"
   },
   {
    "duration": 92,
    "start_time": "2023-04-10T14:08:13.809Z"
   },
   {
    "duration": 87,
    "start_time": "2023-04-10T14:08:13.903Z"
   },
   {
    "duration": 103,
    "start_time": "2023-04-10T14:08:13.992Z"
   },
   {
    "duration": 66,
    "start_time": "2023-04-10T14:08:14.103Z"
   },
   {
    "duration": 39,
    "start_time": "2023-04-10T14:08:14.170Z"
   },
   {
    "duration": 550,
    "start_time": "2023-04-10T14:08:14.212Z"
   },
   {
    "duration": 11,
    "start_time": "2023-04-10T14:08:14.764Z"
   },
   {
    "duration": 63,
    "start_time": "2023-04-10T14:08:14.788Z"
   },
   {
    "duration": 22,
    "start_time": "2023-04-10T14:08:14.853Z"
   },
   {
    "duration": 53,
    "start_time": "2023-04-10T14:08:14.877Z"
   },
   {
    "duration": 134,
    "start_time": "2023-04-10T14:08:14.932Z"
   },
   {
    "duration": 0,
    "start_time": "2023-04-10T14:08:15.068Z"
   },
   {
    "duration": 0,
    "start_time": "2023-04-10T14:08:15.070Z"
   },
   {
    "duration": 0,
    "start_time": "2023-04-10T14:08:15.071Z"
   },
   {
    "duration": 0,
    "start_time": "2023-04-10T14:08:15.072Z"
   },
   {
    "duration": 0,
    "start_time": "2023-04-10T14:08:15.073Z"
   },
   {
    "duration": 0,
    "start_time": "2023-04-10T14:08:15.075Z"
   },
   {
    "duration": 0,
    "start_time": "2023-04-10T14:08:15.076Z"
   },
   {
    "duration": 0,
    "start_time": "2023-04-10T14:08:15.094Z"
   },
   {
    "duration": 0,
    "start_time": "2023-04-10T14:08:15.095Z"
   },
   {
    "duration": 0,
    "start_time": "2023-04-10T14:08:15.096Z"
   },
   {
    "duration": 0,
    "start_time": "2023-04-10T14:08:15.098Z"
   },
   {
    "duration": 0,
    "start_time": "2023-04-10T14:08:15.100Z"
   },
   {
    "duration": 0,
    "start_time": "2023-04-10T14:08:15.101Z"
   },
   {
    "duration": 0,
    "start_time": "2023-04-10T14:08:15.107Z"
   },
   {
    "duration": 0,
    "start_time": "2023-04-10T14:08:15.108Z"
   },
   {
    "duration": 0,
    "start_time": "2023-04-10T14:08:15.109Z"
   },
   {
    "duration": 0,
    "start_time": "2023-04-10T14:08:15.111Z"
   },
   {
    "duration": 0,
    "start_time": "2023-04-10T14:08:15.112Z"
   },
   {
    "duration": 0,
    "start_time": "2023-04-10T14:08:15.114Z"
   },
   {
    "duration": 0,
    "start_time": "2023-04-10T14:08:15.115Z"
   },
   {
    "duration": 0,
    "start_time": "2023-04-10T14:08:15.116Z"
   },
   {
    "duration": 0,
    "start_time": "2023-04-10T14:08:15.118Z"
   },
   {
    "duration": 0,
    "start_time": "2023-04-10T14:08:15.119Z"
   },
   {
    "duration": 0,
    "start_time": "2023-04-10T14:08:15.120Z"
   },
   {
    "duration": 0,
    "start_time": "2023-04-10T14:08:15.122Z"
   },
   {
    "duration": 0,
    "start_time": "2023-04-10T14:08:15.124Z"
   },
   {
    "duration": 0,
    "start_time": "2023-04-10T14:08:15.125Z"
   },
   {
    "duration": 0,
    "start_time": "2023-04-10T14:08:15.127Z"
   },
   {
    "duration": 1,
    "start_time": "2023-04-10T14:08:15.129Z"
   },
   {
    "duration": 0,
    "start_time": "2023-04-10T14:08:15.131Z"
   },
   {
    "duration": 0,
    "start_time": "2023-04-10T14:08:15.133Z"
   },
   {
    "duration": 0,
    "start_time": "2023-04-10T14:08:15.135Z"
   },
   {
    "duration": 0,
    "start_time": "2023-04-10T14:08:15.136Z"
   },
   {
    "duration": 0,
    "start_time": "2023-04-10T14:08:15.138Z"
   },
   {
    "duration": 0,
    "start_time": "2023-04-10T14:08:15.140Z"
   },
   {
    "duration": 14,
    "start_time": "2023-04-10T14:16:31.973Z"
   },
   {
    "duration": 99,
    "start_time": "2023-04-10T14:29:53.538Z"
   },
   {
    "duration": 131,
    "start_time": "2023-04-10T14:30:17.535Z"
   },
   {
    "duration": 123,
    "start_time": "2023-04-10T14:32:24.652Z"
   },
   {
    "duration": 1607,
    "start_time": "2023-04-10T16:38:19.514Z"
   },
   {
    "duration": 2,
    "start_time": "2023-04-10T16:38:21.123Z"
   },
   {
    "duration": 61,
    "start_time": "2023-04-10T16:38:21.126Z"
   },
   {
    "duration": 2737,
    "start_time": "2023-04-10T16:38:21.189Z"
   },
   {
    "duration": 15,
    "start_time": "2023-04-10T16:38:23.927Z"
   },
   {
    "duration": 43,
    "start_time": "2023-04-10T16:38:23.943Z"
   },
   {
    "duration": 127,
    "start_time": "2023-04-10T16:38:23.987Z"
   },
   {
    "duration": 97,
    "start_time": "2023-04-10T16:38:24.115Z"
   },
   {
    "duration": 4,
    "start_time": "2023-04-10T16:38:24.213Z"
   },
   {
    "duration": 176,
    "start_time": "2023-04-10T16:38:24.219Z"
   },
   {
    "duration": 192,
    "start_time": "2023-04-10T16:38:24.397Z"
   },
   {
    "duration": 208,
    "start_time": "2023-04-10T16:38:24.592Z"
   },
   {
    "duration": 80,
    "start_time": "2023-04-10T16:38:24.802Z"
   },
   {
    "duration": 84,
    "start_time": "2023-04-10T16:38:24.884Z"
   },
   {
    "duration": 70,
    "start_time": "2023-04-10T16:38:24.969Z"
   },
   {
    "duration": 86,
    "start_time": "2023-04-10T16:38:25.041Z"
   },
   {
    "duration": 66,
    "start_time": "2023-04-10T16:38:25.129Z"
   },
   {
    "duration": 18,
    "start_time": "2023-04-10T16:38:25.197Z"
   },
   {
    "duration": 378,
    "start_time": "2023-04-10T16:38:25.217Z"
   },
   {
    "duration": 8,
    "start_time": "2023-04-10T16:38:25.597Z"
   },
   {
    "duration": 34,
    "start_time": "2023-04-10T16:38:25.606Z"
   },
   {
    "duration": 21,
    "start_time": "2023-04-10T16:38:25.642Z"
   },
   {
    "duration": 20,
    "start_time": "2023-04-10T16:38:25.664Z"
   },
   {
    "duration": 19,
    "start_time": "2023-04-10T16:38:25.686Z"
   },
   {
    "duration": 221,
    "start_time": "2023-04-10T16:38:25.707Z"
   },
   {
    "duration": 215,
    "start_time": "2023-04-10T16:38:25.929Z"
   },
   {
    "duration": 9,
    "start_time": "2023-04-10T16:38:26.145Z"
   },
   {
    "duration": 29,
    "start_time": "2023-04-10T16:38:26.158Z"
   },
   {
    "duration": 21,
    "start_time": "2023-04-10T16:38:26.189Z"
   },
   {
    "duration": 85,
    "start_time": "2023-04-10T16:38:26.211Z"
   },
   {
    "duration": 138,
    "start_time": "2023-04-10T16:38:26.297Z"
   },
   {
    "duration": 199,
    "start_time": "2023-04-10T16:38:26.437Z"
   },
   {
    "duration": 0,
    "start_time": "2023-04-10T16:38:26.638Z"
   },
   {
    "duration": 0,
    "start_time": "2023-04-10T16:38:26.639Z"
   },
   {
    "duration": 0,
    "start_time": "2023-04-10T16:38:26.641Z"
   },
   {
    "duration": 0,
    "start_time": "2023-04-10T16:38:26.642Z"
   },
   {
    "duration": 0,
    "start_time": "2023-04-10T16:38:26.643Z"
   },
   {
    "duration": 0,
    "start_time": "2023-04-10T16:38:26.644Z"
   },
   {
    "duration": 0,
    "start_time": "2023-04-10T16:38:26.645Z"
   },
   {
    "duration": 0,
    "start_time": "2023-04-10T16:38:26.646Z"
   },
   {
    "duration": 0,
    "start_time": "2023-04-10T16:38:26.647Z"
   },
   {
    "duration": 0,
    "start_time": "2023-04-10T16:38:26.648Z"
   },
   {
    "duration": 0,
    "start_time": "2023-04-10T16:38:26.650Z"
   },
   {
    "duration": 0,
    "start_time": "2023-04-10T16:38:26.651Z"
   },
   {
    "duration": 0,
    "start_time": "2023-04-10T16:38:26.652Z"
   },
   {
    "duration": 0,
    "start_time": "2023-04-10T16:38:26.653Z"
   },
   {
    "duration": 0,
    "start_time": "2023-04-10T16:38:26.655Z"
   },
   {
    "duration": 0,
    "start_time": "2023-04-10T16:38:26.656Z"
   },
   {
    "duration": 0,
    "start_time": "2023-04-10T16:38:26.657Z"
   },
   {
    "duration": 0,
    "start_time": "2023-04-10T16:38:26.658Z"
   },
   {
    "duration": 0,
    "start_time": "2023-04-10T16:38:26.659Z"
   },
   {
    "duration": 0,
    "start_time": "2023-04-10T16:38:26.661Z"
   },
   {
    "duration": 1,
    "start_time": "2023-04-10T16:38:26.661Z"
   },
   {
    "duration": 0,
    "start_time": "2023-04-10T16:38:26.662Z"
   },
   {
    "duration": 0,
    "start_time": "2023-04-10T16:38:26.663Z"
   },
   {
    "duration": 0,
    "start_time": "2023-04-10T16:38:26.664Z"
   },
   {
    "duration": 0,
    "start_time": "2023-04-10T16:38:26.665Z"
   },
   {
    "duration": 0,
    "start_time": "2023-04-10T16:38:26.666Z"
   },
   {
    "duration": 72,
    "start_time": "2023-04-10T19:08:50.179Z"
   },
   {
    "duration": 12,
    "start_time": "2023-04-10T19:09:14.799Z"
   },
   {
    "duration": 707,
    "start_time": "2023-04-10T19:09:48.182Z"
   },
   {
    "duration": 5,
    "start_time": "2023-04-10T19:28:25.944Z"
   },
   {
    "duration": 8769,
    "start_time": "2023-04-10T19:28:30.562Z"
   },
   {
    "duration": 65698,
    "start_time": "2023-04-10T19:43:18.540Z"
   },
   {
    "duration": 8730,
    "start_time": "2023-04-10T20:02:33.627Z"
   },
   {
    "duration": 4,
    "start_time": "2023-04-10T20:04:51.182Z"
   },
   {
    "duration": 54,
    "start_time": "2023-04-10T20:10:20.794Z"
   },
   {
    "duration": 6881,
    "start_time": "2023-04-10T20:10:22.605Z"
   },
   {
    "duration": 3314,
    "start_time": "2023-04-10T20:19:27.832Z"
   },
   {
    "duration": 88,
    "start_time": "2023-04-10T20:23:48.388Z"
   },
   {
    "duration": 6926,
    "start_time": "2023-04-10T20:23:58.297Z"
   },
   {
    "duration": 2813,
    "start_time": "2023-04-10T20:24:56.345Z"
   },
   {
    "duration": 61,
    "start_time": "2023-04-10T20:26:12.473Z"
   },
   {
    "duration": 3537,
    "start_time": "2023-04-10T20:26:14.283Z"
   },
   {
    "duration": 9,
    "start_time": "2023-04-10T20:28:30.818Z"
   },
   {
    "duration": 53813,
    "start_time": "2023-04-10T20:29:48.923Z"
   },
   {
    "duration": 200,
    "start_time": "2023-04-10T20:30:54.851Z"
   },
   {
    "duration": 9,
    "start_time": "2023-04-10T20:31:51.939Z"
   },
   {
    "duration": 4,
    "start_time": "2023-04-10T20:31:59.507Z"
   },
   {
    "duration": 82,
    "start_time": "2023-04-10T20:32:03.163Z"
   },
   {
    "duration": 314,
    "start_time": "2023-04-10T20:32:39.509Z"
   },
   {
    "duration": 50,
    "start_time": "2023-04-10T20:32:51.011Z"
   },
   {
    "duration": 340,
    "start_time": "2023-04-10T20:32:54.659Z"
   },
   {
    "duration": 306,
    "start_time": "2023-04-10T20:33:53.212Z"
   },
   {
    "duration": 256,
    "start_time": "2023-04-10T20:35:52.566Z"
   },
   {
    "duration": 38093,
    "start_time": "2023-04-10T20:36:18.646Z"
   },
   {
    "duration": 57005,
    "start_time": "2023-04-10T20:37:06.741Z"
   },
   {
    "duration": 108,
    "start_time": "2023-04-10T20:41:29.213Z"
   },
   {
    "duration": 92,
    "start_time": "2023-04-10T20:45:15.775Z"
   },
   {
    "duration": 103,
    "start_time": "2023-04-10T20:45:50.655Z"
   },
   {
    "duration": 16,
    "start_time": "2023-04-10T20:56:10.810Z"
   },
   {
    "duration": 21,
    "start_time": "2023-04-10T20:56:40.593Z"
   },
   {
    "duration": 10,
    "start_time": "2023-04-10T20:57:22.721Z"
   },
   {
    "duration": 2,
    "start_time": "2023-04-10T20:58:40.090Z"
   },
   {
    "duration": 21,
    "start_time": "2023-04-10T20:58:42.354Z"
   },
   {
    "duration": 21,
    "start_time": "2023-04-10T20:59:02.235Z"
   },
   {
    "duration": 227955,
    "start_time": "2023-04-10T21:03:35.884Z"
   },
   {
    "duration": 3389,
    "start_time": "2023-04-10T21:24:48.657Z"
   },
   {
    "duration": 10,
    "start_time": "2023-04-10T21:33:01.267Z"
   },
   {
    "duration": 10,
    "start_time": "2023-04-10T21:36:25.499Z"
   },
   {
    "duration": 2097,
    "start_time": "2023-04-10T21:40:20.308Z"
   },
   {
    "duration": 2,
    "start_time": "2023-04-10T21:43:09.437Z"
   },
   {
    "duration": 87826,
    "start_time": "2023-04-10T21:43:11.149Z"
   },
   {
    "duration": 79838,
    "start_time": "2023-04-10T21:47:40.134Z"
   },
   {
    "duration": 43868,
    "start_time": "2023-04-10T22:00:28.362Z"
   },
   {
    "duration": 11422,
    "start_time": "2023-04-10T22:03:22.932Z"
   },
   {
    "duration": 103163,
    "start_time": "2023-04-10T22:04:31.291Z"
   },
   {
    "duration": 1352,
    "start_time": "2023-04-10T22:10:18.937Z"
   },
   {
    "duration": 3,
    "start_time": "2023-04-10T22:10:20.291Z"
   },
   {
    "duration": 65,
    "start_time": "2023-04-10T22:10:20.295Z"
   },
   {
    "duration": 806,
    "start_time": "2023-04-10T22:10:20.362Z"
   },
   {
    "duration": 20,
    "start_time": "2023-04-10T22:10:21.170Z"
   },
   {
    "duration": 71,
    "start_time": "2023-04-10T22:10:21.192Z"
   },
   {
    "duration": 140,
    "start_time": "2023-04-10T22:10:21.265Z"
   },
   {
    "duration": 93,
    "start_time": "2023-04-10T22:10:21.407Z"
   },
   {
    "duration": 4,
    "start_time": "2023-04-10T22:10:21.502Z"
   },
   {
    "duration": 174,
    "start_time": "2023-04-10T22:10:21.508Z"
   },
   {
    "duration": 161,
    "start_time": "2023-04-10T22:10:21.684Z"
   },
   {
    "duration": 173,
    "start_time": "2023-04-10T22:10:21.846Z"
   },
   {
    "duration": 70,
    "start_time": "2023-04-10T22:10:22.021Z"
   },
   {
    "duration": 73,
    "start_time": "2023-04-10T22:10:22.092Z"
   },
   {
    "duration": 74,
    "start_time": "2023-04-10T22:10:22.167Z"
   },
   {
    "duration": 76,
    "start_time": "2023-04-10T22:10:22.243Z"
   },
   {
    "duration": 47,
    "start_time": "2023-04-10T22:10:22.335Z"
   },
   {
    "duration": 18,
    "start_time": "2023-04-10T22:10:22.384Z"
   },
   {
    "duration": 394,
    "start_time": "2023-04-10T22:10:22.404Z"
   },
   {
    "duration": 7,
    "start_time": "2023-04-10T22:10:22.800Z"
   },
   {
    "duration": 39,
    "start_time": "2023-04-10T22:10:22.808Z"
   },
   {
    "duration": 20,
    "start_time": "2023-04-10T22:10:22.851Z"
   },
   {
    "duration": 18,
    "start_time": "2023-04-10T22:10:22.873Z"
   },
   {
    "duration": 3,
    "start_time": "2023-04-10T22:10:22.893Z"
   },
   {
    "duration": 204,
    "start_time": "2023-04-10T22:10:22.897Z"
   },
   {
    "duration": 218,
    "start_time": "2023-04-10T22:10:23.103Z"
   },
   {
    "duration": 13,
    "start_time": "2023-04-10T22:10:23.322Z"
   },
   {
    "duration": 22,
    "start_time": "2023-04-10T22:10:23.338Z"
   },
   {
    "duration": 17,
    "start_time": "2023-04-10T22:10:23.362Z"
   },
   {
    "duration": 78,
    "start_time": "2023-04-10T22:10:23.380Z"
   },
   {
    "duration": 47,
    "start_time": "2023-04-10T22:10:23.459Z"
   },
   {
    "duration": 83,
    "start_time": "2023-04-10T22:10:23.508Z"
   },
   {
    "duration": 13,
    "start_time": "2023-04-10T22:10:23.593Z"
   },
   {
    "duration": 819,
    "start_time": "2023-04-10T22:10:23.607Z"
   },
   {
    "duration": 8,
    "start_time": "2023-04-10T22:10:24.428Z"
   },
   {
    "duration": 9278,
    "start_time": "2023-04-10T22:10:24.437Z"
   },
   {
    "duration": 66571,
    "start_time": "2023-04-10T22:10:33.716Z"
   },
   {
    "duration": 232450,
    "start_time": "2023-04-10T22:11:40.289Z"
   },
   {
    "duration": 116,
    "start_time": "2023-04-10T22:15:32.740Z"
   },
   {
    "duration": 8933,
    "start_time": "2023-04-10T22:22:43.166Z"
   },
   {
    "duration": 8,
    "start_time": "2023-04-10T22:34:06.547Z"
   },
   {
    "duration": 9,
    "start_time": "2023-04-10T22:34:19.026Z"
   },
   {
    "duration": 3,
    "start_time": "2023-04-10T22:38:22.923Z"
   },
   {
    "duration": 17,
    "start_time": "2023-04-10T22:39:15.306Z"
   },
   {
    "duration": 14,
    "start_time": "2023-04-10T22:39:41.643Z"
   },
   {
    "duration": 115,
    "start_time": "2023-04-10T22:45:30.165Z"
   },
   {
    "duration": 2152,
    "start_time": "2023-04-11T18:55:04.100Z"
   },
   {
    "duration": 3,
    "start_time": "2023-04-11T18:55:06.255Z"
   },
   {
    "duration": 95,
    "start_time": "2023-04-11T18:55:06.259Z"
   },
   {
    "duration": 3038,
    "start_time": "2023-04-11T18:55:06.356Z"
   },
   {
    "duration": 19,
    "start_time": "2023-04-11T18:55:09.397Z"
   },
   {
    "duration": 49,
    "start_time": "2023-04-11T18:55:09.418Z"
   },
   {
    "duration": 150,
    "start_time": "2023-04-11T18:55:09.469Z"
   },
   {
    "duration": 117,
    "start_time": "2023-04-11T18:55:09.621Z"
   },
   {
    "duration": 5,
    "start_time": "2023-04-11T18:55:09.740Z"
   },
   {
    "duration": 194,
    "start_time": "2023-04-11T18:55:09.747Z"
   },
   {
    "duration": 191,
    "start_time": "2023-04-11T18:55:09.943Z"
   },
   {
    "duration": 201,
    "start_time": "2023-04-11T18:55:10.136Z"
   },
   {
    "duration": 76,
    "start_time": "2023-04-11T18:55:10.339Z"
   },
   {
    "duration": 89,
    "start_time": "2023-04-11T18:55:10.420Z"
   },
   {
    "duration": 91,
    "start_time": "2023-04-11T18:55:10.511Z"
   },
   {
    "duration": 98,
    "start_time": "2023-04-11T18:55:10.604Z"
   },
   {
    "duration": 69,
    "start_time": "2023-04-11T18:55:10.704Z"
   },
   {
    "duration": 27,
    "start_time": "2023-04-11T18:55:10.775Z"
   },
   {
    "duration": 449,
    "start_time": "2023-04-11T18:55:10.803Z"
   },
   {
    "duration": 8,
    "start_time": "2023-04-11T18:55:11.254Z"
   },
   {
    "duration": 25,
    "start_time": "2023-04-11T18:55:11.264Z"
   },
   {
    "duration": 43,
    "start_time": "2023-04-11T18:55:11.291Z"
   },
   {
    "duration": 22,
    "start_time": "2023-04-11T18:55:11.336Z"
   },
   {
    "duration": 4,
    "start_time": "2023-04-11T18:55:11.359Z"
   },
   {
    "duration": 248,
    "start_time": "2023-04-11T18:55:11.365Z"
   },
   {
    "duration": 267,
    "start_time": "2023-04-11T18:55:11.614Z"
   },
   {
    "duration": 10,
    "start_time": "2023-04-11T18:55:11.883Z"
   },
   {
    "duration": 39,
    "start_time": "2023-04-11T18:55:11.894Z"
   },
   {
    "duration": 20,
    "start_time": "2023-04-11T18:55:11.935Z"
   },
   {
    "duration": 86,
    "start_time": "2023-04-11T18:55:11.957Z"
   },
   {
    "duration": 54,
    "start_time": "2023-04-11T18:55:12.045Z"
   },
   {
    "duration": 98,
    "start_time": "2023-04-11T18:55:12.102Z"
   },
   {
    "duration": 14,
    "start_time": "2023-04-11T18:55:12.201Z"
   },
   {
    "duration": 942,
    "start_time": "2023-04-11T18:55:12.217Z"
   },
   {
    "duration": 7,
    "start_time": "2023-04-11T18:55:13.161Z"
   },
   {
    "duration": 11387,
    "start_time": "2023-04-11T18:55:13.170Z"
   },
   {
    "duration": 82664,
    "start_time": "2023-04-11T18:55:24.559Z"
   },
   {
    "duration": 288513,
    "start_time": "2023-04-11T18:56:47.224Z"
   },
   {
    "duration": 616,
    "start_time": "2023-04-11T19:01:35.739Z"
   },
   {
    "duration": 2925,
    "start_time": "2023-04-11T19:04:07.798Z"
   },
   {
    "duration": 1988,
    "start_time": "2023-04-11T19:15:57.257Z"
   },
   {
    "duration": 2167,
    "start_time": "2023-04-12T12:52:02.956Z"
   },
   {
    "duration": 3,
    "start_time": "2023-04-12T12:52:05.125Z"
   },
   {
    "duration": 72,
    "start_time": "2023-04-12T12:52:05.130Z"
   },
   {
    "duration": 2748,
    "start_time": "2023-04-12T12:52:15.531Z"
   },
   {
    "duration": 15,
    "start_time": "2023-04-12T12:52:18.280Z"
   }
  ],
  "kernelspec": {
   "display_name": "Python 3 (ipykernel)",
   "language": "python",
   "name": "python3"
  },
  "language_info": {
   "codemirror_mode": {
    "name": "ipython",
    "version": 3
   },
   "file_extension": ".py",
   "mimetype": "text/x-python",
   "name": "python",
   "nbconvert_exporter": "python",
   "pygments_lexer": "ipython3",
   "version": "3.9.5"
  },
  "toc": {
   "base_numbering": 1,
   "nav_menu": {},
   "number_sections": true,
   "sideBar": true,
   "skip_h1_title": true,
   "title_cell": "Table of Contents",
   "title_sidebar": "Contents",
   "toc_cell": false,
   "toc_position": {},
   "toc_section_display": true,
   "toc_window_display": false
  }
 },
 "nbformat": 4,
 "nbformat_minor": 2
}
