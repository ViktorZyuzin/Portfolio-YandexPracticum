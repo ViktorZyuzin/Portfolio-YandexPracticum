{
 "cells": [
  {
   "cell_type": "markdown",
   "metadata": {},
   "source": [
    "# Исследование объявлений о продаже квартир\n",
    "\n",
    "В вашем распоряжении данные сервиса Яндекс.Недвижимость — архив объявлений о продаже квартир в Санкт-Петербурге и соседних населённых пунктов за несколько лет. Нужно научиться определять рыночную стоимость объектов недвижимости. Ваша задача — установить параметры. Это позволит построить автоматизированную систему: она отследит аномалии и мошенническую деятельность. \n",
    "\n",
    "По каждой квартире на продажу доступны два вида данных. Первые вписаны пользователем, вторые — получены автоматически на основе картографических данных. Например, расстояние до центра, аэропорта, ближайшего парка и водоёма. "
   ]
  },
  {
   "cell_type": "markdown",
   "metadata": {},
   "source": [
    "### Откройте файл с данными и изучите общую информацию. "
   ]
  },
  {
   "cell_type": "code",
   "execution_count": 1,
   "metadata": {
    "scrolled": false
   },
   "outputs": [],
   "source": [
    "import pandas as pd\n",
    "import numpy as np\n",
    "data = pd.read_csv('/datasets/real_estate_data.csv', sep='\\t')"
   ]
  },
  {
   "cell_type": "code",
   "execution_count": 2,
   "metadata": {},
   "outputs": [
    {
     "name": "stdout",
     "output_type": "stream",
     "text": [
      "<class 'pandas.core.frame.DataFrame'>\n",
      "RangeIndex: 23699 entries, 0 to 23698\n",
      "Data columns (total 22 columns):\n",
      " #   Column                Non-Null Count  Dtype  \n",
      "---  ------                --------------  -----  \n",
      " 0   total_images          23699 non-null  int64  \n",
      " 1   last_price            23699 non-null  float64\n",
      " 2   total_area            23699 non-null  float64\n",
      " 3   first_day_exposition  23699 non-null  object \n",
      " 4   rooms                 23699 non-null  int64  \n",
      " 5   ceiling_height        14504 non-null  float64\n",
      " 6   floors_total          23613 non-null  float64\n",
      " 7   living_area           21796 non-null  float64\n",
      " 8   floor                 23699 non-null  int64  \n",
      " 9   is_apartment          2775 non-null   object \n",
      " 10  studio                23699 non-null  bool   \n",
      " 11  open_plan             23699 non-null  bool   \n",
      " 12  kitchen_area          21421 non-null  float64\n",
      " 13  balcony               12180 non-null  float64\n",
      " 14  locality_name         23650 non-null  object \n",
      " 15  airports_nearest      18157 non-null  float64\n",
      " 16  cityCenters_nearest   18180 non-null  float64\n",
      " 17  parks_around3000      18181 non-null  float64\n",
      " 18  parks_nearest         8079 non-null   float64\n",
      " 19  ponds_around3000      18181 non-null  float64\n",
      " 20  ponds_nearest         9110 non-null   float64\n",
      " 21  days_exposition       20518 non-null  float64\n",
      "dtypes: bool(2), float64(14), int64(3), object(3)\n",
      "memory usage: 3.7+ MB\n"
     ]
    }
   ],
   "source": [
    "data.info()"
   ]
  },
  {
   "cell_type": "code",
   "execution_count": 3,
   "metadata": {
    "scrolled": true
   },
   "outputs": [
    {
     "data": {
      "text/html": [
       "<div>\n",
       "<style scoped>\n",
       "    .dataframe tbody tr th:only-of-type {\n",
       "        vertical-align: middle;\n",
       "    }\n",
       "\n",
       "    .dataframe tbody tr th {\n",
       "        vertical-align: top;\n",
       "    }\n",
       "\n",
       "    .dataframe thead th {\n",
       "        text-align: right;\n",
       "    }\n",
       "</style>\n",
       "<table border=\"1\" class=\"dataframe\">\n",
       "  <thead>\n",
       "    <tr style=\"text-align: right;\">\n",
       "      <th></th>\n",
       "      <th>total_images</th>\n",
       "      <th>last_price</th>\n",
       "      <th>total_area</th>\n",
       "      <th>first_day_exposition</th>\n",
       "      <th>rooms</th>\n",
       "      <th>ceiling_height</th>\n",
       "      <th>floors_total</th>\n",
       "      <th>living_area</th>\n",
       "      <th>floor</th>\n",
       "      <th>is_apartment</th>\n",
       "      <th>...</th>\n",
       "      <th>kitchen_area</th>\n",
       "      <th>balcony</th>\n",
       "      <th>locality_name</th>\n",
       "      <th>airports_nearest</th>\n",
       "      <th>cityCenters_nearest</th>\n",
       "      <th>parks_around3000</th>\n",
       "      <th>parks_nearest</th>\n",
       "      <th>ponds_around3000</th>\n",
       "      <th>ponds_nearest</th>\n",
       "      <th>days_exposition</th>\n",
       "    </tr>\n",
       "  </thead>\n",
       "  <tbody>\n",
       "    <tr>\n",
       "      <th>0</th>\n",
       "      <td>20</td>\n",
       "      <td>13000000.0</td>\n",
       "      <td>108.00</td>\n",
       "      <td>2019-03-07T00:00:00</td>\n",
       "      <td>3</td>\n",
       "      <td>2.70</td>\n",
       "      <td>16.0</td>\n",
       "      <td>51.00</td>\n",
       "      <td>8</td>\n",
       "      <td>NaN</td>\n",
       "      <td>...</td>\n",
       "      <td>25.00</td>\n",
       "      <td>NaN</td>\n",
       "      <td>Санкт-Петербург</td>\n",
       "      <td>18863.0</td>\n",
       "      <td>16028.0</td>\n",
       "      <td>1.0</td>\n",
       "      <td>482.0</td>\n",
       "      <td>2.0</td>\n",
       "      <td>755.0</td>\n",
       "      <td>NaN</td>\n",
       "    </tr>\n",
       "    <tr>\n",
       "      <th>1</th>\n",
       "      <td>7</td>\n",
       "      <td>3350000.0</td>\n",
       "      <td>40.40</td>\n",
       "      <td>2018-12-04T00:00:00</td>\n",
       "      <td>1</td>\n",
       "      <td>NaN</td>\n",
       "      <td>11.0</td>\n",
       "      <td>18.60</td>\n",
       "      <td>1</td>\n",
       "      <td>NaN</td>\n",
       "      <td>...</td>\n",
       "      <td>11.00</td>\n",
       "      <td>2.0</td>\n",
       "      <td>посёлок Шушары</td>\n",
       "      <td>12817.0</td>\n",
       "      <td>18603.0</td>\n",
       "      <td>0.0</td>\n",
       "      <td>NaN</td>\n",
       "      <td>0.0</td>\n",
       "      <td>NaN</td>\n",
       "      <td>81.0</td>\n",
       "    </tr>\n",
       "    <tr>\n",
       "      <th>2</th>\n",
       "      <td>10</td>\n",
       "      <td>5196000.0</td>\n",
       "      <td>56.00</td>\n",
       "      <td>2015-08-20T00:00:00</td>\n",
       "      <td>2</td>\n",
       "      <td>NaN</td>\n",
       "      <td>5.0</td>\n",
       "      <td>34.30</td>\n",
       "      <td>4</td>\n",
       "      <td>NaN</td>\n",
       "      <td>...</td>\n",
       "      <td>8.30</td>\n",
       "      <td>0.0</td>\n",
       "      <td>Санкт-Петербург</td>\n",
       "      <td>21741.0</td>\n",
       "      <td>13933.0</td>\n",
       "      <td>1.0</td>\n",
       "      <td>90.0</td>\n",
       "      <td>2.0</td>\n",
       "      <td>574.0</td>\n",
       "      <td>558.0</td>\n",
       "    </tr>\n",
       "    <tr>\n",
       "      <th>3</th>\n",
       "      <td>0</td>\n",
       "      <td>64900000.0</td>\n",
       "      <td>159.00</td>\n",
       "      <td>2015-07-24T00:00:00</td>\n",
       "      <td>3</td>\n",
       "      <td>NaN</td>\n",
       "      <td>14.0</td>\n",
       "      <td>NaN</td>\n",
       "      <td>9</td>\n",
       "      <td>NaN</td>\n",
       "      <td>...</td>\n",
       "      <td>NaN</td>\n",
       "      <td>0.0</td>\n",
       "      <td>Санкт-Петербург</td>\n",
       "      <td>28098.0</td>\n",
       "      <td>6800.0</td>\n",
       "      <td>2.0</td>\n",
       "      <td>84.0</td>\n",
       "      <td>3.0</td>\n",
       "      <td>234.0</td>\n",
       "      <td>424.0</td>\n",
       "    </tr>\n",
       "    <tr>\n",
       "      <th>4</th>\n",
       "      <td>2</td>\n",
       "      <td>10000000.0</td>\n",
       "      <td>100.00</td>\n",
       "      <td>2018-06-19T00:00:00</td>\n",
       "      <td>2</td>\n",
       "      <td>3.03</td>\n",
       "      <td>14.0</td>\n",
       "      <td>32.00</td>\n",
       "      <td>13</td>\n",
       "      <td>NaN</td>\n",
       "      <td>...</td>\n",
       "      <td>41.00</td>\n",
       "      <td>NaN</td>\n",
       "      <td>Санкт-Петербург</td>\n",
       "      <td>31856.0</td>\n",
       "      <td>8098.0</td>\n",
       "      <td>2.0</td>\n",
       "      <td>112.0</td>\n",
       "      <td>1.0</td>\n",
       "      <td>48.0</td>\n",
       "      <td>121.0</td>\n",
       "    </tr>\n",
       "    <tr>\n",
       "      <th>5</th>\n",
       "      <td>10</td>\n",
       "      <td>2890000.0</td>\n",
       "      <td>30.40</td>\n",
       "      <td>2018-09-10T00:00:00</td>\n",
       "      <td>1</td>\n",
       "      <td>NaN</td>\n",
       "      <td>12.0</td>\n",
       "      <td>14.40</td>\n",
       "      <td>5</td>\n",
       "      <td>NaN</td>\n",
       "      <td>...</td>\n",
       "      <td>9.10</td>\n",
       "      <td>NaN</td>\n",
       "      <td>городской посёлок Янино-1</td>\n",
       "      <td>NaN</td>\n",
       "      <td>NaN</td>\n",
       "      <td>NaN</td>\n",
       "      <td>NaN</td>\n",
       "      <td>NaN</td>\n",
       "      <td>NaN</td>\n",
       "      <td>55.0</td>\n",
       "    </tr>\n",
       "    <tr>\n",
       "      <th>6</th>\n",
       "      <td>6</td>\n",
       "      <td>3700000.0</td>\n",
       "      <td>37.30</td>\n",
       "      <td>2017-11-02T00:00:00</td>\n",
       "      <td>1</td>\n",
       "      <td>NaN</td>\n",
       "      <td>26.0</td>\n",
       "      <td>10.60</td>\n",
       "      <td>6</td>\n",
       "      <td>NaN</td>\n",
       "      <td>...</td>\n",
       "      <td>14.40</td>\n",
       "      <td>1.0</td>\n",
       "      <td>посёлок Парголово</td>\n",
       "      <td>52996.0</td>\n",
       "      <td>19143.0</td>\n",
       "      <td>0.0</td>\n",
       "      <td>NaN</td>\n",
       "      <td>0.0</td>\n",
       "      <td>NaN</td>\n",
       "      <td>155.0</td>\n",
       "    </tr>\n",
       "    <tr>\n",
       "      <th>7</th>\n",
       "      <td>5</td>\n",
       "      <td>7915000.0</td>\n",
       "      <td>71.60</td>\n",
       "      <td>2019-04-18T00:00:00</td>\n",
       "      <td>2</td>\n",
       "      <td>NaN</td>\n",
       "      <td>24.0</td>\n",
       "      <td>NaN</td>\n",
       "      <td>22</td>\n",
       "      <td>NaN</td>\n",
       "      <td>...</td>\n",
       "      <td>18.90</td>\n",
       "      <td>2.0</td>\n",
       "      <td>Санкт-Петербург</td>\n",
       "      <td>23982.0</td>\n",
       "      <td>11634.0</td>\n",
       "      <td>0.0</td>\n",
       "      <td>NaN</td>\n",
       "      <td>0.0</td>\n",
       "      <td>NaN</td>\n",
       "      <td>NaN</td>\n",
       "    </tr>\n",
       "    <tr>\n",
       "      <th>8</th>\n",
       "      <td>20</td>\n",
       "      <td>2900000.0</td>\n",
       "      <td>33.16</td>\n",
       "      <td>2018-05-23T00:00:00</td>\n",
       "      <td>1</td>\n",
       "      <td>NaN</td>\n",
       "      <td>27.0</td>\n",
       "      <td>15.43</td>\n",
       "      <td>26</td>\n",
       "      <td>NaN</td>\n",
       "      <td>...</td>\n",
       "      <td>8.81</td>\n",
       "      <td>NaN</td>\n",
       "      <td>посёлок Мурино</td>\n",
       "      <td>NaN</td>\n",
       "      <td>NaN</td>\n",
       "      <td>NaN</td>\n",
       "      <td>NaN</td>\n",
       "      <td>NaN</td>\n",
       "      <td>NaN</td>\n",
       "      <td>189.0</td>\n",
       "    </tr>\n",
       "    <tr>\n",
       "      <th>9</th>\n",
       "      <td>18</td>\n",
       "      <td>5400000.0</td>\n",
       "      <td>61.00</td>\n",
       "      <td>2017-02-26T00:00:00</td>\n",
       "      <td>3</td>\n",
       "      <td>2.50</td>\n",
       "      <td>9.0</td>\n",
       "      <td>43.60</td>\n",
       "      <td>7</td>\n",
       "      <td>NaN</td>\n",
       "      <td>...</td>\n",
       "      <td>6.50</td>\n",
       "      <td>2.0</td>\n",
       "      <td>Санкт-Петербург</td>\n",
       "      <td>50898.0</td>\n",
       "      <td>15008.0</td>\n",
       "      <td>0.0</td>\n",
       "      <td>NaN</td>\n",
       "      <td>0.0</td>\n",
       "      <td>NaN</td>\n",
       "      <td>289.0</td>\n",
       "    </tr>\n",
       "    <tr>\n",
       "      <th>10</th>\n",
       "      <td>5</td>\n",
       "      <td>5050000.0</td>\n",
       "      <td>39.60</td>\n",
       "      <td>2017-11-16T00:00:00</td>\n",
       "      <td>1</td>\n",
       "      <td>2.67</td>\n",
       "      <td>12.0</td>\n",
       "      <td>20.30</td>\n",
       "      <td>3</td>\n",
       "      <td>NaN</td>\n",
       "      <td>...</td>\n",
       "      <td>8.50</td>\n",
       "      <td>NaN</td>\n",
       "      <td>Санкт-Петербург</td>\n",
       "      <td>38357.0</td>\n",
       "      <td>13878.0</td>\n",
       "      <td>1.0</td>\n",
       "      <td>310.0</td>\n",
       "      <td>2.0</td>\n",
       "      <td>553.0</td>\n",
       "      <td>137.0</td>\n",
       "    </tr>\n",
       "    <tr>\n",
       "      <th>11</th>\n",
       "      <td>9</td>\n",
       "      <td>3300000.0</td>\n",
       "      <td>44.00</td>\n",
       "      <td>2018-08-27T00:00:00</td>\n",
       "      <td>2</td>\n",
       "      <td>NaN</td>\n",
       "      <td>5.0</td>\n",
       "      <td>31.00</td>\n",
       "      <td>4</td>\n",
       "      <td>False</td>\n",
       "      <td>...</td>\n",
       "      <td>6.00</td>\n",
       "      <td>1.0</td>\n",
       "      <td>Ломоносов</td>\n",
       "      <td>48252.0</td>\n",
       "      <td>51677.0</td>\n",
       "      <td>0.0</td>\n",
       "      <td>NaN</td>\n",
       "      <td>0.0</td>\n",
       "      <td>NaN</td>\n",
       "      <td>7.0</td>\n",
       "    </tr>\n",
       "    <tr>\n",
       "      <th>12</th>\n",
       "      <td>10</td>\n",
       "      <td>3890000.0</td>\n",
       "      <td>54.00</td>\n",
       "      <td>2016-06-30T00:00:00</td>\n",
       "      <td>2</td>\n",
       "      <td>NaN</td>\n",
       "      <td>5.0</td>\n",
       "      <td>30.00</td>\n",
       "      <td>5</td>\n",
       "      <td>NaN</td>\n",
       "      <td>...</td>\n",
       "      <td>9.00</td>\n",
       "      <td>0.0</td>\n",
       "      <td>Сертолово</td>\n",
       "      <td>NaN</td>\n",
       "      <td>NaN</td>\n",
       "      <td>NaN</td>\n",
       "      <td>NaN</td>\n",
       "      <td>NaN</td>\n",
       "      <td>NaN</td>\n",
       "      <td>90.0</td>\n",
       "    </tr>\n",
       "    <tr>\n",
       "      <th>13</th>\n",
       "      <td>20</td>\n",
       "      <td>3550000.0</td>\n",
       "      <td>42.80</td>\n",
       "      <td>2017-07-01T00:00:00</td>\n",
       "      <td>2</td>\n",
       "      <td>2.56</td>\n",
       "      <td>5.0</td>\n",
       "      <td>27.00</td>\n",
       "      <td>5</td>\n",
       "      <td>NaN</td>\n",
       "      <td>...</td>\n",
       "      <td>5.20</td>\n",
       "      <td>1.0</td>\n",
       "      <td>Петергоф</td>\n",
       "      <td>37868.0</td>\n",
       "      <td>33058.0</td>\n",
       "      <td>1.0</td>\n",
       "      <td>294.0</td>\n",
       "      <td>3.0</td>\n",
       "      <td>298.0</td>\n",
       "      <td>366.0</td>\n",
       "    </tr>\n",
       "    <tr>\n",
       "      <th>14</th>\n",
       "      <td>1</td>\n",
       "      <td>4400000.0</td>\n",
       "      <td>36.00</td>\n",
       "      <td>2016-06-23T00:00:00</td>\n",
       "      <td>1</td>\n",
       "      <td>NaN</td>\n",
       "      <td>6.0</td>\n",
       "      <td>17.00</td>\n",
       "      <td>1</td>\n",
       "      <td>NaN</td>\n",
       "      <td>...</td>\n",
       "      <td>8.00</td>\n",
       "      <td>0.0</td>\n",
       "      <td>Пушкин</td>\n",
       "      <td>20782.0</td>\n",
       "      <td>30759.0</td>\n",
       "      <td>0.0</td>\n",
       "      <td>NaN</td>\n",
       "      <td>1.0</td>\n",
       "      <td>96.0</td>\n",
       "      <td>203.0</td>\n",
       "    </tr>\n",
       "    <tr>\n",
       "      <th>15</th>\n",
       "      <td>16</td>\n",
       "      <td>4650000.0</td>\n",
       "      <td>39.00</td>\n",
       "      <td>2017-11-18T00:00:00</td>\n",
       "      <td>1</td>\n",
       "      <td>NaN</td>\n",
       "      <td>14.0</td>\n",
       "      <td>20.50</td>\n",
       "      <td>5</td>\n",
       "      <td>NaN</td>\n",
       "      <td>...</td>\n",
       "      <td>7.60</td>\n",
       "      <td>1.0</td>\n",
       "      <td>Санкт-Петербург</td>\n",
       "      <td>12900.0</td>\n",
       "      <td>14259.0</td>\n",
       "      <td>1.0</td>\n",
       "      <td>590.0</td>\n",
       "      <td>1.0</td>\n",
       "      <td>296.0</td>\n",
       "      <td>19.0</td>\n",
       "    </tr>\n",
       "    <tr>\n",
       "      <th>16</th>\n",
       "      <td>11</td>\n",
       "      <td>6700000.0</td>\n",
       "      <td>82.00</td>\n",
       "      <td>2017-11-23T00:00:00</td>\n",
       "      <td>3</td>\n",
       "      <td>3.05</td>\n",
       "      <td>5.0</td>\n",
       "      <td>55.60</td>\n",
       "      <td>1</td>\n",
       "      <td>NaN</td>\n",
       "      <td>...</td>\n",
       "      <td>9.00</td>\n",
       "      <td>NaN</td>\n",
       "      <td>Санкт-Петербург</td>\n",
       "      <td>22108.0</td>\n",
       "      <td>10698.0</td>\n",
       "      <td>3.0</td>\n",
       "      <td>420.0</td>\n",
       "      <td>0.0</td>\n",
       "      <td>NaN</td>\n",
       "      <td>397.0</td>\n",
       "    </tr>\n",
       "    <tr>\n",
       "      <th>17</th>\n",
       "      <td>6</td>\n",
       "      <td>4180000.0</td>\n",
       "      <td>36.00</td>\n",
       "      <td>2016-09-09T00:00:00</td>\n",
       "      <td>1</td>\n",
       "      <td>NaN</td>\n",
       "      <td>17.0</td>\n",
       "      <td>16.50</td>\n",
       "      <td>7</td>\n",
       "      <td>NaN</td>\n",
       "      <td>...</td>\n",
       "      <td>11.00</td>\n",
       "      <td>1.0</td>\n",
       "      <td>Санкт-Петербург</td>\n",
       "      <td>33564.0</td>\n",
       "      <td>14616.0</td>\n",
       "      <td>0.0</td>\n",
       "      <td>NaN</td>\n",
       "      <td>1.0</td>\n",
       "      <td>859.0</td>\n",
       "      <td>571.0</td>\n",
       "    </tr>\n",
       "    <tr>\n",
       "      <th>18</th>\n",
       "      <td>8</td>\n",
       "      <td>3250000.0</td>\n",
       "      <td>31.00</td>\n",
       "      <td>2017-01-27T00:00:00</td>\n",
       "      <td>1</td>\n",
       "      <td>2.50</td>\n",
       "      <td>5.0</td>\n",
       "      <td>19.40</td>\n",
       "      <td>2</td>\n",
       "      <td>NaN</td>\n",
       "      <td>...</td>\n",
       "      <td>5.60</td>\n",
       "      <td>1.0</td>\n",
       "      <td>Санкт-Петербург</td>\n",
       "      <td>44060.0</td>\n",
       "      <td>10842.0</td>\n",
       "      <td>1.0</td>\n",
       "      <td>759.0</td>\n",
       "      <td>0.0</td>\n",
       "      <td>NaN</td>\n",
       "      <td>168.0</td>\n",
       "    </tr>\n",
       "    <tr>\n",
       "      <th>19</th>\n",
       "      <td>16</td>\n",
       "      <td>14200000.0</td>\n",
       "      <td>121.00</td>\n",
       "      <td>2019-01-09T00:00:00</td>\n",
       "      <td>3</td>\n",
       "      <td>2.75</td>\n",
       "      <td>16.0</td>\n",
       "      <td>76.00</td>\n",
       "      <td>8</td>\n",
       "      <td>NaN</td>\n",
       "      <td>...</td>\n",
       "      <td>12.00</td>\n",
       "      <td>NaN</td>\n",
       "      <td>Санкт-Петербург</td>\n",
       "      <td>38900.0</td>\n",
       "      <td>12843.0</td>\n",
       "      <td>0.0</td>\n",
       "      <td>NaN</td>\n",
       "      <td>0.0</td>\n",
       "      <td>NaN</td>\n",
       "      <td>97.0</td>\n",
       "    </tr>\n",
       "  </tbody>\n",
       "</table>\n",
       "<p>20 rows × 22 columns</p>\n",
       "</div>"
      ],
      "text/plain": [
       "    total_images  last_price  total_area first_day_exposition  rooms  \\\n",
       "0             20  13000000.0      108.00  2019-03-07T00:00:00      3   \n",
       "1              7   3350000.0       40.40  2018-12-04T00:00:00      1   \n",
       "2             10   5196000.0       56.00  2015-08-20T00:00:00      2   \n",
       "3              0  64900000.0      159.00  2015-07-24T00:00:00      3   \n",
       "4              2  10000000.0      100.00  2018-06-19T00:00:00      2   \n",
       "5             10   2890000.0       30.40  2018-09-10T00:00:00      1   \n",
       "6              6   3700000.0       37.30  2017-11-02T00:00:00      1   \n",
       "7              5   7915000.0       71.60  2019-04-18T00:00:00      2   \n",
       "8             20   2900000.0       33.16  2018-05-23T00:00:00      1   \n",
       "9             18   5400000.0       61.00  2017-02-26T00:00:00      3   \n",
       "10             5   5050000.0       39.60  2017-11-16T00:00:00      1   \n",
       "11             9   3300000.0       44.00  2018-08-27T00:00:00      2   \n",
       "12            10   3890000.0       54.00  2016-06-30T00:00:00      2   \n",
       "13            20   3550000.0       42.80  2017-07-01T00:00:00      2   \n",
       "14             1   4400000.0       36.00  2016-06-23T00:00:00      1   \n",
       "15            16   4650000.0       39.00  2017-11-18T00:00:00      1   \n",
       "16            11   6700000.0       82.00  2017-11-23T00:00:00      3   \n",
       "17             6   4180000.0       36.00  2016-09-09T00:00:00      1   \n",
       "18             8   3250000.0       31.00  2017-01-27T00:00:00      1   \n",
       "19            16  14200000.0      121.00  2019-01-09T00:00:00      3   \n",
       "\n",
       "    ceiling_height  floors_total  living_area  floor is_apartment  ...  \\\n",
       "0             2.70          16.0        51.00      8          NaN  ...   \n",
       "1              NaN          11.0        18.60      1          NaN  ...   \n",
       "2              NaN           5.0        34.30      4          NaN  ...   \n",
       "3              NaN          14.0          NaN      9          NaN  ...   \n",
       "4             3.03          14.0        32.00     13          NaN  ...   \n",
       "5              NaN          12.0        14.40      5          NaN  ...   \n",
       "6              NaN          26.0        10.60      6          NaN  ...   \n",
       "7              NaN          24.0          NaN     22          NaN  ...   \n",
       "8              NaN          27.0        15.43     26          NaN  ...   \n",
       "9             2.50           9.0        43.60      7          NaN  ...   \n",
       "10            2.67          12.0        20.30      3          NaN  ...   \n",
       "11             NaN           5.0        31.00      4        False  ...   \n",
       "12             NaN           5.0        30.00      5          NaN  ...   \n",
       "13            2.56           5.0        27.00      5          NaN  ...   \n",
       "14             NaN           6.0        17.00      1          NaN  ...   \n",
       "15             NaN          14.0        20.50      5          NaN  ...   \n",
       "16            3.05           5.0        55.60      1          NaN  ...   \n",
       "17             NaN          17.0        16.50      7          NaN  ...   \n",
       "18            2.50           5.0        19.40      2          NaN  ...   \n",
       "19            2.75          16.0        76.00      8          NaN  ...   \n",
       "\n",
       "    kitchen_area  balcony              locality_name  airports_nearest  \\\n",
       "0          25.00      NaN            Санкт-Петербург           18863.0   \n",
       "1          11.00      2.0             посёлок Шушары           12817.0   \n",
       "2           8.30      0.0            Санкт-Петербург           21741.0   \n",
       "3            NaN      0.0            Санкт-Петербург           28098.0   \n",
       "4          41.00      NaN            Санкт-Петербург           31856.0   \n",
       "5           9.10      NaN  городской посёлок Янино-1               NaN   \n",
       "6          14.40      1.0          посёлок Парголово           52996.0   \n",
       "7          18.90      2.0            Санкт-Петербург           23982.0   \n",
       "8           8.81      NaN             посёлок Мурино               NaN   \n",
       "9           6.50      2.0            Санкт-Петербург           50898.0   \n",
       "10          8.50      NaN            Санкт-Петербург           38357.0   \n",
       "11          6.00      1.0                  Ломоносов           48252.0   \n",
       "12          9.00      0.0                  Сертолово               NaN   \n",
       "13          5.20      1.0                   Петергоф           37868.0   \n",
       "14          8.00      0.0                     Пушкин           20782.0   \n",
       "15          7.60      1.0            Санкт-Петербург           12900.0   \n",
       "16          9.00      NaN            Санкт-Петербург           22108.0   \n",
       "17         11.00      1.0            Санкт-Петербург           33564.0   \n",
       "18          5.60      1.0            Санкт-Петербург           44060.0   \n",
       "19         12.00      NaN            Санкт-Петербург           38900.0   \n",
       "\n",
       "   cityCenters_nearest  parks_around3000  parks_nearest  ponds_around3000  \\\n",
       "0              16028.0               1.0          482.0               2.0   \n",
       "1              18603.0               0.0            NaN               0.0   \n",
       "2              13933.0               1.0           90.0               2.0   \n",
       "3               6800.0               2.0           84.0               3.0   \n",
       "4               8098.0               2.0          112.0               1.0   \n",
       "5                  NaN               NaN            NaN               NaN   \n",
       "6              19143.0               0.0            NaN               0.0   \n",
       "7              11634.0               0.0            NaN               0.0   \n",
       "8                  NaN               NaN            NaN               NaN   \n",
       "9              15008.0               0.0            NaN               0.0   \n",
       "10             13878.0               1.0          310.0               2.0   \n",
       "11             51677.0               0.0            NaN               0.0   \n",
       "12                 NaN               NaN            NaN               NaN   \n",
       "13             33058.0               1.0          294.0               3.0   \n",
       "14             30759.0               0.0            NaN               1.0   \n",
       "15             14259.0               1.0          590.0               1.0   \n",
       "16             10698.0               3.0          420.0               0.0   \n",
       "17             14616.0               0.0            NaN               1.0   \n",
       "18             10842.0               1.0          759.0               0.0   \n",
       "19             12843.0               0.0            NaN               0.0   \n",
       "\n",
       "    ponds_nearest  days_exposition  \n",
       "0           755.0              NaN  \n",
       "1             NaN             81.0  \n",
       "2           574.0            558.0  \n",
       "3           234.0            424.0  \n",
       "4            48.0            121.0  \n",
       "5             NaN             55.0  \n",
       "6             NaN            155.0  \n",
       "7             NaN              NaN  \n",
       "8             NaN            189.0  \n",
       "9             NaN            289.0  \n",
       "10          553.0            137.0  \n",
       "11            NaN              7.0  \n",
       "12            NaN             90.0  \n",
       "13          298.0            366.0  \n",
       "14           96.0            203.0  \n",
       "15          296.0             19.0  \n",
       "16            NaN            397.0  \n",
       "17          859.0            571.0  \n",
       "18            NaN            168.0  \n",
       "19            NaN             97.0  \n",
       "\n",
       "[20 rows x 22 columns]"
      ]
     },
     "execution_count": 3,
     "metadata": {},
     "output_type": "execute_result"
    }
   ],
   "source": [
    "data.head(20)"
   ]
  },
  {
   "cell_type": "code",
   "execution_count": 4,
   "metadata": {},
   "outputs": [
    {
     "data": {
      "text/plain": [
       "2.50     3515\n",
       "2.60     1646\n",
       "2.70     1574\n",
       "3.00     1112\n",
       "2.80      993\n",
       "         ... \n",
       "4.25        1\n",
       "3.39        1\n",
       "3.93        1\n",
       "10.30       1\n",
       "4.65        1\n",
       "Name: ceiling_height, Length: 183, dtype: int64"
      ]
     },
     "execution_count": 4,
     "metadata": {},
     "output_type": "execute_result"
    }
   ],
   "source": [
    "data['ceiling_height'].value_counts()\n"
   ]
  },
  {
   "cell_type": "code",
   "execution_count": 5,
   "metadata": {},
   "outputs": [
    {
     "data": {
      "text/plain": [
       "2     3368\n",
       "3     3073\n",
       "1     2917\n",
       "4     2804\n",
       "5     2621\n",
       "6     1305\n",
       "7     1218\n",
       "8     1083\n",
       "9     1051\n",
       "10     687\n",
       "12     526\n",
       "11     523\n",
       "13     379\n",
       "15     343\n",
       "14     337\n",
       "16     315\n",
       "17     227\n",
       "18     178\n",
       "19     147\n",
       "21     125\n",
       "22     113\n",
       "20     110\n",
       "23     100\n",
       "24      63\n",
       "25      46\n",
       "26      24\n",
       "27      10\n",
       "28       1\n",
       "29       1\n",
       "32       1\n",
       "30       1\n",
       "33       1\n",
       "31       1\n",
       "Name: floor, dtype: int64"
      ]
     },
     "execution_count": 5,
     "metadata": {},
     "output_type": "execute_result"
    }
   ],
   "source": [
    "data['floor'].value_counts()\n"
   ]
  },
  {
   "cell_type": "code",
   "execution_count": 6,
   "metadata": {},
   "outputs": [
    {
     "data": {
      "text/plain": [
       "45.00     419\n",
       "42.00     383\n",
       "60.00     347\n",
       "31.00     346\n",
       "44.00     345\n",
       "         ... \n",
       "44.24       1\n",
       "56.85       1\n",
       "37.92       1\n",
       "115.60      1\n",
       "55.06       1\n",
       "Name: total_area, Length: 2182, dtype: int64"
      ]
     },
     "execution_count": 6,
     "metadata": {},
     "output_type": "execute_result"
    }
   ],
   "source": [
    "data['total_area'].value_counts()\n"
   ]
  },
  {
   "cell_type": "code",
   "execution_count": 7,
   "metadata": {},
   "outputs": [
    {
     "data": {
      "text/plain": [
       "1     8047\n",
       "2     7940\n",
       "3     5814\n",
       "4     1180\n",
       "5      326\n",
       "0      197\n",
       "6      105\n",
       "7       59\n",
       "8       12\n",
       "9        8\n",
       "10       3\n",
       "11       2\n",
       "14       2\n",
       "19       1\n",
       "16       1\n",
       "12       1\n",
       "15       1\n",
       "Name: rooms, dtype: int64"
      ]
     },
     "execution_count": 7,
     "metadata": {},
     "output_type": "execute_result"
    }
   ],
   "source": [
    "data['rooms'].value_counts()\n"
   ]
  },
  {
   "cell_type": "code",
   "execution_count": 8,
   "metadata": {},
   "outputs": [
    {
     "data": {
      "text/plain": [
       "4500000.0     342\n",
       "3500000.0     291\n",
       "4000000.0     260\n",
       "4300000.0     260\n",
       "4200000.0     259\n",
       "             ... \n",
       "10430000.0      1\n",
       "9917600.0       1\n",
       "3180500.0       1\n",
       "7297000.0       1\n",
       "4386000.0       1\n",
       "Name: last_price, Length: 2978, dtype: int64"
      ]
     },
     "execution_count": 8,
     "metadata": {},
     "output_type": "execute_result"
    }
   ],
   "source": [
    "data['last_price'].value_counts()"
   ]
  },
  {
   "cell_type": "code",
   "execution_count": 9,
   "metadata": {},
   "outputs": [
    {
     "ename": "NameError",
     "evalue": "name 'plt' is not defined",
     "output_type": "error",
     "traceback": [
      "\u001b[0;31m---------------------------------------------------------------------------\u001b[0m",
      "\u001b[0;31mNameError\u001b[0m                                 Traceback (most recent call last)",
      "\u001b[0;32m/tmp/ipykernel_75/4188789790.py\u001b[0m in \u001b[0;36m<module>\u001b[0;34m\u001b[0m\n\u001b[1;32m      1\u001b[0m \u001b[0mdata\u001b[0m\u001b[0;34m.\u001b[0m\u001b[0mhist\u001b[0m\u001b[0;34m(\u001b[0m\u001b[0mfigsize\u001b[0m\u001b[0;34m=\u001b[0m\u001b[0;34m(\u001b[0m\u001b[0;36m15\u001b[0m\u001b[0;34m,\u001b[0m \u001b[0;36m20\u001b[0m\u001b[0;34m)\u001b[0m\u001b[0;34m)\u001b[0m\u001b[0;34m\u001b[0m\u001b[0;34m\u001b[0m\u001b[0m\n\u001b[0;32m----> 2\u001b[0;31m \u001b[0mplt\u001b[0m\u001b[0;34m.\u001b[0m\u001b[0mshow\u001b[0m\u001b[0;34m(\u001b[0m\u001b[0;34m)\u001b[0m\u001b[0;34m\u001b[0m\u001b[0;34m\u001b[0m\u001b[0m\n\u001b[0m",
      "\u001b[0;31mNameError\u001b[0m: name 'plt' is not defined"
     ]
    },
    {
     "data": {
      "image/png": "[encoded data removed]",
      "text/plain": [
       "<Figure size 1080x1440 with 20 Axes>"
      ]
     },
     "metadata": {
      "needs_background": "light"
     },
     "output_type": "display_data"
    }
   ],
   "source": [
    "data.hist(figsize=(15, 20))\n",
    "plt.show()"
   ]
  },
  {
   "cell_type": "markdown",
   "metadata": {},
   "source": [
    "### Предобработка данных"
   ]
  },
  {
   "cell_type": "code",
   "execution_count": null,
   "metadata": {},
   "outputs": [],
   "source": [
    "data.isna().sum()#проверяем количество пропусков в данных"
   ]
  },
  {
   "cell_type": "markdown",
   "metadata": {},
   "source": [
    "**Вывод**\n",
    "В данных очень много пропущенных значений. \n",
    "\n",
    "В столбце, где указана высота потолков, почти половина значений отсутствует. Мы можем заменить пропуски группируя данные по количеству этажей в доме и получить медиану относительно полученных групп. Но вероятнее всего это не корректная информация которая может повлиять на исход исследования.\n",
    "\n",
    "В столбце, где указаны апартаменты, заменим пропуски по аналогии с балконами. Вместо пропусков поставим значение False.\n",
    "\n",
    "Пропуски в столбцах airports_nearest, cityCenters_nearest, parks_around3000, parks_nearest, ponds_around3000, ponds_nearest оставим без изменений, потому что воостановить эти данные слишком сложно.\n",
    "\n"
   ]
  },
  {
   "cell_type": "code",
   "execution_count": null,
   "metadata": {},
   "outputs": [],
   "source": [
    "#переведем столбец с датой в формат даты без времени, потому что во всех значениях время указано 00:00\n",
    "data['first_day_exposition'] = pd.to_datetime(data['first_day_exposition'], format = '%Y-%m-%d')\n",
    "#Заменим пропущенные значения в столбце balcony на 0, скорее всего пропуски это отсутствие балкона в квартире\n",
    "#Так же переведем столбец в тип данных int\n",
    "data['balcony'] = data['balcony'].fillna(0).astype('int')\n",
    "\n",
    "#Заменим пропуски в столбце ceiling_height на медианные значение по всем высотам сгруппированным по количеству этажей в доме.\n",
    "data['ceiling_height'] = data['ceiling_height'].fillna(data.groupby('floors_total')['ceiling_height'].transform('median'))\n",
    "\n",
    "#Остался 1 пропуск заменим его на медианное значение по всем высотам потолков\n",
    "data_ceil_heigh = data['ceiling_height'].median()\n",
    "data['ceiling_height'] = data['ceiling_height'].fillna(data_ceil_heigh)\n",
    "\n",
    "#Так же переведем столбец в тип данных float, и импортировав библиотеку numpy уберем из столбца основные аномальные значения где \n",
    "# высота потолков >= 20м\n",
    "data['ceiling_height'].astype('float')\n",
    "data['ceiling_height'] = np.where(data['ceiling_height'] >= 20, data['ceiling_height'] / 10, data['ceiling_height'] * 1)\n",
    "\n",
    "data['ceiling_height'].unique()"
   ]
  },
  {
   "cell_type": "code",
   "execution_count": null,
   "metadata": {},
   "outputs": [],
   "source": [
    "#В столбце, где указаны апартаменты, заменим пропуски по аналогии с балконами. Вместо пропусков поставим значение False.\n",
    "data['is_apartment'] = data['is_apartment'].fillna(False)"
   ]
  },
  {
   "cell_type": "code",
   "execution_count": null,
   "metadata": {},
   "outputs": [],
   "source": [
    "#заполним пропуски в столбце living area\n",
    "#средняя общая площадь\n",
    "total_area_avg = data['total_area'].mean()\n",
    "#средняя жилая площадь\n",
    "living_area_avg = data['living_area'].mean()\n",
    "#в среднем жилая площадь составляет 57% от общей площади квартиры.\n",
    "living_area_ratio = living_area_avg/total_area_avg\n",
    "#заполняем пропущеные значения по полученым данным\n",
    "data.loc[data['living_area'].isna(), 'living_area'] = data.loc[data['living_area'].isna(), 'total_area'] * 0.57\n",
    "#заменим пропуски в столбце kitchen area\n",
    "for room in data['rooms'].unique():\n",
    "    data.loc[(data['rooms'] == room) & (data['kitchen_area'].isna()), 'kitchen_area'] = data.loc[data['rooms'] == room, 'kitchen_area'].median()"
   ]
  },
  {
   "cell_type": "markdown",
   "metadata": {},
   "source": [
    "оставшиеся пропуски в столбце площадь кухни это те значения где 0 комнат, вероятнее всего их можно не учитывать, по причине того что непонятно в чем ошибка и почему 0 комнат. Можно предположить что 0 комнат это студия где комната и кухня объеденены в 1 комнату. Тогда площадь кухни будет совпадать с жилой площадью квартиры."
   ]
  },
  {
   "cell_type": "code",
   "execution_count": null,
   "metadata": {},
   "outputs": [],
   "source": [
    "#заменим неявные дубликаты в названиях населённых пунктов\n",
    "\n",
    "data['locality_name'] = data['locality_name'].str.replace('посёлок','поселок')\n",
    "data['locality_name'] = data['locality_name'].str.replace('городской поселок', 'ПГТ')\n",
    "data['locality_name'] = data['locality_name'].str.replace('поселок городского типа', 'ПГТ')\n",
    "data['locality_name'] = data['locality_name'].str.replace('деревня', 'село')\n",
    "#data['locality_name'].value_counts()\n",
    "#data['locality_name'].unique()"
   ]
  },
  {
   "cell_type": "markdown",
   "metadata": {},
   "source": [
    "### Посчитайте и добавьте в таблицу новые столбцы"
   ]
  },
  {
   "cell_type": "code",
   "execution_count": null,
   "metadata": {
    "scrolled": true
   },
   "outputs": [],
   "source": [
    "#посчитаем цену квадратного метра\n",
    "data['price_per_square_meter'] = data['last_price'] / data['total_area']\n",
    "\n",
    "#создадим столбец дня недели\n",
    "data['weekday_exposition'] = data['first_day_exposition'].dt.weekday\n",
    "\n",
    "#созддим столбец месяца\n",
    "data['month_exposition'] = data['first_day_exposition'].dt.month\n",
    "\n",
    "#созддадим столбец года\n",
    "data['year_exposition'] = data['first_day_exposition'].dt.year\n",
    "\n",
    "\n",
    "#создадим функцию которая отсортирует данные по этажам\n",
    "def floor_category(row):\n",
    "    floors_total = row['floors_total']\n",
    "    floor = row['floor']\n",
    "    if floor == 1:\n",
    "        return 'первый'\n",
    "    elif floor == floors_total:\n",
    "        return 'последний'\n",
    "    elif 1 < floor < floors_total:\n",
    "        return 'другой'\n",
    "#при помощи  apply() категоризуем этажи с помощью функции     \n",
    "data['floor_category'] = data.apply(floor_category, axis = 1)\n",
    "\n",
    "#добавим столбец соотношения жилой площади к общей\n",
    "data['useful_area_ratio'] = data['living_area'] / data['total_area']\n",
    "\n",
    "#добавим столбец отношения площади кухни к общей\n",
    "data['kitchen_area_ratio'] = data['kitchen_area'] / data['total_area']   \n",
    "\n",
    "#добавим столбец расстояния от жилого помещения до центра города в км\n",
    "data['cityCenters_nearest_in_km'] = data['cityCenters_nearest'] / 1000\n",
    "data['cityCenters_nearest_in_km'] = np.round(data['cityCenters_nearest_in_km'], decimals = 0)\n",
    "\n",
    "data.head(20)"
   ]
  },
  {
   "cell_type": "markdown",
   "metadata": {},
   "source": [
    "### Проведите исследовательский анализ данных"
   ]
  },
  {
   "cell_type": "code",
   "execution_count": null,
   "metadata": {},
   "outputs": [],
   "source": [
    "#построим гистограмму по стролбцу с общей площадью\n",
    "data.plot(y = 'total_area', kind = 'hist', bins = 100, grid=True, figsize = (5,3), range = (0,500))\n",
    "data['total_area'].describe()\n",
    "#распределение данных в норме, есть выбросы, но они не сильно влияют на данные. \n",
    "#с помошью describe получим общие сведения.  "
   ]
  },
  {
   "cell_type": "code",
   "execution_count": null,
   "metadata": {},
   "outputs": [],
   "source": [
    "#построим гистограмму по стролбцу с ценой\n",
    "#data['last_price'] = data['last_price']/1000000\n",
    "data.plot(y = 'last_price', kind = 'hist', bins = 25, grid=True, range = (0, 15000000), figsize = (5,3))\n",
    "data['last_price'].describe()\n",
    "#с помошью describe получим общие сведения.\n",
    "#в целом все хорошо, но значения выводятся в экспоненциальной записи чисел.\n"
   ]
  },
  {
   "cell_type": "code",
   "execution_count": null,
   "metadata": {},
   "outputs": [],
   "source": [
    "#построим гистограмму по стролбцу с количеством комнат\n",
    "data.plot(y = 'rooms', kind = 'hist', bins = 30, grid=True, figsize = (5,3))\n",
    "data['rooms'].describe()\n",
    "#с помошью describe получим общие сведения.\n",
    "#с данными все впорядке"
   ]
  },
  {
   "cell_type": "code",
   "execution_count": null,
   "metadata": {
    "scrolled": true
   },
   "outputs": [],
   "source": [
    "#построим гистограмму по стролбцу с высотами потолков\n",
    "data.plot(y = 'ceiling_height', kind = 'hist', bins = 30, range = (2,5), grid=True, figsize = (5,3))\n",
    "data['ceiling_height'].describe()\n",
    "#с данными все впорядке\n",
    "#с помошью describe получим общие сведения."
   ]
  },
  {
   "cell_type": "code",
   "execution_count": null,
   "metadata": {},
   "outputs": [],
   "source": [
    "#построим гистограмму по стролбцу с жилой площадью\n",
    "data.plot(y = 'living_area', kind = 'hist', bins = 100, grid=True, figsize = (5,3), range = (0,450))\n",
    "data['living_area'].describe()\n",
    "#распределение данных в норме, есть выбросы, но они не сильно влияют на данные. \n",
    "#с помошью describe получим общие сведения.  "
   ]
  },
  {
   "cell_type": "code",
   "execution_count": null,
   "metadata": {},
   "outputs": [],
   "source": [
    "#построим гистограмму по стролбцу с общей площадью\n",
    "data.plot(y = 'kitchen_area', kind = 'hist', bins = 100, grid=True, figsize = (5,3), range = (0,200))\n",
    "data['kitchen_area'].describe()\n",
    "#распределение данных в норме, есть выбросы, но они не сильно влияют на данные. \n",
    "#с помошью describe получим общие сведения.  "
   ]
  },
  {
   "cell_type": "markdown",
   "metadata": {},
   "source": [
    "**Вывод**\n",
    "\n",
    "- Общая площадь в нашей выборке колеблется от 12 до 900 м2, среднее значение 60, а медиана 52 м2.\n",
    "\n",
    "- Цены на недвижимость имеют среднее значение в 6,5 млн руб., медиана 4,6 млн руб.\n",
    "\n",
    "- Количество комнат колеблется от 1 до 19. В данных больше всего однокомнатных квартир. \n",
    "\n",
    "- Высота потолков в среднем составляет 2,77 м, а медиана 2,65 м.\n",
    "\n",
    "- Жилая площадь в данных колеблется от 2(что считается выбросом и не особо влияет на данные) до 409 м2, среднее значение 22, а медиана 34 м2\n",
    "\n",
    "- Площадь кухонь в данных начинается с 1 кв.м.(что считается выбросом и не особо влияет на данные) до 112 м2, среднее значение 5, а медиана 10 м2\n",
    "\n",
    "- Во всех данных есть выбросы, например 0 комнат или высоты потолков в 1 и 100 метров, а также цена квартиры в 12190 рублей.\n",
    "О таких данных можно спросить у тех кто предоставил нам данные.\n",
    "Для общего изучения данных, не будем обрабатыватьэти аномальные значения.\n",
    "\n",
    "- Обработка столбцов с расстояниями обрабатывать не имеет смысла, потому как там слишком много пропосков, что сильно исказит результат, а восстановить эти значения слишком сложно.\n",
    "\n"
   ]
  },
  {
   "cell_type": "markdown",
   "metadata": {},
   "source": [
    "**задание**: \"Изучите, как быстро продавались квартиры (столбец days_exposition). Этот параметр показывает, сколько дней «висело» каждое объявление.\n",
    "Постройте гистограмму.\n",
    "Посчитайте среднее и медиану.\n",
    "В ячейке типа markdown опишите, сколько обычно занимает продажа. Какие продажи можно считать быстрыми, а какие — необычно долгими?\""
   ]
  },
  {
   "cell_type": "code",
   "execution_count": null,
   "metadata": {
    "scrolled": true
   },
   "outputs": [],
   "source": [
    "data.plot(y = 'days_exposition', kind = 'hist', bins = 30, grid = True, range = (1,1600))\n",
    "data.plot(y = 'days_exposition', kind = 'hist', bins = 100, grid = True, range = (1,200))\n",
    "\n",
    "#среднее значение, медиана и межквартильный размах\n",
    "data[data['days_exposition']!=0]['days_exposition'].describe()\n",
    "#data[data['days_exposition']!=0]['days_exposition'].value_counts()"
   ]
  },
  {
   "cell_type": "markdown",
   "metadata": {},
   "source": [
    "**Вывод** Cудя по гистограмме - мы имеем распределение Пуассона. Среднее значение - 180 дней, а медиана - 95 дней. Сделав гистограмму со значениями от 0 до 200 с кол-вом корзин 100, обнаружили выбивающиеся значения и методом value_counts убедились в этом - у нас аномалии на 45, 60, 7, 30, 90 днях - это наиболее популярное количество дней до снятия объявления. самая быстрая продажа исходя из данных это продажа за 1 день, а самая долгая это 1580 дней (4 с лишним года). Быстрой продажей можно назвать продажу за 7 дней, а долгой за 90 дней."
   ]
  },
  {
   "cell_type": "markdown",
   "metadata": {},
   "source": [
    "**задание**: \"Какие факторы больше всего влияют на общую (полную) стоимость объекта? Постройте графики, которые покажут зависимость цены от указанных ниже параметров. Для подготовки данных перед визуализацией вы можете использовать сводные таблицы.\"\n",
    "  - общей площади;*\n",
    "  - жилой площади;*\n",
    "  - площади кухни;*\n",
    "  - количество комнат;*\n",
    "  - типа этажа, на котором расположена квартира (первый, последний, другой);*\n",
    "  - даты размещения (день недели, месяц, год);*"
   ]
  },
  {
   "cell_type": "markdown",
   "metadata": {},
   "source": [
    "**Изучим зависимость цены от общей площади квартиры.**"
   ]
  },
  {
   "cell_type": "code",
   "execution_count": null,
   "metadata": {},
   "outputs": [],
   "source": [
    "pivot_table_total_area = data.pivot_table(index = 'total_area', values = 'last_price', aggfunc = ['mean', 'count', 'median'])\n",
    "pivot_table_total_area.columns = ['mean', 'count', 'median']\n",
    "pivot_table_total_area.plot(y = 'median', style = 'o')\n",
    "\n",
    "pivot_table_total_area.sort_values('median', ascending = False)\n",
    "\n",
    "data['total_area'].corr(data['last_price'])"
   ]
  },
  {
   "cell_type": "markdown",
   "metadata": {},
   "source": [
    "**Вывод** из графика мы видим, что зависимость есть и она положительная и ближе к 1 - согласно корреляции Пирсона в 0.65. Из этого следует, чем больше площадь тем выше стоимость квартиры."
   ]
  },
  {
   "cell_type": "markdown",
   "metadata": {},
   "source": [
    "**Изучим зависимость цены от жилой площади квартиры.**"
   ]
  },
  {
   "cell_type": "code",
   "execution_count": null,
   "metadata": {},
   "outputs": [],
   "source": [
    "pivot_table_living_area = data.pivot_table(index = 'living_area', values = 'last_price', aggfunc = ['mean', 'count', 'median'])\n",
    "pivot_table_living_area.columns = ['mean', 'count', 'median']\n",
    "pivot_table_living_area.plot(y = 'median', style = 'o')\n",
    "\n",
    "pivot_table_living_area.sort_values('median', ascending = False)\n",
    "\n",
    "data['living_area'].corr(data['last_price'])"
   ]
  },
  {
   "cell_type": "markdown",
   "metadata": {},
   "source": [
    "**Вывод** Из графика мы видим, что зависимость есть и она положительная и ближе к 1 - согласно корреляции Пирсона в 0.58. Из этого следует, чем больше площадь тем выше стоимость квартиры. Все так же как и в отношении общей площади и цены, но зависимость уже меньше... "
   ]
  },
  {
   "cell_type": "markdown",
   "metadata": {},
   "source": [
    "**Изучим зависимость цены от площади кухни.**"
   ]
  },
  {
   "cell_type": "code",
   "execution_count": null,
   "metadata": {},
   "outputs": [],
   "source": [
    "pivot_table_kitchen_area = data.pivot_table(index = 'kitchen_area', values = 'last_price', aggfunc = ['mean', 'count', 'median'])\n",
    "pivot_table_kitchen_area.columns = ['mean', 'count', 'median']\n",
    "pivot_table_kitchen_area.plot(y = 'median', style = 'o')\n",
    "\n",
    "pivot_table_kitchen_area.sort_values('median', ascending = False)\n",
    "\n",
    "data['kitchen_area'].corr(data['last_price'])"
   ]
  },
  {
   "cell_type": "markdown",
   "metadata": {},
   "source": [
    "**Вывод** Из графика мы видим, что зависимость есть и она осталась положительной, но все ближе к 0 - согласно корреляции Пирсона в 0.45. Из этого следует, чем больше площадь тем выше стоимость квартиры. Все так же как и в отношении жилой площади и цены, но зависимость еще меньше... "
   ]
  },
  {
   "cell_type": "markdown",
   "metadata": {},
   "source": [
    "**Изучим зависимость цены от количества комнат.**"
   ]
  },
  {
   "cell_type": "code",
   "execution_count": null,
   "metadata": {},
   "outputs": [],
   "source": [
    "pivot_table_rooms = data.pivot_table(index = 'rooms', values = 'last_price', aggfunc = ['mean', 'count', 'median'])\n",
    "pivot_table_rooms.columns = ['mean', 'count', 'median']\n",
    "pivot_table_rooms.query('count > 50').plot(y = 'median')\n",
    "\n",
    "pivot_table_rooms.query('count > 50').sort_values('median', ascending = False)\n",
    "\n",
    "data['rooms'].corr(data['last_price'])"
   ]
  },
  {
   "cell_type": "markdown",
   "metadata": {},
   "source": [
    "**Вывод** Из графика мы видим прямую зависимость стоимости квартиры от количества комнат. От 1 и до 4 комнат наблюдается плавный подъем, более 4 комнат уже идет явное повышение цены на квартиру. Коэффициент корреляции Пирсона положительный, 0.36."
   ]
  },
  {
   "cell_type": "markdown",
   "metadata": {},
   "source": [
    "**Изучим зависимость цены от типа этажа, на котором расположена квартира (первый, последний, другой)**"
   ]
  },
  {
   "cell_type": "code",
   "execution_count": null,
   "metadata": {},
   "outputs": [],
   "source": [
    "pivot_table_floor_category = data.pivot_table(index = 'floor_category', values = 'last_price', aggfunc = ['mean', 'count', 'median'])\n",
    "pivot_table_floor_category.columns = ['mean', 'count', 'median']\n",
    "pivot_table_floor_category.plot(y = 'median')\n",
    "pivot_table_floor_category"
   ]
  },
  {
   "cell_type": "markdown",
   "metadata": {},
   "source": [
    "**Вывод** Из графика видно что дешевле всего квартиры на первом этаже, 2 группа стоимости это квартиры на последнем этаже. самые дорогие квартиры это не первый и не последний этаж(в категории другой)."
   ]
  },
  {
   "cell_type": "markdown",
   "metadata": {},
   "source": [
    "<div class=\"alert alert-block alert-success\">\n",
    " \n",
    "### Комментарий ревьюера\n",
    "    \n",
    "#### Успех\n",
    "    \n",
    "Квартиры на первом этаже пользуются меньшим спросом. \n",
    "</div "
   ]
  },
  {
   "cell_type": "markdown",
   "metadata": {},
   "source": [
    "**Изучим зависимость цены от даты размещения (день недели, месяц, год)**"
   ]
  },
  {
   "cell_type": "markdown",
   "metadata": {},
   "source": [
    "**ДЕНЬ НЕДЕЛИ**"
   ]
  },
  {
   "cell_type": "code",
   "execution_count": null,
   "metadata": {},
   "outputs": [],
   "source": [
    "pivot_table_weekday_exposition = data.pivot_table(index = 'weekday_exposition', values = 'last_price', aggfunc = ['mean', 'count', 'median'])\n",
    "pivot_table_weekday_exposition.columns = ['mean', 'count', 'median']\n",
    "pivot_table_weekday_exposition.plot(y = 'median')\n",
    "\n",
    "pivot_table_weekday_exposition.sort_values('median', ascending = False)"
   ]
  },
  {
   "cell_type": "markdown",
   "metadata": {},
   "source": [
    "**Вывод** Из графика видно что с понедельника на вторник цены повышаются и во вторник находятся на пике а к концу недели цена значительно снижается и в воскресенье она самая низкая. "
   ]
  },
  {
   "cell_type": "markdown",
   "metadata": {},
   "source": [
    "**МЕСЯЦ**"
   ]
  },
  {
   "cell_type": "code",
   "execution_count": null,
   "metadata": {},
   "outputs": [],
   "source": [
    "pivot_table_month_exposition = data.pivot_table(index = 'month_exposition', values = 'last_price', aggfunc = ['mean', 'count', 'median'])\n",
    "pivot_table_month_exposition.columns = ['mean', 'count', 'median']\n",
    "pivot_table_month_exposition.plot(y = 'median')\n",
    "\n",
    "pivot_table_month_exposition.sort_values('median', ascending = False)"
   ]
  },
  {
   "cell_type": "markdown",
   "metadata": {},
   "source": [
    "**Вывод** Самая высокая стоимость квартир в апреле, сентябре и с ноября по декабрь. Самая низкая стоимость в июне. На рынке недвижимости,  присутствует эффекто сезонности и данный случай это не исключение. В начале лета мы видим наименьшую стоимость на квартиры. Вероятнее всего продавцы уехали отдыхать...эх!=("
   ]
  },
  {
   "cell_type": "markdown",
   "metadata": {},
   "source": [
    "**ГОД**"
   ]
  },
  {
   "cell_type": "code",
   "execution_count": null,
   "metadata": {},
   "outputs": [],
   "source": [
    "pivot_table_year_exposition = data.pivot_table(index = 'year_exposition', values = 'last_price', aggfunc = ['mean', 'count', 'median'])\n",
    "pivot_table_year_exposition.columns = ['mean', 'count', 'median']\n",
    "pivot_table_year_exposition.plot(y = 'median')\n",
    "\n",
    "pivot_table_year_exposition.sort_values('median', ascending = False)"
   ]
  },
  {
   "cell_type": "markdown",
   "metadata": {},
   "source": [
    "**Вывод** Из графика мы видим, что с 2014 до 2016 года цена на квартиры сильно падала, с 2016 по 2018 годы на рынке был застой и цена находилать примерно на одном уровне. И уже после 2018 рынок начал немного восстанавливаться и цена начала потихоньку повышаться."
   ]
  },
  {
   "cell_type": "markdown",
   "metadata": {},
   "source": [
    "**задание**: \"Посчитайте среднюю цену одного квадратного метра в 10 населённых пунктах с наибольшим числом объявлений. Выделите населённые пункты с самой высокой и низкой стоимостью квадратного метра. Эти данные можно найти по имени в столбце locality_name.\""
   ]
  },
  {
   "cell_type": "code",
   "execution_count": null,
   "metadata": {},
   "outputs": [],
   "source": [
    "locality_pivot_table = data.pivot_table(index = 'locality_name', values = 'price_per_square_meter', aggfunc=['count', 'mean'])\n",
    "locality_pivot_table.columns = ['count', 'mean']\n",
    "locality_pivot_table = locality_pivot_table.sort_values('count', ascending = False).head(10)\n",
    "locality_pivot_table\n",
    "#самая высокая стоимость\n",
    "locality_pivot_table[locality_pivot_table['mean']==locality_pivot_table['mean'].max()]\n",
    "#самая низкая стоимость\n",
    "locality_pivot_table[locality_pivot_table['mean']==locality_pivot_table['mean'].min()]\n",
    "locality_pivot_table"
   ]
  },
  {
   "cell_type": "markdown",
   "metadata": {},
   "source": [
    "**Вывод** Cамая высокая стоимость жилья из 10 населённых пунктов с самым большим количеством объявлений в Санкт-Петербурге - 114849 за 1 кв.м. тогда как самая низкая стоимость в Выборге - 58141 за 1 кв.м."
   ]
  },
  {
   "cell_type": "markdown",
   "metadata": {},
   "source": [
    "**задание**: \"Ранее вы посчитали расстояние до центра в километрах. Теперь выделите квартиры в Санкт-Петербурге с помощью столбца locality_name и вычислите среднюю цену каждого километра. Опишите, как стоимость объектов зависит от расстояния до центра города.\""
   ]
  },
  {
   "cell_type": "code",
   "execution_count": null,
   "metadata": {},
   "outputs": [],
   "source": [
    "#отбросим значения с пропусками чтобы их не учитывать \n",
    "data['cityCenters_nearest_in_km'] = data['cityCenters_nearest_in_km'].fillna(999999)\n",
    "#\n",
    "data['cityCenters_nearest_in_km'] = data['cityCenters_nearest_in_km'].astype('int')\n",
    "pivot_table_km = data.query('locality_name == \"Санкт-Петербург\" and cityCenters_nearest_in_km !=999999').pivot_table(index = 'cityCenters_nearest_in_km', values = 'price_per_square_meter', aggfunc = 'mean')\n",
    "pivot_table_km.plot()\n",
    "pivot_table_km"
   ]
  },
  {
   "cell_type": "markdown",
   "metadata": {},
   "source": [
    "**Вывод** В центре города самые дорогие квартиры - 245833 за кв.м. чем дальше от центра тем меньше стоимость за 1 кв.м. Судя по графику центром города можно назвать квартиры в радиусе 3 км. (наблюдается резкое падение стоимости). после 3 км начинается уже более плавный спад, есть скачки на 4-7 км и 27 км. Можно предположить что там находится что-то интересное или какая-то достопремичательностью либо это просто выброс.  "
   ]
  },
  {
   "cell_type": "markdown",
   "metadata": {},
   "source": [
    "### Общий вывод"
   ]
  },
  {
   "cell_type": "markdown",
   "metadata": {},
   "source": [
    "Мы обработали данные, обработали пропущенные значения там, где это необходимо. Посчитали и добавили в таблицу цену квадратного метра жилья, создали столбцы с датой днем недели, месяцем и годом размещения объявления, добавили категории по этажам квартир. Изучили площадь, цену, число комнат, высоту потолков на наличие выбивающихся значений. Были определены аномалии в данных параметрах и где это возможно обработали эти аномалии. Выяснили что быстрые продажи квартиры проходят в среднем за неделю, а долгой продажей можно считать 90 дней(возможно это максимальный срок действия объявления). Мы выявили, что на стоимость квартиры больше всего влияют квадратура, количество комнат, этаж квартиры, близость к центру. Незначительно на стоимость  влияют день, месяц, год размещения и общая площадь. Выяснили, что с 2014 до 2016 года цена на квартиры сильно падала, с 2016 по 2018 годы на рынке был застой и цена находилать примерно на одном уровне. И уже после 2018 рынок начал немного восстанавливаться и цена начала потихоньку повышаться. А так же изучили зависимость стоимости квадратного метра квартиры в зависимости от растояния до центра."
   ]
  },
  {
   "cell_type": "code",
   "execution_count": null,
   "metadata": {},
   "outputs": [],
   "source": []
  }
 ],
 "metadata": {
  "ExecuteTimeLog": [
   {
    "duration": 64,
    "start_time": "2022-11-28T14:02:36.136Z"
   },
   {
    "duration": 576,
    "start_time": "2022-11-28T14:02:44.666Z"
   },
   {
    "duration": 567,
    "start_time": "2022-11-28T14:03:09.693Z"
   },
   {
    "duration": 94,
    "start_time": "2022-11-28T14:04:03.470Z"
   },
   {
    "duration": 89,
    "start_time": "2022-11-28T14:04:15.069Z"
   },
   {
    "duration": 92,
    "start_time": "2022-11-28T14:04:23.677Z"
   },
   {
    "duration": 2206,
    "start_time": "2022-11-28T14:06:46.439Z"
   },
   {
    "duration": 1887,
    "start_time": "2022-11-28T14:08:57.158Z"
   },
   {
    "duration": 2027,
    "start_time": "2022-11-28T18:02:50.711Z"
   },
   {
    "duration": 1937,
    "start_time": "2022-11-28T18:21:24.987Z"
   },
   {
    "duration": 9,
    "start_time": "2022-11-28T18:22:09.966Z"
   },
   {
    "duration": 13,
    "start_time": "2022-11-28T18:38:25.127Z"
   },
   {
    "duration": 2518,
    "start_time": "2022-11-28T18:38:32.218Z"
   },
   {
    "duration": 13,
    "start_time": "2022-11-28T18:38:34.738Z"
   },
   {
    "duration": 3011,
    "start_time": "2022-11-28T19:14:31.558Z"
   },
   {
    "duration": 14,
    "start_time": "2022-11-28T19:14:34.571Z"
   },
   {
    "duration": 506,
    "start_time": "2022-11-28T19:33:07.708Z"
   },
   {
    "duration": 16,
    "start_time": "2022-11-28T19:33:08.216Z"
   },
   {
    "duration": 32,
    "start_time": "2022-11-28T19:33:08.234Z"
   },
   {
    "duration": 2082,
    "start_time": "2022-11-28T19:33:08.277Z"
   },
   {
    "duration": 19,
    "start_time": "2022-11-28T19:33:10.361Z"
   },
   {
    "duration": 47,
    "start_time": "2022-11-29T09:58:31.594Z"
   },
   {
    "duration": 698,
    "start_time": "2022-11-29T09:58:40.616Z"
   },
   {
    "duration": 14,
    "start_time": "2022-11-29T09:58:41.317Z"
   },
   {
    "duration": 34,
    "start_time": "2022-11-29T09:58:41.333Z"
   },
   {
    "duration": 2185,
    "start_time": "2022-11-29T09:58:41.369Z"
   },
   {
    "duration": 10,
    "start_time": "2022-11-29T09:58:43.556Z"
   },
   {
    "duration": 6,
    "start_time": "2022-11-29T10:22:06.500Z"
   },
   {
    "duration": 482,
    "start_time": "2022-11-29T10:22:19.992Z"
   },
   {
    "duration": 13,
    "start_time": "2022-11-29T10:22:20.476Z"
   },
   {
    "duration": 31,
    "start_time": "2022-11-29T10:22:20.491Z"
   },
   {
    "duration": 2011,
    "start_time": "2022-11-29T10:22:20.523Z"
   },
   {
    "duration": 9,
    "start_time": "2022-11-29T10:22:22.536Z"
   },
   {
    "duration": 23,
    "start_time": "2022-11-29T10:22:22.546Z"
   },
   {
    "duration": 38,
    "start_time": "2022-11-29T10:34:34.897Z"
   },
   {
    "duration": 7,
    "start_time": "2022-11-29T10:40:41.191Z"
   },
   {
    "duration": 71,
    "start_time": "2022-11-29T10:41:14.091Z"
   },
   {
    "duration": 9,
    "start_time": "2022-11-29T10:41:24.396Z"
   },
   {
    "duration": 7,
    "start_time": "2022-11-29T10:41:40.501Z"
   },
   {
    "duration": 11,
    "start_time": "2022-11-29T10:54:28.116Z"
   },
   {
    "duration": 11,
    "start_time": "2022-11-29T11:05:34.507Z"
   },
   {
    "duration": 8,
    "start_time": "2022-11-29T11:06:51.523Z"
   },
   {
    "duration": 7,
    "start_time": "2022-11-29T11:06:56.231Z"
   },
   {
    "duration": 478,
    "start_time": "2022-11-29T11:07:06.294Z"
   },
   {
    "duration": 13,
    "start_time": "2022-11-29T11:07:06.774Z"
   },
   {
    "duration": 42,
    "start_time": "2022-11-29T11:07:06.789Z"
   },
   {
    "duration": 1933,
    "start_time": "2022-11-29T11:07:06.833Z"
   },
   {
    "duration": 9,
    "start_time": "2022-11-29T11:07:08.768Z"
   },
   {
    "duration": 12,
    "start_time": "2022-11-29T11:07:08.778Z"
   },
   {
    "duration": 78,
    "start_time": "2022-11-29T11:11:56.832Z"
   },
   {
    "duration": 13,
    "start_time": "2022-11-29T11:12:05.470Z"
   },
   {
    "duration": 12,
    "start_time": "2022-11-29T11:15:09.210Z"
   },
   {
    "duration": 12,
    "start_time": "2022-11-29T11:16:15.078Z"
   },
   {
    "duration": 16,
    "start_time": "2022-11-29T11:18:04.531Z"
   },
   {
    "duration": 500,
    "start_time": "2022-11-29T11:19:04.520Z"
   },
   {
    "duration": 14,
    "start_time": "2022-11-29T11:19:05.022Z"
   },
   {
    "duration": 45,
    "start_time": "2022-11-29T11:19:05.038Z"
   },
   {
    "duration": 2040,
    "start_time": "2022-11-29T11:19:05.098Z"
   },
   {
    "duration": 9,
    "start_time": "2022-11-29T11:19:07.140Z"
   },
   {
    "duration": 30,
    "start_time": "2022-11-29T11:19:07.150Z"
   },
   {
    "duration": 72,
    "start_time": "2022-11-29T11:19:19.693Z"
   },
   {
    "duration": 503,
    "start_time": "2022-11-29T11:19:23.993Z"
   },
   {
    "duration": 16,
    "start_time": "2022-11-29T11:19:24.498Z"
   },
   {
    "duration": 43,
    "start_time": "2022-11-29T11:19:24.515Z"
   },
   {
    "duration": 2154,
    "start_time": "2022-11-29T11:19:24.560Z"
   },
   {
    "duration": 10,
    "start_time": "2022-11-29T11:19:26.716Z"
   },
   {
    "duration": 105,
    "start_time": "2022-11-29T11:19:26.727Z"
   },
   {
    "duration": 12,
    "start_time": "2022-11-29T11:20:23.414Z"
   },
   {
    "duration": 13,
    "start_time": "2022-11-29T11:22:55.559Z"
   },
   {
    "duration": 13,
    "start_time": "2022-11-29T11:25:25.489Z"
   },
   {
    "duration": 513,
    "start_time": "2022-11-29T11:25:30.174Z"
   },
   {
    "duration": 14,
    "start_time": "2022-11-29T11:25:30.689Z"
   },
   {
    "duration": 49,
    "start_time": "2022-11-29T11:25:30.705Z"
   },
   {
    "duration": 2106,
    "start_time": "2022-11-29T11:25:30.756Z"
   },
   {
    "duration": 10,
    "start_time": "2022-11-29T11:25:32.865Z"
   },
   {
    "duration": 10,
    "start_time": "2022-11-29T11:25:32.877Z"
   },
   {
    "duration": 18,
    "start_time": "2022-11-29T11:25:53.032Z"
   },
   {
    "duration": 19,
    "start_time": "2022-11-29T11:28:26.848Z"
   },
   {
    "duration": 499,
    "start_time": "2022-11-29T11:28:53.093Z"
   },
   {
    "duration": 15,
    "start_time": "2022-11-29T11:28:53.594Z"
   },
   {
    "duration": 40,
    "start_time": "2022-11-29T11:28:53.611Z"
   },
   {
    "duration": 2017,
    "start_time": "2022-11-29T11:28:53.653Z"
   },
   {
    "duration": 13,
    "start_time": "2022-11-29T11:28:55.672Z"
   },
   {
    "duration": 37,
    "start_time": "2022-11-29T11:28:55.687Z"
   },
   {
    "duration": 48,
    "start_time": "2022-11-29T11:32:38.351Z"
   },
   {
    "duration": 512,
    "start_time": "2022-11-29T11:32:46.075Z"
   },
   {
    "duration": 15,
    "start_time": "2022-11-29T11:32:46.589Z"
   },
   {
    "duration": 43,
    "start_time": "2022-11-29T11:32:46.605Z"
   },
   {
    "duration": 2104,
    "start_time": "2022-11-29T11:32:46.650Z"
   },
   {
    "duration": 10,
    "start_time": "2022-11-29T11:32:48.757Z"
   },
   {
    "duration": 53,
    "start_time": "2022-11-29T11:32:48.769Z"
   },
   {
    "duration": 463,
    "start_time": "2022-11-29T11:33:10.277Z"
   },
   {
    "duration": 45,
    "start_time": "2022-11-29T11:33:30.136Z"
   },
   {
    "duration": 42,
    "start_time": "2022-11-29T11:33:41.233Z"
   },
   {
    "duration": 491,
    "start_time": "2022-11-29T11:34:09.621Z"
   },
   {
    "duration": 16,
    "start_time": "2022-11-29T11:34:10.115Z"
   },
   {
    "duration": 39,
    "start_time": "2022-11-29T11:34:10.132Z"
   },
   {
    "duration": 2090,
    "start_time": "2022-11-29T11:34:10.172Z"
   },
   {
    "duration": 10,
    "start_time": "2022-11-29T11:34:12.264Z"
   },
   {
    "duration": 116,
    "start_time": "2022-11-29T11:34:12.276Z"
   },
   {
    "duration": 44,
    "start_time": "2022-11-29T11:34:38.092Z"
   },
   {
    "duration": 475,
    "start_time": "2022-11-29T11:34:56.900Z"
   },
   {
    "duration": 14,
    "start_time": "2022-11-29T11:34:57.376Z"
   },
   {
    "duration": 37,
    "start_time": "2022-11-29T11:34:57.392Z"
   },
   {
    "duration": 2081,
    "start_time": "2022-11-29T11:34:57.430Z"
   },
   {
    "duration": 9,
    "start_time": "2022-11-29T11:34:59.513Z"
   },
   {
    "duration": 49,
    "start_time": "2022-11-29T11:34:59.523Z"
   },
   {
    "duration": 113,
    "start_time": "2022-11-29T11:39:36.478Z"
   },
   {
    "duration": 51,
    "start_time": "2022-11-29T11:40:03.279Z"
   },
   {
    "duration": 54,
    "start_time": "2022-11-29T11:40:55.239Z"
   },
   {
    "duration": 25,
    "start_time": "2022-11-29T11:47:16.374Z"
   },
   {
    "duration": 430,
    "start_time": "2022-11-29T11:47:26.949Z"
   },
   {
    "duration": 14,
    "start_time": "2022-11-29T11:47:27.383Z"
   },
   {
    "duration": 38,
    "start_time": "2022-11-29T11:47:27.399Z"
   },
   {
    "duration": 2019,
    "start_time": "2022-11-29T11:47:27.439Z"
   },
   {
    "duration": 9,
    "start_time": "2022-11-29T11:47:29.460Z"
   },
   {
    "duration": 90,
    "start_time": "2022-11-29T11:47:29.471Z"
   },
   {
    "duration": 425,
    "start_time": "2022-11-29T11:56:56.753Z"
   },
   {
    "duration": 13,
    "start_time": "2022-11-29T11:56:57.179Z"
   },
   {
    "duration": 44,
    "start_time": "2022-11-29T11:56:57.193Z"
   },
   {
    "duration": 1936,
    "start_time": "2022-11-29T11:56:57.238Z"
   },
   {
    "duration": 9,
    "start_time": "2022-11-29T11:56:59.176Z"
   },
   {
    "duration": 129,
    "start_time": "2022-11-29T11:56:59.187Z"
   },
   {
    "duration": 10,
    "start_time": "2022-11-29T11:58:49.074Z"
   },
   {
    "duration": 29,
    "start_time": "2022-11-29T11:59:09.068Z"
   },
   {
    "duration": 11,
    "start_time": "2022-11-29T11:59:24.508Z"
   },
   {
    "duration": 504,
    "start_time": "2022-11-29T12:00:01.773Z"
   },
   {
    "duration": 14,
    "start_time": "2022-11-29T12:00:02.279Z"
   },
   {
    "duration": 41,
    "start_time": "2022-11-29T12:00:02.294Z"
   },
   {
    "duration": 2144,
    "start_time": "2022-11-29T12:00:02.338Z"
   },
   {
    "duration": 9,
    "start_time": "2022-11-29T12:00:04.484Z"
   },
   {
    "duration": 39,
    "start_time": "2022-11-29T12:00:04.494Z"
   },
   {
    "duration": 451,
    "start_time": "2022-11-29T12:00:25.527Z"
   },
   {
    "duration": 16,
    "start_time": "2022-11-29T12:00:25.979Z"
   },
   {
    "duration": 40,
    "start_time": "2022-11-29T12:00:25.996Z"
   },
   {
    "duration": 1965,
    "start_time": "2022-11-29T12:00:26.037Z"
   },
   {
    "duration": 11,
    "start_time": "2022-11-29T12:00:28.004Z"
   },
   {
    "duration": 17,
    "start_time": "2022-11-29T12:00:28.017Z"
   },
   {
    "duration": 499,
    "start_time": "2022-11-29T12:07:10.294Z"
   },
   {
    "duration": 16,
    "start_time": "2022-11-29T12:07:10.794Z"
   },
   {
    "duration": 48,
    "start_time": "2022-11-29T12:07:10.811Z"
   },
   {
    "duration": 2032,
    "start_time": "2022-11-29T12:07:10.862Z"
   },
   {
    "duration": 9,
    "start_time": "2022-11-29T12:07:12.896Z"
   },
   {
    "duration": 85,
    "start_time": "2022-11-29T12:07:12.906Z"
   },
   {
    "duration": 25,
    "start_time": "2022-11-29T12:23:45.538Z"
   },
   {
    "duration": 54,
    "start_time": "2022-11-29T12:28:06.775Z"
   },
   {
    "duration": 468,
    "start_time": "2022-11-29T12:28:20.805Z"
   },
   {
    "duration": 15,
    "start_time": "2022-11-29T12:28:21.275Z"
   },
   {
    "duration": 39,
    "start_time": "2022-11-29T12:28:21.291Z"
   },
   {
    "duration": 1969,
    "start_time": "2022-11-29T12:28:21.332Z"
   },
   {
    "duration": 10,
    "start_time": "2022-11-29T12:28:23.302Z"
   },
   {
    "duration": 64,
    "start_time": "2022-11-29T12:28:23.313Z"
   },
   {
    "duration": 48,
    "start_time": "2022-11-29T12:28:35.039Z"
   },
   {
    "duration": 86,
    "start_time": "2022-11-29T12:28:47.529Z"
   },
   {
    "duration": 100,
    "start_time": "2022-11-29T12:29:05.602Z"
   },
   {
    "duration": 22,
    "start_time": "2022-11-29T12:32:20.064Z"
   },
   {
    "duration": 15,
    "start_time": "2022-11-29T12:32:53.390Z"
   },
   {
    "duration": 10,
    "start_time": "2022-11-29T12:33:05.077Z"
   },
   {
    "duration": 483,
    "start_time": "2022-11-29T12:33:12.386Z"
   },
   {
    "duration": 13,
    "start_time": "2022-11-29T12:33:12.871Z"
   },
   {
    "duration": 36,
    "start_time": "2022-11-29T12:33:12.886Z"
   },
   {
    "duration": 2003,
    "start_time": "2022-11-29T12:33:12.923Z"
   },
   {
    "duration": 12,
    "start_time": "2022-11-29T12:33:14.928Z"
   },
   {
    "duration": 40,
    "start_time": "2022-11-29T12:33:14.942Z"
   },
   {
    "duration": 16,
    "start_time": "2022-11-29T12:33:46.912Z"
   },
   {
    "duration": 15,
    "start_time": "2022-11-29T12:35:26.543Z"
   },
   {
    "duration": 476,
    "start_time": "2022-11-29T12:35:35.612Z"
   },
   {
    "duration": 14,
    "start_time": "2022-11-29T12:35:36.090Z"
   },
   {
    "duration": 39,
    "start_time": "2022-11-29T12:35:36.106Z"
   },
   {
    "duration": 1992,
    "start_time": "2022-11-29T12:35:36.146Z"
   },
   {
    "duration": 9,
    "start_time": "2022-11-29T12:35:38.140Z"
   },
   {
    "duration": 21,
    "start_time": "2022-11-29T12:35:38.150Z"
   },
   {
    "duration": 471,
    "start_time": "2022-11-29T12:36:10.898Z"
   },
   {
    "duration": 15,
    "start_time": "2022-11-29T12:36:11.371Z"
   },
   {
    "duration": 40,
    "start_time": "2022-11-29T12:36:11.387Z"
   },
   {
    "duration": 2002,
    "start_time": "2022-11-29T12:36:11.428Z"
   },
   {
    "duration": 11,
    "start_time": "2022-11-29T12:36:13.432Z"
   },
   {
    "duration": 21,
    "start_time": "2022-11-29T12:36:13.444Z"
   },
   {
    "duration": 505,
    "start_time": "2022-11-29T12:36:29.470Z"
   },
   {
    "duration": 14,
    "start_time": "2022-11-29T12:36:29.977Z"
   },
   {
    "duration": 47,
    "start_time": "2022-11-29T12:36:29.992Z"
   },
   {
    "duration": 2013,
    "start_time": "2022-11-29T12:36:30.041Z"
   },
   {
    "duration": 9,
    "start_time": "2022-11-29T12:36:32.056Z"
   },
   {
    "duration": 51,
    "start_time": "2022-11-29T12:36:32.066Z"
   },
   {
    "duration": 1179,
    "start_time": "2022-11-29T12:37:42.476Z"
   },
   {
    "duration": 812,
    "start_time": "2022-11-29T12:38:05.219Z"
   },
   {
    "duration": 11,
    "start_time": "2022-11-29T12:38:57.602Z"
   },
   {
    "duration": 17,
    "start_time": "2022-11-29T12:39:34.568Z"
   },
   {
    "duration": 16,
    "start_time": "2022-11-29T12:40:00.149Z"
   },
   {
    "duration": 12,
    "start_time": "2022-11-29T12:40:19.359Z"
   },
   {
    "duration": 511,
    "start_time": "2022-11-29T12:40:29.617Z"
   },
   {
    "duration": 16,
    "start_time": "2022-11-29T12:40:30.129Z"
   },
   {
    "duration": 188,
    "start_time": "2022-11-29T12:40:30.146Z"
   },
   {
    "duration": 2058,
    "start_time": "2022-11-29T12:40:30.336Z"
   },
   {
    "duration": 9,
    "start_time": "2022-11-29T12:40:32.396Z"
   },
   {
    "duration": 18,
    "start_time": "2022-11-29T12:40:32.406Z"
   },
   {
    "duration": 11,
    "start_time": "2022-11-29T12:41:03.524Z"
   },
   {
    "duration": 12,
    "start_time": "2022-11-29T12:41:14.020Z"
   },
   {
    "duration": 77,
    "start_time": "2022-11-29T12:41:29.417Z"
   },
   {
    "duration": 16,
    "start_time": "2022-11-29T12:41:45.487Z"
   },
   {
    "duration": 443,
    "start_time": "2022-11-29T12:41:50.134Z"
   },
   {
    "duration": 13,
    "start_time": "2022-11-29T12:41:50.579Z"
   },
   {
    "duration": 40,
    "start_time": "2022-11-29T12:41:50.593Z"
   },
   {
    "duration": 1964,
    "start_time": "2022-11-29T12:41:50.634Z"
   },
   {
    "duration": 9,
    "start_time": "2022-11-29T12:41:52.600Z"
   },
   {
    "duration": 13,
    "start_time": "2022-11-29T12:41:52.611Z"
   },
   {
    "duration": 512,
    "start_time": "2022-11-29T12:49:51.991Z"
   },
   {
    "duration": 15,
    "start_time": "2022-11-29T12:49:52.505Z"
   },
   {
    "duration": 45,
    "start_time": "2022-11-29T12:49:52.522Z"
   },
   {
    "duration": 2106,
    "start_time": "2022-11-29T12:49:52.568Z"
   },
   {
    "duration": 14,
    "start_time": "2022-11-29T12:49:54.676Z"
   },
   {
    "duration": 22,
    "start_time": "2022-11-29T12:49:54.693Z"
   },
   {
    "duration": 6,
    "start_time": "2022-11-29T12:52:24.670Z"
   },
   {
    "duration": 67,
    "start_time": "2022-11-29T12:52:41.137Z"
   },
   {
    "duration": 5,
    "start_time": "2022-11-29T12:52:50.297Z"
   },
   {
    "duration": 5,
    "start_time": "2022-11-29T12:52:56.824Z"
   },
   {
    "duration": 7,
    "start_time": "2022-11-29T12:55:19.475Z"
   },
   {
    "duration": 483,
    "start_time": "2022-11-29T12:55:29.811Z"
   },
   {
    "duration": 13,
    "start_time": "2022-11-29T12:55:30.296Z"
   },
   {
    "duration": 46,
    "start_time": "2022-11-29T12:55:30.311Z"
   },
   {
    "duration": 2044,
    "start_time": "2022-11-29T12:55:30.358Z"
   },
   {
    "duration": 10,
    "start_time": "2022-11-29T12:55:32.404Z"
   },
   {
    "duration": 20,
    "start_time": "2022-11-29T12:55:32.415Z"
   },
   {
    "duration": 33,
    "start_time": "2022-11-29T12:55:32.436Z"
   },
   {
    "duration": 501,
    "start_time": "2022-11-29T12:57:13.478Z"
   },
   {
    "duration": 17,
    "start_time": "2022-11-29T12:57:13.981Z"
   },
   {
    "duration": 41,
    "start_time": "2022-11-29T12:57:14.000Z"
   },
   {
    "duration": 2175,
    "start_time": "2022-11-29T12:57:14.043Z"
   },
   {
    "duration": 9,
    "start_time": "2022-11-29T12:57:16.220Z"
   },
   {
    "duration": 17,
    "start_time": "2022-11-29T12:57:16.230Z"
   },
   {
    "duration": 6,
    "start_time": "2022-11-29T12:57:16.249Z"
   },
   {
    "duration": 104,
    "start_time": "2022-11-29T12:58:07.145Z"
   },
   {
    "duration": 20,
    "start_time": "2022-11-29T12:58:12.682Z"
   },
   {
    "duration": 16,
    "start_time": "2022-11-29T12:58:30.652Z"
   },
   {
    "duration": 15,
    "start_time": "2022-11-29T13:18:38.383Z"
   },
   {
    "duration": 476,
    "start_time": "2022-11-29T13:18:48.863Z"
   },
   {
    "duration": 17,
    "start_time": "2022-11-29T13:18:49.340Z"
   },
   {
    "duration": 42,
    "start_time": "2022-11-29T13:18:49.359Z"
   },
   {
    "duration": 1999,
    "start_time": "2022-11-29T13:18:49.403Z"
   },
   {
    "duration": 9,
    "start_time": "2022-11-29T13:18:51.404Z"
   },
   {
    "duration": 44,
    "start_time": "2022-11-29T13:18:51.414Z"
   },
   {
    "duration": 19,
    "start_time": "2022-11-29T13:18:51.460Z"
   },
   {
    "duration": 13,
    "start_time": "2022-11-29T13:53:09.189Z"
   },
   {
    "duration": 8,
    "start_time": "2022-11-29T13:53:34.877Z"
   },
   {
    "duration": 9,
    "start_time": "2022-11-29T14:22:52.054Z"
   },
   {
    "duration": 724,
    "start_time": "2022-11-29T18:10:05.685Z"
   },
   {
    "duration": 21,
    "start_time": "2022-11-29T18:10:06.411Z"
   },
   {
    "duration": 55,
    "start_time": "2022-11-29T18:10:06.434Z"
   },
   {
    "duration": 2220,
    "start_time": "2022-11-29T18:10:06.491Z"
   },
   {
    "duration": 9,
    "start_time": "2022-11-29T18:10:08.714Z"
   },
   {
    "duration": 31,
    "start_time": "2022-11-29T18:10:08.724Z"
   },
   {
    "duration": 35,
    "start_time": "2022-11-29T18:10:08.757Z"
   },
   {
    "duration": 89,
    "start_time": "2022-11-29T18:10:08.793Z"
   },
   {
    "duration": 13,
    "start_time": "2022-11-29T18:10:21.793Z"
   },
   {
    "duration": 523,
    "start_time": "2022-11-29T18:11:47.089Z"
   },
   {
    "duration": 16,
    "start_time": "2022-11-29T18:11:47.614Z"
   },
   {
    "duration": 42,
    "start_time": "2022-11-29T18:11:47.632Z"
   },
   {
    "duration": 2132,
    "start_time": "2022-11-29T18:11:47.676Z"
   },
   {
    "duration": 10,
    "start_time": "2022-11-29T18:11:49.809Z"
   },
   {
    "duration": 15,
    "start_time": "2022-11-29T18:11:49.821Z"
   },
   {
    "duration": 5,
    "start_time": "2022-11-29T18:11:49.837Z"
   },
   {
    "duration": 19,
    "start_time": "2022-11-29T18:11:49.844Z"
   },
   {
    "duration": 8,
    "start_time": "2022-11-29T19:06:56.954Z"
   },
   {
    "duration": 4,
    "start_time": "2022-11-29T19:30:33.098Z"
   },
   {
    "duration": 4,
    "start_time": "2022-11-29T19:30:46.828Z"
   },
   {
    "duration": 441,
    "start_time": "2022-11-29T19:45:14.847Z"
   },
   {
    "duration": 15,
    "start_time": "2022-11-29T19:45:15.290Z"
   },
   {
    "duration": 40,
    "start_time": "2022-11-29T19:45:15.307Z"
   },
   {
    "duration": 2112,
    "start_time": "2022-11-29T19:45:15.348Z"
   },
   {
    "duration": 9,
    "start_time": "2022-11-29T19:45:17.462Z"
   },
   {
    "duration": 12,
    "start_time": "2022-11-29T19:45:17.473Z"
   },
   {
    "duration": 4,
    "start_time": "2022-11-29T19:45:17.487Z"
   },
   {
    "duration": 44,
    "start_time": "2022-11-29T19:45:17.492Z"
   },
   {
    "duration": 4,
    "start_time": "2022-11-29T19:45:17.537Z"
   },
   {
    "duration": 13,
    "start_time": "2022-11-29T19:45:35.978Z"
   },
   {
    "duration": 470,
    "start_time": "2022-11-29T19:45:43.118Z"
   },
   {
    "duration": 18,
    "start_time": "2022-11-29T19:45:43.591Z"
   },
   {
    "duration": 48,
    "start_time": "2022-11-29T19:45:43.610Z"
   },
   {
    "duration": 2068,
    "start_time": "2022-11-29T19:45:43.660Z"
   },
   {
    "duration": 11,
    "start_time": "2022-11-29T19:45:45.729Z"
   },
   {
    "duration": 21,
    "start_time": "2022-11-29T19:45:45.741Z"
   },
   {
    "duration": 18,
    "start_time": "2022-11-29T19:45:45.764Z"
   },
   {
    "duration": 32,
    "start_time": "2022-11-29T19:45:45.783Z"
   },
   {
    "duration": 16,
    "start_time": "2022-11-29T19:45:45.817Z"
   },
   {
    "duration": 472,
    "start_time": "2022-11-29T19:45:57.031Z"
   },
   {
    "duration": 14,
    "start_time": "2022-11-29T19:45:57.505Z"
   },
   {
    "duration": 58,
    "start_time": "2022-11-29T19:45:57.520Z"
   },
   {
    "duration": 2087,
    "start_time": "2022-11-29T19:45:57.581Z"
   },
   {
    "duration": 10,
    "start_time": "2022-11-29T19:45:59.670Z"
   },
   {
    "duration": 14,
    "start_time": "2022-11-29T19:45:59.682Z"
   },
   {
    "duration": 5,
    "start_time": "2022-11-29T19:45:59.698Z"
   },
   {
    "duration": 42,
    "start_time": "2022-11-29T19:45:59.704Z"
   },
   {
    "duration": 4,
    "start_time": "2022-11-29T19:45:59.748Z"
   },
   {
    "duration": 70,
    "start_time": "2022-11-29T19:46:43.775Z"
   },
   {
    "duration": 7,
    "start_time": "2022-11-29T19:46:54.360Z"
   },
   {
    "duration": 8,
    "start_time": "2022-11-29T19:46:59.788Z"
   },
   {
    "duration": 4,
    "start_time": "2022-11-29T19:47:09.288Z"
   },
   {
    "duration": 16,
    "start_time": "2022-11-29T22:26:06.661Z"
   },
   {
    "duration": 457,
    "start_time": "2022-11-29T22:26:25.351Z"
   },
   {
    "duration": 14,
    "start_time": "2022-11-29T22:26:25.810Z"
   },
   {
    "duration": 50,
    "start_time": "2022-11-29T22:26:25.826Z"
   },
   {
    "duration": 42,
    "start_time": "2022-11-29T22:26:25.878Z"
   },
   {
    "duration": 2122,
    "start_time": "2022-11-29T22:26:25.922Z"
   },
   {
    "duration": 14,
    "start_time": "2022-11-29T22:26:28.046Z"
   },
   {
    "duration": 48,
    "start_time": "2022-11-29T22:26:28.062Z"
   },
   {
    "duration": 14,
    "start_time": "2022-11-29T22:26:28.112Z"
   },
   {
    "duration": 70,
    "start_time": "2022-11-29T22:26:28.128Z"
   },
   {
    "duration": 6,
    "start_time": "2022-11-29T22:26:28.201Z"
   },
   {
    "duration": 508,
    "start_time": "2022-11-29T23:10:00.387Z"
   },
   {
    "duration": 14,
    "start_time": "2022-11-29T23:10:00.897Z"
   },
   {
    "duration": 62,
    "start_time": "2022-11-29T23:10:00.913Z"
   },
   {
    "duration": 1987,
    "start_time": "2022-11-29T23:10:00.976Z"
   },
   {
    "duration": 9,
    "start_time": "2022-11-29T23:10:02.965Z"
   },
   {
    "duration": 49,
    "start_time": "2022-11-29T23:10:02.975Z"
   },
   {
    "duration": 7,
    "start_time": "2022-11-29T23:10:03.026Z"
   },
   {
    "duration": 33,
    "start_time": "2022-11-29T23:10:03.035Z"
   },
   {
    "duration": 47,
    "start_time": "2022-11-29T23:10:03.069Z"
   },
   {
    "duration": 479,
    "start_time": "2022-11-29T23:23:20.810Z"
   },
   {
    "duration": 13,
    "start_time": "2022-11-29T23:23:21.291Z"
   },
   {
    "duration": 38,
    "start_time": "2022-11-29T23:23:21.305Z"
   },
   {
    "duration": 1999,
    "start_time": "2022-11-29T23:23:21.344Z"
   },
   {
    "duration": 8,
    "start_time": "2022-11-29T23:23:23.346Z"
   },
   {
    "duration": 18,
    "start_time": "2022-11-29T23:23:23.356Z"
   },
   {
    "duration": 5,
    "start_time": "2022-11-29T23:23:23.375Z"
   },
   {
    "duration": 37,
    "start_time": "2022-11-29T23:23:23.381Z"
   },
   {
    "duration": 31,
    "start_time": "2022-11-29T23:23:23.420Z"
   },
   {
    "duration": 279,
    "start_time": "2022-11-29T23:23:23.452Z"
   },
   {
    "duration": 284,
    "start_time": "2022-11-29T23:23:46.667Z"
   },
   {
    "duration": 46,
    "start_time": "2022-11-30T08:52:03.486Z"
   },
   {
    "duration": 712,
    "start_time": "2022-11-30T08:52:07.689Z"
   },
   {
    "duration": 16,
    "start_time": "2022-11-30T08:52:08.402Z"
   },
   {
    "duration": 51,
    "start_time": "2022-11-30T08:52:08.420Z"
   },
   {
    "duration": 2360,
    "start_time": "2022-11-30T08:52:08.474Z"
   },
   {
    "duration": 11,
    "start_time": "2022-11-30T08:52:10.836Z"
   },
   {
    "duration": 22,
    "start_time": "2022-11-30T08:52:10.848Z"
   },
   {
    "duration": 6,
    "start_time": "2022-11-30T08:52:10.872Z"
   },
   {
    "duration": 37,
    "start_time": "2022-11-30T08:52:10.880Z"
   },
   {
    "duration": 9,
    "start_time": "2022-11-30T08:52:10.919Z"
   },
   {
    "duration": 345,
    "start_time": "2022-11-30T08:52:10.930Z"
   },
   {
    "duration": 7,
    "start_time": "2022-11-30T08:52:42.825Z"
   },
   {
    "duration": 8,
    "start_time": "2022-11-30T08:52:50.938Z"
   },
   {
    "duration": 16,
    "start_time": "2022-11-30T08:55:18.748Z"
   },
   {
    "duration": 21,
    "start_time": "2022-11-30T08:55:25.398Z"
   },
   {
    "duration": 20,
    "start_time": "2022-11-30T08:56:16.457Z"
   },
   {
    "duration": 32,
    "start_time": "2022-11-30T09:00:49.895Z"
   },
   {
    "duration": 46,
    "start_time": "2022-11-30T09:03:13.192Z"
   },
   {
    "duration": 58,
    "start_time": "2022-11-30T09:04:44.833Z"
   },
   {
    "duration": 60,
    "start_time": "2022-11-30T09:05:08.296Z"
   },
   {
    "duration": 76,
    "start_time": "2022-11-30T09:08:56.292Z"
   },
   {
    "duration": 15,
    "start_time": "2022-11-30T09:10:45.755Z"
   },
   {
    "duration": 11,
    "start_time": "2022-11-30T09:11:39.632Z"
   },
   {
    "duration": 60,
    "start_time": "2022-11-30T09:18:38.091Z"
   },
   {
    "duration": 66,
    "start_time": "2022-11-30T09:19:30.939Z"
   },
   {
    "duration": 43,
    "start_time": "2022-11-30T09:22:08.249Z"
   },
   {
    "duration": 452,
    "start_time": "2022-11-30T09:22:15.005Z"
   },
   {
    "duration": 20,
    "start_time": "2022-11-30T09:22:15.459Z"
   },
   {
    "duration": 44,
    "start_time": "2022-11-30T09:22:15.481Z"
   },
   {
    "duration": 2302,
    "start_time": "2022-11-30T09:22:15.528Z"
   },
   {
    "duration": 10,
    "start_time": "2022-11-30T09:22:17.832Z"
   },
   {
    "duration": 25,
    "start_time": "2022-11-30T09:22:17.843Z"
   },
   {
    "duration": 5,
    "start_time": "2022-11-30T09:22:17.869Z"
   },
   {
    "duration": 39,
    "start_time": "2022-11-30T09:22:17.876Z"
   },
   {
    "duration": 57,
    "start_time": "2022-11-30T09:22:17.917Z"
   },
   {
    "duration": 332,
    "start_time": "2022-11-30T09:22:17.977Z"
   },
   {
    "duration": 499,
    "start_time": "2022-11-30T09:23:25.140Z"
   },
   {
    "duration": 15,
    "start_time": "2022-11-30T09:23:25.641Z"
   },
   {
    "duration": 44,
    "start_time": "2022-11-30T09:23:25.657Z"
   },
   {
    "duration": 2179,
    "start_time": "2022-11-30T09:23:25.703Z"
   },
   {
    "duration": 10,
    "start_time": "2022-11-30T09:23:27.884Z"
   },
   {
    "duration": 23,
    "start_time": "2022-11-30T09:23:27.895Z"
   },
   {
    "duration": 7,
    "start_time": "2022-11-30T09:23:27.919Z"
   },
   {
    "duration": 39,
    "start_time": "2022-11-30T09:23:27.928Z"
   },
   {
    "duration": 45,
    "start_time": "2022-11-30T09:23:27.968Z"
   },
   {
    "duration": 321,
    "start_time": "2022-11-30T09:23:28.015Z"
   },
   {
    "duration": 548,
    "start_time": "2022-11-30T09:27:02.571Z"
   },
   {
    "duration": 15,
    "start_time": "2022-11-30T09:27:03.121Z"
   },
   {
    "duration": 63,
    "start_time": "2022-11-30T09:27:03.137Z"
   },
   {
    "duration": 2308,
    "start_time": "2022-11-30T09:27:03.202Z"
   },
   {
    "duration": 10,
    "start_time": "2022-11-30T09:27:05.512Z"
   },
   {
    "duration": 31,
    "start_time": "2022-11-30T09:27:05.524Z"
   },
   {
    "duration": 6,
    "start_time": "2022-11-30T09:27:05.556Z"
   },
   {
    "duration": 39,
    "start_time": "2022-11-30T09:27:05.563Z"
   },
   {
    "duration": 90,
    "start_time": "2022-11-30T09:27:05.604Z"
   },
   {
    "duration": 332,
    "start_time": "2022-11-30T09:27:05.696Z"
   },
   {
    "duration": 511,
    "start_time": "2022-11-30T09:27:29.765Z"
   },
   {
    "duration": 15,
    "start_time": "2022-11-30T09:27:30.278Z"
   },
   {
    "duration": 143,
    "start_time": "2022-11-30T09:27:30.294Z"
   },
   {
    "duration": 2269,
    "start_time": "2022-11-30T09:27:30.439Z"
   },
   {
    "duration": 11,
    "start_time": "2022-11-30T09:27:32.710Z"
   },
   {
    "duration": 22,
    "start_time": "2022-11-30T09:27:32.722Z"
   },
   {
    "duration": 5,
    "start_time": "2022-11-30T09:27:32.746Z"
   },
   {
    "duration": 40,
    "start_time": "2022-11-30T09:27:32.753Z"
   },
   {
    "duration": 83,
    "start_time": "2022-11-30T09:27:32.795Z"
   },
   {
    "duration": 335,
    "start_time": "2022-11-30T09:27:32.879Z"
   },
   {
    "duration": 501,
    "start_time": "2022-11-30T09:30:41.771Z"
   },
   {
    "duration": 16,
    "start_time": "2022-11-30T09:30:42.274Z"
   },
   {
    "duration": 44,
    "start_time": "2022-11-30T09:30:42.291Z"
   },
   {
    "duration": 2299,
    "start_time": "2022-11-30T09:30:42.337Z"
   },
   {
    "duration": 11,
    "start_time": "2022-11-30T09:30:44.638Z"
   },
   {
    "duration": 46,
    "start_time": "2022-11-30T09:30:44.651Z"
   },
   {
    "duration": 41,
    "start_time": "2022-11-30T09:30:44.699Z"
   },
   {
    "duration": 78,
    "start_time": "2022-11-30T09:30:44.742Z"
   },
   {
    "duration": 86,
    "start_time": "2022-11-30T09:30:44.822Z"
   },
   {
    "duration": 337,
    "start_time": "2022-11-30T09:30:44.911Z"
   },
   {
    "duration": 507,
    "start_time": "2022-11-30T10:02:03.569Z"
   },
   {
    "duration": 17,
    "start_time": "2022-11-30T10:02:04.078Z"
   },
   {
    "duration": 43,
    "start_time": "2022-11-30T10:02:04.096Z"
   },
   {
    "duration": 30,
    "start_time": "2022-11-30T10:02:04.140Z"
   },
   {
    "duration": 2358,
    "start_time": "2022-11-30T10:02:04.172Z"
   },
   {
    "duration": 10,
    "start_time": "2022-11-30T10:02:06.532Z"
   },
   {
    "duration": 21,
    "start_time": "2022-11-30T10:02:06.543Z"
   },
   {
    "duration": 8,
    "start_time": "2022-11-30T10:02:06.566Z"
   },
   {
    "duration": 41,
    "start_time": "2022-11-30T10:02:06.575Z"
   },
   {
    "duration": 70,
    "start_time": "2022-11-30T10:02:06.618Z"
   },
   {
    "duration": 341,
    "start_time": "2022-11-30T10:02:06.690Z"
   },
   {
    "duration": 498,
    "start_time": "2022-11-30T10:03:42.763Z"
   },
   {
    "duration": 16,
    "start_time": "2022-11-30T10:03:43.263Z"
   },
   {
    "duration": 46,
    "start_time": "2022-11-30T10:03:43.281Z"
   },
   {
    "duration": 7,
    "start_time": "2022-11-30T10:03:43.329Z"
   },
   {
    "duration": 6,
    "start_time": "2022-11-30T10:03:43.356Z"
   },
   {
    "duration": 9,
    "start_time": "2022-11-30T10:03:43.363Z"
   },
   {
    "duration": 6,
    "start_time": "2022-11-30T10:03:43.373Z"
   },
   {
    "duration": 12,
    "start_time": "2022-11-30T10:03:43.380Z"
   },
   {
    "duration": 2262,
    "start_time": "2022-11-30T10:03:43.393Z"
   },
   {
    "duration": 11,
    "start_time": "2022-11-30T10:03:45.656Z"
   },
   {
    "duration": 30,
    "start_time": "2022-11-30T10:03:45.669Z"
   },
   {
    "duration": 5,
    "start_time": "2022-11-30T10:03:45.701Z"
   },
   {
    "duration": 50,
    "start_time": "2022-11-30T10:03:45.708Z"
   },
   {
    "duration": 57,
    "start_time": "2022-11-30T10:03:45.761Z"
   },
   {
    "duration": 322,
    "start_time": "2022-11-30T10:03:45.820Z"
   },
   {
    "duration": 90,
    "start_time": "2022-11-30T10:06:04.479Z"
   },
   {
    "duration": 8,
    "start_time": "2022-11-30T10:06:42.061Z"
   },
   {
    "duration": 8,
    "start_time": "2022-11-30T10:06:50.147Z"
   },
   {
    "duration": 459,
    "start_time": "2022-11-30T10:06:58.695Z"
   },
   {
    "duration": 15,
    "start_time": "2022-11-30T10:06:59.156Z"
   },
   {
    "duration": 43,
    "start_time": "2022-11-30T10:06:59.173Z"
   },
   {
    "duration": 8,
    "start_time": "2022-11-30T10:06:59.217Z"
   },
   {
    "duration": 29,
    "start_time": "2022-11-30T10:06:59.227Z"
   },
   {
    "duration": 6,
    "start_time": "2022-11-30T10:06:59.258Z"
   },
   {
    "duration": 7,
    "start_time": "2022-11-30T10:06:59.266Z"
   },
   {
    "duration": 7,
    "start_time": "2022-11-30T10:06:59.275Z"
   },
   {
    "duration": 2214,
    "start_time": "2022-11-30T10:06:59.284Z"
   },
   {
    "duration": 9,
    "start_time": "2022-11-30T10:07:01.500Z"
   },
   {
    "duration": 67,
    "start_time": "2022-11-30T10:07:01.511Z"
   },
   {
    "duration": 21,
    "start_time": "2022-11-30T10:07:01.580Z"
   },
   {
    "duration": 45,
    "start_time": "2022-11-30T10:07:01.603Z"
   },
   {
    "duration": 68,
    "start_time": "2022-11-30T10:07:01.650Z"
   },
   {
    "duration": 421,
    "start_time": "2022-11-30T10:07:01.720Z"
   },
   {
    "duration": 503,
    "start_time": "2022-11-30T10:07:49.758Z"
   },
   {
    "duration": 16,
    "start_time": "2022-11-30T10:07:50.263Z"
   },
   {
    "duration": 44,
    "start_time": "2022-11-30T10:07:50.280Z"
   },
   {
    "duration": 9,
    "start_time": "2022-11-30T10:07:50.326Z"
   },
   {
    "duration": 23,
    "start_time": "2022-11-30T10:07:50.336Z"
   },
   {
    "duration": 12,
    "start_time": "2022-11-30T10:07:50.360Z"
   },
   {
    "duration": 5,
    "start_time": "2022-11-30T10:07:50.374Z"
   },
   {
    "duration": 11,
    "start_time": "2022-11-30T10:07:50.381Z"
   },
   {
    "duration": 2276,
    "start_time": "2022-11-30T10:07:50.394Z"
   },
   {
    "duration": 10,
    "start_time": "2022-11-30T10:07:52.673Z"
   },
   {
    "duration": 23,
    "start_time": "2022-11-30T10:07:52.685Z"
   },
   {
    "duration": 5,
    "start_time": "2022-11-30T10:07:52.710Z"
   },
   {
    "duration": 47,
    "start_time": "2022-11-30T10:07:52.717Z"
   },
   {
    "duration": 58,
    "start_time": "2022-11-30T10:07:52.766Z"
   },
   {
    "duration": 337,
    "start_time": "2022-11-30T10:07:52.826Z"
   },
   {
    "duration": 76,
    "start_time": "2022-11-30T10:09:05.390Z"
   },
   {
    "duration": 8,
    "start_time": "2022-11-30T10:09:26.779Z"
   },
   {
    "duration": 8,
    "start_time": "2022-11-30T10:09:27.762Z"
   },
   {
    "duration": 8,
    "start_time": "2022-11-30T10:09:28.203Z"
   },
   {
    "duration": 9,
    "start_time": "2022-11-30T10:09:28.459Z"
   },
   {
    "duration": 12,
    "start_time": "2022-11-30T10:09:34.459Z"
   },
   {
    "duration": 10,
    "start_time": "2022-11-30T10:09:35.347Z"
   },
   {
    "duration": 10,
    "start_time": "2022-11-30T10:09:35.530Z"
   },
   {
    "duration": 11,
    "start_time": "2022-11-30T10:09:35.684Z"
   },
   {
    "duration": 8,
    "start_time": "2022-11-30T10:09:45.428Z"
   },
   {
    "duration": 596,
    "start_time": "2022-11-30T11:01:34.179Z"
   },
   {
    "duration": 23,
    "start_time": "2022-11-30T11:01:34.778Z"
   },
   {
    "duration": 100,
    "start_time": "2022-11-30T11:01:34.803Z"
   },
   {
    "duration": 12,
    "start_time": "2022-11-30T11:01:34.908Z"
   },
   {
    "duration": 32,
    "start_time": "2022-11-30T11:01:34.922Z"
   },
   {
    "duration": 21,
    "start_time": "2022-11-30T11:01:34.956Z"
   },
   {
    "duration": 10,
    "start_time": "2022-11-30T11:01:34.979Z"
   },
   {
    "duration": 13,
    "start_time": "2022-11-30T11:01:34.991Z"
   },
   {
    "duration": 2363,
    "start_time": "2022-11-30T11:01:35.007Z"
   },
   {
    "duration": 10,
    "start_time": "2022-11-30T11:01:37.373Z"
   },
   {
    "duration": 28,
    "start_time": "2022-11-30T11:01:37.385Z"
   },
   {
    "duration": 6,
    "start_time": "2022-11-30T11:01:37.415Z"
   },
   {
    "duration": 46,
    "start_time": "2022-11-30T11:01:37.423Z"
   },
   {
    "duration": 62,
    "start_time": "2022-11-30T11:01:37.471Z"
   },
   {
    "duration": 343,
    "start_time": "2022-11-30T11:01:37.534Z"
   },
   {
    "duration": 468,
    "start_time": "2022-11-30T16:57:37.306Z"
   },
   {
    "duration": 15,
    "start_time": "2022-11-30T16:57:37.777Z"
   },
   {
    "duration": 48,
    "start_time": "2022-11-30T16:57:37.794Z"
   },
   {
    "duration": 16,
    "start_time": "2022-11-30T16:57:37.844Z"
   },
   {
    "duration": 6,
    "start_time": "2022-11-30T16:57:37.862Z"
   },
   {
    "duration": 14,
    "start_time": "2022-11-30T16:57:37.869Z"
   },
   {
    "duration": 6,
    "start_time": "2022-11-30T16:57:37.884Z"
   },
   {
    "duration": 18,
    "start_time": "2022-11-30T16:57:37.891Z"
   },
   {
    "duration": 2260,
    "start_time": "2022-11-30T16:57:37.910Z"
   },
   {
    "duration": 11,
    "start_time": "2022-11-30T16:57:40.173Z"
   },
   {
    "duration": 26,
    "start_time": "2022-11-30T16:57:40.186Z"
   },
   {
    "duration": 5,
    "start_time": "2022-11-30T16:57:40.214Z"
   },
   {
    "duration": 42,
    "start_time": "2022-11-30T16:57:40.221Z"
   },
   {
    "duration": 54,
    "start_time": "2022-11-30T16:57:40.264Z"
   },
   {
    "duration": 337,
    "start_time": "2022-11-30T16:57:40.320Z"
   },
   {
    "duration": 1051,
    "start_time": "2022-11-30T16:57:40.659Z"
   },
   {
    "duration": 2946,
    "start_time": "2022-11-30T16:57:41.712Z"
   },
   {
    "duration": 3332,
    "start_time": "2022-11-30T17:26:42.602Z"
   },
   {
    "duration": 5279,
    "start_time": "2022-11-30T18:59:24.447Z"
   },
   {
    "duration": 6151,
    "start_time": "2022-11-30T18:59:40.138Z"
   },
   {
    "duration": 4637,
    "start_time": "2022-11-30T19:00:00.829Z"
   },
   {
    "duration": 3724,
    "start_time": "2022-11-30T19:00:12.683Z"
   },
   {
    "duration": 2715,
    "start_time": "2022-11-30T19:00:23.802Z"
   },
   {
    "duration": 497,
    "start_time": "2022-11-30T19:09:56.597Z"
   },
   {
    "duration": 16,
    "start_time": "2022-11-30T19:09:57.097Z"
   },
   {
    "duration": 54,
    "start_time": "2022-11-30T19:09:57.114Z"
   },
   {
    "duration": 6,
    "start_time": "2022-11-30T19:09:57.170Z"
   },
   {
    "duration": 6,
    "start_time": "2022-11-30T19:09:57.179Z"
   },
   {
    "duration": 7,
    "start_time": "2022-11-30T19:09:57.186Z"
   },
   {
    "duration": 7,
    "start_time": "2022-11-30T19:09:57.194Z"
   },
   {
    "duration": 9,
    "start_time": "2022-11-30T19:09:57.203Z"
   },
   {
    "duration": 2205,
    "start_time": "2022-11-30T19:09:57.213Z"
   },
   {
    "duration": 12,
    "start_time": "2022-11-30T19:09:59.421Z"
   },
   {
    "duration": 21,
    "start_time": "2022-11-30T19:09:59.434Z"
   },
   {
    "duration": 5,
    "start_time": "2022-11-30T19:09:59.456Z"
   },
   {
    "duration": 33,
    "start_time": "2022-11-30T19:09:59.463Z"
   },
   {
    "duration": 65,
    "start_time": "2022-11-30T19:09:59.499Z"
   },
   {
    "duration": 323,
    "start_time": "2022-11-30T19:09:59.566Z"
   },
   {
    "duration": 295,
    "start_time": "2022-11-30T19:09:59.891Z"
   },
   {
    "duration": 388,
    "start_time": "2022-11-30T19:10:00.188Z"
   },
   {
    "duration": 212,
    "start_time": "2022-11-30T19:10:00.578Z"
   },
   {
    "duration": 198,
    "start_time": "2022-11-30T19:10:00.792Z"
   },
   {
    "duration": 80,
    "start_time": "2022-11-30T19:10:00.992Z"
   },
   {
    "duration": 289,
    "start_time": "2022-11-30T19:33:02.369Z"
   },
   {
    "duration": 302,
    "start_time": "2022-11-30T19:34:50.845Z"
   },
   {
    "duration": 295,
    "start_time": "2022-11-30T19:34:55.531Z"
   },
   {
    "duration": 317,
    "start_time": "2022-11-30T19:35:23.405Z"
   },
   {
    "duration": 471,
    "start_time": "2022-11-30T19:35:31.192Z"
   },
   {
    "duration": 15,
    "start_time": "2022-11-30T19:35:31.665Z"
   },
   {
    "duration": 43,
    "start_time": "2022-11-30T19:35:31.682Z"
   },
   {
    "duration": 8,
    "start_time": "2022-11-30T19:35:31.728Z"
   },
   {
    "duration": 6,
    "start_time": "2022-11-30T19:35:31.755Z"
   },
   {
    "duration": 9,
    "start_time": "2022-11-30T19:35:31.762Z"
   },
   {
    "duration": 5,
    "start_time": "2022-11-30T19:35:31.773Z"
   },
   {
    "duration": 7,
    "start_time": "2022-11-30T19:35:31.779Z"
   },
   {
    "duration": 2190,
    "start_time": "2022-11-30T19:35:31.788Z"
   },
   {
    "duration": 11,
    "start_time": "2022-11-30T19:35:33.982Z"
   },
   {
    "duration": 21,
    "start_time": "2022-11-30T19:35:33.995Z"
   },
   {
    "duration": 5,
    "start_time": "2022-11-30T19:35:34.018Z"
   },
   {
    "duration": 51,
    "start_time": "2022-11-30T19:35:34.025Z"
   },
   {
    "duration": 52,
    "start_time": "2022-11-30T19:35:34.078Z"
   },
   {
    "duration": 323,
    "start_time": "2022-11-30T19:35:34.132Z"
   },
   {
    "duration": 321,
    "start_time": "2022-11-30T19:35:34.457Z"
   },
   {
    "duration": 390,
    "start_time": "2022-11-30T19:35:34.780Z"
   },
   {
    "duration": 178,
    "start_time": "2022-11-30T19:35:35.172Z"
   },
   {
    "duration": 182,
    "start_time": "2022-11-30T19:35:35.355Z"
   },
   {
    "duration": 63,
    "start_time": "2022-11-30T19:35:35.539Z"
   },
   {
    "duration": 252,
    "start_time": "2022-11-30T19:35:54.758Z"
   },
   {
    "duration": 196,
    "start_time": "2022-11-30T19:36:01.219Z"
   },
   {
    "duration": 211,
    "start_time": "2022-11-30T19:36:18.909Z"
   },
   {
    "duration": 220,
    "start_time": "2022-11-30T19:36:31.564Z"
   },
   {
    "duration": 136,
    "start_time": "2022-11-30T19:36:35.501Z"
   },
   {
    "duration": 180,
    "start_time": "2022-11-30T19:36:41.758Z"
   },
   {
    "duration": 192,
    "start_time": "2022-11-30T19:36:47.013Z"
   },
   {
    "duration": 179,
    "start_time": "2022-11-30T19:36:55.820Z"
   },
   {
    "duration": 539,
    "start_time": "2022-11-30T19:37:00.524Z"
   },
   {
    "duration": 16,
    "start_time": "2022-11-30T19:37:01.065Z"
   },
   {
    "duration": 51,
    "start_time": "2022-11-30T19:37:01.085Z"
   },
   {
    "duration": 17,
    "start_time": "2022-11-30T19:37:01.139Z"
   },
   {
    "duration": 25,
    "start_time": "2022-11-30T19:37:01.157Z"
   },
   {
    "duration": 33,
    "start_time": "2022-11-30T19:37:01.184Z"
   },
   {
    "duration": 40,
    "start_time": "2022-11-30T19:37:01.219Z"
   },
   {
    "duration": 36,
    "start_time": "2022-11-30T19:37:01.260Z"
   },
   {
    "duration": 2296,
    "start_time": "2022-11-30T19:37:01.298Z"
   },
   {
    "duration": 10,
    "start_time": "2022-11-30T19:37:03.596Z"
   },
   {
    "duration": 24,
    "start_time": "2022-11-30T19:37:03.607Z"
   },
   {
    "duration": 7,
    "start_time": "2022-11-30T19:37:03.634Z"
   },
   {
    "duration": 43,
    "start_time": "2022-11-30T19:37:03.645Z"
   },
   {
    "duration": 74,
    "start_time": "2022-11-30T19:37:03.690Z"
   },
   {
    "duration": 328,
    "start_time": "2022-11-30T19:37:03.766Z"
   },
   {
    "duration": 297,
    "start_time": "2022-11-30T19:37:04.095Z"
   },
   {
    "duration": 220,
    "start_time": "2022-11-30T19:37:04.394Z"
   },
   {
    "duration": 327,
    "start_time": "2022-11-30T19:37:04.616Z"
   },
   {
    "duration": 208,
    "start_time": "2022-11-30T19:37:04.945Z"
   },
   {
    "duration": 49,
    "start_time": "2022-11-30T19:37:05.155Z"
   },
   {
    "duration": 82,
    "start_time": "2022-12-01T13:13:14.593Z"
   },
   {
    "duration": 895,
    "start_time": "2022-12-01T13:13:21.257Z"
   },
   {
    "duration": 24,
    "start_time": "2022-12-01T13:13:22.155Z"
   },
   {
    "duration": 88,
    "start_time": "2022-12-01T13:13:22.182Z"
   },
   {
    "duration": 10,
    "start_time": "2022-12-01T13:13:22.272Z"
   },
   {
    "duration": 14,
    "start_time": "2022-12-01T13:13:22.285Z"
   },
   {
    "duration": 14,
    "start_time": "2022-12-01T13:13:22.301Z"
   },
   {
    "duration": 12,
    "start_time": "2022-12-01T13:13:22.317Z"
   },
   {
    "duration": 12,
    "start_time": "2022-12-01T13:13:22.356Z"
   },
   {
    "duration": 3393,
    "start_time": "2022-12-01T13:13:22.370Z"
   },
   {
    "duration": 15,
    "start_time": "2022-12-01T13:13:25.765Z"
   },
   {
    "duration": 31,
    "start_time": "2022-12-01T13:13:25.782Z"
   },
   {
    "duration": 14,
    "start_time": "2022-12-01T13:13:25.815Z"
   },
   {
    "duration": 56,
    "start_time": "2022-12-01T13:13:25.830Z"
   },
   {
    "duration": 100,
    "start_time": "2022-12-01T13:13:25.890Z"
   },
   {
    "duration": 543,
    "start_time": "2022-12-01T13:13:25.992Z"
   },
   {
    "duration": 477,
    "start_time": "2022-12-01T13:13:26.538Z"
   },
   {
    "duration": 317,
    "start_time": "2022-12-01T13:13:27.017Z"
   },
   {
    "duration": 221,
    "start_time": "2022-12-01T13:13:27.336Z"
   },
   {
    "duration": 212,
    "start_time": "2022-12-01T13:13:27.559Z"
   },
   {
    "duration": 481,
    "start_time": "2022-12-01T13:16:52.997Z"
   },
   {
    "duration": 561,
    "start_time": "2022-12-01T13:21:36.577Z"
   },
   {
    "duration": 22,
    "start_time": "2022-12-01T13:21:37.141Z"
   },
   {
    "duration": 54,
    "start_time": "2022-12-01T13:21:37.165Z"
   },
   {
    "duration": 8,
    "start_time": "2022-12-01T13:21:37.221Z"
   },
   {
    "duration": 26,
    "start_time": "2022-12-01T13:21:37.231Z"
   },
   {
    "duration": 29,
    "start_time": "2022-12-01T13:21:37.259Z"
   },
   {
    "duration": 12,
    "start_time": "2022-12-01T13:21:37.290Z"
   },
   {
    "duration": 24,
    "start_time": "2022-12-01T13:21:37.304Z"
   },
   {
    "duration": 2529,
    "start_time": "2022-12-01T13:21:37.330Z"
   },
   {
    "duration": 15,
    "start_time": "2022-12-01T13:21:39.861Z"
   },
   {
    "duration": 35,
    "start_time": "2022-12-01T13:21:39.878Z"
   },
   {
    "duration": 9,
    "start_time": "2022-12-01T13:21:39.918Z"
   },
   {
    "duration": 56,
    "start_time": "2022-12-01T13:21:39.930Z"
   },
   {
    "duration": 114,
    "start_time": "2022-12-01T13:21:39.990Z"
   },
   {
    "duration": 332,
    "start_time": "2022-12-01T13:21:40.107Z"
   },
   {
    "duration": 346,
    "start_time": "2022-12-01T13:21:40.441Z"
   },
   {
    "duration": 303,
    "start_time": "2022-12-01T13:21:40.789Z"
   },
   {
    "duration": 324,
    "start_time": "2022-12-01T13:21:41.095Z"
   },
   {
    "duration": 231,
    "start_time": "2022-12-01T13:21:41.421Z"
   },
   {
    "duration": 379,
    "start_time": "2022-12-01T13:21:55.335Z"
   },
   {
    "duration": 377,
    "start_time": "2022-12-01T13:22:27.980Z"
   },
   {
    "duration": 22,
    "start_time": "2022-12-01T13:49:01.150Z"
   },
   {
    "duration": 542,
    "start_time": "2022-12-01T13:49:07.923Z"
   },
   {
    "duration": 19,
    "start_time": "2022-12-01T13:49:08.467Z"
   },
   {
    "duration": 68,
    "start_time": "2022-12-01T13:49:08.488Z"
   },
   {
    "duration": 9,
    "start_time": "2022-12-01T13:49:08.559Z"
   },
   {
    "duration": 12,
    "start_time": "2022-12-01T13:49:08.570Z"
   },
   {
    "duration": 17,
    "start_time": "2022-12-01T13:49:08.584Z"
   },
   {
    "duration": 11,
    "start_time": "2022-12-01T13:49:08.603Z"
   },
   {
    "duration": 13,
    "start_time": "2022-12-01T13:49:08.616Z"
   },
   {
    "duration": 2423,
    "start_time": "2022-12-01T13:49:08.631Z"
   },
   {
    "duration": 11,
    "start_time": "2022-12-01T13:49:11.057Z"
   },
   {
    "duration": 24,
    "start_time": "2022-12-01T13:49:11.070Z"
   },
   {
    "duration": 5,
    "start_time": "2022-12-01T13:49:11.096Z"
   },
   {
    "duration": 67,
    "start_time": "2022-12-01T13:49:11.103Z"
   },
   {
    "duration": 59,
    "start_time": "2022-12-01T13:49:11.172Z"
   },
   {
    "duration": 359,
    "start_time": "2022-12-01T13:49:11.233Z"
   },
   {
    "duration": 311,
    "start_time": "2022-12-01T13:49:11.594Z"
   },
   {
    "duration": 213,
    "start_time": "2022-12-01T13:49:11.907Z"
   },
   {
    "duration": 289,
    "start_time": "2022-12-01T13:49:12.121Z"
   },
   {
    "duration": 207,
    "start_time": "2022-12-01T13:49:12.411Z"
   },
   {
    "duration": 61,
    "start_time": "2022-12-01T13:58:56.001Z"
   },
   {
    "duration": 1119,
    "start_time": "2022-12-01T13:58:59.421Z"
   },
   {
    "duration": 17,
    "start_time": "2022-12-01T13:59:00.543Z"
   },
   {
    "duration": 56,
    "start_time": "2022-12-01T13:59:00.562Z"
   },
   {
    "duration": 6,
    "start_time": "2022-12-01T13:59:00.620Z"
   },
   {
    "duration": 14,
    "start_time": "2022-12-01T13:59:00.628Z"
   },
   {
    "duration": 8,
    "start_time": "2022-12-01T13:59:00.644Z"
   },
   {
    "duration": 10,
    "start_time": "2022-12-01T13:59:00.654Z"
   },
   {
    "duration": 15,
    "start_time": "2022-12-01T13:59:00.666Z"
   },
   {
    "duration": 2681,
    "start_time": "2022-12-01T13:59:00.683Z"
   },
   {
    "duration": 12,
    "start_time": "2022-12-01T13:59:03.367Z"
   },
   {
    "duration": 25,
    "start_time": "2022-12-01T13:59:03.381Z"
   },
   {
    "duration": 6,
    "start_time": "2022-12-01T13:59:03.409Z"
   },
   {
    "duration": 39,
    "start_time": "2022-12-01T13:59:03.417Z"
   },
   {
    "duration": 71,
    "start_time": "2022-12-01T13:59:03.458Z"
   },
   {
    "duration": 362,
    "start_time": "2022-12-01T13:59:03.531Z"
   },
   {
    "duration": 358,
    "start_time": "2022-12-01T13:59:03.895Z"
   },
   {
    "duration": 322,
    "start_time": "2022-12-01T13:59:04.255Z"
   },
   {
    "duration": 217,
    "start_time": "2022-12-01T13:59:04.579Z"
   },
   {
    "duration": 255,
    "start_time": "2022-12-01T13:59:04.798Z"
   },
   {
    "duration": 96,
    "start_time": "2022-12-01T13:59:35.978Z"
   },
   {
    "duration": 33,
    "start_time": "2022-12-01T13:59:48.009Z"
   },
   {
    "duration": 25,
    "start_time": "2022-12-01T14:02:34.120Z"
   },
   {
    "duration": 583,
    "start_time": "2022-12-01T14:03:18.691Z"
   },
   {
    "duration": 20,
    "start_time": "2022-12-01T14:03:19.277Z"
   },
   {
    "duration": 85,
    "start_time": "2022-12-01T14:03:19.299Z"
   },
   {
    "duration": 8,
    "start_time": "2022-12-01T14:03:19.387Z"
   },
   {
    "duration": 16,
    "start_time": "2022-12-01T14:03:19.397Z"
   },
   {
    "duration": 29,
    "start_time": "2022-12-01T14:03:19.415Z"
   },
   {
    "duration": 13,
    "start_time": "2022-12-01T14:03:19.446Z"
   },
   {
    "duration": 19,
    "start_time": "2022-12-01T14:03:19.461Z"
   },
   {
    "duration": 2474,
    "start_time": "2022-12-01T14:03:19.482Z"
   },
   {
    "duration": 10,
    "start_time": "2022-12-01T14:03:21.959Z"
   },
   {
    "duration": 27,
    "start_time": "2022-12-01T14:03:21.970Z"
   },
   {
    "duration": 6,
    "start_time": "2022-12-01T14:03:21.999Z"
   },
   {
    "duration": 36,
    "start_time": "2022-12-01T14:03:22.013Z"
   },
   {
    "duration": 65,
    "start_time": "2022-12-01T14:03:22.050Z"
   },
   {
    "duration": 350,
    "start_time": "2022-12-01T14:03:22.117Z"
   },
   {
    "duration": 318,
    "start_time": "2022-12-01T14:03:22.469Z"
   },
   {
    "duration": 218,
    "start_time": "2022-12-01T14:03:22.789Z"
   },
   {
    "duration": 304,
    "start_time": "2022-12-01T14:03:23.012Z"
   },
   {
    "duration": 213,
    "start_time": "2022-12-01T14:03:23.318Z"
   },
   {
    "duration": 24,
    "start_time": "2022-12-01T14:03:42.752Z"
   },
   {
    "duration": 559,
    "start_time": "2022-12-01T14:11:34.589Z"
   },
   {
    "duration": 17,
    "start_time": "2022-12-01T14:11:35.150Z"
   },
   {
    "duration": 57,
    "start_time": "2022-12-01T14:11:35.170Z"
   },
   {
    "duration": 10,
    "start_time": "2022-12-01T14:11:35.228Z"
   },
   {
    "duration": 8,
    "start_time": "2022-12-01T14:11:35.240Z"
   },
   {
    "duration": 9,
    "start_time": "2022-12-01T14:11:35.249Z"
   },
   {
    "duration": 9,
    "start_time": "2022-12-01T14:11:35.260Z"
   },
   {
    "duration": 14,
    "start_time": "2022-12-01T14:11:35.271Z"
   },
   {
    "duration": 2521,
    "start_time": "2022-12-01T14:11:35.311Z"
   },
   {
    "duration": 10,
    "start_time": "2022-12-01T14:11:37.834Z"
   },
   {
    "duration": 108,
    "start_time": "2022-12-01T14:11:37.846Z"
   },
   {
    "duration": 0,
    "start_time": "2022-12-01T14:11:37.955Z"
   },
   {
    "duration": 0,
    "start_time": "2022-12-01T14:11:37.957Z"
   },
   {
    "duration": 0,
    "start_time": "2022-12-01T14:11:37.958Z"
   },
   {
    "duration": 0,
    "start_time": "2022-12-01T14:11:37.959Z"
   },
   {
    "duration": 0,
    "start_time": "2022-12-01T14:11:37.960Z"
   },
   {
    "duration": 0,
    "start_time": "2022-12-01T14:11:37.961Z"
   },
   {
    "duration": 0,
    "start_time": "2022-12-01T14:11:37.962Z"
   },
   {
    "duration": 0,
    "start_time": "2022-12-01T14:11:37.963Z"
   },
   {
    "duration": 58,
    "start_time": "2022-12-01T14:12:43.922Z"
   },
   {
    "duration": 582,
    "start_time": "2022-12-01T14:13:32.395Z"
   },
   {
    "duration": 17,
    "start_time": "2022-12-01T14:13:32.979Z"
   },
   {
    "duration": 63,
    "start_time": "2022-12-01T14:13:33.001Z"
   },
   {
    "duration": 7,
    "start_time": "2022-12-01T14:13:33.066Z"
   },
   {
    "duration": 15,
    "start_time": "2022-12-01T14:13:33.075Z"
   },
   {
    "duration": 21,
    "start_time": "2022-12-01T14:13:33.093Z"
   },
   {
    "duration": 27,
    "start_time": "2022-12-01T14:13:33.116Z"
   },
   {
    "duration": 19,
    "start_time": "2022-12-01T14:13:33.145Z"
   },
   {
    "duration": 2577,
    "start_time": "2022-12-01T14:13:33.167Z"
   },
   {
    "duration": 12,
    "start_time": "2022-12-01T14:13:35.746Z"
   },
   {
    "duration": 134,
    "start_time": "2022-12-01T14:13:35.759Z"
   },
   {
    "duration": 0,
    "start_time": "2022-12-01T14:13:35.895Z"
   },
   {
    "duration": 0,
    "start_time": "2022-12-01T14:13:35.897Z"
   },
   {
    "duration": 0,
    "start_time": "2022-12-01T14:13:35.899Z"
   },
   {
    "duration": 0,
    "start_time": "2022-12-01T14:13:35.900Z"
   },
   {
    "duration": 0,
    "start_time": "2022-12-01T14:13:35.913Z"
   },
   {
    "duration": 0,
    "start_time": "2022-12-01T14:13:35.914Z"
   },
   {
    "duration": 0,
    "start_time": "2022-12-01T14:13:35.916Z"
   },
   {
    "duration": 0,
    "start_time": "2022-12-01T14:13:35.918Z"
   },
   {
    "duration": 39,
    "start_time": "2022-12-01T14:14:02.491Z"
   },
   {
    "duration": 39,
    "start_time": "2022-12-01T14:14:03.685Z"
   },
   {
    "duration": 39,
    "start_time": "2022-12-01T14:14:45.609Z"
   },
   {
    "duration": 40,
    "start_time": "2022-12-01T14:14:46.409Z"
   },
   {
    "duration": 503,
    "start_time": "2022-12-01T14:25:04.237Z"
   },
   {
    "duration": 17,
    "start_time": "2022-12-01T14:25:04.742Z"
   },
   {
    "duration": 60,
    "start_time": "2022-12-01T14:25:04.760Z"
   },
   {
    "duration": 8,
    "start_time": "2022-12-01T14:25:04.823Z"
   },
   {
    "duration": 7,
    "start_time": "2022-12-01T14:25:04.832Z"
   },
   {
    "duration": 11,
    "start_time": "2022-12-01T14:25:04.841Z"
   },
   {
    "duration": 12,
    "start_time": "2022-12-01T14:25:04.853Z"
   },
   {
    "duration": 11,
    "start_time": "2022-12-01T14:25:04.868Z"
   },
   {
    "duration": 2499,
    "start_time": "2022-12-01T14:25:04.881Z"
   },
   {
    "duration": 11,
    "start_time": "2022-12-01T14:25:07.384Z"
   },
   {
    "duration": 105,
    "start_time": "2022-12-01T14:25:07.397Z"
   },
   {
    "duration": 0,
    "start_time": "2022-12-01T14:25:07.504Z"
   },
   {
    "duration": 0,
    "start_time": "2022-12-01T14:25:07.505Z"
   },
   {
    "duration": 0,
    "start_time": "2022-12-01T14:25:07.506Z"
   },
   {
    "duration": 0,
    "start_time": "2022-12-01T14:25:07.512Z"
   },
   {
    "duration": 0,
    "start_time": "2022-12-01T14:25:07.513Z"
   },
   {
    "duration": 0,
    "start_time": "2022-12-01T14:25:07.514Z"
   },
   {
    "duration": 0,
    "start_time": "2022-12-01T14:25:07.515Z"
   },
   {
    "duration": 0,
    "start_time": "2022-12-01T14:25:07.516Z"
   },
   {
    "duration": 513,
    "start_time": "2022-12-01T14:27:16.369Z"
   },
   {
    "duration": 18,
    "start_time": "2022-12-01T14:27:16.884Z"
   },
   {
    "duration": 54,
    "start_time": "2022-12-01T14:27:16.904Z"
   },
   {
    "duration": 8,
    "start_time": "2022-12-01T14:27:16.959Z"
   },
   {
    "duration": 36,
    "start_time": "2022-12-01T14:27:16.969Z"
   },
   {
    "duration": 32,
    "start_time": "2022-12-01T14:27:17.007Z"
   },
   {
    "duration": 40,
    "start_time": "2022-12-01T14:27:17.041Z"
   },
   {
    "duration": 44,
    "start_time": "2022-12-01T14:27:17.082Z"
   },
   {
    "duration": 2407,
    "start_time": "2022-12-01T14:27:17.128Z"
   },
   {
    "duration": 9,
    "start_time": "2022-12-01T14:27:19.537Z"
   },
   {
    "duration": 44,
    "start_time": "2022-12-01T14:27:19.548Z"
   },
   {
    "duration": 7,
    "start_time": "2022-12-01T14:27:19.599Z"
   },
   {
    "duration": 40,
    "start_time": "2022-12-01T14:27:19.607Z"
   },
   {
    "duration": 49,
    "start_time": "2022-12-01T14:27:19.650Z"
   },
   {
    "duration": 344,
    "start_time": "2022-12-01T14:27:19.701Z"
   },
   {
    "duration": 326,
    "start_time": "2022-12-01T14:27:20.046Z"
   },
   {
    "duration": 209,
    "start_time": "2022-12-01T14:27:20.374Z"
   },
   {
    "duration": 277,
    "start_time": "2022-12-01T14:27:20.585Z"
   },
   {
    "duration": 205,
    "start_time": "2022-12-01T14:27:20.865Z"
   },
   {
    "duration": 23,
    "start_time": "2022-12-01T14:27:36.797Z"
   },
   {
    "duration": 26,
    "start_time": "2022-12-01T14:29:28.301Z"
   },
   {
    "duration": 490,
    "start_time": "2022-12-01T14:38:55.435Z"
   },
   {
    "duration": 16,
    "start_time": "2022-12-01T14:38:55.928Z"
   },
   {
    "duration": 50,
    "start_time": "2022-12-01T14:38:55.946Z"
   },
   {
    "duration": 20,
    "start_time": "2022-12-01T14:38:55.998Z"
   },
   {
    "duration": 6,
    "start_time": "2022-12-01T14:38:56.021Z"
   },
   {
    "duration": 7,
    "start_time": "2022-12-01T14:38:56.029Z"
   },
   {
    "duration": 6,
    "start_time": "2022-12-01T14:38:56.038Z"
   },
   {
    "duration": 11,
    "start_time": "2022-12-01T14:38:56.046Z"
   },
   {
    "duration": 2828,
    "start_time": "2022-12-01T14:38:56.059Z"
   },
   {
    "duration": 10,
    "start_time": "2022-12-01T14:38:58.889Z"
   },
   {
    "duration": 59,
    "start_time": "2022-12-01T14:38:58.900Z"
   },
   {
    "duration": 0,
    "start_time": "2022-12-01T14:38:58.961Z"
   },
   {
    "duration": 0,
    "start_time": "2022-12-01T14:38:58.963Z"
   },
   {
    "duration": 0,
    "start_time": "2022-12-01T14:38:58.964Z"
   },
   {
    "duration": 0,
    "start_time": "2022-12-01T14:38:58.965Z"
   },
   {
    "duration": 0,
    "start_time": "2022-12-01T14:38:58.966Z"
   },
   {
    "duration": 0,
    "start_time": "2022-12-01T14:38:58.967Z"
   },
   {
    "duration": 0,
    "start_time": "2022-12-01T14:38:58.969Z"
   },
   {
    "duration": 0,
    "start_time": "2022-12-01T14:38:58.970Z"
   },
   {
    "duration": 55,
    "start_time": "2022-12-01T14:39:11.253Z"
   },
   {
    "duration": 26,
    "start_time": "2022-12-01T14:39:37.929Z"
   },
   {
    "duration": 23,
    "start_time": "2022-12-01T14:40:03.721Z"
   },
   {
    "duration": 25,
    "start_time": "2022-12-01T14:40:43.330Z"
   },
   {
    "duration": 23,
    "start_time": "2022-12-01T14:40:48.626Z"
   },
   {
    "duration": 520,
    "start_time": "2022-12-01T14:41:03.324Z"
   },
   {
    "duration": 17,
    "start_time": "2022-12-01T14:41:03.846Z"
   },
   {
    "duration": 58,
    "start_time": "2022-12-01T14:41:03.864Z"
   },
   {
    "duration": 7,
    "start_time": "2022-12-01T14:41:03.924Z"
   },
   {
    "duration": 11,
    "start_time": "2022-12-01T14:41:03.933Z"
   },
   {
    "duration": 9,
    "start_time": "2022-12-01T14:41:03.945Z"
   },
   {
    "duration": 5,
    "start_time": "2022-12-01T14:41:03.955Z"
   },
   {
    "duration": 15,
    "start_time": "2022-12-01T14:41:03.962Z"
   },
   {
    "duration": 2400,
    "start_time": "2022-12-01T14:41:03.979Z"
   },
   {
    "duration": 10,
    "start_time": "2022-12-01T14:41:06.381Z"
   },
   {
    "duration": 29,
    "start_time": "2022-12-01T14:41:06.393Z"
   },
   {
    "duration": 6,
    "start_time": "2022-12-01T14:41:06.424Z"
   },
   {
    "duration": 49,
    "start_time": "2022-12-01T14:41:06.432Z"
   },
   {
    "duration": 85,
    "start_time": "2022-12-01T14:41:06.484Z"
   },
   {
    "duration": 374,
    "start_time": "2022-12-01T14:41:06.572Z"
   },
   {
    "duration": 319,
    "start_time": "2022-12-01T14:41:06.947Z"
   },
   {
    "duration": 214,
    "start_time": "2022-12-01T14:41:07.268Z"
   },
   {
    "duration": 281,
    "start_time": "2022-12-01T14:41:07.484Z"
   },
   {
    "duration": 198,
    "start_time": "2022-12-01T14:41:07.767Z"
   },
   {
    "duration": 506,
    "start_time": "2022-12-01T14:44:33.325Z"
   },
   {
    "duration": 16,
    "start_time": "2022-12-01T14:44:33.833Z"
   },
   {
    "duration": 61,
    "start_time": "2022-12-01T14:44:33.853Z"
   },
   {
    "duration": 7,
    "start_time": "2022-12-01T14:44:33.916Z"
   },
   {
    "duration": 7,
    "start_time": "2022-12-01T14:44:33.925Z"
   },
   {
    "duration": 8,
    "start_time": "2022-12-01T14:44:33.934Z"
   },
   {
    "duration": 15,
    "start_time": "2022-12-01T14:44:33.944Z"
   },
   {
    "duration": 7,
    "start_time": "2022-12-01T14:44:33.960Z"
   },
   {
    "duration": 2391,
    "start_time": "2022-12-01T14:44:33.969Z"
   },
   {
    "duration": 11,
    "start_time": "2022-12-01T14:44:36.362Z"
   },
   {
    "duration": 28,
    "start_time": "2022-12-01T14:44:36.375Z"
   },
   {
    "duration": 14,
    "start_time": "2022-12-01T14:44:36.404Z"
   },
   {
    "duration": 53,
    "start_time": "2022-12-01T14:44:36.421Z"
   },
   {
    "duration": 55,
    "start_time": "2022-12-01T14:44:36.476Z"
   },
   {
    "duration": 393,
    "start_time": "2022-12-01T14:44:36.536Z"
   },
   {
    "duration": 327,
    "start_time": "2022-12-01T14:44:36.931Z"
   },
   {
    "duration": 218,
    "start_time": "2022-12-01T14:44:37.260Z"
   },
   {
    "duration": 298,
    "start_time": "2022-12-01T14:44:37.480Z"
   },
   {
    "duration": 204,
    "start_time": "2022-12-01T14:44:37.780Z"
   },
   {
    "duration": 25,
    "start_time": "2022-12-01T14:45:19.695Z"
   },
   {
    "duration": 518,
    "start_time": "2022-12-01T14:45:31.979Z"
   },
   {
    "duration": 15,
    "start_time": "2022-12-01T14:45:32.500Z"
   },
   {
    "duration": 47,
    "start_time": "2022-12-01T14:45:32.517Z"
   },
   {
    "duration": 6,
    "start_time": "2022-12-01T14:45:32.566Z"
   },
   {
    "duration": 6,
    "start_time": "2022-12-01T14:45:32.574Z"
   },
   {
    "duration": 32,
    "start_time": "2022-12-01T14:45:32.581Z"
   },
   {
    "duration": 5,
    "start_time": "2022-12-01T14:45:32.615Z"
   },
   {
    "duration": 10,
    "start_time": "2022-12-01T14:45:32.622Z"
   },
   {
    "duration": 2418,
    "start_time": "2022-12-01T14:45:32.634Z"
   },
   {
    "duration": 10,
    "start_time": "2022-12-01T14:45:35.054Z"
   },
   {
    "duration": 29,
    "start_time": "2022-12-01T14:45:35.065Z"
   },
   {
    "duration": 5,
    "start_time": "2022-12-01T14:45:35.096Z"
   },
   {
    "duration": 48,
    "start_time": "2022-12-01T14:45:35.103Z"
   },
   {
    "duration": 66,
    "start_time": "2022-12-01T14:45:35.154Z"
   },
   {
    "duration": 412,
    "start_time": "2022-12-01T14:45:35.222Z"
   },
   {
    "duration": 369,
    "start_time": "2022-12-01T14:45:35.636Z"
   },
   {
    "duration": 253,
    "start_time": "2022-12-01T14:45:36.007Z"
   },
   {
    "duration": 341,
    "start_time": "2022-12-01T14:45:36.262Z"
   },
   {
    "duration": 230,
    "start_time": "2022-12-01T14:45:36.605Z"
   },
   {
    "duration": 506,
    "start_time": "2022-12-01T14:46:21.474Z"
   },
   {
    "duration": 16,
    "start_time": "2022-12-01T14:46:21.982Z"
   },
   {
    "duration": 56,
    "start_time": "2022-12-01T14:46:22.000Z"
   },
   {
    "duration": 8,
    "start_time": "2022-12-01T14:46:22.058Z"
   },
   {
    "duration": 8,
    "start_time": "2022-12-01T14:46:22.069Z"
   },
   {
    "duration": 37,
    "start_time": "2022-12-01T14:46:22.079Z"
   },
   {
    "duration": 7,
    "start_time": "2022-12-01T14:46:22.118Z"
   },
   {
    "duration": 11,
    "start_time": "2022-12-01T14:46:22.127Z"
   },
   {
    "duration": 2404,
    "start_time": "2022-12-01T14:46:22.140Z"
   },
   {
    "duration": 11,
    "start_time": "2022-12-01T14:46:24.545Z"
   },
   {
    "duration": 149,
    "start_time": "2022-12-01T14:46:24.558Z"
   },
   {
    "duration": 0,
    "start_time": "2022-12-01T14:46:24.709Z"
   },
   {
    "duration": 0,
    "start_time": "2022-12-01T14:46:24.710Z"
   },
   {
    "duration": 0,
    "start_time": "2022-12-01T14:46:24.711Z"
   },
   {
    "duration": 0,
    "start_time": "2022-12-01T14:46:24.713Z"
   },
   {
    "duration": 0,
    "start_time": "2022-12-01T14:46:24.714Z"
   },
   {
    "duration": 0,
    "start_time": "2022-12-01T14:46:24.715Z"
   },
   {
    "duration": 0,
    "start_time": "2022-12-01T14:46:24.717Z"
   },
   {
    "duration": 0,
    "start_time": "2022-12-01T14:46:24.718Z"
   },
   {
    "duration": 540,
    "start_time": "2022-12-01T14:48:34.645Z"
   },
   {
    "duration": 17,
    "start_time": "2022-12-01T14:48:35.188Z"
   },
   {
    "duration": 52,
    "start_time": "2022-12-01T14:48:35.213Z"
   },
   {
    "duration": 7,
    "start_time": "2022-12-01T14:48:35.266Z"
   },
   {
    "duration": 28,
    "start_time": "2022-12-01T14:48:35.275Z"
   },
   {
    "duration": 31,
    "start_time": "2022-12-01T14:48:35.304Z"
   },
   {
    "duration": 23,
    "start_time": "2022-12-01T14:48:35.338Z"
   },
   {
    "duration": 36,
    "start_time": "2022-12-01T14:48:35.363Z"
   },
   {
    "duration": 2619,
    "start_time": "2022-12-01T14:48:35.401Z"
   },
   {
    "duration": 10,
    "start_time": "2022-12-01T14:48:38.022Z"
   },
   {
    "duration": 33,
    "start_time": "2022-12-01T14:48:38.033Z"
   },
   {
    "duration": 15,
    "start_time": "2022-12-01T14:48:38.068Z"
   },
   {
    "duration": 49,
    "start_time": "2022-12-01T14:48:38.085Z"
   },
   {
    "duration": 61,
    "start_time": "2022-12-01T14:48:38.137Z"
   },
   {
    "duration": 371,
    "start_time": "2022-12-01T14:48:38.200Z"
   },
   {
    "duration": 330,
    "start_time": "2022-12-01T14:48:38.573Z"
   },
   {
    "duration": 218,
    "start_time": "2022-12-01T14:48:38.905Z"
   },
   {
    "duration": 314,
    "start_time": "2022-12-01T14:48:39.125Z"
   },
   {
    "duration": 207,
    "start_time": "2022-12-01T14:48:39.441Z"
   },
   {
    "duration": 731,
    "start_time": "2022-12-01T16:03:17.880Z"
   },
   {
    "duration": 16,
    "start_time": "2022-12-01T16:03:18.614Z"
   },
   {
    "duration": 53,
    "start_time": "2022-12-01T16:03:18.632Z"
   },
   {
    "duration": 6,
    "start_time": "2022-12-01T16:03:18.686Z"
   },
   {
    "duration": 14,
    "start_time": "2022-12-01T16:03:18.694Z"
   },
   {
    "duration": 12,
    "start_time": "2022-12-01T16:03:18.709Z"
   },
   {
    "duration": 8,
    "start_time": "2022-12-01T16:03:18.734Z"
   },
   {
    "duration": 34,
    "start_time": "2022-12-01T16:03:18.744Z"
   },
   {
    "duration": 2699,
    "start_time": "2022-12-01T16:03:18.782Z"
   },
   {
    "duration": 13,
    "start_time": "2022-12-01T16:03:21.483Z"
   },
   {
    "duration": 28,
    "start_time": "2022-12-01T16:03:21.498Z"
   },
   {
    "duration": 12,
    "start_time": "2022-12-01T16:03:21.527Z"
   },
   {
    "duration": 55,
    "start_time": "2022-12-01T16:03:21.541Z"
   },
   {
    "duration": 75,
    "start_time": "2022-12-01T16:03:21.598Z"
   },
   {
    "duration": 356,
    "start_time": "2022-12-01T16:03:21.674Z"
   },
   {
    "duration": 357,
    "start_time": "2022-12-01T16:03:22.035Z"
   },
   {
    "duration": 390,
    "start_time": "2022-12-01T16:03:22.394Z"
   },
   {
    "duration": 203,
    "start_time": "2022-12-01T16:03:22.786Z"
   },
   {
    "duration": 214,
    "start_time": "2022-12-01T16:03:22.992Z"
   },
   {
    "duration": 409,
    "start_time": "2022-12-01T16:03:37.018Z"
   },
   {
    "duration": 316,
    "start_time": "2022-12-01T16:03:55.069Z"
   },
   {
    "duration": 498,
    "start_time": "2022-12-01T16:05:11.861Z"
   },
   {
    "duration": 399,
    "start_time": "2022-12-01T16:05:26.678Z"
   },
   {
    "duration": 425,
    "start_time": "2022-12-01T16:05:32.694Z"
   },
   {
    "duration": 505,
    "start_time": "2022-12-01T16:06:27.255Z"
   },
   {
    "duration": 478,
    "start_time": "2022-12-01T16:06:44.910Z"
   },
   {
    "duration": 404,
    "start_time": "2022-12-01T16:07:19.020Z"
   },
   {
    "duration": 364,
    "start_time": "2022-12-01T16:07:29.451Z"
   },
   {
    "duration": 328,
    "start_time": "2022-12-01T16:07:40.734Z"
   },
   {
    "duration": 435,
    "start_time": "2022-12-01T16:07:47.709Z"
   },
   {
    "duration": 321,
    "start_time": "2022-12-01T16:07:55.302Z"
   },
   {
    "duration": 328,
    "start_time": "2022-12-01T16:08:06.270Z"
   },
   {
    "duration": 346,
    "start_time": "2022-12-01T16:11:06.111Z"
   },
   {
    "duration": 462,
    "start_time": "2022-12-01T16:12:22.062Z"
   },
   {
    "duration": 386,
    "start_time": "2022-12-01T16:17:32.286Z"
   },
   {
    "duration": 302,
    "start_time": "2022-12-01T16:53:24.270Z"
   },
   {
    "duration": 531,
    "start_time": "2022-12-01T16:55:04.981Z"
   },
   {
    "duration": 398,
    "start_time": "2022-12-01T16:57:17.126Z"
   },
   {
    "duration": 369,
    "start_time": "2022-12-01T16:57:26.465Z"
   },
   {
    "duration": 357,
    "start_time": "2022-12-01T16:57:36.576Z"
   },
   {
    "duration": 357,
    "start_time": "2022-12-01T16:57:48.705Z"
   },
   {
    "duration": 328,
    "start_time": "2022-12-01T16:58:01.850Z"
   },
   {
    "duration": 9,
    "start_time": "2022-12-01T18:40:39.089Z"
   },
   {
    "duration": 10,
    "start_time": "2022-12-01T18:40:50.496Z"
   },
   {
    "duration": 8,
    "start_time": "2022-12-01T18:47:09.060Z"
   },
   {
    "duration": 11,
    "start_time": "2022-12-01T18:47:29.857Z"
   },
   {
    "duration": 9,
    "start_time": "2022-12-01T18:47:30.854Z"
   },
   {
    "duration": 8,
    "start_time": "2022-12-01T18:47:47.954Z"
   },
   {
    "duration": 508,
    "start_time": "2022-12-01T18:47:58.150Z"
   },
   {
    "duration": 17,
    "start_time": "2022-12-01T18:47:58.660Z"
   },
   {
    "duration": 63,
    "start_time": "2022-12-01T18:47:58.679Z"
   },
   {
    "duration": 8,
    "start_time": "2022-12-01T18:47:58.750Z"
   },
   {
    "duration": 11,
    "start_time": "2022-12-01T18:47:58.761Z"
   },
   {
    "duration": 9,
    "start_time": "2022-12-01T18:47:58.774Z"
   },
   {
    "duration": 7,
    "start_time": "2022-12-01T18:47:58.785Z"
   },
   {
    "duration": 24,
    "start_time": "2022-12-01T18:47:58.794Z"
   },
   {
    "duration": 2269,
    "start_time": "2022-12-01T18:47:58.820Z"
   },
   {
    "duration": 10,
    "start_time": "2022-12-01T18:48:01.091Z"
   },
   {
    "duration": 45,
    "start_time": "2022-12-01T18:48:01.103Z"
   },
   {
    "duration": 23,
    "start_time": "2022-12-01T18:48:01.150Z"
   },
   {
    "duration": 59,
    "start_time": "2022-12-01T18:48:01.175Z"
   },
   {
    "duration": 61,
    "start_time": "2022-12-01T18:48:01.236Z"
   },
   {
    "duration": 352,
    "start_time": "2022-12-01T18:48:01.299Z"
   },
   {
    "duration": 290,
    "start_time": "2022-12-01T18:48:01.653Z"
   },
   {
    "duration": 210,
    "start_time": "2022-12-01T18:48:01.945Z"
   },
   {
    "duration": 286,
    "start_time": "2022-12-01T18:48:02.156Z"
   },
   {
    "duration": 226,
    "start_time": "2022-12-01T18:48:02.447Z"
   },
   {
    "duration": 396,
    "start_time": "2022-12-01T18:48:02.676Z"
   },
   {
    "duration": 332,
    "start_time": "2022-12-01T18:48:03.074Z"
   },
   {
    "duration": 83,
    "start_time": "2022-12-01T18:48:03.408Z"
   },
   {
    "duration": 329,
    "start_time": "2022-12-01T18:50:09.312Z"
   },
   {
    "duration": 207,
    "start_time": "2022-12-01T18:50:40.905Z"
   },
   {
    "duration": 111,
    "start_time": "2022-12-01T18:50:48.904Z"
   },
   {
    "duration": 114,
    "start_time": "2022-12-01T18:50:56.772Z"
   },
   {
    "duration": 250,
    "start_time": "2022-12-01T18:51:19.224Z"
   },
   {
    "duration": 127,
    "start_time": "2022-12-01T18:51:51.269Z"
   },
   {
    "duration": 481,
    "start_time": "2022-12-01T18:52:35.564Z"
   },
   {
    "duration": 15,
    "start_time": "2022-12-01T18:52:36.047Z"
   },
   {
    "duration": 43,
    "start_time": "2022-12-01T18:52:36.063Z"
   },
   {
    "duration": 6,
    "start_time": "2022-12-01T18:52:36.108Z"
   },
   {
    "duration": 5,
    "start_time": "2022-12-01T18:52:36.136Z"
   },
   {
    "duration": 8,
    "start_time": "2022-12-01T18:52:36.143Z"
   },
   {
    "duration": 5,
    "start_time": "2022-12-01T18:52:36.152Z"
   },
   {
    "duration": 9,
    "start_time": "2022-12-01T18:52:36.158Z"
   },
   {
    "duration": 2236,
    "start_time": "2022-12-01T18:52:36.169Z"
   },
   {
    "duration": 10,
    "start_time": "2022-12-01T18:52:38.407Z"
   },
   {
    "duration": 42,
    "start_time": "2022-12-01T18:52:38.419Z"
   },
   {
    "duration": 6,
    "start_time": "2022-12-01T18:52:38.463Z"
   },
   {
    "duration": 72,
    "start_time": "2022-12-01T18:52:38.470Z"
   },
   {
    "duration": 49,
    "start_time": "2022-12-01T18:52:38.545Z"
   },
   {
    "duration": 355,
    "start_time": "2022-12-01T18:52:38.596Z"
   },
   {
    "duration": 289,
    "start_time": "2022-12-01T18:52:38.953Z"
   },
   {
    "duration": 200,
    "start_time": "2022-12-01T18:52:39.244Z"
   },
   {
    "duration": 293,
    "start_time": "2022-12-01T18:52:39.445Z"
   },
   {
    "duration": 194,
    "start_time": "2022-12-01T18:52:39.739Z"
   },
   {
    "duration": 296,
    "start_time": "2022-12-01T18:52:39.935Z"
   },
   {
    "duration": 310,
    "start_time": "2022-12-01T18:52:40.233Z"
   },
   {
    "duration": 579,
    "start_time": "2022-12-01T19:00:46.759Z"
   },
   {
    "duration": 479,
    "start_time": "2022-12-01T19:02:01.660Z"
   },
   {
    "duration": 15,
    "start_time": "2022-12-01T19:02:02.142Z"
   },
   {
    "duration": 47,
    "start_time": "2022-12-01T19:02:02.159Z"
   },
   {
    "duration": 6,
    "start_time": "2022-12-01T19:02:02.208Z"
   },
   {
    "duration": 22,
    "start_time": "2022-12-01T19:02:02.216Z"
   },
   {
    "duration": 11,
    "start_time": "2022-12-01T19:02:02.240Z"
   },
   {
    "duration": 16,
    "start_time": "2022-12-01T19:02:02.253Z"
   },
   {
    "duration": 22,
    "start_time": "2022-12-01T19:02:02.271Z"
   },
   {
    "duration": 2270,
    "start_time": "2022-12-01T19:02:02.295Z"
   },
   {
    "duration": 10,
    "start_time": "2022-12-01T19:02:04.567Z"
   },
   {
    "duration": 32,
    "start_time": "2022-12-01T19:02:04.578Z"
   },
   {
    "duration": 5,
    "start_time": "2022-12-01T19:02:04.611Z"
   },
   {
    "duration": 38,
    "start_time": "2022-12-01T19:02:04.618Z"
   },
   {
    "duration": 53,
    "start_time": "2022-12-01T19:02:04.659Z"
   },
   {
    "duration": 336,
    "start_time": "2022-12-01T19:02:04.713Z"
   },
   {
    "duration": 293,
    "start_time": "2022-12-01T19:02:05.050Z"
   },
   {
    "duration": 196,
    "start_time": "2022-12-01T19:02:05.345Z"
   },
   {
    "duration": 265,
    "start_time": "2022-12-01T19:02:05.543Z"
   },
   {
    "duration": 193,
    "start_time": "2022-12-01T19:02:05.810Z"
   },
   {
    "duration": 289,
    "start_time": "2022-12-01T19:02:06.005Z"
   },
   {
    "duration": 315,
    "start_time": "2022-12-01T19:02:06.296Z"
   },
   {
    "duration": 657,
    "start_time": "2022-12-01T19:02:06.613Z"
   },
   {
    "duration": 688,
    "start_time": "2022-12-01T19:06:59.102Z"
   },
   {
    "duration": 553,
    "start_time": "2022-12-01T19:35:32.110Z"
   },
   {
    "duration": 508,
    "start_time": "2022-12-01T19:52:35.091Z"
   },
   {
    "duration": 149,
    "start_time": "2022-12-01T20:30:03.836Z"
   },
   {
    "duration": 185,
    "start_time": "2022-12-01T20:41:49.036Z"
   },
   {
    "duration": 146,
    "start_time": "2022-12-01T20:44:58.248Z"
   },
   {
    "duration": 165,
    "start_time": "2022-12-01T20:51:46.534Z"
   },
   {
    "duration": 255,
    "start_time": "2022-12-01T20:57:03.592Z"
   },
   {
    "duration": 146,
    "start_time": "2022-12-01T20:57:07.723Z"
   },
   {
    "duration": 509,
    "start_time": "2022-12-01T20:57:11.958Z"
   },
   {
    "duration": 19,
    "start_time": "2022-12-01T20:57:12.469Z"
   },
   {
    "duration": 65,
    "start_time": "2022-12-01T20:57:12.490Z"
   },
   {
    "duration": 9,
    "start_time": "2022-12-01T20:57:12.558Z"
   },
   {
    "duration": 17,
    "start_time": "2022-12-01T20:57:12.569Z"
   },
   {
    "duration": 10,
    "start_time": "2022-12-01T20:57:12.588Z"
   },
   {
    "duration": 11,
    "start_time": "2022-12-01T20:57:12.600Z"
   },
   {
    "duration": 14,
    "start_time": "2022-12-01T20:57:12.613Z"
   },
   {
    "duration": 2089,
    "start_time": "2022-12-01T20:57:12.628Z"
   },
   {
    "duration": 11,
    "start_time": "2022-12-01T20:57:14.720Z"
   },
   {
    "duration": 25,
    "start_time": "2022-12-01T20:57:14.734Z"
   },
   {
    "duration": 6,
    "start_time": "2022-12-01T20:57:14.760Z"
   },
   {
    "duration": 35,
    "start_time": "2022-12-01T20:57:14.767Z"
   },
   {
    "duration": 65,
    "start_time": "2022-12-01T20:57:14.804Z"
   },
   {
    "duration": 326,
    "start_time": "2022-12-01T20:57:14.871Z"
   },
   {
    "duration": 286,
    "start_time": "2022-12-01T20:57:15.199Z"
   },
   {
    "duration": 191,
    "start_time": "2022-12-01T20:57:15.486Z"
   },
   {
    "duration": 258,
    "start_time": "2022-12-01T20:57:15.679Z"
   },
   {
    "duration": 191,
    "start_time": "2022-12-01T20:57:15.938Z"
   },
   {
    "duration": 281,
    "start_time": "2022-12-01T20:57:16.131Z"
   },
   {
    "duration": 304,
    "start_time": "2022-12-01T20:57:16.414Z"
   },
   {
    "duration": 509,
    "start_time": "2022-12-01T20:57:16.721Z"
   },
   {
    "duration": 146,
    "start_time": "2022-12-01T20:57:17.234Z"
   },
   {
    "duration": 169,
    "start_time": "2022-12-01T20:57:17.382Z"
   },
   {
    "duration": 243,
    "start_time": "2022-12-01T20:57:17.553Z"
   },
   {
    "duration": 158,
    "start_time": "2022-12-01T20:57:17.798Z"
   },
   {
    "duration": 727,
    "start_time": "2022-12-01T21:03:41.085Z"
   },
   {
    "duration": 222,
    "start_time": "2022-12-01T21:03:52.733Z"
   },
   {
    "duration": 148,
    "start_time": "2022-12-01T21:08:12.039Z"
   },
   {
    "duration": 154,
    "start_time": "2022-12-01T21:19:50.385Z"
   },
   {
    "duration": 169,
    "start_time": "2022-12-01T21:20:12.614Z"
   },
   {
    "duration": 156,
    "start_time": "2022-12-01T21:26:02.049Z"
   },
   {
    "duration": 163,
    "start_time": "2022-12-01T21:26:15.602Z"
   },
   {
    "duration": 145,
    "start_time": "2022-12-01T21:40:05.577Z"
   },
   {
    "duration": 25,
    "start_time": "2022-12-01T21:50:10.557Z"
   },
   {
    "duration": 25,
    "start_time": "2022-12-01T21:52:18.740Z"
   },
   {
    "duration": 26,
    "start_time": "2022-12-01T21:52:40.262Z"
   },
   {
    "duration": 162,
    "start_time": "2022-12-01T22:07:30.034Z"
   },
   {
    "duration": 16,
    "start_time": "2022-12-01T22:08:27.394Z"
   },
   {
    "duration": 160,
    "start_time": "2022-12-01T22:08:42.614Z"
   },
   {
    "duration": 152,
    "start_time": "2022-12-01T22:11:44.214Z"
   },
   {
    "duration": 511,
    "start_time": "2022-12-01T22:44:35.328Z"
   },
   {
    "duration": 15,
    "start_time": "2022-12-01T22:44:35.841Z"
   },
   {
    "duration": 42,
    "start_time": "2022-12-01T22:44:35.858Z"
   },
   {
    "duration": 8,
    "start_time": "2022-12-01T22:44:35.902Z"
   },
   {
    "duration": 7,
    "start_time": "2022-12-01T22:44:35.937Z"
   },
   {
    "duration": 12,
    "start_time": "2022-12-01T22:44:35.945Z"
   },
   {
    "duration": 6,
    "start_time": "2022-12-01T22:44:35.959Z"
   },
   {
    "duration": 17,
    "start_time": "2022-12-01T22:44:35.967Z"
   },
   {
    "duration": 2175,
    "start_time": "2022-12-01T22:44:35.986Z"
   },
   {
    "duration": 9,
    "start_time": "2022-12-01T22:44:38.163Z"
   },
   {
    "duration": 24,
    "start_time": "2022-12-01T22:44:38.173Z"
   },
   {
    "duration": 6,
    "start_time": "2022-12-01T22:44:38.198Z"
   },
   {
    "duration": 48,
    "start_time": "2022-12-01T22:44:38.206Z"
   },
   {
    "duration": 52,
    "start_time": "2022-12-01T22:44:38.258Z"
   },
   {
    "duration": 344,
    "start_time": "2022-12-01T22:44:38.312Z"
   },
   {
    "duration": 305,
    "start_time": "2022-12-01T22:44:38.658Z"
   },
   {
    "duration": 192,
    "start_time": "2022-12-01T22:44:38.965Z"
   },
   {
    "duration": 257,
    "start_time": "2022-12-01T22:44:39.159Z"
   },
   {
    "duration": 180,
    "start_time": "2022-12-01T22:44:39.418Z"
   },
   {
    "duration": 268,
    "start_time": "2022-12-01T22:44:39.600Z"
   },
   {
    "duration": 308,
    "start_time": "2022-12-01T22:44:39.869Z"
   },
   {
    "duration": 468,
    "start_time": "2022-12-01T22:44:40.179Z"
   },
   {
    "duration": 146,
    "start_time": "2022-12-01T22:44:40.649Z"
   },
   {
    "duration": 161,
    "start_time": "2022-12-01T22:44:40.797Z"
   },
   {
    "duration": 241,
    "start_time": "2022-12-01T22:44:40.960Z"
   },
   {
    "duration": 154,
    "start_time": "2022-12-01T22:44:41.203Z"
   },
   {
    "duration": 149,
    "start_time": "2022-12-01T22:44:41.358Z"
   },
   {
    "duration": 162,
    "start_time": "2022-12-01T22:44:41.510Z"
   },
   {
    "duration": 166,
    "start_time": "2022-12-01T22:44:41.673Z"
   },
   {
    "duration": 164,
    "start_time": "2022-12-01T22:44:41.840Z"
   },
   {
    "duration": 31,
    "start_time": "2022-12-01T22:44:42.005Z"
   },
   {
    "duration": 169,
    "start_time": "2022-12-01T22:44:42.038Z"
   },
   {
    "duration": 48,
    "start_time": "2022-12-02T17:49:44.065Z"
   },
   {
    "duration": 715,
    "start_time": "2022-12-02T17:50:53.561Z"
   },
   {
    "duration": 18,
    "start_time": "2022-12-02T17:50:54.278Z"
   },
   {
    "duration": 51,
    "start_time": "2022-12-02T17:50:54.297Z"
   },
   {
    "duration": 8,
    "start_time": "2022-12-02T17:50:54.350Z"
   },
   {
    "duration": 7,
    "start_time": "2022-12-02T17:50:54.359Z"
   },
   {
    "duration": 20,
    "start_time": "2022-12-02T17:50:54.367Z"
   },
   {
    "duration": 7,
    "start_time": "2022-12-02T17:50:54.389Z"
   },
   {
    "duration": 14,
    "start_time": "2022-12-02T17:50:54.398Z"
   },
   {
    "duration": 2480,
    "start_time": "2022-12-02T17:50:54.413Z"
   },
   {
    "duration": 11,
    "start_time": "2022-12-02T17:50:56.896Z"
   },
   {
    "duration": 32,
    "start_time": "2022-12-02T17:50:56.909Z"
   },
   {
    "duration": 9,
    "start_time": "2022-12-02T17:50:56.943Z"
   },
   {
    "duration": 47,
    "start_time": "2022-12-02T17:50:56.953Z"
   },
   {
    "duration": 65,
    "start_time": "2022-12-02T17:50:57.002Z"
   },
   {
    "duration": 383,
    "start_time": "2022-12-02T17:50:57.070Z"
   },
   {
    "duration": 305,
    "start_time": "2022-12-02T17:50:57.455Z"
   },
   {
    "duration": 292,
    "start_time": "2022-12-02T17:50:57.761Z"
   },
   {
    "duration": 203,
    "start_time": "2022-12-02T17:50:58.055Z"
   },
   {
    "duration": 196,
    "start_time": "2022-12-02T17:50:58.260Z"
   },
   {
    "duration": 309,
    "start_time": "2022-12-02T17:50:58.458Z"
   },
   {
    "duration": 341,
    "start_time": "2022-12-02T17:50:58.769Z"
   },
   {
    "duration": 549,
    "start_time": "2022-12-02T17:50:59.112Z"
   },
   {
    "duration": 154,
    "start_time": "2022-12-02T17:50:59.663Z"
   },
   {
    "duration": 287,
    "start_time": "2022-12-02T17:50:59.818Z"
   },
   {
    "duration": 156,
    "start_time": "2022-12-02T17:51:00.106Z"
   },
   {
    "duration": 158,
    "start_time": "2022-12-02T17:51:00.263Z"
   },
   {
    "duration": 175,
    "start_time": "2022-12-02T17:51:00.422Z"
   },
   {
    "duration": 185,
    "start_time": "2022-12-02T17:51:00.602Z"
   },
   {
    "duration": 192,
    "start_time": "2022-12-02T17:51:00.789Z"
   },
   {
    "duration": 168,
    "start_time": "2022-12-02T17:51:00.983Z"
   },
   {
    "duration": 24,
    "start_time": "2022-12-02T17:51:01.153Z"
   },
   {
    "duration": 184,
    "start_time": "2022-12-02T17:51:01.179Z"
   },
   {
    "duration": 43,
    "start_time": "2022-12-08T07:50:12.209Z"
   },
   {
    "duration": 745,
    "start_time": "2022-12-08T07:50:16.013Z"
   },
   {
    "duration": 14,
    "start_time": "2022-12-08T07:50:16.759Z"
   },
   {
    "duration": 42,
    "start_time": "2022-12-08T07:50:16.774Z"
   },
   {
    "duration": 5,
    "start_time": "2022-12-08T07:50:16.818Z"
   },
   {
    "duration": 27,
    "start_time": "2022-12-08T07:50:16.825Z"
   },
   {
    "duration": 10,
    "start_time": "2022-12-08T07:50:16.854Z"
   },
   {
    "duration": 27,
    "start_time": "2022-12-08T07:50:16.865Z"
   },
   {
    "duration": 29,
    "start_time": "2022-12-08T07:50:16.894Z"
   },
   {
    "duration": 2109,
    "start_time": "2022-12-08T07:50:16.925Z"
   },
   {
    "duration": 0,
    "start_time": "2022-12-08T07:50:19.037Z"
   },
   {
    "duration": 0,
    "start_time": "2022-12-08T07:50:19.040Z"
   },
   {
    "duration": 0,
    "start_time": "2022-12-08T07:50:19.041Z"
   },
   {
    "duration": 0,
    "start_time": "2022-12-08T07:50:19.043Z"
   },
   {
    "duration": 0,
    "start_time": "2022-12-08T07:50:19.044Z"
   },
   {
    "duration": 0,
    "start_time": "2022-12-08T07:50:19.045Z"
   },
   {
    "duration": 0,
    "start_time": "2022-12-08T07:50:19.047Z"
   },
   {
    "duration": 0,
    "start_time": "2022-12-08T07:50:19.048Z"
   },
   {
    "duration": 0,
    "start_time": "2022-12-08T07:50:19.050Z"
   },
   {
    "duration": 0,
    "start_time": "2022-12-08T07:50:19.051Z"
   },
   {
    "duration": 0,
    "start_time": "2022-12-08T07:50:19.052Z"
   },
   {
    "duration": 0,
    "start_time": "2022-12-08T07:50:19.054Z"
   },
   {
    "duration": 0,
    "start_time": "2022-12-08T07:50:19.055Z"
   },
   {
    "duration": 0,
    "start_time": "2022-12-08T07:50:19.056Z"
   },
   {
    "duration": 0,
    "start_time": "2022-12-08T07:50:19.058Z"
   },
   {
    "duration": 0,
    "start_time": "2022-12-08T07:50:19.059Z"
   },
   {
    "duration": 0,
    "start_time": "2022-12-08T07:50:19.061Z"
   },
   {
    "duration": 0,
    "start_time": "2022-12-08T07:50:19.062Z"
   },
   {
    "duration": 0,
    "start_time": "2022-12-08T07:50:19.064Z"
   },
   {
    "duration": 0,
    "start_time": "2022-12-08T07:50:19.065Z"
   },
   {
    "duration": 0,
    "start_time": "2022-12-08T07:50:19.098Z"
   },
   {
    "duration": 0,
    "start_time": "2022-12-08T07:50:19.099Z"
   },
   {
    "duration": 0,
    "start_time": "2022-12-08T07:50:19.101Z"
   },
   {
    "duration": 11,
    "start_time": "2022-12-08T07:51:00.168Z"
   },
   {
    "duration": 502,
    "start_time": "2022-12-08T10:24:46.587Z"
   },
   {
    "duration": 15,
    "start_time": "2022-12-08T10:24:47.091Z"
   },
   {
    "duration": 43,
    "start_time": "2022-12-08T10:24:47.107Z"
   },
   {
    "duration": 13,
    "start_time": "2022-12-08T10:24:47.152Z"
   },
   {
    "duration": 9,
    "start_time": "2022-12-08T10:24:47.168Z"
   },
   {
    "duration": 25,
    "start_time": "2022-12-08T10:24:47.178Z"
   },
   {
    "duration": 5,
    "start_time": "2022-12-08T10:24:47.204Z"
   },
   {
    "duration": 14,
    "start_time": "2022-12-08T10:24:47.210Z"
   },
   {
    "duration": 2243,
    "start_time": "2022-12-08T10:24:47.225Z"
   },
   {
    "duration": 0,
    "start_time": "2022-12-08T10:24:49.488Z"
   },
   {
    "duration": 0,
    "start_time": "2022-12-08T10:24:49.490Z"
   },
   {
    "duration": 0,
    "start_time": "2022-12-08T10:24:49.491Z"
   },
   {
    "duration": 0,
    "start_time": "2022-12-08T10:24:49.492Z"
   },
   {
    "duration": 0,
    "start_time": "2022-12-08T10:24:49.494Z"
   },
   {
    "duration": 0,
    "start_time": "2022-12-08T10:24:49.497Z"
   },
   {
    "duration": 0,
    "start_time": "2022-12-08T10:24:49.498Z"
   },
   {
    "duration": 0,
    "start_time": "2022-12-08T10:24:49.499Z"
   },
   {
    "duration": 1,
    "start_time": "2022-12-08T10:24:49.500Z"
   },
   {
    "duration": 0,
    "start_time": "2022-12-08T10:24:49.502Z"
   },
   {
    "duration": 0,
    "start_time": "2022-12-08T10:24:49.503Z"
   },
   {
    "duration": 0,
    "start_time": "2022-12-08T10:24:49.504Z"
   },
   {
    "duration": 0,
    "start_time": "2022-12-08T10:24:49.506Z"
   },
   {
    "duration": 0,
    "start_time": "2022-12-08T10:24:49.507Z"
   },
   {
    "duration": 0,
    "start_time": "2022-12-08T10:24:49.509Z"
   },
   {
    "duration": 0,
    "start_time": "2022-12-08T10:24:49.510Z"
   },
   {
    "duration": 0,
    "start_time": "2022-12-08T10:24:49.512Z"
   },
   {
    "duration": 0,
    "start_time": "2022-12-08T10:24:49.513Z"
   },
   {
    "duration": 0,
    "start_time": "2022-12-08T10:24:49.514Z"
   },
   {
    "duration": 0,
    "start_time": "2022-12-08T10:24:49.515Z"
   },
   {
    "duration": 0,
    "start_time": "2022-12-08T10:24:49.516Z"
   },
   {
    "duration": 0,
    "start_time": "2022-12-08T10:24:49.517Z"
   },
   {
    "duration": 0,
    "start_time": "2022-12-08T10:24:49.518Z"
   },
   {
    "duration": 506,
    "start_time": "2022-12-08T15:17:44.109Z"
   },
   {
    "duration": 15,
    "start_time": "2022-12-08T15:17:44.617Z"
   },
   {
    "duration": 70,
    "start_time": "2022-12-08T15:17:44.635Z"
   },
   {
    "duration": 9,
    "start_time": "2022-12-08T15:17:44.707Z"
   },
   {
    "duration": 27,
    "start_time": "2022-12-08T15:17:44.718Z"
   },
   {
    "duration": 14,
    "start_time": "2022-12-08T15:17:44.747Z"
   },
   {
    "duration": 11,
    "start_time": "2022-12-08T15:17:44.764Z"
   },
   {
    "duration": 20,
    "start_time": "2022-12-08T15:17:44.777Z"
   },
   {
    "duration": 2251,
    "start_time": "2022-12-08T15:17:44.799Z"
   },
   {
    "duration": 0,
    "start_time": "2022-12-08T15:17:47.053Z"
   },
   {
    "duration": 0,
    "start_time": "2022-12-08T15:17:47.054Z"
   },
   {
    "duration": 0,
    "start_time": "2022-12-08T15:17:47.055Z"
   },
   {
    "duration": 0,
    "start_time": "2022-12-08T15:17:47.056Z"
   },
   {
    "duration": 0,
    "start_time": "2022-12-08T15:17:47.057Z"
   },
   {
    "duration": 0,
    "start_time": "2022-12-08T15:17:47.058Z"
   },
   {
    "duration": 0,
    "start_time": "2022-12-08T15:17:47.060Z"
   },
   {
    "duration": 0,
    "start_time": "2022-12-08T15:17:47.061Z"
   },
   {
    "duration": 0,
    "start_time": "2022-12-08T15:17:47.062Z"
   },
   {
    "duration": 0,
    "start_time": "2022-12-08T15:17:47.064Z"
   },
   {
    "duration": 0,
    "start_time": "2022-12-08T15:17:47.065Z"
   },
   {
    "duration": 0,
    "start_time": "2022-12-08T15:17:47.067Z"
   },
   {
    "duration": 0,
    "start_time": "2022-12-08T15:17:47.068Z"
   },
   {
    "duration": 0,
    "start_time": "2022-12-08T15:17:47.070Z"
   },
   {
    "duration": 0,
    "start_time": "2022-12-08T15:17:47.071Z"
   },
   {
    "duration": 0,
    "start_time": "2022-12-08T15:17:47.073Z"
   },
   {
    "duration": 0,
    "start_time": "2022-12-08T15:17:47.074Z"
   },
   {
    "duration": 0,
    "start_time": "2022-12-08T15:17:47.075Z"
   },
   {
    "duration": 0,
    "start_time": "2022-12-08T15:17:47.077Z"
   },
   {
    "duration": 0,
    "start_time": "2022-12-08T15:17:47.098Z"
   },
   {
    "duration": 0,
    "start_time": "2022-12-08T15:17:47.099Z"
   },
   {
    "duration": 0,
    "start_time": "2022-12-08T15:17:47.100Z"
   },
   {
    "duration": 0,
    "start_time": "2022-12-08T15:17:47.101Z"
   },
   {
    "duration": 192,
    "start_time": "2022-12-08T15:18:14.795Z"
   },
   {
    "duration": 478,
    "start_time": "2022-12-08T16:14:39.128Z"
   },
   {
    "duration": 266,
    "start_time": "2022-12-08T16:14:48.582Z"
   },
   {
    "duration": 405,
    "start_time": "2022-12-08T16:14:51.110Z"
   },
   {
    "duration": 129,
    "start_time": "2022-12-08T16:15:36.599Z"
   },
   {
    "duration": 138,
    "start_time": "2022-12-08T16:15:39.488Z"
   },
   {
    "duration": 53,
    "start_time": "2022-12-11T10:05:32.974Z"
   },
   {
    "duration": 537,
    "start_time": "2022-12-11T10:05:37.723Z"
   },
   {
    "duration": 15,
    "start_time": "2022-12-11T10:05:38.262Z"
   },
   {
    "duration": 43,
    "start_time": "2022-12-11T10:05:38.279Z"
   },
   {
    "duration": 6,
    "start_time": "2022-12-11T10:05:38.324Z"
   },
   {
    "duration": 11,
    "start_time": "2022-12-11T10:05:38.331Z"
   },
   {
    "duration": 7,
    "start_time": "2022-12-11T10:05:38.344Z"
   },
   {
    "duration": 5,
    "start_time": "2022-12-11T10:05:38.353Z"
   },
   {
    "duration": 8,
    "start_time": "2022-12-11T10:05:38.359Z"
   },
   {
    "duration": 2484,
    "start_time": "2022-12-11T10:05:38.369Z"
   },
   {
    "duration": 0,
    "start_time": "2022-12-11T10:05:40.856Z"
   },
   {
    "duration": 0,
    "start_time": "2022-12-11T10:05:40.858Z"
   },
   {
    "duration": 0,
    "start_time": "2022-12-11T10:05:40.859Z"
   },
   {
    "duration": 0,
    "start_time": "2022-12-11T10:05:40.860Z"
   },
   {
    "duration": 0,
    "start_time": "2022-12-11T10:05:40.861Z"
   },
   {
    "duration": 0,
    "start_time": "2022-12-11T10:05:40.862Z"
   },
   {
    "duration": 0,
    "start_time": "2022-12-11T10:05:40.863Z"
   },
   {
    "duration": 0,
    "start_time": "2022-12-11T10:05:40.864Z"
   },
   {
    "duration": 0,
    "start_time": "2022-12-11T10:05:40.865Z"
   },
   {
    "duration": 0,
    "start_time": "2022-12-11T10:05:40.866Z"
   },
   {
    "duration": 0,
    "start_time": "2022-12-11T10:05:40.868Z"
   },
   {
    "duration": 0,
    "start_time": "2022-12-11T10:05:40.869Z"
   },
   {
    "duration": 0,
    "start_time": "2022-12-11T10:05:40.871Z"
   },
   {
    "duration": 0,
    "start_time": "2022-12-11T10:05:40.872Z"
   },
   {
    "duration": 0,
    "start_time": "2022-12-11T10:05:40.873Z"
   },
   {
    "duration": 0,
    "start_time": "2022-12-11T10:05:40.874Z"
   },
   {
    "duration": 0,
    "start_time": "2022-12-11T10:05:40.875Z"
   },
   {
    "duration": 0,
    "start_time": "2022-12-11T10:05:40.876Z"
   },
   {
    "duration": 0,
    "start_time": "2022-12-11T10:05:40.877Z"
   },
   {
    "duration": 0,
    "start_time": "2022-12-11T10:05:40.878Z"
   },
   {
    "duration": 0,
    "start_time": "2022-12-11T10:05:40.879Z"
   },
   {
    "duration": 0,
    "start_time": "2022-12-11T10:05:40.880Z"
   },
   {
    "duration": 0,
    "start_time": "2022-12-11T10:05:40.881Z"
   },
   {
    "duration": 14,
    "start_time": "2022-12-11T10:05:53.199Z"
   },
   {
    "duration": 188,
    "start_time": "2022-12-11T10:06:45.506Z"
   },
   {
    "duration": 215,
    "start_time": "2022-12-11T10:06:48.900Z"
   },
   {
    "duration": 189,
    "start_time": "2022-12-11T10:06:51.799Z"
   },
   {
    "duration": 168,
    "start_time": "2022-12-11T10:08:05.154Z"
   },
   {
    "duration": 155,
    "start_time": "2022-12-11T10:08:22.012Z"
   },
   {
    "duration": 12,
    "start_time": "2022-12-11T10:09:37.622Z"
   },
   {
    "duration": 494,
    "start_time": "2022-12-11T10:22:06.813Z"
   },
   {
    "duration": 15,
    "start_time": "2022-12-11T10:22:07.309Z"
   },
   {
    "duration": 41,
    "start_time": "2022-12-11T10:22:07.327Z"
   },
   {
    "duration": 6,
    "start_time": "2022-12-11T10:22:07.371Z"
   },
   {
    "duration": 9,
    "start_time": "2022-12-11T10:22:07.378Z"
   },
   {
    "duration": 26,
    "start_time": "2022-12-11T10:22:07.388Z"
   },
   {
    "duration": 12,
    "start_time": "2022-12-11T10:22:07.416Z"
   },
   {
    "duration": 8,
    "start_time": "2022-12-11T10:22:07.430Z"
   },
   {
    "duration": 2225,
    "start_time": "2022-12-11T10:22:07.440Z"
   },
   {
    "duration": 0,
    "start_time": "2022-12-11T10:22:09.668Z"
   },
   {
    "duration": 0,
    "start_time": "2022-12-11T10:22:09.669Z"
   },
   {
    "duration": 0,
    "start_time": "2022-12-11T10:22:09.670Z"
   },
   {
    "duration": 0,
    "start_time": "2022-12-11T10:22:09.671Z"
   },
   {
    "duration": 0,
    "start_time": "2022-12-11T10:22:09.672Z"
   },
   {
    "duration": 0,
    "start_time": "2022-12-11T10:22:09.673Z"
   },
   {
    "duration": 0,
    "start_time": "2022-12-11T10:22:09.674Z"
   },
   {
    "duration": 0,
    "start_time": "2022-12-11T10:22:09.675Z"
   },
   {
    "duration": 0,
    "start_time": "2022-12-11T10:22:09.676Z"
   },
   {
    "duration": 0,
    "start_time": "2022-12-11T10:22:09.678Z"
   },
   {
    "duration": 0,
    "start_time": "2022-12-11T10:22:09.679Z"
   },
   {
    "duration": 0,
    "start_time": "2022-12-11T10:22:09.680Z"
   },
   {
    "duration": 0,
    "start_time": "2022-12-11T10:22:09.681Z"
   },
   {
    "duration": 0,
    "start_time": "2022-12-11T10:22:09.682Z"
   },
   {
    "duration": 0,
    "start_time": "2022-12-11T10:22:09.683Z"
   },
   {
    "duration": 0,
    "start_time": "2022-12-11T10:22:09.684Z"
   },
   {
    "duration": 0,
    "start_time": "2022-12-11T10:22:09.684Z"
   },
   {
    "duration": 0,
    "start_time": "2022-12-11T10:22:09.685Z"
   },
   {
    "duration": 0,
    "start_time": "2022-12-11T10:22:09.686Z"
   },
   {
    "duration": 0,
    "start_time": "2022-12-11T10:22:09.687Z"
   },
   {
    "duration": 0,
    "start_time": "2022-12-11T10:22:09.688Z"
   },
   {
    "duration": 0,
    "start_time": "2022-12-11T10:22:09.689Z"
   },
   {
    "duration": 0,
    "start_time": "2022-12-11T10:22:09.690Z"
   },
   {
    "duration": 1103,
    "start_time": "2022-12-11T10:22:55.201Z"
   },
   {
    "duration": 813,
    "start_time": "2023-01-07T12:01:03.081Z"
   },
   {
    "duration": 31,
    "start_time": "2023-01-07T12:01:03.896Z"
   },
   {
    "duration": 79,
    "start_time": "2023-01-07T12:01:03.928Z"
   },
   {
    "duration": 6,
    "start_time": "2023-01-07T12:01:04.009Z"
   },
   {
    "duration": 32,
    "start_time": "2023-01-07T12:01:04.018Z"
   },
   {
    "duration": 10,
    "start_time": "2023-01-07T12:01:04.052Z"
   },
   {
    "duration": 5,
    "start_time": "2023-01-07T12:01:04.064Z"
   },
   {
    "duration": 11,
    "start_time": "2023-01-07T12:01:04.071Z"
   },
   {
    "duration": 2861,
    "start_time": "2023-01-07T12:01:04.084Z"
   },
   {
    "duration": 0,
    "start_time": "2023-01-07T12:01:06.947Z"
   },
   {
    "duration": 0,
    "start_time": "2023-01-07T12:01:06.949Z"
   },
   {
    "duration": 0,
    "start_time": "2023-01-07T12:01:06.950Z"
   },
   {
    "duration": 0,
    "start_time": "2023-01-07T12:01:06.951Z"
   },
   {
    "duration": 0,
    "start_time": "2023-01-07T12:01:06.952Z"
   },
   {
    "duration": 0,
    "start_time": "2023-01-07T12:01:06.953Z"
   },
   {
    "duration": 0,
    "start_time": "2023-01-07T12:01:06.954Z"
   },
   {
    "duration": 0,
    "start_time": "2023-01-07T12:01:06.955Z"
   },
   {
    "duration": 0,
    "start_time": "2023-01-07T12:01:06.956Z"
   },
   {
    "duration": 0,
    "start_time": "2023-01-07T12:01:06.958Z"
   },
   {
    "duration": 0,
    "start_time": "2023-01-07T12:01:06.959Z"
   },
   {
    "duration": 0,
    "start_time": "2023-01-07T12:01:06.960Z"
   },
   {
    "duration": 0,
    "start_time": "2023-01-07T12:01:06.961Z"
   },
   {
    "duration": 0,
    "start_time": "2023-01-07T12:01:06.962Z"
   },
   {
    "duration": 0,
    "start_time": "2023-01-07T12:01:06.964Z"
   },
   {
    "duration": 0,
    "start_time": "2023-01-07T12:01:06.965Z"
   },
   {
    "duration": 0,
    "start_time": "2023-01-07T12:01:06.966Z"
   },
   {
    "duration": 0,
    "start_time": "2023-01-07T12:01:06.967Z"
   },
   {
    "duration": 0,
    "start_time": "2023-01-07T12:01:06.968Z"
   },
   {
    "duration": 0,
    "start_time": "2023-01-07T12:01:06.969Z"
   },
   {
    "duration": 0,
    "start_time": "2023-01-07T12:01:06.971Z"
   },
   {
    "duration": 0,
    "start_time": "2023-01-07T12:01:06.971Z"
   },
   {
    "duration": 0,
    "start_time": "2023-01-07T12:01:06.973Z"
   },
   {
    "duration": 181,
    "start_time": "2023-01-07T12:01:38.547Z"
   },
   {
    "duration": 204,
    "start_time": "2023-01-07T12:01:54.423Z"
   },
   {
    "duration": 178,
    "start_time": "2023-01-07T12:02:26.549Z"
   },
   {
    "duration": 173,
    "start_time": "2023-01-07T12:02:29.852Z"
   },
   {
    "duration": 19,
    "start_time": "2023-01-07T12:03:00.359Z"
   },
   {
    "duration": 15,
    "start_time": "2023-01-07T12:03:05.173Z"
   },
   {
    "duration": 19,
    "start_time": "2023-01-07T12:07:50.227Z"
   },
   {
    "duration": 507,
    "start_time": "2023-01-07T12:08:02.647Z"
   },
   {
    "duration": 22,
    "start_time": "2023-01-07T12:08:03.157Z"
   },
   {
    "duration": 79,
    "start_time": "2023-01-07T12:08:03.181Z"
   },
   {
    "duration": 7,
    "start_time": "2023-01-07T12:08:03.261Z"
   },
   {
    "duration": 5,
    "start_time": "2023-01-07T12:08:03.270Z"
   },
   {
    "duration": 14,
    "start_time": "2023-01-07T12:08:03.276Z"
   },
   {
    "duration": 15,
    "start_time": "2023-01-07T12:08:03.291Z"
   },
   {
    "duration": 46,
    "start_time": "2023-01-07T12:08:03.307Z"
   },
   {
    "duration": 2599,
    "start_time": "2023-01-07T12:08:03.355Z"
   },
   {
    "duration": 0,
    "start_time": "2023-01-07T12:08:05.957Z"
   },
   {
    "duration": 0,
    "start_time": "2023-01-07T12:08:05.958Z"
   },
   {
    "duration": 0,
    "start_time": "2023-01-07T12:08:05.974Z"
   },
   {
    "duration": 0,
    "start_time": "2023-01-07T12:08:05.976Z"
   },
   {
    "duration": 0,
    "start_time": "2023-01-07T12:08:05.977Z"
   },
   {
    "duration": 0,
    "start_time": "2023-01-07T12:08:05.979Z"
   },
   {
    "duration": 0,
    "start_time": "2023-01-07T12:08:05.981Z"
   },
   {
    "duration": 1,
    "start_time": "2023-01-07T12:08:05.982Z"
   },
   {
    "duration": 0,
    "start_time": "2023-01-07T12:08:05.984Z"
   },
   {
    "duration": 0,
    "start_time": "2023-01-07T12:08:05.985Z"
   },
   {
    "duration": 0,
    "start_time": "2023-01-07T12:08:05.987Z"
   },
   {
    "duration": 0,
    "start_time": "2023-01-07T12:08:05.988Z"
   },
   {
    "duration": 0,
    "start_time": "2023-01-07T12:08:05.990Z"
   },
   {
    "duration": 0,
    "start_time": "2023-01-07T12:08:05.991Z"
   },
   {
    "duration": 0,
    "start_time": "2023-01-07T12:08:05.993Z"
   },
   {
    "duration": 0,
    "start_time": "2023-01-07T12:08:05.995Z"
   },
   {
    "duration": 0,
    "start_time": "2023-01-07T12:08:05.996Z"
   },
   {
    "duration": 0,
    "start_time": "2023-01-07T12:08:05.997Z"
   },
   {
    "duration": 0,
    "start_time": "2023-01-07T12:08:06.000Z"
   },
   {
    "duration": 0,
    "start_time": "2023-01-07T12:08:06.001Z"
   },
   {
    "duration": 0,
    "start_time": "2023-01-07T12:08:06.002Z"
   },
   {
    "duration": 0,
    "start_time": "2023-01-07T12:08:06.003Z"
   },
   {
    "duration": 0,
    "start_time": "2023-01-07T12:08:06.006Z"
   }
  ],
  "kernelspec": {
   "display_name": "Python 3 (ipykernel)",
   "language": "python",
   "name": "python3"
  },
  "language_info": {
   "codemirror_mode": {
    "name": "ipython",
    "version": 3
   },
   "file_extension": ".py",
   "mimetype": "text/x-python",
   "name": "python",
   "nbconvert_exporter": "python",
   "pygments_lexer": "ipython3",
   "version": "3.9.5"
  },
  "toc": {
   "base_numbering": 1,
   "nav_menu": {},
   "number_sections": true,
   "sideBar": true,
   "skip_h1_title": true,
   "title_cell": "Table of Contents",
   "title_sidebar": "Contents",
   "toc_cell": false,
   "toc_position": {},
   "toc_section_display": true,
   "toc_window_display": false
  }
 },
 "nbformat": 4,
 "nbformat_minor": 2
}
