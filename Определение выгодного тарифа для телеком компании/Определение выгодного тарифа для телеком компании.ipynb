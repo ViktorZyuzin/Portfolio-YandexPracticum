{
 "cells": [
  {
   "cell_type": "markdown",
   "metadata": {},
   "source": [
    "# Рекомендация тарифов"
   ]
  },
  {
   "cell_type": "markdown",
   "metadata": {},
   "source": [
    "В вашем распоряжении данные о поведении клиентов, которые уже перешли на эти тарифы (из проекта курса «Статистический анализ данных»). Нужно построить модель для задачи классификации, которая выберет подходящий тариф. Предобработка данных не понадобится — вы её уже сделали.\n",
    "\n",
    "Постройте модель с максимально большим значением *accuracy*. Чтобы сдать проект успешно, нужно довести долю правильных ответов по крайней мере до 0.75. Проверьте *accuracy* на тестовой выборке самостоятельно."
   ]
  },
  {
   "cell_type": "markdown",
   "metadata": {},
   "source": [
    "## Откройте и изучите файл"
   ]
  },
  {
   "cell_type": "code",
   "execution_count": 1,
   "metadata": {},
   "outputs": [],
   "source": [
    "import pandas as pd\n",
    "import seaborn\n",
    "from sklearn.model_selection import train_test_split\n",
    "from sklearn.tree import DecisionTreeClassifier\n",
    "from sklearn.metrics import accuracy_score\n",
    "from sklearn.ensemble import RandomForestClassifier\n",
    "from sklearn.linear_model import LogisticRegression\n",
    "from sklearn.dummy import DummyClassifier"
   ]
  },
  {
   "cell_type": "code",
   "execution_count": 2,
   "metadata": {},
   "outputs": [
    {
     "data": {
      "text/html": [
       "<div>\n",
       "<style scoped>\n",
       "    .dataframe tbody tr th:only-of-type {\n",
       "        vertical-align: middle;\n",
       "    }\n",
       "\n",
       "    .dataframe tbody tr th {\n",
       "        vertical-align: top;\n",
       "    }\n",
       "\n",
       "    .dataframe thead th {\n",
       "        text-align: right;\n",
       "    }\n",
       "</style>\n",
       "<table border=\"1\" class=\"dataframe\">\n",
       "  <thead>\n",
       "    <tr style=\"text-align: right;\">\n",
       "      <th></th>\n",
       "      <th>calls</th>\n",
       "      <th>minutes</th>\n",
       "      <th>messages</th>\n",
       "      <th>mb_used</th>\n",
       "      <th>is_ultra</th>\n",
       "    </tr>\n",
       "  </thead>\n",
       "  <tbody>\n",
       "    <tr>\n",
       "      <th>0</th>\n",
       "      <td>40.0</td>\n",
       "      <td>311.90</td>\n",
       "      <td>83.0</td>\n",
       "      <td>19915.42</td>\n",
       "      <td>0</td>\n",
       "    </tr>\n",
       "    <tr>\n",
       "      <th>1</th>\n",
       "      <td>85.0</td>\n",
       "      <td>516.75</td>\n",
       "      <td>56.0</td>\n",
       "      <td>22696.96</td>\n",
       "      <td>0</td>\n",
       "    </tr>\n",
       "    <tr>\n",
       "      <th>2</th>\n",
       "      <td>77.0</td>\n",
       "      <td>467.66</td>\n",
       "      <td>86.0</td>\n",
       "      <td>21060.45</td>\n",
       "      <td>0</td>\n",
       "    </tr>\n",
       "    <tr>\n",
       "      <th>3</th>\n",
       "      <td>106.0</td>\n",
       "      <td>745.53</td>\n",
       "      <td>81.0</td>\n",
       "      <td>8437.39</td>\n",
       "      <td>1</td>\n",
       "    </tr>\n",
       "    <tr>\n",
       "      <th>4</th>\n",
       "      <td>66.0</td>\n",
       "      <td>418.74</td>\n",
       "      <td>1.0</td>\n",
       "      <td>14502.75</td>\n",
       "      <td>0</td>\n",
       "    </tr>\n",
       "  </tbody>\n",
       "</table>\n",
       "</div>"
      ],
      "text/plain": [
       "   calls  minutes  messages   mb_used  is_ultra\n",
       "0   40.0   311.90      83.0  19915.42         0\n",
       "1   85.0   516.75      56.0  22696.96         0\n",
       "2   77.0   467.66      86.0  21060.45         0\n",
       "3  106.0   745.53      81.0   8437.39         1\n",
       "4   66.0   418.74       1.0  14502.75         0"
      ]
     },
     "execution_count": 2,
     "metadata": {},
     "output_type": "execute_result"
    }
   ],
   "source": [
    "df = pd.read_csv('/datasets/users_behavior.csv')\n",
    "df.head()"
   ]
  },
  {
   "cell_type": "code",
   "execution_count": 3,
   "metadata": {},
   "outputs": [
    {
     "name": "stdout",
     "output_type": "stream",
     "text": [
      "<class 'pandas.core.frame.DataFrame'>\n",
      "RangeIndex: 3214 entries, 0 to 3213\n",
      "Data columns (total 5 columns):\n",
      " #   Column    Non-Null Count  Dtype  \n",
      "---  ------    --------------  -----  \n",
      " 0   calls     3214 non-null   float64\n",
      " 1   minutes   3214 non-null   float64\n",
      " 2   messages  3214 non-null   float64\n",
      " 3   mb_used   3214 non-null   float64\n",
      " 4   is_ultra  3214 non-null   int64  \n",
      "dtypes: float64(4), int64(1)\n",
      "memory usage: 125.7 KB\n"
     ]
    }
   ],
   "source": [
    "df.info()"
   ]
  },
  {
   "cell_type": "code",
   "execution_count": 4,
   "metadata": {},
   "outputs": [
    {
     "name": "stdout",
     "output_type": "stream",
     "text": [
      "<class 'pandas.core.frame.DataFrame'>\n",
      "RangeIndex: 3214 entries, 0 to 3213\n",
      "Data columns (total 5 columns):\n",
      " #   Column    Non-Null Count  Dtype  \n",
      "---  ------    --------------  -----  \n",
      " 0   calls     3214 non-null   int64  \n",
      " 1   minutes   3214 non-null   float64\n",
      " 2   messages  3214 non-null   int64  \n",
      " 3   mb_used   3214 non-null   float64\n",
      " 4   is_ultra  3214 non-null   int64  \n",
      "dtypes: float64(2), int64(3)\n",
      "memory usage: 125.7 KB\n"
     ]
    }
   ],
   "source": [
    "# Переведем столбцы с количемтвом минут и количеством сообщений в тип int, потому как в данных столбцах используются целочисленные значения\n",
    "df['calls'] = df['calls'].astype('int64')\n",
    "df['messages'] = df['messages'].astype('int64')\n",
    "df.info()"
   ]
  },
  {
   "cell_type": "markdown",
   "metadata": {},
   "source": [
    "**Вывод**\n",
    "Тип данных у количества звонков и количества сообщений должен быть целочисленный - корректировка внесена. Объём датасета 3214 записей. Пропусков в данных не обнаружено."
   ]
  },
  {
   "cell_type": "markdown",
   "metadata": {},
   "source": [
    "## Разбейте данные на выборки"
   ]
  },
  {
   "cell_type": "code",
   "execution_count": 5,
   "metadata": {},
   "outputs": [],
   "source": [
    "#Извлечем признаки для обучающей выборки\n",
    "features = df.drop('is_ultra', axis=1)\n",
    "target = df['is_ultra']"
   ]
  },
  {
   "cell_type": "code",
   "execution_count": 6,
   "metadata": {},
   "outputs": [
    {
     "name": "stdout",
     "output_type": "stream",
     "text": [
      "Размер тренировочной выборки: (2410, 4)\n",
      "Размер тестовой выборки: (402, 4)\n",
      "Размер валидационной выборки: (402, 4)\n"
     ]
    }
   ],
   "source": [
    "#Разабьём данные на обучающую, тестовую, валидационную выборки.\n",
    "features_train, features_valid, target_train, target_valid = train_test_split(\n",
    "    features, target, test_size=0.25, random_state=12345) \n",
    "\n",
    "features_valid, features_test, target_valid, target_test = train_test_split(\n",
    "    features_valid, target_valid, test_size=0.5, random_state=12345)\n",
    "\n",
    "print('Размер тренировочной выборки:', features_train.shape) # 75% данных\n",
    "print('Размер тестовой выборки:', features_test.shape) # 12.5% данных\n",
    "print('Размер валидационной выборки:', features_valid.shape) #12.5#данных"
   ]
  },
  {
   "cell_type": "markdown",
   "metadata": {},
   "source": [
    "## Исследуйте модели"
   ]
  },
  {
   "cell_type": "markdown",
   "metadata": {},
   "source": [
    "Воспользуемся тремя основными моделями: дерево решения, случайный лес и логистическая регрессия."
   ]
  },
  {
   "cell_type": "code",
   "execution_count": 7,
   "metadata": {
    "scrolled": true
   },
   "outputs": [
    {
     "name": "stdout",
     "output_type": "stream",
     "text": [
      "Лучший результат accuracy модели Дерево решений: \n",
      "\n",
      " 0.7985074626865671 \n",
      " глубина: 3\n"
     ]
    }
   ],
   "source": [
    "# Проведем исследование модели Дерево решений.\n",
    "\n",
    "best_model_dt = None\n",
    "best_depth = 0\n",
    "best_result = 0\n",
    "\n",
    "for depth in range(1, 11):    \n",
    "    model = DecisionTreeClassifier(random_state=12345, max_depth=depth)\n",
    "    model.fit(features_train, target_train)\n",
    "    predict_valid = model.predict(features_valid)\n",
    "    result = accuracy_score(target_valid, predict_valid)\n",
    "    if result > best_result:\n",
    "        best_result = result\n",
    "        best_model_dt = model\n",
    "        best_depth = depth\n",
    "        \n",
    "        \n",
    "print('Лучший результат accuracy модели Дерево решений: \\n\\n', best_result,\\\n",
    "      '\\n глубина:', best_depth)"
   ]
  },
  {
   "cell_type": "code",
   "execution_count": 8,
   "metadata": {},
   "outputs": [
    {
     "name": "stdout",
     "output_type": "stream",
     "text": [
      "Лучший результат accuracy модели Случайный лес: \n",
      "\n",
      " 0.8159203980099502 \n",
      " глубина: 9 \n",
      " число деревьев 20\n"
     ]
    }
   ],
   "source": [
    "# Проведем исследование модели класса Случайный лес.\n",
    "\n",
    "best_model_rf = None\n",
    "best_depth = 0\n",
    "best_result = 0\n",
    "best_est = 0\n",
    "\n",
    "for est in range(10, 51, 10):\n",
    "    for depth in range(1, 11):\n",
    "    \n",
    "        model = RandomForestClassifier(random_state=12345, max_depth=depth, n_estimators=est)\n",
    "        model.fit(features_train, target_train)\n",
    "        predict_valid = model.predict(features_valid)\n",
    "        result = accuracy_score(target_valid, predict_valid)\n",
    "        if result > best_result:\n",
    "            best_result = result\n",
    "            best_model_rf = model\n",
    "            best_depth = depth\n",
    "            best_est = est\n",
    "                \n",
    "print('Лучший результат accuracy модели Случайный лес: \\n\\n', \\\n",
    "      best_result, '\\n глубина:', best_depth, '\\n число деревьев', best_est)"
   ]
  },
  {
   "cell_type": "code",
   "execution_count": 9,
   "metadata": {},
   "outputs": [
    {
     "name": "stdout",
     "output_type": "stream",
     "text": [
      "Лучший результат accuracy модели Логистическая регрессия: \n",
      "\n",
      " 0.7039800995024875\n"
     ]
    }
   ],
   "source": [
    "# Проведем исследование модели класса Логистическая регрессия.\n",
    "\n",
    "model = LogisticRegression(random_state=12345, solver='lbfgs', max_iter=1000)\n",
    "model.fit(features_train, target_train)\n",
    "predict_valid = model.predict(features_valid)\n",
    "result = accuracy_score(target_valid, predict_valid)\n",
    "          \n",
    "print('Лучший результат accuracy модели Логистическая регрессия: \\n\\n', \\\n",
    "      result)"
   ]
  },
  {
   "cell_type": "markdown",
   "metadata": {},
   "source": [
    "**Вывод**\n",
    "\n",
    "Исследование показало, что модель, построенная на алгоритме случайного леса при глубине 9 и 20 деревьях, дает лучший результат (0.815). Но она и самая времязатратная. Довольно быстрая и с чуть худшим результом (0.798) - модель на алгоритме дерева решений при глубине 3. И худший результат (0.703) показала модель на алгоритме логистической регрессии."
   ]
  },
  {
   "cell_type": "markdown",
   "metadata": {},
   "source": [
    "## Проверьте модель на тестовой выборке"
   ]
  },
  {
   "cell_type": "code",
   "execution_count": 10,
   "metadata": {},
   "outputs": [
    {
     "name": "stdout",
     "output_type": "stream",
     "text": [
      "Результат accuracy выбранной модели на тестовой выборке: \n",
      "\n",
      " 0.8059701492537313\n"
     ]
    }
   ],
   "source": [
    "# Проведем проверку выбранной модели с лучшим результатом (модель на алгоритме случайного леса) на тестовой выборке\n",
    "\n",
    "predict_test = best_model_rf.predict(features_test)\n",
    "result = accuracy_score(target_test, predict_test)\n",
    "\n",
    "print('Результат accuracy выбранной модели на тестовой выборке: \\n\\n', result)"
   ]
  },
  {
   "cell_type": "markdown",
   "metadata": {},
   "source": [
    "**Вывод**\n",
    "\n",
    "Видим небольшую переобученность модели, т.к. результат на тестовой выборке (0.805) немного хуже, чем на валидационной (0.815). Но это значение accuracy выше заданного 0.75."
   ]
  },
  {
   "cell_type": "markdown",
   "metadata": {},
   "source": [
    "## (бонус) Проверьте модели на адекватность"
   ]
  },
  {
   "cell_type": "code",
   "execution_count": 11,
   "metadata": {},
   "outputs": [
    {
     "data": {
      "text/plain": [
       "0.30647168637212197"
      ]
     },
     "execution_count": 11,
     "metadata": {},
     "output_type": "execute_result"
    }
   ],
   "source": [
    "# Выясним соотношение тарифов Ультра и Смарт в целевом признаке датасета\n",
    "\n",
    "df['is_ultra'].mean()"
   ]
  },
  {
   "cell_type": "code",
   "execution_count": 12,
   "metadata": {},
   "outputs": [
    {
     "name": "stdout",
     "output_type": "stream",
     "text": [
      "test_score : 0.6932171748599876\n"
     ]
    }
   ],
   "source": [
    "x = df.drop(['is_ultra'], axis=1)\n",
    "y = df[\"is_ultra\"]\n",
    "\n",
    "x_train, x_test, y_train, y_test = train_test_split(x, y, test_size=0.5, random_state=27)\n",
    "\n",
    "dummy = DummyClassifier(strategy='most_frequent').fit(x_train, y_train)\n",
    "dummy_prediction = dummy.predict(x_test)\n",
    "\n",
    "print('test_score :', accuracy_score(y_test, dummy_prediction))"
   ]
  },
  {
   "cell_type": "markdown",
   "metadata": {},
   "source": [
    "**Вывод**\n",
    "\n",
    "Тест на адекватность пройден, т.к. DummyClassifier показывает точность 0.69, это почти в точности соответствует распределению классов в таргете: доля пользователей с тарифом «Ультра» - 0.306, «Смарт» - 0.694"
   ]
  },
  {
   "cell_type": "markdown",
   "metadata": {},
   "source": [
    "**Выводы**\n",
    "\n",
    "1.В ходе исследования удалось построить модель с максимально большим значением accuracy для классификации целевого признака - подбор тарифа мобильного пользователя.\n",
    "\n",
    "2.Выбор состоял из трех моделей по алгоритмам классификации: дерево решений. случайный лес и логистическая регрессия.\n",
    "\n",
    "3.Лучшей стала модель на алгоритме случайного леса с глубиной: 9 и числом деревьев: 20.\n",
    "\n",
    "4.Доля правильных ответов на тестовой выборке достигла 0.805."
   ]
  }
 ],
 "metadata": {
  "ExecuteTimeLog": [
   {
    "duration": 60,
    "start_time": "2023-01-14T16:50:06.339Z"
   },
   {
    "duration": 0,
    "start_time": "2023-01-14T16:50:06.401Z"
   },
   {
    "duration": 0,
    "start_time": "2023-01-14T16:50:06.402Z"
   },
   {
    "duration": 1509,
    "start_time": "2023-01-14T16:50:30.898Z"
   },
   {
    "duration": 172,
    "start_time": "2023-01-14T16:50:32.410Z"
   },
   {
    "duration": 13,
    "start_time": "2023-01-14T16:50:32.587Z"
   },
   {
    "duration": 103,
    "start_time": "2023-01-14T17:52:20.439Z"
   },
   {
    "duration": 1285,
    "start_time": "2023-01-14T17:52:55.426Z"
   },
   {
    "duration": 40,
    "start_time": "2023-01-14T17:52:56.713Z"
   },
   {
    "duration": 11,
    "start_time": "2023-01-14T17:52:56.755Z"
   },
   {
    "duration": 103,
    "start_time": "2023-01-14T17:52:56.768Z"
   },
   {
    "duration": 1562,
    "start_time": "2023-01-15T11:19:54.789Z"
   },
   {
    "duration": 76,
    "start_time": "2023-01-15T11:19:56.353Z"
   },
   {
    "duration": 16,
    "start_time": "2023-01-15T11:19:56.431Z"
   },
   {
    "duration": 116,
    "start_time": "2023-01-15T11:19:56.449Z"
   },
   {
    "duration": 1421,
    "start_time": "2023-01-15T11:20:44.707Z"
   },
   {
    "duration": 41,
    "start_time": "2023-01-15T11:20:46.130Z"
   },
   {
    "duration": 12,
    "start_time": "2023-01-15T11:20:46.173Z"
   },
   {
    "duration": 35,
    "start_time": "2023-01-15T11:20:46.187Z"
   },
   {
    "duration": 7,
    "start_time": "2023-01-15T14:18:46.842Z"
   },
   {
    "duration": 10,
    "start_time": "2023-01-15T14:21:45.911Z"
   },
   {
    "duration": 1536,
    "start_time": "2023-01-16T17:39:04.209Z"
   },
   {
    "duration": 81,
    "start_time": "2023-01-16T17:39:05.747Z"
   },
   {
    "duration": 13,
    "start_time": "2023-01-16T17:39:05.830Z"
   },
   {
    "duration": 17,
    "start_time": "2023-01-16T17:39:05.845Z"
   },
   {
    "duration": 11,
    "start_time": "2023-01-16T17:39:05.864Z"
   },
   {
    "duration": 8,
    "start_time": "2023-01-16T17:39:05.876Z"
   },
   {
    "duration": 16,
    "start_time": "2023-01-16T17:39:05.886Z"
   },
   {
    "duration": 1443,
    "start_time": "2023-01-16T19:28:09.952Z"
   },
   {
    "duration": 36,
    "start_time": "2023-01-16T19:28:11.397Z"
   },
   {
    "duration": 11,
    "start_time": "2023-01-16T19:28:11.435Z"
   },
   {
    "duration": 21,
    "start_time": "2023-01-16T19:28:11.448Z"
   },
   {
    "duration": 9,
    "start_time": "2023-01-16T19:28:11.471Z"
   },
   {
    "duration": 6,
    "start_time": "2023-01-16T19:28:11.482Z"
   },
   {
    "duration": 112,
    "start_time": "2023-01-16T19:28:11.489Z"
   },
   {
    "duration": 12,
    "start_time": "2023-01-16T19:33:33.046Z"
   },
   {
    "duration": 12,
    "start_time": "2023-01-16T19:34:13.004Z"
   },
   {
    "duration": 8,
    "start_time": "2023-01-16T20:16:34.762Z"
   },
   {
    "duration": 9,
    "start_time": "2023-01-16T20:16:38.666Z"
   },
   {
    "duration": 9,
    "start_time": "2023-01-16T20:22:12.332Z"
   },
   {
    "duration": 139,
    "start_time": "2023-01-16T20:22:16.021Z"
   },
   {
    "duration": 101,
    "start_time": "2023-01-16T20:23:33.102Z"
   },
   {
    "duration": 4087,
    "start_time": "2023-01-16T20:43:53.345Z"
   },
   {
    "duration": 3934,
    "start_time": "2023-01-16T20:44:14.766Z"
   },
   {
    "duration": 3634,
    "start_time": "2023-01-16T20:44:41.228Z"
   },
   {
    "duration": 3566,
    "start_time": "2023-01-16T20:45:44.930Z"
   },
   {
    "duration": 70,
    "start_time": "2023-01-16T20:58:01.613Z"
   },
   {
    "duration": 32,
    "start_time": "2023-01-16T21:10:03.105Z"
   },
   {
    "duration": 62,
    "start_time": "2023-01-16T21:10:21.059Z"
   },
   {
    "duration": 48,
    "start_time": "2023-01-16T21:10:46.438Z"
   },
   {
    "duration": 14,
    "start_time": "2023-01-16T21:13:22.711Z"
   },
   {
    "duration": 9,
    "start_time": "2023-01-16T21:19:26.685Z"
   },
   {
    "duration": 1415,
    "start_time": "2023-01-16T21:19:30.508Z"
   },
   {
    "duration": 35,
    "start_time": "2023-01-16T21:19:31.925Z"
   },
   {
    "duration": 10,
    "start_time": "2023-01-16T21:19:31.962Z"
   },
   {
    "duration": 39,
    "start_time": "2023-01-16T21:19:31.973Z"
   },
   {
    "duration": 125,
    "start_time": "2023-01-16T21:19:32.014Z"
   },
   {
    "duration": 0,
    "start_time": "2023-01-16T21:19:32.141Z"
   },
   {
    "duration": 0,
    "start_time": "2023-01-16T21:19:32.142Z"
   },
   {
    "duration": 0,
    "start_time": "2023-01-16T21:19:32.143Z"
   },
   {
    "duration": 0,
    "start_time": "2023-01-16T21:19:32.144Z"
   },
   {
    "duration": 0,
    "start_time": "2023-01-16T21:19:32.145Z"
   },
   {
    "duration": 1442,
    "start_time": "2023-01-16T21:20:29.001Z"
   },
   {
    "duration": 41,
    "start_time": "2023-01-16T21:20:30.445Z"
   },
   {
    "duration": 12,
    "start_time": "2023-01-16T21:20:30.487Z"
   },
   {
    "duration": 37,
    "start_time": "2023-01-16T21:20:30.502Z"
   },
   {
    "duration": 172,
    "start_time": "2023-01-16T21:20:30.541Z"
   },
   {
    "duration": 0,
    "start_time": "2023-01-16T21:20:30.715Z"
   },
   {
    "duration": 0,
    "start_time": "2023-01-16T21:20:30.717Z"
   },
   {
    "duration": 0,
    "start_time": "2023-01-16T21:20:30.718Z"
   },
   {
    "duration": 0,
    "start_time": "2023-01-16T21:20:30.722Z"
   },
   {
    "duration": 0,
    "start_time": "2023-01-16T21:20:30.724Z"
   },
   {
    "duration": 1402,
    "start_time": "2023-01-16T21:21:52.409Z"
   },
   {
    "duration": 36,
    "start_time": "2023-01-16T21:21:53.813Z"
   },
   {
    "duration": 11,
    "start_time": "2023-01-16T21:21:53.851Z"
   },
   {
    "duration": 24,
    "start_time": "2023-01-16T21:21:53.864Z"
   },
   {
    "duration": 6,
    "start_time": "2023-01-16T21:21:53.896Z"
   },
   {
    "duration": 134,
    "start_time": "2023-01-16T21:21:53.903Z"
   },
   {
    "duration": 0,
    "start_time": "2023-01-16T21:21:54.039Z"
   },
   {
    "duration": 0,
    "start_time": "2023-01-16T21:21:54.041Z"
   },
   {
    "duration": 0,
    "start_time": "2023-01-16T21:21:54.042Z"
   },
   {
    "duration": 0,
    "start_time": "2023-01-16T21:21:54.044Z"
   },
   {
    "duration": 8,
    "start_time": "2023-01-16T21:23:20.785Z"
   },
   {
    "duration": 1507,
    "start_time": "2023-01-16T21:23:34.835Z"
   },
   {
    "duration": 40,
    "start_time": "2023-01-16T21:23:36.344Z"
   },
   {
    "duration": 14,
    "start_time": "2023-01-16T21:23:36.385Z"
   },
   {
    "duration": 25,
    "start_time": "2023-01-16T21:23:36.401Z"
   },
   {
    "duration": 12,
    "start_time": "2023-01-16T21:23:36.428Z"
   },
   {
    "duration": 12,
    "start_time": "2023-01-16T21:23:36.442Z"
   },
   {
    "duration": 96,
    "start_time": "2023-01-16T21:23:36.456Z"
   },
   {
    "duration": 4259,
    "start_time": "2023-01-16T21:23:36.554Z"
   },
   {
    "duration": 368,
    "start_time": "2023-01-16T21:23:40.815Z"
   },
   {
    "duration": 98,
    "start_time": "2023-01-16T21:23:41.185Z"
   },
   {
    "duration": 12,
    "start_time": "2023-01-16T21:25:04.617Z"
   },
   {
    "duration": 101,
    "start_time": "2023-01-16T23:25:10.144Z"
   },
   {
    "duration": 1357,
    "start_time": "2023-01-16T23:25:25.778Z"
   },
   {
    "duration": 35,
    "start_time": "2023-01-16T23:25:27.137Z"
   },
   {
    "duration": 10,
    "start_time": "2023-01-16T23:25:27.174Z"
   },
   {
    "duration": 14,
    "start_time": "2023-01-16T23:25:27.186Z"
   },
   {
    "duration": 4,
    "start_time": "2023-01-16T23:25:27.202Z"
   },
   {
    "duration": 9,
    "start_time": "2023-01-16T23:25:27.207Z"
   },
   {
    "duration": 87,
    "start_time": "2023-01-16T23:25:27.217Z"
   },
   {
    "duration": 3804,
    "start_time": "2023-01-16T23:25:27.305Z"
   },
   {
    "duration": 167,
    "start_time": "2023-01-16T23:25:31.111Z"
   },
   {
    "duration": 11,
    "start_time": "2023-01-16T23:25:31.281Z"
   },
   {
    "duration": 111,
    "start_time": "2023-01-16T23:25:31.378Z"
   },
   {
    "duration": 9,
    "start_time": "2023-01-16T23:25:50.131Z"
   },
   {
    "duration": 4,
    "start_time": "2023-01-16T23:30:13.604Z"
   },
   {
    "duration": 2386,
    "start_time": "2023-01-17T06:05:28.018Z"
   },
   {
    "duration": 131,
    "start_time": "2023-01-17T06:05:30.406Z"
   },
   {
    "duration": 11,
    "start_time": "2023-01-17T06:05:30.538Z"
   },
   {
    "duration": 54,
    "start_time": "2023-01-17T06:05:30.550Z"
   },
   {
    "duration": 33,
    "start_time": "2023-01-17T06:05:30.606Z"
   },
   {
    "duration": 41,
    "start_time": "2023-01-17T06:05:30.640Z"
   },
   {
    "duration": 108,
    "start_time": "2023-01-17T06:05:30.682Z"
   },
   {
    "duration": 3998,
    "start_time": "2023-01-17T06:05:30.792Z"
   },
   {
    "duration": 261,
    "start_time": "2023-01-17T06:05:34.792Z"
   },
   {
    "duration": 103,
    "start_time": "2023-01-17T06:05:35.055Z"
   },
   {
    "duration": 5,
    "start_time": "2023-01-17T06:05:35.159Z"
   },
   {
    "duration": 7,
    "start_time": "2023-01-17T06:05:35.166Z"
   },
   {
    "duration": 8,
    "start_time": "2023-01-17T06:11:28.127Z"
   },
   {
    "duration": 2272,
    "start_time": "2023-01-17T18:17:39.605Z"
   },
   {
    "duration": 39,
    "start_time": "2023-01-17T18:17:41.879Z"
   },
   {
    "duration": 11,
    "start_time": "2023-01-17T18:17:41.919Z"
   },
   {
    "duration": 20,
    "start_time": "2023-01-17T18:17:41.931Z"
   },
   {
    "duration": 6,
    "start_time": "2023-01-17T18:17:41.953Z"
   },
   {
    "duration": 22,
    "start_time": "2023-01-17T18:17:41.960Z"
   },
   {
    "duration": 70,
    "start_time": "2023-01-17T18:17:41.984Z"
   },
   {
    "duration": 3984,
    "start_time": "2023-01-17T18:17:42.056Z"
   },
   {
    "duration": 207,
    "start_time": "2023-01-17T18:17:46.041Z"
   },
   {
    "duration": 94,
    "start_time": "2023-01-17T18:17:46.251Z"
   },
   {
    "duration": 13,
    "start_time": "2023-01-17T18:17:46.346Z"
   },
   {
    "duration": 10,
    "start_time": "2023-01-17T18:17:46.360Z"
   }
  ],
  "kernelspec": {
   "display_name": "Python 3 (ipykernel)",
   "language": "python",
   "name": "python3"
  },
  "language_info": {
   "codemirror_mode": {
    "name": "ipython",
    "version": 3
   },
   "file_extension": ".py",
   "mimetype": "text/x-python",
   "name": "python",
   "nbconvert_exporter": "python",
   "pygments_lexer": "ipython3",
   "version": "3.9.5"
  },
  "toc": {
   "base_numbering": 1,
   "nav_menu": {},
   "number_sections": true,
   "sideBar": true,
   "skip_h1_title": true,
   "title_cell": "Table of Contents",
   "title_sidebar": "Contents",
   "toc_cell": false,
   "toc_position": {
    "height": "calc(100% - 180px)",
    "left": "10px",
    "top": "150px",
    "width": "165px"
   },
   "toc_section_display": true,
   "toc_window_display": true
  }
 },
 "nbformat": 4,
 "nbformat_minor": 2
}
