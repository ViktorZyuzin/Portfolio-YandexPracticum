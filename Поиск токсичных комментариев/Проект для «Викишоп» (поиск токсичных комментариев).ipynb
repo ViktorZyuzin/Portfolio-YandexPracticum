{
 "cells": [
  {
   "cell_type": "markdown",
   "metadata": {
    "toc": true
   },
   "source": [
    "<h1>Содержание<span class=\"tocSkip\"></span></h1>\n",
    "<div class=\"toc\"><ul class=\"toc-item\"><li><span><a href=\"#Подготовка\" data-toc-modified-id=\"Подготовка-1\"><span class=\"toc-item-num\">1&nbsp;&nbsp;</span>Подготовка</a></span></li><li><span><a href=\"#Обучение\" data-toc-modified-id=\"Обучение-2\"><span class=\"toc-item-num\">2&nbsp;&nbsp;</span>Обучение</a></span></li><li><span><a href=\"#Выводы\" data-toc-modified-id=\"Выводы-3\"><span class=\"toc-item-num\">3&nbsp;&nbsp;</span>Выводы</a></span></li><li><span><a href=\"#Чек-лист-проверки\" data-toc-modified-id=\"Чек-лист-проверки-4\"><span class=\"toc-item-num\">4&nbsp;&nbsp;</span>Чек-лист проверки</a></span></li></ul></div>"
   ]
  },
  {
   "cell_type": "markdown",
   "metadata": {},
   "source": [
    "# Проект для «Викишоп»"
   ]
  },
  {
   "cell_type": "markdown",
   "metadata": {},
   "source": [
    "Интернет-магазин «Викишоп» запускает новый сервис. Теперь пользователи могут редактировать и дополнять описания товаров, как в вики-сообществах. То есть клиенты предлагают свои правки и комментируют изменения других. Магазину нужен инструмент, который будет искать токсичные комментарии и отправлять их на модерацию. \n",
    "\n",
    "Обучите модель классифицировать комментарии на позитивные и негативные. В вашем распоряжении набор данных с разметкой о токсичности правок.\n",
    "\n",
    "Постройте модель со значением метрики качества *F1* не меньше 0.75. \n",
    "\n",
    "**Инструкция по выполнению проекта**\n",
    "\n",
    "1. Загрузите и подготовьте данные.\n",
    "2. Обучите разные модели. \n",
    "3. Сделайте выводы.\n",
    "\n",
    "Для выполнения проекта применять *BERT* необязательно, но вы можете попробовать.\n",
    "\n",
    "**Описание данных**\n",
    "\n",
    "Данные находятся в файле `toxic_comments.csv`. Столбец *text* в нём содержит текст комментария, а *toxic* — целевой признак."
   ]
  },
  {
   "cell_type": "markdown",
   "metadata": {},
   "source": [
    "## Подготовка"
   ]
  },
  {
   "cell_type": "code",
   "execution_count": 1,
   "metadata": {},
   "outputs": [
    {
     "name": "stderr",
     "output_type": "stream",
     "text": [
      "[nltk_data] Downloading package stopwords to /home/jovyan/nltk_data...\n",
      "[nltk_data]   Package stopwords is already up-to-date!\n"
     ]
    }
   ],
   "source": [
    "import pandas as pd \n",
    "import numpy as np \n",
    "import re\n",
    "import nltk\n",
    "\n",
    "from sklearn.pipeline import Pipeline\n",
    "\n",
    "from tqdm import notebook\n",
    "from tqdm import tqdm\n",
    "import pymorphy2\n",
    "from nltk.corpus import stopwords as nltk_stopwords\n",
    "from sklearn.feature_extraction.text import TfidfVectorizer, TfidfTransformer\n",
    "from sklearn.feature_extraction.text import CountVectorizer\n",
    "count_vect = CountVectorizer()\n",
    "from pymystem3 import Mystem\n",
    "m = Mystem()\n",
    "from nltk.stem import WordNetLemmatizer\n",
    "from nltk.corpus import wordnet\n",
    "from sklearn.model_selection import train_test_split, GridSearchCV, cross_val_score\n",
    "from sklearn.utils import resample\n",
    "\n",
    "from sklearn.linear_model import LogisticRegression\n",
    "from sklearn.ensemble import RandomForestClassifier\n",
    "\n",
    "from sklearn.metrics import accuracy_score, f1_score, classification_report\n",
    "\n",
    "import time\n",
    "import warnings\n",
    "warnings.filterwarnings('ignore')\n",
    "\n",
    "nltk.download('stopwords')\n",
    "stopwords = set(nltk_stopwords.words('english'))"
   ]
  },
  {
   "cell_type": "code",
   "execution_count": 2,
   "metadata": {},
   "outputs": [],
   "source": [
    "#Загрузим данные\n",
    "df = pd.read_csv('/datasets/toxic_comments.csv')"
   ]
  },
  {
   "cell_type": "code",
   "execution_count": 3,
   "metadata": {},
   "outputs": [
    {
     "data": {
      "text/html": [
       "<div>\n",
       "<style scoped>\n",
       "    .dataframe tbody tr th:only-of-type {\n",
       "        vertical-align: middle;\n",
       "    }\n",
       "\n",
       "    .dataframe tbody tr th {\n",
       "        vertical-align: top;\n",
       "    }\n",
       "\n",
       "    .dataframe thead th {\n",
       "        text-align: right;\n",
       "    }\n",
       "</style>\n",
       "<table border=\"1\" class=\"dataframe\">\n",
       "  <thead>\n",
       "    <tr style=\"text-align: right;\">\n",
       "      <th></th>\n",
       "      <th>Unnamed: 0</th>\n",
       "      <th>text</th>\n",
       "      <th>toxic</th>\n",
       "    </tr>\n",
       "  </thead>\n",
       "  <tbody>\n",
       "    <tr>\n",
       "      <th>0</th>\n",
       "      <td>0</td>\n",
       "      <td>Explanation\\nWhy the edits made under my usern...</td>\n",
       "      <td>0</td>\n",
       "    </tr>\n",
       "    <tr>\n",
       "      <th>1</th>\n",
       "      <td>1</td>\n",
       "      <td>D'aww! He matches this background colour I'm s...</td>\n",
       "      <td>0</td>\n",
       "    </tr>\n",
       "    <tr>\n",
       "      <th>2</th>\n",
       "      <td>2</td>\n",
       "      <td>Hey man, I'm really not trying to edit war. It...</td>\n",
       "      <td>0</td>\n",
       "    </tr>\n",
       "    <tr>\n",
       "      <th>3</th>\n",
       "      <td>3</td>\n",
       "      <td>\"\\nMore\\nI can't make any real suggestions on ...</td>\n",
       "      <td>0</td>\n",
       "    </tr>\n",
       "    <tr>\n",
       "      <th>4</th>\n",
       "      <td>4</td>\n",
       "      <td>You, sir, are my hero. Any chance you remember...</td>\n",
       "      <td>0</td>\n",
       "    </tr>\n",
       "    <tr>\n",
       "      <th>5</th>\n",
       "      <td>5</td>\n",
       "      <td>\"\\n\\nCongratulations from me as well, use the ...</td>\n",
       "      <td>0</td>\n",
       "    </tr>\n",
       "    <tr>\n",
       "      <th>6</th>\n",
       "      <td>6</td>\n",
       "      <td>COCKSUCKER BEFORE YOU PISS AROUND ON MY WORK</td>\n",
       "      <td>1</td>\n",
       "    </tr>\n",
       "    <tr>\n",
       "      <th>7</th>\n",
       "      <td>7</td>\n",
       "      <td>Your vandalism to the Matt Shirvington article...</td>\n",
       "      <td>0</td>\n",
       "    </tr>\n",
       "    <tr>\n",
       "      <th>8</th>\n",
       "      <td>8</td>\n",
       "      <td>Sorry if the word 'nonsense' was offensive to ...</td>\n",
       "      <td>0</td>\n",
       "    </tr>\n",
       "    <tr>\n",
       "      <th>9</th>\n",
       "      <td>9</td>\n",
       "      <td>alignment on this subject and which are contra...</td>\n",
       "      <td>0</td>\n",
       "    </tr>\n",
       "  </tbody>\n",
       "</table>\n",
       "</div>"
      ],
      "text/plain": [
       "   Unnamed: 0                                               text  toxic\n",
       "0           0  Explanation\\nWhy the edits made under my usern...      0\n",
       "1           1  D'aww! He matches this background colour I'm s...      0\n",
       "2           2  Hey man, I'm really not trying to edit war. It...      0\n",
       "3           3  \"\\nMore\\nI can't make any real suggestions on ...      0\n",
       "4           4  You, sir, are my hero. Any chance you remember...      0\n",
       "5           5  \"\\n\\nCongratulations from me as well, use the ...      0\n",
       "6           6       COCKSUCKER BEFORE YOU PISS AROUND ON MY WORK      1\n",
       "7           7  Your vandalism to the Matt Shirvington article...      0\n",
       "8           8  Sorry if the word 'nonsense' was offensive to ...      0\n",
       "9           9  alignment on this subject and which are contra...      0"
      ]
     },
     "execution_count": 3,
     "metadata": {},
     "output_type": "execute_result"
    }
   ],
   "source": [
    "df.head(10)"
   ]
  },
  {
   "cell_type": "code",
   "execution_count": 4,
   "metadata": {},
   "outputs": [
    {
     "name": "stdout",
     "output_type": "stream",
     "text": [
      "<class 'pandas.core.frame.DataFrame'>\n",
      "RangeIndex: 159292 entries, 0 to 159291\n",
      "Data columns (total 3 columns):\n",
      " #   Column      Non-Null Count   Dtype \n",
      "---  ------      --------------   ----- \n",
      " 0   Unnamed: 0  159292 non-null  int64 \n",
      " 1   text        159292 non-null  object\n",
      " 2   toxic       159292 non-null  int64 \n",
      "dtypes: int64(2), object(1)\n",
      "memory usage: 3.6+ MB\n"
     ]
    }
   ],
   "source": [
    "df.info()"
   ]
  },
  {
   "cell_type": "code",
   "execution_count": 5,
   "metadata": {},
   "outputs": [
    {
     "data": {
      "text/plain": [
       "0    143106\n",
       "1     16186\n",
       "Name: toxic, dtype: int64"
      ]
     },
     "execution_count": 5,
     "metadata": {},
     "output_type": "execute_result"
    }
   ],
   "source": [
    "#Проверим соотношение токсичных/нектоксичных комментов\n",
    "m = (df['toxic'].value_counts())\n",
    "m"
   ]
  },
  {
   "cell_type": "markdown",
   "metadata": {},
   "source": [
    "Наблюдается дисбаланс классов"
   ]
  },
  {
   "cell_type": "code",
   "execution_count": 6,
   "metadata": {},
   "outputs": [
    {
     "name": "stdout",
     "output_type": "stream",
     "text": [
      "Explanation\n",
      "Why the edits made under my username Hardcore Metallica Fan were reverted? They weren't vandalisms, just closure on some GAs after I voted at New York Dolls FAC. And please don't remove the template from the talk page since I'm retired now.89.205.38.27\n"
     ]
    }
   ],
   "source": [
    "#Объявим корпус текстов\n",
    "corpus = df['text'].values\n",
    "print(corpus[0])"
   ]
  },
  {
   "cell_type": "code",
   "execution_count": 7,
   "metadata": {},
   "outputs": [],
   "source": [
    "def clean_text(text):\n",
    "    text = text.lower()\n",
    "    text = re.sub(r\"what's\", \"what is \", text)\n",
    "    text = re.sub(r\"\\'s\", \" \", text)\n",
    "    text = re.sub(r\"\\'ve\", \" have \", text)\n",
    "    text = re.sub(r\"can't\", \"cannot \", text)\n",
    "    text = re.sub(r\"n't\", \" not \", text)\n",
    "    text = re.sub(r\"i'm\", \"i am \", text)\n",
    "    text = re.sub(r\"\\'re\", \" are \", text)\n",
    "    text = re.sub(r\"\\'d\", \" would \", text)\n",
    "    text = re.sub(r\"\\'ll\", \" will \", text)\n",
    "    text = re.sub('\\W', ' ', text)\n",
    "    text = re.sub('\\s+', ' ', text)\n",
    "    text = text.strip(' ')\n",
    "    return text"
   ]
  },
  {
   "cell_type": "code",
   "execution_count": 8,
   "metadata": {},
   "outputs": [],
   "source": [
    "df['text'] = df['text'].map(lambda x: clean_text(x))"
   ]
  },
  {
   "cell_type": "code",
   "execution_count": 9,
   "metadata": {},
   "outputs": [],
   "source": [
    "def get_wordnet_pos(word):\n",
    "    tag = nltk.pos_tag([word])[0][1][0].upper()\n",
    "    tag_dict = {\"J\": wordnet.ADJ,               \n",
    "                \"N\": wordnet.NOUN,              \n",
    "                \"V\": wordnet.VERB,              \n",
    "                \"R\": wordnet.ADV                \n",
    "               }  \n",
    "    return tag_dict.get(tag, wordnet.NOUN)\n",
    "\n",
    "lemmatizer = WordNetLemmatizer()\n",
    "\n",
    "def lemm_text(text):\n",
    "    text = [lemmatizer.lemmatize(w, get_wordnet_pos(w)) for w in nltk.word_tokenize(text)]\n",
    "    return ' '.join(text)"
   ]
  },
  {
   "cell_type": "code",
   "execution_count": 10,
   "metadata": {},
   "outputs": [
    {
     "name": "stdout",
     "output_type": "stream",
     "text": [
      "CPU times: user 18min 34s, sys: 1min 48s, total: 20min 23s\n",
      "Wall time: 20min 25s\n"
     ]
    }
   ],
   "source": [
    "%%time\n",
    "\n",
    "df['text'] = df['text'].apply(lemm_text) "
   ]
  },
  {
   "cell_type": "raw",
   "metadata": {},
   "source": [
    "wnl = WordNetLemmatizer()\n",
    "\n",
    "def clear_text(text):\n",
    "    pattern = re.sub(r'[^a-zA-Z]', ' ', text)\n",
    "    clear = pattern.split()\n",
    "    lemm = []\n",
    "    for i in range(len(clear)):\n",
    "        lemm.append(wnl.lemmatize(clear[i]))\n",
    "    return \" \".join(lemm)"
   ]
  },
  {
   "cell_type": "raw",
   "metadata": {},
   "source": [
    "import nltk\n",
    "nltk.download('averaged_perceptron_tagger')"
   ]
  },
  {
   "cell_type": "raw",
   "metadata": {},
   "source": [
    "for i in tqdm(range(len(corpus))):\n",
    "    corpus[i] = lemm_text(corpus[i])"
   ]
  },
  {
   "cell_type": "code",
   "execution_count": 11,
   "metadata": {},
   "outputs": [
    {
     "data": {
      "text/html": [
       "<div>\n",
       "<style scoped>\n",
       "    .dataframe tbody tr th:only-of-type {\n",
       "        vertical-align: middle;\n",
       "    }\n",
       "\n",
       "    .dataframe tbody tr th {\n",
       "        vertical-align: top;\n",
       "    }\n",
       "\n",
       "    .dataframe thead th {\n",
       "        text-align: right;\n",
       "    }\n",
       "</style>\n",
       "<table border=\"1\" class=\"dataframe\">\n",
       "  <thead>\n",
       "    <tr style=\"text-align: right;\">\n",
       "      <th></th>\n",
       "      <th>Unnamed: 0</th>\n",
       "      <th>text</th>\n",
       "      <th>toxic</th>\n",
       "      <th>lemm_text</th>\n",
       "    </tr>\n",
       "  </thead>\n",
       "  <tbody>\n",
       "    <tr>\n",
       "      <th>0</th>\n",
       "      <td>0</td>\n",
       "      <td>explanation why the edits make under my userna...</td>\n",
       "      <td>0</td>\n",
       "      <td>explanation why the edits make under my userna...</td>\n",
       "    </tr>\n",
       "    <tr>\n",
       "      <th>1</th>\n",
       "      <td>1</td>\n",
       "      <td>d aww he match this background colour i be see...</td>\n",
       "      <td>0</td>\n",
       "      <td>d aww he match this background colour i be see...</td>\n",
       "    </tr>\n",
       "    <tr>\n",
       "      <th>2</th>\n",
       "      <td>2</td>\n",
       "      <td>hey man i be really not try to edit war it jus...</td>\n",
       "      <td>0</td>\n",
       "      <td>hey man i be really not try to edit war it jus...</td>\n",
       "    </tr>\n",
       "    <tr>\n",
       "      <th>3</th>\n",
       "      <td>3</td>\n",
       "      <td>more i can not make any real suggestion on imp...</td>\n",
       "      <td>0</td>\n",
       "      <td>more i can not make any real suggestion on imp...</td>\n",
       "    </tr>\n",
       "    <tr>\n",
       "      <th>4</th>\n",
       "      <td>4</td>\n",
       "      <td>you sir be my hero any chance you remember wha...</td>\n",
       "      <td>0</td>\n",
       "      <td>you sir be my hero any chance you remember wha...</td>\n",
       "    </tr>\n",
       "    <tr>\n",
       "      <th>5</th>\n",
       "      <td>5</td>\n",
       "      <td>congratulation from me a well use the tool wel...</td>\n",
       "      <td>0</td>\n",
       "      <td>congratulation from me a well use the tool wel...</td>\n",
       "    </tr>\n",
       "    <tr>\n",
       "      <th>6</th>\n",
       "      <td>6</td>\n",
       "      <td>cocksucker before you piss around on my work</td>\n",
       "      <td>1</td>\n",
       "      <td>cocksucker before you piss around on my work</td>\n",
       "    </tr>\n",
       "    <tr>\n",
       "      <th>7</th>\n",
       "      <td>7</td>\n",
       "      <td>your vandalism to the matt shirvington article...</td>\n",
       "      <td>0</td>\n",
       "      <td>your vandalism to the matt shirvington article...</td>\n",
       "    </tr>\n",
       "    <tr>\n",
       "      <th>8</th>\n",
       "      <td>8</td>\n",
       "      <td>sorry if the word nonsense be offensive to you...</td>\n",
       "      <td>0</td>\n",
       "      <td>sorry if the word nonsense be offensive to you...</td>\n",
       "    </tr>\n",
       "    <tr>\n",
       "      <th>9</th>\n",
       "      <td>9</td>\n",
       "      <td>alignment on this subject and which be contrar...</td>\n",
       "      <td>0</td>\n",
       "      <td>alignment on this subject and which be contrar...</td>\n",
       "    </tr>\n",
       "  </tbody>\n",
       "</table>\n",
       "</div>"
      ],
      "text/plain": [
       "   Unnamed: 0                                               text  toxic  \\\n",
       "0           0  explanation why the edits make under my userna...      0   \n",
       "1           1  d aww he match this background colour i be see...      0   \n",
       "2           2  hey man i be really not try to edit war it jus...      0   \n",
       "3           3  more i can not make any real suggestion on imp...      0   \n",
       "4           4  you sir be my hero any chance you remember wha...      0   \n",
       "5           5  congratulation from me a well use the tool wel...      0   \n",
       "6           6       cocksucker before you piss around on my work      1   \n",
       "7           7  your vandalism to the matt shirvington article...      0   \n",
       "8           8  sorry if the word nonsense be offensive to you...      0   \n",
       "9           9  alignment on this subject and which be contrar...      0   \n",
       "\n",
       "                                           lemm_text  \n",
       "0  explanation why the edits make under my userna...  \n",
       "1  d aww he match this background colour i be see...  \n",
       "2  hey man i be really not try to edit war it jus...  \n",
       "3  more i can not make any real suggestion on imp...  \n",
       "4  you sir be my hero any chance you remember wha...  \n",
       "5  congratulation from me a well use the tool wel...  \n",
       "6       cocksucker before you piss around on my work  \n",
       "7  your vandalism to the matt shirvington article...  \n",
       "8  sorry if the word nonsense be offensive to you...  \n",
       "9  alignment on this subject and which be contrar...  "
      ]
     },
     "metadata": {},
     "output_type": "display_data"
    },
    {
     "name": "stdout",
     "output_type": "stream",
     "text": [
      "<class 'pandas.core.frame.DataFrame'>\n",
      "RangeIndex: 159292 entries, 0 to 159291\n",
      "Data columns (total 4 columns):\n",
      " #   Column      Non-Null Count   Dtype \n",
      "---  ------      --------------   ----- \n",
      " 0   Unnamed: 0  159292 non-null  int64 \n",
      " 1   text        159292 non-null  object\n",
      " 2   toxic       159292 non-null  int64 \n",
      " 3   lemm_text   159292 non-null  object\n",
      "dtypes: int64(2), object(2)\n",
      "memory usage: 4.9+ MB\n"
     ]
    }
   ],
   "source": [
    "#Объединим датасет и корпус\n",
    "\n",
    "df_corpus = pd.DataFrame(corpus)\n",
    "df['lemm_text'] = df_corpus[0]\n",
    "display(df.head(10))\n",
    "df.info()"
   ]
  },
  {
   "cell_type": "markdown",
   "metadata": {},
   "source": [
    "**ВЫВОД**\n",
    "\n",
    "Дубликатов и пропусков нет\n",
    "\n",
    "Провели баланс классов"
   ]
  },
  {
   "cell_type": "markdown",
   "metadata": {},
   "source": [
    "## Обучение"
   ]
  },
  {
   "cell_type": "code",
   "execution_count": 12,
   "metadata": {},
   "outputs": [],
   "source": [
    "features = df['lemm_text']\n",
    "target = df['toxic']\n",
    "\n",
    "features_train_1, features_test_1, target_train, target_test = train_test_split(\n",
    "    features, target, test_size=0.25, random_state=42, stratify = target)"
   ]
  },
  {
   "cell_type": "code",
   "execution_count": 13,
   "metadata": {},
   "outputs": [
    {
     "name": "stderr",
     "output_type": "stream",
     "text": [
      "[nltk_data] Downloading package stopwords to /home/jovyan/nltk_data...\n",
      "[nltk_data]   Package stopwords is already up-to-date!\n"
     ]
    }
   ],
   "source": [
    "nltk.download('stopwords')\n",
    "stopwords = set(nltk_stopwords.words('english'))\n",
    "\n",
    "count_tf_idf = TfidfVectorizer(stop_words=stopwords) \n",
    "\n",
    "#Выполним векторизацию текстов\n",
    "features_train = count_tf_idf.fit_transform(features_train_1)\n",
    "features_test = count_tf_idf.transform(features_test_1)"
   ]
  },
  {
   "cell_type": "code",
   "execution_count": 14,
   "metadata": {},
   "outputs": [
    {
     "name": "stdout",
     "output_type": "stream",
     "text": [
      "(119469, 143727)\n",
      "(39823, 143727)\n",
      "(119469,)\n",
      "(39823,)\n"
     ]
    }
   ],
   "source": [
    "print(features_train.shape)\n",
    "print(features_test.shape)\n",
    "print(target_train.shape)\n",
    "print(target_test.shape)"
   ]
  },
  {
   "cell_type": "markdown",
   "metadata": {},
   "source": [
    "**LogisticRegression**"
   ]
  },
  {
   "cell_type": "code",
   "execution_count": 15,
   "metadata": {},
   "outputs": [
    {
     "name": "stdout",
     "output_type": "stream",
     "text": [
      "Качество модели Логистической регрессии на кросс-валидации: 0.7434791500248843\n",
      "CPU times: user 1min 20s, sys: 1min 30s, total: 2min 50s\n",
      "Wall time: 2min 50s\n"
     ]
    }
   ],
   "source": [
    "%%time\n",
    "#Обучим и проверим модель на кросс-валидации\n",
    "regression = LogisticRegression(fit_intercept=True, \n",
    "                                class_weight='balanced', \n",
    "                                random_state=42,\n",
    "                                solver='liblinear'\n",
    "                               )\n",
    "regression_parametrs = {'C': [0.1, 1, 10]}\n",
    "\n",
    "regression_grid = GridSearchCV(regression, regression_parametrs, scoring='f1', cv=3)\n",
    "regression_grid.fit(features_train, target_train)\n",
    "\n",
    "regression.fit(features_train, target_train)\n",
    "regression_cv_score = cross_val_score(regression,features_train, target_train,scoring='f1',cv=3).mean()\n",
    "print('Качество модели Логистической регрессии на кросс-валидации:', regression_cv_score)"
   ]
  },
  {
   "cell_type": "code",
   "execution_count": 16,
   "metadata": {},
   "outputs": [
    {
     "name": "stdout",
     "output_type": "stream",
     "text": [
      "{'C': 10}\n",
      "0.9079071167814534\n",
      "\n",
      "CPU times: user 39.2 ms, sys: 3.28 ms, total: 42.5 ms\n",
      "Wall time: 40.8 ms\n"
     ]
    }
   ],
   "source": [
    "%%time\n",
    "#Определяем гиперпараметры и качество модели на кросс-валидации:\n",
    "regression_params = regression_grid.best_params_\n",
    "regression_score = regression_grid.score(features_train, target_train)\n",
    "print(regression_params)\n",
    "print(regression_score)\n",
    "print('')"
   ]
  },
  {
   "cell_type": "code",
   "execution_count": 17,
   "metadata": {},
   "outputs": [
    {
     "name": "stdout",
     "output_type": "stream",
     "text": [
      "CPU times: user 12.1 s, sys: 11.6 s, total: 23.7 s\n",
      "Wall time: 23.7 s\n"
     ]
    }
   ],
   "source": [
    "%%time\n",
    "#Проверяем Логистическую регрессию на тестовой выборке:\n",
    "regression_model = LogisticRegression(fit_intercept=True,\n",
    "                                class_weight='balanced',\n",
    "                                random_state=42,\n",
    "                                solver='liblinear',\n",
    "                                C=regression_params['C']\n",
    "                               )\n",
    "\n",
    "regression_model.fit(features_train, target_train)\n",
    "regression_model_predictions = regression_model.predict(features_test)"
   ]
  },
  {
   "cell_type": "code",
   "execution_count": 18,
   "metadata": {},
   "outputs": [
    {
     "name": "stdout",
     "output_type": "stream",
     "text": [
      "0.75781\n"
     ]
    }
   ],
   "source": [
    "regression_predictions = regression_model.predict(features_test)\n",
    "regression_f1 = round(f1_score(target_test, regression_predictions), 5) \n",
    "print(regression_f1)"
   ]
  },
  {
   "cell_type": "markdown",
   "metadata": {},
   "source": [
    "**RandomForestClassifier**"
   ]
  },
  {
   "cell_type": "code",
   "execution_count": 19,
   "metadata": {},
   "outputs": [
    {
     "name": "stdout",
     "output_type": "stream",
     "text": [
      "CPU times: user 3min 53s, sys: 3.06 s, total: 3min 56s\n",
      "Wall time: 3min 56s\n"
     ]
    },
    {
     "data": {
      "text/plain": [
       "GridSearchCV(cv=3,\n",
       "             estimator=RandomForestClassifier(class_weight='balanced',\n",
       "                                              n_jobs=-1),\n",
       "             param_grid={'max_depth': range(4, 8, 2),\n",
       "                         'min_samples_leaf': range(3, 5),\n",
       "                         'min_samples_split': range(2, 6, 2),\n",
       "                         'n_estimators': range(20, 40, 5)},\n",
       "             scoring='f1')"
      ]
     },
     "execution_count": 19,
     "metadata": {},
     "output_type": "execute_result"
    }
   ],
   "source": [
    "%%time\n",
    "#Подбирем гиперпараметры на кросс-валидации\n",
    "forest = RandomForestClassifier(class_weight='balanced', n_jobs=-1 )\n",
    "\n",
    "forest_parametrs = { 'n_estimators': range(20, 40, 5),\n",
    "                     'max_depth': range(4, 8, 2),\n",
    "                     'min_samples_leaf': range(3,5),\n",
    "                     'min_samples_split': range(2,6,2)}\n",
    "\n",
    "#Применим GridSearchCV с кросс-валидацией\n",
    "forest_grid = GridSearchCV(forest, forest_parametrs, scoring='f1', cv=3)\n",
    "forest_grid.fit(features_train, target_train)"
   ]
  },
  {
   "cell_type": "code",
   "execution_count": 20,
   "metadata": {},
   "outputs": [
    {
     "name": "stdout",
     "output_type": "stream",
     "text": [
      "{'max_depth': 6, 'min_samples_leaf': 3, 'min_samples_split': 2, 'n_estimators': 35}\n",
      "0.3244483113185162\n",
      "\n",
      "CPU times: user 751 ms, sys: 4.44 ms, total: 756 ms\n",
      "Wall time: 762 ms\n"
     ]
    }
   ],
   "source": [
    "%%time\n",
    "#Определим гиперпараметры и качество модели на кросс-валидации:\n",
    "forest_params = forest_grid.best_params_\n",
    "forest_score = forest_grid.score(features_train, target_train)\n",
    "print(forest_params)\n",
    "print(forest_score)\n",
    "print('')"
   ]
  },
  {
   "cell_type": "code",
   "execution_count": 21,
   "metadata": {},
   "outputs": [
    {
     "name": "stdout",
     "output_type": "stream",
     "text": [
      "CPU times: user 1.04 s, sys: 17.5 ms, total: 1.06 s\n",
      "Wall time: 1.06 s\n"
     ]
    }
   ],
   "source": [
    "%%time\n",
    "#Обучим модель на подобранных гиперпараметрах:\n",
    "forest_model = RandomForestClassifier(random_state=42, n_jobs=-1, class_weight='balanced',\n",
    "                                     max_depth=forest_params['max_depth'],\n",
    "                                     min_samples_leaf = forest_params['min_samples_leaf'],\n",
    "                                     min_samples_split = forest_params['min_samples_split'],\n",
    "                                     n_estimators = forest_params['n_estimators'])\n",
    "\n",
    "forest_model.fit(features_train, target_train)\n",
    "forest_model_predictions = forest_model.predict(features_test)"
   ]
  },
  {
   "cell_type": "code",
   "execution_count": 22,
   "metadata": {},
   "outputs": [
    {
     "name": "stdout",
     "output_type": "stream",
     "text": [
      "0.309\n"
     ]
    }
   ],
   "source": [
    "forest_predictions = forest_model.predict(features_test)\n",
    "forest_f1 =  round(f1_score(target_test, forest_predictions), 3)\n",
    "print(forest_f1)"
   ]
  },
  {
   "cell_type": "markdown",
   "metadata": {},
   "source": [
    "## Выводы"
   ]
  },
  {
   "cell_type": "code",
   "execution_count": 23,
   "metadata": {},
   "outputs": [
    {
     "data": {
      "text/html": [
       "<div>\n",
       "<style scoped>\n",
       "    .dataframe tbody tr th:only-of-type {\n",
       "        vertical-align: middle;\n",
       "    }\n",
       "\n",
       "    .dataframe tbody tr th {\n",
       "        vertical-align: top;\n",
       "    }\n",
       "\n",
       "    .dataframe thead th {\n",
       "        text-align: right;\n",
       "    }\n",
       "</style>\n",
       "<table border=\"1\" class=\"dataframe\">\n",
       "  <thead>\n",
       "    <tr style=\"text-align: right;\">\n",
       "      <th></th>\n",
       "      <th>Модель</th>\n",
       "      <th>%%time</th>\n",
       "      <th>f1-мера</th>\n",
       "    </tr>\n",
       "  </thead>\n",
       "  <tbody>\n",
       "    <tr>\n",
       "      <th>0</th>\n",
       "      <td>LogisticRegression</td>\n",
       "      <td>26.1</td>\n",
       "      <td>0.75781</td>\n",
       "    </tr>\n",
       "    <tr>\n",
       "      <th>1</th>\n",
       "      <td>RandomForestClassifier</td>\n",
       "      <td>2.5</td>\n",
       "      <td>0.30900</td>\n",
       "    </tr>\n",
       "  </tbody>\n",
       "</table>\n",
       "</div>"
      ],
      "text/plain": [
       "                   Модель  %%time  f1-мера\n",
       "0      LogisticRegression    26.1  0.75781\n",
       "1  RandomForestClassifier     2.5  0.30900"
      ]
     },
     "metadata": {},
     "output_type": "display_data"
    }
   ],
   "source": [
    "columns = ['Модель', '%%time', 'f1-мера']\n",
    "regression_model = ['LogisticRegression', 26.1, regression_f1]\n",
    "forest_model = ['RandomForestClassifier', 2.5, forest_f1]\n",
    "\n",
    "\n",
    "table = pd.DataFrame([regression_model, forest_model], columns = columns)\n",
    "\n",
    "\n",
    "display(table)"
   ]
  },
  {
   "cell_type": "markdown",
   "metadata": {},
   "source": [
    "**ВЫВОД**\n",
    "\n",
    "На данных получилось достичд необходимой величины F1. Из выбранных моделей наилучший результат показал LogisticRegression, на тестовых данных у него 0.758, это больше чем минимальная в 0.75"
   ]
  }
 ],
 "metadata": {
  "ExecuteTimeLog": [
   {
    "duration": 1843,
    "start_time": "2023-04-18T06:02:50.895Z"
   },
   {
    "duration": 3490,
    "start_time": "2023-04-18T06:02:57.824Z"
   },
   {
    "duration": 70,
    "start_time": "2023-04-18T06:03:07.573Z"
   },
   {
    "duration": 752,
    "start_time": "2023-04-18T06:03:10.824Z"
   },
   {
    "duration": 17,
    "start_time": "2023-04-18T06:03:19.048Z"
   },
   {
    "duration": 33,
    "start_time": "2023-04-18T06:03:27.504Z"
   },
   {
    "duration": 7,
    "start_time": "2023-04-18T06:03:37.040Z"
   },
   {
    "duration": 49,
    "start_time": "2023-04-18T06:04:27.243Z"
   },
   {
    "duration": 171,
    "start_time": "2023-04-18T06:06:00.673Z"
   },
   {
    "duration": 8,
    "start_time": "2023-04-18T06:06:53.986Z"
   },
   {
    "duration": 11,
    "start_time": "2023-04-18T06:06:57.065Z"
   },
   {
    "duration": 6938,
    "start_time": "2023-04-18T06:07:13.706Z"
   },
   {
    "duration": 15,
    "start_time": "2023-04-18T06:12:27.050Z"
   },
   {
    "duration": 27,
    "start_time": "2023-04-18T06:13:07.466Z"
   },
   {
    "duration": 55,
    "start_time": "2023-04-18T06:17:43.627Z"
   },
   {
    "duration": 837,
    "start_time": "2023-04-18T06:17:58.699Z"
   },
   {
    "duration": 349,
    "start_time": "2023-04-18T06:18:26.467Z"
   },
   {
    "duration": 1610,
    "start_time": "2023-04-18T06:23:21.325Z"
   },
   {
    "duration": 800,
    "start_time": "2023-04-18T06:23:22.937Z"
   },
   {
    "duration": 17,
    "start_time": "2023-04-18T06:23:23.739Z"
   },
   {
    "duration": 31,
    "start_time": "2023-04-18T06:23:23.758Z"
   },
   {
    "duration": 5,
    "start_time": "2023-04-18T06:23:23.790Z"
   },
   {
    "duration": 6536,
    "start_time": "2023-04-18T06:23:23.797Z"
   },
   {
    "duration": 11,
    "start_time": "2023-04-18T06:23:30.335Z"
   },
   {
    "duration": 64,
    "start_time": "2023-04-18T06:23:30.347Z"
   },
   {
    "duration": 180,
    "start_time": "2023-04-18T06:23:30.413Z"
   },
   {
    "duration": 74,
    "start_time": "2023-04-18T06:24:53.941Z"
   },
   {
    "duration": 66,
    "start_time": "2023-04-18T06:27:11.182Z"
   },
   {
    "duration": 917,
    "start_time": "2023-04-18T06:27:27.261Z"
   },
   {
    "duration": 852,
    "start_time": "2023-04-18T06:28:04.582Z"
   },
   {
    "duration": 786,
    "start_time": "2023-04-18T06:34:14.503Z"
   },
   {
    "duration": 1418,
    "start_time": "2023-04-18T06:35:20.615Z"
   },
   {
    "duration": 1553,
    "start_time": "2023-04-18T06:35:25.146Z"
   },
   {
    "duration": 772,
    "start_time": "2023-04-18T06:35:26.701Z"
   },
   {
    "duration": 13,
    "start_time": "2023-04-18T06:35:27.475Z"
   },
   {
    "duration": 29,
    "start_time": "2023-04-18T06:35:27.490Z"
   },
   {
    "duration": 14,
    "start_time": "2023-04-18T06:35:27.522Z"
   },
   {
    "duration": 275,
    "start_time": "2023-04-18T06:35:27.538Z"
   },
   {
    "duration": 7403,
    "start_time": "2023-04-18T06:35:27.815Z"
   },
   {
    "duration": 11,
    "start_time": "2023-04-18T06:35:35.220Z"
   },
   {
    "duration": 88,
    "start_time": "2023-04-18T06:35:35.233Z"
   },
   {
    "duration": 1146,
    "start_time": "2023-04-18T06:35:35.323Z"
   },
   {
    "duration": 1554,
    "start_time": "2023-04-18T06:58:00.806Z"
   },
   {
    "duration": 786,
    "start_time": "2023-04-18T06:58:02.362Z"
   },
   {
    "duration": 16,
    "start_time": "2023-04-18T06:58:03.150Z"
   },
   {
    "duration": 54,
    "start_time": "2023-04-18T06:58:03.168Z"
   },
   {
    "duration": 279,
    "start_time": "2023-04-18T06:58:03.224Z"
   },
   {
    "duration": 6,
    "start_time": "2023-04-18T06:58:03.505Z"
   },
   {
    "duration": 144,
    "start_time": "2023-04-18T06:58:03.512Z"
   },
   {
    "duration": 0,
    "start_time": "2023-04-18T06:58:03.658Z"
   },
   {
    "duration": 0,
    "start_time": "2023-04-18T06:58:03.659Z"
   },
   {
    "duration": 0,
    "start_time": "2023-04-18T06:58:03.661Z"
   },
   {
    "duration": 6,
    "start_time": "2023-04-18T06:59:14.199Z"
   },
   {
    "duration": 31,
    "start_time": "2023-04-18T06:59:20.755Z"
   },
   {
    "duration": 13,
    "start_time": "2023-04-18T07:02:18.737Z"
   },
   {
    "duration": 14,
    "start_time": "2023-04-18T07:03:12.784Z"
   },
   {
    "duration": 28259,
    "start_time": "2023-04-18T07:03:18.548Z"
   },
   {
    "duration": 393,
    "start_time": "2023-04-18T07:07:14.844Z"
   },
   {
    "duration": 5052,
    "start_time": "2023-04-18T07:08:23.173Z"
   },
   {
    "duration": 3,
    "start_time": "2023-04-18T07:09:32.158Z"
   },
   {
    "duration": 5041,
    "start_time": "2023-04-18T07:10:20.916Z"
   },
   {
    "duration": 317,
    "start_time": "2023-04-18T07:10:42.646Z"
   },
   {
    "duration": 2,
    "start_time": "2023-04-18T07:10:51.918Z"
   },
   {
    "duration": 4,
    "start_time": "2023-04-18T07:11:01.382Z"
   },
   {
    "duration": 1835,
    "start_time": "2023-04-18T07:13:16.281Z"
   },
   {
    "duration": 3118,
    "start_time": "2023-04-18T07:13:18.118Z"
   },
   {
    "duration": 13,
    "start_time": "2023-04-18T07:13:21.238Z"
   },
   {
    "duration": 35,
    "start_time": "2023-04-18T07:13:21.252Z"
   },
   {
    "duration": 271,
    "start_time": "2023-04-18T07:13:21.289Z"
   },
   {
    "duration": 6,
    "start_time": "2023-04-18T07:13:21.562Z"
   },
   {
    "duration": 27,
    "start_time": "2023-04-18T07:13:21.569Z"
   },
   {
    "duration": 27395,
    "start_time": "2023-04-18T07:13:21.598Z"
   },
   {
    "duration": 382,
    "start_time": "2023-04-18T07:13:48.995Z"
   },
   {
    "duration": 4987,
    "start_time": "2023-04-18T07:13:49.379Z"
   },
   {
    "duration": 2,
    "start_time": "2023-04-18T07:13:54.368Z"
   },
   {
    "duration": 5185,
    "start_time": "2023-04-18T07:13:54.372Z"
   },
   {
    "duration": 306,
    "start_time": "2023-04-18T07:13:59.558Z"
   },
   {
    "duration": 4,
    "start_time": "2023-04-18T07:13:59.957Z"
   },
   {
    "duration": 1856,
    "start_time": "2023-04-18T07:22:44.517Z"
   },
   {
    "duration": 3127,
    "start_time": "2023-04-18T07:22:46.375Z"
   },
   {
    "duration": 14,
    "start_time": "2023-04-18T07:22:49.504Z"
   },
   {
    "duration": 30,
    "start_time": "2023-04-18T07:22:49.520Z"
   },
   {
    "duration": 275,
    "start_time": "2023-04-18T07:22:49.555Z"
   },
   {
    "duration": 7,
    "start_time": "2023-04-18T07:22:49.831Z"
   },
   {
    "duration": 41,
    "start_time": "2023-04-18T07:22:49.840Z"
   },
   {
    "duration": 27978,
    "start_time": "2023-04-18T07:22:49.883Z"
   },
   {
    "duration": 365,
    "start_time": "2023-04-18T07:23:17.863Z"
   },
   {
    "duration": 5028,
    "start_time": "2023-04-18T07:23:18.231Z"
   },
   {
    "duration": 2,
    "start_time": "2023-04-18T07:23:23.261Z"
   },
   {
    "duration": 5701,
    "start_time": "2023-04-18T07:23:23.265Z"
   },
   {
    "duration": 389,
    "start_time": "2023-04-18T07:23:28.968Z"
   },
   {
    "duration": 6,
    "start_time": "2023-04-18T07:23:29.360Z"
   },
   {
    "duration": 54,
    "start_time": "2023-04-18T07:34:17.104Z"
   },
   {
    "duration": 2065,
    "start_time": "2023-04-18T07:34:23.004Z"
   },
   {
    "duration": 1647,
    "start_time": "2023-04-18T07:34:37.066Z"
   },
   {
    "duration": 3350,
    "start_time": "2023-04-18T07:34:38.715Z"
   },
   {
    "duration": 24,
    "start_time": "2023-04-18T07:34:42.067Z"
   },
   {
    "duration": 58,
    "start_time": "2023-04-18T07:34:42.093Z"
   },
   {
    "duration": 345,
    "start_time": "2023-04-18T07:34:42.153Z"
   },
   {
    "duration": 6,
    "start_time": "2023-04-18T07:34:42.500Z"
   },
   {
    "duration": 31,
    "start_time": "2023-04-18T07:34:42.508Z"
   },
   {
    "duration": 33031,
    "start_time": "2023-04-18T07:34:42.556Z"
   },
   {
    "duration": 403,
    "start_time": "2023-04-18T07:35:15.589Z"
   },
   {
    "duration": 5757,
    "start_time": "2023-04-18T07:35:15.995Z"
   },
   {
    "duration": 4,
    "start_time": "2023-04-18T07:35:21.755Z"
   },
   {
    "duration": 7798,
    "start_time": "2023-04-18T07:35:21.764Z"
   },
   {
    "duration": 411,
    "start_time": "2023-04-18T07:35:29.573Z"
   },
   {
    "duration": 5,
    "start_time": "2023-04-18T07:35:30.058Z"
   },
   {
    "duration": 20133,
    "start_time": "2023-04-18T07:35:30.065Z"
   },
   {
    "duration": 172,
    "start_time": "2023-04-18T07:35:53.323Z"
   },
   {
    "duration": 3,
    "start_time": "2023-04-18T07:35:54.923Z"
   },
   {
    "duration": 15,
    "start_time": "2023-04-18T07:36:16.062Z"
   },
   {
    "duration": 4959,
    "start_time": "2023-04-18T13:48:52.204Z"
   },
   {
    "duration": 3332,
    "start_time": "2023-04-18T13:48:57.165Z"
   },
   {
    "duration": 18,
    "start_time": "2023-04-18T13:49:00.499Z"
   },
   {
    "duration": 65,
    "start_time": "2023-04-18T13:49:00.520Z"
   },
   {
    "duration": 368,
    "start_time": "2023-04-18T13:49:00.587Z"
   },
   {
    "duration": 7,
    "start_time": "2023-04-18T13:49:00.957Z"
   },
   {
    "duration": 52,
    "start_time": "2023-04-18T13:49:00.966Z"
   },
   {
    "duration": 32181,
    "start_time": "2023-04-18T13:49:01.021Z"
   },
   {
    "duration": 11,
    "start_time": "2023-04-18T13:49:33.204Z"
   },
   {
    "duration": 1615,
    "start_time": "2023-04-18T15:45:13.156Z"
   },
   {
    "duration": 3805,
    "start_time": "2023-04-18T15:45:14.774Z"
   },
   {
    "duration": 28,
    "start_time": "2023-04-18T15:45:18.581Z"
   },
   {
    "duration": 45,
    "start_time": "2023-04-18T15:45:18.613Z"
   },
   {
    "duration": 342,
    "start_time": "2023-04-18T15:45:18.660Z"
   },
   {
    "duration": 8,
    "start_time": "2023-04-18T15:45:19.017Z"
   },
   {
    "duration": 48,
    "start_time": "2023-04-18T15:45:19.028Z"
   },
   {
    "duration": 6,
    "start_time": "2023-04-18T15:45:19.079Z"
   },
   {
    "duration": 10605,
    "start_time": "2023-04-18T15:45:19.087Z"
   },
   {
    "duration": 37767,
    "start_time": "2023-04-18T15:45:29.701Z"
   },
   {
    "duration": 26,
    "start_time": "2023-04-18T15:46:07.470Z"
   },
   {
    "duration": 415,
    "start_time": "2023-04-18T15:46:07.501Z"
   },
   {
    "duration": 5981,
    "start_time": "2023-04-18T15:46:07.921Z"
   },
   {
    "duration": 4,
    "start_time": "2023-04-18T15:46:13.911Z"
   },
   {
    "duration": 5690,
    "start_time": "2023-04-18T15:46:13.917Z"
   },
   {
    "duration": 498,
    "start_time": "2023-04-18T15:46:19.611Z"
   },
   {
    "duration": 5,
    "start_time": "2023-04-18T15:46:20.111Z"
   },
   {
    "duration": 20089,
    "start_time": "2023-04-18T15:46:20.118Z"
   },
   {
    "duration": 287,
    "start_time": "2023-04-18T15:46:40.209Z"
   },
   {
    "duration": 5,
    "start_time": "2023-04-18T15:46:40.502Z"
   },
   {
    "duration": 18,
    "start_time": "2023-04-18T15:46:40.513Z"
   },
   {
    "duration": 54,
    "start_time": "2023-04-18T15:49:29.017Z"
   },
   {
    "duration": 1759,
    "start_time": "2023-04-18T15:52:40.060Z"
   },
   {
    "duration": 1003,
    "start_time": "2023-04-18T15:52:41.822Z"
   },
   {
    "duration": 23,
    "start_time": "2023-04-18T15:52:42.827Z"
   },
   {
    "duration": 59,
    "start_time": "2023-04-18T15:52:42.853Z"
   },
   {
    "duration": 330,
    "start_time": "2023-04-18T15:52:42.914Z"
   },
   {
    "duration": 9,
    "start_time": "2023-04-18T15:52:43.246Z"
   },
   {
    "duration": 26,
    "start_time": "2023-04-18T15:52:43.257Z"
   },
   {
    "duration": 10489,
    "start_time": "2023-04-18T15:52:43.286Z"
   },
   {
    "duration": 150,
    "start_time": "2023-04-18T15:52:53.777Z"
   },
   {
    "duration": 0,
    "start_time": "2023-04-18T15:52:53.930Z"
   },
   {
    "duration": 0,
    "start_time": "2023-04-18T15:52:53.932Z"
   },
   {
    "duration": 0,
    "start_time": "2023-04-18T15:52:53.934Z"
   },
   {
    "duration": 0,
    "start_time": "2023-04-18T15:52:53.936Z"
   },
   {
    "duration": 0,
    "start_time": "2023-04-18T15:52:53.937Z"
   },
   {
    "duration": 0,
    "start_time": "2023-04-18T15:52:53.938Z"
   },
   {
    "duration": 0,
    "start_time": "2023-04-18T15:52:53.940Z"
   },
   {
    "duration": 0,
    "start_time": "2023-04-18T15:52:53.941Z"
   },
   {
    "duration": 0,
    "start_time": "2023-04-18T15:52:53.942Z"
   },
   {
    "duration": 0,
    "start_time": "2023-04-18T15:52:53.943Z"
   },
   {
    "duration": 0,
    "start_time": "2023-04-18T15:52:53.944Z"
   },
   {
    "duration": 17,
    "start_time": "2023-04-18T15:54:01.618Z"
   },
   {
    "duration": 28,
    "start_time": "2023-04-18T15:54:03.160Z"
   },
   {
    "duration": 107,
    "start_time": "2023-04-18T15:54:52.257Z"
   },
   {
    "duration": 10,
    "start_time": "2023-04-18T15:55:12.707Z"
   },
   {
    "duration": 1472446,
    "start_time": "2023-04-18T15:55:15.569Z"
   },
   {
    "duration": 71,
    "start_time": "2023-04-18T16:46:57.443Z"
   },
   {
    "duration": 98,
    "start_time": "2023-04-18T16:47:19.318Z"
   },
   {
    "duration": 59,
    "start_time": "2023-04-18T16:47:44.419Z"
   },
   {
    "duration": 1663,
    "start_time": "2023-04-18T17:30:49.587Z"
   },
   {
    "duration": 891,
    "start_time": "2023-04-18T17:30:51.252Z"
   },
   {
    "duration": 23,
    "start_time": "2023-04-18T17:30:52.145Z"
   },
   {
    "duration": 57,
    "start_time": "2023-04-18T17:30:52.171Z"
   },
   {
    "duration": 366,
    "start_time": "2023-04-18T17:30:52.230Z"
   },
   {
    "duration": 7,
    "start_time": "2023-04-18T17:30:52.598Z"
   },
   {
    "duration": 8,
    "start_time": "2023-04-18T17:30:52.606Z"
   },
   {
    "duration": 8875,
    "start_time": "2023-04-18T17:30:52.616Z"
   },
   {
    "duration": 11,
    "start_time": "2023-04-18T17:31:01.493Z"
   },
   {
    "duration": 79,
    "start_time": "2023-04-18T17:31:01.508Z"
   },
   {
    "duration": 1172725,
    "start_time": "2023-04-18T17:31:01.590Z"
   },
   {
    "duration": 1784,
    "start_time": "2023-04-18T17:52:44.212Z"
   },
   {
    "duration": 902,
    "start_time": "2023-04-18T17:52:46.001Z"
   },
   {
    "duration": 18,
    "start_time": "2023-04-18T17:52:46.905Z"
   },
   {
    "duration": 35,
    "start_time": "2023-04-18T17:52:46.925Z"
   },
   {
    "duration": 353,
    "start_time": "2023-04-18T17:52:46.962Z"
   },
   {
    "duration": 7,
    "start_time": "2023-04-18T17:52:47.317Z"
   },
   {
    "duration": 11,
    "start_time": "2023-04-18T17:52:47.326Z"
   },
   {
    "duration": 9690,
    "start_time": "2023-04-18T17:52:47.339Z"
   },
   {
    "duration": 147,
    "start_time": "2023-04-18T17:52:57.031Z"
   },
   {
    "duration": 0,
    "start_time": "2023-04-18T17:52:57.181Z"
   },
   {
    "duration": 0,
    "start_time": "2023-04-18T17:52:57.182Z"
   },
   {
    "duration": 0,
    "start_time": "2023-04-18T17:52:57.183Z"
   },
   {
    "duration": 0,
    "start_time": "2023-04-18T17:52:57.184Z"
   },
   {
    "duration": 0,
    "start_time": "2023-04-18T17:52:57.193Z"
   },
   {
    "duration": 0,
    "start_time": "2023-04-18T17:52:57.193Z"
   },
   {
    "duration": 0,
    "start_time": "2023-04-18T17:52:57.194Z"
   },
   {
    "duration": 0,
    "start_time": "2023-04-18T17:52:57.195Z"
   },
   {
    "duration": 0,
    "start_time": "2023-04-18T17:52:57.198Z"
   },
   {
    "duration": 0,
    "start_time": "2023-04-18T17:52:57.203Z"
   },
   {
    "duration": 95614,
    "start_time": "2023-04-18T18:26:55.133Z"
   },
   {
    "duration": 8,
    "start_time": "2023-04-18T18:32:50.515Z"
   },
   {
    "duration": 11,
    "start_time": "2023-04-18T18:33:42.516Z"
   },
   {
    "duration": 11,
    "start_time": "2023-04-18T18:33:47.937Z"
   },
   {
    "duration": 74,
    "start_time": "2023-04-18T18:35:26.621Z"
   },
   {
    "duration": 87,
    "start_time": "2023-04-18T18:35:43.181Z"
   },
   {
    "duration": 3852,
    "start_time": "2023-04-19T05:01:56.924Z"
   },
   {
    "duration": 4769,
    "start_time": "2023-04-19T05:02:00.778Z"
   },
   {
    "duration": 23,
    "start_time": "2023-04-19T05:02:05.550Z"
   },
   {
    "duration": 53,
    "start_time": "2023-04-19T05:02:05.576Z"
   },
   {
    "duration": 397,
    "start_time": "2023-04-19T05:02:05.631Z"
   },
   {
    "duration": 7,
    "start_time": "2023-04-19T05:02:06.030Z"
   },
   {
    "duration": 8129,
    "start_time": "2023-04-19T05:02:06.038Z"
   },
   {
    "duration": 8,
    "start_time": "2023-04-19T05:02:14.169Z"
   },
   {
    "duration": 198,
    "start_time": "2023-04-19T05:02:14.178Z"
   },
   {
    "duration": 0,
    "start_time": "2023-04-19T05:02:14.379Z"
   },
   {
    "duration": 0,
    "start_time": "2023-04-19T05:02:14.380Z"
   },
   {
    "duration": 0,
    "start_time": "2023-04-19T05:02:14.381Z"
   },
   {
    "duration": 0,
    "start_time": "2023-04-19T05:02:14.382Z"
   },
   {
    "duration": 0,
    "start_time": "2023-04-19T05:02:14.391Z"
   },
   {
    "duration": 0,
    "start_time": "2023-04-19T05:02:14.392Z"
   },
   {
    "duration": 0,
    "start_time": "2023-04-19T05:02:14.393Z"
   },
   {
    "duration": 0,
    "start_time": "2023-04-19T05:02:14.394Z"
   },
   {
    "duration": 0,
    "start_time": "2023-04-19T05:02:14.395Z"
   },
   {
    "duration": 0,
    "start_time": "2023-04-19T05:02:14.396Z"
   },
   {
    "duration": 0,
    "start_time": "2023-04-19T05:02:14.397Z"
   },
   {
    "duration": 71,
    "start_time": "2023-04-19T05:22:40.669Z"
   },
   {
    "duration": 3131,
    "start_time": "2023-04-19T05:36:06.531Z"
   },
   {
    "duration": 3766,
    "start_time": "2023-04-19T05:36:09.665Z"
   },
   {
    "duration": 16,
    "start_time": "2023-04-19T05:36:13.434Z"
   },
   {
    "duration": 36,
    "start_time": "2023-04-19T05:36:13.453Z"
   },
   {
    "duration": 391,
    "start_time": "2023-04-19T05:36:13.491Z"
   },
   {
    "duration": 9,
    "start_time": "2023-04-19T05:36:13.890Z"
   },
   {
    "duration": 190,
    "start_time": "2023-04-19T05:36:13.902Z"
   },
   {
    "duration": 0,
    "start_time": "2023-04-19T05:36:14.095Z"
   },
   {
    "duration": 0,
    "start_time": "2023-04-19T05:36:14.096Z"
   },
   {
    "duration": 0,
    "start_time": "2023-04-19T05:36:14.098Z"
   },
   {
    "duration": 0,
    "start_time": "2023-04-19T05:36:14.099Z"
   },
   {
    "duration": 0,
    "start_time": "2023-04-19T05:36:14.101Z"
   },
   {
    "duration": 0,
    "start_time": "2023-04-19T05:36:14.103Z"
   },
   {
    "duration": 0,
    "start_time": "2023-04-19T05:36:14.104Z"
   },
   {
    "duration": 0,
    "start_time": "2023-04-19T05:36:14.106Z"
   },
   {
    "duration": 0,
    "start_time": "2023-04-19T05:36:14.107Z"
   },
   {
    "duration": 0,
    "start_time": "2023-04-19T05:36:14.108Z"
   },
   {
    "duration": 0,
    "start_time": "2023-04-19T05:36:14.110Z"
   },
   {
    "duration": 0,
    "start_time": "2023-04-19T05:36:14.111Z"
   },
   {
    "duration": 0,
    "start_time": "2023-04-19T05:36:14.112Z"
   },
   {
    "duration": 0,
    "start_time": "2023-04-19T05:36:14.114Z"
   },
   {
    "duration": 0,
    "start_time": "2023-04-19T05:36:14.115Z"
   },
   {
    "duration": 0,
    "start_time": "2023-04-19T05:36:14.117Z"
   },
   {
    "duration": 0,
    "start_time": "2023-04-19T05:36:14.118Z"
   },
   {
    "duration": 0,
    "start_time": "2023-04-19T05:36:14.119Z"
   },
   {
    "duration": 22,
    "start_time": "2023-04-19T05:37:36.088Z"
   },
   {
    "duration": 15,
    "start_time": "2023-04-19T05:37:46.464Z"
   },
   {
    "duration": 6,
    "start_time": "2023-04-19T05:41:05.778Z"
   },
   {
    "duration": 169,
    "start_time": "2023-04-19T05:41:15.160Z"
   },
   {
    "duration": 89,
    "start_time": "2023-04-19T05:42:43.346Z"
   },
   {
    "duration": 182,
    "start_time": "2023-04-19T05:42:47.682Z"
   },
   {
    "duration": 303,
    "start_time": "2023-04-19T05:43:29.641Z"
   },
   {
    "duration": 173,
    "start_time": "2023-04-19T05:43:32.770Z"
   },
   {
    "duration": 29670,
    "start_time": "2023-04-19T05:43:48.250Z"
   },
   {
    "duration": 11,
    "start_time": "2023-04-19T05:44:38.025Z"
   },
   {
    "duration": 62,
    "start_time": "2023-04-19T05:46:16.212Z"
   },
   {
    "duration": 8,
    "start_time": "2023-04-19T05:46:19.594Z"
   },
   {
    "duration": 21,
    "start_time": "2023-04-19T05:46:36.633Z"
   },
   {
    "duration": 7,
    "start_time": "2023-04-19T05:47:10.874Z"
   },
   {
    "duration": 15,
    "start_time": "2023-04-19T05:47:15.099Z"
   },
   {
    "duration": 7314,
    "start_time": "2023-04-19T05:47:29.787Z"
   },
   {
    "duration": 9,
    "start_time": "2023-04-19T05:48:09.723Z"
   },
   {
    "duration": 12,
    "start_time": "2023-04-19T05:48:15.658Z"
   },
   {
    "duration": 18,
    "start_time": "2023-04-19T05:48:20.298Z"
   },
   {
    "duration": 6108,
    "start_time": "2023-04-19T05:48:34.747Z"
   },
   {
    "duration": 50,
    "start_time": "2023-04-19T06:05:47.520Z"
   },
   {
    "duration": 43,
    "start_time": "2023-04-19T06:05:57.681Z"
   },
   {
    "duration": 29,
    "start_time": "2023-04-19T06:06:14.297Z"
   },
   {
    "duration": 60,
    "start_time": "2023-04-19T06:08:56.353Z"
   },
   {
    "duration": 5,
    "start_time": "2023-04-19T06:09:29.538Z"
   },
   {
    "duration": 63,
    "start_time": "2023-04-19T06:10:13.601Z"
   },
   {
    "duration": 94,
    "start_time": "2023-04-19T06:10:18.729Z"
   },
   {
    "duration": 5,
    "start_time": "2023-04-19T06:11:14.739Z"
   },
   {
    "duration": 50486,
    "start_time": "2023-04-19T06:12:20.603Z"
   },
   {
    "duration": 15,
    "start_time": "2023-04-19T06:22:50.287Z"
   },
   {
    "duration": 50916,
    "start_time": "2023-04-19T06:23:01.445Z"
   },
   {
    "duration": 836,
    "start_time": "2023-04-19T06:26:33.756Z"
   },
   {
    "duration": 930,
    "start_time": "2023-04-19T06:27:27.738Z"
   },
   {
    "duration": 4,
    "start_time": "2023-04-19T06:30:57.785Z"
   },
   {
    "duration": 1025,
    "start_time": "2023-04-19T06:31:29.442Z"
   },
   {
    "duration": 33,
    "start_time": "2023-04-19T06:32:04.015Z"
   },
   {
    "duration": 688,
    "start_time": "2023-04-19T06:33:31.427Z"
   },
   {
    "duration": 672,
    "start_time": "2023-04-19T06:33:40.146Z"
   },
   {
    "duration": 22,
    "start_time": "2023-04-19T06:33:43.283Z"
   },
   {
    "duration": 77,
    "start_time": "2023-04-19T06:38:47.715Z"
   },
   {
    "duration": 22,
    "start_time": "2023-04-19T06:39:08.515Z"
   },
   {
    "duration": 5085,
    "start_time": "2023-04-19T06:39:19.220Z"
   },
   {
    "duration": 5068,
    "start_time": "2023-04-19T06:39:24.307Z"
   },
   {
    "duration": 19,
    "start_time": "2023-04-19T06:39:29.378Z"
   },
   {
    "duration": 42,
    "start_time": "2023-04-19T06:39:29.400Z"
   },
   {
    "duration": 353,
    "start_time": "2023-04-19T06:39:29.444Z"
   },
   {
    "duration": 10,
    "start_time": "2023-04-19T06:39:29.801Z"
   },
   {
    "duration": 391,
    "start_time": "2023-04-19T06:39:29.814Z"
   },
   {
    "duration": 29198,
    "start_time": "2023-04-19T06:39:30.207Z"
   },
   {
    "duration": 11,
    "start_time": "2023-04-19T06:39:59.410Z"
   },
   {
    "duration": 60,
    "start_time": "2023-04-19T06:39:59.425Z"
   },
   {
    "duration": 44,
    "start_time": "2023-04-19T06:39:59.487Z"
   },
   {
    "duration": 10209,
    "start_time": "2023-04-19T06:39:59.533Z"
   },
   {
    "duration": 9,
    "start_time": "2023-04-19T06:40:09.744Z"
   },
   {
    "duration": 6409,
    "start_time": "2023-04-19T06:40:09.757Z"
   },
   {
    "duration": 3,
    "start_time": "2023-04-19T06:40:16.167Z"
   },
   {
    "duration": 5,
    "start_time": "2023-04-19T06:40:16.172Z"
   },
   {
    "duration": 42728,
    "start_time": "2023-04-19T06:40:16.179Z"
   },
   {
    "duration": 667,
    "start_time": "2023-04-19T06:40:58.909Z"
   },
   {
    "duration": 35,
    "start_time": "2023-04-19T06:40:59.578Z"
   },
   {
    "duration": 4,
    "start_time": "2023-04-19T06:40:59.617Z"
   },
   {
    "duration": 12,
    "start_time": "2023-04-19T06:40:59.623Z"
   },
   {
    "duration": 299,
    "start_time": "2023-04-19T06:43:22.716Z"
   },
   {
    "duration": 4,
    "start_time": "2023-04-19T06:43:44.557Z"
   },
   {
    "duration": 14,
    "start_time": "2023-04-19T06:43:47.151Z"
   },
   {
    "duration": 2714,
    "start_time": "2023-04-19T06:43:54.023Z"
   },
   {
    "duration": 4309,
    "start_time": "2023-04-19T06:43:56.739Z"
   },
   {
    "duration": 27,
    "start_time": "2023-04-19T06:44:01.051Z"
   },
   {
    "duration": 46,
    "start_time": "2023-04-19T06:44:01.081Z"
   },
   {
    "duration": 395,
    "start_time": "2023-04-19T06:44:01.130Z"
   },
   {
    "duration": 7,
    "start_time": "2023-04-19T06:44:01.527Z"
   },
   {
    "duration": 339,
    "start_time": "2023-04-19T06:44:01.536Z"
   },
   {
    "duration": 27841,
    "start_time": "2023-04-19T06:44:01.877Z"
   },
   {
    "duration": 10,
    "start_time": "2023-04-19T06:44:29.721Z"
   },
   {
    "duration": 41,
    "start_time": "2023-04-19T06:44:29.733Z"
   },
   {
    "duration": 19,
    "start_time": "2023-04-19T06:44:29.776Z"
   },
   {
    "duration": 7399,
    "start_time": "2023-04-19T06:44:29.819Z"
   },
   {
    "duration": 7,
    "start_time": "2023-04-19T06:44:37.222Z"
   },
   {
    "duration": 6649,
    "start_time": "2023-04-19T06:44:37.231Z"
   },
   {
    "duration": 3,
    "start_time": "2023-04-19T06:44:43.882Z"
   },
   {
    "duration": 20,
    "start_time": "2023-04-19T06:44:43.886Z"
   },
   {
    "duration": 42443,
    "start_time": "2023-04-19T06:44:43.908Z"
   },
   {
    "duration": 175,
    "start_time": "2023-04-19T06:45:26.353Z"
   },
   {
    "duration": 0,
    "start_time": "2023-04-19T06:45:26.532Z"
   },
   {
    "duration": 0,
    "start_time": "2023-04-19T06:45:26.533Z"
   },
   {
    "duration": 0,
    "start_time": "2023-04-19T06:45:26.535Z"
   },
   {
    "duration": 0,
    "start_time": "2023-04-19T06:45:26.537Z"
   },
   {
    "duration": 745,
    "start_time": "2023-04-19T06:46:47.965Z"
   },
   {
    "duration": 24,
    "start_time": "2023-04-19T06:46:50.218Z"
   },
   {
    "duration": 53,
    "start_time": "2023-04-19T16:42:09.784Z"
   },
   {
    "duration": 8,
    "start_time": "2023-04-19T16:44:42.795Z"
   },
   {
    "duration": 1872,
    "start_time": "2023-04-19T17:05:51.718Z"
   },
   {
    "duration": 3294,
    "start_time": "2023-04-19T17:05:53.592Z"
   },
   {
    "duration": 16,
    "start_time": "2023-04-19T17:05:56.888Z"
   },
   {
    "duration": 31,
    "start_time": "2023-04-19T17:05:56.906Z"
   },
   {
    "duration": 309,
    "start_time": "2023-04-19T17:05:56.939Z"
   },
   {
    "duration": 9,
    "start_time": "2023-04-19T17:05:57.250Z"
   },
   {
    "duration": 268,
    "start_time": "2023-04-19T17:05:57.261Z"
   },
   {
    "duration": 160,
    "start_time": "2023-04-19T17:05:57.531Z"
   },
   {
    "duration": 0,
    "start_time": "2023-04-19T17:05:57.693Z"
   },
   {
    "duration": 0,
    "start_time": "2023-04-19T17:05:57.694Z"
   },
   {
    "duration": 0,
    "start_time": "2023-04-19T17:05:57.696Z"
   },
   {
    "duration": 0,
    "start_time": "2023-04-19T17:05:57.697Z"
   },
   {
    "duration": 0,
    "start_time": "2023-04-19T17:05:57.700Z"
   },
   {
    "duration": 0,
    "start_time": "2023-04-19T17:05:57.701Z"
   },
   {
    "duration": 0,
    "start_time": "2023-04-19T17:05:57.702Z"
   },
   {
    "duration": 0,
    "start_time": "2023-04-19T17:05:57.704Z"
   },
   {
    "duration": 0,
    "start_time": "2023-04-19T17:05:57.705Z"
   },
   {
    "duration": 0,
    "start_time": "2023-04-19T17:05:57.706Z"
   },
   {
    "duration": 0,
    "start_time": "2023-04-19T17:05:57.707Z"
   },
   {
    "duration": 57,
    "start_time": "2023-04-19T17:06:27.422Z"
   },
   {
    "duration": 48,
    "start_time": "2023-04-19T17:07:18.409Z"
   },
   {
    "duration": 14,
    "start_time": "2023-04-19T17:07:52.755Z"
   },
   {
    "duration": 155944,
    "start_time": "2023-04-19T17:08:04.081Z"
   },
   {
    "duration": 14,
    "start_time": "2023-04-19T17:19:10.235Z"
   },
   {
    "duration": 150302,
    "start_time": "2023-04-19T17:20:28.261Z"
   },
   {
    "duration": 8,
    "start_time": "2023-04-19T17:26:42.883Z"
   },
   {
    "duration": 5,
    "start_time": "2023-04-19T17:27:20.645Z"
   },
   {
    "duration": 153272,
    "start_time": "2023-04-19T17:27:25.445Z"
   },
   {
    "duration": 10,
    "start_time": "2023-04-19T17:30:13.398Z"
   },
   {
    "duration": 6,
    "start_time": "2023-04-19T17:30:22.719Z"
   },
   {
    "duration": 8,
    "start_time": "2023-04-19T17:30:27.142Z"
   },
   {
    "duration": 1681,
    "start_time": "2023-04-19T17:59:20.350Z"
   },
   {
    "duration": 908,
    "start_time": "2023-04-19T17:59:22.033Z"
   },
   {
    "duration": 16,
    "start_time": "2023-04-19T17:59:22.942Z"
   },
   {
    "duration": 45,
    "start_time": "2023-04-19T17:59:22.961Z"
   },
   {
    "duration": 315,
    "start_time": "2023-04-19T17:59:23.008Z"
   },
   {
    "duration": 6,
    "start_time": "2023-04-19T17:59:23.325Z"
   },
   {
    "duration": 7,
    "start_time": "2023-04-19T17:59:23.333Z"
   },
   {
    "duration": 8879,
    "start_time": "2023-04-19T17:59:23.341Z"
   },
   {
    "duration": 5,
    "start_time": "2023-04-19T17:59:32.222Z"
   },
   {
    "duration": 93247,
    "start_time": "2023-04-19T17:59:32.229Z"
   },
   {
    "duration": 14,
    "start_time": "2023-04-19T18:01:05.478Z"
   },
   {
    "duration": 71,
    "start_time": "2023-04-19T18:01:05.494Z"
   },
   {
    "duration": 79,
    "start_time": "2023-04-19T18:01:05.567Z"
   },
   {
    "duration": 147,
    "start_time": "2023-04-19T18:01:05.648Z"
   },
   {
    "duration": 0,
    "start_time": "2023-04-19T18:01:05.796Z"
   },
   {
    "duration": 0,
    "start_time": "2023-04-19T18:01:05.798Z"
   },
   {
    "duration": 0,
    "start_time": "2023-04-19T18:01:05.799Z"
   },
   {
    "duration": 0,
    "start_time": "2023-04-19T18:01:05.800Z"
   },
   {
    "duration": 0,
    "start_time": "2023-04-19T18:01:05.801Z"
   },
   {
    "duration": 0,
    "start_time": "2023-04-19T18:01:05.802Z"
   },
   {
    "duration": 0,
    "start_time": "2023-04-19T18:01:05.803Z"
   },
   {
    "duration": 1696,
    "start_time": "2023-04-19T18:13:01.980Z"
   },
   {
    "duration": 904,
    "start_time": "2023-04-19T18:13:03.678Z"
   },
   {
    "duration": 17,
    "start_time": "2023-04-19T18:13:04.584Z"
   },
   {
    "duration": 35,
    "start_time": "2023-04-19T18:13:04.603Z"
   },
   {
    "duration": 327,
    "start_time": "2023-04-19T18:13:04.640Z"
   },
   {
    "duration": 6,
    "start_time": "2023-04-19T18:13:04.969Z"
   },
   {
    "duration": 15,
    "start_time": "2023-04-19T18:13:04.976Z"
   },
   {
    "duration": 8790,
    "start_time": "2023-04-19T18:13:04.994Z"
   },
   {
    "duration": 5,
    "start_time": "2023-04-19T18:13:13.786Z"
   },
   {
    "duration": 15271,
    "start_time": "2023-04-19T18:13:13.794Z"
   },
   {
    "duration": 0,
    "start_time": "2023-04-19T18:13:29.067Z"
   },
   {
    "duration": 0,
    "start_time": "2023-04-19T18:13:29.068Z"
   },
   {
    "duration": 0,
    "start_time": "2023-04-19T18:13:29.069Z"
   },
   {
    "duration": 0,
    "start_time": "2023-04-19T18:13:29.070Z"
   },
   {
    "duration": 0,
    "start_time": "2023-04-19T18:13:29.071Z"
   },
   {
    "duration": 0,
    "start_time": "2023-04-19T18:13:29.073Z"
   },
   {
    "duration": 0,
    "start_time": "2023-04-19T18:13:29.075Z"
   },
   {
    "duration": 0,
    "start_time": "2023-04-19T18:13:29.089Z"
   },
   {
    "duration": 0,
    "start_time": "2023-04-19T18:13:29.090Z"
   },
   {
    "duration": 0,
    "start_time": "2023-04-19T18:13:29.091Z"
   },
   {
    "duration": 0,
    "start_time": "2023-04-19T18:13:29.093Z"
   },
   {
    "duration": 11157,
    "start_time": "2023-04-19T18:15:42.722Z"
   },
   {
    "duration": 10660,
    "start_time": "2023-04-19T18:19:29.137Z"
   },
   {
    "duration": 499,
    "start_time": "2023-04-19T18:19:57.501Z"
   },
   {
    "duration": 531,
    "start_time": "2023-04-19T18:26:04.885Z"
   },
   {
    "duration": 514,
    "start_time": "2023-04-19T18:30:23.822Z"
   },
   {
    "duration": 528,
    "start_time": "2023-04-19T18:34:33.911Z"
   },
   {
    "duration": 744,
    "start_time": "2023-04-19T18:35:02.854Z"
   },
   {
    "duration": 1881,
    "start_time": "2023-04-19T18:38:00.160Z"
   },
   {
    "duration": 887,
    "start_time": "2023-04-19T18:38:02.043Z"
   },
   {
    "duration": 14,
    "start_time": "2023-04-19T18:38:02.932Z"
   },
   {
    "duration": 44,
    "start_time": "2023-04-19T18:38:02.948Z"
   },
   {
    "duration": 313,
    "start_time": "2023-04-19T18:38:02.994Z"
   },
   {
    "duration": 6,
    "start_time": "2023-04-19T18:38:03.309Z"
   },
   {
    "duration": 4,
    "start_time": "2023-04-19T18:38:03.317Z"
   },
   {
    "duration": 8802,
    "start_time": "2023-04-19T18:38:03.323Z"
   },
   {
    "duration": 4,
    "start_time": "2023-04-19T18:38:12.127Z"
   },
   {
    "duration": 48,
    "start_time": "2023-04-19T18:38:12.134Z"
   },
   {
    "duration": 0,
    "start_time": "2023-04-19T18:38:12.183Z"
   },
   {
    "duration": 0,
    "start_time": "2023-04-19T18:38:12.185Z"
   },
   {
    "duration": 0,
    "start_time": "2023-04-19T18:38:12.187Z"
   },
   {
    "duration": 0,
    "start_time": "2023-04-19T18:38:12.188Z"
   },
   {
    "duration": 0,
    "start_time": "2023-04-19T18:38:12.189Z"
   },
   {
    "duration": 0,
    "start_time": "2023-04-19T18:38:12.191Z"
   },
   {
    "duration": 0,
    "start_time": "2023-04-19T18:38:12.193Z"
   },
   {
    "duration": 0,
    "start_time": "2023-04-19T18:38:12.195Z"
   },
   {
    "duration": 0,
    "start_time": "2023-04-19T18:38:12.197Z"
   },
   {
    "duration": 0,
    "start_time": "2023-04-19T18:38:12.198Z"
   },
   {
    "duration": 0,
    "start_time": "2023-04-19T18:38:12.199Z"
   },
   {
    "duration": 93536,
    "start_time": "2023-04-19T18:40:11.455Z"
   },
   {
    "duration": 5,
    "start_time": "2023-04-19T18:45:43.154Z"
   },
   {
    "duration": 95448,
    "start_time": "2023-04-19T18:49:53.516Z"
   },
   {
    "duration": 7,
    "start_time": "2023-04-19T18:51:34.452Z"
   },
   {
    "duration": 74,
    "start_time": "2023-04-19T18:53:54.007Z"
   },
   {
    "duration": 69,
    "start_time": "2023-04-19T18:53:56.006Z"
   },
   {
    "duration": 130,
    "start_time": "2023-04-19T18:53:58.524Z"
   },
   {
    "duration": 9,
    "start_time": "2023-04-19T18:55:38.701Z"
   },
   {
    "duration": 3,
    "start_time": "2023-04-19T18:56:22.691Z"
   },
   {
    "duration": 73239,
    "start_time": "2023-04-19T18:56:58.764Z"
   },
   {
    "duration": 6,
    "start_time": "2023-04-19T18:58:15.525Z"
   },
   {
    "duration": 1787,
    "start_time": "2023-04-19T18:58:20.693Z"
   },
   {
    "duration": 902,
    "start_time": "2023-04-19T18:58:22.482Z"
   },
   {
    "duration": 16,
    "start_time": "2023-04-19T18:58:23.386Z"
   },
   {
    "duration": 38,
    "start_time": "2023-04-19T18:58:23.405Z"
   },
   {
    "duration": 324,
    "start_time": "2023-04-19T18:58:23.447Z"
   },
   {
    "duration": 17,
    "start_time": "2023-04-19T18:58:23.773Z"
   },
   {
    "duration": 6,
    "start_time": "2023-04-19T18:58:23.792Z"
   },
   {
    "duration": 8924,
    "start_time": "2023-04-19T18:58:23.800Z"
   },
   {
    "duration": 4,
    "start_time": "2023-04-19T18:58:32.726Z"
   },
   {
    "duration": 144,
    "start_time": "2023-04-19T18:58:32.731Z"
   },
   {
    "duration": 0,
    "start_time": "2023-04-19T18:58:32.877Z"
   },
   {
    "duration": 0,
    "start_time": "2023-04-19T18:58:32.878Z"
   },
   {
    "duration": 0,
    "start_time": "2023-04-19T18:58:32.879Z"
   },
   {
    "duration": 0,
    "start_time": "2023-04-19T18:58:32.880Z"
   },
   {
    "duration": 0,
    "start_time": "2023-04-19T18:58:32.881Z"
   },
   {
    "duration": 0,
    "start_time": "2023-04-19T18:58:32.882Z"
   },
   {
    "duration": 0,
    "start_time": "2023-04-19T18:58:32.888Z"
   },
   {
    "duration": 1,
    "start_time": "2023-04-19T18:58:32.889Z"
   },
   {
    "duration": 0,
    "start_time": "2023-04-19T18:58:32.891Z"
   },
   {
    "duration": 0,
    "start_time": "2023-04-19T18:58:32.891Z"
   },
   {
    "duration": 0,
    "start_time": "2023-04-19T18:58:32.893Z"
   },
   {
    "duration": 16,
    "start_time": "2023-04-19T19:00:11.293Z"
   },
   {
    "duration": 17,
    "start_time": "2023-04-19T19:02:43.986Z"
   },
   {
    "duration": 167,
    "start_time": "2023-04-19T19:07:08.237Z"
   },
   {
    "duration": 8,
    "start_time": "2023-04-19T19:07:52.116Z"
   },
   {
    "duration": 142,
    "start_time": "2023-04-19T19:08:33.486Z"
   },
   {
    "duration": 6,
    "start_time": "2023-04-19T19:09:52.043Z"
   },
   {
    "duration": 166,
    "start_time": "2023-04-19T19:10:04.102Z"
   },
   {
    "duration": 137,
    "start_time": "2023-04-19T19:10:19.551Z"
   },
   {
    "duration": 114,
    "start_time": "2023-04-19T19:10:37.882Z"
   },
   {
    "duration": 21221,
    "start_time": "2023-04-19T19:10:39.872Z"
   },
   {
    "duration": 710,
    "start_time": "2023-04-19T19:11:34.096Z"
   },
   {
    "duration": 760,
    "start_time": "2023-04-19T19:11:50.837Z"
   },
   {
    "duration": 7,
    "start_time": "2023-04-19T19:11:57.591Z"
   },
   {
    "duration": 72,
    "start_time": "2023-04-19T19:14:34.226Z"
   },
   {
    "duration": 65,
    "start_time": "2023-04-19T19:14:36.191Z"
   },
   {
    "duration": 22,
    "start_time": "2023-04-19T19:15:38.884Z"
   },
   {
    "duration": 13,
    "start_time": "2023-04-19T19:15:48.703Z"
   },
   {
    "duration": 17,
    "start_time": "2023-04-19T19:15:53.130Z"
   },
   {
    "duration": 66,
    "start_time": "2023-04-19T19:16:43.104Z"
   },
   {
    "duration": 950,
    "start_time": "2023-04-19T19:17:08.880Z"
   },
   {
    "duration": 18,
    "start_time": "2023-04-19T19:17:34.515Z"
   },
   {
    "duration": 1662,
    "start_time": "2023-04-19T19:21:32.082Z"
   },
   {
    "duration": 898,
    "start_time": "2023-04-19T19:21:33.747Z"
   },
   {
    "duration": 18,
    "start_time": "2023-04-19T19:21:34.647Z"
   },
   {
    "duration": 54,
    "start_time": "2023-04-19T19:21:34.667Z"
   },
   {
    "duration": 331,
    "start_time": "2023-04-19T19:21:34.724Z"
   },
   {
    "duration": 9,
    "start_time": "2023-04-19T19:21:35.057Z"
   },
   {
    "duration": 23,
    "start_time": "2023-04-19T19:21:35.068Z"
   },
   {
    "duration": 8932,
    "start_time": "2023-04-19T19:21:35.093Z"
   },
   {
    "duration": 107,
    "start_time": "2023-04-19T19:21:44.027Z"
   },
   {
    "duration": 128,
    "start_time": "2023-04-19T19:21:44.136Z"
   },
   {
    "duration": 0,
    "start_time": "2023-04-19T19:21:44.266Z"
   },
   {
    "duration": 0,
    "start_time": "2023-04-19T19:21:44.267Z"
   },
   {
    "duration": 0,
    "start_time": "2023-04-19T19:21:44.268Z"
   },
   {
    "duration": 0,
    "start_time": "2023-04-19T19:21:44.269Z"
   },
   {
    "duration": 0,
    "start_time": "2023-04-19T19:21:44.270Z"
   },
   {
    "duration": 0,
    "start_time": "2023-04-19T19:21:44.271Z"
   },
   {
    "duration": 0,
    "start_time": "2023-04-19T19:21:44.273Z"
   },
   {
    "duration": 6564,
    "start_time": "2023-04-19T19:22:15.081Z"
   },
   {
    "duration": 736,
    "start_time": "2023-04-19T19:22:28.581Z"
   },
   {
    "duration": 6,
    "start_time": "2023-04-19T19:22:35.379Z"
   },
   {
    "duration": 11,
    "start_time": "2023-04-19T19:23:45.931Z"
   },
   {
    "duration": 67,
    "start_time": "2023-04-19T19:23:54.193Z"
   },
   {
    "duration": 6,
    "start_time": "2023-04-19T19:24:22.503Z"
   },
   {
    "duration": 6,
    "start_time": "2023-04-19T19:25:23.668Z"
   },
   {
    "duration": 16,
    "start_time": "2023-04-19T19:25:46.682Z"
   },
   {
    "duration": 1676,
    "start_time": "2023-04-19T19:25:51.796Z"
   },
   {
    "duration": 890,
    "start_time": "2023-04-19T19:25:53.474Z"
   },
   {
    "duration": 15,
    "start_time": "2023-04-19T19:25:54.365Z"
   },
   {
    "duration": 35,
    "start_time": "2023-04-19T19:25:54.390Z"
   },
   {
    "duration": 331,
    "start_time": "2023-04-19T19:25:54.426Z"
   },
   {
    "duration": 8,
    "start_time": "2023-04-19T19:25:54.759Z"
   },
   {
    "duration": 5,
    "start_time": "2023-04-19T19:25:54.788Z"
   },
   {
    "duration": 8902,
    "start_time": "2023-04-19T19:25:54.795Z"
   },
   {
    "duration": 137,
    "start_time": "2023-04-19T19:26:03.699Z"
   },
   {
    "duration": 0,
    "start_time": "2023-04-19T19:26:03.838Z"
   },
   {
    "duration": 0,
    "start_time": "2023-04-19T19:26:03.839Z"
   },
   {
    "duration": 0,
    "start_time": "2023-04-19T19:26:03.840Z"
   },
   {
    "duration": 0,
    "start_time": "2023-04-19T19:26:03.841Z"
   },
   {
    "duration": 0,
    "start_time": "2023-04-19T19:26:03.843Z"
   },
   {
    "duration": 0,
    "start_time": "2023-04-19T19:26:03.844Z"
   },
   {
    "duration": 0,
    "start_time": "2023-04-19T19:26:03.845Z"
   },
   {
    "duration": 0,
    "start_time": "2023-04-19T19:26:03.846Z"
   },
   {
    "duration": 0,
    "start_time": "2023-04-19T19:26:03.847Z"
   },
   {
    "duration": 5,
    "start_time": "2023-04-19T19:46:33.744Z"
   },
   {
    "duration": 6518,
    "start_time": "2023-04-19T19:46:36.689Z"
   },
   {
    "duration": 6,
    "start_time": "2023-04-19T19:46:52.413Z"
   },
   {
    "duration": 59,
    "start_time": "2023-04-19T19:46:59.960Z"
   },
   {
    "duration": 13,
    "start_time": "2023-04-19T19:50:15.515Z"
   },
   {
    "duration": 11,
    "start_time": "2023-04-19T19:55:59.347Z"
   },
   {
    "duration": 717,
    "start_time": "2023-04-19T19:57:41.850Z"
   },
   {
    "duration": 13,
    "start_time": "2023-04-19T19:58:19.242Z"
   },
   {
    "duration": 16,
    "start_time": "2023-04-19T19:58:41.660Z"
   },
   {
    "duration": 371,
    "start_time": "2023-04-19T19:59:12.791Z"
   },
   {
    "duration": 40,
    "start_time": "2023-04-19T19:59:25.739Z"
   },
   {
    "duration": 11,
    "start_time": "2023-04-19T20:04:02.755Z"
   },
   {
    "duration": 12,
    "start_time": "2023-04-19T20:04:34.564Z"
   },
   {
    "duration": 7,
    "start_time": "2023-04-19T20:04:40.106Z"
   },
   {
    "duration": 17,
    "start_time": "2023-04-19T20:05:39.406Z"
   },
   {
    "duration": 17,
    "start_time": "2023-04-19T20:05:55.644Z"
   },
   {
    "duration": 19,
    "start_time": "2023-04-19T20:06:00.860Z"
   },
   {
    "duration": 16,
    "start_time": "2023-04-19T20:06:32.453Z"
   },
   {
    "duration": 1754,
    "start_time": "2023-04-19T20:07:43.522Z"
   },
   {
    "duration": 921,
    "start_time": "2023-04-19T20:07:45.278Z"
   },
   {
    "duration": 14,
    "start_time": "2023-04-19T20:07:46.201Z"
   },
   {
    "duration": 32,
    "start_time": "2023-04-19T20:07:46.217Z"
   },
   {
    "duration": 342,
    "start_time": "2023-04-19T20:07:46.252Z"
   },
   {
    "duration": 8,
    "start_time": "2023-04-19T20:07:46.597Z"
   },
   {
    "duration": 7,
    "start_time": "2023-04-19T20:07:46.607Z"
   },
   {
    "duration": 9223,
    "start_time": "2023-04-19T20:07:46.616Z"
   },
   {
    "duration": 5,
    "start_time": "2023-04-19T20:07:55.841Z"
   },
   {
    "duration": 6691,
    "start_time": "2023-04-19T20:07:55.847Z"
   },
   {
    "duration": 6,
    "start_time": "2023-04-19T20:08:02.540Z"
   },
   {
    "duration": 82,
    "start_time": "2023-04-19T20:08:02.547Z"
   },
   {
    "duration": 7,
    "start_time": "2023-04-19T20:08:02.631Z"
   },
   {
    "duration": 151,
    "start_time": "2023-04-19T20:08:02.642Z"
   },
   {
    "duration": 0,
    "start_time": "2023-04-19T20:08:02.795Z"
   },
   {
    "duration": 0,
    "start_time": "2023-04-19T20:08:02.797Z"
   },
   {
    "duration": 0,
    "start_time": "2023-04-19T20:08:02.799Z"
   },
   {
    "duration": 0,
    "start_time": "2023-04-19T20:08:02.801Z"
   },
   {
    "duration": 1649,
    "start_time": "2023-04-19T20:08:53.999Z"
   },
   {
    "duration": 904,
    "start_time": "2023-04-19T20:08:55.651Z"
   },
   {
    "duration": 16,
    "start_time": "2023-04-19T20:08:56.557Z"
   },
   {
    "duration": 43,
    "start_time": "2023-04-19T20:08:56.575Z"
   },
   {
    "duration": 352,
    "start_time": "2023-04-19T20:08:56.621Z"
   },
   {
    "duration": 16,
    "start_time": "2023-04-19T20:08:56.975Z"
   },
   {
    "duration": 11,
    "start_time": "2023-04-19T20:08:56.993Z"
   },
   {
    "duration": 9079,
    "start_time": "2023-04-19T20:08:57.006Z"
   },
   {
    "duration": 4,
    "start_time": "2023-04-19T20:09:06.087Z"
   },
   {
    "duration": 6400,
    "start_time": "2023-04-19T20:09:06.093Z"
   },
   {
    "duration": 6,
    "start_time": "2023-04-19T20:09:12.495Z"
   },
   {
    "duration": 61,
    "start_time": "2023-04-19T20:09:12.503Z"
   },
   {
    "duration": 3,
    "start_time": "2023-04-19T20:09:12.566Z"
   },
   {
    "duration": 143,
    "start_time": "2023-04-19T20:09:12.588Z"
   },
   {
    "duration": 0,
    "start_time": "2023-04-19T20:09:12.733Z"
   },
   {
    "duration": 0,
    "start_time": "2023-04-19T20:09:12.735Z"
   },
   {
    "duration": 0,
    "start_time": "2023-04-19T20:09:12.736Z"
   },
   {
    "duration": 0,
    "start_time": "2023-04-19T20:09:12.737Z"
   },
   {
    "duration": 50,
    "start_time": "2023-04-19T20:10:38.779Z"
   },
   {
    "duration": 17,
    "start_time": "2023-04-19T20:15:22.983Z"
   },
   {
    "duration": 13,
    "start_time": "2023-04-19T20:25:21.824Z"
   },
   {
    "duration": 16,
    "start_time": "2023-04-19T20:25:52.522Z"
   },
   {
    "duration": 70,
    "start_time": "2023-04-19T20:26:01.183Z"
   },
   {
    "duration": 1829,
    "start_time": "2023-04-19T20:26:09.660Z"
   },
   {
    "duration": 958,
    "start_time": "2023-04-19T20:26:11.493Z"
   },
   {
    "duration": 16,
    "start_time": "2023-04-19T20:26:12.453Z"
   },
   {
    "duration": 49,
    "start_time": "2023-04-19T20:26:12.471Z"
   },
   {
    "duration": 332,
    "start_time": "2023-04-19T20:26:12.522Z"
   },
   {
    "duration": 6,
    "start_time": "2023-04-19T20:26:12.856Z"
   },
   {
    "duration": 4,
    "start_time": "2023-04-19T20:26:12.864Z"
   },
   {
    "duration": 214,
    "start_time": "2023-04-19T20:26:12.869Z"
   },
   {
    "duration": 0,
    "start_time": "2023-04-19T20:26:13.089Z"
   },
   {
    "duration": 0,
    "start_time": "2023-04-19T20:26:13.091Z"
   },
   {
    "duration": 0,
    "start_time": "2023-04-19T20:26:13.092Z"
   },
   {
    "duration": 0,
    "start_time": "2023-04-19T20:26:13.093Z"
   },
   {
    "duration": 0,
    "start_time": "2023-04-19T20:26:13.095Z"
   },
   {
    "duration": 0,
    "start_time": "2023-04-19T20:26:13.097Z"
   },
   {
    "duration": 0,
    "start_time": "2023-04-19T20:26:13.099Z"
   },
   {
    "duration": 0,
    "start_time": "2023-04-19T20:26:13.100Z"
   },
   {
    "duration": 0,
    "start_time": "2023-04-19T20:26:13.103Z"
   },
   {
    "duration": 1751,
    "start_time": "2023-04-19T20:27:06.913Z"
   },
   {
    "duration": 1956,
    "start_time": "2023-04-19T20:27:08.666Z"
   },
   {
    "duration": 74,
    "start_time": "2023-04-19T20:27:10.624Z"
   },
   {
    "duration": 36,
    "start_time": "2023-04-19T20:27:10.700Z"
   },
   {
    "duration": 375,
    "start_time": "2023-04-19T20:27:10.739Z"
   },
   {
    "duration": 7,
    "start_time": "2023-04-19T20:27:11.115Z"
   },
   {
    "duration": 12,
    "start_time": "2023-04-19T20:27:11.123Z"
   },
   {
    "duration": 9627,
    "start_time": "2023-04-19T20:27:11.137Z"
   },
   {
    "duration": 5,
    "start_time": "2023-04-19T20:27:20.765Z"
   },
   {
    "duration": 196,
    "start_time": "2023-04-19T20:27:20.772Z"
   },
   {
    "duration": 0,
    "start_time": "2023-04-19T20:27:20.971Z"
   },
   {
    "duration": 0,
    "start_time": "2023-04-19T20:27:20.972Z"
   },
   {
    "duration": 0,
    "start_time": "2023-04-19T20:27:20.973Z"
   },
   {
    "duration": 0,
    "start_time": "2023-04-19T20:27:20.975Z"
   },
   {
    "duration": 0,
    "start_time": "2023-04-19T20:27:20.976Z"
   },
   {
    "duration": 0,
    "start_time": "2023-04-19T20:27:20.990Z"
   },
   {
    "duration": 1,
    "start_time": "2023-04-19T20:27:20.991Z"
   },
   {
    "duration": 0,
    "start_time": "2023-04-19T20:27:20.993Z"
   },
   {
    "duration": 0,
    "start_time": "2023-04-19T20:27:20.994Z"
   },
   {
    "duration": 103268,
    "start_time": "2023-04-19T20:27:47.604Z"
   },
   {
    "duration": 6,
    "start_time": "2023-04-19T20:29:44.651Z"
   },
   {
    "duration": 120,
    "start_time": "2023-04-19T20:33:55.634Z"
   },
   {
    "duration": 17,
    "start_time": "2023-04-19T20:33:58.226Z"
   },
   {
    "duration": 3,
    "start_time": "2023-04-19T20:36:17.004Z"
   },
   {
    "duration": 54,
    "start_time": "2023-04-19T20:36:20.020Z"
   },
   {
    "duration": 1608,
    "start_time": "2023-04-19T20:36:43.386Z"
   },
   {
    "duration": 56,
    "start_time": "2023-04-19T20:37:26.083Z"
   },
   {
    "duration": 1682,
    "start_time": "2023-04-19T20:47:09.517Z"
   },
   {
    "duration": 1602,
    "start_time": "2023-04-19T20:47:11.202Z"
   },
   {
    "duration": 19,
    "start_time": "2023-04-19T20:47:12.806Z"
   },
   {
    "duration": 92,
    "start_time": "2023-04-19T20:47:12.828Z"
   },
   {
    "duration": 6,
    "start_time": "2023-04-19T20:47:12.923Z"
   },
   {
    "duration": 59,
    "start_time": "2023-04-19T20:47:12.930Z"
   },
   {
    "duration": 8892,
    "start_time": "2023-04-19T20:47:12.991Z"
   },
   {
    "duration": 4,
    "start_time": "2023-04-19T20:47:21.885Z"
   },
   {
    "duration": 166,
    "start_time": "2023-04-19T20:47:21.891Z"
   },
   {
    "duration": 0,
    "start_time": "2023-04-19T20:47:22.059Z"
   },
   {
    "duration": 0,
    "start_time": "2023-04-19T20:47:22.060Z"
   },
   {
    "duration": 0,
    "start_time": "2023-04-19T20:47:22.062Z"
   },
   {
    "duration": 0,
    "start_time": "2023-04-19T20:47:22.063Z"
   },
   {
    "duration": 0,
    "start_time": "2023-04-19T20:47:22.064Z"
   },
   {
    "duration": 0,
    "start_time": "2023-04-19T20:47:22.065Z"
   },
   {
    "duration": 0,
    "start_time": "2023-04-19T20:47:22.067Z"
   },
   {
    "duration": 0,
    "start_time": "2023-04-19T20:47:22.067Z"
   },
   {
    "duration": 0,
    "start_time": "2023-04-19T20:47:22.069Z"
   },
   {
    "duration": 0,
    "start_time": "2023-04-19T20:47:22.070Z"
   },
   {
    "duration": 14,
    "start_time": "2023-04-19T20:47:39.246Z"
   },
   {
    "duration": 712,
    "start_time": "2023-04-19T20:47:50.006Z"
   },
   {
    "duration": 1686,
    "start_time": "2023-04-19T20:49:34.319Z"
   },
   {
    "duration": 1632,
    "start_time": "2023-04-19T20:49:36.008Z"
   },
   {
    "duration": 17,
    "start_time": "2023-04-19T20:49:37.690Z"
   },
   {
    "duration": 101,
    "start_time": "2023-04-19T20:49:37.709Z"
   },
   {
    "duration": 7,
    "start_time": "2023-04-19T20:49:37.813Z"
   },
   {
    "duration": 2374,
    "start_time": "2023-04-19T20:49:37.821Z"
   },
   {
    "duration": 9,
    "start_time": "2023-04-19T20:49:40.197Z"
   },
   {
    "duration": 8633,
    "start_time": "2023-04-19T20:49:40.207Z"
   },
   {
    "duration": 4,
    "start_time": "2023-04-19T20:49:48.842Z"
   },
   {
    "duration": 44767,
    "start_time": "2023-04-19T20:49:48.847Z"
   },
   {
    "duration": 880,
    "start_time": "2023-04-19T20:50:33.615Z"
   },
   {
    "duration": 0,
    "start_time": "2023-04-19T20:50:34.498Z"
   },
   {
    "duration": 0,
    "start_time": "2023-04-19T20:50:34.499Z"
   },
   {
    "duration": 0,
    "start_time": "2023-04-19T20:50:34.500Z"
   },
   {
    "duration": 0,
    "start_time": "2023-04-19T20:50:34.502Z"
   },
   {
    "duration": 0,
    "start_time": "2023-04-19T20:50:34.503Z"
   },
   {
    "duration": 0,
    "start_time": "2023-04-19T20:50:34.504Z"
   },
   {
    "duration": 0,
    "start_time": "2023-04-19T20:50:34.505Z"
   },
   {
    "duration": 0,
    "start_time": "2023-04-19T20:50:34.506Z"
   },
   {
    "duration": 0,
    "start_time": "2023-04-19T20:50:34.508Z"
   },
   {
    "duration": 749,
    "start_time": "2023-04-19T20:51:14.712Z"
   },
   {
    "duration": 111,
    "start_time": "2023-04-19T20:53:30.640Z"
   },
   {
    "duration": 14,
    "start_time": "2023-04-19T20:54:00.679Z"
   },
   {
    "duration": 7746,
    "start_time": "2023-04-19T20:54:38.336Z"
   },
   {
    "duration": 4,
    "start_time": "2023-04-19T20:55:08.305Z"
   },
   {
    "duration": 136753,
    "start_time": "2023-04-19T20:57:24.009Z"
   },
   {
    "duration": 10,
    "start_time": "2023-04-19T21:03:31.373Z"
   },
   {
    "duration": 175793,
    "start_time": "2023-04-19T21:03:44.722Z"
   },
   {
    "duration": 51,
    "start_time": "2023-04-19T21:08:18.018Z"
   },
   {
    "duration": 26658,
    "start_time": "2023-04-19T21:08:50.564Z"
   },
   {
    "duration": 26,
    "start_time": "2023-04-19T21:10:48.814Z"
   },
   {
    "duration": 20,
    "start_time": "2023-04-19T21:10:59.634Z"
   },
   {
    "duration": 46,
    "start_time": "2023-04-19T21:13:16.718Z"
   },
   {
    "duration": 209589,
    "start_time": "2023-04-19T21:14:47.976Z"
   },
   {
    "duration": 5,
    "start_time": "2023-04-19T21:18:51.400Z"
   },
   {
    "duration": 772,
    "start_time": "2023-04-19T21:19:10.734Z"
   },
   {
    "duration": 1098,
    "start_time": "2023-04-19T21:19:28.808Z"
   },
   {
    "duration": 241,
    "start_time": "2023-04-19T21:19:31.662Z"
   },
   {
    "duration": 11,
    "start_time": "2023-04-19T21:19:35.021Z"
   },
   {
    "duration": 11,
    "start_time": "2023-04-19T21:20:33.819Z"
   },
   {
    "duration": 1841,
    "start_time": "2023-04-19T21:22:10.261Z"
   },
   {
    "duration": 967,
    "start_time": "2023-04-19T21:22:12.105Z"
   },
   {
    "duration": 21,
    "start_time": "2023-04-19T21:22:13.073Z"
   },
   {
    "duration": 40,
    "start_time": "2023-04-19T21:22:13.096Z"
   },
   {
    "duration": 8,
    "start_time": "2023-04-19T21:22:13.139Z"
   },
   {
    "duration": 2152,
    "start_time": "2023-04-19T21:22:13.149Z"
   },
   {
    "duration": 12,
    "start_time": "2023-04-19T21:22:15.303Z"
   },
   {
    "duration": 9350,
    "start_time": "2023-04-19T21:22:15.317Z"
   },
   {
    "duration": 5,
    "start_time": "2023-04-19T21:22:24.669Z"
   },
   {
    "duration": 52387,
    "start_time": "2023-04-19T21:22:24.676Z"
   },
   {
    "duration": 903,
    "start_time": "2023-04-19T21:23:17.066Z"
   },
   {
    "duration": 100,
    "start_time": "2023-04-19T21:23:17.971Z"
   },
   {
    "duration": 8139,
    "start_time": "2023-04-19T21:23:18.074Z"
   },
   {
    "duration": 4,
    "start_time": "2023-04-19T21:23:26.216Z"
   },
   {
    "duration": 173388,
    "start_time": "2023-04-19T21:23:26.222Z"
   },
   {
    "duration": 52,
    "start_time": "2023-04-19T21:26:19.612Z"
   },
   {
    "duration": 24351,
    "start_time": "2023-04-19T21:26:19.666Z"
   },
   {
    "duration": 21,
    "start_time": "2023-04-19T21:26:44.019Z"
   },
   {
    "duration": 207567,
    "start_time": "2023-04-19T21:26:44.042Z"
   },
   {
    "duration": 801,
    "start_time": "2023-04-19T21:30:11.610Z"
   },
   {
    "duration": 1108,
    "start_time": "2023-04-19T21:30:12.413Z"
   },
   {
    "duration": 244,
    "start_time": "2023-04-19T21:30:13.524Z"
   },
   {
    "duration": 19,
    "start_time": "2023-04-19T21:30:13.771Z"
   },
   {
    "duration": 1860,
    "start_time": "2023-04-20T15:50:47.218Z"
   },
   {
    "duration": 4126,
    "start_time": "2023-04-20T15:50:49.080Z"
   },
   {
    "duration": 17,
    "start_time": "2023-04-20T15:50:53.208Z"
   },
   {
    "duration": 46,
    "start_time": "2023-04-20T15:50:53.227Z"
   },
   {
    "duration": 8,
    "start_time": "2023-04-20T15:50:53.275Z"
   },
   {
    "duration": 3,
    "start_time": "2023-04-20T15:50:53.285Z"
   },
   {
    "duration": 5,
    "start_time": "2023-04-20T15:50:53.290Z"
   },
   {
    "duration": 9393,
    "start_time": "2023-04-20T15:50:53.297Z"
   },
   {
    "duration": 5,
    "start_time": "2023-04-20T15:51:02.691Z"
   },
   {
    "duration": 189,
    "start_time": "2023-04-20T15:51:02.699Z"
   },
   {
    "duration": 0,
    "start_time": "2023-04-20T15:51:02.890Z"
   },
   {
    "duration": 0,
    "start_time": "2023-04-20T15:51:02.891Z"
   },
   {
    "duration": 0,
    "start_time": "2023-04-20T15:51:02.892Z"
   },
   {
    "duration": 0,
    "start_time": "2023-04-20T15:51:02.893Z"
   },
   {
    "duration": 0,
    "start_time": "2023-04-20T15:51:02.897Z"
   },
   {
    "duration": 0,
    "start_time": "2023-04-20T15:51:02.898Z"
   },
   {
    "duration": 0,
    "start_time": "2023-04-20T15:51:02.899Z"
   },
   {
    "duration": 1,
    "start_time": "2023-04-20T15:51:02.900Z"
   },
   {
    "duration": 0,
    "start_time": "2023-04-20T15:51:02.902Z"
   },
   {
    "duration": 0,
    "start_time": "2023-04-20T15:51:02.903Z"
   },
   {
    "duration": 0,
    "start_time": "2023-04-20T15:51:02.905Z"
   },
   {
    "duration": 0,
    "start_time": "2023-04-20T15:51:02.906Z"
   },
   {
    "duration": 0,
    "start_time": "2023-04-20T15:51:02.908Z"
   },
   {
    "duration": 1664,
    "start_time": "2023-04-20T15:53:42.626Z"
   },
   {
    "duration": 1094,
    "start_time": "2023-04-20T15:53:44.292Z"
   },
   {
    "duration": 24,
    "start_time": "2023-04-20T15:53:45.387Z"
   },
   {
    "duration": 92,
    "start_time": "2023-04-20T15:53:45.414Z"
   },
   {
    "duration": 6,
    "start_time": "2023-04-20T15:53:45.508Z"
   },
   {
    "duration": 5,
    "start_time": "2023-04-20T15:53:45.567Z"
   },
   {
    "duration": 12,
    "start_time": "2023-04-20T15:53:45.574Z"
   },
   {
    "duration": 10134,
    "start_time": "2023-04-20T15:53:45.588Z"
   },
   {
    "duration": 4,
    "start_time": "2023-04-20T15:53:55.724Z"
   },
   {
    "duration": 194,
    "start_time": "2023-04-20T15:53:55.731Z"
   },
   {
    "duration": 0,
    "start_time": "2023-04-20T15:53:55.927Z"
   },
   {
    "duration": 0,
    "start_time": "2023-04-20T15:53:55.928Z"
   },
   {
    "duration": 0,
    "start_time": "2023-04-20T15:53:55.930Z"
   },
   {
    "duration": 0,
    "start_time": "2023-04-20T15:53:55.931Z"
   },
   {
    "duration": 0,
    "start_time": "2023-04-20T15:53:55.932Z"
   },
   {
    "duration": 0,
    "start_time": "2023-04-20T15:53:55.933Z"
   },
   {
    "duration": 0,
    "start_time": "2023-04-20T15:53:55.934Z"
   },
   {
    "duration": 0,
    "start_time": "2023-04-20T15:53:55.935Z"
   },
   {
    "duration": 0,
    "start_time": "2023-04-20T15:53:55.936Z"
   },
   {
    "duration": 0,
    "start_time": "2023-04-20T15:53:55.937Z"
   },
   {
    "duration": 0,
    "start_time": "2023-04-20T15:53:55.967Z"
   },
   {
    "duration": 0,
    "start_time": "2023-04-20T15:53:55.967Z"
   },
   {
    "duration": 0,
    "start_time": "2023-04-20T15:53:55.968Z"
   },
   {
    "duration": 324,
    "start_time": "2023-04-20T15:54:33.261Z"
   },
   {
    "duration": 131,
    "start_time": "2023-04-20T15:54:36.388Z"
   },
   {
    "duration": 1510,
    "start_time": "2023-04-20T15:56:01.460Z"
   },
   {
    "duration": 1417,
    "start_time": "2023-04-20T15:56:02.972Z"
   },
   {
    "duration": 73,
    "start_time": "2023-04-20T15:56:04.394Z"
   },
   {
    "duration": 33,
    "start_time": "2023-04-20T15:56:04.474Z"
   },
   {
    "duration": 57,
    "start_time": "2023-04-20T15:56:04.509Z"
   },
   {
    "duration": 3,
    "start_time": "2023-04-20T15:56:04.568Z"
   },
   {
    "duration": 9,
    "start_time": "2023-04-20T15:56:04.573Z"
   },
   {
    "duration": 9469,
    "start_time": "2023-04-20T15:56:04.584Z"
   },
   {
    "duration": 9,
    "start_time": "2023-04-20T15:56:14.056Z"
   },
   {
    "duration": 173,
    "start_time": "2023-04-20T15:56:14.077Z"
   },
   {
    "duration": 72,
    "start_time": "2023-04-20T15:56:14.252Z"
   },
   {
    "duration": 71,
    "start_time": "2023-04-20T15:56:14.326Z"
   },
   {
    "duration": 7215,
    "start_time": "2023-04-20T15:56:14.399Z"
   },
   {
    "duration": 4,
    "start_time": "2023-04-20T15:56:21.616Z"
   },
   {
    "duration": 167665,
    "start_time": "2023-04-20T15:56:21.621Z"
   },
   {
    "duration": 45,
    "start_time": "2023-04-20T15:59:09.288Z"
   },
   {
    "duration": 24049,
    "start_time": "2023-04-20T15:59:09.335Z"
   },
   {
    "duration": 20,
    "start_time": "2023-04-20T15:59:33.385Z"
   },
   {
    "duration": 241786,
    "start_time": "2023-04-20T15:59:33.406Z"
   },
   {
    "duration": 820,
    "start_time": "2023-04-20T16:03:35.194Z"
   },
   {
    "duration": 1102,
    "start_time": "2023-04-20T16:03:36.016Z"
   },
   {
    "duration": 261,
    "start_time": "2023-04-20T16:03:37.120Z"
   },
   {
    "duration": 14,
    "start_time": "2023-04-20T16:03:37.384Z"
   },
   {
    "duration": 482,
    "start_time": "2023-04-20T16:03:37.403Z"
   },
   {
    "duration": 8,
    "start_time": "2023-04-20T16:05:35.126Z"
   },
   {
    "duration": 1793,
    "start_time": "2023-04-20T16:05:38.711Z"
   },
   {
    "duration": 1006,
    "start_time": "2023-04-20T16:05:40.507Z"
   },
   {
    "duration": 14,
    "start_time": "2023-04-20T16:05:41.515Z"
   },
   {
    "duration": 49,
    "start_time": "2023-04-20T16:05:41.531Z"
   },
   {
    "duration": 7,
    "start_time": "2023-04-20T16:05:41.590Z"
   },
   {
    "duration": 3,
    "start_time": "2023-04-20T16:05:41.599Z"
   },
   {
    "duration": 4,
    "start_time": "2023-04-20T16:05:41.605Z"
   },
   {
    "duration": 9170,
    "start_time": "2023-04-20T16:05:41.611Z"
   },
   {
    "duration": 8,
    "start_time": "2023-04-20T16:05:50.788Z"
   },
   {
    "duration": 1225531,
    "start_time": "2023-04-20T16:05:50.799Z"
   },
   {
    "duration": 75,
    "start_time": "2023-04-20T16:26:16.332Z"
   },
   {
    "duration": 72,
    "start_time": "2023-04-20T16:26:16.409Z"
   },
   {
    "duration": 7826,
    "start_time": "2023-04-20T16:26:16.483Z"
   },
   {
    "duration": 4,
    "start_time": "2023-04-20T16:26:24.310Z"
   },
   {
    "duration": 170884,
    "start_time": "2023-04-20T16:26:24.315Z"
   },
   {
    "duration": 44,
    "start_time": "2023-04-20T16:29:15.201Z"
   },
   {
    "duration": 23748,
    "start_time": "2023-04-20T16:29:15.247Z"
   },
   {
    "duration": 19,
    "start_time": "2023-04-20T16:29:38.996Z"
   },
   {
    "duration": 236369,
    "start_time": "2023-04-20T16:29:39.017Z"
   },
   {
    "duration": 766,
    "start_time": "2023-04-20T16:33:35.387Z"
   },
   {
    "duration": 1077,
    "start_time": "2023-04-20T16:33:36.154Z"
   },
   {
    "duration": 256,
    "start_time": "2023-04-20T16:33:37.232Z"
   },
   {
    "duration": 10,
    "start_time": "2023-04-20T16:33:37.490Z"
   }
  ],
  "kernelspec": {
   "display_name": "Python 3 (ipykernel)",
   "language": "python",
   "name": "python3"
  },
  "language_info": {
   "codemirror_mode": {
    "name": "ipython",
    "version": 3
   },
   "file_extension": ".py",
   "mimetype": "text/x-python",
   "name": "python",
   "nbconvert_exporter": "python",
   "pygments_lexer": "ipython3",
   "version": "3.9.5"
  },
  "toc": {
   "base_numbering": 1,
   "nav_menu": {},
   "number_sections": true,
   "sideBar": true,
   "skip_h1_title": true,
   "title_cell": "Содержание",
   "title_sidebar": "Contents",
   "toc_cell": true,
   "toc_position": {
    "height": "calc(100% - 180px)",
    "left": "10px",
    "top": "150px",
    "width": "302.391px"
   },
   "toc_section_display": true,
   "toc_window_display": true
  }
 },
 "nbformat": 4,
 "nbformat_minor": 2
}
