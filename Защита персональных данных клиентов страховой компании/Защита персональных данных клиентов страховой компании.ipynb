{
 "cells": [
  {
   "cell_type": "markdown",
   "metadata": {
    "toc": true
   },
   "source": [
    "<h1>Содержание<span class=\"tocSkip\"></span></h1>\n",
    "<div class=\"toc\"><ul class=\"toc-item\"><li><span><a href=\"#Загрузка-данных\" data-toc-modified-id=\"Загрузка-данных-1\"><span class=\"toc-item-num\">1&nbsp;&nbsp;</span>Загрузка данных</a></span></li><li><span><a href=\"#Умножение-матриц\" data-toc-modified-id=\"Умножение-матриц-2\"><span class=\"toc-item-num\">2&nbsp;&nbsp;</span>Умножение матриц</a></span></li><li><span><a href=\"#Алгоритм-преобразования\" data-toc-modified-id=\"Алгоритм-преобразования-3\"><span class=\"toc-item-num\">3&nbsp;&nbsp;</span>Алгоритм преобразования</a></span></li><li><span><a href=\"#Проверка-алгоритма\" data-toc-modified-id=\"Проверка-алгоритма-4\"><span class=\"toc-item-num\">4&nbsp;&nbsp;</span>Проверка алгоритма</a></span></li><li><span><a href=\"#Чек-лист-проверки\" data-toc-modified-id=\"Чек-лист-проверки-5\"><span class=\"toc-item-num\">5&nbsp;&nbsp;</span>Чек-лист проверки</a></span></li></ul></div>"
   ]
  },
  {
   "cell_type": "markdown",
   "metadata": {},
   "source": [
    "# Защита персональных данных клиентов"
   ]
  },
  {
   "cell_type": "markdown",
   "metadata": {},
   "source": [
    "Вам нужно защитить данные клиентов страховой компании «Хоть потоп». Разработайте такой метод преобразования данных, чтобы по ним было сложно восстановить персональную информацию. Обоснуйте корректность его работы.\n",
    "\n",
    "Нужно защитить данные, чтобы при преобразовании качество моделей машинного обучения не ухудшилось. Подбирать наилучшую модель не требуется."
   ]
  },
  {
   "cell_type": "markdown",
   "metadata": {},
   "source": [
    "## Загрузка данных"
   ]
  },
  {
   "cell_type": "code",
   "execution_count": 1,
   "metadata": {},
   "outputs": [],
   "source": [
    "import pandas as pd\n",
    "import numpy as np\n",
    "import scipy as sp\n",
    "from sklearn.model_selection import train_test_split\n",
    "from sklearn.metrics import r2_score\n",
    "from sklearn.linear_model import LinearRegression\n",
    "from numpy import linalg as LA"
   ]
  },
  {
   "cell_type": "code",
   "execution_count": 2,
   "metadata": {},
   "outputs": [],
   "source": [
    "data = pd.read_csv('/datasets/insurance.csv')"
   ]
  },
  {
   "cell_type": "code",
   "execution_count": 3,
   "metadata": {},
   "outputs": [
    {
     "data": {
      "text/html": [
       "<div>\n",
       "<style scoped>\n",
       "    .dataframe tbody tr th:only-of-type {\n",
       "        vertical-align: middle;\n",
       "    }\n",
       "\n",
       "    .dataframe tbody tr th {\n",
       "        vertical-align: top;\n",
       "    }\n",
       "\n",
       "    .dataframe thead th {\n",
       "        text-align: right;\n",
       "    }\n",
       "</style>\n",
       "<table border=\"1\" class=\"dataframe\">\n",
       "  <thead>\n",
       "    <tr style=\"text-align: right;\">\n",
       "      <th></th>\n",
       "      <th>Пол</th>\n",
       "      <th>Возраст</th>\n",
       "      <th>Зарплата</th>\n",
       "      <th>Члены семьи</th>\n",
       "      <th>Страховые выплаты</th>\n",
       "    </tr>\n",
       "  </thead>\n",
       "  <tbody>\n",
       "    <tr>\n",
       "      <th>0</th>\n",
       "      <td>1</td>\n",
       "      <td>41.0</td>\n",
       "      <td>49600.0</td>\n",
       "      <td>1</td>\n",
       "      <td>0</td>\n",
       "    </tr>\n",
       "    <tr>\n",
       "      <th>1</th>\n",
       "      <td>0</td>\n",
       "      <td>46.0</td>\n",
       "      <td>38000.0</td>\n",
       "      <td>1</td>\n",
       "      <td>1</td>\n",
       "    </tr>\n",
       "    <tr>\n",
       "      <th>2</th>\n",
       "      <td>0</td>\n",
       "      <td>29.0</td>\n",
       "      <td>21000.0</td>\n",
       "      <td>0</td>\n",
       "      <td>0</td>\n",
       "    </tr>\n",
       "    <tr>\n",
       "      <th>3</th>\n",
       "      <td>0</td>\n",
       "      <td>21.0</td>\n",
       "      <td>41700.0</td>\n",
       "      <td>2</td>\n",
       "      <td>0</td>\n",
       "    </tr>\n",
       "    <tr>\n",
       "      <th>4</th>\n",
       "      <td>1</td>\n",
       "      <td>28.0</td>\n",
       "      <td>26100.0</td>\n",
       "      <td>0</td>\n",
       "      <td>0</td>\n",
       "    </tr>\n",
       "  </tbody>\n",
       "</table>\n",
       "</div>"
      ],
      "text/plain": [
       "   Пол  Возраст  Зарплата  Члены семьи  Страховые выплаты\n",
       "0    1     41.0   49600.0            1                  0\n",
       "1    0     46.0   38000.0            1                  1\n",
       "2    0     29.0   21000.0            0                  0\n",
       "3    0     21.0   41700.0            2                  0\n",
       "4    1     28.0   26100.0            0                  0"
      ]
     },
     "execution_count": 3,
     "metadata": {},
     "output_type": "execute_result"
    }
   ],
   "source": [
    "data.head()"
   ]
  },
  {
   "cell_type": "code",
   "execution_count": 4,
   "metadata": {},
   "outputs": [
    {
     "name": "stdout",
     "output_type": "stream",
     "text": [
      "<class 'pandas.core.frame.DataFrame'>\n",
      "RangeIndex: 5000 entries, 0 to 4999\n",
      "Data columns (total 5 columns):\n",
      " #   Column             Non-Null Count  Dtype  \n",
      "---  ------             --------------  -----  \n",
      " 0   Пол                5000 non-null   int64  \n",
      " 1   Возраст            5000 non-null   float64\n",
      " 2   Зарплата           5000 non-null   float64\n",
      " 3   Члены семьи        5000 non-null   int64  \n",
      " 4   Страховые выплаты  5000 non-null   int64  \n",
      "dtypes: float64(2), int64(3)\n",
      "memory usage: 195.4 KB\n"
     ]
    }
   ],
   "source": [
    "data.info()"
   ]
  },
  {
   "cell_type": "code",
   "execution_count": 5,
   "metadata": {},
   "outputs": [
    {
     "data": {
      "text/plain": [
       "153"
      ]
     },
     "execution_count": 5,
     "metadata": {},
     "output_type": "execute_result"
    }
   ],
   "source": [
    "#Проверим данные на наличие дубликатов\n",
    "data.duplicated().sum()"
   ]
  },
  {
   "cell_type": "code",
   "execution_count": 6,
   "metadata": {},
   "outputs": [
    {
     "name": "stdout",
     "output_type": "stream",
     "text": [
      "<class 'pandas.core.frame.DataFrame'>\n",
      "RangeIndex: 4847 entries, 0 to 4846\n",
      "Data columns (total 5 columns):\n",
      " #   Column             Non-Null Count  Dtype  \n",
      "---  ------             --------------  -----  \n",
      " 0   Пол                4847 non-null   int64  \n",
      " 1   Возраст            4847 non-null   float64\n",
      " 2   Зарплата           4847 non-null   float64\n",
      " 3   Члены семьи        4847 non-null   int64  \n",
      " 4   Страховые выплаты  4847 non-null   int64  \n",
      "dtypes: float64(2), int64(3)\n",
      "memory usage: 189.5 KB\n"
     ]
    }
   ],
   "source": [
    "#Удалим дубликаты\n",
    "data = data.drop_duplicates().reset_index(drop=True)\n",
    "data.info()"
   ]
  },
  {
   "cell_type": "markdown",
   "metadata": {},
   "source": [
    "**Вывод**\n",
    "\n",
    "Датасет с 4 признаками(пол, возраст и зарплата застрахованного, количество членов его семьи) и \n",
    "1 целевым признаком(количество страховых выплат клиенту за последние 5 лет).\n",
    "\n",
    "Пропусков и дубликатов нет"
   ]
  },
  {
   "cell_type": "markdown",
   "metadata": {},
   "source": [
    "## Умножение матриц"
   ]
  },
  {
   "cell_type": "markdown",
   "metadata": {},
   "source": [
    "В этом задании вы можете записывать формулы в *Jupyter Notebook.*\n",
    "\n",
    "Чтобы записать формулу внутри текста, окружите её символами доллара \\\\$; если снаружи —  двойными символами \\\\$\\\\$. Эти формулы записываются на языке вёрстки *LaTeX.* \n",
    "\n",
    "Для примера мы записали формулы линейной регрессии. Можете их скопировать и отредактировать, чтобы решить задачу.\n",
    "\n",
    "Работать в *LaTeX* необязательно."
   ]
  },
  {
   "cell_type": "markdown",
   "metadata": {},
   "source": [
    "Обозначения:\n",
    "\n",
    "- $X$ — матрица признаков (нулевой столбец состоит из единиц)\n",
    "\n",
    "- $y$ — вектор целевого признака\n",
    "\n",
    "- $P$ — матрица, на которую умножаются признаки\n",
    "\n",
    "- $w$ — вектор весов линейной регрессии (нулевой элемент равен сдвигу)"
   ]
  },
  {
   "cell_type": "markdown",
   "metadata": {},
   "source": [
    "Предсказания:\n",
    "\n",
    "$$\n",
    "a = Xw\n",
    "$$\n",
    "\n",
    "Задача обучения:\n",
    "\n",
    "$$\n",
    "w = \\arg\\min_w MSE(Xw, y)\n",
    "$$\n",
    "\n",
    "Формула обучения:\n",
    "\n",
    "$$\n",
    "w = (X^T X)^{-1} X^T y\n",
    "$$"
   ]
  },
  {
   "cell_type": "markdown",
   "metadata": {},
   "source": [
    "**Ответ:** При преобразовании матрицы признаков $X$ матрицей $P$ формула обучения выглядит:\n",
    "$$w'=P^{-1}(X^TX)^{-1}X^Ty=XP^{-1}w$$ \n",
    "При этом матрица $P$ должна быть квадратной обратимой\n",
    "\n",
    "**Обоснование:** Если мы преобразуем матрицу признаков $X$ матрицей $P$ и получим новую матрицу $Y$, тогда $a'= Yw'$ изиенится и станет $a'= XPw'$, задача обучени изменится на $w = \\arg\\min_w MSE(XPw, y)$, а формула обучения как $w'=(Y^TY)^{-1}Y^Ty=((XP)^TXP)^{-1}(XP)^Ty$.\n",
    "\n",
    "Пользуясь правилами:\n",
    "\n",
    "$(AB)^T=A^TB^T$\n",
    "\n",
    "$AA^{-1}=E$\n",
    "\n",
    "$(AB)^{-1}=A^{-1}B^{-1}$ - Применимо только для $(A,B)$ квадратных, обратимых матриц.\n",
    "\n",
    "Получим $w'=((XP)^TXP)^{-1}(XP)^Ty=(P^TX^TXP)^{-1}P^TX^Ty=P^{-1}(X^TX)^{-1}(P^T)^{-1}P^TX^Ty=P^{-1}(x^TX)^{-1}X^Ty$.\n",
    "\n",
    "\n",
    "**Вывод:** При преобразовании матрицы признаков $X$ матрицей $P$ формула обучения приобретает вид: $w'=P^{-1}w$, где матрица $P$ квадратная. Из этого следует, что $a'=Yw'=XPP^{-1}w=a$, это доказывает, что предсказания должны совпадать, а качество линейной регрессии не должно измениться."
   ]
  },
  {
   "cell_type": "markdown",
   "metadata": {},
   "source": [
    "## Алгоритм преобразования"
   ]
  },
  {
   "cell_type": "markdown",
   "metadata": {},
   "source": [
    "**Алгоритм**\n",
    "\n",
    "Разделим данные на признак и целевой признак\n",
    "\n",
    "Сгенерируем случайную обратную матрицу\n",
    "\n",
    "Обучим модель без преобразования\n",
    "\n",
    "Получим R2 метрику на модели без преобразования\n",
    "\n",
    "Умножим обратную матрицу на матрицу признаков\n",
    "\n",
    "Обученим модель на преобразованых данных\n",
    "\n",
    "Получение R2 мерики на преобразованых данных\n",
    "\n",
    "Сравненим эти метрики"
   ]
  },
  {
   "cell_type": "markdown",
   "metadata": {},
   "source": [
    "**Обоснование**\n",
    "\n",
    "Мы умножим признаки на квадратную невырожденную матрицу и сравним качество линейной регресии на двух матрицах: умноженной на квадратную невырожденную матрицу и не умноженой на неё.\n",
    "\n",
    "Согласно проделанным вычислениям мы праве ожидать получения одинакового качества линейной регрессии до преобразования и после."
   ]
  },
  {
   "cell_type": "markdown",
   "metadata": {},
   "source": [
    "## Проверка алгоритма"
   ]
  },
  {
   "cell_type": "code",
   "execution_count": 7,
   "metadata": {},
   "outputs": [],
   "source": [
    "features = data.drop('Страховые выплаты', axis=1).values\n",
    "target = data['Страховые выплаты'].values"
   ]
  },
  {
   "cell_type": "code",
   "execution_count": 8,
   "metadata": {},
   "outputs": [
    {
     "data": {
      "text/plain": [
       "array([[ 1.11895389, -1.77045269, -0.12800692,  0.52288569],\n",
       "       [ 0.40651966,  0.77269022, -0.71499955, -1.38972766],\n",
       "       [-0.08962593,  0.45047669, -0.72804051,  1.23323495],\n",
       "       [ 0.15303442, -0.57130163, -1.25180795, -1.11274562]])"
      ]
     },
     "execution_count": 8,
     "metadata": {},
     "output_type": "execute_result"
    }
   ],
   "source": [
    "#Создадим случайный квадратный массив 4х4:\n",
    "matrix_rand=np.random.normal(size = (4,4)) \n",
    "matrix_rand"
   ]
  },
  {
   "cell_type": "code",
   "execution_count": 9,
   "metadata": {},
   "outputs": [
    {
     "data": {
      "text/plain": [
       "array([[ 0.6622257 ,  0.92662551,  0.14741566, -0.68271724],\n",
       "       [-0.11598609,  0.54545432,  0.2580322 , -0.44975786],\n",
       "       [ 0.03505413, -0.01207156, -0.48943503, -0.51088306],\n",
       "       [ 0.11118924, -0.13902734,  0.43839679, -0.18692894]])"
      ]
     },
     "execution_count": 9,
     "metadata": {},
     "output_type": "execute_result"
    }
   ],
   "source": [
    "#Проверим обратимость марицы:\n",
    "matrix_rand = LA.inv(matrix_rand)\n",
    "matrix_rand"
   ]
  },
  {
   "cell_type": "code",
   "execution_count": 10,
   "metadata": {},
   "outputs": [
    {
     "name": "stdout",
     "output_type": "stream",
     "text": [
      "Метрика качества линейной регрессии R2 на исходных признаках: 0.4302010044852066\n",
      "Метрика качества линейной регрессии R2 на преобразованных признаках: 0.4302010044852066\n"
     ]
    }
   ],
   "source": [
    "model = LinearRegression()\n",
    "model.fit(features, target)\n",
    "predictions = model.predict(features)\n",
    "print('Метрика качества линейной регрессии R2 на исходных признаках:',r2_score(target, predictions))\n",
    "\n",
    "matrix_new = features @ matrix_rand\n",
    "model.fit(matrix_new, target)\n",
    "predictions = model.predict(matrix_new)\n",
    "print('Метрика качества линейной регрессии R2 на преобразованных признаках:',r2_score(target, predictions))"
   ]
  },
  {
   "cell_type": "markdown",
   "metadata": {},
   "source": [
    "**Вывод:** Метрика R2 не сильно меняет совего значения, можно сказать, что алгоритм преобразования данных работает правильно."
   ]
  },
  {
   "cell_type": "markdown",
   "metadata": {},
   "source": [
    "**Общий вывод:** \n",
    "\n",
    "1. В данном проекте в качестве алгоритма шифрования предлагается умножение матрицы признаков на обратимую квадратную матрицу. Приведено теоретическое обоснование данного алгоритма.\n",
    "\n",
    "2. Предложены два варианта его реализации. На практике подтверждено, что шифрование данных не повлияло на качество прогноза линейной регрессии. Для оценки применялась метрика качества R2.\n",
    "\n",
    "3. Мы получили практически одинаковые предсказания на исходных и закодированных данных методом линейной регресии. Значит мы можем изменить данные до неузнаваемости при помощи умножения на случайную матрицу, которая будет являться по сути ключом к ним, и при этом получить те же предсказания."
   ]
  }
 ],
 "metadata": {
  "ExecuteTimeLog": [
   {
    "duration": 1198,
    "start_time": "2023-03-20T16:57:12.707Z"
   },
   {
    "duration": 161,
    "start_time": "2023-03-20T16:57:14.649Z"
   },
   {
    "duration": 20,
    "start_time": "2023-03-20T16:57:28.736Z"
   },
   {
    "duration": 17,
    "start_time": "2023-03-20T16:58:10.103Z"
   },
   {
    "duration": 12,
    "start_time": "2023-03-20T17:19:21.543Z"
   },
   {
    "duration": 1388,
    "start_time": "2023-03-21T07:28:37.226Z"
   },
   {
    "duration": 75,
    "start_time": "2023-03-21T07:28:38.616Z"
   },
   {
    "duration": 14,
    "start_time": "2023-03-21T07:28:38.693Z"
   },
   {
    "duration": 11,
    "start_time": "2023-03-21T07:28:38.709Z"
   },
   {
    "duration": 46,
    "start_time": "2023-03-22T05:18:01.318Z"
   },
   {
    "duration": 6,
    "start_time": "2023-03-22T05:18:08.259Z"
   },
   {
    "duration": 1037,
    "start_time": "2023-03-22T05:18:33.223Z"
   },
   {
    "duration": 3,
    "start_time": "2023-03-22T05:18:34.307Z"
   },
   {
    "duration": 107,
    "start_time": "2023-03-22T05:18:34.312Z"
   },
   {
    "duration": 16,
    "start_time": "2023-03-22T05:18:34.421Z"
   },
   {
    "duration": 11,
    "start_time": "2023-03-22T05:18:34.438Z"
   },
   {
    "duration": 5,
    "start_time": "2023-03-22T05:18:34.451Z"
   },
   {
    "duration": 13,
    "start_time": "2023-03-22T05:19:20.988Z"
   },
   {
    "duration": 6,
    "start_time": "2023-03-22T05:19:52.734Z"
   },
   {
    "duration": 14,
    "start_time": "2023-03-22T05:19:59.597Z"
   },
   {
    "duration": 85,
    "start_time": "2023-03-22T15:18:58.880Z"
   },
   {
    "duration": 1271,
    "start_time": "2023-03-22T15:19:03.218Z"
   },
   {
    "duration": 89,
    "start_time": "2023-03-22T15:19:04.492Z"
   },
   {
    "duration": 21,
    "start_time": "2023-03-22T15:19:04.583Z"
   },
   {
    "duration": 56,
    "start_time": "2023-03-22T15:19:04.606Z"
   },
   {
    "duration": 31,
    "start_time": "2023-03-22T15:19:04.665Z"
   },
   {
    "duration": 24,
    "start_time": "2023-03-22T15:19:04.698Z"
   },
   {
    "duration": 125,
    "start_time": "2023-03-22T15:19:04.724Z"
   },
   {
    "duration": 5,
    "start_time": "2023-03-22T15:19:34.188Z"
   },
   {
    "duration": 11,
    "start_time": "2023-03-22T16:20:02.828Z"
   },
   {
    "duration": 7,
    "start_time": "2023-03-22T16:20:20.906Z"
   },
   {
    "duration": 3,
    "start_time": "2023-03-22T16:21:14.876Z"
   },
   {
    "duration": 10,
    "start_time": "2023-03-22T16:21:37.676Z"
   },
   {
    "duration": 7,
    "start_time": "2023-03-22T16:22:43.205Z"
   },
   {
    "duration": 4,
    "start_time": "2023-03-22T16:24:09.373Z"
   },
   {
    "duration": 4,
    "start_time": "2023-03-22T17:00:42.419Z"
   },
   {
    "duration": 86,
    "start_time": "2023-03-22T17:01:14.183Z"
   },
   {
    "duration": 13,
    "start_time": "2023-03-22T17:01:32.843Z"
   },
   {
    "duration": 10,
    "start_time": "2023-03-22T17:01:35.040Z"
   },
   {
    "duration": 5,
    "start_time": "2023-03-22T17:01:35.569Z"
   },
   {
    "duration": 10,
    "start_time": "2023-03-22T17:01:35.937Z"
   },
   {
    "duration": 7,
    "start_time": "2023-03-22T17:01:36.294Z"
   },
   {
    "duration": 6,
    "start_time": "2023-03-22T17:01:36.688Z"
   },
   {
    "duration": 5,
    "start_time": "2023-03-22T17:01:36.887Z"
   },
   {
    "duration": 7,
    "start_time": "2023-03-22T17:01:37.065Z"
   },
   {
    "duration": 6,
    "start_time": "2023-03-22T17:01:37.215Z"
   },
   {
    "duration": 6,
    "start_time": "2023-03-22T17:01:37.369Z"
   },
   {
    "duration": 5,
    "start_time": "2023-03-22T17:01:37.518Z"
   },
   {
    "duration": 5,
    "start_time": "2023-03-22T17:01:37.686Z"
   },
   {
    "duration": 5,
    "start_time": "2023-03-22T17:01:37.822Z"
   },
   {
    "duration": 7,
    "start_time": "2023-03-22T17:01:37.969Z"
   },
   {
    "duration": 6,
    "start_time": "2023-03-22T17:01:38.113Z"
   },
   {
    "duration": 12,
    "start_time": "2023-03-22T17:01:38.265Z"
   },
   {
    "duration": 5,
    "start_time": "2023-03-22T17:01:38.390Z"
   },
   {
    "duration": 5,
    "start_time": "2023-03-22T17:01:38.518Z"
   },
   {
    "duration": 11,
    "start_time": "2023-03-22T17:02:27.990Z"
   },
   {
    "duration": 4,
    "start_time": "2023-03-22T17:02:36.589Z"
   },
   {
    "duration": 10,
    "start_time": "2023-03-22T17:02:40.770Z"
   },
   {
    "duration": 17,
    "start_time": "2023-03-22T17:03:09.644Z"
   },
   {
    "duration": 10,
    "start_time": "2023-03-22T17:04:04.766Z"
   },
   {
    "duration": 6,
    "start_time": "2023-03-22T17:04:33.626Z"
   },
   {
    "duration": 16,
    "start_time": "2023-03-22T17:04:35.340Z"
   },
   {
    "duration": 5,
    "start_time": "2023-03-22T17:04:39.902Z"
   },
   {
    "duration": 1412,
    "start_time": "2023-03-22T17:05:04.833Z"
   },
   {
    "duration": 42,
    "start_time": "2023-03-22T17:05:06.254Z"
   },
   {
    "duration": 20,
    "start_time": "2023-03-22T17:05:06.298Z"
   },
   {
    "duration": 30,
    "start_time": "2023-03-22T17:05:06.321Z"
   },
   {
    "duration": 38,
    "start_time": "2023-03-22T17:05:06.355Z"
   },
   {
    "duration": 14,
    "start_time": "2023-03-22T17:05:06.395Z"
   },
   {
    "duration": 4,
    "start_time": "2023-03-22T17:05:06.411Z"
   },
   {
    "duration": 8,
    "start_time": "2023-03-22T17:05:06.417Z"
   },
   {
    "duration": 21,
    "start_time": "2023-03-22T17:05:06.427Z"
   },
   {
    "duration": 16,
    "start_time": "2023-03-22T17:06:04.678Z"
   },
   {
    "duration": 1237,
    "start_time": "2023-03-22T17:08:10.166Z"
   },
   {
    "duration": 30,
    "start_time": "2023-03-22T17:08:11.405Z"
   },
   {
    "duration": 32,
    "start_time": "2023-03-22T17:08:11.437Z"
   },
   {
    "duration": 28,
    "start_time": "2023-03-22T17:08:11.471Z"
   },
   {
    "duration": 16,
    "start_time": "2023-03-22T17:08:11.501Z"
   },
   {
    "duration": 35,
    "start_time": "2023-03-22T17:08:11.519Z"
   },
   {
    "duration": 23,
    "start_time": "2023-03-22T17:08:11.562Z"
   },
   {
    "duration": 18,
    "start_time": "2023-03-22T17:08:11.587Z"
   },
   {
    "duration": 27,
    "start_time": "2023-03-22T17:08:11.606Z"
   },
   {
    "duration": 152,
    "start_time": "2023-03-22T17:08:11.635Z"
   },
   {
    "duration": 2098,
    "start_time": "2023-03-23T12:30:12.471Z"
   },
   {
    "duration": 29,
    "start_time": "2023-03-23T12:30:14.572Z"
   },
   {
    "duration": 14,
    "start_time": "2023-03-23T12:30:14.603Z"
   },
   {
    "duration": 11,
    "start_time": "2023-03-23T12:30:14.618Z"
   },
   {
    "duration": 26,
    "start_time": "2023-03-23T12:30:14.631Z"
   },
   {
    "duration": 13,
    "start_time": "2023-03-23T12:30:14.659Z"
   },
   {
    "duration": 9,
    "start_time": "2023-03-23T12:30:14.674Z"
   },
   {
    "duration": 20,
    "start_time": "2023-03-23T12:30:14.685Z"
   },
   {
    "duration": 13,
    "start_time": "2023-03-23T12:30:14.707Z"
   },
   {
    "duration": 206,
    "start_time": "2023-03-23T12:30:14.723Z"
   },
   {
    "duration": 48,
    "start_time": "2023-03-23T18:06:49.554Z"
   },
   {
    "duration": 56,
    "start_time": "2023-03-23T18:08:13.529Z"
   },
   {
    "duration": 48,
    "start_time": "2023-03-23T18:08:23.855Z"
   },
   {
    "duration": 78,
    "start_time": "2023-03-23T18:08:35.598Z"
   },
   {
    "duration": 48,
    "start_time": "2023-03-23T18:08:36.359Z"
   },
   {
    "duration": 66,
    "start_time": "2023-03-23T18:08:36.564Z"
   },
   {
    "duration": 79,
    "start_time": "2023-03-23T18:08:36.701Z"
   },
   {
    "duration": 45,
    "start_time": "2023-03-23T18:08:36.829Z"
   },
   {
    "duration": 55,
    "start_time": "2023-03-23T18:08:37.130Z"
   },
   {
    "duration": 48,
    "start_time": "2023-03-23T18:08:37.245Z"
   },
   {
    "duration": 61,
    "start_time": "2023-03-23T18:08:37.417Z"
   },
   {
    "duration": 93,
    "start_time": "2023-03-23T18:08:59.479Z"
   },
   {
    "duration": 49,
    "start_time": "2023-03-23T18:09:04.351Z"
   },
   {
    "duration": 55,
    "start_time": "2023-03-23T18:09:05.033Z"
   },
   {
    "duration": 92,
    "start_time": "2023-03-23T18:09:05.222Z"
   },
   {
    "duration": 97,
    "start_time": "2023-03-23T18:09:05.572Z"
   },
   {
    "duration": 102,
    "start_time": "2023-03-23T18:09:14.046Z"
   },
   {
    "duration": 54,
    "start_time": "2023-03-23T18:09:14.246Z"
   },
   {
    "duration": 85,
    "start_time": "2023-03-23T18:09:56.568Z"
   },
   {
    "duration": 46,
    "start_time": "2023-03-23T18:10:10.945Z"
   },
   {
    "duration": 54,
    "start_time": "2023-03-23T18:10:11.629Z"
   },
   {
    "duration": 129,
    "start_time": "2023-03-23T18:10:11.930Z"
   },
   {
    "duration": 143,
    "start_time": "2023-03-23T18:10:12.198Z"
   },
   {
    "duration": 111,
    "start_time": "2023-03-23T18:10:12.487Z"
   },
   {
    "duration": 111,
    "start_time": "2023-03-23T18:10:12.753Z"
   },
   {
    "duration": 93,
    "start_time": "2023-03-23T18:10:28.034Z"
   },
   {
    "duration": 52,
    "start_time": "2023-03-23T18:10:28.225Z"
   },
   {
    "duration": 61,
    "start_time": "2023-03-23T18:10:28.366Z"
   },
   {
    "duration": 83,
    "start_time": "2023-03-23T18:10:28.496Z"
   },
   {
    "duration": 50,
    "start_time": "2023-03-23T18:10:28.643Z"
   },
   {
    "duration": 73,
    "start_time": "2023-03-23T18:10:28.765Z"
   },
   {
    "duration": 58,
    "start_time": "2023-03-23T18:10:29.030Z"
   },
   {
    "duration": 81,
    "start_time": "2023-03-23T18:10:29.184Z"
   },
   {
    "duration": 52,
    "start_time": "2023-03-23T18:10:29.334Z"
   },
   {
    "duration": 79,
    "start_time": "2023-03-23T18:10:29.463Z"
   },
   {
    "duration": 70,
    "start_time": "2023-03-23T18:10:29.586Z"
   },
   {
    "duration": 75,
    "start_time": "2023-03-23T18:10:29.907Z"
   },
   {
    "duration": 52,
    "start_time": "2023-03-23T18:10:30.051Z"
   },
   {
    "duration": 52,
    "start_time": "2023-03-23T18:10:30.333Z"
   },
   {
    "duration": 81,
    "start_time": "2023-03-23T18:10:30.494Z"
   }
  ],
  "kernelspec": {
   "display_name": "Python 3 (ipykernel)",
   "language": "python",
   "name": "python3"
  },
  "language_info": {
   "codemirror_mode": {
    "name": "ipython",
    "version": 3
   },
   "file_extension": ".py",
   "mimetype": "text/x-python",
   "name": "python",
   "nbconvert_exporter": "python",
   "pygments_lexer": "ipython3",
   "version": "3.9.5"
  },
  "toc": {
   "base_numbering": 1,
   "nav_menu": {},
   "number_sections": true,
   "sideBar": true,
   "skip_h1_title": true,
   "title_cell": "Содержание",
   "title_sidebar": "Contents",
   "toc_cell": true,
   "toc_position": {
    "height": "calc(100% - 180px)",
    "left": "10px",
    "top": "150px",
    "width": "241.594px"
   },
   "toc_section_display": true,
   "toc_window_display": false
  }
 },
 "nbformat": 4,
 "nbformat_minor": 2
}
