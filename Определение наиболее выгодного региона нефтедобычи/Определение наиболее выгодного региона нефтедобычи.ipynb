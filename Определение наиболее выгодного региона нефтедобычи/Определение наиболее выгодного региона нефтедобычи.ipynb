{
 "cells": [
  {
   "cell_type": "markdown",
   "metadata": {},
   "source": [
    "# Выбор локации для скважины"
   ]
  },
  {
   "cell_type": "markdown",
   "metadata": {},
   "source": [
    "Допустим, вы работаете в добывающей компании «ГлавРосГосНефть». Нужно решить, где бурить новую скважину.\n",
    "\n",
    "Вам предоставлены пробы нефти в трёх регионах: в каждом 10 000 месторождений, где измерили качество нефти и объём её запасов. Постройте модель машинного обучения, которая поможет определить регион, где добыча принесёт наибольшую прибыль. Проанализируйте возможную прибыль и риски техникой *Bootstrap.*\n",
    "\n",
    "Шаги для выбора локации:\n",
    "\n",
    "- В избранном регионе ищут месторождения, для каждого определяют значения признаков;\n",
    "- Строят модель и оценивают объём запасов;\n",
    "- Выбирают месторождения с самым высокими оценками значений. Количество месторождений зависит от бюджета компании и стоимости разработки одной скважины;\n",
    "- Прибыль равна суммарной прибыли отобранных месторождений."
   ]
  },
  {
   "cell_type": "markdown",
   "metadata": {},
   "source": [
    "## Загрузка и подготовка данных"
   ]
  },
  {
   "cell_type": "code",
   "execution_count": 1,
   "metadata": {},
   "outputs": [],
   "source": [
    "import pandas as pd\n",
    "import numpy as np\n",
    "import seaborn as sns\n",
    "from matplotlib import pyplot as plt\n",
    "sns.set()\n",
    "import warnings\n",
    "warnings.filterwarnings('ignore')"
   ]
  },
  {
   "cell_type": "code",
   "execution_count": 2,
   "metadata": {},
   "outputs": [],
   "source": [
    "from scipy import stats as st \n",
    "from sklearn import metrics\n",
    "from sklearn.metrics import roc_curve, roc_auc_score, r2_score, mean_absolute_error\n",
    "from sklearn.metrics import mean_squared_error as mse\n",
    "from sklearn.preprocessing import StandardScaler\n",
    "from sklearn.linear_model import LogisticRegression, LinearRegression\n",
    "from sklearn.model_selection import train_test_split, cross_val_score, StratifiedShuffleSplit\n",
    "from sklearn import datasets, linear_model\n",
    "from sklearn.model_selection import cross_val_predict\n",
    "from sklearn.metrics import mean_squared_error\n",
    "from numpy.random import RandomState"
   ]
  },
  {
   "cell_type": "code",
   "execution_count": 3,
   "metadata": {},
   "outputs": [],
   "source": [
    "#Сохраним данные о трех регионах в свои переменные\n",
    "file_name_1 = '/datasets/geo_data_0.csv'\n",
    "file_name_2 = '/datasets/geo_data_1.csv'\n",
    "file_name_3 = '/datasets/geo_data_2.csv'\n",
    "geo_data_0 = pd.read_csv(file_name_1)\n",
    "geo_data_1 = pd.read_csv(file_name_2)\n",
    "geo_data_2 = pd.read_csv(file_name_3)"
   ]
  },
  {
   "cell_type": "markdown",
   "metadata": {},
   "source": [
    "*Проведем небольшую проверку на чистоту в данных*"
   ]
  },
  {
   "cell_type": "code",
   "execution_count": 4,
   "metadata": {},
   "outputs": [
    {
     "name": "stdout",
     "output_type": "stream",
     "text": [
      "В данных пропусков нет\n"
     ]
    }
   ],
   "source": [
    "#Проверим данные на пропуски\n",
    "if (geo_data_0.isnull().sum().sum() + geo_data_1.isnull().sum().sum() + geo_data_2.isnull().sum().sum()) ==0:\n",
    "    print('В данных пропусков нет')"
   ]
  },
  {
   "cell_type": "code",
   "execution_count": 5,
   "metadata": {},
   "outputs": [
    {
     "name": "stdout",
     "output_type": "stream",
     "text": [
      "дубликатов не обнаружено\n"
     ]
    }
   ],
   "source": [
    "#Проверим данные на наличие дубликатов\n",
    "if (geo_data_2.duplicated().sum() + geo_data_1.duplicated().sum() + geo_data_2.duplicated().sum()) == 0:\n",
    "    print('дубликатов не обнаружено')\n",
    "else:\n",
    "    print('обнаружены дубликаты')"
   ]
  },
  {
   "cell_type": "markdown",
   "metadata": {},
   "source": [
    "## Обучение и проверка модели"
   ]
  },
  {
   "cell_type": "code",
   "execution_count": 6,
   "metadata": {},
   "outputs": [],
   "source": [
    "#Напишем функцию деления данных на обучающую и валидационную выборки в соотношении 75:25\n",
    "\n",
    "def data_split(geo_data):\n",
    "    \n",
    "    X = geo_data[['f0', 'f1', 'f2']]\n",
    "    y = geo_data['product']\n",
    "    X_train, X_valid, y_train, y_valid = train_test_split(X, y, test_size=0.25, random_state=12345)\n",
    "    print (X_train.shape, y_train.shape, X_valid.shape, y_valid.shape)\n",
    "    \n",
    "    return X_train, X_valid, y_train, y_valid"
   ]
  },
  {
   "cell_type": "code",
   "execution_count": 7,
   "metadata": {},
   "outputs": [
    {
     "name": "stdout",
     "output_type": "stream",
     "text": [
      "(75000, 3) (75000,) (25000, 3) (25000,)\n",
      "(75000, 3) (75000,) (25000, 3) (25000,)\n",
      "(75000, 3) (75000,) (25000, 3) (25000,)\n"
     ]
    }
   ],
   "source": [
    "#Поделим данные для 3-х регионов и проверим правильность их разделения\n",
    "\n",
    "i = 0\n",
    "\n",
    "for geo_data in [geo_data_0, geo_data_1, geo_data_2]:\n",
    "    \n",
    "    globals()['X_train_' + str(i)], globals()['X_valid_' + str(i)], \\\n",
    "    globals()['y_train_' + str(i)], globals()['y_valid_' + str(i)] = data_split(geo_data)\n",
    "    i += 1"
   ]
  },
  {
   "cell_type": "code",
   "execution_count": 8,
   "metadata": {},
   "outputs": [],
   "source": [
    "def model_learning (X_train, X_valid, y_train, y_valid):\n",
    " \n",
    "    model = LinearRegression()\n",
    "    model.fit(X_train, y_train)\n",
    "    y_predict = model.predict(X_valid)\n",
    "    y_valid = y_valid.reset_index(drop=True)\n",
    "    predictions = cross_val_predict(model, X_valid, y_valid, cv=5)\n",
    "    \n",
    "    # Кросс-валидация с разбитием на 5 блоков, получение метрики качества (R2) для каждой из них \n",
    "    scores = cross_val_score(model, X_train, y_train, cv=5, n_jobs=-1)\n",
    "    print ('R2 региона на кросс-валидации:', scores)    \n",
    "    \n",
    "    # Среднее значение метрики и стандартное отклонение\n",
    "    print (f'Средний R2 на кросс-валидации: {np.mean(scores):.5f} std: {np.std(scores):.5f}')\n",
    "        \n",
    "    # Аccuracy-метрика для предсказаний на лучшем блокее кросс-валидации\n",
    "    print (f'Лучший R2: {r2_score(y_valid, predictions):.4f}')\n",
    "    \n",
    "    # RMSE для предсказаний на лучшем блоке кросс-валидации\n",
    "    print (f'RMSE: {mean_squared_error(y_valid, predictions, squared=False):.2f}')\n",
    "        \n",
    "    print (F'Предсказанный средний запас: {y_predict.mean():.2f}')\n",
    "    print (F'Истинный средний запас: {y_valid.mean():.2f}')\n",
    "    \n",
    "    return y_predict, y_valid"
   ]
  },
  {
   "cell_type": "code",
   "execution_count": 9,
   "metadata": {},
   "outputs": [
    {
     "name": "stdout",
     "output_type": "stream",
     "text": [
      "Качество модели для 1 региона: \n",
      "\n",
      "R2 региона на кросс-валидации: [0.26543147 0.27779784 0.28135147 0.27476308 0.27108881]\n",
      "Средний R2 на кросс-валидации: 0.27409 std: 0.00549\n",
      "Лучший R2: 0.2801\n",
      "RMSE: 37.57\n",
      "Предсказанный средний запас: 92.59\n",
      "Истинный средний запас: 92.08\n"
     ]
    }
   ],
   "source": [
    "print ('Качество модели для 1 региона: \\n')\n",
    "y_predict_0, y_valid_0 = model_learning(X_train_0, X_valid_0, y_train_0, y_valid_0)"
   ]
  },
  {
   "cell_type": "code",
   "execution_count": 10,
   "metadata": {},
   "outputs": [
    {
     "name": "stdout",
     "output_type": "stream",
     "text": [
      "Качество модели для 2 региона: \n",
      "\n",
      "R2 региона на кросс-валидации: [0.99963474 0.99962007 0.99962403 0.99962336 0.99962121]\n",
      "Средний R2 на кросс-валидации: 0.99962 std: 0.00001\n",
      "Лучший R2: 0.9996\n",
      "RMSE: 0.89\n",
      "Предсказанный средний запас: 68.73\n",
      "Истинный средний запас: 68.72\n"
     ]
    }
   ],
   "source": [
    "print ('Качество модели для 2 региона: \\n')\n",
    "y_predict_1, y_valid_1 = model_learning(X_train_1, X_valid_1, y_train_1, y_valid_1)"
   ]
  },
  {
   "cell_type": "code",
   "execution_count": 11,
   "metadata": {},
   "outputs": [
    {
     "name": "stdout",
     "output_type": "stream",
     "text": [
      "Качество модели для 3 региона: \n",
      "\n",
      "R2 региона на кросс-валидации: [0.19754075 0.19883786 0.19447795 0.19719633 0.19435838]\n",
      "Средний R2 на кросс-валидации: 0.19648 std: 0.00177\n",
      "Лучший R2: 0.2052\n",
      "RMSE: 40.03\n",
      "Предсказанный средний запас: 94.97\n",
      "Истинный средний запас: 94.88\n"
     ]
    }
   ],
   "source": [
    "print ('Качество модели для 3 региона: \\n')\n",
    "y_predict_2, y_valid_2 = model_learning(X_train_2, X_valid_2, y_train_2, y_valid_2)"
   ]
  },
  {
   "cell_type": "markdown",
   "metadata": {},
   "source": [
    "***Вывод***\n",
    "\n",
    "Разбили данные на обучающую и валидационную выборки в соотношении 75к25. Обучили модели, а так же сделали предсказания на валидационной выборке. Вывели средний запас предсказанного сырья и RMSE моделей.\n",
    "\n",
    "Обученные модели показали хорошие результаты, особенно для 2-го региона."
   ]
  },
  {
   "cell_type": "markdown",
   "metadata": {},
   "source": [
    "## Подготовка к расчёту прибыли"
   ]
  },
  {
   "cell_type": "markdown",
   "metadata": {},
   "source": [
    "Из условий задачи следует, что:\n",
    "\n",
    "При разведке региона исследуют 500 точек, из которых с помощью машинного обучения выбирают 200 лучших для разработки.\n",
    "Бюджет на разработку скважин в регионе — 10 млрд рублей.\n",
    "Доход с каждой единицы продукта составляет 450 тыс. рублей.\n",
    "После оценки рисков нужно оставить лишь те регионы, в которых вероятность убытков меньше 2.5% т.е. вероятность получить 10 млрд рублей дохода с 200 лучших больше 95%, так как распределение двухстороннее. Среди трех выбрать регион с наибольшей средней прибылью."
   ]
  },
  {
   "cell_type": "code",
   "execution_count": 13,
   "metadata": {},
   "outputs": [],
   "source": [
    "#Для всех ключевых значений создадим константы\n",
    "BUDGET = 10000000000\n",
    "BEST_LOC_NUM = 200\n",
    "LOC_NUM = 500\n",
    "PRODUCT_UNIT_INCOME = 450000\n",
    "ALPHA = 0.025\n",
    "BOOTSTRAP_SAMPLES = 1000"
   ]
  },
  {
   "cell_type": "code",
   "execution_count": 14,
   "metadata": {},
   "outputs": [
    {
     "data": {
      "text/plain": [
       "111.11111111111111"
      ]
     },
     "execution_count": 14,
     "metadata": {},
     "output_type": "execute_result"
    }
   ],
   "source": [
    "#Посчитаем минимальное среднее количество продукта в месторождениях региона, достаточное для разработки\n",
    "min_mean_product = BUDGET / BEST_LOC_NUM / PRODUCT_UNIT_INCOME\n",
    "min_mean_product"
   ]
  },
  {
   "cell_type": "markdown",
   "metadata": {},
   "source": [
    "Нам нужно выбрать регионы, в которых среднее количество продукта у 200 лучших скважин по объему сырья  было не меньше найденного с заявленной вероятностью чтобы гарантированно окупить бюджет"
   ]
  },
  {
   "cell_type": "code",
   "execution_count": 34,
   "metadata": {},
   "outputs": [],
   "source": [
    "#Напишем функцию расчёта прибыли\n",
    "def profit(y_predict_sample, y_valid):\n",
    "    \n",
    "    y_predict_sample_best_200 = y_predict_sample.sort_values(ascending=False)[:BEST_LOC_NUM]\n",
    "    sample_profit = y_valid[y_predict_sample_best_200.index].sum() * PRODUCT_UNIT_INCOME - BUDGET\n",
    "    \n",
    "    return sample_profit"
   ]
  },
  {
   "cell_type": "markdown",
   "metadata": {},
   "source": [
    "## Расчёт прибыли и рисков "
   ]
  },
  {
   "cell_type": "code",
   "execution_count": 35,
   "metadata": {},
   "outputs": [],
   "source": [
    "#Напишем функцию для просчета суммарной прибыли у 200 из 500 лучших скважин в 1000 случайных выборок \n",
    "def sample_profit_dist(y_predict, y_valid):\n",
    "    \n",
    "    state = RandomState(12345)\n",
    "    sample_profit_distrib = []\n",
    "    count = 0      #где count это счетчик числа убыточных выборок\n",
    "    \n",
    "    for i in range(BOOTSTRAP_SAMPLES):    \n",
    "        \n",
    "        #Применим Bootstrap\n",
    "        y_predict_sample = pd.Series(y_predict).sample(n=LOC_NUM, replace=True, random_state=state)\n",
    "        \n",
    "        \n",
    "        #Посчитаем прибыль для выборки\n",
    "        sample_profit = profit(y_predict_sample, y_valid)\n",
    "        \n",
    "        #Создадим распределение значений прибыли выборок\n",
    "        sample_profit_distrib.append(sample_profit)\n",
    "        \n",
    "        # Посчитаем убыточные выборки\n",
    "        if sample_profit < 0:\n",
    "            count += 1\n",
    "    \n",
    "    return pd.Series(sample_profit_distrib), count"
   ]
  },
  {
   "cell_type": "code",
   "execution_count": 36,
   "metadata": {},
   "outputs": [],
   "source": [
    "#Получим распределениу выборок прибыли по каждому региону\n",
    "sample_profit_dist_0, count_0 = sample_profit_dist(y_predict_0, y_valid_0)\n",
    "sample_profit_dist_1, count_1 = sample_profit_dist(y_predict_1, y_valid_1)\n",
    "sample_profit_dist_2, count_2 = sample_profit_dist(y_predict_2, y_valid_2)"
   ]
  },
  {
   "cell_type": "code",
   "execution_count": 37,
   "metadata": {},
   "outputs": [],
   "source": [
    "#Напишем функцию для получения показателей средней прибыли, риска убытков и выводов по регионам\n",
    "\n",
    "def result(profit, count):\n",
    "    \n",
    "    print (f'Средняя прибыль: {profit.mean() / 1000000:.2f} млн руб.')    \n",
    "    print (f'95%-й доверительный интервал: {np.quantile(profit, 0.025):.0f}, {np.quantile(profit, 0.975):.0f}')\n",
    "    \n",
    "    # Расчет доли убыточных выборок\n",
    "    p_value = 1. * count / BOOTSTRAP_SAMPLES\n",
    "    \n",
    "    if p_value < ALPHA:\n",
    "        print(f'Вероятность убытков: {p_value:.2%} - меньше допустимой, следовательно регион подойдет для разработки')\n",
    "    else:\n",
    "        print(f'Вероятность убытков: {p_value:.2%} - больше допустимой, следовательно регион не подойдет для разработки')"
   ]
  },
  {
   "cell_type": "code",
   "execution_count": 38,
   "metadata": {},
   "outputs": [
    {
     "name": "stdout",
     "output_type": "stream",
     "text": [
      "Показатели региона 1: \n",
      "\n",
      "Средняя прибыль: 396.16 млн руб.\n",
      "95%-й доверительный интервал: -111215546, 909766942\n",
      "Вероятность убытков: 6.90% - больше допустимой, следовательно регион не подойдет для разработки\n"
     ]
    }
   ],
   "source": [
    "print ('Показатели региона 1: \\n')\n",
    "result(sample_profit_dist_0, count_0)"
   ]
  },
  {
   "cell_type": "code",
   "execution_count": 39,
   "metadata": {},
   "outputs": [
    {
     "name": "stdout",
     "output_type": "stream",
     "text": [
      "Показатели региона 2: \n",
      "\n",
      "Средняя прибыль: 456.05 млн руб.\n",
      "95%-й доверительный интервал: 33820509, 852289454\n",
      "Вероятность убытков: 1.50% - меньше допустимой, следовательно регион подойдет для разработки\n"
     ]
    }
   ],
   "source": [
    "print ('Показатели региона 2: \\n')\n",
    "result(sample_profit_dist_1, count_1)"
   ]
  },
  {
   "cell_type": "code",
   "execution_count": 40,
   "metadata": {},
   "outputs": [
    {
     "name": "stdout",
     "output_type": "stream",
     "text": [
      "Показатели региона 3: \n",
      "\n",
      "Средняя прибыль: 404.40 млн руб.\n",
      "95%-й доверительный интервал: -163350413, 950359575\n",
      "Вероятность убытков: 7.60% - больше допустимой, следовательно регион не подойдет для разработки\n"
     ]
    }
   ],
   "source": [
    "print ('Показатели региона 3: \\n')\n",
    "result(sample_profit_dist_2, count_2)"
   ]
  },
  {
   "cell_type": "markdown",
   "metadata": {},
   "source": [
    "***Вывод***\n",
    "\n",
    "Таким образом можно сделать вывод что оценка рисков позволяет нам оставить только один регион под номером 2 в котором вероятность убытков 1.50% что меньше допустимого 2.5%."
   ]
  }
 ],
 "metadata": {
  "ExecuteTimeLog": [
   {
    "duration": 1380,
    "start_time": "2023-02-14T13:47:08.879Z"
   },
   {
    "duration": 313,
    "start_time": "2023-02-14T13:47:11.015Z"
   },
   {
    "duration": 167,
    "start_time": "2023-02-14T14:55:16.288Z"
   },
   {
    "duration": 1200,
    "start_time": "2023-02-14T14:56:25.784Z"
   },
   {
    "duration": 442,
    "start_time": "2023-02-14T14:56:26.986Z"
   },
   {
    "duration": 6,
    "start_time": "2023-02-14T14:56:27.430Z"
   },
   {
    "duration": 153,
    "start_time": "2023-02-14T14:56:27.437Z"
   },
   {
    "duration": 1653,
    "start_time": "2023-02-14T14:57:12.547Z"
   },
   {
    "duration": 20,
    "start_time": "2023-02-14T15:10:23.038Z"
   },
   {
    "duration": 23,
    "start_time": "2023-02-14T15:10:35.830Z"
   },
   {
    "duration": 137,
    "start_time": "2023-02-14T15:12:05.633Z"
   },
   {
    "duration": 1135,
    "start_time": "2023-02-14T15:12:09.961Z"
   },
   {
    "duration": 259,
    "start_time": "2023-02-14T15:12:11.098Z"
   },
   {
    "duration": 374,
    "start_time": "2023-02-14T15:12:11.359Z"
   },
   {
    "duration": 21,
    "start_time": "2023-02-14T15:12:11.735Z"
   },
   {
    "duration": 141,
    "start_time": "2023-02-14T15:12:11.758Z"
   },
   {
    "duration": 1351,
    "start_time": "2023-02-15T09:19:12.016Z"
   },
   {
    "duration": 278,
    "start_time": "2023-02-15T09:19:13.369Z"
   },
   {
    "duration": 1773,
    "start_time": "2023-02-15T09:19:13.649Z"
   },
   {
    "duration": 21,
    "start_time": "2023-02-15T09:19:15.425Z"
   },
   {
    "duration": 120,
    "start_time": "2023-02-15T09:19:15.448Z"
   },
   {
    "duration": 115,
    "start_time": "2023-02-15T09:19:15.569Z"
   },
   {
    "duration": 0,
    "start_time": "2023-02-15T09:19:15.687Z"
   },
   {
    "duration": 1099,
    "start_time": "2023-02-15T09:21:05.469Z"
   },
   {
    "duration": 9,
    "start_time": "2023-02-15T09:21:09.337Z"
   },
   {
    "duration": 985,
    "start_time": "2023-02-15T09:22:07.055Z"
   },
   {
    "duration": 4,
    "start_time": "2023-02-15T09:43:55.538Z"
   },
   {
    "duration": 5,
    "start_time": "2023-02-15T09:43:59.500Z"
   },
   {
    "duration": 10,
    "start_time": "2023-02-15T09:44:01.732Z"
   },
   {
    "duration": 1185,
    "start_time": "2023-02-15T11:55:47.775Z"
   },
   {
    "duration": 315,
    "start_time": "2023-02-15T11:55:48.962Z"
   },
   {
    "duration": 388,
    "start_time": "2023-02-15T11:55:49.288Z"
   },
   {
    "duration": 21,
    "start_time": "2023-02-15T11:55:49.681Z"
   },
   {
    "duration": 130,
    "start_time": "2023-02-15T11:55:49.704Z"
   },
   {
    "duration": 3,
    "start_time": "2023-02-15T11:55:49.836Z"
   },
   {
    "duration": 129,
    "start_time": "2023-02-15T11:55:49.841Z"
   },
   {
    "duration": 1126,
    "start_time": "2023-02-15T11:56:32.218Z"
   },
   {
    "duration": 297,
    "start_time": "2023-02-15T11:56:33.346Z"
   },
   {
    "duration": 393,
    "start_time": "2023-02-15T11:56:33.645Z"
   },
   {
    "duration": 126,
    "start_time": "2023-02-15T11:56:34.040Z"
   },
   {
    "duration": 0,
    "start_time": "2023-02-15T11:56:34.172Z"
   },
   {
    "duration": 0,
    "start_time": "2023-02-15T11:56:34.173Z"
   },
   {
    "duration": 0,
    "start_time": "2023-02-15T11:56:34.176Z"
   },
   {
    "duration": 12,
    "start_time": "2023-02-15T11:57:13.743Z"
   },
   {
    "duration": 4,
    "start_time": "2023-02-15T12:02:51.430Z"
   },
   {
    "duration": 40,
    "start_time": "2023-02-15T12:03:19.995Z"
   },
   {
    "duration": 21,
    "start_time": "2023-02-15T12:03:24.295Z"
   },
   {
    "duration": 20,
    "start_time": "2023-02-15T12:03:32.831Z"
   },
   {
    "duration": 129,
    "start_time": "2023-02-15T12:03:44.589Z"
   },
   {
    "duration": 3,
    "start_time": "2023-02-15T12:03:46.615Z"
   },
   {
    "duration": 40,
    "start_time": "2023-02-15T12:03:47.887Z"
   },
   {
    "duration": 7,
    "start_time": "2023-02-15T12:28:15.444Z"
   },
   {
    "duration": 6,
    "start_time": "2023-02-15T12:28:35.612Z"
   },
   {
    "duration": 1179,
    "start_time": "2023-02-15T12:28:39.729Z"
   },
   {
    "duration": 391,
    "start_time": "2023-02-15T12:28:40.910Z"
   },
   {
    "duration": 438,
    "start_time": "2023-02-15T12:28:41.302Z"
   },
   {
    "duration": 29,
    "start_time": "2023-02-15T12:28:41.741Z"
   },
   {
    "duration": 126,
    "start_time": "2023-02-15T12:28:41.772Z"
   },
   {
    "duration": 5,
    "start_time": "2023-02-15T12:28:41.900Z"
   },
   {
    "duration": 48,
    "start_time": "2023-02-15T12:28:41.907Z"
   },
   {
    "duration": 9,
    "start_time": "2023-02-15T12:28:41.967Z"
   },
   {
    "duration": 5,
    "start_time": "2023-02-15T15:45:03.180Z"
   },
   {
    "duration": 1231,
    "start_time": "2023-02-15T15:45:13.347Z"
   },
   {
    "duration": 355,
    "start_time": "2023-02-15T15:45:14.580Z"
   },
   {
    "duration": 414,
    "start_time": "2023-02-15T15:45:14.937Z"
   },
   {
    "duration": 24,
    "start_time": "2023-02-15T15:45:15.353Z"
   },
   {
    "duration": 134,
    "start_time": "2023-02-15T15:45:15.379Z"
   },
   {
    "duration": 4,
    "start_time": "2023-02-15T15:45:15.514Z"
   },
   {
    "duration": 47,
    "start_time": "2023-02-15T15:45:15.520Z"
   },
   {
    "duration": 5,
    "start_time": "2023-02-15T15:45:15.569Z"
   },
   {
    "duration": 775,
    "start_time": "2023-02-15T15:49:08.996Z"
   },
   {
    "duration": 6,
    "start_time": "2023-02-15T15:49:10.652Z"
   },
   {
    "duration": 636,
    "start_time": "2023-02-15T15:49:12.533Z"
   },
   {
    "duration": 1138,
    "start_time": "2023-02-15T15:52:41.598Z"
   },
   {
    "duration": 378,
    "start_time": "2023-02-15T15:52:42.738Z"
   },
   {
    "duration": 402,
    "start_time": "2023-02-15T15:52:43.117Z"
   },
   {
    "duration": 23,
    "start_time": "2023-02-15T15:52:43.521Z"
   },
   {
    "duration": 157,
    "start_time": "2023-02-15T15:52:43.546Z"
   },
   {
    "duration": 4,
    "start_time": "2023-02-15T15:52:43.706Z"
   },
   {
    "duration": 69,
    "start_time": "2023-02-15T15:52:43.712Z"
   },
   {
    "duration": 5,
    "start_time": "2023-02-15T15:52:43.783Z"
   },
   {
    "duration": 899,
    "start_time": "2023-02-15T15:52:43.790Z"
   },
   {
    "duration": 0,
    "start_time": "2023-02-15T15:52:44.692Z"
   },
   {
    "duration": 0,
    "start_time": "2023-02-15T15:52:44.693Z"
   },
   {
    "duration": 965,
    "start_time": "2023-02-15T15:52:51.212Z"
   },
   {
    "duration": 912,
    "start_time": "2023-02-15T15:52:54.255Z"
   },
   {
    "duration": 1188,
    "start_time": "2023-02-15T15:53:30.031Z"
   },
   {
    "duration": 287,
    "start_time": "2023-02-15T15:53:31.221Z"
   },
   {
    "duration": 379,
    "start_time": "2023-02-15T15:53:31.509Z"
   },
   {
    "duration": 22,
    "start_time": "2023-02-15T15:53:31.890Z"
   },
   {
    "duration": 138,
    "start_time": "2023-02-15T15:53:31.914Z"
   },
   {
    "duration": 4,
    "start_time": "2023-02-15T15:53:32.054Z"
   },
   {
    "duration": 38,
    "start_time": "2023-02-15T15:53:32.067Z"
   },
   {
    "duration": 4,
    "start_time": "2023-02-15T15:53:32.108Z"
   },
   {
    "duration": 1156,
    "start_time": "2023-02-15T15:53:32.114Z"
   },
   {
    "duration": 1203,
    "start_time": "2023-02-15T15:53:33.273Z"
   },
   {
    "duration": 1001,
    "start_time": "2023-02-15T15:53:34.569Z"
   },
   {
    "duration": 5,
    "start_time": "2023-02-15T16:07:08.200Z"
   },
   {
    "duration": 1002,
    "start_time": "2023-02-15T16:07:11.773Z"
   },
   {
    "duration": 1041,
    "start_time": "2023-02-15T16:07:17.140Z"
   },
   {
    "duration": 846,
    "start_time": "2023-02-15T16:07:20.229Z"
   },
   {
    "duration": 1243,
    "start_time": "2023-02-15T19:01:06.163Z"
   },
   {
    "duration": 313,
    "start_time": "2023-02-15T19:01:07.409Z"
   },
   {
    "duration": 379,
    "start_time": "2023-02-15T19:01:07.728Z"
   },
   {
    "duration": 21,
    "start_time": "2023-02-15T19:01:08.110Z"
   },
   {
    "duration": 147,
    "start_time": "2023-02-15T19:01:08.133Z"
   },
   {
    "duration": 3,
    "start_time": "2023-02-15T19:01:08.282Z"
   },
   {
    "duration": 39,
    "start_time": "2023-02-15T19:01:08.287Z"
   },
   {
    "duration": 5,
    "start_time": "2023-02-15T19:01:08.328Z"
   },
   {
    "duration": 746,
    "start_time": "2023-02-15T19:01:08.335Z"
   },
   {
    "duration": 1113,
    "start_time": "2023-02-15T19:01:09.168Z"
   },
   {
    "duration": 1395,
    "start_time": "2023-02-15T19:01:10.283Z"
   },
   {
    "duration": 87,
    "start_time": "2023-02-15T19:01:11.681Z"
   },
   {
    "duration": 103,
    "start_time": "2023-02-15T19:01:11.774Z"
   },
   {
    "duration": 1323,
    "start_time": "2023-02-16T10:18:14.722Z"
   },
   {
    "duration": 286,
    "start_time": "2023-02-16T10:18:16.047Z"
   },
   {
    "duration": 1107,
    "start_time": "2023-02-16T10:18:16.334Z"
   },
   {
    "duration": 21,
    "start_time": "2023-02-16T10:18:17.443Z"
   },
   {
    "duration": 133,
    "start_time": "2023-02-16T10:18:17.466Z"
   },
   {
    "duration": 3,
    "start_time": "2023-02-16T10:18:17.601Z"
   },
   {
    "duration": 65,
    "start_time": "2023-02-16T10:18:17.606Z"
   },
   {
    "duration": 5,
    "start_time": "2023-02-16T10:18:17.673Z"
   },
   {
    "duration": 1318,
    "start_time": "2023-02-16T10:18:17.679Z"
   },
   {
    "duration": 1197,
    "start_time": "2023-02-16T10:18:18.999Z"
   },
   {
    "duration": 1205,
    "start_time": "2023-02-16T10:18:20.203Z"
   },
   {
    "duration": 4,
    "start_time": "2023-02-16T10:18:21.497Z"
   },
   {
    "duration": 119,
    "start_time": "2023-02-16T10:18:21.504Z"
   },
   {
    "duration": 17,
    "start_time": "2023-02-16T10:18:21.625Z"
   },
   {
    "duration": 3,
    "start_time": "2023-02-16T10:38:58.742Z"
   },
   {
    "duration": 4,
    "start_time": "2023-02-16T10:39:00.251Z"
   },
   {
    "duration": 116,
    "start_time": "2023-02-16T10:41:54.558Z"
   },
   {
    "duration": 4,
    "start_time": "2023-02-16T10:41:56.556Z"
   },
   {
    "duration": 1146,
    "start_time": "2023-02-16T10:42:55.790Z"
   },
   {
    "duration": 293,
    "start_time": "2023-02-16T10:42:56.938Z"
   },
   {
    "duration": 0,
    "start_time": "2023-02-16T10:42:57.233Z"
   },
   {
    "duration": 0,
    "start_time": "2023-02-16T10:42:57.234Z"
   },
   {
    "duration": 0,
    "start_time": "2023-02-16T10:42:57.235Z"
   },
   {
    "duration": 0,
    "start_time": "2023-02-16T10:42:57.236Z"
   },
   {
    "duration": 0,
    "start_time": "2023-02-16T10:42:57.237Z"
   },
   {
    "duration": 0,
    "start_time": "2023-02-16T10:42:57.239Z"
   },
   {
    "duration": 0,
    "start_time": "2023-02-16T10:42:57.240Z"
   },
   {
    "duration": 0,
    "start_time": "2023-02-16T10:42:57.241Z"
   },
   {
    "duration": 0,
    "start_time": "2023-02-16T10:42:57.242Z"
   },
   {
    "duration": 0,
    "start_time": "2023-02-16T10:42:57.243Z"
   },
   {
    "duration": 0,
    "start_time": "2023-02-16T10:42:57.244Z"
   },
   {
    "duration": 0,
    "start_time": "2023-02-16T10:42:57.245Z"
   },
   {
    "duration": 0,
    "start_time": "2023-02-16T10:42:57.245Z"
   },
   {
    "duration": 0,
    "start_time": "2023-02-16T10:42:57.246Z"
   },
   {
    "duration": 1158,
    "start_time": "2023-02-16T10:43:20.769Z"
   },
   {
    "duration": 239,
    "start_time": "2023-02-16T10:43:21.928Z"
   },
   {
    "duration": 384,
    "start_time": "2023-02-16T10:43:22.169Z"
   },
   {
    "duration": 22,
    "start_time": "2023-02-16T10:43:22.555Z"
   },
   {
    "duration": 147,
    "start_time": "2023-02-16T10:43:22.579Z"
   },
   {
    "duration": 3,
    "start_time": "2023-02-16T10:43:22.728Z"
   },
   {
    "duration": 43,
    "start_time": "2023-02-16T10:43:22.733Z"
   },
   {
    "duration": 5,
    "start_time": "2023-02-16T10:43:22.778Z"
   },
   {
    "duration": 1301,
    "start_time": "2023-02-16T10:43:22.795Z"
   },
   {
    "duration": 1205,
    "start_time": "2023-02-16T10:43:24.100Z"
   },
   {
    "duration": 1289,
    "start_time": "2023-02-16T10:43:25.307Z"
   },
   {
    "duration": 4,
    "start_time": "2023-02-16T10:43:26.599Z"
   },
   {
    "duration": 99,
    "start_time": "2023-02-16T10:43:26.605Z"
   },
   {
    "duration": 9,
    "start_time": "2023-02-16T10:43:26.706Z"
   },
   {
    "duration": 5,
    "start_time": "2023-02-16T10:43:26.717Z"
   },
   {
    "duration": 2334,
    "start_time": "2023-02-16T10:43:26.723Z"
   },
   {
    "duration": 3,
    "start_time": "2023-02-16T11:02:12.732Z"
   },
   {
    "duration": 5,
    "start_time": "2023-02-16T11:02:14.485Z"
   },
   {
    "duration": 2226,
    "start_time": "2023-02-16T11:02:16.044Z"
   },
   {
    "duration": 4,
    "start_time": "2023-02-16T11:06:27.574Z"
   },
   {
    "duration": 1131,
    "start_time": "2023-02-16T11:07:02.631Z"
   },
   {
    "duration": 266,
    "start_time": "2023-02-16T11:07:03.764Z"
   },
   {
    "duration": 369,
    "start_time": "2023-02-16T11:07:04.032Z"
   },
   {
    "duration": 25,
    "start_time": "2023-02-16T11:07:04.403Z"
   },
   {
    "duration": 173,
    "start_time": "2023-02-16T11:07:04.431Z"
   },
   {
    "duration": 4,
    "start_time": "2023-02-16T11:07:04.606Z"
   },
   {
    "duration": 56,
    "start_time": "2023-02-16T11:07:04.611Z"
   },
   {
    "duration": 11,
    "start_time": "2023-02-16T11:07:04.668Z"
   },
   {
    "duration": 1316,
    "start_time": "2023-02-16T11:07:04.681Z"
   },
   {
    "duration": 1004,
    "start_time": "2023-02-16T11:07:05.999Z"
   },
   {
    "duration": 1291,
    "start_time": "2023-02-16T11:07:07.006Z"
   },
   {
    "duration": 4,
    "start_time": "2023-02-16T11:07:08.299Z"
   },
   {
    "duration": 126,
    "start_time": "2023-02-16T11:07:08.305Z"
   },
   {
    "duration": 24,
    "start_time": "2023-02-16T11:07:08.434Z"
   },
   {
    "duration": 15,
    "start_time": "2023-02-16T11:07:08.460Z"
   },
   {
    "duration": 2262,
    "start_time": "2023-02-16T11:07:08.476Z"
   },
   {
    "duration": 6,
    "start_time": "2023-02-16T11:07:10.740Z"
   },
   {
    "duration": 16,
    "start_time": "2023-02-16T11:07:10.748Z"
   },
   {
    "duration": 10,
    "start_time": "2023-02-16T11:07:10.766Z"
   },
   {
    "duration": 17,
    "start_time": "2023-02-16T11:07:10.797Z"
   },
   {
    "duration": 4,
    "start_time": "2023-02-16T11:08:11.337Z"
   },
   {
    "duration": 4,
    "start_time": "2023-02-16T11:08:16.945Z"
   },
   {
    "duration": 4,
    "start_time": "2023-02-16T11:08:19.031Z"
   },
   {
    "duration": 5,
    "start_time": "2023-02-16T11:08:20.384Z"
   },
   {
    "duration": 1179,
    "start_time": "2023-02-16T12:03:15.677Z"
   },
   {
    "duration": 263,
    "start_time": "2023-02-16T12:03:16.858Z"
   },
   {
    "duration": 386,
    "start_time": "2023-02-16T12:03:17.123Z"
   },
   {
    "duration": 21,
    "start_time": "2023-02-16T12:03:17.512Z"
   },
   {
    "duration": 146,
    "start_time": "2023-02-16T12:03:17.535Z"
   },
   {
    "duration": 3,
    "start_time": "2023-02-16T12:03:17.683Z"
   },
   {
    "duration": 39,
    "start_time": "2023-02-16T12:03:17.695Z"
   },
   {
    "duration": 5,
    "start_time": "2023-02-16T12:03:17.737Z"
   },
   {
    "duration": 1253,
    "start_time": "2023-02-16T12:03:17.744Z"
   },
   {
    "duration": 1193,
    "start_time": "2023-02-16T12:03:19.003Z"
   },
   {
    "duration": 1297,
    "start_time": "2023-02-16T12:03:20.199Z"
   },
   {
    "duration": 4,
    "start_time": "2023-02-16T12:03:21.499Z"
   },
   {
    "duration": 16,
    "start_time": "2023-02-16T12:03:21.596Z"
   },
   {
    "duration": 16,
    "start_time": "2023-02-16T12:03:21.614Z"
   },
   {
    "duration": 7,
    "start_time": "2023-02-16T12:03:21.631Z"
   },
   {
    "duration": 2365,
    "start_time": "2023-02-16T12:03:21.639Z"
   },
   {
    "duration": 4,
    "start_time": "2023-02-16T12:03:24.006Z"
   },
   {
    "duration": 8,
    "start_time": "2023-02-16T12:03:24.011Z"
   },
   {
    "duration": 10,
    "start_time": "2023-02-16T12:03:24.020Z"
   },
   {
    "duration": 8,
    "start_time": "2023-02-16T12:03:24.032Z"
   },
   {
    "duration": 1160,
    "start_time": "2023-02-16T12:08:26.154Z"
   },
   {
    "duration": 261,
    "start_time": "2023-02-16T12:08:27.316Z"
   },
   {
    "duration": 386,
    "start_time": "2023-02-16T12:08:27.578Z"
   },
   {
    "duration": 21,
    "start_time": "2023-02-16T12:08:27.966Z"
   },
   {
    "duration": 142,
    "start_time": "2023-02-16T12:08:27.996Z"
   },
   {
    "duration": 4,
    "start_time": "2023-02-16T12:08:28.139Z"
   },
   {
    "duration": 51,
    "start_time": "2023-02-16T12:08:28.145Z"
   },
   {
    "duration": 5,
    "start_time": "2023-02-16T12:08:28.198Z"
   },
   {
    "duration": 1203,
    "start_time": "2023-02-16T12:08:28.204Z"
   },
   {
    "duration": 1299,
    "start_time": "2023-02-16T12:08:29.497Z"
   },
   {
    "duration": 1296,
    "start_time": "2023-02-16T12:08:30.801Z"
   },
   {
    "duration": 92,
    "start_time": "2023-02-16T12:08:32.104Z"
   },
   {
    "duration": 16,
    "start_time": "2023-02-16T12:08:32.197Z"
   },
   {
    "duration": 18,
    "start_time": "2023-02-16T12:08:32.216Z"
   },
   {
    "duration": 34,
    "start_time": "2023-02-16T12:08:32.236Z"
   },
   {
    "duration": 2445,
    "start_time": "2023-02-16T12:08:32.271Z"
   },
   {
    "duration": 4,
    "start_time": "2023-02-16T12:08:34.717Z"
   },
   {
    "duration": 12,
    "start_time": "2023-02-16T12:08:34.723Z"
   },
   {
    "duration": 5,
    "start_time": "2023-02-16T12:08:34.737Z"
   },
   {
    "duration": 7,
    "start_time": "2023-02-16T12:08:34.744Z"
   },
   {
    "duration": 1156,
    "start_time": "2023-02-16T13:10:25.284Z"
   },
   {
    "duration": 526,
    "start_time": "2023-02-16T13:10:26.442Z"
   },
   {
    "duration": 1460,
    "start_time": "2023-02-16T13:10:28.654Z"
   },
   {
    "duration": 20,
    "start_time": "2023-02-16T13:10:32.422Z"
   },
   {
    "duration": 123,
    "start_time": "2023-02-16T13:10:35.373Z"
   },
   {
    "duration": 3,
    "start_time": "2023-02-16T13:11:14.773Z"
   },
   {
    "duration": 38,
    "start_time": "2023-02-16T13:11:16.231Z"
   },
   {
    "duration": 5,
    "start_time": "2023-02-16T13:12:12.411Z"
   },
   {
    "duration": 1202,
    "start_time": "2023-02-16T13:13:05.715Z"
   },
   {
    "duration": 994,
    "start_time": "2023-02-16T13:13:06.920Z"
   },
   {
    "duration": 663,
    "start_time": "2023-02-16T13:13:16.048Z"
   },
   {
    "duration": 3,
    "start_time": "2023-02-16T13:14:11.850Z"
   },
   {
    "duration": 3,
    "start_time": "2023-02-16T13:14:21.945Z"
   },
   {
    "duration": 5,
    "start_time": "2023-02-16T13:14:23.393Z"
   },
   {
    "duration": 3,
    "start_time": "2023-02-16T13:15:30.507Z"
   },
   {
    "duration": 4,
    "start_time": "2023-02-16T13:16:44.913Z"
   },
   {
    "duration": 2340,
    "start_time": "2023-02-16T13:16:45.371Z"
   },
   {
    "duration": 5,
    "start_time": "2023-02-16T13:18:05.857Z"
   },
   {
    "duration": 2846,
    "start_time": "2023-02-16T13:18:06.946Z"
   },
   {
    "duration": 4,
    "start_time": "2023-02-16T13:18:10.409Z"
   },
   {
    "duration": 6,
    "start_time": "2023-02-16T13:18:11.148Z"
   },
   {
    "duration": 5,
    "start_time": "2023-02-16T13:18:11.739Z"
   },
   {
    "duration": 6,
    "start_time": "2023-02-16T13:18:13.582Z"
   },
   {
    "duration": 6,
    "start_time": "2023-02-16T13:18:33.923Z"
   },
   {
    "duration": 5,
    "start_time": "2023-02-16T13:19:16.163Z"
   },
   {
    "duration": 7,
    "start_time": "2023-02-16T13:19:38.076Z"
   },
   {
    "duration": 4,
    "start_time": "2023-02-16T13:20:09.048Z"
   },
   {
    "duration": 133792,
    "start_time": "2023-02-16T13:20:11.109Z"
   },
   {
    "duration": 4,
    "start_time": "2023-02-16T13:24:06.308Z"
   },
   {
    "duration": 4,
    "start_time": "2023-02-16T13:24:07.619Z"
   },
   {
    "duration": 111659,
    "start_time": "2023-02-16T13:24:09.337Z"
   },
   {
    "duration": 5,
    "start_time": "2023-02-16T13:26:22.865Z"
   },
   {
    "duration": 85148,
    "start_time": "2023-02-16T13:26:23.943Z"
   },
   {
    "duration": 3,
    "start_time": "2023-02-16T13:27:56.951Z"
   },
   {
    "duration": 4,
    "start_time": "2023-02-16T13:27:58.266Z"
   },
   {
    "duration": 2314,
    "start_time": "2023-02-16T13:27:58.959Z"
   },
   {
    "duration": 4,
    "start_time": "2023-02-16T13:28:12.358Z"
   },
   {
    "duration": 5,
    "start_time": "2023-02-16T13:28:12.708Z"
   },
   {
    "duration": 6,
    "start_time": "2023-02-16T13:28:13.146Z"
   },
   {
    "duration": 5,
    "start_time": "2023-02-16T13:28:13.681Z"
   }
  ],
  "kernelspec": {
   "display_name": "Python 3 (ipykernel)",
   "language": "python",
   "name": "python3"
  },
  "language_info": {
   "codemirror_mode": {
    "name": "ipython",
    "version": 3
   },
   "file_extension": ".py",
   "mimetype": "text/x-python",
   "name": "python",
   "nbconvert_exporter": "python",
   "pygments_lexer": "ipython3",
   "version": "3.9.5"
  },
  "toc": {
   "base_numbering": 1,
   "nav_menu": {},
   "number_sections": true,
   "sideBar": true,
   "skip_h1_title": true,
   "title_cell": "Table of Contents",
   "title_sidebar": "Contents",
   "toc_cell": false,
   "toc_position": {},
   "toc_section_display": true,
   "toc_window_display": false
  }
 },
 "nbformat": 4,
 "nbformat_minor": 2
}
