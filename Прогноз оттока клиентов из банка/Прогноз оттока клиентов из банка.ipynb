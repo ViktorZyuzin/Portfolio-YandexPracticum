{
 "cells": [
  {
   "cell_type": "markdown",
   "metadata": {},
   "source": [
    "# Отток клиентов"
   ]
  },
  {
   "cell_type": "markdown",
   "metadata": {},
   "source": [
    "Из «Бета-Банка» стали уходить клиенты. Каждый месяц. Немного, но заметно. Банковские маркетологи посчитали: сохранять текущих клиентов дешевле, чем привлекать новых.\n",
    "\n",
    "Нужно спрогнозировать, уйдёт клиент из банка в ближайшее время или нет. Вам предоставлены исторические данные о поведении клиентов и расторжении договоров с банком. \n",
    "\n",
    "Постройте модель с предельно большим значением *F1*-меры. Чтобы сдать проект успешно, нужно довести метрику до 0.59. Проверьте *F1*-меру на тестовой выборке самостоятельно.\n",
    "\n",
    "Дополнительно измеряйте *AUC-ROC*, сравнивайте её значение с *F1*-мерой.\n",
    "\n",
    "Источник данных: [https://www.kaggle.com/barelydedicated/bank-customer-churn-modeling](https://www.kaggle.com/barelydedicated/bank-customer-churn-modeling)"
   ]
  },
  {
   "cell_type": "markdown",
   "metadata": {},
   "source": [
    "## Подготовка данных"
   ]
  },
  {
   "cell_type": "markdown",
   "metadata": {},
   "source": [
    "Импортируем необходимые библеотеки"
   ]
  },
  {
   "cell_type": "code",
   "execution_count": 1,
   "metadata": {},
   "outputs": [],
   "source": [
    "import pandas as pd\n",
    "from sklearn import metrics\n",
    "from sklearn.metrics import roc_auc_score, confusion_matrix, recall_score, precision_score, f1_score\n",
    "from sklearn.preprocessing import StandardScaler\n",
    "from sklearn.tree import DecisionTreeClassifier\n",
    "from sklearn.ensemble import RandomForestClassifier\n",
    "from sklearn.linear_model import LogisticRegression\n",
    "from sklearn.model_selection import train_test_split, GridSearchCV\n",
    "from sklearn.utils import shuffle\n",
    "from sklearn.metrics import precision_recall_curve\n",
    "from sklearn.metrics import roc_curve\n",
    "from sklearn.metrics import mean_absolute_error\n",
    "from sklearn.metrics import r2_score\n",
    "from matplotlib import cm\n",
    "import matplotlib.pyplot as plt\n",
    "import numpy as np\n",
    "import itertools\n",
    "import operator\n",
    "import seaborn as sns\n",
    "sns.set()\n",
    "import warnings\n",
    "warnings.filterwarnings('ignore')"
   ]
  },
  {
   "cell_type": "code",
   "execution_count": 2,
   "metadata": {},
   "outputs": [
    {
     "name": "stdout",
     "output_type": "stream",
     "text": [
      "(10000, 14)\n",
      "\n",
      "<class 'pandas.core.frame.DataFrame'>\n",
      "RangeIndex: 10000 entries, 0 to 9999\n",
      "Data columns (total 14 columns):\n",
      " #   Column           Non-Null Count  Dtype  \n",
      "---  ------           --------------  -----  \n",
      " 0   RowNumber        10000 non-null  int64  \n",
      " 1   CustomerId       10000 non-null  int64  \n",
      " 2   Surname          10000 non-null  object \n",
      " 3   CreditScore      10000 non-null  int64  \n",
      " 4   Geography        10000 non-null  object \n",
      " 5   Gender           10000 non-null  object \n",
      " 6   Age              10000 non-null  int64  \n",
      " 7   Tenure           9091 non-null   float64\n",
      " 8   Balance          10000 non-null  float64\n",
      " 9   NumOfProducts    10000 non-null  int64  \n",
      " 10  HasCrCard        10000 non-null  int64  \n",
      " 11  IsActiveMember   10000 non-null  int64  \n",
      " 12  EstimatedSalary  10000 non-null  float64\n",
      " 13  Exited           10000 non-null  int64  \n",
      "dtypes: float64(3), int64(8), object(3)\n",
      "memory usage: 1.1+ MB\n",
      "None\n",
      "\n"
     ]
    },
    {
     "data": {
      "text/html": [
       "<div>\n",
       "<style scoped>\n",
       "    .dataframe tbody tr th:only-of-type {\n",
       "        vertical-align: middle;\n",
       "    }\n",
       "\n",
       "    .dataframe tbody tr th {\n",
       "        vertical-align: top;\n",
       "    }\n",
       "\n",
       "    .dataframe thead th {\n",
       "        text-align: right;\n",
       "    }\n",
       "</style>\n",
       "<table border=\"1\" class=\"dataframe\">\n",
       "  <thead>\n",
       "    <tr style=\"text-align: right;\">\n",
       "      <th></th>\n",
       "      <th>RowNumber</th>\n",
       "      <th>CustomerId</th>\n",
       "      <th>Surname</th>\n",
       "      <th>CreditScore</th>\n",
       "      <th>Geography</th>\n",
       "      <th>Gender</th>\n",
       "      <th>Age</th>\n",
       "      <th>Tenure</th>\n",
       "      <th>Balance</th>\n",
       "      <th>NumOfProducts</th>\n",
       "      <th>HasCrCard</th>\n",
       "      <th>IsActiveMember</th>\n",
       "      <th>EstimatedSalary</th>\n",
       "      <th>Exited</th>\n",
       "    </tr>\n",
       "  </thead>\n",
       "  <tbody>\n",
       "    <tr>\n",
       "      <th>0</th>\n",
       "      <td>1</td>\n",
       "      <td>15634602</td>\n",
       "      <td>Hargrave</td>\n",
       "      <td>619</td>\n",
       "      <td>France</td>\n",
       "      <td>Female</td>\n",
       "      <td>42</td>\n",
       "      <td>2.0</td>\n",
       "      <td>0.00</td>\n",
       "      <td>1</td>\n",
       "      <td>1</td>\n",
       "      <td>1</td>\n",
       "      <td>101348.88</td>\n",
       "      <td>1</td>\n",
       "    </tr>\n",
       "    <tr>\n",
       "      <th>1</th>\n",
       "      <td>2</td>\n",
       "      <td>15647311</td>\n",
       "      <td>Hill</td>\n",
       "      <td>608</td>\n",
       "      <td>Spain</td>\n",
       "      <td>Female</td>\n",
       "      <td>41</td>\n",
       "      <td>1.0</td>\n",
       "      <td>83807.86</td>\n",
       "      <td>1</td>\n",
       "      <td>0</td>\n",
       "      <td>1</td>\n",
       "      <td>112542.58</td>\n",
       "      <td>0</td>\n",
       "    </tr>\n",
       "    <tr>\n",
       "      <th>2</th>\n",
       "      <td>3</td>\n",
       "      <td>15619304</td>\n",
       "      <td>Onio</td>\n",
       "      <td>502</td>\n",
       "      <td>France</td>\n",
       "      <td>Female</td>\n",
       "      <td>42</td>\n",
       "      <td>8.0</td>\n",
       "      <td>159660.80</td>\n",
       "      <td>3</td>\n",
       "      <td>1</td>\n",
       "      <td>0</td>\n",
       "      <td>113931.57</td>\n",
       "      <td>1</td>\n",
       "    </tr>\n",
       "    <tr>\n",
       "      <th>3</th>\n",
       "      <td>4</td>\n",
       "      <td>15701354</td>\n",
       "      <td>Boni</td>\n",
       "      <td>699</td>\n",
       "      <td>France</td>\n",
       "      <td>Female</td>\n",
       "      <td>39</td>\n",
       "      <td>1.0</td>\n",
       "      <td>0.00</td>\n",
       "      <td>2</td>\n",
       "      <td>0</td>\n",
       "      <td>0</td>\n",
       "      <td>93826.63</td>\n",
       "      <td>0</td>\n",
       "    </tr>\n",
       "    <tr>\n",
       "      <th>4</th>\n",
       "      <td>5</td>\n",
       "      <td>15737888</td>\n",
       "      <td>Mitchell</td>\n",
       "      <td>850</td>\n",
       "      <td>Spain</td>\n",
       "      <td>Female</td>\n",
       "      <td>43</td>\n",
       "      <td>2.0</td>\n",
       "      <td>125510.82</td>\n",
       "      <td>1</td>\n",
       "      <td>1</td>\n",
       "      <td>1</td>\n",
       "      <td>79084.10</td>\n",
       "      <td>0</td>\n",
       "    </tr>\n",
       "  </tbody>\n",
       "</table>\n",
       "</div>"
      ],
      "text/plain": [
       "   RowNumber  CustomerId   Surname  CreditScore Geography  Gender  Age  \\\n",
       "0          1    15634602  Hargrave          619    France  Female   42   \n",
       "1          2    15647311      Hill          608     Spain  Female   41   \n",
       "2          3    15619304      Onio          502    France  Female   42   \n",
       "3          4    15701354      Boni          699    France  Female   39   \n",
       "4          5    15737888  Mitchell          850     Spain  Female   43   \n",
       "\n",
       "   Tenure    Balance  NumOfProducts  HasCrCard  IsActiveMember  \\\n",
       "0     2.0       0.00              1          1               1   \n",
       "1     1.0   83807.86              1          0               1   \n",
       "2     8.0  159660.80              3          1               0   \n",
       "3     1.0       0.00              2          0               0   \n",
       "4     2.0  125510.82              1          1               1   \n",
       "\n",
       "   EstimatedSalary  Exited  \n",
       "0        101348.88       1  \n",
       "1        112542.58       0  \n",
       "2        113931.57       1  \n",
       "3         93826.63       0  \n",
       "4         79084.10       0  "
      ]
     },
     "execution_count": 2,
     "metadata": {},
     "output_type": "execute_result"
    }
   ],
   "source": [
    "data = pd.read_csv('/datasets/Churn.csv')\n",
    "print(data.shape)\n",
    "print()\n",
    "print(data.info())\n",
    "print()\n",
    "data.head()"
   ]
  },
  {
   "cell_type": "markdown",
   "metadata": {},
   "source": [
    "В столбце Tenure имеются пропуски. Проведем предобработку данных. \n",
    "Обработаем пропуски, заменим названия столбцов согласно правилу оформления, удалим столбцы которые нам не нужны, преобразуем колонки с категориальными данными в числовые по принципу OHE "
   ]
  },
  {
   "cell_type": "code",
   "execution_count": 3,
   "metadata": {},
   "outputs": [
    {
     "data": {
      "text/plain": [
       "Index(['RowNumber', 'CustomerId', 'Surname', 'CreditScore', 'Geography',\n",
       "       'Gender', 'Age', 'Tenure', 'Balance', 'NumOfProducts', 'HasCrCard',\n",
       "       'IsActiveMember', 'EstimatedSalary', 'Exited'],\n",
       "      dtype='object')"
      ]
     },
     "execution_count": 3,
     "metadata": {},
     "output_type": "execute_result"
    }
   ],
   "source": [
    "data.columns"
   ]
  },
  {
   "cell_type": "code",
   "execution_count": 4,
   "metadata": {},
   "outputs": [],
   "source": [
    "#Переименуем колонки\n",
    "data.set_axis(['row_number',\n",
    "             'customer_id', \n",
    "             'surname', \n",
    "             'credit_score', \n",
    "             'geography', \n",
    "             'gender', \n",
    "             'age', \n",
    "             'tenure', \n",
    "             'balance', \n",
    "             'products_num', \n",
    "             'has_cr_card', \n",
    "             'is_active', \n",
    "             'salary', \n",
    "             'exited'], axis=1, inplace=True)"
   ]
  },
  {
   "cell_type": "code",
   "execution_count": 5,
   "metadata": {},
   "outputs": [
    {
     "data": {
      "text/plain": [
       "Index(['row_number', 'customer_id', 'surname', 'credit_score', 'geography',\n",
       "       'gender', 'age', 'tenure', 'balance', 'products_num', 'has_cr_card',\n",
       "       'is_active', 'salary', 'exited'],\n",
       "      dtype='object')"
      ]
     },
     "execution_count": 5,
     "metadata": {},
     "output_type": "execute_result"
    }
   ],
   "source": [
    "data.columns"
   ]
  },
  {
   "cell_type": "code",
   "execution_count": 6,
   "metadata": {},
   "outputs": [],
   "source": [
    "#Удалим колонки row_number, customer_id, surname\n",
    "data = data.drop(['row_number', 'customer_id', 'surname'], axis=1)"
   ]
  },
  {
   "cell_type": "code",
   "execution_count": 7,
   "metadata": {},
   "outputs": [],
   "source": [
    "#Заменим пропуски медианным значением, данные восстановить нет возможности\n",
    "ten_medi = data['tenure'].median()\n",
    "data['tenure'].fillna(ten_medi, inplace=True)\n",
    "data['tenure'] = data['tenure'].astype('int64')\n",
    "\n",
    "#print(data['tenure'].unique())"
   ]
  },
  {
   "cell_type": "code",
   "execution_count": 8,
   "metadata": {},
   "outputs": [],
   "source": [
    "#Колонки с категориальными данными преобразуем в числовые по принципу OHE (one hot encoding)\n",
    "data_ohe = pd.get_dummies(data, drop_first=True)"
   ]
  },
  {
   "cell_type": "code",
   "execution_count": 9,
   "metadata": {},
   "outputs": [
    {
     "data": {
      "text/plain": [
       "0"
      ]
     },
     "execution_count": 9,
     "metadata": {},
     "output_type": "execute_result"
    }
   ],
   "source": [
    "#Проверим данные на дубликаты\n",
    "\n",
    "data.duplicated().sum()"
   ]
  },
  {
   "cell_type": "code",
   "execution_count": 10,
   "metadata": {},
   "outputs": [],
   "source": [
    "target = data_ohe['exited']\n",
    "features = data_ohe.drop('exited', axis=1)"
   ]
  },
  {
   "cell_type": "code",
   "execution_count": 11,
   "metadata": {},
   "outputs": [],
   "source": [
    "#Разобъем данные на обучающую, валидационную и тестовую выборки в соотношении 60/20/20\n",
    "\n",
    "features_train, features_valid, target_train, target_valid = train_test_split(\n",
    "    features, target, test_size=0.4, random_state=12345) \n",
    "\n",
    "features_valid, features_test, target_valid, target_test = train_test_split(\n",
    "    features_valid, target_valid, test_size=0.5, random_state=12345) "
   ]
  },
  {
   "cell_type": "code",
   "execution_count": 12,
   "metadata": {},
   "outputs": [
    {
     "name": "stdout",
     "output_type": "stream",
     "text": [
      "Размер всего датасета: (10000, 12)\n",
      "Размер features_train: (6000, 11)\n",
      "Размер features_valid: (2000, 11)\n",
      "Размер features_test: (2000, 11)\n",
      "Размер target_train: (6000,)\n",
      "Размер target_valid: (2000,)\n",
      "Размер target_test: (2000,)\n"
     ]
    }
   ],
   "source": [
    "# Убедимся в правильности разделения датасета\n",
    "\n",
    "print('Размер всего датасета:', data_ohe.shape)\n",
    "print('Размер features_train:', features_train.shape)\n",
    "print('Размер features_valid:', features_valid.shape)\n",
    "print('Размер features_test:', features_test.shape)\n",
    "print('Размер target_train:', target_train.shape)\n",
    "print('Размер target_valid:', target_valid.shape)\n",
    "print('Размер target_test:', target_test.shape)"
   ]
  },
  {
   "cell_type": "code",
   "execution_count": 13,
   "metadata": {},
   "outputs": [],
   "source": [
    "#Стандартизируем числовые вещественные данные\n",
    "\n",
    "numeric = ['credit_score', 'age', 'tenure', 'balance', 'products_num', 'salary']\n",
    "\n",
    "scaler = StandardScaler()\n",
    "scaler.fit(features_train[numeric])\n",
    "features_train[numeric] = scaler.transform(features_train[numeric]) \n",
    "features_valid[numeric] = scaler.transform(features_valid[numeric])\n",
    "features_test[numeric] = scaler.transform(features_test[numeric]) "
   ]
  },
  {
   "cell_type": "code",
   "execution_count": 14,
   "metadata": {
    "scrolled": true
   },
   "outputs": [
    {
     "name": "stdout",
     "output_type": "stream",
     "text": [
      "      credit_score       age    tenure   balance  products_num  has_cr_card  \\\n",
      "7479     -0.886751 -0.373192  1.082277  1.232271     -0.891560            1   \n",
      "3411      0.608663 -0.183385  1.082277  0.600563     -0.891560            0   \n",
      "6027      2.052152  0.480939 -0.737696  1.027098      0.830152            0   \n",
      "1247     -1.457915 -1.417129  0.354288 -1.233163      0.830152            1   \n",
      "3716      0.130961 -1.132419 -1.101690  1.140475     -0.891560            0   \n",
      "\n",
      "      is_active    salary  geography_Germany  geography_Spain  gender_Male  \n",
      "7479          0 -0.187705                  0                1            1  \n",
      "3411          0 -0.333945                  0                0            0  \n",
      "6027          1  1.503095                  1                0            1  \n",
      "1247          0 -1.071061                  0                0            1  \n",
      "3716          0  1.524268                  1                0            0  \n"
     ]
    }
   ],
   "source": [
    "print(features_train.head())"
   ]
  },
  {
   "cell_type": "code",
   "execution_count": 15,
   "metadata": {},
   "outputs": [
    {
     "name": "stdout",
     "output_type": "stream",
     "text": [
      "      credit_score       age    tenure   balance  products_num  has_cr_card  \\\n",
      "7041     -2.226392 -0.088482 -1.101690 -1.233163      0.830152            1   \n",
      "5709     -0.087120  0.006422  1.446272 -1.233163     -0.891560            1   \n",
      "7117     -0.917905 -0.752805 -0.009707  0.722307     -0.891560            1   \n",
      "7775     -0.253277  0.101325  1.810266 -1.233163      0.830152            1   \n",
      "8735      0.785204 -0.847708  1.810266  0.615625     -0.891560            0   \n",
      "\n",
      "      is_active    salary  geography_Germany  geography_Spain  gender_Male  \n",
      "7041          0  0.647083                  0                0            1  \n",
      "5709          0 -1.658410                  0                0            0  \n",
      "7117          1 -1.369334                  0                1            1  \n",
      "7775          0  0.075086                  0                1            1  \n",
      "8735          1 -1.070919                  0                0            1  \n"
     ]
    }
   ],
   "source": [
    "print(features_test.head())"
   ]
  },
  {
   "cell_type": "markdown",
   "metadata": {},
   "source": [
    "Вывод:\n",
    "Сделана предварительная замена значений признака 'tenure' (кол-во лет в банке), заменили на нулевые значения. Завышение значения кол-ва лет повышает кредитный рейтинг клиента, что влияет на надежность. Следовательно, чтобы минимизировать риски, пропущенные данные рекомендуется заменить на ноль.\n",
    "\n",
    "Убрали из выборки колонки row_number, customer_id, surname, колонки с категориальными данными преобразовали в числовые по принципу OHE. Колонки с числовыми вещественными данными подвергли стандартизации."
   ]
  },
  {
   "cell_type": "markdown",
   "metadata": {},
   "source": [
    "## Исследование задачи"
   ]
  },
  {
   "cell_type": "code",
   "execution_count": 16,
   "metadata": {},
   "outputs": [
    {
     "name": "stdout",
     "output_type": "stream",
     "text": [
      "<class 'pandas.core.frame.DataFrame'>\n",
      "RangeIndex: 10000 entries, 0 to 9999\n",
      "Data columns (total 11 columns):\n",
      " #   Column        Non-Null Count  Dtype  \n",
      "---  ------        --------------  -----  \n",
      " 0   credit_score  10000 non-null  int64  \n",
      " 1   geography     10000 non-null  object \n",
      " 2   gender        10000 non-null  object \n",
      " 3   age           10000 non-null  int64  \n",
      " 4   tenure        10000 non-null  int64  \n",
      " 5   balance       10000 non-null  float64\n",
      " 6   products_num  10000 non-null  int64  \n",
      " 7   has_cr_card   10000 non-null  int64  \n",
      " 8   is_active     10000 non-null  int64  \n",
      " 9   salary        10000 non-null  float64\n",
      " 10  exited        10000 non-null  int64  \n",
      "dtypes: float64(2), int64(7), object(2)\n",
      "memory usage: 859.5+ KB\n"
     ]
    }
   ],
   "source": [
    "data.info()"
   ]
  },
  {
   "cell_type": "code",
   "execution_count": 17,
   "metadata": {},
   "outputs": [
    {
     "name": "stdout",
     "output_type": "stream",
     "text": [
      "<class 'pandas.core.frame.DataFrame'>\n",
      "RangeIndex: 10000 entries, 0 to 9999\n",
      "Data columns (total 12 columns):\n",
      " #   Column             Non-Null Count  Dtype  \n",
      "---  ------             --------------  -----  \n",
      " 0   credit_score       10000 non-null  int64  \n",
      " 1   age                10000 non-null  int64  \n",
      " 2   tenure             10000 non-null  int64  \n",
      " 3   balance            10000 non-null  float64\n",
      " 4   products_num       10000 non-null  int64  \n",
      " 5   has_cr_card        10000 non-null  int64  \n",
      " 6   is_active          10000 non-null  int64  \n",
      " 7   salary             10000 non-null  float64\n",
      " 8   exited             10000 non-null  int64  \n",
      " 9   geography_Germany  10000 non-null  uint8  \n",
      " 10  geography_Spain    10000 non-null  uint8  \n",
      " 11  gender_Male        10000 non-null  uint8  \n",
      "dtypes: float64(2), int64(7), uint8(3)\n",
      "memory usage: 732.5 KB\n"
     ]
    }
   ],
   "source": [
    "data_ohe.info()"
   ]
  },
  {
   "cell_type": "code",
   "execution_count": 18,
   "metadata": {},
   "outputs": [
    {
     "name": "stdout",
     "output_type": "stream",
     "text": [
      "Лучший результат F1: \n",
      "\n",
      " 0.5696969696969697 \n",
      " глубина: 6\n",
      "\n",
      "[[1479  103]\n",
      " [ 226  192]]\n"
     ]
    }
   ],
   "source": [
    "#Проведем анализ баланса классов\n",
    "best_model_dt = None\n",
    "best_depth = 0\n",
    "best_result = 0\n",
    "\n",
    "for depth in range(1, 11):    \n",
    "    model = DecisionTreeClassifier(random_state=12345, max_depth=depth)\n",
    "    model.fit(features_train, target_train)\n",
    "    predicted_valid = model.predict(features_valid)\n",
    "    result = f1_score(target_valid, predicted_valid)\n",
    "    if result > best_result:\n",
    "        best_result = result\n",
    "        best_model_dt = model\n",
    "        best_depth = depth\n",
    "        \n",
    "        \n",
    "print('Лучший результат F1: \\n\\n', best_result,\\\n",
    "      '\\n глубина:', best_depth)\n",
    "print()\n",
    "print(confusion_matrix(target_valid, predicted_valid))"
   ]
  },
  {
   "cell_type": "code",
   "execution_count": 19,
   "metadata": {},
   "outputs": [
    {
     "name": "stdout",
     "output_type": "stream",
     "text": [
      "Дисбаланс классов на тренировочной выборке = 4.02\n",
      "Дисбаланс классов на тестовой выборке = 3.73\n",
      "Дисбаланс классов = 3.9091801669121256\n"
     ]
    }
   ],
   "source": [
    "print('Дисбаланс классов на тренировочной выборке =',\\\n",
    "      round(target_train[target_train==0].count()/target_train[target_train==1].count(),2))\n",
    "print('Дисбаланс классов на тестовой выборке =',\\\n",
    "      round(target_test[target_test==0].count()/target_test[target_test==1].count(),2))\n",
    "print('Дисбаланс классов =',\\\n",
    "      (target[target==0].count()/target[target==1].count()))"
   ]
  },
  {
   "cell_type": "code",
   "execution_count": 20,
   "metadata": {},
   "outputs": [
    {
     "data": {
      "text/plain": [
       "0.45933014354066987"
      ]
     },
     "execution_count": 20,
     "metadata": {},
     "output_type": "execute_result"
    }
   ],
   "source": [
    "#Расчитаем полноту и точность прогноза\n",
    "recall_score(target_valid, predicted_valid)"
   ]
  },
  {
   "cell_type": "code",
   "execution_count": 21,
   "metadata": {},
   "outputs": [
    {
     "data": {
      "text/plain": [
       "0.6508474576271186"
      ]
     },
     "execution_count": 21,
     "metadata": {},
     "output_type": "execute_result"
    }
   ],
   "source": [
    "precision_score(target_valid, predicted_valid)"
   ]
  },
  {
   "cell_type": "code",
   "execution_count": 22,
   "metadata": {},
   "outputs": [
    {
     "name": "stdout",
     "output_type": "stream",
     "text": [
      "0.7657619511368929\n"
     ]
    }
   ],
   "source": [
    "probabilities_b = model.predict_proba(features_valid)\n",
    "probabilities_one_valid_b = probabilities_b[:, 1]\n",
    "auc_roc_b = roc_auc_score(target_valid, probabilities_one_valid_b)\n",
    "\n",
    "print(auc_roc_b)"
   ]
  },
  {
   "cell_type": "code",
   "execution_count": 23,
   "metadata": {},
   "outputs": [
    {
     "data": {
      "image/png": "[encoded data removed]",
      "text/plain": [
       "<Figure size 288x288 with 1 Axes>"
      ]
     },
     "metadata": {},
     "output_type": "display_data"
    }
   ],
   "source": [
    "fpr, tpr, thresholds = roc_curve(target_valid, probabilities_one_valid_b) \n",
    "\n",
    "plt.figure(figsize=(4, 4))\n",
    "\n",
    "plt.plot(fpr, tpr)\n",
    "\n",
    "# ROC-кривая случайной модели \n",
    "plt.plot([0, 1], [0, 1], linestyle='--')\n",
    "\n",
    "plt.xlim([0.0, 1.0])\n",
    "plt.ylim([0.0, 1.0])\n",
    "\n",
    "plt.xlabel(\"FPR\")\n",
    "plt.ylabel(\"TPR\")\n",
    "\n",
    "plt.title(\"ROC-кривая\")\n",
    "\n",
    "plt.show()"
   ]
  },
  {
   "cell_type": "markdown",
   "metadata": {},
   "source": [
    "F1 мера равна 0.569. Это значение ниже заданной минимальной - 0.59"
   ]
  },
  {
   "cell_type": "markdown",
   "metadata": {},
   "source": [
    "Проведем обучение модели Случайного леса и подберем параметры"
   ]
  },
  {
   "cell_type": "code",
   "execution_count": 24,
   "metadata": {},
   "outputs": [
    {
     "name": "stdout",
     "output_type": "stream",
     "text": [
      "Лучший результат f1: \n",
      "\n",
      " 0.5908419497784343 \n",
      " глубина: 7 \n",
      " число деревьев 5\n",
      "\n",
      "roc_auc_rf: 0.8368230511919379\n"
     ]
    }
   ],
   "source": [
    "# Проведем исследование модели класса Случайный лес.\n",
    "best_model_rf = None\n",
    "best_depth = 0\n",
    "best_result = 0\n",
    "best_est = 0\n",
    "\n",
    "for est in range(1, 50, 2):\n",
    "    for depth in range(1, 50, 2):\n",
    "    \n",
    "        model = RandomForestClassifier(random_state=12345, max_depth=depth, n_estimators=est)\n",
    "        model.fit(features_train, target_train)\n",
    "        predicted_valid = model.predict(features_valid)\n",
    "        result = f1_score(target_valid, predicted_valid)\n",
    "        probabilities_rf = model.predict_proba(features_valid)\n",
    "        probabilities_one_valid_rf = probabilities_rf[:, 1]\n",
    "        if result > best_result:\n",
    "            best_result = result\n",
    "            best_model_rf = model\n",
    "            best_depth = depth\n",
    "            best_est = est\n",
    "                \n",
    "print('Лучший результат f1: \\n\\n', \\\n",
    "      best_result, '\\n глубина:', best_depth, '\\n число деревьев', best_est)\n",
    "print()\n",
    "print('roc_auc_rf:', roc_auc_score(target_valid, probabilities_one_valid_rf))"
   ]
  },
  {
   "cell_type": "markdown",
   "metadata": {},
   "source": [
    "Для несбалансированной модели на алгоритме случайного леса максимальная метрика F1 наблюдается при глубине равной 7 и количестве деревьев 5 и составляет 0.590, что равно порогу 0.59"
   ]
  },
  {
   "cell_type": "markdown",
   "metadata": {},
   "source": [
    "Проведем обучение модели Логистической регрессии "
   ]
  },
  {
   "cell_type": "code",
   "execution_count": 25,
   "metadata": {},
   "outputs": [
    {
     "name": "stdout",
     "output_type": "stream",
     "text": [
      "F1: 0.33108108108108103\n",
      "roc_auc_score: 0.7587512627102753\n"
     ]
    }
   ],
   "source": [
    "model = LogisticRegression(random_state=12345, solver='liblinear', max_iter=1000)\n",
    "model.fit(features_train, target_train)\n",
    "predicted_valid = model.predict(features_valid)\n",
    "\n",
    "probabilities_valid_l = model.predict_proba(features_valid)\n",
    "probabilities_one_valid_l = probabilities_valid_l[:, 1]\n",
    "\n",
    "print('F1:', f1_score(target_valid, predicted_valid))\n",
    "print('roc_auc_score:',roc_auc_score(target_valid, probabilities_one_valid_l))"
   ]
  },
  {
   "cell_type": "markdown",
   "metadata": {},
   "source": [
    "Метрика F1 на логистической регрессии равна 0.33, что значительно ниже порогового 0.59 и является наихудшим результатом"
   ]
  },
  {
   "cell_type": "code",
   "execution_count": 26,
   "metadata": {},
   "outputs": [],
   "source": [
    "model = RandomForestClassifier(random_state=12345, n_estimators=5, max_depth=7)\n",
    "model.fit(features_train, target_train)\n",
    "probabilities_valid_u = model.predict_proba(features_valid)\n",
    "probabilities_one_valid_u = probabilities_valid_u[:, 1]"
   ]
  },
  {
   "cell_type": "code",
   "execution_count": 27,
   "metadata": {},
   "outputs": [
    {
     "data": {
      "image/png": "[encoded data removed]",
      "text/plain": [
       "<Figure size 288x288 with 1 Axes>"
      ]
     },
     "metadata": {},
     "output_type": "display_data"
    }
   ],
   "source": [
    "fpr, tpr, thresholds = roc_curve(target_valid, probabilities_one_valid_u) \n",
    "\n",
    "plt.figure(figsize=(4, 4))\n",
    "\n",
    "plt.plot(fpr, tpr)\n",
    "\n",
    "# ROC-кривая случайной модели \n",
    "plt.plot([0, 1], [0, 1], linestyle='--')\n",
    "\n",
    "plt.xlim([0.0, 1.0])\n",
    "plt.ylim([0.0, 1.0])\n",
    "\n",
    "plt.xlabel(\"FPR\")\n",
    "plt.ylabel(\"TPR\")\n",
    "\n",
    "plt.title(\"ROC-кривая\")\n",
    "\n",
    "plt.show()"
   ]
  },
  {
   "cell_type": "code",
   "execution_count": 28,
   "metadata": {},
   "outputs": [
    {
     "data": {
      "text/plain": [
       "0.8381787634815114"
      ]
     },
     "execution_count": 28,
     "metadata": {},
     "output_type": "execute_result"
    }
   ],
   "source": [
    "roc_auc_score(target_valid, probabilities_one_valid_u)"
   ]
  },
  {
   "cell_type": "markdown",
   "metadata": {},
   "source": [
    "## Борьба с дисбалансом"
   ]
  },
  {
   "cell_type": "code",
   "execution_count": 29,
   "metadata": {},
   "outputs": [],
   "source": [
    "#Воспользуемся методои upsampling для устранения дисбаланса классов в выборках\n",
    "def upsample(features, target, repeat):\n",
    "    \n",
    "    features_zeros = features[target == 0]\n",
    "    features_ones = features[target == 1]\n",
    "    target_zeros = target[target == 0]\n",
    "    target_ones = target[target == 1]\n",
    "\n",
    "    features_upsampled = pd.concat([features_zeros] + [features_ones] * repeat)\n",
    "    target_upsampled = pd.concat([target_zeros] + [target_ones] * repeat)\n",
    "    \n",
    "    features_upsampled, target_upsampled = shuffle(\n",
    "        features_upsampled, target_upsampled, random_state=12345)\n",
    "    \n",
    "    return features_upsampled, target_upsampled\n",
    "\n",
    "\n",
    "features_upsampled, target_upsampled = upsample(features_train, target_train, 4)\n"
   ]
  },
  {
   "cell_type": "code",
   "execution_count": 30,
   "metadata": {},
   "outputs": [],
   "source": [
    "#Воспользуемся методом downsampling для устранения дисбаланса классов в выборках\n",
    "def downsample(features, target, fraction):\n",
    "    features_zeros = features[target == 0]\n",
    "    features_ones = features[target == 1]\n",
    "    target_zeros = target[target == 0]\n",
    "    target_ones = target[target == 1]\n",
    "\n",
    "    features_downsampled = pd.concat(\n",
    "        [features_zeros.sample(frac=fraction, random_state=12345)] + [features_ones])\n",
    "    target_downsampled = pd.concat(\n",
    "        [target_zeros.sample(frac=fraction, random_state=12345)] + [target_ones])\n",
    "    \n",
    "    features_downsampled, target_downsampled = shuffle(\n",
    "        features_downsampled, target_downsampled, random_state=12345)\n",
    "    \n",
    "    return features_downsampled, target_downsampled\n",
    "\n",
    "\n",
    "features_downsampled, target_downsampled = downsample(features_train, target_train, 0.39)"
   ]
  },
  {
   "cell_type": "code",
   "execution_count": 31,
   "metadata": {},
   "outputs": [
    {
     "data": {
      "text/plain": [
       "3.9091801669121256"
      ]
     },
     "execution_count": 31,
     "metadata": {},
     "output_type": "execute_result"
    }
   ],
   "source": [
    "target[target == 0].count() / target[target == 1].count()"
   ]
  },
  {
   "cell_type": "markdown",
   "metadata": {},
   "source": [
    "Дисбаланс классов в целевом признаке кратен примерно 4"
   ]
  },
  {
   "cell_type": "code",
   "execution_count": 32,
   "metadata": {},
   "outputs": [
    {
     "name": "stdout",
     "output_type": "stream",
     "text": [
      "roc_auc_score: 0.7798911303011147\n",
      "F1: 0.4888507718696398\n"
     ]
    }
   ],
   "source": [
    "#Применим метод upsampling в Логистической регрессии \n",
    "model = LogisticRegression(random_state=12345, solver='liblinear')\n",
    "model.fit(features_upsampled, target_upsampled)\n",
    "predicted_valid = model.predict(features_valid)\n",
    "probabilities_lru = model.predict_proba(features_upsampled)\n",
    "probabilities_one_valid_lru = probabilities_lru[:, 1]\n",
    "auc_roc_lru = roc_auc_score(target_upsampled, probabilities_one_valid_lru)\n",
    "\n",
    "print('roc_auc_score:', auc_roc_lru)\n",
    "print(\"F1:\", f1_score(target_valid, predicted_valid))"
   ]
  },
  {
   "cell_type": "code",
   "execution_count": 33,
   "metadata": {},
   "outputs": [
    {
     "name": "stdout",
     "output_type": "stream",
     "text": [
      "roc_auc_score: 0.7802658630868459\n",
      "F1: 0.49946409431939987\n"
     ]
    }
   ],
   "source": [
    "#Применим метод downsampling в Логистической регрессии \n",
    "model = LogisticRegression(random_state=12345, solver='liblinear').fit(features_downsampled, target_downsampled)\n",
    "predicted_valid = model.predict(features_valid)\n",
    "probabilities_lrd = model.predict_proba(features_downsampled)\n",
    "probabilities_one_valid_lrd = probabilities_lrd[:, 1]\n",
    "auc_roc_lrd = roc_auc_score(target_downsampled, probabilities_one_valid_lrd)\n",
    "\n",
    "print('roc_auc_score:', auc_roc_lrd)\n",
    "print(\"F1:\", f1_score(target_valid, predicted_valid))"
   ]
  },
  {
   "cell_type": "code",
   "execution_count": 34,
   "metadata": {},
   "outputs": [
    {
     "name": "stdout",
     "output_type": "stream",
     "text": [
      "roc_auc_score: 0.7637310291013133\n",
      "F1: 0.4888507718696398\n"
     ]
    }
   ],
   "source": [
    "#Добавим гиперпараметр class_weight='balanced'\n",
    "model = LogisticRegression(random_state=12345, solver='liblinear', class_weight='balanced')\n",
    "model.fit(features_train, target_train)\n",
    "predicted_valid = model.predict(features_valid)\n",
    "probabilities_lrb = model.predict_proba(features_valid)\n",
    "probabilities_one_valid_lrb = probabilities_lrb[:, 1]\n",
    "auc_roc_lrb = roc_auc_score(target_valid, probabilities_one_valid_lrb)\n",
    "\n",
    "print('roc_auc_score:', auc_roc_lrb)\n",
    "print('F1:', f1_score(target_valid, predicted_valid))"
   ]
  },
  {
   "cell_type": "markdown",
   "metadata": {},
   "source": [
    "F1 для сбалансированной модели на алгоритме логистической регрессии достигает максимального значения в 0.499 с использованием downsampled, что ниже порогового в 0.59."
   ]
  },
  {
   "cell_type": "code",
   "execution_count": 35,
   "metadata": {},
   "outputs": [
    {
     "name": "stdout",
     "output_type": "stream",
     "text": [
      "Лучший результат F1 модели Случайный лес: \n",
      "\n",
      " 0.6239669421487604 \n",
      " глубина: 8 \n",
      " число деревьев 30\n",
      "roc_auc_score: 0.974352998755218\n"
     ]
    }
   ],
   "source": [
    "#Случайный лес с upsampling\n",
    "best_model_rfu = None\n",
    "best_depth = 0\n",
    "best_result = 0\n",
    "best_est = 0\n",
    "\n",
    "for est in range(10, 51, 10):\n",
    "    for depth in range(1, 11):\n",
    "    \n",
    "        model = RandomForestClassifier(random_state=12345, max_depth=depth, n_estimators=est)\n",
    "        model.fit(features_upsampled, target_upsampled)\n",
    "        predicted_valid = model.predict(features_valid)\n",
    "        probabilities_rfu = model.predict_proba(features_upsampled)\n",
    "        probabilities_one_valid_rfu = probabilities_rfu[:, 1]\n",
    "        auc_roc_rfu = roc_auc_score(target_upsampled, probabilities_one_valid_rfu)\n",
    "        result = f1_score(target_valid, predicted_valid)\n",
    "        if result > best_result:\n",
    "            best_result = result\n",
    "            best_model_rfu = model\n",
    "            best_depth = depth\n",
    "            best_est = est\n",
    "                \n",
    "print('Лучший результат F1 модели Случайный лес: \\n\\n', \\\n",
    "      best_result, '\\n глубина:', best_depth, '\\n число деревьев', best_est)\n",
    "print('roc_auc_score:', auc_roc_rfu)\n"
   ]
  },
  {
   "cell_type": "code",
   "execution_count": 36,
   "metadata": {},
   "outputs": [
    {
     "name": "stdout",
     "output_type": "stream",
     "text": [
      "Лучший результат F1 модели Случайный лес: \n",
      "\n",
      " 0.6270783847980999 \n",
      " глубина: 8 \n",
      " число деревьев 40\n",
      "roc_auc_score: 0.9799951278362952\n"
     ]
    }
   ],
   "source": [
    "#Случайный лес с downsampling\n",
    "best_model_rfd = None\n",
    "best_depth = 0\n",
    "best_result = 0\n",
    "best_est = 0\n",
    "\n",
    "for est in range(10, 51, 10):\n",
    "    for depth in range(1, 11):\n",
    "    \n",
    "        model = RandomForestClassifier(random_state=12345, max_depth=depth, n_estimators=est)\n",
    "        model.fit(features_downsampled, target_downsampled)\n",
    "        predicted_valid = model.predict(features_valid)\n",
    "        probabilities_rfd = model.predict_proba(features_downsampled)\n",
    "        probabilities_one_valid_rfd = probabilities_rfd[:, 1]\n",
    "        auc_roc_rfd = roc_auc_score(target_downsampled, probabilities_one_valid_rfd)\n",
    "        result = f1_score(target_valid, predicted_valid)\n",
    "        if result > best_result:\n",
    "            best_result = result\n",
    "            best_model_rfd = model\n",
    "            best_depth = depth\n",
    "            best_est = est\n",
    "                \n",
    "print('Лучший результат F1 модели Случайный лес: \\n\\n', \\\n",
    "      best_result, '\\n глубина:', best_depth, '\\n число деревьев', best_est)\n",
    "print('roc_auc_score:', auc_roc_rfd)\n"
   ]
  },
  {
   "cell_type": "code",
   "execution_count": 37,
   "metadata": {},
   "outputs": [
    {
     "name": "stdout",
     "output_type": "stream",
     "text": [
      "Лучший результат F1 модели Случайный лес: \n",
      "\n",
      " 0.6236559139784946 \n",
      " глубина: 8 \n",
      " число деревьев 40\n"
     ]
    }
   ],
   "source": [
    "#Случайный лес с гиперпараметром class_weight='balanced'\n",
    "best_model_rfb = None\n",
    "best_depth = 0\n",
    "best_result = 0\n",
    "best_est = 0\n",
    "\n",
    "for est in range(10, 51, 10):\n",
    "    for depth in range(1, 11):\n",
    "    \n",
    "        model = RandomForestClassifier(random_state=12345, max_depth=depth, n_estimators=est, class_weight='balanced')\n",
    "        model.fit(features_train, target_train)\n",
    "        predicted_valid = model.predict(features_valid)\n",
    "        result = f1_score(target_valid, predicted_valid)\n",
    "        if result > best_result:\n",
    "            best_result = result\n",
    "            best_model_rfb = model\n",
    "            best_depth = depth\n",
    "            best_est = est\n",
    "                \n",
    "print('Лучший результат F1 модели Случайный лес: \\n\\n', \\\n",
    "      best_result, '\\n глубина:', best_depth, '\\n число деревьев', best_est)\n"
   ]
  },
  {
   "cell_type": "markdown",
   "metadata": {},
   "source": [
    "F1 для сбалансированной модели на алгоритме случайного леса достигает максимума 0.607 при применении гиперпараметра class_weight='balanced', что выше порогового в 0.59"
   ]
  },
  {
   "cell_type": "code",
   "execution_count": 38,
   "metadata": {},
   "outputs": [
    {
     "name": "stdout",
     "output_type": "stream",
     "text": [
      "Лучший результат f1 модели Дерево решений: \n",
      "\n",
      " 0.6140776699029126 \n",
      " глубина: 1\n",
      "roc_auc_score: 0.9522696909487356\n"
     ]
    }
   ],
   "source": [
    "#Дерево решений с upsampling\n",
    "best_model_dt = None\n",
    "best_depth = 0\n",
    "best_result = 0\n",
    "\n",
    "for depth in range(1, 11):    \n",
    "    model = DecisionTreeClassifier(random_state=12345, max_depth=depth)\n",
    "    model.fit(features_upsampled, target_upsampled)\n",
    "    predict_valid = model.predict(features_valid)\n",
    "    probabilities_dtu = model.predict_proba(features_upsampled)\n",
    "    probabilities_one_valid_dtu = probabilities_dtu[:, 1]\n",
    "    auc_roc_dtu = roc_auc_score(target_upsampled, probabilities_one_valid_dtu)\n",
    "    result = f1_score(target_valid, predicted_valid)\n",
    "    if result > best_result:\n",
    "        best_result = result\n",
    "        best_model_dt = model\n",
    "        best_depth = depth\n",
    "        \n",
    "        \n",
    "print('Лучший результат f1 модели Дерево решений: \\n\\n', best_result,\\\n",
    "      '\\n глубина:', best_depth)\n",
    "print('roc_auc_score:', auc_roc_dtu)"
   ]
  },
  {
   "cell_type": "code",
   "execution_count": 39,
   "metadata": {},
   "outputs": [
    {
     "name": "stdout",
     "output_type": "stream",
     "text": [
      "Лучший результат f1 модели Дерево решений: \n",
      "\n",
      " 0.6140776699029126 \n",
      " глубина: 1\n",
      "roc_auc_score: 0.9587916230908435\n"
     ]
    }
   ],
   "source": [
    "#Дерево решений с downsampling\n",
    "best_model_dtd = None\n",
    "best_depth = 0\n",
    "best_result = 0\n",
    "\n",
    "for depth in range(1, 11):    \n",
    "    model = DecisionTreeClassifier(random_state=12345, max_depth=depth)\n",
    "    model.fit(features_downsampled, target_downsampled)\n",
    "    predict_valid = model.predict(features_valid)\n",
    "    probabilities_dtd = model.predict_proba(features_downsampled)\n",
    "    probabilities_one_valid_dtd = probabilities_dtd[:, 1]\n",
    "    auc_roc_dtd = roc_auc_score(target_downsampled, probabilities_one_valid_dtd)\n",
    "    result = f1_score(target_valid, predicted_valid)\n",
    "    if result > best_result:\n",
    "        best_result = result\n",
    "        best_model_dtd = model\n",
    "        best_depth = depth\n",
    "        \n",
    "        \n",
    "print('Лучший результат f1 модели Дерево решений: \\n\\n', best_result,\\\n",
    "      '\\n глубина:', best_depth)\n",
    "print('roc_auc_score:', auc_roc_dtd)"
   ]
  },
  {
   "cell_type": "code",
   "execution_count": 40,
   "metadata": {},
   "outputs": [
    {
     "name": "stdout",
     "output_type": "stream",
     "text": [
      "Лучший результат f1 модели Дерево решений: \n",
      "\n",
      " 0.5963791267305644 \n",
      " глубина: 5\n",
      "roc_auc_score: 0.7512165873251109\n"
     ]
    }
   ],
   "source": [
    "#Дерево решений с гиперпараметром class_weight='balanced'\n",
    "best_model_dtb = None\n",
    "best_depth = 0\n",
    "best_result = 0\n",
    "\n",
    "for depth in range(1, 11):    \n",
    "    model = DecisionTreeClassifier(random_state=12345, max_depth=depth, class_weight='balanced')\n",
    "    model.fit(features_train, target_train)\n",
    "    predicted_valid = model.predict(features_valid)\n",
    "    probabilities_dtb = model.predict_proba(features_valid)\n",
    "    probabilities_one_valid_dtb = probabilities_dtb[:, 1]\n",
    "    auc_roc_dtb = roc_auc_score(target_valid, probabilities_one_valid_dtb)\n",
    "    result = f1_score(target_valid, predicted_valid)\n",
    "    if result > best_result:\n",
    "        best_result = result\n",
    "        best_model_dtd = model\n",
    "        best_depth = depth\n",
    "        \n",
    "        \n",
    "print('Лучший результат f1 модели Дерево решений: \\n\\n', best_result,\\\n",
    "      '\\n глубина:', best_depth)\n",
    "print('roc_auc_score:', auc_roc_dtb)\n"
   ]
  },
  {
   "cell_type": "markdown",
   "metadata": {},
   "source": [
    "F1, для сбалансированной модели на алгоритме дерева решений, достигает максимума 0.492 при применении downsampling, что ниже порогового в 0.59."
   ]
  },
  {
   "cell_type": "markdown",
   "metadata": {},
   "source": [
    "**Подбор параметров модели по обновленому сету данных**"
   ]
  },
  {
   "cell_type": "code",
   "execution_count": 41,
   "metadata": {},
   "outputs": [
    {
     "name": "stdout",
     "output_type": "stream",
     "text": [
      "Лучший результат f1: \n",
      "\n",
      " 0.6288770053475936 \n",
      " глубина: 7 \n",
      " число деревьев 7\n"
     ]
    }
   ],
   "source": [
    "best_model_rfb = None\n",
    "best_depth = 0\n",
    "best_result = 0\n",
    "best_est = 0\n",
    "\n",
    "for est in range(1, 50, 2):\n",
    "    for depth in range(1, 50, 2):    \n",
    "        model = RandomForestClassifier(random_state=12345, max_depth=depth, n_estimators=est, class_weight='balanced')\n",
    "        model.fit(features_train, target_train)\n",
    "        predicted_valid = model.predict(features_valid)\n",
    "        result = f1_score(target_valid, predicted_valid)\n",
    "        if result > best_result:\n",
    "            best_result = result\n",
    "            best_model_rfb = model\n",
    "            best_depth = depth\n",
    "            best_est = est\n",
    "                \n",
    "print('Лучший результат f1: \\n\\n', \\\n",
    "      best_result, '\\n глубина:', best_depth, '\\n число деревьев', best_est)"
   ]
  },
  {
   "cell_type": "markdown",
   "metadata": {},
   "source": [
    "## Тестирование модели"
   ]
  },
  {
   "cell_type": "markdown",
   "metadata": {},
   "source": [
    "Исследование моделей показало, что лучший результат метрики F1 достигается на сбалансированной методом class_weight='balanced' модели на алгоритме случайного леса.\n",
    "\n",
    "После изменения дата сета, по которому была произведена балансировка и получены гиперпараметры лучшей модели по метрике F1 = 0.628 сделаем модель и проверим её"
   ]
  },
  {
   "cell_type": "code",
   "execution_count": 42,
   "metadata": {},
   "outputs": [
    {
     "name": "stdout",
     "output_type": "stream",
     "text": [
      "F1: 0.6288770053475936\n"
     ]
    }
   ],
   "source": [
    "model = RandomForestClassifier(max_depth=7, n_estimators=7, class_weight='balanced', random_state=12345)\n",
    "model.fit(features_train, target_train)\n",
    "predicted_valid = model.predict(features_valid)\n",
    "\n",
    "print(\"F1:\", f1_score(target_valid, predicted_valid))"
   ]
  },
  {
   "cell_type": "markdown",
   "metadata": {},
   "source": [
    "Проверим данный результат на тестовой выборке"
   ]
  },
  {
   "cell_type": "code",
   "execution_count": 43,
   "metadata": {},
   "outputs": [
    {
     "name": "stdout",
     "output_type": "stream",
     "text": [
      "F1: 0.602308499475341\n"
     ]
    }
   ],
   "source": [
    "predicted_test = model.predict(features_test)\n",
    "\n",
    "print(\"F1:\", f1_score(target_test, predicted_test))"
   ]
  },
  {
   "cell_type": "markdown",
   "metadata": {},
   "source": [
    "Получим AUC-ROC на валидационной выборке"
   ]
  },
  {
   "cell_type": "code",
   "execution_count": 44,
   "metadata": {},
   "outputs": [
    {
     "data": {
      "image/png": "[encoded data removed]",
      "text/plain": [
       "<Figure size 288x288 with 1 Axes>"
      ]
     },
     "metadata": {},
     "output_type": "display_data"
    },
    {
     "name": "stdout",
     "output_type": "stream",
     "text": [
      "auc_roc = 0.8450974483975469\n"
     ]
    }
   ],
   "source": [
    "probabilities_test = model.predict_proba(features_test)\n",
    "probabilities_one_test = probabilities_test[:, 1]\n",
    "precision, recall, thresholds = precision_recall_curve(target_test, probabilities_one_test)\n",
    "roc_a = roc_auc_score(target_test, probabilities_one_test)\n",
    "fpr, tpr, thresholds = roc_curve(target_test, probabilities_one_test) \n",
    "\n",
    "plt.figure(figsize=(4, 4))\n",
    "\n",
    "plt.plot(fpr, tpr)\n",
    "\n",
    "# ROC-кривая случайной модели \n",
    "plt.plot([0, 1], [0, 1], linestyle='--')\n",
    "\n",
    "plt.xlim([0.0, 1.0])\n",
    "plt.ylim([0.0, 1.0])\n",
    "\n",
    "plt.xlabel(\"False Positive Rate\")\n",
    "plt.ylabel(\"True Positive Rate\")\n",
    "\n",
    "plt.title(\"ROC-кривая\")\n",
    "\n",
    "plt.show()\n",
    "print('auc_roc =', roc_a)"
   ]
  },
  {
   "cell_type": "markdown",
   "metadata": {},
   "source": [
    "**Выводы**\n",
    "Имеем следующие показатели на выбранной обученной модели:\n",
    "\n",
    "F1-мера: 0.628 (выше 0.59)\n",
    "ROC AUC: 0.845\n",
    "Таким образом поставленные цели достичь удалось."
   ]
  },
  {
   "cell_type": "markdown",
   "metadata": {},
   "source": [
    "***ОБЩИЙ ВЫВОД***\n",
    "\n",
    "Входе проекта было рассмотрено и обучено несколько различных моделей. Наилучший результат показал RandomForestClassifier \n",
    "с подобранными к нему параметрами при помощи двойного цикла('max_depth': 7, 'n_estimators': 7), \n",
    "но обученная на новом датасете, к которому был применен параметр \"class_weight='balanced'\".\n",
    "\n",
    "Первоначальный датасет был обработан и из него были убраны ненужные идентификаторы. Числовые данные были масштабированы. \n",
    "\n",
    "Значение меры f1=0.628 и 0.602 на тестовой модели, что превышает пороговое значение текущего проекта.\n",
    "Метрика AUC-ROC=0.845."
   ]
  }
 ],
 "metadata": {
  "ExecuteTimeLog": [
   {
    "duration": 1625,
    "start_time": "2023-02-07T17:44:41.185Z"
   },
   {
    "duration": 104,
    "start_time": "2023-02-07T17:44:42.812Z"
   },
   {
    "duration": 5,
    "start_time": "2023-02-07T18:23:25.237Z"
   },
   {
    "duration": 4,
    "start_time": "2023-02-07T18:23:46.436Z"
   },
   {
    "duration": 4,
    "start_time": "2023-02-07T18:23:58.915Z"
   },
   {
    "duration": 4,
    "start_time": "2023-02-07T18:26:34.554Z"
   },
   {
    "duration": 1465,
    "start_time": "2023-02-07T18:30:46.882Z"
   },
   {
    "duration": 64,
    "start_time": "2023-02-07T18:30:48.350Z"
   },
   {
    "duration": 4,
    "start_time": "2023-02-07T18:30:48.416Z"
   },
   {
    "duration": 11,
    "start_time": "2023-02-07T18:30:48.423Z"
   },
   {
    "duration": 7,
    "start_time": "2023-02-07T18:30:48.437Z"
   },
   {
    "duration": 6,
    "start_time": "2023-02-07T18:30:48.446Z"
   },
   {
    "duration": 14,
    "start_time": "2023-02-07T18:30:48.454Z"
   },
   {
    "duration": 9,
    "start_time": "2023-02-07T18:32:15.587Z"
   },
   {
    "duration": 1348,
    "start_time": "2023-02-07T21:50:02.322Z"
   },
   {
    "duration": 59,
    "start_time": "2023-02-07T21:50:03.671Z"
   },
   {
    "duration": 3,
    "start_time": "2023-02-07T21:50:03.732Z"
   },
   {
    "duration": 9,
    "start_time": "2023-02-07T21:50:03.737Z"
   },
   {
    "duration": 5,
    "start_time": "2023-02-07T21:50:03.748Z"
   },
   {
    "duration": 6,
    "start_time": "2023-02-07T21:50:03.755Z"
   },
   {
    "duration": 12,
    "start_time": "2023-02-07T21:50:03.762Z"
   },
   {
    "duration": 25,
    "start_time": "2023-02-07T21:50:03.776Z"
   },
   {
    "duration": 112,
    "start_time": "2023-02-07T21:50:03.803Z"
   },
   {
    "duration": 0,
    "start_time": "2023-02-07T21:50:03.917Z"
   },
   {
    "duration": 0,
    "start_time": "2023-02-07T21:50:03.918Z"
   },
   {
    "duration": 0,
    "start_time": "2023-02-07T21:50:03.919Z"
   },
   {
    "duration": 4,
    "start_time": "2023-02-07T21:50:35.689Z"
   },
   {
    "duration": 1511,
    "start_time": "2023-02-08T10:56:44.896Z"
   },
   {
    "duration": 101,
    "start_time": "2023-02-08T10:56:46.410Z"
   },
   {
    "duration": 4,
    "start_time": "2023-02-08T10:56:46.513Z"
   },
   {
    "duration": 5,
    "start_time": "2023-02-08T10:56:46.519Z"
   },
   {
    "duration": 8,
    "start_time": "2023-02-08T10:56:46.525Z"
   },
   {
    "duration": 9,
    "start_time": "2023-02-08T10:56:46.534Z"
   },
   {
    "duration": 28,
    "start_time": "2023-02-08T10:56:46.544Z"
   },
   {
    "duration": 19,
    "start_time": "2023-02-08T10:56:46.574Z"
   },
   {
    "duration": 6,
    "start_time": "2023-02-08T10:56:46.594Z"
   },
   {
    "duration": 11,
    "start_time": "2023-02-08T10:56:46.602Z"
   },
   {
    "duration": 7,
    "start_time": "2023-02-08T10:56:46.615Z"
   },
   {
    "duration": 29,
    "start_time": "2023-02-08T10:56:46.623Z"
   },
   {
    "duration": 137,
    "start_time": "2023-02-08T11:29:57.253Z"
   },
   {
    "duration": 1339,
    "start_time": "2023-02-08T11:30:21.216Z"
   },
   {
    "duration": 61,
    "start_time": "2023-02-08T11:30:22.558Z"
   },
   {
    "duration": 4,
    "start_time": "2023-02-08T11:30:22.621Z"
   },
   {
    "duration": 4,
    "start_time": "2023-02-08T11:30:22.627Z"
   },
   {
    "duration": 7,
    "start_time": "2023-02-08T11:30:22.633Z"
   },
   {
    "duration": 4,
    "start_time": "2023-02-08T11:30:22.641Z"
   },
   {
    "duration": 12,
    "start_time": "2023-02-08T11:30:22.647Z"
   },
   {
    "duration": 9,
    "start_time": "2023-02-08T11:30:22.660Z"
   },
   {
    "duration": 6,
    "start_time": "2023-02-08T11:30:22.670Z"
   },
   {
    "duration": 5,
    "start_time": "2023-02-08T11:30:22.709Z"
   },
   {
    "duration": 8,
    "start_time": "2023-02-08T11:30:22.716Z"
   },
   {
    "duration": 25,
    "start_time": "2023-02-08T11:30:22.725Z"
   },
   {
    "duration": 146,
    "start_time": "2023-02-08T11:30:22.751Z"
   },
   {
    "duration": 11,
    "start_time": "2023-02-08T11:31:57.374Z"
   },
   {
    "duration": 12,
    "start_time": "2023-02-08T11:32:12.511Z"
   },
   {
    "duration": 34,
    "start_time": "2023-02-08T11:33:22.022Z"
   },
   {
    "duration": 10,
    "start_time": "2023-02-08T11:35:39.919Z"
   },
   {
    "duration": 9,
    "start_time": "2023-02-08T11:36:12.134Z"
   },
   {
    "duration": 10,
    "start_time": "2023-02-08T11:36:27.367Z"
   },
   {
    "duration": 16,
    "start_time": "2023-02-08T11:38:13.255Z"
   },
   {
    "duration": 10,
    "start_time": "2023-02-08T11:38:42.271Z"
   },
   {
    "duration": 11,
    "start_time": "2023-02-08T11:39:29.008Z"
   },
   {
    "duration": 9,
    "start_time": "2023-02-08T11:58:43.164Z"
   },
   {
    "duration": 8,
    "start_time": "2023-02-08T11:58:46.661Z"
   },
   {
    "duration": 5,
    "start_time": "2023-02-08T12:02:51.397Z"
   },
   {
    "duration": 5,
    "start_time": "2023-02-08T12:03:16.254Z"
   },
   {
    "duration": 1302,
    "start_time": "2023-02-08T12:04:38.455Z"
   },
   {
    "duration": 56,
    "start_time": "2023-02-08T12:04:39.759Z"
   },
   {
    "duration": 15,
    "start_time": "2023-02-08T12:04:39.816Z"
   },
   {
    "duration": 8,
    "start_time": "2023-02-08T12:04:39.833Z"
   },
   {
    "duration": 5,
    "start_time": "2023-02-08T12:04:39.842Z"
   },
   {
    "duration": 10,
    "start_time": "2023-02-08T12:04:39.848Z"
   },
   {
    "duration": 7,
    "start_time": "2023-02-08T12:04:39.859Z"
   },
   {
    "duration": 10,
    "start_time": "2023-02-08T12:04:39.868Z"
   },
   {
    "duration": 8,
    "start_time": "2023-02-08T12:04:39.879Z"
   },
   {
    "duration": 6,
    "start_time": "2023-02-08T12:04:39.888Z"
   },
   {
    "duration": 18,
    "start_time": "2023-02-08T12:04:39.895Z"
   },
   {
    "duration": 28,
    "start_time": "2023-02-08T12:04:39.915Z"
   },
   {
    "duration": 9,
    "start_time": "2023-02-08T12:04:39.945Z"
   },
   {
    "duration": 11,
    "start_time": "2023-02-08T12:04:39.956Z"
   },
   {
    "duration": 12,
    "start_time": "2023-02-08T12:04:39.969Z"
   },
   {
    "duration": 64,
    "start_time": "2023-02-08T12:04:39.983Z"
   },
   {
    "duration": 6,
    "start_time": "2023-02-08T12:04:40.049Z"
   },
   {
    "duration": 7,
    "start_time": "2023-02-08T12:05:31.814Z"
   },
   {
    "duration": 1317,
    "start_time": "2023-02-08T12:05:37.847Z"
   },
   {
    "duration": 58,
    "start_time": "2023-02-08T12:05:39.166Z"
   },
   {
    "duration": 4,
    "start_time": "2023-02-08T12:05:39.225Z"
   },
   {
    "duration": 9,
    "start_time": "2023-02-08T12:05:39.230Z"
   },
   {
    "duration": 8,
    "start_time": "2023-02-08T12:05:39.241Z"
   },
   {
    "duration": 4,
    "start_time": "2023-02-08T12:05:39.251Z"
   },
   {
    "duration": 8,
    "start_time": "2023-02-08T12:05:39.257Z"
   },
   {
    "duration": 11,
    "start_time": "2023-02-08T12:05:39.267Z"
   },
   {
    "duration": 29,
    "start_time": "2023-02-08T12:05:39.280Z"
   },
   {
    "duration": 6,
    "start_time": "2023-02-08T12:05:39.311Z"
   },
   {
    "duration": 9,
    "start_time": "2023-02-08T12:05:39.318Z"
   },
   {
    "duration": 25,
    "start_time": "2023-02-08T12:05:39.329Z"
   },
   {
    "duration": 6,
    "start_time": "2023-02-08T12:05:39.355Z"
   },
   {
    "duration": 12,
    "start_time": "2023-02-08T12:05:39.363Z"
   },
   {
    "duration": 34,
    "start_time": "2023-02-08T12:05:39.376Z"
   },
   {
    "duration": 10,
    "start_time": "2023-02-08T12:05:39.412Z"
   },
   {
    "duration": 40,
    "start_time": "2023-02-08T12:05:39.424Z"
   },
   {
    "duration": 5,
    "start_time": "2023-02-08T12:05:39.465Z"
   },
   {
    "duration": 14,
    "start_time": "2023-02-08T12:15:44.746Z"
   },
   {
    "duration": 5,
    "start_time": "2023-02-08T12:20:28.490Z"
   },
   {
    "duration": 5,
    "start_time": "2023-02-08T12:20:30.322Z"
   },
   {
    "duration": 6,
    "start_time": "2023-02-08T12:29:04.804Z"
   },
   {
    "duration": 13005,
    "start_time": "2023-02-08T12:43:40.572Z"
   },
   {
    "duration": 9394,
    "start_time": "2023-02-08T12:49:48.530Z"
   },
   {
    "duration": 1359,
    "start_time": "2023-02-08T12:50:25.945Z"
   },
   {
    "duration": 57,
    "start_time": "2023-02-08T12:50:27.306Z"
   },
   {
    "duration": 4,
    "start_time": "2023-02-08T12:50:27.365Z"
   },
   {
    "duration": 5,
    "start_time": "2023-02-08T12:50:27.370Z"
   },
   {
    "duration": 6,
    "start_time": "2023-02-08T12:50:27.376Z"
   },
   {
    "duration": 4,
    "start_time": "2023-02-08T12:50:27.384Z"
   },
   {
    "duration": 7,
    "start_time": "2023-02-08T12:50:27.390Z"
   },
   {
    "duration": 19,
    "start_time": "2023-02-08T12:50:27.398Z"
   },
   {
    "duration": 8,
    "start_time": "2023-02-08T12:50:27.419Z"
   },
   {
    "duration": 4,
    "start_time": "2023-02-08T12:50:27.430Z"
   },
   {
    "duration": 7,
    "start_time": "2023-02-08T12:50:27.436Z"
   },
   {
    "duration": 25,
    "start_time": "2023-02-08T12:50:27.445Z"
   },
   {
    "duration": 6,
    "start_time": "2023-02-08T12:50:27.472Z"
   },
   {
    "duration": 7,
    "start_time": "2023-02-08T12:50:27.510Z"
   },
   {
    "duration": 16,
    "start_time": "2023-02-08T12:50:27.519Z"
   },
   {
    "duration": 9,
    "start_time": "2023-02-08T12:50:27.537Z"
   },
   {
    "duration": 39,
    "start_time": "2023-02-08T12:50:27.548Z"
   },
   {
    "duration": 25,
    "start_time": "2023-02-08T12:50:27.588Z"
   },
   {
    "duration": 5,
    "start_time": "2023-02-08T12:50:27.615Z"
   },
   {
    "duration": 7,
    "start_time": "2023-02-08T12:50:27.622Z"
   },
   {
    "duration": 18,
    "start_time": "2023-02-08T12:50:27.630Z"
   },
   {
    "duration": 9416,
    "start_time": "2023-02-08T12:50:27.650Z"
   },
   {
    "duration": 11442,
    "start_time": "2023-02-08T12:50:37.067Z"
   },
   {
    "duration": 12997,
    "start_time": "2023-02-08T12:50:48.511Z"
   },
   {
    "duration": 14819,
    "start_time": "2023-02-08T12:51:01.510Z"
   },
   {
    "duration": 18584,
    "start_time": "2023-02-08T12:51:16.330Z"
   },
   {
    "duration": 19,
    "start_time": "2023-02-08T16:54:41.827Z"
   },
   {
    "duration": 430,
    "start_time": "2023-02-08T17:57:03.529Z"
   },
   {
    "duration": 134,
    "start_time": "2023-02-08T17:57:47.865Z"
   },
   {
    "duration": 5,
    "start_time": "2023-02-08T17:58:10.377Z"
   },
   {
    "duration": 1420,
    "start_time": "2023-02-09T05:52:03.385Z"
   },
   {
    "duration": 110,
    "start_time": "2023-02-09T05:52:04.807Z"
   },
   {
    "duration": 5,
    "start_time": "2023-02-09T05:52:04.919Z"
   },
   {
    "duration": 4,
    "start_time": "2023-02-09T05:52:04.926Z"
   },
   {
    "duration": 6,
    "start_time": "2023-02-09T05:52:04.931Z"
   },
   {
    "duration": 5,
    "start_time": "2023-02-09T05:52:04.939Z"
   },
   {
    "duration": 7,
    "start_time": "2023-02-09T05:52:04.946Z"
   },
   {
    "duration": 11,
    "start_time": "2023-02-09T05:52:04.954Z"
   },
   {
    "duration": 8,
    "start_time": "2023-02-09T05:52:04.967Z"
   },
   {
    "duration": 5,
    "start_time": "2023-02-09T05:52:04.977Z"
   },
   {
    "duration": 8,
    "start_time": "2023-02-09T05:52:04.983Z"
   },
   {
    "duration": 53,
    "start_time": "2023-02-09T05:52:04.992Z"
   },
   {
    "duration": 7,
    "start_time": "2023-02-09T05:52:05.047Z"
   },
   {
    "duration": 26,
    "start_time": "2023-02-09T05:52:05.055Z"
   },
   {
    "duration": 15,
    "start_time": "2023-02-09T05:52:05.083Z"
   },
   {
    "duration": 12,
    "start_time": "2023-02-09T05:52:05.099Z"
   },
   {
    "duration": 39,
    "start_time": "2023-02-09T05:52:05.113Z"
   },
   {
    "duration": 6,
    "start_time": "2023-02-09T05:52:05.154Z"
   },
   {
    "duration": 8,
    "start_time": "2023-02-09T05:52:05.162Z"
   },
   {
    "duration": 5,
    "start_time": "2023-02-09T05:52:05.171Z"
   },
   {
    "duration": 6,
    "start_time": "2023-02-09T05:52:05.178Z"
   },
   {
    "duration": 7912,
    "start_time": "2023-02-09T05:52:05.186Z"
   },
   {
    "duration": 9390,
    "start_time": "2023-02-09T05:52:13.100Z"
   },
   {
    "duration": 11242,
    "start_time": "2023-02-09T05:52:22.492Z"
   },
   {
    "duration": 12686,
    "start_time": "2023-02-09T05:52:33.737Z"
   },
   {
    "duration": 15834,
    "start_time": "2023-02-09T05:52:46.425Z"
   },
   {
    "duration": 20,
    "start_time": "2023-02-09T05:53:02.261Z"
   },
   {
    "duration": 495,
    "start_time": "2023-02-09T05:53:02.339Z"
   },
   {
    "duration": 139,
    "start_time": "2023-02-09T05:53:02.835Z"
   },
   {
    "duration": 6,
    "start_time": "2023-02-09T05:53:02.976Z"
   },
   {
    "duration": 1432,
    "start_time": "2023-02-09T09:54:15.264Z"
   },
   {
    "duration": 59,
    "start_time": "2023-02-09T09:54:16.698Z"
   },
   {
    "duration": 5,
    "start_time": "2023-02-09T09:54:16.759Z"
   },
   {
    "duration": 11,
    "start_time": "2023-02-09T09:54:16.765Z"
   },
   {
    "duration": 7,
    "start_time": "2023-02-09T09:54:16.777Z"
   },
   {
    "duration": 8,
    "start_time": "2023-02-09T09:54:16.785Z"
   },
   {
    "duration": 8,
    "start_time": "2023-02-09T09:54:16.794Z"
   },
   {
    "duration": 13,
    "start_time": "2023-02-09T09:54:16.803Z"
   },
   {
    "duration": 27,
    "start_time": "2023-02-09T09:54:16.817Z"
   },
   {
    "duration": 6,
    "start_time": "2023-02-09T09:54:16.846Z"
   },
   {
    "duration": 9,
    "start_time": "2023-02-09T09:54:16.854Z"
   },
   {
    "duration": 26,
    "start_time": "2023-02-09T09:54:16.864Z"
   },
   {
    "duration": 6,
    "start_time": "2023-02-09T09:54:16.892Z"
   },
   {
    "duration": 9,
    "start_time": "2023-02-09T09:54:16.901Z"
   },
   {
    "duration": 37,
    "start_time": "2023-02-09T09:54:16.911Z"
   },
   {
    "duration": 11,
    "start_time": "2023-02-09T09:54:16.950Z"
   },
   {
    "duration": 36,
    "start_time": "2023-02-09T09:54:16.963Z"
   },
   {
    "duration": 6,
    "start_time": "2023-02-09T09:54:17.001Z"
   },
   {
    "duration": 37,
    "start_time": "2023-02-09T09:54:17.008Z"
   },
   {
    "duration": 6,
    "start_time": "2023-02-09T09:54:17.047Z"
   },
   {
    "duration": 8,
    "start_time": "2023-02-09T09:54:17.054Z"
   },
   {
    "duration": 5,
    "start_time": "2023-02-09T09:54:17.063Z"
   },
   {
    "duration": 10040,
    "start_time": "2023-02-09T09:54:17.069Z"
   },
   {
    "duration": 2,
    "start_time": "2023-02-09T09:54:27.111Z"
   },
   {
    "duration": 5,
    "start_time": "2023-02-09T09:54:27.115Z"
   },
   {
    "duration": 5,
    "start_time": "2023-02-09T09:54:27.122Z"
   },
   {
    "duration": 30,
    "start_time": "2023-02-09T09:54:27.136Z"
   },
   {
    "duration": 551,
    "start_time": "2023-02-09T09:54:27.168Z"
   },
   {
    "duration": 144,
    "start_time": "2023-02-09T09:54:27.721Z"
   },
   {
    "duration": 6,
    "start_time": "2023-02-09T09:54:27.866Z"
   },
   {
    "duration": 14,
    "start_time": "2023-02-09T09:54:27.874Z"
   },
   {
    "duration": 10,
    "start_time": "2023-02-09T09:54:27.889Z"
   },
   {
    "duration": 10,
    "start_time": "2023-02-09T10:25:05.894Z"
   },
   {
    "duration": 12,
    "start_time": "2023-02-09T10:25:07.085Z"
   },
   {
    "duration": 13,
    "start_time": "2023-02-09T10:25:08.235Z"
   },
   {
    "duration": 5,
    "start_time": "2023-02-09T10:25:25.123Z"
   },
   {
    "duration": 26,
    "start_time": "2023-02-09T10:26:58.492Z"
   },
   {
    "duration": 23,
    "start_time": "2023-02-09T10:27:43.462Z"
   },
   {
    "duration": 27,
    "start_time": "2023-02-09T10:28:35.581Z"
   },
   {
    "duration": 543,
    "start_time": "2023-02-09T10:32:59.788Z"
   },
   {
    "duration": 249,
    "start_time": "2023-02-09T10:33:29.597Z"
   },
   {
    "duration": 258,
    "start_time": "2023-02-09T10:33:47.712Z"
   },
   {
    "duration": 390,
    "start_time": "2023-02-09T10:34:01.901Z"
   },
   {
    "duration": 36,
    "start_time": "2023-02-09T10:41:45.681Z"
   },
   {
    "duration": 21,
    "start_time": "2023-02-09T10:41:58.089Z"
   },
   {
    "duration": 33,
    "start_time": "2023-02-09T10:42:32.304Z"
   },
   {
    "duration": 238,
    "start_time": "2023-02-09T16:22:08.685Z"
   },
   {
    "duration": 234,
    "start_time": "2023-02-09T16:22:10.279Z"
   },
   {
    "duration": 156,
    "start_time": "2023-02-09T16:22:16.821Z"
   },
   {
    "duration": 161,
    "start_time": "2023-02-09T16:22:18.909Z"
   },
   {
    "duration": 180,
    "start_time": "2023-02-09T16:23:14.865Z"
   },
   {
    "duration": 1344,
    "start_time": "2023-02-09T16:28:24.622Z"
   },
   {
    "duration": 61,
    "start_time": "2023-02-09T16:28:25.968Z"
   },
   {
    "duration": 4,
    "start_time": "2023-02-09T16:28:26.031Z"
   },
   {
    "duration": 7,
    "start_time": "2023-02-09T16:28:26.037Z"
   },
   {
    "duration": 7,
    "start_time": "2023-02-09T16:28:26.045Z"
   },
   {
    "duration": 6,
    "start_time": "2023-02-09T16:28:26.053Z"
   },
   {
    "duration": 17,
    "start_time": "2023-02-09T16:28:26.060Z"
   },
   {
    "duration": 10,
    "start_time": "2023-02-09T16:28:26.079Z"
   },
   {
    "duration": 8,
    "start_time": "2023-02-09T16:28:26.091Z"
   },
   {
    "duration": 4,
    "start_time": "2023-02-09T16:28:26.101Z"
   },
   {
    "duration": 7,
    "start_time": "2023-02-09T16:28:26.106Z"
   },
   {
    "duration": 37,
    "start_time": "2023-02-09T16:28:26.115Z"
   },
   {
    "duration": 6,
    "start_time": "2023-02-09T16:28:26.153Z"
   },
   {
    "duration": 9,
    "start_time": "2023-02-09T16:28:26.161Z"
   },
   {
    "duration": 13,
    "start_time": "2023-02-09T16:28:26.171Z"
   },
   {
    "duration": 9,
    "start_time": "2023-02-09T16:28:26.185Z"
   },
   {
    "duration": 55,
    "start_time": "2023-02-09T16:28:26.195Z"
   },
   {
    "duration": 5,
    "start_time": "2023-02-09T16:28:26.252Z"
   },
   {
    "duration": 6,
    "start_time": "2023-02-09T16:28:26.258Z"
   },
   {
    "duration": 11,
    "start_time": "2023-02-09T16:28:26.265Z"
   },
   {
    "duration": 22,
    "start_time": "2023-02-09T16:28:26.278Z"
   },
   {
    "duration": 2,
    "start_time": "2023-02-09T16:28:26.302Z"
   },
   {
    "duration": 9679,
    "start_time": "2023-02-09T16:28:26.306Z"
   },
   {
    "duration": 3,
    "start_time": "2023-02-09T16:28:35.987Z"
   },
   {
    "duration": 14,
    "start_time": "2023-02-09T16:28:35.992Z"
   },
   {
    "duration": 6,
    "start_time": "2023-02-09T16:28:36.010Z"
   },
   {
    "duration": 31,
    "start_time": "2023-02-09T16:28:36.017Z"
   },
   {
    "duration": 565,
    "start_time": "2023-02-09T16:28:36.052Z"
   },
   {
    "duration": 142,
    "start_time": "2023-02-09T16:28:36.618Z"
   },
   {
    "duration": 6,
    "start_time": "2023-02-09T16:28:36.762Z"
   },
   {
    "duration": 11,
    "start_time": "2023-02-09T16:28:36.769Z"
   },
   {
    "duration": 10,
    "start_time": "2023-02-09T16:28:36.782Z"
   },
   {
    "duration": 6,
    "start_time": "2023-02-09T16:28:36.793Z"
   },
   {
    "duration": 137,
    "start_time": "2023-02-09T16:28:36.800Z"
   },
   {
    "duration": 103,
    "start_time": "2023-02-09T16:28:36.940Z"
   },
   {
    "duration": 203,
    "start_time": "2023-02-09T16:28:37.045Z"
   },
   {
    "duration": 699,
    "start_time": "2023-02-09T16:28:37.252Z"
   },
   {
    "duration": 245,
    "start_time": "2023-02-09T16:28:37.953Z"
   },
   {
    "duration": 383,
    "start_time": "2023-02-09T16:28:38.199Z"
   },
   {
    "duration": 38,
    "start_time": "2023-02-09T16:28:38.583Z"
   },
   {
    "duration": 27,
    "start_time": "2023-02-09T16:28:38.622Z"
   },
   {
    "duration": 33,
    "start_time": "2023-02-09T16:28:38.650Z"
   },
   {
    "duration": 252,
    "start_time": "2023-02-09T16:28:38.685Z"
   },
   {
    "duration": 165,
    "start_time": "2023-02-09T16:28:38.939Z"
   },
   {
    "duration": 7,
    "start_time": "2023-02-09T16:29:02.355Z"
   },
   {
    "duration": 251,
    "start_time": "2023-02-09T16:57:02.091Z"
   },
   {
    "duration": 265,
    "start_time": "2023-02-09T16:57:22.493Z"
   },
   {
    "duration": 563,
    "start_time": "2023-02-09T17:35:10.964Z"
   },
   {
    "duration": 97,
    "start_time": "2023-02-09T17:35:17.755Z"
   },
   {
    "duration": 909,
    "start_time": "2023-02-09T17:35:24.047Z"
   },
   {
    "duration": 616,
    "start_time": "2023-02-09T17:36:20.200Z"
   },
   {
    "duration": 713,
    "start_time": "2023-02-09T17:36:31.418Z"
   },
   {
    "duration": 780,
    "start_time": "2023-02-09T17:36:36.476Z"
   },
   {
    "duration": 966,
    "start_time": "2023-02-09T17:36:41.565Z"
   },
   {
    "duration": 1794,
    "start_time": "2023-02-09T17:36:48.637Z"
   },
   {
    "duration": 943,
    "start_time": "2023-02-09T17:36:55.565Z"
   },
   {
    "duration": 893,
    "start_time": "2023-02-09T17:37:07.261Z"
   },
   {
    "duration": 912,
    "start_time": "2023-02-09T17:37:12.843Z"
   },
   {
    "duration": 892,
    "start_time": "2023-02-09T17:37:19.320Z"
   },
   {
    "duration": 72,
    "start_time": "2023-02-09T17:38:05.054Z"
   },
   {
    "duration": 195,
    "start_time": "2023-02-09T17:38:58.142Z"
   },
   {
    "duration": 112,
    "start_time": "2023-02-09T17:39:12.886Z"
   },
   {
    "duration": 1425,
    "start_time": "2023-02-09T17:56:12.386Z"
   },
   {
    "duration": 70,
    "start_time": "2023-02-09T17:56:13.813Z"
   },
   {
    "duration": 9,
    "start_time": "2023-02-09T17:56:13.884Z"
   },
   {
    "duration": 4,
    "start_time": "2023-02-09T17:56:13.896Z"
   },
   {
    "duration": 13,
    "start_time": "2023-02-09T17:56:13.902Z"
   },
   {
    "duration": 4,
    "start_time": "2023-02-09T17:56:13.918Z"
   },
   {
    "duration": 8,
    "start_time": "2023-02-09T17:56:13.937Z"
   },
   {
    "duration": 21,
    "start_time": "2023-02-09T17:56:13.947Z"
   },
   {
    "duration": 13,
    "start_time": "2023-02-09T17:56:13.971Z"
   },
   {
    "duration": 7,
    "start_time": "2023-02-09T17:56:13.988Z"
   },
   {
    "duration": 11,
    "start_time": "2023-02-09T17:56:13.997Z"
   },
   {
    "duration": 37,
    "start_time": "2023-02-09T17:56:14.037Z"
   },
   {
    "duration": 9,
    "start_time": "2023-02-09T17:56:14.076Z"
   },
   {
    "duration": 18,
    "start_time": "2023-02-09T17:56:14.088Z"
   },
   {
    "duration": 32,
    "start_time": "2023-02-09T17:56:14.109Z"
   },
   {
    "duration": 16,
    "start_time": "2023-02-09T17:56:14.144Z"
   },
   {
    "duration": 44,
    "start_time": "2023-02-09T17:56:14.162Z"
   },
   {
    "duration": 30,
    "start_time": "2023-02-09T17:56:14.208Z"
   },
   {
    "duration": 8,
    "start_time": "2023-02-09T17:56:14.241Z"
   },
   {
    "duration": 7,
    "start_time": "2023-02-09T17:56:14.251Z"
   },
   {
    "duration": 10,
    "start_time": "2023-02-09T17:56:14.261Z"
   },
   {
    "duration": 7,
    "start_time": "2023-02-09T17:56:14.273Z"
   },
   {
    "duration": 10528,
    "start_time": "2023-02-09T17:56:14.282Z"
   },
   {
    "duration": 2,
    "start_time": "2023-02-09T17:56:24.812Z"
   },
   {
    "duration": 8,
    "start_time": "2023-02-09T17:56:24.816Z"
   },
   {
    "duration": 11,
    "start_time": "2023-02-09T17:56:24.826Z"
   },
   {
    "duration": 99,
    "start_time": "2023-02-09T17:56:24.839Z"
   },
   {
    "duration": 483,
    "start_time": "2023-02-09T17:56:24.944Z"
   },
   {
    "duration": 141,
    "start_time": "2023-02-09T17:56:25.428Z"
   },
   {
    "duration": 6,
    "start_time": "2023-02-09T17:56:25.570Z"
   },
   {
    "duration": 15,
    "start_time": "2023-02-09T17:56:25.578Z"
   },
   {
    "duration": 13,
    "start_time": "2023-02-09T17:56:25.595Z"
   },
   {
    "duration": 8,
    "start_time": "2023-02-09T17:56:25.609Z"
   },
   {
    "duration": 104,
    "start_time": "2023-02-09T17:56:25.638Z"
   },
   {
    "duration": 101,
    "start_time": "2023-02-09T17:56:25.744Z"
   },
   {
    "duration": 201,
    "start_time": "2023-02-09T17:56:25.847Z"
   },
   {
    "duration": 699,
    "start_time": "2023-02-09T17:56:26.050Z"
   },
   {
    "duration": 247,
    "start_time": "2023-02-09T17:56:26.751Z"
   },
   {
    "duration": 381,
    "start_time": "2023-02-09T17:56:26.999Z"
   },
   {
    "duration": 40,
    "start_time": "2023-02-09T17:56:27.382Z"
   },
   {
    "duration": 32,
    "start_time": "2023-02-09T17:56:27.424Z"
   },
   {
    "duration": 33,
    "start_time": "2023-02-09T17:56:27.457Z"
   },
   {
    "duration": 251,
    "start_time": "2023-02-09T17:56:27.491Z"
   },
   {
    "duration": 170,
    "start_time": "2023-02-09T17:56:27.744Z"
   },
   {
    "duration": 6,
    "start_time": "2023-02-09T17:56:27.916Z"
   },
   {
    "duration": 891,
    "start_time": "2023-02-09T17:56:27.923Z"
   },
   {
    "duration": 61,
    "start_time": "2023-02-09T17:56:28.816Z"
   },
   {
    "duration": 216,
    "start_time": "2023-02-09T17:56:28.878Z"
   },
   {
    "duration": 143,
    "start_time": "2023-02-09T17:56:29.096Z"
   },
   {
    "duration": 137,
    "start_time": "2023-02-09T18:02:59.197Z"
   },
   {
    "duration": 7,
    "start_time": "2023-02-09T18:03:17.689Z"
   },
   {
    "duration": 187,
    "start_time": "2023-02-09T18:03:27.284Z"
   },
   {
    "duration": 216,
    "start_time": "2023-02-09T18:03:52.605Z"
   },
   {
    "duration": 201,
    "start_time": "2023-02-09T18:04:07.405Z"
   },
   {
    "duration": 8,
    "start_time": "2023-02-09T18:04:18.076Z"
   },
   {
    "duration": 44,
    "start_time": "2023-02-10T19:00:01.217Z"
   },
   {
    "duration": 1763,
    "start_time": "2023-02-10T19:00:09.423Z"
   },
   {
    "duration": 100,
    "start_time": "2023-02-10T19:00:11.189Z"
   },
   {
    "duration": 4,
    "start_time": "2023-02-10T19:00:11.290Z"
   },
   {
    "duration": 17,
    "start_time": "2023-02-10T19:00:11.296Z"
   },
   {
    "duration": 20,
    "start_time": "2023-02-10T19:00:11.315Z"
   },
   {
    "duration": 18,
    "start_time": "2023-02-10T19:00:11.337Z"
   },
   {
    "duration": 12,
    "start_time": "2023-02-10T19:00:11.357Z"
   },
   {
    "duration": 11,
    "start_time": "2023-02-10T19:00:11.370Z"
   },
   {
    "duration": 15,
    "start_time": "2023-02-10T19:00:11.382Z"
   },
   {
    "duration": 5,
    "start_time": "2023-02-10T19:00:11.399Z"
   },
   {
    "duration": 14,
    "start_time": "2023-02-10T19:00:11.405Z"
   },
   {
    "duration": 25,
    "start_time": "2023-02-10T19:00:11.421Z"
   },
   {
    "duration": 6,
    "start_time": "2023-02-10T19:00:11.448Z"
   },
   {
    "duration": 10,
    "start_time": "2023-02-10T19:00:11.456Z"
   },
   {
    "duration": 26,
    "start_time": "2023-02-10T19:00:11.467Z"
   },
   {
    "duration": 10,
    "start_time": "2023-02-10T19:00:11.495Z"
   },
   {
    "duration": 39,
    "start_time": "2023-02-10T19:00:11.506Z"
   },
   {
    "duration": 7,
    "start_time": "2023-02-10T19:00:11.547Z"
   },
   {
    "duration": 7,
    "start_time": "2023-02-10T19:00:11.556Z"
   },
   {
    "duration": 30,
    "start_time": "2023-02-10T19:00:11.564Z"
   },
   {
    "duration": 8,
    "start_time": "2023-02-10T19:00:11.596Z"
   },
   {
    "duration": 34,
    "start_time": "2023-02-10T19:00:11.605Z"
   },
   {
    "duration": 10492,
    "start_time": "2023-02-10T19:00:11.640Z"
   },
   {
    "duration": 2,
    "start_time": "2023-02-10T19:00:22.134Z"
   },
   {
    "duration": 8,
    "start_time": "2023-02-10T19:00:22.138Z"
   },
   {
    "duration": 6,
    "start_time": "2023-02-10T19:00:22.148Z"
   },
   {
    "duration": 39,
    "start_time": "2023-02-10T19:00:22.155Z"
   },
   {
    "duration": 596,
    "start_time": "2023-02-10T19:00:22.202Z"
   },
   {
    "duration": 153,
    "start_time": "2023-02-10T19:00:22.800Z"
   },
   {
    "duration": 7,
    "start_time": "2023-02-10T19:00:22.954Z"
   },
   {
    "duration": 23,
    "start_time": "2023-02-10T19:00:22.962Z"
   },
   {
    "duration": 14,
    "start_time": "2023-02-10T19:00:22.987Z"
   },
   {
    "duration": 5,
    "start_time": "2023-02-10T19:00:23.003Z"
   },
   {
    "duration": 28,
    "start_time": "2023-02-10T19:00:23.009Z"
   },
   {
    "duration": 161,
    "start_time": "2023-02-10T19:00:23.039Z"
   },
   {
    "duration": 207,
    "start_time": "2023-02-10T19:00:23.202Z"
   },
   {
    "duration": 794,
    "start_time": "2023-02-10T19:00:23.411Z"
   },
   {
    "duration": 278,
    "start_time": "2023-02-10T19:00:24.207Z"
   },
   {
    "duration": 414,
    "start_time": "2023-02-10T19:00:24.487Z"
   },
   {
    "duration": 40,
    "start_time": "2023-02-10T19:00:24.903Z"
   },
   {
    "duration": 21,
    "start_time": "2023-02-10T19:00:24.945Z"
   },
   {
    "duration": 58,
    "start_time": "2023-02-10T19:00:24.967Z"
   },
   {
    "duration": 273,
    "start_time": "2023-02-10T19:00:25.028Z"
   },
   {
    "duration": 169,
    "start_time": "2023-02-10T19:00:25.302Z"
   },
   {
    "duration": 6,
    "start_time": "2023-02-10T19:00:25.472Z"
   },
   {
    "duration": 933,
    "start_time": "2023-02-10T19:00:25.493Z"
   },
   {
    "duration": 54,
    "start_time": "2023-02-10T19:00:26.428Z"
   },
   {
    "duration": 217,
    "start_time": "2023-02-10T19:00:26.493Z"
   },
   {
    "duration": 145,
    "start_time": "2023-02-10T19:00:26.712Z"
   },
   {
    "duration": 221,
    "start_time": "2023-02-10T19:00:26.858Z"
   },
   {
    "duration": 15,
    "start_time": "2023-02-10T19:00:27.080Z"
   },
   {
    "duration": 210,
    "start_time": "2023-02-10T19:00:27.097Z"
   },
   {
    "duration": 172,
    "start_time": "2023-02-10T19:00:27.308Z"
   },
   {
    "duration": 177,
    "start_time": "2023-02-10T19:00:27.482Z"
   },
   {
    "duration": 6,
    "start_time": "2023-02-10T19:00:27.661Z"
   },
   {
    "duration": 6,
    "start_time": "2023-02-10T19:01:27.080Z"
   },
   {
    "duration": 6,
    "start_time": "2023-02-10T19:01:38.437Z"
   },
   {
    "duration": 6,
    "start_time": "2023-02-10T19:02:55.986Z"
   },
   {
    "duration": 4,
    "start_time": "2023-02-10T19:03:09.656Z"
   },
   {
    "duration": 4,
    "start_time": "2023-02-10T19:03:17.486Z"
   },
   {
    "duration": 5,
    "start_time": "2023-02-10T19:03:17.885Z"
   },
   {
    "duration": 5,
    "start_time": "2023-02-10T19:03:18.017Z"
   },
   {
    "duration": 6,
    "start_time": "2023-02-10T19:03:21.563Z"
   },
   {
    "duration": 6,
    "start_time": "2023-02-10T19:03:22.214Z"
   },
   {
    "duration": 6,
    "start_time": "2023-02-10T19:03:22.408Z"
   },
   {
    "duration": 6,
    "start_time": "2023-02-10T19:03:22.564Z"
   },
   {
    "duration": 6,
    "start_time": "2023-02-10T19:03:41.619Z"
   },
   {
    "duration": 43,
    "start_time": "2023-02-10T19:05:57.960Z"
   },
   {
    "duration": 49,
    "start_time": "2023-02-10T19:06:35.933Z"
   },
   {
    "duration": 45,
    "start_time": "2023-02-10T19:07:43.245Z"
   },
   {
    "duration": 41,
    "start_time": "2023-02-10T19:07:55.533Z"
   },
   {
    "duration": 43,
    "start_time": "2023-02-10T19:08:29.566Z"
   },
   {
    "duration": 41,
    "start_time": "2023-02-10T19:08:33.860Z"
   },
   {
    "duration": 50,
    "start_time": "2023-02-10T19:08:40.026Z"
   },
   {
    "duration": 8,
    "start_time": "2023-02-10T19:19:23.084Z"
   },
   {
    "duration": 6,
    "start_time": "2023-02-10T19:22:11.338Z"
   },
   {
    "duration": 6,
    "start_time": "2023-02-10T19:22:41.974Z"
   },
   {
    "duration": 1302,
    "start_time": "2023-02-11T05:47:39.433Z"
   },
   {
    "duration": 58,
    "start_time": "2023-02-11T05:47:40.737Z"
   },
   {
    "duration": 4,
    "start_time": "2023-02-11T05:47:40.796Z"
   },
   {
    "duration": 5,
    "start_time": "2023-02-11T05:47:40.801Z"
   },
   {
    "duration": 7,
    "start_time": "2023-02-11T05:47:40.808Z"
   },
   {
    "duration": 5,
    "start_time": "2023-02-11T05:47:40.817Z"
   },
   {
    "duration": 9,
    "start_time": "2023-02-11T05:47:40.823Z"
   },
   {
    "duration": 11,
    "start_time": "2023-02-11T05:47:40.833Z"
   },
   {
    "duration": 8,
    "start_time": "2023-02-11T05:47:40.845Z"
   },
   {
    "duration": 4,
    "start_time": "2023-02-11T05:47:40.855Z"
   },
   {
    "duration": 40,
    "start_time": "2023-02-11T05:47:40.860Z"
   },
   {
    "duration": 5,
    "start_time": "2023-02-11T05:47:40.901Z"
   },
   {
    "duration": 28,
    "start_time": "2023-02-11T05:47:40.908Z"
   },
   {
    "duration": 6,
    "start_time": "2023-02-11T05:47:40.939Z"
   },
   {
    "duration": 8,
    "start_time": "2023-02-11T05:47:40.947Z"
   },
   {
    "duration": 12,
    "start_time": "2023-02-11T05:47:40.957Z"
   },
   {
    "duration": 12,
    "start_time": "2023-02-11T05:47:40.993Z"
   },
   {
    "duration": 35,
    "start_time": "2023-02-11T05:47:41.006Z"
   },
   {
    "duration": 6,
    "start_time": "2023-02-11T05:47:41.042Z"
   },
   {
    "duration": 8,
    "start_time": "2023-02-11T05:47:41.050Z"
   },
   {
    "duration": 5,
    "start_time": "2023-02-11T05:47:41.059Z"
   },
   {
    "duration": 5,
    "start_time": "2023-02-11T05:47:41.093Z"
   },
   {
    "duration": 4,
    "start_time": "2023-02-11T05:47:41.099Z"
   },
   {
    "duration": 9536,
    "start_time": "2023-02-11T05:47:41.104Z"
   },
   {
    "duration": 2,
    "start_time": "2023-02-11T05:47:50.641Z"
   },
   {
    "duration": 6,
    "start_time": "2023-02-11T05:47:50.645Z"
   },
   {
    "duration": 5,
    "start_time": "2023-02-11T05:47:50.653Z"
   },
   {
    "duration": 40,
    "start_time": "2023-02-11T05:47:50.659Z"
   },
   {
    "duration": 551,
    "start_time": "2023-02-11T05:47:50.701Z"
   },
   {
    "duration": 147,
    "start_time": "2023-02-11T05:47:51.253Z"
   },
   {
    "duration": 6,
    "start_time": "2023-02-11T05:47:51.401Z"
   },
   {
    "duration": 11,
    "start_time": "2023-02-11T05:47:51.409Z"
   },
   {
    "duration": 10,
    "start_time": "2023-02-11T05:47:51.422Z"
   },
   {
    "duration": 5,
    "start_time": "2023-02-11T05:47:51.433Z"
   },
   {
    "duration": 56,
    "start_time": "2023-02-11T05:47:51.439Z"
   },
   {
    "duration": 108,
    "start_time": "2023-02-11T05:47:51.497Z"
   },
   {
    "duration": 200,
    "start_time": "2023-02-11T05:47:51.608Z"
   },
   {
    "duration": 723,
    "start_time": "2023-02-11T05:47:51.810Z"
   },
   {
    "duration": 247,
    "start_time": "2023-02-11T05:47:52.534Z"
   },
   {
    "duration": 393,
    "start_time": "2023-02-11T05:47:52.783Z"
   },
   {
    "duration": 43,
    "start_time": "2023-02-11T05:47:53.179Z"
   },
   {
    "duration": 20,
    "start_time": "2023-02-11T05:47:53.223Z"
   },
   {
    "duration": 32,
    "start_time": "2023-02-11T05:47:53.245Z"
   },
   {
    "duration": 260,
    "start_time": "2023-02-11T05:47:53.279Z"
   },
   {
    "duration": 163,
    "start_time": "2023-02-11T05:47:53.541Z"
   },
   {
    "duration": 6,
    "start_time": "2023-02-11T05:47:53.705Z"
   },
   {
    "duration": 891,
    "start_time": "2023-02-11T05:47:53.712Z"
   },
   {
    "duration": 50,
    "start_time": "2023-02-11T05:47:54.605Z"
   },
   {
    "duration": 196,
    "start_time": "2023-02-11T05:47:54.657Z"
   },
   {
    "duration": 129,
    "start_time": "2023-02-11T05:47:54.854Z"
   },
   {
    "duration": 145,
    "start_time": "2023-02-11T05:47:54.984Z"
   },
   {
    "duration": 5,
    "start_time": "2023-02-11T05:47:55.130Z"
   },
   {
    "duration": 193,
    "start_time": "2023-02-11T05:47:55.137Z"
   },
   {
    "duration": 223,
    "start_time": "2023-02-11T05:47:55.331Z"
   },
   {
    "duration": 168,
    "start_time": "2023-02-11T05:47:55.556Z"
   },
   {
    "duration": 5,
    "start_time": "2023-02-11T05:47:55.726Z"
   },
   {
    "duration": 527,
    "start_time": "2023-02-11T05:49:04.301Z"
   },
   {
    "duration": 1284,
    "start_time": "2023-02-11T05:49:23.155Z"
   },
   {
    "duration": 57,
    "start_time": "2023-02-11T05:49:24.441Z"
   },
   {
    "duration": 4,
    "start_time": "2023-02-11T05:49:24.500Z"
   },
   {
    "duration": 8,
    "start_time": "2023-02-11T05:49:24.506Z"
   },
   {
    "duration": 10,
    "start_time": "2023-02-11T05:49:24.516Z"
   },
   {
    "duration": 11,
    "start_time": "2023-02-11T05:49:24.527Z"
   },
   {
    "duration": 22,
    "start_time": "2023-02-11T05:49:24.539Z"
   },
   {
    "duration": 23,
    "start_time": "2023-02-11T05:49:24.562Z"
   },
   {
    "duration": 12,
    "start_time": "2023-02-11T05:49:24.586Z"
   },
   {
    "duration": 6,
    "start_time": "2023-02-11T05:49:24.600Z"
   },
   {
    "duration": 7,
    "start_time": "2023-02-11T05:49:24.607Z"
   },
   {
    "duration": 18,
    "start_time": "2023-02-11T05:49:24.615Z"
   },
   {
    "duration": 38,
    "start_time": "2023-02-11T05:49:24.635Z"
   },
   {
    "duration": 7,
    "start_time": "2023-02-11T05:49:24.674Z"
   },
   {
    "duration": 8,
    "start_time": "2023-02-11T05:49:24.683Z"
   },
   {
    "duration": 10,
    "start_time": "2023-02-11T05:49:24.692Z"
   },
   {
    "duration": 9,
    "start_time": "2023-02-11T05:49:24.704Z"
   },
   {
    "duration": 33,
    "start_time": "2023-02-11T05:49:24.714Z"
   },
   {
    "duration": 6,
    "start_time": "2023-02-11T05:49:24.749Z"
   },
   {
    "duration": 6,
    "start_time": "2023-02-11T05:49:24.756Z"
   },
   {
    "duration": 33,
    "start_time": "2023-02-11T05:49:24.763Z"
   },
   {
    "duration": 4,
    "start_time": "2023-02-11T05:49:24.798Z"
   },
   {
    "duration": 3,
    "start_time": "2023-02-11T05:49:24.804Z"
   },
   {
    "duration": 9606,
    "start_time": "2023-02-11T05:49:24.808Z"
   },
   {
    "duration": 2,
    "start_time": "2023-02-11T05:49:34.416Z"
   },
   {
    "duration": 9,
    "start_time": "2023-02-11T05:49:34.419Z"
   },
   {
    "duration": 6,
    "start_time": "2023-02-11T05:49:34.429Z"
   },
   {
    "duration": 60,
    "start_time": "2023-02-11T05:49:34.437Z"
   },
   {
    "duration": 473,
    "start_time": "2023-02-11T05:49:34.499Z"
   },
   {
    "duration": 143,
    "start_time": "2023-02-11T05:49:34.973Z"
   },
   {
    "duration": 7,
    "start_time": "2023-02-11T05:49:35.117Z"
   },
   {
    "duration": 12,
    "start_time": "2023-02-11T05:49:35.126Z"
   },
   {
    "duration": 11,
    "start_time": "2023-02-11T05:49:35.139Z"
   },
   {
    "duration": 6,
    "start_time": "2023-02-11T05:49:35.152Z"
   },
   {
    "duration": 51,
    "start_time": "2023-02-11T05:49:35.159Z"
   },
   {
    "duration": 182,
    "start_time": "2023-02-11T05:49:35.212Z"
   },
   {
    "duration": 121,
    "start_time": "2023-02-11T05:49:35.396Z"
   },
   {
    "duration": 689,
    "start_time": "2023-02-11T05:49:35.519Z"
   },
   {
    "duration": 243,
    "start_time": "2023-02-11T05:49:36.210Z"
   },
   {
    "duration": 385,
    "start_time": "2023-02-11T05:49:36.454Z"
   },
   {
    "duration": 37,
    "start_time": "2023-02-11T05:49:36.841Z"
   },
   {
    "duration": 31,
    "start_time": "2023-02-11T05:49:36.880Z"
   },
   {
    "duration": 31,
    "start_time": "2023-02-11T05:49:36.912Z"
   },
   {
    "duration": 246,
    "start_time": "2023-02-11T05:49:36.945Z"
   },
   {
    "duration": 152,
    "start_time": "2023-02-11T05:49:37.193Z"
   },
   {
    "duration": 6,
    "start_time": "2023-02-11T05:49:37.347Z"
   },
   {
    "duration": 522,
    "start_time": "2023-02-11T05:49:37.354Z"
   },
   {
    "duration": 44,
    "start_time": "2023-02-11T05:49:37.878Z"
   },
   {
    "duration": 181,
    "start_time": "2023-02-11T05:49:37.924Z"
   },
   {
    "duration": 137,
    "start_time": "2023-02-11T05:49:38.107Z"
   },
   {
    "duration": 136,
    "start_time": "2023-02-11T05:49:38.246Z"
   },
   {
    "duration": 13,
    "start_time": "2023-02-11T05:49:38.383Z"
   },
   {
    "duration": 170,
    "start_time": "2023-02-11T05:49:38.398Z"
   },
   {
    "duration": 228,
    "start_time": "2023-02-11T05:49:38.570Z"
   },
   {
    "duration": 173,
    "start_time": "2023-02-11T05:49:38.800Z"
   },
   {
    "duration": 7,
    "start_time": "2023-02-11T05:49:38.975Z"
   },
   {
    "duration": 504,
    "start_time": "2023-02-11T05:51:10.699Z"
   },
   {
    "duration": 33,
    "start_time": "2023-02-11T05:51:12.913Z"
   },
   {
    "duration": 6,
    "start_time": "2023-02-11T06:02:38.148Z"
   },
   {
    "duration": 4,
    "start_time": "2023-02-11T06:02:53.337Z"
   },
   {
    "duration": 1320,
    "start_time": "2023-02-11T06:03:55.991Z"
   },
   {
    "duration": 56,
    "start_time": "2023-02-11T06:03:57.313Z"
   },
   {
    "duration": 3,
    "start_time": "2023-02-11T06:03:57.371Z"
   },
   {
    "duration": 11,
    "start_time": "2023-02-11T06:03:57.376Z"
   },
   {
    "duration": 5,
    "start_time": "2023-02-11T06:03:57.389Z"
   },
   {
    "duration": 12,
    "start_time": "2023-02-11T06:03:57.395Z"
   },
   {
    "duration": 12,
    "start_time": "2023-02-11T06:03:57.409Z"
   },
   {
    "duration": 12,
    "start_time": "2023-02-11T06:03:57.422Z"
   },
   {
    "duration": 9,
    "start_time": "2023-02-11T06:03:57.435Z"
   },
   {
    "duration": 4,
    "start_time": "2023-02-11T06:03:57.445Z"
   },
   {
    "duration": 7,
    "start_time": "2023-02-11T06:03:57.451Z"
   },
   {
    "duration": 5,
    "start_time": "2023-02-11T06:03:57.460Z"
   },
   {
    "duration": 42,
    "start_time": "2023-02-11T06:03:57.466Z"
   },
   {
    "duration": 6,
    "start_time": "2023-02-11T06:03:57.511Z"
   },
   {
    "duration": 11,
    "start_time": "2023-02-11T06:03:57.518Z"
   },
   {
    "duration": 14,
    "start_time": "2023-02-11T06:03:57.530Z"
   },
   {
    "duration": 9,
    "start_time": "2023-02-11T06:03:57.546Z"
   },
   {
    "duration": 50,
    "start_time": "2023-02-11T06:03:57.556Z"
   },
   {
    "duration": 5,
    "start_time": "2023-02-11T06:03:57.608Z"
   },
   {
    "duration": 7,
    "start_time": "2023-02-11T06:03:57.614Z"
   },
   {
    "duration": 10,
    "start_time": "2023-02-11T06:03:57.622Z"
   },
   {
    "duration": 12,
    "start_time": "2023-02-11T06:03:57.633Z"
   },
   {
    "duration": 5,
    "start_time": "2023-02-11T06:03:57.647Z"
   },
   {
    "duration": 9635,
    "start_time": "2023-02-11T06:03:57.653Z"
   },
   {
    "duration": 4,
    "start_time": "2023-02-11T06:04:07.289Z"
   },
   {
    "duration": 5,
    "start_time": "2023-02-11T06:04:07.295Z"
   },
   {
    "duration": 5,
    "start_time": "2023-02-11T06:04:07.301Z"
   },
   {
    "duration": 90,
    "start_time": "2023-02-11T06:04:07.307Z"
   },
   {
    "duration": 485,
    "start_time": "2023-02-11T06:04:07.399Z"
   },
   {
    "duration": 142,
    "start_time": "2023-02-11T06:04:07.886Z"
   },
   {
    "duration": 5,
    "start_time": "2023-02-11T06:04:08.029Z"
   },
   {
    "duration": 11,
    "start_time": "2023-02-11T06:04:08.036Z"
   },
   {
    "duration": 10,
    "start_time": "2023-02-11T06:04:08.049Z"
   },
   {
    "duration": 7,
    "start_time": "2023-02-11T06:04:08.060Z"
   },
   {
    "duration": 51,
    "start_time": "2023-02-11T06:04:08.069Z"
   },
   {
    "duration": 108,
    "start_time": "2023-02-11T06:04:08.193Z"
   },
   {
    "duration": 206,
    "start_time": "2023-02-11T06:04:08.303Z"
   },
   {
    "duration": 702,
    "start_time": "2023-02-11T06:04:08.511Z"
   },
   {
    "duration": 243,
    "start_time": "2023-02-11T06:04:09.214Z"
   },
   {
    "duration": 381,
    "start_time": "2023-02-11T06:04:09.459Z"
   },
   {
    "duration": 41,
    "start_time": "2023-02-11T06:04:09.843Z"
   },
   {
    "duration": 23,
    "start_time": "2023-02-11T06:04:09.893Z"
   },
   {
    "duration": 33,
    "start_time": "2023-02-11T06:04:09.918Z"
   },
   {
    "duration": 255,
    "start_time": "2023-02-11T06:04:09.952Z"
   },
   {
    "duration": 161,
    "start_time": "2023-02-11T06:04:10.208Z"
   },
   {
    "duration": 6,
    "start_time": "2023-02-11T06:04:10.371Z"
   },
   {
    "duration": 529,
    "start_time": "2023-02-11T06:04:10.378Z"
   },
   {
    "duration": 34,
    "start_time": "2023-02-11T06:04:10.909Z"
   },
   {
    "duration": 183,
    "start_time": "2023-02-11T06:04:10.945Z"
   },
   {
    "duration": 138,
    "start_time": "2023-02-11T06:04:11.130Z"
   },
   {
    "duration": 138,
    "start_time": "2023-02-11T06:04:11.270Z"
   },
   {
    "duration": 6,
    "start_time": "2023-02-11T06:04:11.411Z"
   },
   {
    "duration": 187,
    "start_time": "2023-02-11T06:04:11.419Z"
   },
   {
    "duration": 228,
    "start_time": "2023-02-11T06:04:11.608Z"
   },
   {
    "duration": 165,
    "start_time": "2023-02-11T06:04:11.837Z"
   },
   {
    "duration": 6,
    "start_time": "2023-02-11T06:04:12.004Z"
   },
   {
    "duration": 5,
    "start_time": "2023-02-11T06:04:37.768Z"
   },
   {
    "duration": 5,
    "start_time": "2023-02-11T06:04:46.146Z"
   },
   {
    "duration": 5,
    "start_time": "2023-02-11T06:09:23.257Z"
   },
   {
    "duration": 5,
    "start_time": "2023-02-11T06:10:10.293Z"
   },
   {
    "duration": 148,
    "start_time": "2023-02-11T06:14:51.918Z"
   },
   {
    "duration": 1271,
    "start_time": "2023-02-11T06:14:56.846Z"
   },
   {
    "duration": 58,
    "start_time": "2023-02-11T06:14:58.119Z"
   },
   {
    "duration": 4,
    "start_time": "2023-02-11T06:14:58.178Z"
   },
   {
    "duration": 6,
    "start_time": "2023-02-11T06:14:58.184Z"
   },
   {
    "duration": 5,
    "start_time": "2023-02-11T06:14:58.192Z"
   },
   {
    "duration": 6,
    "start_time": "2023-02-11T06:14:58.198Z"
   },
   {
    "duration": 7,
    "start_time": "2023-02-11T06:14:58.205Z"
   },
   {
    "duration": 11,
    "start_time": "2023-02-11T06:14:58.214Z"
   },
   {
    "duration": 8,
    "start_time": "2023-02-11T06:14:58.226Z"
   },
   {
    "duration": 4,
    "start_time": "2023-02-11T06:14:58.237Z"
   },
   {
    "duration": 9,
    "start_time": "2023-02-11T06:14:58.242Z"
   },
   {
    "duration": 6,
    "start_time": "2023-02-11T06:14:58.252Z"
   },
   {
    "duration": 55,
    "start_time": "2023-02-11T06:14:58.259Z"
   },
   {
    "duration": 7,
    "start_time": "2023-02-11T06:14:58.315Z"
   },
   {
    "duration": 11,
    "start_time": "2023-02-11T06:14:58.324Z"
   },
   {
    "duration": 13,
    "start_time": "2023-02-11T06:14:58.337Z"
   },
   {
    "duration": 10,
    "start_time": "2023-02-11T06:14:58.352Z"
   },
   {
    "duration": 56,
    "start_time": "2023-02-11T06:14:58.363Z"
   },
   {
    "duration": 6,
    "start_time": "2023-02-11T06:14:58.420Z"
   },
   {
    "duration": 6,
    "start_time": "2023-02-11T06:14:58.427Z"
   },
   {
    "duration": 9,
    "start_time": "2023-02-11T06:14:58.434Z"
   },
   {
    "duration": 4,
    "start_time": "2023-02-11T06:14:58.445Z"
   },
   {
    "duration": 131,
    "start_time": "2023-02-11T06:14:58.451Z"
   },
   {
    "duration": 0,
    "start_time": "2023-02-11T06:14:58.585Z"
   },
   {
    "duration": 0,
    "start_time": "2023-02-11T06:14:58.586Z"
   },
   {
    "duration": 0,
    "start_time": "2023-02-11T06:14:58.593Z"
   },
   {
    "duration": 0,
    "start_time": "2023-02-11T06:14:58.594Z"
   },
   {
    "duration": 0,
    "start_time": "2023-02-11T06:14:58.595Z"
   },
   {
    "duration": 0,
    "start_time": "2023-02-11T06:14:58.595Z"
   },
   {
    "duration": 0,
    "start_time": "2023-02-11T06:14:58.597Z"
   },
   {
    "duration": 0,
    "start_time": "2023-02-11T06:14:58.597Z"
   },
   {
    "duration": 0,
    "start_time": "2023-02-11T06:14:58.598Z"
   },
   {
    "duration": 0,
    "start_time": "2023-02-11T06:14:58.599Z"
   },
   {
    "duration": 0,
    "start_time": "2023-02-11T06:14:58.600Z"
   },
   {
    "duration": 0,
    "start_time": "2023-02-11T06:14:58.601Z"
   },
   {
    "duration": 0,
    "start_time": "2023-02-11T06:14:58.602Z"
   },
   {
    "duration": 0,
    "start_time": "2023-02-11T06:14:58.603Z"
   },
   {
    "duration": 0,
    "start_time": "2023-02-11T06:14:58.604Z"
   },
   {
    "duration": 0,
    "start_time": "2023-02-11T06:14:58.605Z"
   },
   {
    "duration": 0,
    "start_time": "2023-02-11T06:14:58.605Z"
   },
   {
    "duration": 0,
    "start_time": "2023-02-11T06:14:58.606Z"
   },
   {
    "duration": 0,
    "start_time": "2023-02-11T06:14:58.607Z"
   },
   {
    "duration": 0,
    "start_time": "2023-02-11T06:14:58.608Z"
   },
   {
    "duration": 0,
    "start_time": "2023-02-11T06:14:58.609Z"
   },
   {
    "duration": 0,
    "start_time": "2023-02-11T06:14:58.610Z"
   },
   {
    "duration": 0,
    "start_time": "2023-02-11T06:14:58.611Z"
   },
   {
    "duration": 0,
    "start_time": "2023-02-11T06:14:58.612Z"
   },
   {
    "duration": 0,
    "start_time": "2023-02-11T06:14:58.613Z"
   },
   {
    "duration": 0,
    "start_time": "2023-02-11T06:14:58.613Z"
   },
   {
    "duration": 0,
    "start_time": "2023-02-11T06:14:58.614Z"
   },
   {
    "duration": 0,
    "start_time": "2023-02-11T06:14:58.615Z"
   },
   {
    "duration": 0,
    "start_time": "2023-02-11T06:14:58.616Z"
   },
   {
    "duration": 0,
    "start_time": "2023-02-11T06:14:58.617Z"
   },
   {
    "duration": 0,
    "start_time": "2023-02-11T06:14:58.618Z"
   },
   {
    "duration": 0,
    "start_time": "2023-02-11T06:14:58.619Z"
   },
   {
    "duration": 0,
    "start_time": "2023-02-11T06:14:58.620Z"
   },
   {
    "duration": 0,
    "start_time": "2023-02-11T06:14:58.621Z"
   },
   {
    "duration": 9,
    "start_time": "2023-02-11T06:15:07.503Z"
   },
   {
    "duration": 1389,
    "start_time": "2023-02-11T06:16:05.568Z"
   },
   {
    "duration": 60,
    "start_time": "2023-02-11T06:16:06.959Z"
   },
   {
    "duration": 4,
    "start_time": "2023-02-11T06:16:07.020Z"
   },
   {
    "duration": 8,
    "start_time": "2023-02-11T06:16:07.026Z"
   },
   {
    "duration": 16,
    "start_time": "2023-02-11T06:16:07.035Z"
   },
   {
    "duration": 26,
    "start_time": "2023-02-11T06:16:07.052Z"
   },
   {
    "duration": 20,
    "start_time": "2023-02-11T06:16:07.080Z"
   },
   {
    "duration": 11,
    "start_time": "2023-02-11T06:16:07.102Z"
   },
   {
    "duration": 9,
    "start_time": "2023-02-11T06:16:07.114Z"
   },
   {
    "duration": 5,
    "start_time": "2023-02-11T06:16:07.125Z"
   },
   {
    "duration": 8,
    "start_time": "2023-02-11T06:16:07.132Z"
   },
   {
    "duration": 6,
    "start_time": "2023-02-11T06:16:07.142Z"
   },
   {
    "duration": 54,
    "start_time": "2023-02-11T06:16:07.149Z"
   },
   {
    "duration": 6,
    "start_time": "2023-02-11T06:16:07.205Z"
   },
   {
    "duration": 10,
    "start_time": "2023-02-11T06:16:07.212Z"
   },
   {
    "duration": 12,
    "start_time": "2023-02-11T06:16:07.223Z"
   },
   {
    "duration": 10,
    "start_time": "2023-02-11T06:16:07.236Z"
   },
   {
    "duration": 56,
    "start_time": "2023-02-11T06:16:07.247Z"
   },
   {
    "duration": 6,
    "start_time": "2023-02-11T06:16:07.305Z"
   },
   {
    "duration": 6,
    "start_time": "2023-02-11T06:16:07.312Z"
   },
   {
    "duration": 4,
    "start_time": "2023-02-11T06:16:07.320Z"
   },
   {
    "duration": 4,
    "start_time": "2023-02-11T06:16:07.326Z"
   },
   {
    "duration": 127,
    "start_time": "2023-02-11T06:16:07.331Z"
   },
   {
    "duration": 0,
    "start_time": "2023-02-11T06:16:07.461Z"
   },
   {
    "duration": 0,
    "start_time": "2023-02-11T06:16:07.463Z"
   },
   {
    "duration": 0,
    "start_time": "2023-02-11T06:16:07.464Z"
   },
   {
    "duration": 0,
    "start_time": "2023-02-11T06:16:07.465Z"
   },
   {
    "duration": 0,
    "start_time": "2023-02-11T06:16:07.466Z"
   },
   {
    "duration": 0,
    "start_time": "2023-02-11T06:16:07.467Z"
   },
   {
    "duration": 0,
    "start_time": "2023-02-11T06:16:07.468Z"
   },
   {
    "duration": 0,
    "start_time": "2023-02-11T06:16:07.470Z"
   },
   {
    "duration": 1,
    "start_time": "2023-02-11T06:16:07.470Z"
   },
   {
    "duration": 0,
    "start_time": "2023-02-11T06:16:07.472Z"
   },
   {
    "duration": 0,
    "start_time": "2023-02-11T06:16:07.493Z"
   },
   {
    "duration": 0,
    "start_time": "2023-02-11T06:16:07.495Z"
   },
   {
    "duration": 0,
    "start_time": "2023-02-11T06:16:07.496Z"
   },
   {
    "duration": 0,
    "start_time": "2023-02-11T06:16:07.497Z"
   },
   {
    "duration": 0,
    "start_time": "2023-02-11T06:16:07.498Z"
   },
   {
    "duration": 0,
    "start_time": "2023-02-11T06:16:07.499Z"
   },
   {
    "duration": 0,
    "start_time": "2023-02-11T06:16:07.500Z"
   },
   {
    "duration": 0,
    "start_time": "2023-02-11T06:16:07.501Z"
   },
   {
    "duration": 0,
    "start_time": "2023-02-11T06:16:07.501Z"
   },
   {
    "duration": 0,
    "start_time": "2023-02-11T06:16:07.502Z"
   },
   {
    "duration": 0,
    "start_time": "2023-02-11T06:16:07.504Z"
   },
   {
    "duration": 0,
    "start_time": "2023-02-11T06:16:07.505Z"
   },
   {
    "duration": 0,
    "start_time": "2023-02-11T06:16:07.506Z"
   },
   {
    "duration": 0,
    "start_time": "2023-02-11T06:16:07.507Z"
   },
   {
    "duration": 0,
    "start_time": "2023-02-11T06:16:07.508Z"
   },
   {
    "duration": 0,
    "start_time": "2023-02-11T06:16:07.508Z"
   },
   {
    "duration": 0,
    "start_time": "2023-02-11T06:16:07.510Z"
   },
   {
    "duration": 0,
    "start_time": "2023-02-11T06:16:07.510Z"
   },
   {
    "duration": 0,
    "start_time": "2023-02-11T06:16:07.511Z"
   },
   {
    "duration": 0,
    "start_time": "2023-02-11T06:16:07.512Z"
   },
   {
    "duration": 0,
    "start_time": "2023-02-11T06:16:07.513Z"
   },
   {
    "duration": 0,
    "start_time": "2023-02-11T06:16:07.514Z"
   },
   {
    "duration": 0,
    "start_time": "2023-02-11T06:16:07.515Z"
   },
   {
    "duration": 0,
    "start_time": "2023-02-11T06:16:07.516Z"
   },
   {
    "duration": 10,
    "start_time": "2023-02-11T06:18:50.174Z"
   },
   {
    "duration": 10,
    "start_time": "2023-02-11T06:19:14.800Z"
   },
   {
    "duration": 5,
    "start_time": "2023-02-11T06:19:16.956Z"
   },
   {
    "duration": 9,
    "start_time": "2023-02-11T06:19:19.371Z"
   },
   {
    "duration": 383,
    "start_time": "2023-02-11T06:19:36.691Z"
   },
   {
    "duration": 1348,
    "start_time": "2023-02-11T06:20:01.356Z"
   },
   {
    "duration": 56,
    "start_time": "2023-02-11T06:20:02.706Z"
   },
   {
    "duration": 4,
    "start_time": "2023-02-11T06:20:02.764Z"
   },
   {
    "duration": 8,
    "start_time": "2023-02-11T06:20:02.769Z"
   },
   {
    "duration": 6,
    "start_time": "2023-02-11T06:20:02.779Z"
   },
   {
    "duration": 17,
    "start_time": "2023-02-11T06:20:02.787Z"
   },
   {
    "duration": 13,
    "start_time": "2023-02-11T06:20:02.806Z"
   },
   {
    "duration": 13,
    "start_time": "2023-02-11T06:20:02.820Z"
   },
   {
    "duration": 10,
    "start_time": "2023-02-11T06:20:02.834Z"
   },
   {
    "duration": 4,
    "start_time": "2023-02-11T06:20:02.846Z"
   },
   {
    "duration": 7,
    "start_time": "2023-02-11T06:20:02.852Z"
   },
   {
    "duration": 5,
    "start_time": "2023-02-11T06:20:02.860Z"
   },
   {
    "duration": 34,
    "start_time": "2023-02-11T06:20:02.866Z"
   },
   {
    "duration": 7,
    "start_time": "2023-02-11T06:20:02.901Z"
   },
   {
    "duration": 16,
    "start_time": "2023-02-11T06:20:02.909Z"
   },
   {
    "duration": 14,
    "start_time": "2023-02-11T06:20:02.927Z"
   },
   {
    "duration": 9,
    "start_time": "2023-02-11T06:20:02.943Z"
   },
   {
    "duration": 49,
    "start_time": "2023-02-11T06:20:02.953Z"
   },
   {
    "duration": 5,
    "start_time": "2023-02-11T06:20:03.004Z"
   },
   {
    "duration": 6,
    "start_time": "2023-02-11T06:20:03.011Z"
   },
   {
    "duration": 4,
    "start_time": "2023-02-11T06:20:03.018Z"
   },
   {
    "duration": 4,
    "start_time": "2023-02-11T06:20:03.024Z"
   },
   {
    "duration": 5,
    "start_time": "2023-02-11T06:20:03.029Z"
   },
   {
    "duration": 9709,
    "start_time": "2023-02-11T06:20:03.035Z"
   },
   {
    "duration": 2,
    "start_time": "2023-02-11T06:20:12.746Z"
   },
   {
    "duration": 7,
    "start_time": "2023-02-11T06:20:12.750Z"
   },
   {
    "duration": 8,
    "start_time": "2023-02-11T06:20:12.758Z"
   },
   {
    "duration": 34,
    "start_time": "2023-02-11T06:20:12.769Z"
   },
   {
    "duration": 566,
    "start_time": "2023-02-11T06:20:12.805Z"
   },
   {
    "duration": 143,
    "start_time": "2023-02-11T06:20:13.373Z"
   },
   {
    "duration": 6,
    "start_time": "2023-02-11T06:20:13.518Z"
   },
   {
    "duration": 12,
    "start_time": "2023-02-11T06:20:13.525Z"
   },
   {
    "duration": 10,
    "start_time": "2023-02-11T06:20:13.538Z"
   },
   {
    "duration": 5,
    "start_time": "2023-02-11T06:20:13.549Z"
   },
   {
    "duration": 52,
    "start_time": "2023-02-11T06:20:13.555Z"
   },
   {
    "duration": 191,
    "start_time": "2023-02-11T06:20:13.609Z"
   },
   {
    "duration": 203,
    "start_time": "2023-02-11T06:20:13.802Z"
   },
   {
    "duration": 698,
    "start_time": "2023-02-11T06:20:14.008Z"
   },
   {
    "duration": 248,
    "start_time": "2023-02-11T06:20:14.708Z"
   },
   {
    "duration": 397,
    "start_time": "2023-02-11T06:20:14.958Z"
   },
   {
    "duration": 45,
    "start_time": "2023-02-11T06:20:15.357Z"
   },
   {
    "duration": 20,
    "start_time": "2023-02-11T06:20:15.404Z"
   },
   {
    "duration": 31,
    "start_time": "2023-02-11T06:20:15.425Z"
   },
   {
    "duration": 258,
    "start_time": "2023-02-11T06:20:15.458Z"
   },
   {
    "duration": 158,
    "start_time": "2023-02-11T06:20:15.717Z"
   },
   {
    "duration": 6,
    "start_time": "2023-02-11T06:20:15.877Z"
   },
   {
    "duration": 546,
    "start_time": "2023-02-11T06:20:15.885Z"
   },
   {
    "duration": 35,
    "start_time": "2023-02-11T06:20:16.432Z"
   },
   {
    "duration": 182,
    "start_time": "2023-02-11T06:20:16.469Z"
   },
   {
    "duration": 142,
    "start_time": "2023-02-11T06:20:16.653Z"
   },
   {
    "duration": 144,
    "start_time": "2023-02-11T06:20:16.797Z"
   },
   {
    "duration": 6,
    "start_time": "2023-02-11T06:20:16.943Z"
   },
   {
    "duration": 187,
    "start_time": "2023-02-11T06:20:16.950Z"
   },
   {
    "duration": 233,
    "start_time": "2023-02-11T06:20:17.139Z"
   },
   {
    "duration": 171,
    "start_time": "2023-02-11T06:20:17.373Z"
   },
   {
    "duration": 6,
    "start_time": "2023-02-11T06:20:17.545Z"
   },
   {
    "duration": 50,
    "start_time": "2023-02-11T06:21:49.389Z"
   },
   {
    "duration": 52,
    "start_time": "2023-02-11T06:22:49.540Z"
   },
   {
    "duration": 156,
    "start_time": "2023-02-11T06:23:02.679Z"
   },
   {
    "duration": 49,
    "start_time": "2023-02-11T06:23:41.312Z"
   },
   {
    "duration": 44,
    "start_time": "2023-02-11T06:24:14.945Z"
   },
   {
    "duration": 47,
    "start_time": "2023-02-11T06:24:24.882Z"
   },
   {
    "duration": 5,
    "start_time": "2023-02-11T06:26:11.702Z"
   },
   {
    "duration": 6,
    "start_time": "2023-02-11T06:26:15.000Z"
   },
   {
    "duration": 5,
    "start_time": "2023-02-11T06:26:15.420Z"
   },
   {
    "duration": 5,
    "start_time": "2023-02-11T06:26:15.722Z"
   },
   {
    "duration": 5,
    "start_time": "2023-02-11T06:26:15.898Z"
   },
   {
    "duration": 5,
    "start_time": "2023-02-11T06:26:16.226Z"
   },
   {
    "duration": 5,
    "start_time": "2023-02-11T06:26:16.380Z"
   },
   {
    "duration": 5,
    "start_time": "2023-02-11T06:26:16.528Z"
   },
   {
    "duration": 5,
    "start_time": "2023-02-11T06:26:16.697Z"
   },
   {
    "duration": 5,
    "start_time": "2023-02-11T06:26:16.849Z"
   },
   {
    "duration": 5,
    "start_time": "2023-02-11T06:26:17.021Z"
   },
   {
    "duration": 4,
    "start_time": "2023-02-11T06:26:17.194Z"
   },
   {
    "duration": 5,
    "start_time": "2023-02-11T06:26:17.366Z"
   },
   {
    "duration": 5,
    "start_time": "2023-02-11T06:26:17.547Z"
   },
   {
    "duration": 5,
    "start_time": "2023-02-11T06:26:17.722Z"
   },
   {
    "duration": 4,
    "start_time": "2023-02-11T06:26:17.879Z"
   },
   {
    "duration": 6,
    "start_time": "2023-02-11T06:26:18.055Z"
   },
   {
    "duration": 5,
    "start_time": "2023-02-11T06:26:18.229Z"
   },
   {
    "duration": 4,
    "start_time": "2023-02-11T06:26:18.389Z"
   },
   {
    "duration": 4,
    "start_time": "2023-02-11T06:26:18.567Z"
   },
   {
    "duration": 6,
    "start_time": "2023-02-11T06:26:18.741Z"
   },
   {
    "duration": 1359,
    "start_time": "2023-02-11T06:31:06.144Z"
   },
   {
    "duration": 56,
    "start_time": "2023-02-11T06:31:07.505Z"
   },
   {
    "duration": 4,
    "start_time": "2023-02-11T06:31:07.563Z"
   },
   {
    "duration": 7,
    "start_time": "2023-02-11T06:31:07.569Z"
   },
   {
    "duration": 9,
    "start_time": "2023-02-11T06:31:07.577Z"
   },
   {
    "duration": 7,
    "start_time": "2023-02-11T06:31:07.587Z"
   },
   {
    "duration": 6,
    "start_time": "2023-02-11T06:31:07.595Z"
   },
   {
    "duration": 11,
    "start_time": "2023-02-11T06:31:07.602Z"
   },
   {
    "duration": 9,
    "start_time": "2023-02-11T06:31:07.614Z"
   },
   {
    "duration": 4,
    "start_time": "2023-02-11T06:31:07.626Z"
   },
   {
    "duration": 9,
    "start_time": "2023-02-11T06:31:07.631Z"
   },
   {
    "duration": 19,
    "start_time": "2023-02-11T06:31:07.641Z"
   },
   {
    "duration": 47,
    "start_time": "2023-02-11T06:31:07.662Z"
   },
   {
    "duration": 7,
    "start_time": "2023-02-11T06:31:07.710Z"
   },
   {
    "duration": 14,
    "start_time": "2023-02-11T06:31:07.718Z"
   },
   {
    "duration": 20,
    "start_time": "2023-02-11T06:31:07.733Z"
   },
   {
    "duration": 9,
    "start_time": "2023-02-11T06:31:07.754Z"
   },
   {
    "duration": 47,
    "start_time": "2023-02-11T06:31:07.765Z"
   },
   {
    "duration": 5,
    "start_time": "2023-02-11T06:31:07.814Z"
   },
   {
    "duration": 10,
    "start_time": "2023-02-11T06:31:07.820Z"
   },
   {
    "duration": 5,
    "start_time": "2023-02-11T06:31:07.832Z"
   },
   {
    "duration": 25,
    "start_time": "2023-02-11T06:31:07.839Z"
   },
   {
    "duration": 20,
    "start_time": "2023-02-11T06:31:07.866Z"
   },
   {
    "duration": 9619,
    "start_time": "2023-02-11T06:31:07.888Z"
   },
   {
    "duration": 11179,
    "start_time": "2023-02-11T06:31:17.508Z"
   },
   {
    "duration": 12807,
    "start_time": "2023-02-11T06:31:28.689Z"
   },
   {
    "duration": 16224,
    "start_time": "2023-02-11T06:31:41.497Z"
   },
   {
    "duration": 73,
    "start_time": "2023-02-11T06:31:57.724Z"
   },
   {
    "duration": 483,
    "start_time": "2023-02-11T06:31:57.799Z"
   },
   {
    "duration": 134,
    "start_time": "2023-02-11T06:31:58.284Z"
   },
   {
    "duration": 6,
    "start_time": "2023-02-11T06:31:58.419Z"
   },
   {
    "duration": 17,
    "start_time": "2023-02-11T06:31:58.426Z"
   },
   {
    "duration": 12,
    "start_time": "2023-02-11T06:31:58.444Z"
   },
   {
    "duration": 12,
    "start_time": "2023-02-11T06:31:58.457Z"
   },
   {
    "duration": 36,
    "start_time": "2023-02-11T06:31:58.470Z"
   },
   {
    "duration": 194,
    "start_time": "2023-02-11T06:31:58.507Z"
   },
   {
    "duration": 198,
    "start_time": "2023-02-11T06:31:58.703Z"
   },
   {
    "duration": 719,
    "start_time": "2023-02-11T06:31:58.903Z"
   },
   {
    "duration": 241,
    "start_time": "2023-02-11T06:31:59.623Z"
   },
   {
    "duration": 391,
    "start_time": "2023-02-11T06:31:59.865Z"
   },
   {
    "duration": 48,
    "start_time": "2023-02-11T06:32:00.258Z"
   },
   {
    "duration": 20,
    "start_time": "2023-02-11T06:32:00.308Z"
   },
   {
    "duration": 32,
    "start_time": "2023-02-11T06:32:00.330Z"
   },
   {
    "duration": 254,
    "start_time": "2023-02-11T06:32:00.363Z"
   },
   {
    "duration": 155,
    "start_time": "2023-02-11T06:32:00.619Z"
   },
   {
    "duration": 6,
    "start_time": "2023-02-11T06:32:00.776Z"
   },
   {
    "duration": 544,
    "start_time": "2023-02-11T06:32:00.793Z"
   },
   {
    "duration": 35,
    "start_time": "2023-02-11T06:32:01.339Z"
   },
   {
    "duration": 183,
    "start_time": "2023-02-11T06:32:01.376Z"
   },
   {
    "duration": 138,
    "start_time": "2023-02-11T06:32:01.560Z"
   },
   {
    "duration": 203,
    "start_time": "2023-02-11T06:32:01.699Z"
   },
   {
    "duration": 5,
    "start_time": "2023-02-11T06:32:01.904Z"
   },
   {
    "duration": 188,
    "start_time": "2023-02-11T06:32:01.910Z"
   },
   {
    "duration": 155,
    "start_time": "2023-02-11T06:32:02.100Z"
   },
   {
    "duration": 174,
    "start_time": "2023-02-11T06:32:02.257Z"
   },
   {
    "duration": 5,
    "start_time": "2023-02-11T06:32:02.433Z"
   },
   {
    "duration": 8060,
    "start_time": "2023-02-11T06:34:26.486Z"
   },
   {
    "duration": 10,
    "start_time": "2023-02-11T06:39:47.120Z"
   },
   {
    "duration": 11,
    "start_time": "2023-02-11T06:40:21.583Z"
   },
   {
    "duration": 12,
    "start_time": "2023-02-11T06:40:47.279Z"
   },
   {
    "duration": 3,
    "start_time": "2023-02-11T06:42:22.962Z"
   },
   {
    "duration": 2,
    "start_time": "2023-02-11T06:42:24.563Z"
   },
   {
    "duration": 2,
    "start_time": "2023-02-11T06:42:26.795Z"
   },
   {
    "duration": 48,
    "start_time": "2023-02-11T06:42:32.503Z"
   },
   {
    "duration": 2,
    "start_time": "2023-02-11T06:42:46.067Z"
   },
   {
    "duration": 2,
    "start_time": "2023-02-11T06:42:53.366Z"
   },
   {
    "duration": 1386,
    "start_time": "2023-02-11T06:54:43.278Z"
   },
   {
    "duration": 59,
    "start_time": "2023-02-11T06:54:44.666Z"
   },
   {
    "duration": 4,
    "start_time": "2023-02-11T06:54:44.727Z"
   },
   {
    "duration": 8,
    "start_time": "2023-02-11T06:54:44.733Z"
   },
   {
    "duration": 13,
    "start_time": "2023-02-11T06:54:44.742Z"
   },
   {
    "duration": 9,
    "start_time": "2023-02-11T06:54:44.757Z"
   },
   {
    "duration": 10,
    "start_time": "2023-02-11T06:54:44.768Z"
   },
   {
    "duration": 17,
    "start_time": "2023-02-11T06:54:44.780Z"
   },
   {
    "duration": 8,
    "start_time": "2023-02-11T06:54:44.799Z"
   },
   {
    "duration": 4,
    "start_time": "2023-02-11T06:54:44.810Z"
   },
   {
    "duration": 8,
    "start_time": "2023-02-11T06:54:44.816Z"
   },
   {
    "duration": 4,
    "start_time": "2023-02-11T06:54:44.826Z"
   },
   {
    "duration": 34,
    "start_time": "2023-02-11T06:54:44.832Z"
   },
   {
    "duration": 7,
    "start_time": "2023-02-11T06:54:44.868Z"
   },
   {
    "duration": 29,
    "start_time": "2023-02-11T06:54:44.876Z"
   },
   {
    "duration": 13,
    "start_time": "2023-02-11T06:54:44.906Z"
   },
   {
    "duration": 12,
    "start_time": "2023-02-11T06:54:44.921Z"
   },
   {
    "duration": 33,
    "start_time": "2023-02-11T06:54:44.934Z"
   },
   {
    "duration": 26,
    "start_time": "2023-02-11T06:54:44.968Z"
   },
   {
    "duration": 6,
    "start_time": "2023-02-11T06:54:44.996Z"
   },
   {
    "duration": 26,
    "start_time": "2023-02-11T06:54:45.003Z"
   },
   {
    "duration": 6,
    "start_time": "2023-02-11T06:54:45.031Z"
   },
   {
    "duration": 8015,
    "start_time": "2023-02-11T06:54:45.039Z"
   },
   {
    "duration": 9596,
    "start_time": "2023-02-11T06:54:53.055Z"
   },
   {
    "duration": 11241,
    "start_time": "2023-02-11T06:55:02.652Z"
   },
   {
    "duration": 15910,
    "start_time": "2023-02-11T06:55:13.895Z"
   },
   {
    "duration": 89,
    "start_time": "2023-02-11T06:55:29.806Z"
   },
   {
    "duration": 403,
    "start_time": "2023-02-11T06:55:29.995Z"
   },
   {
    "duration": 144,
    "start_time": "2023-02-11T06:55:30.400Z"
   },
   {
    "duration": 6,
    "start_time": "2023-02-11T06:55:30.546Z"
   },
   {
    "duration": 32,
    "start_time": "2023-02-11T06:55:30.554Z"
   },
   {
    "duration": 41,
    "start_time": "2023-02-11T06:55:30.588Z"
   },
   {
    "duration": 23,
    "start_time": "2023-02-11T06:55:30.631Z"
   },
   {
    "duration": 38,
    "start_time": "2023-02-11T06:55:30.655Z"
   },
   {
    "duration": 206,
    "start_time": "2023-02-11T06:55:30.695Z"
   },
   {
    "duration": 220,
    "start_time": "2023-02-11T06:55:30.904Z"
   },
   {
    "duration": 689,
    "start_time": "2023-02-11T06:55:31.126Z"
   },
   {
    "duration": 240,
    "start_time": "2023-02-11T06:55:31.816Z"
   },
   {
    "duration": 399,
    "start_time": "2023-02-11T06:55:32.058Z"
   },
   {
    "duration": 44,
    "start_time": "2023-02-11T06:55:32.458Z"
   },
   {
    "duration": 20,
    "start_time": "2023-02-11T06:55:32.504Z"
   },
   {
    "duration": 32,
    "start_time": "2023-02-11T06:55:32.525Z"
   },
   {
    "duration": 264,
    "start_time": "2023-02-11T06:55:32.559Z"
   },
   {
    "duration": 146,
    "start_time": "2023-02-11T06:55:32.825Z"
   },
   {
    "duration": 5,
    "start_time": "2023-02-11T06:55:32.973Z"
   },
   {
    "duration": 535,
    "start_time": "2023-02-11T06:55:32.980Z"
   },
   {
    "duration": 34,
    "start_time": "2023-02-11T06:55:33.516Z"
   },
   {
    "duration": 170,
    "start_time": "2023-02-11T06:55:33.552Z"
   },
   {
    "duration": 131,
    "start_time": "2023-02-11T06:55:33.723Z"
   },
   {
    "duration": 224,
    "start_time": "2023-02-11T06:55:33.856Z"
   },
   {
    "duration": 12,
    "start_time": "2023-02-11T06:55:34.082Z"
   },
   {
    "duration": 191,
    "start_time": "2023-02-11T06:55:34.096Z"
   },
   {
    "duration": 155,
    "start_time": "2023-02-11T06:55:34.293Z"
   },
   {
    "duration": 164,
    "start_time": "2023-02-11T06:55:34.450Z"
   },
   {
    "duration": 5,
    "start_time": "2023-02-11T06:55:34.616Z"
   },
   {
    "duration": 391,
    "start_time": "2023-02-11T07:21:57.082Z"
   },
   {
    "duration": 126,
    "start_time": "2023-02-11T07:22:00.184Z"
   },
   {
    "duration": 6,
    "start_time": "2023-02-11T07:22:04.982Z"
   },
   {
    "duration": 9,
    "start_time": "2023-02-11T07:31:31.557Z"
   },
   {
    "duration": 5,
    "start_time": "2023-02-11T07:32:04.800Z"
   },
   {
    "duration": 51,
    "start_time": "2023-02-11T07:35:12.805Z"
   },
   {
    "duration": 55,
    "start_time": "2023-02-11T07:35:56.529Z"
   },
   {
    "duration": 1387,
    "start_time": "2023-02-11T07:36:03.873Z"
   },
   {
    "duration": 58,
    "start_time": "2023-02-11T07:36:05.261Z"
   },
   {
    "duration": 3,
    "start_time": "2023-02-11T07:36:05.321Z"
   },
   {
    "duration": 8,
    "start_time": "2023-02-11T07:36:05.326Z"
   },
   {
    "duration": 11,
    "start_time": "2023-02-11T07:36:05.336Z"
   },
   {
    "duration": 7,
    "start_time": "2023-02-11T07:36:05.348Z"
   },
   {
    "duration": 9,
    "start_time": "2023-02-11T07:36:05.357Z"
   },
   {
    "duration": 12,
    "start_time": "2023-02-11T07:36:05.368Z"
   },
   {
    "duration": 34,
    "start_time": "2023-02-11T07:36:05.382Z"
   },
   {
    "duration": 6,
    "start_time": "2023-02-11T07:36:05.418Z"
   },
   {
    "duration": 20,
    "start_time": "2023-02-11T07:36:05.426Z"
   },
   {
    "duration": 4,
    "start_time": "2023-02-11T07:36:05.448Z"
   },
   {
    "duration": 32,
    "start_time": "2023-02-11T07:36:05.454Z"
   },
   {
    "duration": 6,
    "start_time": "2023-02-11T07:36:05.489Z"
   },
   {
    "duration": 11,
    "start_time": "2023-02-11T07:36:05.496Z"
   },
   {
    "duration": 12,
    "start_time": "2023-02-11T07:36:05.509Z"
   },
   {
    "duration": 9,
    "start_time": "2023-02-11T07:36:05.522Z"
   },
   {
    "duration": 38,
    "start_time": "2023-02-11T07:36:05.533Z"
   },
   {
    "duration": 21,
    "start_time": "2023-02-11T07:36:05.573Z"
   },
   {
    "duration": 5,
    "start_time": "2023-02-11T07:36:05.596Z"
   },
   {
    "duration": 4,
    "start_time": "2023-02-11T07:36:05.603Z"
   },
   {
    "duration": 4,
    "start_time": "2023-02-11T07:36:05.609Z"
   },
   {
    "duration": 131,
    "start_time": "2023-02-11T07:36:05.615Z"
   },
   {
    "duration": 0,
    "start_time": "2023-02-11T07:36:05.748Z"
   },
   {
    "duration": 0,
    "start_time": "2023-02-11T07:36:05.749Z"
   },
   {
    "duration": 0,
    "start_time": "2023-02-11T07:36:05.750Z"
   },
   {
    "duration": 0,
    "start_time": "2023-02-11T07:36:05.752Z"
   },
   {
    "duration": 0,
    "start_time": "2023-02-11T07:36:05.753Z"
   },
   {
    "duration": 0,
    "start_time": "2023-02-11T07:36:05.754Z"
   },
   {
    "duration": 0,
    "start_time": "2023-02-11T07:36:05.755Z"
   },
   {
    "duration": 0,
    "start_time": "2023-02-11T07:36:05.756Z"
   },
   {
    "duration": 0,
    "start_time": "2023-02-11T07:36:05.757Z"
   },
   {
    "duration": 0,
    "start_time": "2023-02-11T07:36:05.758Z"
   },
   {
    "duration": 0,
    "start_time": "2023-02-11T07:36:05.759Z"
   },
   {
    "duration": 0,
    "start_time": "2023-02-11T07:36:05.760Z"
   },
   {
    "duration": 0,
    "start_time": "2023-02-11T07:36:05.761Z"
   },
   {
    "duration": 0,
    "start_time": "2023-02-11T07:36:05.762Z"
   },
   {
    "duration": 0,
    "start_time": "2023-02-11T07:36:05.763Z"
   },
   {
    "duration": 0,
    "start_time": "2023-02-11T07:36:05.764Z"
   },
   {
    "duration": 0,
    "start_time": "2023-02-11T07:36:05.765Z"
   },
   {
    "duration": 0,
    "start_time": "2023-02-11T07:36:05.765Z"
   },
   {
    "duration": 0,
    "start_time": "2023-02-11T07:36:05.794Z"
   },
   {
    "duration": 0,
    "start_time": "2023-02-11T07:36:05.795Z"
   },
   {
    "duration": 0,
    "start_time": "2023-02-11T07:36:05.796Z"
   },
   {
    "duration": 0,
    "start_time": "2023-02-11T07:36:05.797Z"
   },
   {
    "duration": 0,
    "start_time": "2023-02-11T07:36:05.798Z"
   },
   {
    "duration": 0,
    "start_time": "2023-02-11T07:36:05.798Z"
   },
   {
    "duration": 0,
    "start_time": "2023-02-11T07:36:05.800Z"
   },
   {
    "duration": 0,
    "start_time": "2023-02-11T07:36:05.801Z"
   },
   {
    "duration": 0,
    "start_time": "2023-02-11T07:36:05.802Z"
   },
   {
    "duration": 0,
    "start_time": "2023-02-11T07:36:05.802Z"
   },
   {
    "duration": 0,
    "start_time": "2023-02-11T07:36:05.803Z"
   },
   {
    "duration": 0,
    "start_time": "2023-02-11T07:36:05.804Z"
   },
   {
    "duration": 0,
    "start_time": "2023-02-11T07:36:05.805Z"
   },
   {
    "duration": 0,
    "start_time": "2023-02-11T07:36:05.806Z"
   },
   {
    "duration": 0,
    "start_time": "2023-02-11T07:36:05.807Z"
   },
   {
    "duration": 1319,
    "start_time": "2023-02-11T07:36:51.350Z"
   },
   {
    "duration": 57,
    "start_time": "2023-02-11T07:36:52.670Z"
   },
   {
    "duration": 5,
    "start_time": "2023-02-11T07:36:52.728Z"
   },
   {
    "duration": 6,
    "start_time": "2023-02-11T07:36:52.734Z"
   },
   {
    "duration": 7,
    "start_time": "2023-02-11T07:36:52.742Z"
   },
   {
    "duration": 5,
    "start_time": "2023-02-11T07:36:52.751Z"
   },
   {
    "duration": 8,
    "start_time": "2023-02-11T07:36:52.757Z"
   },
   {
    "duration": 13,
    "start_time": "2023-02-11T07:36:52.766Z"
   },
   {
    "duration": 18,
    "start_time": "2023-02-11T07:36:52.781Z"
   },
   {
    "duration": 5,
    "start_time": "2023-02-11T07:36:52.800Z"
   },
   {
    "duration": 7,
    "start_time": "2023-02-11T07:36:52.806Z"
   },
   {
    "duration": 4,
    "start_time": "2023-02-11T07:36:52.815Z"
   },
   {
    "duration": 28,
    "start_time": "2023-02-11T07:36:52.820Z"
   },
   {
    "duration": 5,
    "start_time": "2023-02-11T07:36:52.851Z"
   },
   {
    "duration": 8,
    "start_time": "2023-02-11T07:36:52.857Z"
   },
   {
    "duration": 13,
    "start_time": "2023-02-11T07:36:52.893Z"
   },
   {
    "duration": 9,
    "start_time": "2023-02-11T07:36:52.908Z"
   },
   {
    "duration": 34,
    "start_time": "2023-02-11T07:36:52.918Z"
   },
   {
    "duration": 5,
    "start_time": "2023-02-11T07:36:52.953Z"
   },
   {
    "duration": 5,
    "start_time": "2023-02-11T07:36:52.960Z"
   },
   {
    "duration": 28,
    "start_time": "2023-02-11T07:36:52.966Z"
   },
   {
    "duration": 5,
    "start_time": "2023-02-11T07:36:52.996Z"
   },
   {
    "duration": 127,
    "start_time": "2023-02-11T07:36:53.002Z"
   },
   {
    "duration": 0,
    "start_time": "2023-02-11T07:36:53.131Z"
   },
   {
    "duration": 0,
    "start_time": "2023-02-11T07:36:53.132Z"
   },
   {
    "duration": 0,
    "start_time": "2023-02-11T07:36:53.133Z"
   },
   {
    "duration": 0,
    "start_time": "2023-02-11T07:36:53.134Z"
   },
   {
    "duration": 0,
    "start_time": "2023-02-11T07:36:53.135Z"
   },
   {
    "duration": 0,
    "start_time": "2023-02-11T07:36:53.136Z"
   },
   {
    "duration": 0,
    "start_time": "2023-02-11T07:36:53.137Z"
   },
   {
    "duration": 0,
    "start_time": "2023-02-11T07:36:53.138Z"
   },
   {
    "duration": 0,
    "start_time": "2023-02-11T07:36:53.139Z"
   },
   {
    "duration": 0,
    "start_time": "2023-02-11T07:36:53.140Z"
   },
   {
    "duration": 0,
    "start_time": "2023-02-11T07:36:53.141Z"
   },
   {
    "duration": 0,
    "start_time": "2023-02-11T07:36:53.142Z"
   },
   {
    "duration": 0,
    "start_time": "2023-02-11T07:36:53.143Z"
   },
   {
    "duration": 0,
    "start_time": "2023-02-11T07:36:53.144Z"
   },
   {
    "duration": 0,
    "start_time": "2023-02-11T07:36:53.145Z"
   },
   {
    "duration": 0,
    "start_time": "2023-02-11T07:36:53.146Z"
   },
   {
    "duration": 0,
    "start_time": "2023-02-11T07:36:53.147Z"
   },
   {
    "duration": 0,
    "start_time": "2023-02-11T07:36:53.148Z"
   },
   {
    "duration": 0,
    "start_time": "2023-02-11T07:36:53.149Z"
   },
   {
    "duration": 0,
    "start_time": "2023-02-11T07:36:53.150Z"
   },
   {
    "duration": 0,
    "start_time": "2023-02-11T07:36:53.151Z"
   },
   {
    "duration": 0,
    "start_time": "2023-02-11T07:36:53.152Z"
   },
   {
    "duration": 0,
    "start_time": "2023-02-11T07:36:53.193Z"
   },
   {
    "duration": 0,
    "start_time": "2023-02-11T07:36:53.194Z"
   },
   {
    "duration": 0,
    "start_time": "2023-02-11T07:36:53.195Z"
   },
   {
    "duration": 0,
    "start_time": "2023-02-11T07:36:53.196Z"
   },
   {
    "duration": 0,
    "start_time": "2023-02-11T07:36:53.197Z"
   },
   {
    "duration": 0,
    "start_time": "2023-02-11T07:36:53.199Z"
   },
   {
    "duration": 0,
    "start_time": "2023-02-11T07:36:53.199Z"
   },
   {
    "duration": 0,
    "start_time": "2023-02-11T07:36:53.200Z"
   },
   {
    "duration": 0,
    "start_time": "2023-02-11T07:36:53.201Z"
   },
   {
    "duration": 0,
    "start_time": "2023-02-11T07:36:53.202Z"
   },
   {
    "duration": 0,
    "start_time": "2023-02-11T07:36:53.203Z"
   },
   {
    "duration": 19,
    "start_time": "2023-02-11T07:37:18.597Z"
   },
   {
    "duration": 20,
    "start_time": "2023-02-11T07:37:21.050Z"
   },
   {
    "duration": 7,
    "start_time": "2023-02-11T07:39:17.626Z"
   },
   {
    "duration": 1346,
    "start_time": "2023-02-11T07:44:57.967Z"
   },
   {
    "duration": 56,
    "start_time": "2023-02-11T07:44:59.315Z"
   },
   {
    "duration": 4,
    "start_time": "2023-02-11T07:44:59.373Z"
   },
   {
    "duration": 19,
    "start_time": "2023-02-11T07:44:59.379Z"
   },
   {
    "duration": 11,
    "start_time": "2023-02-11T07:44:59.400Z"
   },
   {
    "duration": 13,
    "start_time": "2023-02-11T07:44:59.412Z"
   },
   {
    "duration": 24,
    "start_time": "2023-02-11T07:44:59.426Z"
   },
   {
    "duration": 12,
    "start_time": "2023-02-11T07:44:59.452Z"
   },
   {
    "duration": 12,
    "start_time": "2023-02-11T07:44:59.465Z"
   },
   {
    "duration": 5,
    "start_time": "2023-02-11T07:44:59.481Z"
   },
   {
    "duration": 14,
    "start_time": "2023-02-11T07:44:59.488Z"
   },
   {
    "duration": 6,
    "start_time": "2023-02-11T07:44:59.503Z"
   },
   {
    "duration": 39,
    "start_time": "2023-02-11T07:44:59.511Z"
   },
   {
    "duration": 8,
    "start_time": "2023-02-11T07:44:59.552Z"
   },
   {
    "duration": 28,
    "start_time": "2023-02-11T07:44:59.562Z"
   },
   {
    "duration": 21,
    "start_time": "2023-02-11T07:44:59.592Z"
   },
   {
    "duration": 10,
    "start_time": "2023-02-11T07:44:59.615Z"
   },
   {
    "duration": 35,
    "start_time": "2023-02-11T07:44:59.627Z"
   },
   {
    "duration": 6,
    "start_time": "2023-02-11T07:44:59.664Z"
   },
   {
    "duration": 25,
    "start_time": "2023-02-11T07:44:59.672Z"
   },
   {
    "duration": 6,
    "start_time": "2023-02-11T07:44:59.698Z"
   },
   {
    "duration": 12,
    "start_time": "2023-02-11T07:44:59.706Z"
   },
   {
    "duration": 7,
    "start_time": "2023-02-11T07:44:59.719Z"
   },
   {
    "duration": 2,
    "start_time": "2023-02-11T07:44:59.727Z"
   },
   {
    "duration": 9970,
    "start_time": "2023-02-11T07:44:59.730Z"
   },
   {
    "duration": 2,
    "start_time": "2023-02-11T07:45:09.701Z"
   },
   {
    "duration": 15,
    "start_time": "2023-02-11T07:45:09.705Z"
   },
   {
    "duration": 75,
    "start_time": "2023-02-11T07:45:09.723Z"
   },
   {
    "duration": 487,
    "start_time": "2023-02-11T07:45:09.800Z"
   },
   {
    "duration": 138,
    "start_time": "2023-02-11T07:45:10.289Z"
   },
   {
    "duration": 6,
    "start_time": "2023-02-11T07:45:10.428Z"
   },
   {
    "duration": 10,
    "start_time": "2023-02-11T07:45:10.435Z"
   },
   {
    "duration": 9,
    "start_time": "2023-02-11T07:45:10.447Z"
   },
   {
    "duration": 5,
    "start_time": "2023-02-11T07:45:10.457Z"
   },
   {
    "duration": 51,
    "start_time": "2023-02-11T07:45:10.463Z"
   },
   {
    "duration": 183,
    "start_time": "2023-02-11T07:45:10.516Z"
   },
   {
    "duration": 211,
    "start_time": "2023-02-11T07:45:10.702Z"
   },
   {
    "duration": 619,
    "start_time": "2023-02-11T07:45:10.998Z"
   },
   {
    "duration": 243,
    "start_time": "2023-02-11T07:45:11.618Z"
   },
   {
    "duration": 383,
    "start_time": "2023-02-11T07:45:11.862Z"
   },
   {
    "duration": 51,
    "start_time": "2023-02-11T07:45:12.247Z"
   },
   {
    "duration": 20,
    "start_time": "2023-02-11T07:45:12.300Z"
   },
   {
    "duration": 32,
    "start_time": "2023-02-11T07:45:12.322Z"
   },
   {
    "duration": 255,
    "start_time": "2023-02-11T07:45:12.356Z"
   },
   {
    "duration": 156,
    "start_time": "2023-02-11T07:45:12.612Z"
   },
   {
    "duration": 7,
    "start_time": "2023-02-11T07:45:12.770Z"
   },
   {
    "duration": 541,
    "start_time": "2023-02-11T07:45:12.778Z"
   },
   {
    "duration": 33,
    "start_time": "2023-02-11T07:45:13.320Z"
   },
   {
    "duration": 184,
    "start_time": "2023-02-11T07:45:13.355Z"
   },
   {
    "duration": 132,
    "start_time": "2023-02-11T07:45:13.541Z"
   },
   {
    "duration": 139,
    "start_time": "2023-02-11T07:45:13.675Z"
   },
   {
    "duration": 7,
    "start_time": "2023-02-11T07:45:13.816Z"
   },
   {
    "duration": 198,
    "start_time": "2023-02-11T07:45:13.824Z"
   },
   {
    "duration": 254,
    "start_time": "2023-02-11T07:45:14.024Z"
   },
   {
    "duration": 166,
    "start_time": "2023-02-11T07:45:14.280Z"
   },
   {
    "duration": 5,
    "start_time": "2023-02-11T07:45:14.447Z"
   },
   {
    "duration": 38,
    "start_time": "2023-02-11T07:49:38.799Z"
   },
   {
    "duration": 1269,
    "start_time": "2023-02-11T07:49:45.435Z"
   },
   {
    "duration": 54,
    "start_time": "2023-02-11T07:49:46.706Z"
   },
   {
    "duration": 4,
    "start_time": "2023-02-11T07:49:46.762Z"
   },
   {
    "duration": 4,
    "start_time": "2023-02-11T07:49:46.768Z"
   },
   {
    "duration": 6,
    "start_time": "2023-02-11T07:49:46.775Z"
   },
   {
    "duration": 5,
    "start_time": "2023-02-11T07:49:46.782Z"
   },
   {
    "duration": 5,
    "start_time": "2023-02-11T07:49:46.793Z"
   },
   {
    "duration": 12,
    "start_time": "2023-02-11T07:49:46.799Z"
   },
   {
    "duration": 10,
    "start_time": "2023-02-11T07:49:46.812Z"
   },
   {
    "duration": 5,
    "start_time": "2023-02-11T07:49:46.823Z"
   },
   {
    "duration": 7,
    "start_time": "2023-02-11T07:49:46.830Z"
   },
   {
    "duration": 4,
    "start_time": "2023-02-11T07:49:46.839Z"
   },
   {
    "duration": 63,
    "start_time": "2023-02-11T07:49:46.845Z"
   },
   {
    "duration": 7,
    "start_time": "2023-02-11T07:49:46.911Z"
   },
   {
    "duration": 9,
    "start_time": "2023-02-11T07:49:46.919Z"
   },
   {
    "duration": 13,
    "start_time": "2023-02-11T07:49:46.929Z"
   },
   {
    "duration": 10,
    "start_time": "2023-02-11T07:49:46.944Z"
   },
   {
    "duration": 60,
    "start_time": "2023-02-11T07:49:46.956Z"
   },
   {
    "duration": 6,
    "start_time": "2023-02-11T07:49:47.018Z"
   },
   {
    "duration": 25,
    "start_time": "2023-02-11T07:49:47.025Z"
   },
   {
    "duration": 14,
    "start_time": "2023-02-11T07:49:47.052Z"
   },
   {
    "duration": 6,
    "start_time": "2023-02-11T07:49:47.067Z"
   },
   {
    "duration": 7,
    "start_time": "2023-02-11T07:49:47.074Z"
   },
   {
    "duration": 2,
    "start_time": "2023-02-11T07:49:47.083Z"
   },
   {
    "duration": 9581,
    "start_time": "2023-02-11T07:49:47.086Z"
   },
   {
    "duration": 2,
    "start_time": "2023-02-11T07:49:56.669Z"
   },
   {
    "duration": 9,
    "start_time": "2023-02-11T07:49:56.673Z"
   },
   {
    "duration": 42,
    "start_time": "2023-02-11T07:49:56.683Z"
   },
   {
    "duration": 561,
    "start_time": "2023-02-11T07:49:56.726Z"
   },
   {
    "duration": 132,
    "start_time": "2023-02-11T07:49:57.289Z"
   },
   {
    "duration": 5,
    "start_time": "2023-02-11T07:49:57.422Z"
   },
   {
    "duration": 12,
    "start_time": "2023-02-11T07:49:57.429Z"
   },
   {
    "duration": 10,
    "start_time": "2023-02-11T07:49:57.442Z"
   },
   {
    "duration": 4,
    "start_time": "2023-02-11T07:49:57.453Z"
   },
   {
    "duration": 50,
    "start_time": "2023-02-11T07:49:57.459Z"
   },
   {
    "duration": 189,
    "start_time": "2023-02-11T07:49:57.512Z"
   },
   {
    "duration": 199,
    "start_time": "2023-02-11T07:49:57.703Z"
   },
   {
    "duration": 717,
    "start_time": "2023-02-11T07:49:57.905Z"
   },
   {
    "duration": 244,
    "start_time": "2023-02-11T07:49:58.623Z"
   },
   {
    "duration": 379,
    "start_time": "2023-02-11T07:49:58.868Z"
   },
   {
    "duration": 42,
    "start_time": "2023-02-11T07:49:59.252Z"
   },
   {
    "duration": 19,
    "start_time": "2023-02-11T07:49:59.296Z"
   },
   {
    "duration": 32,
    "start_time": "2023-02-11T07:49:59.317Z"
   },
   {
    "duration": 255,
    "start_time": "2023-02-11T07:49:59.351Z"
   },
   {
    "duration": 150,
    "start_time": "2023-02-11T07:49:59.608Z"
   },
   {
    "duration": 7,
    "start_time": "2023-02-11T07:49:59.760Z"
   },
   {
    "duration": 527,
    "start_time": "2023-02-11T07:49:59.768Z"
   },
   {
    "duration": 36,
    "start_time": "2023-02-11T07:50:00.297Z"
   },
   {
    "duration": 176,
    "start_time": "2023-02-11T07:50:00.335Z"
   },
   {
    "duration": 132,
    "start_time": "2023-02-11T07:50:00.513Z"
   },
   {
    "duration": 135,
    "start_time": "2023-02-11T07:50:00.646Z"
   },
   {
    "duration": 12,
    "start_time": "2023-02-11T07:50:00.782Z"
   },
   {
    "duration": 182,
    "start_time": "2023-02-11T07:50:00.796Z"
   },
   {
    "duration": 232,
    "start_time": "2023-02-11T07:50:00.979Z"
   },
   {
    "duration": 166,
    "start_time": "2023-02-11T07:50:01.212Z"
   },
   {
    "duration": 15,
    "start_time": "2023-02-11T07:50:01.380Z"
   },
   {
    "duration": 119,
    "start_time": "2023-02-11T07:56:03.751Z"
   },
   {
    "duration": 40,
    "start_time": "2023-02-11T07:56:13.981Z"
   },
   {
    "duration": 34,
    "start_time": "2023-02-11T07:56:14.760Z"
   },
   {
    "duration": 34,
    "start_time": "2023-02-11T07:56:15.222Z"
   },
   {
    "duration": 36,
    "start_time": "2023-02-11T07:56:15.376Z"
   },
   {
    "duration": 34,
    "start_time": "2023-02-11T07:56:15.527Z"
   },
   {
    "duration": 36,
    "start_time": "2023-02-11T07:56:15.680Z"
   },
   {
    "duration": 4,
    "start_time": "2023-02-11T07:56:19.456Z"
   },
   {
    "duration": 5,
    "start_time": "2023-02-11T07:56:22.041Z"
   },
   {
    "duration": 5,
    "start_time": "2023-02-11T07:56:24.421Z"
   },
   {
    "duration": 5,
    "start_time": "2023-02-11T07:56:27.157Z"
   },
   {
    "duration": 1275,
    "start_time": "2023-02-11T07:56:34.350Z"
   },
   {
    "duration": 60,
    "start_time": "2023-02-11T07:56:35.627Z"
   },
   {
    "duration": 4,
    "start_time": "2023-02-11T07:56:35.688Z"
   },
   {
    "duration": 8,
    "start_time": "2023-02-11T07:56:35.694Z"
   },
   {
    "duration": 13,
    "start_time": "2023-02-11T07:56:35.703Z"
   },
   {
    "duration": 5,
    "start_time": "2023-02-11T07:56:35.718Z"
   },
   {
    "duration": 12,
    "start_time": "2023-02-11T07:56:35.724Z"
   },
   {
    "duration": 13,
    "start_time": "2023-02-11T07:56:35.737Z"
   },
   {
    "duration": 9,
    "start_time": "2023-02-11T07:56:35.752Z"
   },
   {
    "duration": 12,
    "start_time": "2023-02-11T07:56:35.763Z"
   },
   {
    "duration": 12,
    "start_time": "2023-02-11T07:56:35.776Z"
   },
   {
    "duration": 7,
    "start_time": "2023-02-11T07:56:35.789Z"
   },
   {
    "duration": 25,
    "start_time": "2023-02-11T07:56:35.797Z"
   },
   {
    "duration": 6,
    "start_time": "2023-02-11T07:56:35.824Z"
   },
   {
    "duration": 11,
    "start_time": "2023-02-11T07:56:35.831Z"
   },
   {
    "duration": 16,
    "start_time": "2023-02-11T07:56:35.843Z"
   },
   {
    "duration": 33,
    "start_time": "2023-02-11T07:56:35.861Z"
   },
   {
    "duration": 33,
    "start_time": "2023-02-11T07:56:35.895Z"
   },
   {
    "duration": 5,
    "start_time": "2023-02-11T07:56:35.930Z"
   },
   {
    "duration": 6,
    "start_time": "2023-02-11T07:56:35.937Z"
   },
   {
    "duration": 9,
    "start_time": "2023-02-11T07:56:35.945Z"
   },
   {
    "duration": 5,
    "start_time": "2023-02-11T07:56:35.955Z"
   },
   {
    "duration": 8,
    "start_time": "2023-02-11T07:56:35.961Z"
   },
   {
    "duration": 144,
    "start_time": "2023-02-11T07:56:35.993Z"
   },
   {
    "duration": 3,
    "start_time": "2023-02-11T07:56:36.138Z"
   },
   {
    "duration": 9611,
    "start_time": "2023-02-11T07:56:36.142Z"
   },
   {
    "duration": 2,
    "start_time": "2023-02-11T07:56:45.755Z"
   },
   {
    "duration": 24,
    "start_time": "2023-02-11T07:56:45.760Z"
   },
   {
    "duration": 33,
    "start_time": "2023-02-11T07:56:45.786Z"
   },
   {
    "duration": 578,
    "start_time": "2023-02-11T07:56:45.821Z"
   },
   {
    "duration": 134,
    "start_time": "2023-02-11T07:56:46.400Z"
   },
   {
    "duration": 6,
    "start_time": "2023-02-11T07:56:46.535Z"
   },
   {
    "duration": 12,
    "start_time": "2023-02-11T07:56:46.542Z"
   },
   {
    "duration": 12,
    "start_time": "2023-02-11T07:56:46.555Z"
   },
   {
    "duration": 4,
    "start_time": "2023-02-11T07:56:46.568Z"
   },
   {
    "duration": 38,
    "start_time": "2023-02-11T07:56:46.573Z"
   },
   {
    "duration": 182,
    "start_time": "2023-02-11T07:56:46.613Z"
   },
   {
    "duration": 108,
    "start_time": "2023-02-11T07:56:46.797Z"
   },
   {
    "duration": 693,
    "start_time": "2023-02-11T07:56:46.907Z"
   },
   {
    "duration": 235,
    "start_time": "2023-02-11T07:56:47.602Z"
   },
   {
    "duration": 383,
    "start_time": "2023-02-11T07:56:47.838Z"
   },
   {
    "duration": 37,
    "start_time": "2023-02-11T07:56:48.222Z"
   },
   {
    "duration": 19,
    "start_time": "2023-02-11T07:56:48.260Z"
   },
   {
    "duration": 32,
    "start_time": "2023-02-11T07:56:48.294Z"
   },
   {
    "duration": 246,
    "start_time": "2023-02-11T07:56:48.327Z"
   },
   {
    "duration": 156,
    "start_time": "2023-02-11T07:56:48.574Z"
   },
   {
    "duration": 5,
    "start_time": "2023-02-11T07:56:48.732Z"
   },
   {
    "duration": 520,
    "start_time": "2023-02-11T07:56:48.739Z"
   },
   {
    "duration": 38,
    "start_time": "2023-02-11T07:56:49.261Z"
   },
   {
    "duration": 169,
    "start_time": "2023-02-11T07:56:49.300Z"
   },
   {
    "duration": 136,
    "start_time": "2023-02-11T07:56:49.471Z"
   },
   {
    "duration": 201,
    "start_time": "2023-02-11T07:56:49.609Z"
   },
   {
    "duration": 5,
    "start_time": "2023-02-11T07:56:49.812Z"
   },
   {
    "duration": 175,
    "start_time": "2023-02-11T07:56:49.818Z"
   },
   {
    "duration": 152,
    "start_time": "2023-02-11T07:56:49.995Z"
   },
   {
    "duration": 169,
    "start_time": "2023-02-11T07:56:50.149Z"
   },
   {
    "duration": 5,
    "start_time": "2023-02-11T07:56:50.320Z"
   },
   {
    "duration": 36,
    "start_time": "2023-02-11T07:58:27.334Z"
   },
   {
    "duration": 128,
    "start_time": "2023-02-11T07:58:29.017Z"
   },
   {
    "duration": 6,
    "start_time": "2023-02-11T07:59:30.452Z"
   },
   {
    "duration": 7,
    "start_time": "2023-02-11T07:59:32.302Z"
   },
   {
    "duration": 5,
    "start_time": "2023-02-11T07:59:33.321Z"
   },
   {
    "duration": 35,
    "start_time": "2023-02-11T07:59:35.332Z"
   },
   {
    "duration": 124,
    "start_time": "2023-02-11T07:59:36.864Z"
   },
   {
    "duration": 1329,
    "start_time": "2023-02-11T08:02:58.238Z"
   },
   {
    "duration": 56,
    "start_time": "2023-02-11T08:02:59.568Z"
   },
   {
    "duration": 4,
    "start_time": "2023-02-11T08:02:59.625Z"
   },
   {
    "duration": 5,
    "start_time": "2023-02-11T08:02:59.631Z"
   },
   {
    "duration": 6,
    "start_time": "2023-02-11T08:02:59.638Z"
   },
   {
    "duration": 5,
    "start_time": "2023-02-11T08:02:59.645Z"
   },
   {
    "duration": 6,
    "start_time": "2023-02-11T08:02:59.652Z"
   },
   {
    "duration": 10,
    "start_time": "2023-02-11T08:02:59.659Z"
   },
   {
    "duration": 29,
    "start_time": "2023-02-11T08:02:59.670Z"
   },
   {
    "duration": 5,
    "start_time": "2023-02-11T08:02:59.700Z"
   },
   {
    "duration": 9,
    "start_time": "2023-02-11T08:02:59.706Z"
   },
   {
    "duration": 8,
    "start_time": "2023-02-11T08:02:59.716Z"
   },
   {
    "duration": 29,
    "start_time": "2023-02-11T08:02:59.725Z"
   },
   {
    "duration": 7,
    "start_time": "2023-02-11T08:02:59.756Z"
   },
   {
    "duration": 13,
    "start_time": "2023-02-11T08:02:59.764Z"
   },
   {
    "duration": 9,
    "start_time": "2023-02-11T08:02:59.794Z"
   },
   {
    "duration": 9,
    "start_time": "2023-02-11T08:02:59.805Z"
   },
   {
    "duration": 34,
    "start_time": "2023-02-11T08:02:59.815Z"
   },
   {
    "duration": 5,
    "start_time": "2023-02-11T08:02:59.850Z"
   },
   {
    "duration": 7,
    "start_time": "2023-02-11T08:02:59.857Z"
   },
   {
    "duration": 32,
    "start_time": "2023-02-11T08:02:59.865Z"
   },
   {
    "duration": 6,
    "start_time": "2023-02-11T08:02:59.898Z"
   },
   {
    "duration": 7,
    "start_time": "2023-02-11T08:02:59.905Z"
   },
   {
    "duration": 152,
    "start_time": "2023-02-11T08:02:59.913Z"
   },
   {
    "duration": 2,
    "start_time": "2023-02-11T08:03:00.067Z"
   },
   {
    "duration": 10547,
    "start_time": "2023-02-11T08:03:00.070Z"
   },
   {
    "duration": 2,
    "start_time": "2023-02-11T08:03:10.618Z"
   },
   {
    "duration": 9,
    "start_time": "2023-02-11T08:03:10.622Z"
   },
   {
    "duration": 65,
    "start_time": "2023-02-11T08:03:10.632Z"
   },
   {
    "duration": 474,
    "start_time": "2023-02-11T08:03:10.702Z"
   },
   {
    "duration": 134,
    "start_time": "2023-02-11T08:03:11.177Z"
   },
   {
    "duration": 6,
    "start_time": "2023-02-11T08:03:11.312Z"
   },
   {
    "duration": 10,
    "start_time": "2023-02-11T08:03:11.319Z"
   },
   {
    "duration": 11,
    "start_time": "2023-02-11T08:03:11.331Z"
   },
   {
    "duration": 5,
    "start_time": "2023-02-11T08:03:11.344Z"
   },
   {
    "duration": 54,
    "start_time": "2023-02-11T08:03:11.351Z"
   },
   {
    "duration": 192,
    "start_time": "2023-02-11T08:03:11.407Z"
   },
   {
    "duration": 200,
    "start_time": "2023-02-11T08:03:11.601Z"
   },
   {
    "duration": 717,
    "start_time": "2023-02-11T08:03:11.804Z"
   },
   {
    "duration": 240,
    "start_time": "2023-02-11T08:03:12.523Z"
   },
   {
    "duration": 381,
    "start_time": "2023-02-11T08:03:12.766Z"
   },
   {
    "duration": 37,
    "start_time": "2023-02-11T08:03:13.149Z"
   },
   {
    "duration": 20,
    "start_time": "2023-02-11T08:03:13.193Z"
   },
   {
    "duration": 32,
    "start_time": "2023-02-11T08:03:13.214Z"
   },
   {
    "duration": 253,
    "start_time": "2023-02-11T08:03:13.248Z"
   },
   {
    "duration": 162,
    "start_time": "2023-02-11T08:03:13.502Z"
   },
   {
    "duration": 5,
    "start_time": "2023-02-11T08:03:13.666Z"
   },
   {
    "duration": 563,
    "start_time": "2023-02-11T08:03:13.672Z"
   },
   {
    "duration": 37,
    "start_time": "2023-02-11T08:03:14.236Z"
   },
   {
    "duration": 184,
    "start_time": "2023-02-11T08:03:14.275Z"
   },
   {
    "duration": 139,
    "start_time": "2023-02-11T08:03:14.461Z"
   },
   {
    "duration": 206,
    "start_time": "2023-02-11T08:03:14.602Z"
   },
   {
    "duration": 5,
    "start_time": "2023-02-11T08:03:14.810Z"
   },
   {
    "duration": 189,
    "start_time": "2023-02-11T08:03:14.817Z"
   },
   {
    "duration": 165,
    "start_time": "2023-02-11T08:03:15.007Z"
   },
   {
    "duration": 164,
    "start_time": "2023-02-11T08:03:15.174Z"
   },
   {
    "duration": 6,
    "start_time": "2023-02-11T08:03:15.339Z"
   },
   {
    "duration": 1310,
    "start_time": "2023-02-11T08:14:14.505Z"
   },
   {
    "duration": 57,
    "start_time": "2023-02-11T08:14:15.817Z"
   },
   {
    "duration": 4,
    "start_time": "2023-02-11T08:14:15.875Z"
   },
   {
    "duration": 16,
    "start_time": "2023-02-11T08:14:15.881Z"
   },
   {
    "duration": 33,
    "start_time": "2023-02-11T08:14:15.898Z"
   },
   {
    "duration": 11,
    "start_time": "2023-02-11T08:14:15.933Z"
   },
   {
    "duration": 9,
    "start_time": "2023-02-11T08:14:15.945Z"
   },
   {
    "duration": 14,
    "start_time": "2023-02-11T08:14:15.956Z"
   },
   {
    "duration": 9,
    "start_time": "2023-02-11T08:14:15.972Z"
   },
   {
    "duration": 6,
    "start_time": "2023-02-11T08:14:15.983Z"
   },
   {
    "duration": 6,
    "start_time": "2023-02-11T08:14:15.990Z"
   },
   {
    "duration": 5,
    "start_time": "2023-02-11T08:14:15.998Z"
   },
   {
    "duration": 32,
    "start_time": "2023-02-11T08:14:16.005Z"
   },
   {
    "duration": 6,
    "start_time": "2023-02-11T08:14:16.039Z"
   },
   {
    "duration": 10,
    "start_time": "2023-02-11T08:14:16.046Z"
   },
   {
    "duration": 13,
    "start_time": "2023-02-11T08:14:16.057Z"
   },
   {
    "duration": 28,
    "start_time": "2023-02-11T08:14:16.071Z"
   },
   {
    "duration": 34,
    "start_time": "2023-02-11T08:14:16.100Z"
   },
   {
    "duration": 6,
    "start_time": "2023-02-11T08:14:16.135Z"
   },
   {
    "duration": 6,
    "start_time": "2023-02-11T08:14:16.142Z"
   },
   {
    "duration": 8,
    "start_time": "2023-02-11T08:14:16.149Z"
   },
   {
    "duration": 7,
    "start_time": "2023-02-11T08:14:16.158Z"
   },
   {
    "duration": 30,
    "start_time": "2023-02-11T08:14:16.166Z"
   },
   {
    "duration": 107,
    "start_time": "2023-02-11T08:14:16.198Z"
   },
   {
    "duration": 0,
    "start_time": "2023-02-11T08:14:16.308Z"
   },
   {
    "duration": 0,
    "start_time": "2023-02-11T08:14:16.309Z"
   },
   {
    "duration": 0,
    "start_time": "2023-02-11T08:14:16.310Z"
   },
   {
    "duration": 0,
    "start_time": "2023-02-11T08:14:16.311Z"
   },
   {
    "duration": 0,
    "start_time": "2023-02-11T08:14:16.312Z"
   },
   {
    "duration": 0,
    "start_time": "2023-02-11T08:14:16.312Z"
   },
   {
    "duration": 0,
    "start_time": "2023-02-11T08:14:16.313Z"
   },
   {
    "duration": 0,
    "start_time": "2023-02-11T08:14:16.314Z"
   },
   {
    "duration": 0,
    "start_time": "2023-02-11T08:14:16.315Z"
   },
   {
    "duration": 0,
    "start_time": "2023-02-11T08:14:16.316Z"
   },
   {
    "duration": 0,
    "start_time": "2023-02-11T08:14:16.317Z"
   },
   {
    "duration": 0,
    "start_time": "2023-02-11T08:14:16.318Z"
   },
   {
    "duration": 0,
    "start_time": "2023-02-11T08:14:16.318Z"
   },
   {
    "duration": 0,
    "start_time": "2023-02-11T08:14:16.319Z"
   },
   {
    "duration": 0,
    "start_time": "2023-02-11T08:14:16.320Z"
   },
   {
    "duration": 0,
    "start_time": "2023-02-11T08:14:16.321Z"
   },
   {
    "duration": 0,
    "start_time": "2023-02-11T08:14:16.322Z"
   },
   {
    "duration": 0,
    "start_time": "2023-02-11T08:14:16.323Z"
   },
   {
    "duration": 0,
    "start_time": "2023-02-11T08:14:16.324Z"
   },
   {
    "duration": 0,
    "start_time": "2023-02-11T08:14:16.325Z"
   },
   {
    "duration": 0,
    "start_time": "2023-02-11T08:14:16.326Z"
   },
   {
    "duration": 0,
    "start_time": "2023-02-11T08:14:16.327Z"
   },
   {
    "duration": 0,
    "start_time": "2023-02-11T08:14:16.328Z"
   },
   {
    "duration": 0,
    "start_time": "2023-02-11T08:14:16.329Z"
   },
   {
    "duration": 0,
    "start_time": "2023-02-11T08:14:16.330Z"
   },
   {
    "duration": 0,
    "start_time": "2023-02-11T08:14:16.331Z"
   },
   {
    "duration": 0,
    "start_time": "2023-02-11T08:14:16.332Z"
   },
   {
    "duration": 0,
    "start_time": "2023-02-11T08:14:16.333Z"
   },
   {
    "duration": 0,
    "start_time": "2023-02-11T08:14:16.334Z"
   },
   {
    "duration": 0,
    "start_time": "2023-02-11T08:14:16.336Z"
   },
   {
    "duration": 0,
    "start_time": "2023-02-11T08:14:16.337Z"
   },
   {
    "duration": 0,
    "start_time": "2023-02-11T08:14:16.338Z"
   },
   {
    "duration": 0,
    "start_time": "2023-02-11T08:14:16.394Z"
   },
   {
    "duration": 170,
    "start_time": "2023-02-11T08:44:12.702Z"
   },
   {
    "duration": 7,
    "start_time": "2023-02-11T08:44:20.508Z"
   },
   {
    "duration": 1265,
    "start_time": "2023-02-11T08:44:24.732Z"
   },
   {
    "duration": 57,
    "start_time": "2023-02-11T08:44:25.999Z"
   },
   {
    "duration": 5,
    "start_time": "2023-02-11T08:44:26.058Z"
   },
   {
    "duration": 6,
    "start_time": "2023-02-11T08:44:26.064Z"
   },
   {
    "duration": 17,
    "start_time": "2023-02-11T08:44:26.072Z"
   },
   {
    "duration": 6,
    "start_time": "2023-02-11T08:44:26.090Z"
   },
   {
    "duration": 8,
    "start_time": "2023-02-11T08:44:26.098Z"
   },
   {
    "duration": 11,
    "start_time": "2023-02-11T08:44:26.108Z"
   },
   {
    "duration": 10,
    "start_time": "2023-02-11T08:44:26.120Z"
   },
   {
    "duration": 6,
    "start_time": "2023-02-11T08:44:26.131Z"
   },
   {
    "duration": 6,
    "start_time": "2023-02-11T08:44:26.138Z"
   },
   {
    "duration": 4,
    "start_time": "2023-02-11T08:44:26.146Z"
   },
   {
    "duration": 53,
    "start_time": "2023-02-11T08:44:26.152Z"
   },
   {
    "duration": 6,
    "start_time": "2023-02-11T08:44:26.208Z"
   },
   {
    "duration": 9,
    "start_time": "2023-02-11T08:44:26.215Z"
   },
   {
    "duration": 26,
    "start_time": "2023-02-11T08:44:26.225Z"
   },
   {
    "duration": 9,
    "start_time": "2023-02-11T08:44:26.252Z"
   },
   {
    "duration": 42,
    "start_time": "2023-02-11T08:44:26.263Z"
   },
   {
    "duration": 6,
    "start_time": "2023-02-11T08:44:26.306Z"
   },
   {
    "duration": 5,
    "start_time": "2023-02-11T08:44:26.313Z"
   },
   {
    "duration": 5,
    "start_time": "2023-02-11T08:44:26.319Z"
   },
   {
    "duration": 4,
    "start_time": "2023-02-11T08:44:26.325Z"
   },
   {
    "duration": 14,
    "start_time": "2023-02-11T08:44:26.331Z"
   },
   {
    "duration": 170,
    "start_time": "2023-02-11T08:44:26.347Z"
   },
   {
    "duration": 2,
    "start_time": "2023-02-11T08:44:26.518Z"
   },
   {
    "duration": 9760,
    "start_time": "2023-02-11T08:44:26.522Z"
   },
   {
    "duration": 2,
    "start_time": "2023-02-11T08:44:36.284Z"
   },
   {
    "duration": 5,
    "start_time": "2023-02-11T08:44:36.293Z"
   },
   {
    "duration": 93,
    "start_time": "2023-02-11T08:44:36.300Z"
   },
   {
    "duration": 492,
    "start_time": "2023-02-11T08:44:36.398Z"
   },
   {
    "duration": 137,
    "start_time": "2023-02-11T08:44:36.892Z"
   },
   {
    "duration": 7,
    "start_time": "2023-02-11T08:44:37.031Z"
   },
   {
    "duration": 11,
    "start_time": "2023-02-11T08:44:37.040Z"
   },
   {
    "duration": 10,
    "start_time": "2023-02-11T08:44:37.053Z"
   },
   {
    "duration": 5,
    "start_time": "2023-02-11T08:44:37.065Z"
   },
   {
    "duration": 31,
    "start_time": "2023-02-11T08:44:37.094Z"
   },
   {
    "duration": 103,
    "start_time": "2023-02-11T08:44:37.194Z"
   },
   {
    "duration": 111,
    "start_time": "2023-02-11T08:44:37.299Z"
   },
   {
    "duration": 712,
    "start_time": "2023-02-11T08:44:37.412Z"
   },
   {
    "duration": 248,
    "start_time": "2023-02-11T08:44:38.126Z"
   },
   {
    "duration": 387,
    "start_time": "2023-02-11T08:44:38.378Z"
   },
   {
    "duration": 43,
    "start_time": "2023-02-11T08:44:38.767Z"
   },
   {
    "duration": 22,
    "start_time": "2023-02-11T08:44:38.812Z"
   },
   {
    "duration": 32,
    "start_time": "2023-02-11T08:44:38.836Z"
   },
   {
    "duration": 250,
    "start_time": "2023-02-11T08:44:38.870Z"
   },
   {
    "duration": 165,
    "start_time": "2023-02-11T08:44:39.122Z"
   },
   {
    "duration": 5,
    "start_time": "2023-02-11T08:44:39.293Z"
   },
   {
    "duration": 521,
    "start_time": "2023-02-11T08:44:39.300Z"
   },
   {
    "duration": 34,
    "start_time": "2023-02-11T08:44:39.822Z"
   },
   {
    "duration": 182,
    "start_time": "2023-02-11T08:44:39.858Z"
   },
   {
    "duration": 157,
    "start_time": "2023-02-11T08:44:40.042Z"
   },
   {
    "duration": 207,
    "start_time": "2023-02-11T08:44:40.201Z"
   },
   {
    "duration": 5,
    "start_time": "2023-02-11T08:44:40.410Z"
   },
   {
    "duration": 182,
    "start_time": "2023-02-11T08:44:40.416Z"
   },
   {
    "duration": 163,
    "start_time": "2023-02-11T08:44:40.599Z"
   },
   {
    "duration": 181,
    "start_time": "2023-02-11T08:44:40.764Z"
   },
   {
    "duration": 5,
    "start_time": "2023-02-11T08:44:40.947Z"
   },
   {
    "duration": 8,
    "start_time": "2023-02-11T08:53:06.525Z"
   },
   {
    "duration": 8,
    "start_time": "2023-02-11T08:54:15.251Z"
   },
   {
    "duration": 8,
    "start_time": "2023-02-11T08:55:45.286Z"
   },
   {
    "duration": 1336,
    "start_time": "2023-02-11T08:56:19.290Z"
   },
   {
    "duration": 57,
    "start_time": "2023-02-11T08:56:20.628Z"
   },
   {
    "duration": 4,
    "start_time": "2023-02-11T08:56:20.687Z"
   },
   {
    "duration": 6,
    "start_time": "2023-02-11T08:56:20.693Z"
   },
   {
    "duration": 11,
    "start_time": "2023-02-11T08:56:20.701Z"
   },
   {
    "duration": 23,
    "start_time": "2023-02-11T08:56:20.713Z"
   },
   {
    "duration": 20,
    "start_time": "2023-02-11T08:56:20.737Z"
   },
   {
    "duration": 19,
    "start_time": "2023-02-11T08:56:20.759Z"
   },
   {
    "duration": 9,
    "start_time": "2023-02-11T08:56:20.779Z"
   },
   {
    "duration": 5,
    "start_time": "2023-02-11T08:56:20.791Z"
   },
   {
    "duration": 8,
    "start_time": "2023-02-11T08:56:20.797Z"
   },
   {
    "duration": 6,
    "start_time": "2023-02-11T08:56:20.807Z"
   },
   {
    "duration": 27,
    "start_time": "2023-02-11T08:56:20.814Z"
   },
   {
    "duration": 6,
    "start_time": "2023-02-11T08:56:20.842Z"
   },
   {
    "duration": 10,
    "start_time": "2023-02-11T08:56:20.849Z"
   },
   {
    "duration": 34,
    "start_time": "2023-02-11T08:56:20.860Z"
   },
   {
    "duration": 10,
    "start_time": "2023-02-11T08:56:20.896Z"
   },
   {
    "duration": 47,
    "start_time": "2023-02-11T08:56:20.908Z"
   },
   {
    "duration": 8,
    "start_time": "2023-02-11T08:56:20.956Z"
   },
   {
    "duration": 5,
    "start_time": "2023-02-11T08:56:20.966Z"
   },
   {
    "duration": 6,
    "start_time": "2023-02-11T08:56:20.972Z"
   },
   {
    "duration": 13,
    "start_time": "2023-02-11T08:56:20.980Z"
   },
   {
    "duration": 10,
    "start_time": "2023-02-11T08:56:20.995Z"
   },
   {
    "duration": 146,
    "start_time": "2023-02-11T08:56:21.006Z"
   },
   {
    "duration": 2,
    "start_time": "2023-02-11T08:56:21.153Z"
   },
   {
    "duration": 9581,
    "start_time": "2023-02-11T08:56:21.156Z"
   },
   {
    "duration": 2,
    "start_time": "2023-02-11T08:56:30.739Z"
   },
   {
    "duration": 26,
    "start_time": "2023-02-11T08:56:30.744Z"
   },
   {
    "duration": 55,
    "start_time": "2023-02-11T08:56:30.772Z"
   },
   {
    "duration": 556,
    "start_time": "2023-02-11T08:56:30.829Z"
   },
   {
    "duration": 128,
    "start_time": "2023-02-11T08:56:31.388Z"
   },
   {
    "duration": 5,
    "start_time": "2023-02-11T08:56:31.518Z"
   },
   {
    "duration": 16,
    "start_time": "2023-02-11T08:56:31.524Z"
   },
   {
    "duration": 13,
    "start_time": "2023-02-11T08:56:31.542Z"
   },
   {
    "duration": 15,
    "start_time": "2023-02-11T08:56:31.556Z"
   },
   {
    "duration": 34,
    "start_time": "2023-02-11T08:56:31.572Z"
   },
   {
    "duration": 95,
    "start_time": "2023-02-11T08:56:31.608Z"
   },
   {
    "duration": 119,
    "start_time": "2023-02-11T08:56:31.795Z"
   },
   {
    "duration": 700,
    "start_time": "2023-02-11T08:56:31.917Z"
   },
   {
    "duration": 241,
    "start_time": "2023-02-11T08:56:32.618Z"
   },
   {
    "duration": 376,
    "start_time": "2023-02-11T08:56:32.861Z"
   },
   {
    "duration": 37,
    "start_time": "2023-02-11T08:56:33.238Z"
   },
   {
    "duration": 30,
    "start_time": "2023-02-11T08:56:33.277Z"
   },
   {
    "duration": 32,
    "start_time": "2023-02-11T08:56:33.308Z"
   },
   {
    "duration": 245,
    "start_time": "2023-02-11T08:56:33.341Z"
   },
   {
    "duration": 151,
    "start_time": "2023-02-11T08:56:33.588Z"
   },
   {
    "duration": 6,
    "start_time": "2023-02-11T08:56:33.740Z"
   },
   {
    "duration": 555,
    "start_time": "2023-02-11T08:56:33.747Z"
   },
   {
    "duration": 36,
    "start_time": "2023-02-11T08:56:34.304Z"
   },
   {
    "duration": 177,
    "start_time": "2023-02-11T08:56:34.342Z"
   },
   {
    "duration": 137,
    "start_time": "2023-02-11T08:56:34.520Z"
   },
   {
    "duration": 197,
    "start_time": "2023-02-11T08:56:34.659Z"
   },
   {
    "duration": 6,
    "start_time": "2023-02-11T08:56:34.857Z"
   },
   {
    "duration": 180,
    "start_time": "2023-02-11T08:56:34.864Z"
   },
   {
    "duration": 169,
    "start_time": "2023-02-11T08:56:35.045Z"
   },
   {
    "duration": 170,
    "start_time": "2023-02-11T08:56:35.216Z"
   },
   {
    "duration": 7,
    "start_time": "2023-02-11T08:56:35.393Z"
   },
   {
    "duration": 35,
    "start_time": "2023-02-11T09:00:05.417Z"
   },
   {
    "duration": 128,
    "start_time": "2023-02-11T09:00:13.030Z"
   },
   {
    "duration": 1337,
    "start_time": "2023-02-11T09:00:18.180Z"
   },
   {
    "duration": 56,
    "start_time": "2023-02-11T09:00:19.519Z"
   },
   {
    "duration": 5,
    "start_time": "2023-02-11T09:00:19.576Z"
   },
   {
    "duration": 6,
    "start_time": "2023-02-11T09:00:19.582Z"
   },
   {
    "duration": 6,
    "start_time": "2023-02-11T09:00:19.590Z"
   },
   {
    "duration": 10,
    "start_time": "2023-02-11T09:00:19.598Z"
   },
   {
    "duration": 6,
    "start_time": "2023-02-11T09:00:19.610Z"
   },
   {
    "duration": 12,
    "start_time": "2023-02-11T09:00:19.617Z"
   },
   {
    "duration": 8,
    "start_time": "2023-02-11T09:00:19.631Z"
   },
   {
    "duration": 5,
    "start_time": "2023-02-11T09:00:19.640Z"
   },
   {
    "duration": 8,
    "start_time": "2023-02-11T09:00:19.646Z"
   },
   {
    "duration": 4,
    "start_time": "2023-02-11T09:00:19.655Z"
   },
   {
    "duration": 45,
    "start_time": "2023-02-11T09:00:19.660Z"
   },
   {
    "duration": 6,
    "start_time": "2023-02-11T09:00:19.708Z"
   },
   {
    "duration": 8,
    "start_time": "2023-02-11T09:00:19.716Z"
   },
   {
    "duration": 12,
    "start_time": "2023-02-11T09:00:19.725Z"
   },
   {
    "duration": 8,
    "start_time": "2023-02-11T09:00:19.738Z"
   },
   {
    "duration": 55,
    "start_time": "2023-02-11T09:00:19.748Z"
   },
   {
    "duration": 10,
    "start_time": "2023-02-11T09:00:19.805Z"
   },
   {
    "duration": 6,
    "start_time": "2023-02-11T09:00:19.817Z"
   },
   {
    "duration": 5,
    "start_time": "2023-02-11T09:00:19.824Z"
   },
   {
    "duration": 4,
    "start_time": "2023-02-11T09:00:19.831Z"
   },
   {
    "duration": 10,
    "start_time": "2023-02-11T09:00:19.837Z"
   },
   {
    "duration": 187,
    "start_time": "2023-02-11T09:00:19.849Z"
   },
   {
    "duration": 2,
    "start_time": "2023-02-11T09:00:20.038Z"
   },
   {
    "duration": 9829,
    "start_time": "2023-02-11T09:00:20.041Z"
   },
   {
    "duration": 2,
    "start_time": "2023-02-11T09:00:29.872Z"
   },
   {
    "duration": 9,
    "start_time": "2023-02-11T09:00:29.875Z"
   },
   {
    "duration": 27,
    "start_time": "2023-02-11T09:00:29.885Z"
   },
   {
    "duration": 556,
    "start_time": "2023-02-11T09:00:29.914Z"
   },
   {
    "duration": 130,
    "start_time": "2023-02-11T09:00:30.472Z"
   },
   {
    "duration": 6,
    "start_time": "2023-02-11T09:00:30.603Z"
   },
   {
    "duration": 30,
    "start_time": "2023-02-11T09:00:30.611Z"
   },
   {
    "duration": 41,
    "start_time": "2023-02-11T09:00:30.642Z"
   },
   {
    "duration": 54,
    "start_time": "2023-02-11T09:00:30.685Z"
   },
   {
    "duration": 54,
    "start_time": "2023-02-11T09:00:30.740Z"
   },
   {
    "duration": 213,
    "start_time": "2023-02-11T09:00:30.796Z"
   },
   {
    "duration": 206,
    "start_time": "2023-02-11T09:00:31.011Z"
   },
   {
    "duration": 686,
    "start_time": "2023-02-11T09:00:31.219Z"
   },
   {
    "duration": 240,
    "start_time": "2023-02-11T09:00:31.907Z"
   },
   {
    "duration": 395,
    "start_time": "2023-02-11T09:00:32.151Z"
   },
   {
    "duration": 37,
    "start_time": "2023-02-11T09:00:32.548Z"
   },
   {
    "duration": 20,
    "start_time": "2023-02-11T09:00:32.594Z"
   },
   {
    "duration": 32,
    "start_time": "2023-02-11T09:00:32.616Z"
   },
   {
    "duration": 251,
    "start_time": "2023-02-11T09:00:32.649Z"
   },
   {
    "duration": 156,
    "start_time": "2023-02-11T09:00:32.901Z"
   },
   {
    "duration": 5,
    "start_time": "2023-02-11T09:00:33.059Z"
   },
   {
    "duration": 535,
    "start_time": "2023-02-11T09:00:33.066Z"
   },
   {
    "duration": 34,
    "start_time": "2023-02-11T09:00:33.602Z"
   },
   {
    "duration": 177,
    "start_time": "2023-02-11T09:00:33.638Z"
   },
   {
    "duration": 147,
    "start_time": "2023-02-11T09:00:33.817Z"
   },
   {
    "duration": 231,
    "start_time": "2023-02-11T09:00:33.967Z"
   },
   {
    "duration": 6,
    "start_time": "2023-02-11T09:00:34.200Z"
   },
   {
    "duration": 181,
    "start_time": "2023-02-11T09:00:34.208Z"
   },
   {
    "duration": 147,
    "start_time": "2023-02-11T09:00:34.394Z"
   },
   {
    "duration": 171,
    "start_time": "2023-02-11T09:00:34.543Z"
   },
   {
    "duration": 6,
    "start_time": "2023-02-11T09:00:34.715Z"
   },
   {
    "duration": 26,
    "start_time": "2023-02-11T09:37:28.878Z"
   },
   {
    "duration": 26,
    "start_time": "2023-02-11T09:37:33.590Z"
   },
   {
    "duration": 1384,
    "start_time": "2023-02-11T09:37:59.365Z"
   },
   {
    "duration": 59,
    "start_time": "2023-02-11T09:38:00.751Z"
   },
   {
    "duration": 3,
    "start_time": "2023-02-11T09:38:00.812Z"
   },
   {
    "duration": 33,
    "start_time": "2023-02-11T09:38:00.816Z"
   },
   {
    "duration": 22,
    "start_time": "2023-02-11T09:38:00.851Z"
   },
   {
    "duration": 23,
    "start_time": "2023-02-11T09:38:00.874Z"
   },
   {
    "duration": 36,
    "start_time": "2023-02-11T09:38:00.898Z"
   },
   {
    "duration": 32,
    "start_time": "2023-02-11T09:38:00.936Z"
   },
   {
    "duration": 51,
    "start_time": "2023-02-11T09:38:00.970Z"
   },
   {
    "duration": 20,
    "start_time": "2023-02-11T09:38:01.023Z"
   },
   {
    "duration": 41,
    "start_time": "2023-02-11T09:38:01.044Z"
   },
   {
    "duration": 33,
    "start_time": "2023-02-11T09:38:01.087Z"
   },
   {
    "duration": 45,
    "start_time": "2023-02-11T09:38:01.122Z"
   },
   {
    "duration": 8,
    "start_time": "2023-02-11T09:38:01.169Z"
   },
   {
    "duration": 26,
    "start_time": "2023-02-11T09:38:01.178Z"
   },
   {
    "duration": 41,
    "start_time": "2023-02-11T09:38:01.206Z"
   },
   {
    "duration": 26,
    "start_time": "2023-02-11T09:38:01.248Z"
   },
   {
    "duration": 49,
    "start_time": "2023-02-11T09:38:01.276Z"
   },
   {
    "duration": 14,
    "start_time": "2023-02-11T09:38:01.327Z"
   },
   {
    "duration": 32,
    "start_time": "2023-02-11T09:38:01.343Z"
   },
   {
    "duration": 17,
    "start_time": "2023-02-11T09:38:01.377Z"
   },
   {
    "duration": 42,
    "start_time": "2023-02-11T09:38:01.395Z"
   },
   {
    "duration": 22,
    "start_time": "2023-02-11T09:38:01.438Z"
   },
   {
    "duration": 146,
    "start_time": "2023-02-11T09:38:01.461Z"
   },
   {
    "duration": 3,
    "start_time": "2023-02-11T09:38:01.609Z"
   },
   {
    "duration": 10099,
    "start_time": "2023-02-11T09:38:01.614Z"
   },
   {
    "duration": 2,
    "start_time": "2023-02-11T09:38:11.714Z"
   },
   {
    "duration": 12,
    "start_time": "2023-02-11T09:38:11.718Z"
   },
   {
    "duration": 64,
    "start_time": "2023-02-11T09:38:11.731Z"
   },
   {
    "duration": 484,
    "start_time": "2023-02-11T09:38:11.797Z"
   },
   {
    "duration": 149,
    "start_time": "2023-02-11T09:38:12.283Z"
   },
   {
    "duration": 6,
    "start_time": "2023-02-11T09:38:12.433Z"
   },
   {
    "duration": 13,
    "start_time": "2023-02-11T09:38:12.440Z"
   },
   {
    "duration": 10,
    "start_time": "2023-02-11T09:38:12.454Z"
   },
   {
    "duration": 5,
    "start_time": "2023-02-11T09:38:12.465Z"
   },
   {
    "duration": 45,
    "start_time": "2023-02-11T09:38:12.471Z"
   },
   {
    "duration": 179,
    "start_time": "2023-02-11T09:38:12.519Z"
   },
   {
    "duration": 204,
    "start_time": "2023-02-11T09:38:12.700Z"
   },
   {
    "duration": 726,
    "start_time": "2023-02-11T09:38:12.906Z"
   },
   {
    "duration": 244,
    "start_time": "2023-02-11T09:38:13.633Z"
   },
   {
    "duration": 445,
    "start_time": "2023-02-11T09:38:13.882Z"
   },
   {
    "duration": 47,
    "start_time": "2023-02-11T09:38:14.330Z"
   },
   {
    "duration": 33,
    "start_time": "2023-02-11T09:38:14.379Z"
   },
   {
    "duration": 33,
    "start_time": "2023-02-11T09:38:14.414Z"
   },
   {
    "duration": 263,
    "start_time": "2023-02-11T09:38:14.448Z"
   },
   {
    "duration": 156,
    "start_time": "2023-02-11T09:38:14.712Z"
   },
   {
    "duration": 5,
    "start_time": "2023-02-11T09:38:14.870Z"
   },
   {
    "duration": 552,
    "start_time": "2023-02-11T09:38:14.877Z"
   },
   {
    "duration": 33,
    "start_time": "2023-02-11T09:38:15.430Z"
   },
   {
    "duration": 185,
    "start_time": "2023-02-11T09:38:15.465Z"
   },
   {
    "duration": 141,
    "start_time": "2023-02-11T09:38:15.652Z"
   },
   {
    "duration": 205,
    "start_time": "2023-02-11T09:38:15.795Z"
   },
   {
    "duration": 6,
    "start_time": "2023-02-11T09:38:16.002Z"
   },
   {
    "duration": 184,
    "start_time": "2023-02-11T09:38:16.009Z"
   },
   {
    "duration": 165,
    "start_time": "2023-02-11T09:38:16.195Z"
   },
   {
    "duration": 185,
    "start_time": "2023-02-11T09:38:16.363Z"
   },
   {
    "duration": 7,
    "start_time": "2023-02-11T09:38:16.551Z"
   },
   {
    "duration": 39,
    "start_time": "2023-02-11T10:00:56.741Z"
   },
   {
    "duration": 1408,
    "start_time": "2023-02-11T10:44:01.161Z"
   },
   {
    "duration": 58,
    "start_time": "2023-02-11T10:44:02.571Z"
   },
   {
    "duration": 3,
    "start_time": "2023-02-11T10:44:02.631Z"
   },
   {
    "duration": 7,
    "start_time": "2023-02-11T10:44:02.636Z"
   },
   {
    "duration": 19,
    "start_time": "2023-02-11T10:44:02.645Z"
   },
   {
    "duration": 11,
    "start_time": "2023-02-11T10:44:02.665Z"
   },
   {
    "duration": 11,
    "start_time": "2023-02-11T10:44:02.678Z"
   },
   {
    "duration": 11,
    "start_time": "2023-02-11T10:44:02.691Z"
   },
   {
    "duration": 9,
    "start_time": "2023-02-11T10:44:02.703Z"
   },
   {
    "duration": 5,
    "start_time": "2023-02-11T10:44:02.714Z"
   },
   {
    "duration": 15,
    "start_time": "2023-02-11T10:44:02.721Z"
   },
   {
    "duration": 12,
    "start_time": "2023-02-11T10:44:02.737Z"
   },
   {
    "duration": 44,
    "start_time": "2023-02-11T10:44:02.750Z"
   },
   {
    "duration": 6,
    "start_time": "2023-02-11T10:44:02.796Z"
   },
   {
    "duration": 9,
    "start_time": "2023-02-11T10:44:02.803Z"
   },
   {
    "duration": 12,
    "start_time": "2023-02-11T10:44:02.813Z"
   },
   {
    "duration": 9,
    "start_time": "2023-02-11T10:44:02.826Z"
   },
   {
    "duration": 35,
    "start_time": "2023-02-11T10:44:02.837Z"
   },
   {
    "duration": 27,
    "start_time": "2023-02-11T10:44:02.873Z"
   },
   {
    "duration": 6,
    "start_time": "2023-02-11T10:44:02.902Z"
   },
   {
    "duration": 9,
    "start_time": "2023-02-11T10:44:02.910Z"
   },
   {
    "duration": 15,
    "start_time": "2023-02-11T10:44:02.920Z"
   },
   {
    "duration": 23,
    "start_time": "2023-02-11T10:44:02.936Z"
   },
   {
    "duration": 152,
    "start_time": "2023-02-11T10:44:02.961Z"
   },
   {
    "duration": 3,
    "start_time": "2023-02-11T10:44:03.114Z"
   },
   {
    "duration": 10194,
    "start_time": "2023-02-11T10:44:03.118Z"
   },
   {
    "duration": 2,
    "start_time": "2023-02-11T10:44:13.313Z"
   },
   {
    "duration": 5,
    "start_time": "2023-02-11T10:44:13.318Z"
   },
   {
    "duration": 73,
    "start_time": "2023-02-11T10:44:13.324Z"
   },
   {
    "duration": 505,
    "start_time": "2023-02-11T10:44:13.399Z"
   },
   {
    "duration": 171,
    "start_time": "2023-02-11T10:44:13.905Z"
   },
   {
    "duration": 17,
    "start_time": "2023-02-11T10:44:14.078Z"
   },
   {
    "duration": 26,
    "start_time": "2023-02-11T10:44:14.097Z"
   },
   {
    "duration": 15,
    "start_time": "2023-02-11T10:44:14.125Z"
   },
   {
    "duration": 16,
    "start_time": "2023-02-11T10:44:14.142Z"
   },
   {
    "duration": 135,
    "start_time": "2023-02-11T10:44:14.160Z"
   },
   {
    "duration": 104,
    "start_time": "2023-02-11T10:44:14.298Z"
   },
   {
    "duration": 206,
    "start_time": "2023-02-11T10:44:14.407Z"
   },
   {
    "duration": 714,
    "start_time": "2023-02-11T10:44:14.616Z"
   },
   {
    "duration": 249,
    "start_time": "2023-02-11T10:44:15.332Z"
   },
   {
    "duration": 390,
    "start_time": "2023-02-11T10:44:15.583Z"
   },
   {
    "duration": 44,
    "start_time": "2023-02-11T10:44:15.975Z"
   },
   {
    "duration": 20,
    "start_time": "2023-02-11T10:44:16.020Z"
   },
   {
    "duration": 33,
    "start_time": "2023-02-11T10:44:16.041Z"
   },
   {
    "duration": 256,
    "start_time": "2023-02-11T10:44:16.075Z"
   },
   {
    "duration": 164,
    "start_time": "2023-02-11T10:44:16.333Z"
   },
   {
    "duration": 7,
    "start_time": "2023-02-11T10:44:16.499Z"
   },
   {
    "duration": 555,
    "start_time": "2023-02-11T10:44:16.507Z"
   },
   {
    "duration": 40,
    "start_time": "2023-02-11T10:44:17.064Z"
   },
   {
    "duration": 188,
    "start_time": "2023-02-11T10:44:17.106Z"
   },
   {
    "duration": 135,
    "start_time": "2023-02-11T10:44:17.295Z"
   },
   {
    "duration": 217,
    "start_time": "2023-02-11T10:44:17.432Z"
   },
   {
    "duration": 6,
    "start_time": "2023-02-11T10:44:17.650Z"
   },
   {
    "duration": 199,
    "start_time": "2023-02-11T10:44:17.658Z"
   },
   {
    "duration": 185,
    "start_time": "2023-02-11T10:44:17.859Z"
   },
   {
    "duration": 188,
    "start_time": "2023-02-11T10:44:18.045Z"
   },
   {
    "duration": 6,
    "start_time": "2023-02-11T10:44:18.234Z"
   },
   {
    "duration": 8,
    "start_time": "2023-02-11T10:48:59.503Z"
   },
   {
    "duration": 1385,
    "start_time": "2023-02-11T10:49:07.072Z"
   },
   {
    "duration": 57,
    "start_time": "2023-02-11T10:49:08.459Z"
   },
   {
    "duration": 4,
    "start_time": "2023-02-11T10:49:08.518Z"
   },
   {
    "duration": 5,
    "start_time": "2023-02-11T10:49:08.524Z"
   },
   {
    "duration": 10,
    "start_time": "2023-02-11T10:49:08.530Z"
   },
   {
    "duration": 15,
    "start_time": "2023-02-11T10:49:08.542Z"
   },
   {
    "duration": 23,
    "start_time": "2023-02-11T10:49:08.558Z"
   },
   {
    "duration": 15,
    "start_time": "2023-02-11T10:49:08.582Z"
   },
   {
    "duration": 8,
    "start_time": "2023-02-11T10:49:08.599Z"
   },
   {
    "duration": 4,
    "start_time": "2023-02-11T10:49:08.610Z"
   },
   {
    "duration": 9,
    "start_time": "2023-02-11T10:49:08.615Z"
   },
   {
    "duration": 5,
    "start_time": "2023-02-11T10:49:08.625Z"
   },
   {
    "duration": 26,
    "start_time": "2023-02-11T10:49:08.631Z"
   },
   {
    "duration": 7,
    "start_time": "2023-02-11T10:49:08.658Z"
   },
   {
    "duration": 33,
    "start_time": "2023-02-11T10:49:08.666Z"
   },
   {
    "duration": 15,
    "start_time": "2023-02-11T10:49:08.701Z"
   },
   {
    "duration": 9,
    "start_time": "2023-02-11T10:49:08.718Z"
   },
   {
    "duration": 34,
    "start_time": "2023-02-11T10:49:08.728Z"
   },
   {
    "duration": 9,
    "start_time": "2023-02-11T10:49:08.763Z"
   },
   {
    "duration": 24,
    "start_time": "2023-02-11T10:49:08.773Z"
   },
   {
    "duration": 9,
    "start_time": "2023-02-11T10:49:08.799Z"
   },
   {
    "duration": 4,
    "start_time": "2023-02-11T10:49:08.810Z"
   },
   {
    "duration": 12,
    "start_time": "2023-02-11T10:49:08.816Z"
   },
   {
    "duration": 169,
    "start_time": "2023-02-11T10:49:08.829Z"
   },
   {
    "duration": 3,
    "start_time": "2023-02-11T10:49:08.999Z"
   },
   {
    "duration": 10086,
    "start_time": "2023-02-11T10:49:09.003Z"
   },
   {
    "duration": 3,
    "start_time": "2023-02-11T10:49:19.092Z"
   },
   {
    "duration": 3,
    "start_time": "2023-02-11T10:49:19.100Z"
   },
   {
    "duration": 93,
    "start_time": "2023-02-11T10:49:19.105Z"
   },
   {
    "duration": 486,
    "start_time": "2023-02-11T10:49:19.201Z"
   },
   {
    "duration": 135,
    "start_time": "2023-02-11T10:49:19.689Z"
   },
   {
    "duration": 6,
    "start_time": "2023-02-11T10:49:19.826Z"
   },
   {
    "duration": 12,
    "start_time": "2023-02-11T10:49:19.834Z"
   },
   {
    "duration": 10,
    "start_time": "2023-02-11T10:49:19.848Z"
   },
   {
    "duration": 5,
    "start_time": "2023-02-11T10:49:19.860Z"
   },
   {
    "duration": 28,
    "start_time": "2023-02-11T10:49:19.894Z"
   },
   {
    "duration": 110,
    "start_time": "2023-02-11T10:49:19.994Z"
   },
   {
    "duration": 196,
    "start_time": "2023-02-11T10:49:20.106Z"
   },
   {
    "duration": 702,
    "start_time": "2023-02-11T10:49:20.304Z"
   },
   {
    "duration": 255,
    "start_time": "2023-02-11T10:49:21.008Z"
   },
   {
    "duration": 437,
    "start_time": "2023-02-11T10:49:21.264Z"
   },
   {
    "duration": 41,
    "start_time": "2023-02-11T10:49:21.702Z"
   },
   {
    "duration": 22,
    "start_time": "2023-02-11T10:49:21.745Z"
   },
   {
    "duration": 57,
    "start_time": "2023-02-11T10:49:21.769Z"
   },
   {
    "duration": 271,
    "start_time": "2023-02-11T10:49:21.827Z"
   },
   {
    "duration": 178,
    "start_time": "2023-02-11T10:49:22.100Z"
   },
   {
    "duration": 16,
    "start_time": "2023-02-11T10:49:22.280Z"
   },
   {
    "duration": 560,
    "start_time": "2023-02-11T10:49:22.298Z"
   },
   {
    "duration": 43,
    "start_time": "2023-02-11T10:49:22.860Z"
   },
   {
    "duration": 193,
    "start_time": "2023-02-11T10:49:22.905Z"
   },
   {
    "duration": 144,
    "start_time": "2023-02-11T10:49:23.099Z"
   },
   {
    "duration": 216,
    "start_time": "2023-02-11T10:49:23.245Z"
   },
   {
    "duration": 5,
    "start_time": "2023-02-11T10:49:23.463Z"
   },
   {
    "duration": 188,
    "start_time": "2023-02-11T10:49:23.469Z"
   },
   {
    "duration": 163,
    "start_time": "2023-02-11T10:49:23.658Z"
   },
   {
    "duration": 179,
    "start_time": "2023-02-11T10:49:23.823Z"
   },
   {
    "duration": 6,
    "start_time": "2023-02-11T10:49:24.005Z"
   },
   {
    "duration": 1372,
    "start_time": "2023-02-11T11:15:01.010Z"
   },
   {
    "duration": 65,
    "start_time": "2023-02-11T11:15:02.385Z"
   },
   {
    "duration": 4,
    "start_time": "2023-02-11T11:15:02.452Z"
   },
   {
    "duration": 38,
    "start_time": "2023-02-11T11:15:02.458Z"
   },
   {
    "duration": 51,
    "start_time": "2023-02-11T11:15:02.498Z"
   },
   {
    "duration": 7,
    "start_time": "2023-02-11T11:15:02.550Z"
   },
   {
    "duration": 11,
    "start_time": "2023-02-11T11:15:02.558Z"
   },
   {
    "duration": 40,
    "start_time": "2023-02-11T11:15:02.571Z"
   },
   {
    "duration": 33,
    "start_time": "2023-02-11T11:15:02.614Z"
   },
   {
    "duration": 13,
    "start_time": "2023-02-11T11:15:02.650Z"
   },
   {
    "duration": 21,
    "start_time": "2023-02-11T11:15:02.665Z"
   },
   {
    "duration": 7,
    "start_time": "2023-02-11T11:15:02.688Z"
   },
   {
    "duration": 56,
    "start_time": "2023-02-11T11:15:02.696Z"
   },
   {
    "duration": 9,
    "start_time": "2023-02-11T11:15:02.753Z"
   },
   {
    "duration": 15,
    "start_time": "2023-02-11T11:15:02.764Z"
   },
   {
    "duration": 14,
    "start_time": "2023-02-11T11:15:02.781Z"
   },
   {
    "duration": 11,
    "start_time": "2023-02-11T11:15:02.797Z"
   },
   {
    "duration": 37,
    "start_time": "2023-02-11T11:15:02.811Z"
   },
   {
    "duration": 10,
    "start_time": "2023-02-11T11:15:02.850Z"
   },
   {
    "duration": 7,
    "start_time": "2023-02-11T11:15:02.862Z"
   },
   {
    "duration": 7,
    "start_time": "2023-02-11T11:15:02.894Z"
   },
   {
    "duration": 5,
    "start_time": "2023-02-11T11:15:02.903Z"
   },
   {
    "duration": 11,
    "start_time": "2023-02-11T11:15:02.910Z"
   },
   {
    "duration": 188,
    "start_time": "2023-02-11T11:15:02.922Z"
   },
   {
    "duration": 2,
    "start_time": "2023-02-11T11:15:03.111Z"
   },
   {
    "duration": 10274,
    "start_time": "2023-02-11T11:15:03.115Z"
   },
   {
    "duration": 6,
    "start_time": "2023-02-11T11:15:13.394Z"
   },
   {
    "duration": 6,
    "start_time": "2023-02-11T11:15:13.405Z"
   },
   {
    "duration": 201,
    "start_time": "2023-02-11T11:15:13.413Z"
   },
   {
    "duration": 551,
    "start_time": "2023-02-11T11:15:13.617Z"
   },
   {
    "duration": 200,
    "start_time": "2023-02-11T11:15:14.170Z"
   },
   {
    "duration": 9,
    "start_time": "2023-02-11T11:15:14.372Z"
   },
   {
    "duration": 25,
    "start_time": "2023-02-11T11:15:14.383Z"
   },
   {
    "duration": 13,
    "start_time": "2023-02-11T11:15:14.410Z"
   },
   {
    "duration": 6,
    "start_time": "2023-02-11T11:15:14.425Z"
   },
   {
    "duration": 65,
    "start_time": "2023-02-11T11:15:14.433Z"
   },
   {
    "duration": 99,
    "start_time": "2023-02-11T11:15:14.501Z"
   },
   {
    "duration": 209,
    "start_time": "2023-02-11T11:15:14.602Z"
   },
   {
    "duration": 638,
    "start_time": "2023-02-11T11:15:14.896Z"
   },
   {
    "duration": 258,
    "start_time": "2023-02-11T11:15:15.536Z"
   },
   {
    "duration": 401,
    "start_time": "2023-02-11T11:15:15.796Z"
   },
   {
    "duration": 38,
    "start_time": "2023-02-11T11:15:16.199Z"
   },
   {
    "duration": 25,
    "start_time": "2023-02-11T11:15:16.238Z"
   },
   {
    "duration": 62,
    "start_time": "2023-02-11T11:15:16.265Z"
   },
   {
    "duration": 2,
    "start_time": "2023-02-11T11:15:16.329Z"
   },
   {
    "duration": 9,
    "start_time": "2023-02-11T11:15:16.333Z"
   },
   {
    "duration": 10,
    "start_time": "2023-02-11T11:15:16.344Z"
   },
   {
    "duration": 550,
    "start_time": "2023-02-11T11:15:16.356Z"
   },
   {
    "duration": 34,
    "start_time": "2023-02-11T11:15:16.908Z"
   },
   {
    "duration": 192,
    "start_time": "2023-02-11T11:15:16.944Z"
   },
   {
    "duration": 150,
    "start_time": "2023-02-11T11:15:17.138Z"
   },
   {
    "duration": 149,
    "start_time": "2023-02-11T11:15:17.293Z"
   },
   {
    "duration": 6,
    "start_time": "2023-02-11T11:15:17.444Z"
   },
   {
    "duration": 329,
    "start_time": "2023-02-11T11:15:17.452Z"
   },
   {
    "duration": 0,
    "start_time": "2023-02-11T11:15:17.782Z"
   },
   {
    "duration": 0,
    "start_time": "2023-02-11T11:15:17.783Z"
   },
   {
    "duration": 133,
    "start_time": "2023-02-11T11:18:19.705Z"
   },
   {
    "duration": 1421,
    "start_time": "2023-02-11T11:27:19.834Z"
   },
   {
    "duration": 63,
    "start_time": "2023-02-11T11:27:21.257Z"
   },
   {
    "duration": 4,
    "start_time": "2023-02-11T11:27:21.322Z"
   },
   {
    "duration": 12,
    "start_time": "2023-02-11T11:27:21.328Z"
   },
   {
    "duration": 15,
    "start_time": "2023-02-11T11:27:21.342Z"
   },
   {
    "duration": 14,
    "start_time": "2023-02-11T11:27:21.359Z"
   },
   {
    "duration": 20,
    "start_time": "2023-02-11T11:27:21.375Z"
   },
   {
    "duration": 16,
    "start_time": "2023-02-11T11:27:21.397Z"
   },
   {
    "duration": 18,
    "start_time": "2023-02-11T11:27:21.415Z"
   },
   {
    "duration": 5,
    "start_time": "2023-02-11T11:27:21.435Z"
   },
   {
    "duration": 14,
    "start_time": "2023-02-11T11:27:21.442Z"
   },
   {
    "duration": 5,
    "start_time": "2023-02-11T11:27:21.459Z"
   },
   {
    "duration": 43,
    "start_time": "2023-02-11T11:27:21.466Z"
   },
   {
    "duration": 8,
    "start_time": "2023-02-11T11:27:21.513Z"
   },
   {
    "duration": 25,
    "start_time": "2023-02-11T11:27:21.523Z"
   },
   {
    "duration": 28,
    "start_time": "2023-02-11T11:27:21.550Z"
   },
   {
    "duration": 34,
    "start_time": "2023-02-11T11:27:21.580Z"
   },
   {
    "duration": 49,
    "start_time": "2023-02-11T11:27:21.616Z"
   },
   {
    "duration": 10,
    "start_time": "2023-02-11T11:27:21.667Z"
   },
   {
    "duration": 14,
    "start_time": "2023-02-11T11:27:21.679Z"
   },
   {
    "duration": 12,
    "start_time": "2023-02-11T11:27:21.695Z"
   },
   {
    "duration": 18,
    "start_time": "2023-02-11T11:27:21.709Z"
   },
   {
    "duration": 17,
    "start_time": "2023-02-11T11:27:21.729Z"
   },
   {
    "duration": 173,
    "start_time": "2023-02-11T11:27:21.748Z"
   },
   {
    "duration": 2,
    "start_time": "2023-02-11T11:27:21.924Z"
   },
   {
    "duration": 11238,
    "start_time": "2023-02-11T11:27:21.928Z"
   },
   {
    "duration": 2,
    "start_time": "2023-02-11T11:27:33.168Z"
   },
   {
    "duration": 5,
    "start_time": "2023-02-11T11:27:33.172Z"
   },
   {
    "duration": 215,
    "start_time": "2023-02-11T11:27:33.179Z"
   },
   {
    "duration": 501,
    "start_time": "2023-02-11T11:27:33.397Z"
   },
   {
    "duration": 182,
    "start_time": "2023-02-11T11:27:33.900Z"
   },
   {
    "duration": 17,
    "start_time": "2023-02-11T11:27:34.084Z"
   },
   {
    "duration": 47,
    "start_time": "2023-02-11T11:27:34.103Z"
   },
   {
    "duration": 18,
    "start_time": "2023-02-11T11:27:34.153Z"
   },
   {
    "duration": 32,
    "start_time": "2023-02-11T11:27:34.173Z"
   },
   {
    "duration": 48,
    "start_time": "2023-02-11T11:27:34.208Z"
   },
   {
    "duration": 53,
    "start_time": "2023-02-11T11:27:34.258Z"
   },
   {
    "duration": 121,
    "start_time": "2023-02-11T11:27:34.395Z"
   },
   {
    "duration": 725,
    "start_time": "2023-02-11T11:27:34.522Z"
   },
   {
    "duration": 259,
    "start_time": "2023-02-11T11:27:35.249Z"
   },
   {
    "duration": 408,
    "start_time": "2023-02-11T11:27:35.512Z"
   },
   {
    "duration": 41,
    "start_time": "2023-02-11T11:27:35.921Z"
   },
   {
    "duration": 40,
    "start_time": "2023-02-11T11:27:35.965Z"
   },
   {
    "duration": 40,
    "start_time": "2023-02-11T11:27:36.008Z"
   },
   {
    "duration": 3,
    "start_time": "2023-02-11T11:27:36.049Z"
   },
   {
    "duration": 7,
    "start_time": "2023-02-11T11:27:36.053Z"
   },
   {
    "duration": 8,
    "start_time": "2023-02-11T11:27:36.061Z"
   },
   {
    "duration": 153,
    "start_time": "2023-02-11T11:27:36.071Z"
   },
   {
    "duration": 530,
    "start_time": "2023-02-11T11:27:36.226Z"
   },
   {
    "duration": 43,
    "start_time": "2023-02-11T11:27:36.758Z"
   },
   {
    "duration": 181,
    "start_time": "2023-02-11T11:27:36.803Z"
   },
   {
    "duration": 144,
    "start_time": "2023-02-11T11:27:36.992Z"
   },
   {
    "duration": 156,
    "start_time": "2023-02-11T11:27:37.137Z"
   },
   {
    "duration": 6,
    "start_time": "2023-02-11T11:27:37.295Z"
   },
   {
    "duration": 10,
    "start_time": "2023-02-11T11:27:37.302Z"
   },
   {
    "duration": 1443,
    "start_time": "2023-02-11T11:28:50.384Z"
   },
   {
    "duration": 61,
    "start_time": "2023-02-11T11:28:51.829Z"
   },
   {
    "duration": 4,
    "start_time": "2023-02-11T11:28:51.892Z"
   },
   {
    "duration": 6,
    "start_time": "2023-02-11T11:28:51.898Z"
   },
   {
    "duration": 9,
    "start_time": "2023-02-11T11:28:51.907Z"
   },
   {
    "duration": 10,
    "start_time": "2023-02-11T11:28:51.917Z"
   },
   {
    "duration": 8,
    "start_time": "2023-02-11T11:28:51.929Z"
   },
   {
    "duration": 17,
    "start_time": "2023-02-11T11:28:51.938Z"
   },
   {
    "duration": 11,
    "start_time": "2023-02-11T11:28:51.957Z"
   },
   {
    "duration": 6,
    "start_time": "2023-02-11T11:28:51.970Z"
   },
   {
    "duration": 24,
    "start_time": "2023-02-11T11:28:51.977Z"
   },
   {
    "duration": 14,
    "start_time": "2023-02-11T11:28:52.003Z"
   },
   {
    "duration": 33,
    "start_time": "2023-02-11T11:28:52.019Z"
   },
   {
    "duration": 8,
    "start_time": "2023-02-11T11:28:52.055Z"
   },
   {
    "duration": 29,
    "start_time": "2023-02-11T11:28:52.065Z"
   },
   {
    "duration": 20,
    "start_time": "2023-02-11T11:28:52.096Z"
   },
   {
    "duration": 10,
    "start_time": "2023-02-11T11:28:52.117Z"
   },
   {
    "duration": 37,
    "start_time": "2023-02-11T11:28:52.129Z"
   },
   {
    "duration": 28,
    "start_time": "2023-02-11T11:28:52.168Z"
   },
   {
    "duration": 6,
    "start_time": "2023-02-11T11:28:52.198Z"
   },
   {
    "duration": 6,
    "start_time": "2023-02-11T11:28:52.205Z"
   },
   {
    "duration": 6,
    "start_time": "2023-02-11T11:28:52.212Z"
   },
   {
    "duration": 7,
    "start_time": "2023-02-11T11:28:52.220Z"
   },
   {
    "duration": 380,
    "start_time": "2023-02-11T11:28:52.229Z"
   },
   {
    "duration": 3,
    "start_time": "2023-02-11T11:28:52.611Z"
   },
   {
    "duration": 11298,
    "start_time": "2023-02-11T11:28:52.616Z"
   },
   {
    "duration": 2,
    "start_time": "2023-02-11T11:29:03.916Z"
   },
   {
    "duration": 13,
    "start_time": "2023-02-11T11:29:03.920Z"
   },
   {
    "duration": 163,
    "start_time": "2023-02-11T11:29:03.935Z"
   },
   {
    "duration": 537,
    "start_time": "2023-02-11T11:29:04.101Z"
   },
   {
    "duration": 137,
    "start_time": "2023-02-11T11:29:04.640Z"
   },
   {
    "duration": 16,
    "start_time": "2023-02-11T11:29:04.778Z"
   },
   {
    "duration": 12,
    "start_time": "2023-02-11T11:29:04.796Z"
   },
   {
    "duration": 16,
    "start_time": "2023-02-11T11:29:04.809Z"
   },
   {
    "duration": 7,
    "start_time": "2023-02-11T11:29:04.827Z"
   },
   {
    "duration": 70,
    "start_time": "2023-02-11T11:29:04.836Z"
   },
   {
    "duration": 101,
    "start_time": "2023-02-11T11:29:04.907Z"
   },
   {
    "duration": 200,
    "start_time": "2023-02-11T11:29:05.010Z"
   },
   {
    "duration": 732,
    "start_time": "2023-02-11T11:29:05.212Z"
   },
   {
    "duration": 265,
    "start_time": "2023-02-11T11:29:05.945Z"
   },
   {
    "duration": 424,
    "start_time": "2023-02-11T11:29:06.213Z"
   },
   {
    "duration": 53,
    "start_time": "2023-02-11T11:29:06.640Z"
   },
   {
    "duration": 20,
    "start_time": "2023-02-11T11:29:06.694Z"
   },
   {
    "duration": 33,
    "start_time": "2023-02-11T11:29:06.716Z"
   },
   {
    "duration": 3,
    "start_time": "2023-02-11T11:29:06.751Z"
   },
   {
    "duration": 9,
    "start_time": "2023-02-11T11:29:06.755Z"
   },
   {
    "duration": 28,
    "start_time": "2023-02-11T11:29:06.766Z"
   },
   {
    "duration": 1183422,
    "start_time": "2023-02-11T11:29:06.795Z"
   },
   {
    "duration": 518,
    "start_time": "2023-02-11T11:48:50.219Z"
   },
   {
    "duration": 35,
    "start_time": "2023-02-11T11:48:50.739Z"
   },
   {
    "duration": 190,
    "start_time": "2023-02-11T11:48:50.776Z"
   },
   {
    "duration": 141,
    "start_time": "2023-02-11T11:48:50.968Z"
   },
   {
    "duration": 136,
    "start_time": "2023-02-11T11:48:51.110Z"
   },
   {
    "duration": 7,
    "start_time": "2023-02-11T11:48:51.247Z"
   },
   {
    "duration": 119,
    "start_time": "2023-02-11T11:48:51.255Z"
   },
   {
    "duration": 3,
    "start_time": "2023-02-11T11:54:39.326Z"
   },
   {
    "duration": 1323,
    "start_time": "2023-02-11T12:01:56.553Z"
   },
   {
    "duration": 59,
    "start_time": "2023-02-11T12:01:57.878Z"
   },
   {
    "duration": 4,
    "start_time": "2023-02-11T12:01:57.938Z"
   },
   {
    "duration": 6,
    "start_time": "2023-02-11T12:01:57.944Z"
   },
   {
    "duration": 10,
    "start_time": "2023-02-11T12:01:57.952Z"
   },
   {
    "duration": 6,
    "start_time": "2023-02-11T12:01:57.964Z"
   },
   {
    "duration": 9,
    "start_time": "2023-02-11T12:01:57.972Z"
   },
   {
    "duration": 19,
    "start_time": "2023-02-11T12:01:57.983Z"
   },
   {
    "duration": 9,
    "start_time": "2023-02-11T12:01:58.004Z"
   },
   {
    "duration": 6,
    "start_time": "2023-02-11T12:01:58.015Z"
   },
   {
    "duration": 8,
    "start_time": "2023-02-11T12:01:58.022Z"
   },
   {
    "duration": 6,
    "start_time": "2023-02-11T12:01:58.031Z"
   },
   {
    "duration": 56,
    "start_time": "2023-02-11T12:01:58.039Z"
   },
   {
    "duration": 8,
    "start_time": "2023-02-11T12:01:58.097Z"
   },
   {
    "duration": 13,
    "start_time": "2023-02-11T12:01:58.106Z"
   },
   {
    "duration": 13,
    "start_time": "2023-02-11T12:01:58.121Z"
   },
   {
    "duration": 12,
    "start_time": "2023-02-11T12:01:58.136Z"
   },
   {
    "duration": 58,
    "start_time": "2023-02-11T12:01:58.149Z"
   },
   {
    "duration": 9,
    "start_time": "2023-02-11T12:01:58.208Z"
   },
   {
    "duration": 5,
    "start_time": "2023-02-11T12:01:58.219Z"
   },
   {
    "duration": 6,
    "start_time": "2023-02-11T12:01:58.225Z"
   },
   {
    "duration": 6,
    "start_time": "2023-02-11T12:01:58.232Z"
   },
   {
    "duration": 7,
    "start_time": "2023-02-11T12:01:58.239Z"
   },
   {
    "duration": 184,
    "start_time": "2023-02-11T12:01:58.248Z"
   },
   {
    "duration": 2,
    "start_time": "2023-02-11T12:01:58.434Z"
   },
   {
    "duration": 10170,
    "start_time": "2023-02-11T12:01:58.437Z"
   },
   {
    "duration": 2,
    "start_time": "2023-02-11T12:02:08.609Z"
   },
   {
    "duration": 6,
    "start_time": "2023-02-11T12:02:08.614Z"
   },
   {
    "duration": 76,
    "start_time": "2023-02-11T12:02:08.621Z"
   },
   {
    "duration": 518,
    "start_time": "2023-02-11T12:02:08.699Z"
   },
   {
    "duration": 138,
    "start_time": "2023-02-11T12:02:09.219Z"
   },
   {
    "duration": 6,
    "start_time": "2023-02-11T12:02:09.359Z"
   },
   {
    "duration": 27,
    "start_time": "2023-02-11T12:02:09.366Z"
   },
   {
    "duration": 11,
    "start_time": "2023-02-11T12:02:09.395Z"
   },
   {
    "duration": 6,
    "start_time": "2023-02-11T12:02:09.407Z"
   },
   {
    "duration": 78,
    "start_time": "2023-02-11T12:02:09.415Z"
   },
   {
    "duration": 108,
    "start_time": "2023-02-11T12:02:09.496Z"
   },
   {
    "duration": 203,
    "start_time": "2023-02-11T12:02:09.606Z"
   },
   {
    "duration": 790,
    "start_time": "2023-02-11T12:02:09.811Z"
   },
   {
    "duration": 266,
    "start_time": "2023-02-11T12:02:10.603Z"
   },
   {
    "duration": 437,
    "start_time": "2023-02-11T12:02:10.870Z"
   },
   {
    "duration": 41,
    "start_time": "2023-02-11T12:02:11.309Z"
   },
   {
    "duration": 23,
    "start_time": "2023-02-11T12:02:11.352Z"
   },
   {
    "duration": 34,
    "start_time": "2023-02-11T12:02:11.395Z"
   },
   {
    "duration": 3,
    "start_time": "2023-02-11T12:02:11.430Z"
   },
   {
    "duration": 5,
    "start_time": "2023-02-11T12:02:11.434Z"
   },
   {
    "duration": 5,
    "start_time": "2023-02-11T12:02:11.440Z"
   },
   {
    "duration": 4,
    "start_time": "2023-02-11T12:02:11.447Z"
   },
   {
    "duration": 297,
    "start_time": "2023-02-11T12:02:11.453Z"
   },
   {
    "duration": 21,
    "start_time": "2023-02-11T12:02:11.752Z"
   },
   {
    "duration": 179,
    "start_time": "2023-02-11T12:02:11.775Z"
   },
   {
    "duration": 163,
    "start_time": "2023-02-11T12:02:11.955Z"
   },
   {
    "duration": 169,
    "start_time": "2023-02-11T12:02:12.120Z"
   },
   {
    "duration": 7,
    "start_time": "2023-02-11T12:02:12.291Z"
   },
   {
    "duration": 146,
    "start_time": "2023-02-11T12:02:12.300Z"
   },
   {
    "duration": 283,
    "start_time": "2023-02-11T12:05:55.353Z"
   },
   {
    "duration": 26,
    "start_time": "2023-02-11T12:06:02.829Z"
   },
   {
    "duration": 274,
    "start_time": "2023-02-11T12:06:06.976Z"
   },
   {
    "duration": 269,
    "start_time": "2023-02-11T12:09:53.336Z"
   },
   {
    "duration": 220,
    "start_time": "2023-02-11T12:11:31.368Z"
   },
   {
    "duration": 1450,
    "start_time": "2023-02-11T12:17:03.416Z"
   },
   {
    "duration": 64,
    "start_time": "2023-02-11T12:17:04.868Z"
   },
   {
    "duration": 5,
    "start_time": "2023-02-11T12:17:04.934Z"
   },
   {
    "duration": 5,
    "start_time": "2023-02-11T12:17:04.941Z"
   },
   {
    "duration": 10,
    "start_time": "2023-02-11T12:17:04.948Z"
   },
   {
    "duration": 7,
    "start_time": "2023-02-11T12:17:04.959Z"
   },
   {
    "duration": 26,
    "start_time": "2023-02-11T12:17:04.967Z"
   },
   {
    "duration": 11,
    "start_time": "2023-02-11T12:17:04.995Z"
   },
   {
    "duration": 10,
    "start_time": "2023-02-11T12:17:05.007Z"
   },
   {
    "duration": 5,
    "start_time": "2023-02-11T12:17:05.018Z"
   },
   {
    "duration": 12,
    "start_time": "2023-02-11T12:17:05.025Z"
   },
   {
    "duration": 5,
    "start_time": "2023-02-11T12:17:05.038Z"
   },
   {
    "duration": 54,
    "start_time": "2023-02-11T12:17:05.044Z"
   },
   {
    "duration": 6,
    "start_time": "2023-02-11T12:17:05.101Z"
   },
   {
    "duration": 13,
    "start_time": "2023-02-11T12:17:05.109Z"
   },
   {
    "duration": 14,
    "start_time": "2023-02-11T12:17:05.123Z"
   },
   {
    "duration": 10,
    "start_time": "2023-02-11T12:17:05.139Z"
   },
   {
    "duration": 57,
    "start_time": "2023-02-11T12:17:05.150Z"
   },
   {
    "duration": 10,
    "start_time": "2023-02-11T12:17:05.208Z"
   },
   {
    "duration": 6,
    "start_time": "2023-02-11T12:17:05.220Z"
   },
   {
    "duration": 6,
    "start_time": "2023-02-11T12:17:05.228Z"
   },
   {
    "duration": 6,
    "start_time": "2023-02-11T12:17:05.235Z"
   },
   {
    "duration": 10,
    "start_time": "2023-02-11T12:17:05.242Z"
   },
   {
    "duration": 187,
    "start_time": "2023-02-11T12:17:05.254Z"
   },
   {
    "duration": 2,
    "start_time": "2023-02-11T12:17:05.443Z"
   },
   {
    "duration": 10383,
    "start_time": "2023-02-11T12:17:05.446Z"
   },
   {
    "duration": 2,
    "start_time": "2023-02-11T12:17:15.831Z"
   },
   {
    "duration": 5,
    "start_time": "2023-02-11T12:17:15.835Z"
   },
   {
    "duration": 61,
    "start_time": "2023-02-11T12:17:15.841Z"
   },
   {
    "duration": 574,
    "start_time": "2023-02-11T12:17:15.903Z"
   },
   {
    "duration": 134,
    "start_time": "2023-02-11T12:17:16.479Z"
   },
   {
    "duration": 7,
    "start_time": "2023-02-11T12:17:16.615Z"
   },
   {
    "duration": 20,
    "start_time": "2023-02-11T12:17:16.623Z"
   },
   {
    "duration": 12,
    "start_time": "2023-02-11T12:17:16.645Z"
   },
   {
    "duration": 8,
    "start_time": "2023-02-11T12:17:16.659Z"
   },
   {
    "duration": 41,
    "start_time": "2023-02-11T12:17:16.668Z"
   },
   {
    "duration": 187,
    "start_time": "2023-02-11T12:17:16.711Z"
   },
   {
    "duration": 118,
    "start_time": "2023-02-11T12:17:16.900Z"
   },
   {
    "duration": 720,
    "start_time": "2023-02-11T12:17:17.020Z"
   },
   {
    "duration": 250,
    "start_time": "2023-02-11T12:17:17.742Z"
   },
   {
    "duration": 408,
    "start_time": "2023-02-11T12:17:17.995Z"
   },
   {
    "duration": 39,
    "start_time": "2023-02-11T12:17:18.405Z"
   },
   {
    "duration": 26,
    "start_time": "2023-02-11T12:17:18.446Z"
   },
   {
    "duration": 51,
    "start_time": "2023-02-11T12:17:18.473Z"
   },
   {
    "duration": 2,
    "start_time": "2023-02-11T12:17:18.526Z"
   },
   {
    "duration": 6,
    "start_time": "2023-02-11T12:17:18.529Z"
   },
   {
    "duration": 6,
    "start_time": "2023-02-11T12:17:18.537Z"
   },
   {
    "duration": 4,
    "start_time": "2023-02-11T12:17:18.545Z"
   },
   {
    "duration": 294,
    "start_time": "2023-02-11T12:17:18.551Z"
   },
   {
    "duration": 27,
    "start_time": "2023-02-11T12:17:18.846Z"
   },
   {
    "duration": 166,
    "start_time": "2023-02-11T12:17:18.875Z"
   },
   {
    "duration": 53,
    "start_time": "2023-02-11T12:19:17.400Z"
   },
   {
    "duration": 1610,
    "start_time": "2023-02-12T07:12:39.752Z"
   },
   {
    "duration": 197,
    "start_time": "2023-02-12T07:12:41.366Z"
   },
   {
    "duration": 3,
    "start_time": "2023-02-12T07:12:41.565Z"
   },
   {
    "duration": 6,
    "start_time": "2023-02-12T07:12:41.570Z"
   },
   {
    "duration": 8,
    "start_time": "2023-02-12T07:12:41.578Z"
   },
   {
    "duration": 10,
    "start_time": "2023-02-12T07:12:41.587Z"
   },
   {
    "duration": 7,
    "start_time": "2023-02-12T07:12:41.598Z"
   },
   {
    "duration": 11,
    "start_time": "2023-02-12T07:12:41.606Z"
   },
   {
    "duration": 9,
    "start_time": "2023-02-12T07:12:41.618Z"
   },
   {
    "duration": 4,
    "start_time": "2023-02-12T07:12:41.628Z"
   },
   {
    "duration": 34,
    "start_time": "2023-02-12T07:12:41.633Z"
   },
   {
    "duration": 5,
    "start_time": "2023-02-12T07:12:41.669Z"
   },
   {
    "duration": 28,
    "start_time": "2023-02-12T07:12:41.675Z"
   },
   {
    "duration": 6,
    "start_time": "2023-02-12T07:12:41.705Z"
   },
   {
    "duration": 11,
    "start_time": "2023-02-12T07:12:41.712Z"
   },
   {
    "duration": 12,
    "start_time": "2023-02-12T07:12:41.725Z"
   },
   {
    "duration": 34,
    "start_time": "2023-02-12T07:12:41.739Z"
   },
   {
    "duration": 36,
    "start_time": "2023-02-12T07:12:41.774Z"
   },
   {
    "duration": 9,
    "start_time": "2023-02-12T07:12:41.812Z"
   },
   {
    "duration": 6,
    "start_time": "2023-02-12T07:12:41.822Z"
   },
   {
    "duration": 5,
    "start_time": "2023-02-12T07:12:41.829Z"
   },
   {
    "duration": 35,
    "start_time": "2023-02-12T07:12:41.835Z"
   },
   {
    "duration": 9,
    "start_time": "2023-02-12T07:12:41.871Z"
   },
   {
    "duration": 161,
    "start_time": "2023-02-12T07:12:41.881Z"
   },
   {
    "duration": 2,
    "start_time": "2023-02-12T07:12:42.044Z"
   },
   {
    "duration": 9703,
    "start_time": "2023-02-12T07:12:42.047Z"
   },
   {
    "duration": 2,
    "start_time": "2023-02-12T07:12:51.751Z"
   },
   {
    "duration": 15,
    "start_time": "2023-02-12T07:12:51.755Z"
   },
   {
    "duration": 96,
    "start_time": "2023-02-12T07:12:51.771Z"
   },
   {
    "duration": 479,
    "start_time": "2023-02-12T07:12:51.875Z"
   },
   {
    "duration": 138,
    "start_time": "2023-02-12T07:12:52.356Z"
   },
   {
    "duration": 7,
    "start_time": "2023-02-12T07:12:52.495Z"
   },
   {
    "duration": 12,
    "start_time": "2023-02-12T07:12:52.504Z"
   },
   {
    "duration": 11,
    "start_time": "2023-02-12T07:12:52.518Z"
   },
   {
    "duration": 38,
    "start_time": "2023-02-12T07:12:52.530Z"
   },
   {
    "duration": 97,
    "start_time": "2023-02-12T07:12:52.570Z"
   },
   {
    "duration": 116,
    "start_time": "2023-02-12T07:12:52.671Z"
   },
   {
    "duration": 113,
    "start_time": "2023-02-12T07:12:52.869Z"
   },
   {
    "duration": 698,
    "start_time": "2023-02-12T07:12:52.985Z"
   },
   {
    "duration": 244,
    "start_time": "2023-02-12T07:12:53.684Z"
   },
   {
    "duration": 376,
    "start_time": "2023-02-12T07:12:53.932Z"
   },
   {
    "duration": 38,
    "start_time": "2023-02-12T07:12:54.310Z"
   },
   {
    "duration": 31,
    "start_time": "2023-02-12T07:12:54.350Z"
   },
   {
    "duration": 32,
    "start_time": "2023-02-12T07:12:54.382Z"
   },
   {
    "duration": 2,
    "start_time": "2023-02-12T07:12:54.416Z"
   },
   {
    "duration": 5,
    "start_time": "2023-02-12T07:12:54.419Z"
   },
   {
    "duration": 4,
    "start_time": "2023-02-12T07:12:54.426Z"
   },
   {
    "duration": 5,
    "start_time": "2023-02-12T07:12:54.431Z"
   },
   {
    "duration": 297,
    "start_time": "2023-02-12T07:12:54.437Z"
   },
   {
    "duration": 20,
    "start_time": "2023-02-12T07:12:54.735Z"
   },
   {
    "duration": 204,
    "start_time": "2023-02-12T07:12:54.756Z"
   },
   {
    "duration": 220,
    "start_time": "2023-02-12T07:14:13.287Z"
   },
   {
    "duration": 1381,
    "start_time": "2023-02-12T07:14:23.804Z"
   },
   {
    "duration": 61,
    "start_time": "2023-02-12T07:14:25.187Z"
   },
   {
    "duration": 5,
    "start_time": "2023-02-12T07:14:25.250Z"
   },
   {
    "duration": 6,
    "start_time": "2023-02-12T07:14:25.258Z"
   },
   {
    "duration": 7,
    "start_time": "2023-02-12T07:14:25.266Z"
   },
   {
    "duration": 5,
    "start_time": "2023-02-12T07:14:25.274Z"
   },
   {
    "duration": 6,
    "start_time": "2023-02-12T07:14:25.281Z"
   },
   {
    "duration": 12,
    "start_time": "2023-02-12T07:14:25.289Z"
   },
   {
    "duration": 9,
    "start_time": "2023-02-12T07:14:25.303Z"
   },
   {
    "duration": 5,
    "start_time": "2023-02-12T07:14:25.314Z"
   },
   {
    "duration": 8,
    "start_time": "2023-02-12T07:14:25.320Z"
   },
   {
    "duration": 5,
    "start_time": "2023-02-12T07:14:25.330Z"
   },
   {
    "duration": 50,
    "start_time": "2023-02-12T07:14:25.336Z"
   },
   {
    "duration": 7,
    "start_time": "2023-02-12T07:14:25.388Z"
   },
   {
    "duration": 8,
    "start_time": "2023-02-12T07:14:25.396Z"
   },
   {
    "duration": 15,
    "start_time": "2023-02-12T07:14:25.405Z"
   },
   {
    "duration": 13,
    "start_time": "2023-02-12T07:14:25.422Z"
   },
   {
    "duration": 56,
    "start_time": "2023-02-12T07:14:25.436Z"
   },
   {
    "duration": 8,
    "start_time": "2023-02-12T07:14:25.493Z"
   },
   {
    "duration": 8,
    "start_time": "2023-02-12T07:14:25.502Z"
   },
   {
    "duration": 11,
    "start_time": "2023-02-12T07:14:25.511Z"
   },
   {
    "duration": 9,
    "start_time": "2023-02-12T07:14:25.523Z"
   },
   {
    "duration": 23,
    "start_time": "2023-02-12T07:14:25.533Z"
   },
   {
    "duration": 153,
    "start_time": "2023-02-12T07:14:25.557Z"
   },
   {
    "duration": 2,
    "start_time": "2023-02-12T07:14:25.712Z"
   },
   {
    "duration": 10232,
    "start_time": "2023-02-12T07:14:25.715Z"
   },
   {
    "duration": 2,
    "start_time": "2023-02-12T07:14:35.950Z"
   },
   {
    "duration": 2,
    "start_time": "2023-02-12T07:14:35.967Z"
   },
   {
    "duration": 97,
    "start_time": "2023-02-12T07:14:35.971Z"
   },
   {
    "duration": 485,
    "start_time": "2023-02-12T07:14:36.070Z"
   },
   {
    "duration": 128,
    "start_time": "2023-02-12T07:14:36.556Z"
   },
   {
    "duration": 6,
    "start_time": "2023-02-12T07:14:36.686Z"
   },
   {
    "duration": 13,
    "start_time": "2023-02-12T07:14:36.693Z"
   },
   {
    "duration": 10,
    "start_time": "2023-02-12T07:14:36.708Z"
   },
   {
    "duration": 7,
    "start_time": "2023-02-12T07:14:36.720Z"
   },
   {
    "duration": 62,
    "start_time": "2023-02-12T07:14:36.729Z"
   },
   {
    "duration": 178,
    "start_time": "2023-02-12T07:14:36.795Z"
   },
   {
    "duration": 212,
    "start_time": "2023-02-12T07:14:36.975Z"
   },
   {
    "duration": 745,
    "start_time": "2023-02-12T07:14:37.189Z"
   },
   {
    "duration": 255,
    "start_time": "2023-02-12T07:14:37.935Z"
   },
   {
    "duration": 391,
    "start_time": "2023-02-12T07:14:38.191Z"
   },
   {
    "duration": 41,
    "start_time": "2023-02-12T07:14:38.584Z"
   },
   {
    "duration": 19,
    "start_time": "2023-02-12T07:14:38.627Z"
   },
   {
    "duration": 52,
    "start_time": "2023-02-12T07:14:38.648Z"
   },
   {
    "duration": 2,
    "start_time": "2023-02-12T07:14:38.701Z"
   },
   {
    "duration": 5,
    "start_time": "2023-02-12T07:14:38.705Z"
   },
   {
    "duration": 5,
    "start_time": "2023-02-12T07:14:38.711Z"
   },
   {
    "duration": 8,
    "start_time": "2023-02-12T07:14:38.717Z"
   },
   {
    "duration": 292,
    "start_time": "2023-02-12T07:14:38.726Z"
   },
   {
    "duration": 27,
    "start_time": "2023-02-12T07:14:39.019Z"
   },
   {
    "duration": 168,
    "start_time": "2023-02-12T07:14:39.048Z"
   },
   {
    "duration": 119,
    "start_time": "2023-02-12T07:35:39.389Z"
   },
   {
    "duration": 1329,
    "start_time": "2023-02-12T07:37:17.922Z"
   },
   {
    "duration": 61,
    "start_time": "2023-02-12T07:37:19.254Z"
   },
   {
    "duration": 4,
    "start_time": "2023-02-12T07:37:19.317Z"
   },
   {
    "duration": 7,
    "start_time": "2023-02-12T07:37:19.322Z"
   },
   {
    "duration": 9,
    "start_time": "2023-02-12T07:37:19.330Z"
   },
   {
    "duration": 7,
    "start_time": "2023-02-12T07:37:19.341Z"
   },
   {
    "duration": 7,
    "start_time": "2023-02-12T07:37:19.349Z"
   },
   {
    "duration": 14,
    "start_time": "2023-02-12T07:37:19.357Z"
   },
   {
    "duration": 11,
    "start_time": "2023-02-12T07:37:19.373Z"
   },
   {
    "duration": 5,
    "start_time": "2023-02-12T07:37:19.386Z"
   },
   {
    "duration": 6,
    "start_time": "2023-02-12T07:37:19.393Z"
   },
   {
    "duration": 5,
    "start_time": "2023-02-12T07:37:19.401Z"
   },
   {
    "duration": 29,
    "start_time": "2023-02-12T07:37:19.407Z"
   },
   {
    "duration": 7,
    "start_time": "2023-02-12T07:37:19.467Z"
   },
   {
    "duration": 10,
    "start_time": "2023-02-12T07:37:19.476Z"
   },
   {
    "duration": 14,
    "start_time": "2023-02-12T07:37:19.488Z"
   },
   {
    "duration": 12,
    "start_time": "2023-02-12T07:37:19.503Z"
   },
   {
    "duration": 283,
    "start_time": "2023-02-12T07:37:19.517Z"
   },
   {
    "duration": 0,
    "start_time": "2023-02-12T07:37:19.802Z"
   },
   {
    "duration": 0,
    "start_time": "2023-02-12T07:37:19.803Z"
   },
   {
    "duration": 0,
    "start_time": "2023-02-12T07:37:19.804Z"
   },
   {
    "duration": 0,
    "start_time": "2023-02-12T07:37:19.805Z"
   },
   {
    "duration": 0,
    "start_time": "2023-02-12T07:37:19.806Z"
   },
   {
    "duration": 0,
    "start_time": "2023-02-12T07:37:19.808Z"
   },
   {
    "duration": 0,
    "start_time": "2023-02-12T07:37:19.809Z"
   },
   {
    "duration": 0,
    "start_time": "2023-02-12T07:37:19.809Z"
   },
   {
    "duration": 0,
    "start_time": "2023-02-12T07:37:19.810Z"
   },
   {
    "duration": 0,
    "start_time": "2023-02-12T07:37:19.811Z"
   },
   {
    "duration": 0,
    "start_time": "2023-02-12T07:37:19.812Z"
   },
   {
    "duration": 0,
    "start_time": "2023-02-12T07:37:19.813Z"
   },
   {
    "duration": 0,
    "start_time": "2023-02-12T07:37:19.814Z"
   },
   {
    "duration": 0,
    "start_time": "2023-02-12T07:37:19.816Z"
   },
   {
    "duration": 0,
    "start_time": "2023-02-12T07:37:19.816Z"
   },
   {
    "duration": 0,
    "start_time": "2023-02-12T07:37:19.817Z"
   },
   {
    "duration": 0,
    "start_time": "2023-02-12T07:37:19.818Z"
   },
   {
    "duration": 0,
    "start_time": "2023-02-12T07:37:19.819Z"
   },
   {
    "duration": 0,
    "start_time": "2023-02-12T07:37:19.820Z"
   },
   {
    "duration": 0,
    "start_time": "2023-02-12T07:37:19.821Z"
   },
   {
    "duration": 0,
    "start_time": "2023-02-12T07:37:19.822Z"
   },
   {
    "duration": 0,
    "start_time": "2023-02-12T07:37:19.823Z"
   },
   {
    "duration": 0,
    "start_time": "2023-02-12T07:37:19.824Z"
   },
   {
    "duration": 0,
    "start_time": "2023-02-12T07:37:19.825Z"
   },
   {
    "duration": 0,
    "start_time": "2023-02-12T07:37:19.825Z"
   },
   {
    "duration": 0,
    "start_time": "2023-02-12T07:37:19.867Z"
   },
   {
    "duration": 0,
    "start_time": "2023-02-12T07:37:19.868Z"
   },
   {
    "duration": 0,
    "start_time": "2023-02-12T07:37:19.869Z"
   },
   {
    "duration": 0,
    "start_time": "2023-02-12T07:37:19.870Z"
   },
   {
    "duration": 0,
    "start_time": "2023-02-12T07:37:19.871Z"
   },
   {
    "duration": 0,
    "start_time": "2023-02-12T07:37:19.872Z"
   },
   {
    "duration": 0,
    "start_time": "2023-02-12T07:37:19.873Z"
   },
   {
    "duration": 0,
    "start_time": "2023-02-12T07:37:19.873Z"
   },
   {
    "duration": 177,
    "start_time": "2023-02-12T07:38:24.596Z"
   },
   {
    "duration": 161,
    "start_time": "2023-02-12T07:38:49.481Z"
   },
   {
    "duration": 1329,
    "start_time": "2023-02-12T07:40:16.758Z"
   },
   {
    "duration": 63,
    "start_time": "2023-02-12T07:40:18.089Z"
   },
   {
    "duration": 4,
    "start_time": "2023-02-12T07:40:18.153Z"
   },
   {
    "duration": 6,
    "start_time": "2023-02-12T07:40:18.158Z"
   },
   {
    "duration": 7,
    "start_time": "2023-02-12T07:40:18.166Z"
   },
   {
    "duration": 9,
    "start_time": "2023-02-12T07:40:18.174Z"
   },
   {
    "duration": 8,
    "start_time": "2023-02-12T07:40:18.184Z"
   },
   {
    "duration": 27,
    "start_time": "2023-02-12T07:40:18.193Z"
   },
   {
    "duration": 9,
    "start_time": "2023-02-12T07:40:18.221Z"
   },
   {
    "duration": 9,
    "start_time": "2023-02-12T07:40:18.231Z"
   },
   {
    "duration": 9,
    "start_time": "2023-02-12T07:40:18.242Z"
   },
   {
    "duration": 5,
    "start_time": "2023-02-12T07:40:18.252Z"
   },
   {
    "duration": 32,
    "start_time": "2023-02-12T07:40:18.258Z"
   },
   {
    "duration": 7,
    "start_time": "2023-02-12T07:40:18.292Z"
   },
   {
    "duration": 8,
    "start_time": "2023-02-12T07:40:18.300Z"
   },
   {
    "duration": 11,
    "start_time": "2023-02-12T07:40:18.309Z"
   },
   {
    "duration": 10,
    "start_time": "2023-02-12T07:40:18.321Z"
   },
   {
    "duration": 178,
    "start_time": "2023-02-12T07:40:18.332Z"
   },
   {
    "duration": 8,
    "start_time": "2023-02-12T07:40:18.512Z"
   },
   {
    "duration": 6,
    "start_time": "2023-02-12T07:40:18.522Z"
   },
   {
    "duration": 6,
    "start_time": "2023-02-12T07:40:18.529Z"
   },
   {
    "duration": 5,
    "start_time": "2023-02-12T07:40:18.536Z"
   },
   {
    "duration": 31,
    "start_time": "2023-02-12T07:40:18.542Z"
   },
   {
    "duration": 293,
    "start_time": "2023-02-12T07:40:18.574Z"
   },
   {
    "duration": 2,
    "start_time": "2023-02-12T07:40:18.869Z"
   },
   {
    "duration": 10837,
    "start_time": "2023-02-12T07:40:18.873Z"
   },
   {
    "duration": 3,
    "start_time": "2023-02-12T07:40:29.711Z"
   },
   {
    "duration": 7,
    "start_time": "2023-02-12T07:40:29.715Z"
   },
   {
    "duration": 51,
    "start_time": "2023-02-12T07:40:29.724Z"
   },
   {
    "duration": 484,
    "start_time": "2023-02-12T07:40:29.869Z"
   },
   {
    "duration": 133,
    "start_time": "2023-02-12T07:40:30.354Z"
   },
   {
    "duration": 6,
    "start_time": "2023-02-12T07:40:30.488Z"
   },
   {
    "duration": 25,
    "start_time": "2023-02-12T07:40:30.496Z"
   },
   {
    "duration": 19,
    "start_time": "2023-02-12T07:40:30.523Z"
   },
   {
    "duration": 22,
    "start_time": "2023-02-12T07:40:30.543Z"
   },
   {
    "duration": 36,
    "start_time": "2023-02-12T07:40:30.567Z"
   },
   {
    "duration": 108,
    "start_time": "2023-02-12T07:40:30.667Z"
   },
   {
    "duration": 209,
    "start_time": "2023-02-12T07:40:30.777Z"
   },
   {
    "duration": 686,
    "start_time": "2023-02-12T07:40:30.989Z"
   },
   {
    "duration": 243,
    "start_time": "2023-02-12T07:40:31.676Z"
   },
   {
    "duration": 376,
    "start_time": "2023-02-12T07:40:31.923Z"
   },
   {
    "duration": 37,
    "start_time": "2023-02-12T07:40:32.300Z"
   },
   {
    "duration": 35,
    "start_time": "2023-02-12T07:40:32.339Z"
   },
   {
    "duration": 32,
    "start_time": "2023-02-12T07:40:32.376Z"
   },
   {
    "duration": 2,
    "start_time": "2023-02-12T07:40:32.409Z"
   },
   {
    "duration": 11,
    "start_time": "2023-02-12T07:40:32.413Z"
   },
   {
    "duration": 10,
    "start_time": "2023-02-12T07:40:32.425Z"
   },
   {
    "duration": 9,
    "start_time": "2023-02-12T07:40:32.437Z"
   },
   {
    "duration": 304,
    "start_time": "2023-02-12T07:40:32.448Z"
   },
   {
    "duration": 32,
    "start_time": "2023-02-12T07:40:32.755Z"
   },
   {
    "duration": 180,
    "start_time": "2023-02-12T07:40:32.789Z"
   },
   {
    "duration": 165,
    "start_time": "2023-02-12T07:42:15.317Z"
   },
   {
    "duration": 162,
    "start_time": "2023-02-12T07:42:20.402Z"
   },
   {
    "duration": 98,
    "start_time": "2023-02-12T08:05:37.332Z"
   },
   {
    "duration": 157,
    "start_time": "2023-02-12T08:30:17.649Z"
   },
   {
    "duration": 1471,
    "start_time": "2023-02-12T08:30:33.892Z"
   },
   {
    "duration": 68,
    "start_time": "2023-02-12T08:30:35.367Z"
   },
   {
    "duration": 4,
    "start_time": "2023-02-12T08:30:35.437Z"
   },
   {
    "duration": 20,
    "start_time": "2023-02-12T08:30:35.443Z"
   },
   {
    "duration": 15,
    "start_time": "2023-02-12T08:30:35.465Z"
   },
   {
    "duration": 10,
    "start_time": "2023-02-12T08:30:35.482Z"
   },
   {
    "duration": 11,
    "start_time": "2023-02-12T08:30:35.494Z"
   },
   {
    "duration": 15,
    "start_time": "2023-02-12T08:30:35.506Z"
   },
   {
    "duration": 11,
    "start_time": "2023-02-12T08:30:35.523Z"
   },
   {
    "duration": 7,
    "start_time": "2023-02-12T08:30:35.536Z"
   },
   {
    "duration": 27,
    "start_time": "2023-02-12T08:30:35.544Z"
   },
   {
    "duration": 6,
    "start_time": "2023-02-12T08:30:35.573Z"
   },
   {
    "duration": 34,
    "start_time": "2023-02-12T08:30:35.581Z"
   },
   {
    "duration": 7,
    "start_time": "2023-02-12T08:30:35.618Z"
   },
   {
    "duration": 13,
    "start_time": "2023-02-12T08:30:35.626Z"
   },
   {
    "duration": 29,
    "start_time": "2023-02-12T08:30:35.641Z"
   },
   {
    "duration": 11,
    "start_time": "2023-02-12T08:30:35.672Z"
   },
   {
    "duration": 198,
    "start_time": "2023-02-12T08:30:35.685Z"
   },
   {
    "duration": 10,
    "start_time": "2023-02-12T08:30:35.884Z"
   },
   {
    "duration": 8,
    "start_time": "2023-02-12T08:30:35.896Z"
   },
   {
    "duration": 8,
    "start_time": "2023-02-12T08:30:35.906Z"
   },
   {
    "duration": 6,
    "start_time": "2023-02-12T08:30:35.915Z"
   },
   {
    "duration": 11,
    "start_time": "2023-02-12T08:30:35.923Z"
   },
   {
    "duration": 181,
    "start_time": "2023-02-12T08:30:35.937Z"
   },
   {
    "duration": 3,
    "start_time": "2023-02-12T08:30:36.120Z"
   },
   {
    "duration": 10314,
    "start_time": "2023-02-12T08:30:36.125Z"
   },
   {
    "duration": 3,
    "start_time": "2023-02-12T08:30:46.440Z"
   },
   {
    "duration": 16,
    "start_time": "2023-02-12T08:30:46.444Z"
   },
   {
    "duration": 109,
    "start_time": "2023-02-12T08:30:46.461Z"
   },
   {
    "duration": 538,
    "start_time": "2023-02-12T08:30:46.573Z"
   },
   {
    "duration": 156,
    "start_time": "2023-02-12T08:30:47.113Z"
   },
   {
    "duration": 6,
    "start_time": "2023-02-12T08:30:47.271Z"
   },
   {
    "duration": 19,
    "start_time": "2023-02-12T08:30:47.279Z"
   },
   {
    "duration": 10,
    "start_time": "2023-02-12T08:30:47.299Z"
   },
   {
    "duration": 6,
    "start_time": "2023-02-12T08:30:47.310Z"
   },
   {
    "duration": 52,
    "start_time": "2023-02-12T08:30:47.317Z"
   },
   {
    "duration": 195,
    "start_time": "2023-02-12T08:30:47.374Z"
   },
   {
    "duration": 110,
    "start_time": "2023-02-12T08:30:47.576Z"
   },
   {
    "duration": 702,
    "start_time": "2023-02-12T08:30:47.688Z"
   },
   {
    "duration": 251,
    "start_time": "2023-02-12T08:30:48.392Z"
   },
   {
    "duration": 397,
    "start_time": "2023-02-12T08:30:48.646Z"
   },
   {
    "duration": 47,
    "start_time": "2023-02-12T08:30:49.045Z"
   },
   {
    "duration": 20,
    "start_time": "2023-02-12T08:30:49.094Z"
   },
   {
    "duration": 33,
    "start_time": "2023-02-12T08:30:49.115Z"
   },
   {
    "duration": 18,
    "start_time": "2023-02-12T08:30:49.149Z"
   },
   {
    "duration": 4,
    "start_time": "2023-02-12T08:30:49.169Z"
   },
   {
    "duration": 8,
    "start_time": "2023-02-12T08:30:49.174Z"
   },
   {
    "duration": 9,
    "start_time": "2023-02-12T08:30:49.183Z"
   },
   {
    "duration": 283,
    "start_time": "2023-02-12T08:30:49.193Z"
   },
   {
    "duration": 24,
    "start_time": "2023-02-12T08:30:49.477Z"
   },
   {
    "duration": 167,
    "start_time": "2023-02-12T08:30:49.503Z"
   },
   {
    "duration": 174,
    "start_time": "2023-02-12T09:10:30.462Z"
   },
   {
    "duration": 6536,
    "start_time": "2023-02-12T09:21:28.601Z"
   },
   {
    "duration": 142379,
    "start_time": "2023-02-12T09:22:51.772Z"
   },
   {
    "duration": 1394,
    "start_time": "2023-02-12T09:30:41.685Z"
   },
   {
    "duration": 63,
    "start_time": "2023-02-12T09:30:43.082Z"
   },
   {
    "duration": 3,
    "start_time": "2023-02-12T09:30:43.147Z"
   },
   {
    "duration": 27,
    "start_time": "2023-02-12T09:30:43.152Z"
   },
   {
    "duration": 15,
    "start_time": "2023-02-12T09:30:43.181Z"
   },
   {
    "duration": 28,
    "start_time": "2023-02-12T09:30:43.198Z"
   },
   {
    "duration": 25,
    "start_time": "2023-02-12T09:30:43.228Z"
   },
   {
    "duration": 43,
    "start_time": "2023-02-12T09:30:43.255Z"
   },
   {
    "duration": 17,
    "start_time": "2023-02-12T09:30:43.300Z"
   },
   {
    "duration": 8,
    "start_time": "2023-02-12T09:30:43.319Z"
   },
   {
    "duration": 10,
    "start_time": "2023-02-12T09:30:43.328Z"
   },
   {
    "duration": 6,
    "start_time": "2023-02-12T09:30:43.340Z"
   },
   {
    "duration": 31,
    "start_time": "2023-02-12T09:30:43.347Z"
   },
   {
    "duration": 6,
    "start_time": "2023-02-12T09:30:43.381Z"
   },
   {
    "duration": 18,
    "start_time": "2023-02-12T09:30:43.389Z"
   },
   {
    "duration": 13,
    "start_time": "2023-02-12T09:30:43.408Z"
   },
   {
    "duration": 9,
    "start_time": "2023-02-12T09:30:43.423Z"
   },
   {
    "duration": 194,
    "start_time": "2023-02-12T09:30:43.434Z"
   },
   {
    "duration": 9,
    "start_time": "2023-02-12T09:30:43.630Z"
   },
   {
    "duration": 7,
    "start_time": "2023-02-12T09:30:43.641Z"
   },
   {
    "duration": 6,
    "start_time": "2023-02-12T09:30:43.668Z"
   },
   {
    "duration": 9,
    "start_time": "2023-02-12T09:30:43.675Z"
   },
   {
    "duration": 175,
    "start_time": "2023-02-12T09:30:43.686Z"
   },
   {
    "duration": 147912,
    "start_time": "2023-02-12T09:30:43.867Z"
   },
   {
    "duration": 2,
    "start_time": "2023-02-12T09:33:11.781Z"
   },
   {
    "duration": 15,
    "start_time": "2023-02-12T09:33:11.784Z"
   },
   {
    "duration": 5,
    "start_time": "2023-02-12T09:33:11.800Z"
   },
   {
    "duration": 8,
    "start_time": "2023-02-12T09:33:11.806Z"
   },
   {
    "duration": 59,
    "start_time": "2023-02-12T09:33:11.816Z"
   },
   {
    "duration": 435,
    "start_time": "2023-02-12T09:33:11.966Z"
   },
   {
    "duration": 136,
    "start_time": "2023-02-12T09:33:12.403Z"
   },
   {
    "duration": 6,
    "start_time": "2023-02-12T09:33:12.541Z"
   },
   {
    "duration": 24,
    "start_time": "2023-02-12T09:33:12.548Z"
   },
   {
    "duration": 11,
    "start_time": "2023-02-12T09:33:12.574Z"
   },
   {
    "duration": 5,
    "start_time": "2023-02-12T09:33:12.587Z"
   },
   {
    "duration": 25,
    "start_time": "2023-02-12T09:33:12.593Z"
   },
   {
    "duration": 108,
    "start_time": "2023-02-12T09:33:12.671Z"
   },
   {
    "duration": 198,
    "start_time": "2023-02-12T09:33:12.781Z"
   },
   {
    "duration": 734,
    "start_time": "2023-02-12T09:33:12.981Z"
   },
   {
    "duration": 260,
    "start_time": "2023-02-12T09:33:13.717Z"
   },
   {
    "duration": 635,
    "start_time": "2023-02-12T09:33:13.980Z"
   },
   {
    "duration": 38,
    "start_time": "2023-02-12T09:33:14.668Z"
   },
   {
    "duration": 81,
    "start_time": "2023-02-12T09:33:14.708Z"
   },
   {
    "duration": 87,
    "start_time": "2023-02-12T09:33:14.791Z"
   },
   {
    "duration": 3,
    "start_time": "2023-02-12T09:33:14.880Z"
   },
   {
    "duration": 8,
    "start_time": "2023-02-12T09:33:14.885Z"
   },
   {
    "duration": 5,
    "start_time": "2023-02-12T09:33:14.895Z"
   },
   {
    "duration": 20,
    "start_time": "2023-02-12T09:33:14.902Z"
   },
   {
    "duration": 559,
    "start_time": "2023-02-12T09:33:14.924Z"
   },
   {
    "duration": 20,
    "start_time": "2023-02-12T09:33:15.485Z"
   },
   {
    "duration": 308,
    "start_time": "2023-02-12T09:33:15.506Z"
   },
   {
    "duration": 101,
    "start_time": "2023-02-12T09:47:19.765Z"
   },
   {
    "duration": 299,
    "start_time": "2023-02-12T09:50:26.159Z"
   },
   {
    "duration": 116,
    "start_time": "2023-02-12T09:50:47.852Z"
   },
   {
    "duration": 98,
    "start_time": "2023-02-12T09:50:58.577Z"
   },
   {
    "duration": 84,
    "start_time": "2023-02-12T09:51:19.490Z"
   },
   {
    "duration": 99,
    "start_time": "2023-02-12T09:52:38.367Z"
   },
   {
    "duration": 90,
    "start_time": "2023-02-12T09:53:46.782Z"
   },
   {
    "duration": 739,
    "start_time": "2023-02-12T09:54:55.567Z"
   },
   {
    "duration": 1476,
    "start_time": "2023-02-12T10:00:44.562Z"
   },
   {
    "duration": 64,
    "start_time": "2023-02-12T10:00:46.040Z"
   },
   {
    "duration": 4,
    "start_time": "2023-02-12T10:00:46.106Z"
   },
   {
    "duration": 15,
    "start_time": "2023-02-12T10:00:46.112Z"
   },
   {
    "duration": 9,
    "start_time": "2023-02-12T10:00:46.128Z"
   },
   {
    "duration": 14,
    "start_time": "2023-02-12T10:00:46.139Z"
   },
   {
    "duration": 9,
    "start_time": "2023-02-12T10:00:46.154Z"
   },
   {
    "duration": 18,
    "start_time": "2023-02-12T10:00:46.165Z"
   },
   {
    "duration": 10,
    "start_time": "2023-02-12T10:00:46.185Z"
   },
   {
    "duration": 5,
    "start_time": "2023-02-12T10:00:46.199Z"
   },
   {
    "duration": 11,
    "start_time": "2023-02-12T10:00:46.206Z"
   },
   {
    "duration": 7,
    "start_time": "2023-02-12T10:00:46.218Z"
   },
   {
    "duration": 49,
    "start_time": "2023-02-12T10:00:46.226Z"
   },
   {
    "duration": 6,
    "start_time": "2023-02-12T10:00:46.277Z"
   },
   {
    "duration": 9,
    "start_time": "2023-02-12T10:00:46.285Z"
   },
   {
    "duration": 12,
    "start_time": "2023-02-12T10:00:46.296Z"
   },
   {
    "duration": 9,
    "start_time": "2023-02-12T10:00:46.309Z"
   },
   {
    "duration": 199,
    "start_time": "2023-02-12T10:00:46.320Z"
   },
   {
    "duration": 8,
    "start_time": "2023-02-12T10:00:46.520Z"
   },
   {
    "duration": 5,
    "start_time": "2023-02-12T10:00:46.530Z"
   },
   {
    "duration": 5,
    "start_time": "2023-02-12T10:00:46.537Z"
   },
   {
    "duration": 30,
    "start_time": "2023-02-12T10:00:46.543Z"
   },
   {
    "duration": 153,
    "start_time": "2023-02-12T10:00:46.574Z"
   },
   {
    "duration": 148730,
    "start_time": "2023-02-12T10:00:46.729Z"
   },
   {
    "duration": 29,
    "start_time": "2023-02-12T10:03:15.461Z"
   },
   {
    "duration": 156,
    "start_time": "2023-02-12T10:03:15.569Z"
   },
   {
    "duration": 140,
    "start_time": "2023-02-12T10:03:15.727Z"
   },
   {
    "duration": 6,
    "start_time": "2023-02-12T10:03:15.871Z"
   },
   {
    "duration": 15,
    "start_time": "2023-02-12T10:03:15.879Z"
   },
   {
    "duration": 20,
    "start_time": "2023-02-12T10:03:15.895Z"
   },
   {
    "duration": 18,
    "start_time": "2023-02-12T10:03:15.916Z"
   },
   {
    "duration": 45,
    "start_time": "2023-02-12T10:03:15.935Z"
   },
   {
    "duration": 201,
    "start_time": "2023-02-12T10:03:15.982Z"
   },
   {
    "duration": 125,
    "start_time": "2023-02-12T10:03:16.269Z"
   },
   {
    "duration": 279,
    "start_time": "2023-02-12T10:03:16.396Z"
   },
   {
    "duration": 45,
    "start_time": "2023-02-12T10:03:16.677Z"
   },
   {
    "duration": 92,
    "start_time": "2023-02-12T10:03:16.725Z"
   },
   {
    "duration": 49,
    "start_time": "2023-02-12T10:03:16.820Z"
   },
   {
    "duration": 20,
    "start_time": "2023-02-12T10:03:16.871Z"
   },
   {
    "duration": 32,
    "start_time": "2023-02-12T10:03:16.893Z"
   },
   {
    "duration": 2,
    "start_time": "2023-02-12T10:03:16.927Z"
   },
   {
    "duration": 11,
    "start_time": "2023-02-12T10:03:16.930Z"
   },
   {
    "duration": 6,
    "start_time": "2023-02-12T10:03:16.942Z"
   },
   {
    "duration": 2,
    "start_time": "2023-02-12T10:03:16.967Z"
   },
   {
    "duration": 292,
    "start_time": "2023-02-12T10:03:16.971Z"
   },
   {
    "duration": 21,
    "start_time": "2023-02-12T10:03:17.267Z"
   },
   {
    "duration": 168,
    "start_time": "2023-02-12T10:03:17.289Z"
   },
   {
    "duration": 56,
    "start_time": "2023-02-12T10:09:59.106Z"
   },
   {
    "duration": 78,
    "start_time": "2023-02-12T10:10:43.723Z"
   },
   {
    "duration": 48,
    "start_time": "2023-02-12T10:11:25.162Z"
   },
   {
    "duration": 26,
    "start_time": "2023-02-12T10:12:28.710Z"
   },
   {
    "duration": 39,
    "start_time": "2023-02-12T10:14:13.565Z"
   },
   {
    "duration": 218583,
    "start_time": "2023-02-12T10:27:51.458Z"
   },
   {
    "duration": 1320,
    "start_time": "2023-02-12T10:43:23.218Z"
   },
   {
    "duration": 64,
    "start_time": "2023-02-12T10:43:24.540Z"
   },
   {
    "duration": 4,
    "start_time": "2023-02-12T10:43:24.606Z"
   },
   {
    "duration": 6,
    "start_time": "2023-02-12T10:43:24.612Z"
   },
   {
    "duration": 9,
    "start_time": "2023-02-12T10:43:24.619Z"
   },
   {
    "duration": 7,
    "start_time": "2023-02-12T10:43:24.630Z"
   },
   {
    "duration": 7,
    "start_time": "2023-02-12T10:43:24.639Z"
   },
   {
    "duration": 24,
    "start_time": "2023-02-12T10:43:24.648Z"
   },
   {
    "duration": 11,
    "start_time": "2023-02-12T10:43:24.674Z"
   },
   {
    "duration": 5,
    "start_time": "2023-02-12T10:43:24.686Z"
   },
   {
    "duration": 9,
    "start_time": "2023-02-12T10:43:24.692Z"
   },
   {
    "duration": 5,
    "start_time": "2023-02-12T10:43:24.702Z"
   },
   {
    "duration": 58,
    "start_time": "2023-02-12T10:43:24.709Z"
   },
   {
    "duration": 7,
    "start_time": "2023-02-12T10:43:24.770Z"
   },
   {
    "duration": 13,
    "start_time": "2023-02-12T10:43:24.778Z"
   },
   {
    "duration": 20,
    "start_time": "2023-02-12T10:43:24.793Z"
   },
   {
    "duration": 12,
    "start_time": "2023-02-12T10:43:24.815Z"
   },
   {
    "duration": 213,
    "start_time": "2023-02-12T10:43:24.829Z"
   },
   {
    "duration": 8,
    "start_time": "2023-02-12T10:43:25.044Z"
   },
   {
    "duration": 19,
    "start_time": "2023-02-12T10:43:25.054Z"
   },
   {
    "duration": 24,
    "start_time": "2023-02-12T10:43:25.074Z"
   },
   {
    "duration": 7,
    "start_time": "2023-02-12T10:43:25.100Z"
   },
   {
    "duration": 155,
    "start_time": "2023-02-12T10:43:25.108Z"
   },
   {
    "duration": 146609,
    "start_time": "2023-02-12T10:43:25.266Z"
   },
   {
    "duration": 93,
    "start_time": "2023-02-12T10:45:51.877Z"
   },
   {
    "duration": 166,
    "start_time": "2023-02-12T10:45:51.973Z"
   },
   {
    "duration": 140,
    "start_time": "2023-02-12T10:45:52.141Z"
   },
   {
    "duration": 6,
    "start_time": "2023-02-12T10:45:52.282Z"
   },
   {
    "duration": 13,
    "start_time": "2023-02-12T10:45:52.290Z"
   },
   {
    "duration": 10,
    "start_time": "2023-02-12T10:45:52.304Z"
   },
   {
    "duration": 4,
    "start_time": "2023-02-12T10:45:52.315Z"
   },
   {
    "duration": 148,
    "start_time": "2023-02-12T10:45:52.321Z"
   },
   {
    "duration": 197,
    "start_time": "2023-02-12T10:45:52.471Z"
   },
   {
    "duration": 194,
    "start_time": "2023-02-12T10:45:52.674Z"
   },
   {
    "duration": 211,
    "start_time": "2023-02-12T10:45:52.875Z"
   },
   {
    "duration": 60,
    "start_time": "2023-02-12T10:45:53.088Z"
   },
   {
    "duration": 95,
    "start_time": "2023-02-12T10:45:53.150Z"
   },
   {
    "duration": 61,
    "start_time": "2023-02-12T10:45:53.247Z"
   },
   {
    "duration": 28,
    "start_time": "2023-02-12T10:45:53.310Z"
   },
   {
    "duration": 56,
    "start_time": "2023-02-12T10:45:53.339Z"
   },
   {
    "duration": 218716,
    "start_time": "2023-02-12T10:45:53.399Z"
   },
   {
    "duration": 0,
    "start_time": "2023-02-12T10:49:32.117Z"
   },
   {
    "duration": 0,
    "start_time": "2023-02-12T10:49:32.118Z"
   },
   {
    "duration": 0,
    "start_time": "2023-02-12T10:49:32.119Z"
   },
   {
    "duration": 220664,
    "start_time": "2023-02-12T11:28:40.028Z"
   },
   {
    "duration": 186602,
    "start_time": "2023-02-12T11:44:13.575Z"
   },
   {
    "duration": 1498,
    "start_time": "2023-02-12T12:00:54.483Z"
   },
   {
    "duration": 64,
    "start_time": "2023-02-12T12:00:55.983Z"
   },
   {
    "duration": 5,
    "start_time": "2023-02-12T12:00:56.049Z"
   },
   {
    "duration": 12,
    "start_time": "2023-02-12T12:00:56.056Z"
   },
   {
    "duration": 7,
    "start_time": "2023-02-12T12:00:56.069Z"
   },
   {
    "duration": 5,
    "start_time": "2023-02-12T12:00:56.077Z"
   },
   {
    "duration": 7,
    "start_time": "2023-02-12T12:00:56.084Z"
   },
   {
    "duration": 12,
    "start_time": "2023-02-12T12:00:56.092Z"
   },
   {
    "duration": 21,
    "start_time": "2023-02-12T12:00:56.105Z"
   },
   {
    "duration": 5,
    "start_time": "2023-02-12T12:00:56.129Z"
   },
   {
    "duration": 14,
    "start_time": "2023-02-12T12:00:56.135Z"
   },
   {
    "duration": 20,
    "start_time": "2023-02-12T12:00:56.151Z"
   },
   {
    "duration": 31,
    "start_time": "2023-02-12T12:00:56.173Z"
   },
   {
    "duration": 8,
    "start_time": "2023-02-12T12:00:56.206Z"
   },
   {
    "duration": 9,
    "start_time": "2023-02-12T12:00:56.217Z"
   },
   {
    "duration": 46,
    "start_time": "2023-02-12T12:00:56.227Z"
   },
   {
    "duration": 10,
    "start_time": "2023-02-12T12:00:56.275Z"
   },
   {
    "duration": 181,
    "start_time": "2023-02-12T12:00:56.287Z"
   },
   {
    "duration": 10,
    "start_time": "2023-02-12T12:00:56.470Z"
   },
   {
    "duration": 6,
    "start_time": "2023-02-12T12:00:56.482Z"
   },
   {
    "duration": 6,
    "start_time": "2023-02-12T12:00:56.490Z"
   },
   {
    "duration": 9,
    "start_time": "2023-02-12T12:00:56.498Z"
   },
   {
    "duration": 207,
    "start_time": "2023-02-12T12:00:56.508Z"
   },
   {
    "duration": 153787,
    "start_time": "2023-02-12T12:00:56.717Z"
   },
   {
    "duration": 65,
    "start_time": "2023-02-12T12:03:30.506Z"
   },
   {
    "duration": 158,
    "start_time": "2023-02-12T12:03:30.574Z"
   },
   {
    "duration": 138,
    "start_time": "2023-02-12T12:03:30.733Z"
   },
   {
    "duration": 6,
    "start_time": "2023-02-12T12:03:30.874Z"
   },
   {
    "duration": 55,
    "start_time": "2023-02-12T12:03:30.882Z"
   },
   {
    "duration": 26,
    "start_time": "2023-02-12T12:03:30.939Z"
   },
   {
    "duration": 26,
    "start_time": "2023-02-12T12:03:30.967Z"
   },
   {
    "duration": 81,
    "start_time": "2023-02-12T12:03:30.995Z"
   },
   {
    "duration": 108,
    "start_time": "2023-02-12T12:03:31.167Z"
   },
   {
    "duration": 191,
    "start_time": "2023-02-12T12:03:31.278Z"
   },
   {
    "duration": 197,
    "start_time": "2023-02-12T12:03:31.472Z"
   },
   {
    "duration": 52,
    "start_time": "2023-02-12T12:03:31.671Z"
   },
   {
    "duration": 83,
    "start_time": "2023-02-12T12:03:31.725Z"
   },
   {
    "duration": 43,
    "start_time": "2023-02-12T12:03:31.810Z"
   },
   {
    "duration": 35,
    "start_time": "2023-02-12T12:03:31.854Z"
   },
   {
    "duration": 37,
    "start_time": "2023-02-12T12:03:31.890Z"
   },
   {
    "duration": 1497,
    "start_time": "2023-02-12T12:19:05.130Z"
   },
   {
    "duration": 72,
    "start_time": "2023-02-12T12:19:06.629Z"
   },
   {
    "duration": 5,
    "start_time": "2023-02-12T12:19:06.703Z"
   },
   {
    "duration": 7,
    "start_time": "2023-02-12T12:19:06.711Z"
   },
   {
    "duration": 24,
    "start_time": "2023-02-12T12:19:06.720Z"
   },
   {
    "duration": 16,
    "start_time": "2023-02-12T12:19:06.746Z"
   },
   {
    "duration": 7,
    "start_time": "2023-02-12T12:19:06.764Z"
   },
   {
    "duration": 14,
    "start_time": "2023-02-12T12:19:06.773Z"
   },
   {
    "duration": 17,
    "start_time": "2023-02-12T12:19:06.789Z"
   },
   {
    "duration": 7,
    "start_time": "2023-02-12T12:19:06.809Z"
   },
   {
    "duration": 14,
    "start_time": "2023-02-12T12:19:06.818Z"
   },
   {
    "duration": 34,
    "start_time": "2023-02-12T12:19:06.834Z"
   },
   {
    "duration": 41,
    "start_time": "2023-02-12T12:19:06.869Z"
   },
   {
    "duration": 12,
    "start_time": "2023-02-12T12:19:06.912Z"
   },
   {
    "duration": 23,
    "start_time": "2023-02-12T12:19:06.925Z"
   },
   {
    "duration": 22,
    "start_time": "2023-02-12T12:19:06.950Z"
   },
   {
    "duration": 17,
    "start_time": "2023-02-12T12:19:06.974Z"
   },
   {
    "duration": 174,
    "start_time": "2023-02-12T12:19:06.993Z"
   },
   {
    "duration": 9,
    "start_time": "2023-02-12T12:19:07.169Z"
   },
   {
    "duration": 19,
    "start_time": "2023-02-12T12:19:07.179Z"
   },
   {
    "duration": 22,
    "start_time": "2023-02-12T12:19:07.200Z"
   },
   {
    "duration": 26,
    "start_time": "2023-02-12T12:19:07.224Z"
   },
   {
    "duration": 138,
    "start_time": "2023-02-12T12:19:07.251Z"
   },
   {
    "duration": 109999,
    "start_time": "2023-02-12T12:19:07.391Z"
   },
   {
    "duration": 0,
    "start_time": "2023-02-12T12:20:57.393Z"
   },
   {
    "duration": 0,
    "start_time": "2023-02-12T12:20:57.394Z"
   },
   {
    "duration": 0,
    "start_time": "2023-02-12T12:20:57.396Z"
   },
   {
    "duration": 0,
    "start_time": "2023-02-12T12:20:57.397Z"
   },
   {
    "duration": 0,
    "start_time": "2023-02-12T12:20:57.399Z"
   },
   {
    "duration": 0,
    "start_time": "2023-02-12T12:20:57.400Z"
   },
   {
    "duration": 0,
    "start_time": "2023-02-12T12:20:57.402Z"
   },
   {
    "duration": 0,
    "start_time": "2023-02-12T12:20:57.403Z"
   },
   {
    "duration": 0,
    "start_time": "2023-02-12T12:20:57.404Z"
   },
   {
    "duration": 0,
    "start_time": "2023-02-12T12:20:57.406Z"
   },
   {
    "duration": 0,
    "start_time": "2023-02-12T12:20:57.408Z"
   },
   {
    "duration": 0,
    "start_time": "2023-02-12T12:20:57.409Z"
   },
   {
    "duration": 0,
    "start_time": "2023-02-12T12:20:57.410Z"
   },
   {
    "duration": 0,
    "start_time": "2023-02-12T12:20:57.411Z"
   },
   {
    "duration": 0,
    "start_time": "2023-02-12T12:20:57.413Z"
   },
   {
    "duration": 0,
    "start_time": "2023-02-12T12:20:57.414Z"
   },
   {
    "duration": 0,
    "start_time": "2023-02-12T12:20:57.416Z"
   },
   {
    "duration": 0,
    "start_time": "2023-02-12T12:20:57.417Z"
   },
   {
    "duration": 0,
    "start_time": "2023-02-12T12:20:57.418Z"
   },
   {
    "duration": 0,
    "start_time": "2023-02-12T12:20:57.468Z"
   },
   {
    "duration": 1457,
    "start_time": "2023-02-12T12:24:19.157Z"
   },
   {
    "duration": 74,
    "start_time": "2023-02-12T12:24:20.616Z"
   },
   {
    "duration": 5,
    "start_time": "2023-02-12T12:24:20.692Z"
   },
   {
    "duration": 10,
    "start_time": "2023-02-12T12:24:20.699Z"
   },
   {
    "duration": 12,
    "start_time": "2023-02-12T12:24:20.711Z"
   },
   {
    "duration": 11,
    "start_time": "2023-02-12T12:24:20.724Z"
   },
   {
    "duration": 8,
    "start_time": "2023-02-12T12:24:20.736Z"
   },
   {
    "duration": 22,
    "start_time": "2023-02-12T12:24:20.746Z"
   },
   {
    "duration": 12,
    "start_time": "2023-02-12T12:24:20.770Z"
   },
   {
    "duration": 7,
    "start_time": "2023-02-12T12:24:20.786Z"
   },
   {
    "duration": 8,
    "start_time": "2023-02-12T12:24:20.794Z"
   },
   {
    "duration": 5,
    "start_time": "2023-02-12T12:24:20.804Z"
   },
   {
    "duration": 31,
    "start_time": "2023-02-12T12:24:20.811Z"
   },
   {
    "duration": 31,
    "start_time": "2023-02-12T12:24:20.843Z"
   },
   {
    "duration": 16,
    "start_time": "2023-02-12T12:24:20.876Z"
   },
   {
    "duration": 17,
    "start_time": "2023-02-12T12:24:20.894Z"
   },
   {
    "duration": 10,
    "start_time": "2023-02-12T12:24:20.912Z"
   },
   {
    "duration": 198,
    "start_time": "2023-02-12T12:24:20.924Z"
   },
   {
    "duration": 8,
    "start_time": "2023-02-12T12:24:21.123Z"
   },
   {
    "duration": 9,
    "start_time": "2023-02-12T12:24:21.133Z"
   },
   {
    "duration": 8,
    "start_time": "2023-02-12T12:24:21.144Z"
   },
   {
    "duration": 11,
    "start_time": "2023-02-12T12:24:21.171Z"
   },
   {
    "duration": 153,
    "start_time": "2023-02-12T12:24:21.184Z"
   },
   {
    "duration": 116623,
    "start_time": "2023-02-12T12:24:21.339Z"
   },
   {
    "duration": 210,
    "start_time": "2023-02-12T12:26:17.968Z"
   },
   {
    "duration": 82,
    "start_time": "2023-02-12T12:26:18.266Z"
   },
   {
    "duration": 150,
    "start_time": "2023-02-12T12:26:18.350Z"
   },
   {
    "duration": 6,
    "start_time": "2023-02-12T12:26:18.504Z"
   },
   {
    "duration": 17,
    "start_time": "2023-02-12T12:26:18.512Z"
   },
   {
    "duration": 15,
    "start_time": "2023-02-12T12:26:18.530Z"
   },
   {
    "duration": 25,
    "start_time": "2023-02-12T12:26:18.547Z"
   },
   {
    "duration": 97,
    "start_time": "2023-02-12T12:26:18.574Z"
   },
   {
    "duration": 105,
    "start_time": "2023-02-12T12:26:18.674Z"
   },
   {
    "duration": 212,
    "start_time": "2023-02-12T12:26:18.781Z"
   },
   {
    "duration": 278,
    "start_time": "2023-02-12T12:26:18.997Z"
   },
   {
    "duration": 61,
    "start_time": "2023-02-12T12:26:19.277Z"
   },
   {
    "duration": 126,
    "start_time": "2023-02-12T12:26:19.341Z"
   },
   {
    "duration": 108,
    "start_time": "2023-02-12T12:26:19.469Z"
   },
   {
    "duration": 28,
    "start_time": "2023-02-12T12:26:19.581Z"
   },
   {
    "duration": 57,
    "start_time": "2023-02-12T12:26:19.610Z"
   },
   {
    "duration": 359177,
    "start_time": "2023-02-12T12:26:19.669Z"
   },
   {
    "duration": 329,
    "start_time": "2023-02-12T12:32:18.848Z"
   },
   {
    "duration": 28,
    "start_time": "2023-02-12T12:32:19.179Z"
   },
   {
    "duration": 188,
    "start_time": "2023-02-12T12:32:19.209Z"
   },
   {
    "duration": 1636,
    "start_time": "2023-02-12T12:32:42.090Z"
   },
   {
    "duration": 101,
    "start_time": "2023-02-12T12:32:43.729Z"
   },
   {
    "duration": 7,
    "start_time": "2023-02-12T12:32:43.833Z"
   },
   {
    "duration": 19,
    "start_time": "2023-02-12T12:32:43.843Z"
   },
   {
    "duration": 11,
    "start_time": "2023-02-12T12:32:43.864Z"
   },
   {
    "duration": 13,
    "start_time": "2023-02-12T12:32:43.877Z"
   },
   {
    "duration": 14,
    "start_time": "2023-02-12T12:32:43.892Z"
   },
   {
    "duration": 16,
    "start_time": "2023-02-12T12:32:43.908Z"
   },
   {
    "duration": 13,
    "start_time": "2023-02-12T12:32:43.926Z"
   },
   {
    "duration": 26,
    "start_time": "2023-02-12T12:32:43.942Z"
   },
   {
    "duration": 9,
    "start_time": "2023-02-12T12:32:43.971Z"
   },
   {
    "duration": 8,
    "start_time": "2023-02-12T12:32:43.982Z"
   },
   {
    "duration": 33,
    "start_time": "2023-02-12T12:32:43.992Z"
   },
   {
    "duration": 8,
    "start_time": "2023-02-12T12:32:44.027Z"
   },
   {
    "duration": 41,
    "start_time": "2023-02-12T12:32:44.036Z"
   },
   {
    "duration": 78,
    "start_time": "2023-02-12T12:32:44.079Z"
   },
   {
    "duration": 18,
    "start_time": "2023-02-12T12:32:44.159Z"
   },
   {
    "duration": 231,
    "start_time": "2023-02-12T12:32:44.179Z"
   },
   {
    "duration": 11,
    "start_time": "2023-02-12T12:32:44.413Z"
   },
   {
    "duration": 6,
    "start_time": "2023-02-12T12:32:44.425Z"
   },
   {
    "duration": 7,
    "start_time": "2023-02-12T12:32:44.433Z"
   },
   {
    "duration": 37,
    "start_time": "2023-02-12T12:32:44.442Z"
   },
   {
    "duration": 161,
    "start_time": "2023-02-12T12:32:44.481Z"
   },
   {
    "duration": 120711,
    "start_time": "2023-02-12T12:32:44.644Z"
   },
   {
    "duration": 137,
    "start_time": "2023-02-12T12:34:45.357Z"
   },
   {
    "duration": 152,
    "start_time": "2023-02-12T12:34:45.499Z"
   },
   {
    "duration": 179,
    "start_time": "2023-02-12T12:34:45.653Z"
   },
   {
    "duration": 6,
    "start_time": "2023-02-12T12:34:45.835Z"
   },
   {
    "duration": 24,
    "start_time": "2023-02-12T12:34:45.843Z"
   },
   {
    "duration": 17,
    "start_time": "2023-02-12T12:34:45.870Z"
   },
   {
    "duration": 9,
    "start_time": "2023-02-12T12:34:45.889Z"
   },
   {
    "duration": 90,
    "start_time": "2023-02-12T12:34:45.899Z"
   },
   {
    "duration": 97,
    "start_time": "2023-02-12T12:34:45.993Z"
   },
   {
    "duration": 277,
    "start_time": "2023-02-12T12:34:46.093Z"
   },
   {
    "duration": 212,
    "start_time": "2023-02-12T12:34:46.373Z"
   },
   {
    "duration": 58,
    "start_time": "2023-02-12T12:34:46.588Z"
   },
   {
    "duration": 113,
    "start_time": "2023-02-12T12:34:46.647Z"
   },
   {
    "duration": 54,
    "start_time": "2023-02-12T12:34:46.768Z"
   },
   {
    "duration": 51,
    "start_time": "2023-02-12T12:34:46.824Z"
   },
   {
    "duration": 48,
    "start_time": "2023-02-12T12:34:46.878Z"
   },
   {
    "duration": 146872,
    "start_time": "2023-02-12T12:34:46.928Z"
   },
   {
    "duration": 322,
    "start_time": "2023-02-12T12:37:13.803Z"
   },
   {
    "duration": 22,
    "start_time": "2023-02-12T12:37:14.127Z"
   },
   {
    "duration": 203,
    "start_time": "2023-02-12T12:37:14.151Z"
   },
   {
    "duration": 67,
    "start_time": "2023-02-12T12:51:01.261Z"
   },
   {
    "duration": 40,
    "start_time": "2023-02-12T12:51:07.243Z"
   },
   {
    "duration": 65,
    "start_time": "2023-02-12T12:51:10.374Z"
   },
   {
    "duration": 1624,
    "start_time": "2023-02-12T17:49:49.006Z"
   },
   {
    "duration": 209,
    "start_time": "2023-02-12T17:49:50.632Z"
   },
   {
    "duration": 5,
    "start_time": "2023-02-12T17:49:50.843Z"
   },
   {
    "duration": 6,
    "start_time": "2023-02-12T17:49:50.850Z"
   },
   {
    "duration": 11,
    "start_time": "2023-02-12T17:49:50.858Z"
   },
   {
    "duration": 21,
    "start_time": "2023-02-12T17:49:50.870Z"
   },
   {
    "duration": 10,
    "start_time": "2023-02-12T17:49:50.893Z"
   },
   {
    "duration": 12,
    "start_time": "2023-02-12T17:49:50.905Z"
   },
   {
    "duration": 25,
    "start_time": "2023-02-12T17:49:50.919Z"
   },
   {
    "duration": 6,
    "start_time": "2023-02-12T17:49:50.947Z"
   },
   {
    "duration": 13,
    "start_time": "2023-02-12T17:49:50.955Z"
   },
   {
    "duration": 10,
    "start_time": "2023-02-12T17:49:50.969Z"
   },
   {
    "duration": 35,
    "start_time": "2023-02-12T17:49:50.980Z"
   },
   {
    "duration": 25,
    "start_time": "2023-02-12T17:49:51.017Z"
   },
   {
    "duration": 9,
    "start_time": "2023-02-12T17:49:51.044Z"
   },
   {
    "duration": 15,
    "start_time": "2023-02-12T17:49:51.055Z"
   },
   {
    "duration": 11,
    "start_time": "2023-02-12T17:49:51.072Z"
   },
   {
    "duration": 6,
    "start_time": "2023-02-12T17:49:51.084Z"
   },
   {
    "duration": 0,
    "start_time": "2023-02-12T17:49:51.092Z"
   },
   {
    "duration": 0,
    "start_time": "2023-02-12T17:49:51.093Z"
   },
   {
    "duration": 0,
    "start_time": "2023-02-12T17:49:51.094Z"
   },
   {
    "duration": 0,
    "start_time": "2023-02-12T17:49:51.095Z"
   },
   {
    "duration": 0,
    "start_time": "2023-02-12T17:49:51.096Z"
   },
   {
    "duration": 0,
    "start_time": "2023-02-12T17:49:51.098Z"
   },
   {
    "duration": 0,
    "start_time": "2023-02-12T17:49:51.098Z"
   },
   {
    "duration": 0,
    "start_time": "2023-02-12T17:49:51.137Z"
   },
   {
    "duration": 0,
    "start_time": "2023-02-12T17:49:51.138Z"
   },
   {
    "duration": 0,
    "start_time": "2023-02-12T17:49:51.139Z"
   },
   {
    "duration": 0,
    "start_time": "2023-02-12T17:49:51.140Z"
   },
   {
    "duration": 0,
    "start_time": "2023-02-12T17:49:51.142Z"
   },
   {
    "duration": 0,
    "start_time": "2023-02-12T17:49:51.143Z"
   },
   {
    "duration": 0,
    "start_time": "2023-02-12T17:49:51.143Z"
   },
   {
    "duration": 0,
    "start_time": "2023-02-12T17:49:51.145Z"
   },
   {
    "duration": 0,
    "start_time": "2023-02-12T17:49:51.146Z"
   },
   {
    "duration": 0,
    "start_time": "2023-02-12T17:49:51.147Z"
   },
   {
    "duration": 0,
    "start_time": "2023-02-12T17:49:51.149Z"
   },
   {
    "duration": 0,
    "start_time": "2023-02-12T17:49:51.151Z"
   },
   {
    "duration": 0,
    "start_time": "2023-02-12T17:49:51.152Z"
   },
   {
    "duration": 0,
    "start_time": "2023-02-12T17:49:51.153Z"
   },
   {
    "duration": 0,
    "start_time": "2023-02-12T17:49:51.154Z"
   },
   {
    "duration": 0,
    "start_time": "2023-02-12T17:49:51.156Z"
   },
   {
    "duration": 0,
    "start_time": "2023-02-12T17:49:51.157Z"
   },
   {
    "duration": 0,
    "start_time": "2023-02-12T17:49:51.158Z"
   },
   {
    "duration": 0,
    "start_time": "2023-02-12T17:49:51.159Z"
   },
   {
    "duration": 8,
    "start_time": "2023-02-12T17:50:10.086Z"
   },
   {
    "duration": 1516,
    "start_time": "2023-02-12T17:53:49.536Z"
   },
   {
    "duration": 67,
    "start_time": "2023-02-12T17:53:51.055Z"
   },
   {
    "duration": 5,
    "start_time": "2023-02-12T17:53:51.123Z"
   },
   {
    "duration": 5,
    "start_time": "2023-02-12T17:53:51.129Z"
   },
   {
    "duration": 8,
    "start_time": "2023-02-12T17:53:51.137Z"
   },
   {
    "duration": 11,
    "start_time": "2023-02-12T17:53:51.147Z"
   },
   {
    "duration": 11,
    "start_time": "2023-02-12T17:53:51.160Z"
   },
   {
    "duration": 17,
    "start_time": "2023-02-12T17:53:51.172Z"
   },
   {
    "duration": 9,
    "start_time": "2023-02-12T17:53:51.190Z"
   },
   {
    "duration": 5,
    "start_time": "2023-02-12T17:53:51.201Z"
   },
   {
    "duration": 34,
    "start_time": "2023-02-12T17:53:51.207Z"
   },
   {
    "duration": 6,
    "start_time": "2023-02-12T17:53:51.243Z"
   },
   {
    "duration": 36,
    "start_time": "2023-02-12T17:53:51.251Z"
   },
   {
    "duration": 7,
    "start_time": "2023-02-12T17:53:51.290Z"
   },
   {
    "duration": 19,
    "start_time": "2023-02-12T17:53:51.299Z"
   },
   {
    "duration": 12,
    "start_time": "2023-02-12T17:53:51.336Z"
   },
   {
    "duration": 16,
    "start_time": "2023-02-12T17:53:51.350Z"
   },
   {
    "duration": 6,
    "start_time": "2023-02-12T17:53:51.368Z"
   },
   {
    "duration": 0,
    "start_time": "2023-02-12T17:53:51.376Z"
   },
   {
    "duration": 0,
    "start_time": "2023-02-12T17:53:51.377Z"
   },
   {
    "duration": 0,
    "start_time": "2023-02-12T17:53:51.378Z"
   },
   {
    "duration": 0,
    "start_time": "2023-02-12T17:53:51.379Z"
   },
   {
    "duration": 0,
    "start_time": "2023-02-12T17:53:51.381Z"
   },
   {
    "duration": 0,
    "start_time": "2023-02-12T17:53:51.382Z"
   },
   {
    "duration": 0,
    "start_time": "2023-02-12T17:53:51.383Z"
   },
   {
    "duration": 0,
    "start_time": "2023-02-12T17:53:51.384Z"
   },
   {
    "duration": 0,
    "start_time": "2023-02-12T17:53:51.385Z"
   },
   {
    "duration": 0,
    "start_time": "2023-02-12T17:53:51.386Z"
   },
   {
    "duration": 0,
    "start_time": "2023-02-12T17:53:51.387Z"
   },
   {
    "duration": 0,
    "start_time": "2023-02-12T17:53:51.388Z"
   },
   {
    "duration": 0,
    "start_time": "2023-02-12T17:53:51.389Z"
   },
   {
    "duration": 0,
    "start_time": "2023-02-12T17:53:51.390Z"
   },
   {
    "duration": 0,
    "start_time": "2023-02-12T17:53:51.391Z"
   },
   {
    "duration": 0,
    "start_time": "2023-02-12T17:53:51.392Z"
   },
   {
    "duration": 0,
    "start_time": "2023-02-12T17:53:51.395Z"
   },
   {
    "duration": 0,
    "start_time": "2023-02-12T17:53:51.436Z"
   },
   {
    "duration": 0,
    "start_time": "2023-02-12T17:53:51.437Z"
   },
   {
    "duration": 0,
    "start_time": "2023-02-12T17:53:51.439Z"
   },
   {
    "duration": 0,
    "start_time": "2023-02-12T17:53:51.440Z"
   },
   {
    "duration": 0,
    "start_time": "2023-02-12T17:53:51.441Z"
   },
   {
    "duration": 0,
    "start_time": "2023-02-12T17:53:51.442Z"
   },
   {
    "duration": 0,
    "start_time": "2023-02-12T17:53:51.443Z"
   },
   {
    "duration": 0,
    "start_time": "2023-02-12T17:53:51.444Z"
   },
   {
    "duration": 0,
    "start_time": "2023-02-12T17:53:51.445Z"
   },
   {
    "duration": 1413,
    "start_time": "2023-02-12T17:54:24.070Z"
   },
   {
    "duration": 70,
    "start_time": "2023-02-12T17:54:25.485Z"
   },
   {
    "duration": 5,
    "start_time": "2023-02-12T17:54:25.557Z"
   },
   {
    "duration": 6,
    "start_time": "2023-02-12T17:54:25.564Z"
   },
   {
    "duration": 8,
    "start_time": "2023-02-12T17:54:25.571Z"
   },
   {
    "duration": 5,
    "start_time": "2023-02-12T17:54:25.581Z"
   },
   {
    "duration": 7,
    "start_time": "2023-02-12T17:54:25.588Z"
   },
   {
    "duration": 11,
    "start_time": "2023-02-12T17:54:25.597Z"
   },
   {
    "duration": 34,
    "start_time": "2023-02-12T17:54:25.610Z"
   },
   {
    "duration": 5,
    "start_time": "2023-02-12T17:54:25.647Z"
   },
   {
    "duration": 9,
    "start_time": "2023-02-12T17:54:25.653Z"
   },
   {
    "duration": 6,
    "start_time": "2023-02-12T17:54:25.664Z"
   },
   {
    "duration": 35,
    "start_time": "2023-02-12T17:54:25.672Z"
   },
   {
    "duration": 32,
    "start_time": "2023-02-12T17:54:25.709Z"
   },
   {
    "duration": 10,
    "start_time": "2023-02-12T17:54:25.744Z"
   },
   {
    "duration": 13,
    "start_time": "2023-02-12T17:54:25.755Z"
   },
   {
    "duration": 10,
    "start_time": "2023-02-12T17:54:25.769Z"
   },
   {
    "duration": 193,
    "start_time": "2023-02-12T17:54:25.781Z"
   },
   {
    "duration": 12,
    "start_time": "2023-02-12T17:54:25.977Z"
   },
   {
    "duration": 8,
    "start_time": "2023-02-12T17:54:25.990Z"
   },
   {
    "duration": 9,
    "start_time": "2023-02-12T17:54:26.000Z"
   },
   {
    "duration": 34,
    "start_time": "2023-02-12T17:54:26.010Z"
   },
   {
    "duration": 169,
    "start_time": "2023-02-12T17:54:26.046Z"
   },
   {
    "duration": 109807,
    "start_time": "2023-02-12T17:54:26.217Z"
   },
   {
    "duration": 29,
    "start_time": "2023-02-12T17:56:16.026Z"
   },
   {
    "duration": 238,
    "start_time": "2023-02-12T17:56:16.057Z"
   },
   {
    "duration": 171,
    "start_time": "2023-02-12T17:56:16.296Z"
   },
   {
    "duration": 8,
    "start_time": "2023-02-12T17:56:16.471Z"
   },
   {
    "duration": 15,
    "start_time": "2023-02-12T17:56:16.480Z"
   },
   {
    "duration": 17,
    "start_time": "2023-02-12T17:56:16.497Z"
   },
   {
    "duration": 8,
    "start_time": "2023-02-12T17:56:16.535Z"
   },
   {
    "duration": 192,
    "start_time": "2023-02-12T17:56:16.545Z"
   },
   {
    "duration": 211,
    "start_time": "2023-02-12T17:56:16.740Z"
   },
   {
    "duration": 196,
    "start_time": "2023-02-12T17:56:16.954Z"
   },
   {
    "duration": 145,
    "start_time": "2023-02-12T17:56:17.242Z"
   },
   {
    "duration": 50,
    "start_time": "2023-02-12T17:56:17.389Z"
   },
   {
    "duration": 43,
    "start_time": "2023-02-12T17:56:17.441Z"
   },
   {
    "duration": 62,
    "start_time": "2023-02-12T17:56:17.486Z"
   },
   {
    "duration": 27,
    "start_time": "2023-02-12T17:56:17.550Z"
   },
   {
    "duration": 57,
    "start_time": "2023-02-12T17:56:17.579Z"
   },
   {
    "duration": 138479,
    "start_time": "2023-02-12T17:56:17.638Z"
   },
   {
    "duration": 313,
    "start_time": "2023-02-12T17:58:36.119Z"
   },
   {
    "duration": 24,
    "start_time": "2023-02-12T17:58:36.437Z"
   },
   {
    "duration": 180,
    "start_time": "2023-02-12T17:58:36.463Z"
   },
   {
    "duration": 102948,
    "start_time": "2023-02-12T18:01:57.148Z"
   },
   {
    "duration": 1491,
    "start_time": "2023-02-12T18:07:24.478Z"
   },
   {
    "duration": 65,
    "start_time": "2023-02-12T18:07:25.971Z"
   },
   {
    "duration": 6,
    "start_time": "2023-02-12T18:07:26.038Z"
   },
   {
    "duration": 26,
    "start_time": "2023-02-12T18:07:26.047Z"
   },
   {
    "duration": 45,
    "start_time": "2023-02-12T18:07:26.075Z"
   },
   {
    "duration": 45,
    "start_time": "2023-02-12T18:07:26.121Z"
   },
   {
    "duration": 56,
    "start_time": "2023-02-12T18:07:26.168Z"
   },
   {
    "duration": 57,
    "start_time": "2023-02-12T18:07:26.225Z"
   },
   {
    "duration": 41,
    "start_time": "2023-02-12T18:07:26.283Z"
   },
   {
    "duration": 11,
    "start_time": "2023-02-12T18:07:26.327Z"
   },
   {
    "duration": 46,
    "start_time": "2023-02-12T18:07:26.340Z"
   },
   {
    "duration": 36,
    "start_time": "2023-02-12T18:07:26.388Z"
   },
   {
    "duration": 84,
    "start_time": "2023-02-12T18:07:26.425Z"
   },
   {
    "duration": 14,
    "start_time": "2023-02-12T18:07:26.511Z"
   },
   {
    "duration": 46,
    "start_time": "2023-02-12T18:07:26.527Z"
   },
   {
    "duration": 56,
    "start_time": "2023-02-12T18:07:26.576Z"
   },
   {
    "duration": 33,
    "start_time": "2023-02-12T18:07:26.634Z"
   },
   {
    "duration": 221,
    "start_time": "2023-02-12T18:07:26.669Z"
   },
   {
    "duration": 11,
    "start_time": "2023-02-12T18:07:26.893Z"
   },
   {
    "duration": 40,
    "start_time": "2023-02-12T18:07:26.906Z"
   },
   {
    "duration": 35,
    "start_time": "2023-02-12T18:07:26.947Z"
   },
   {
    "duration": 21,
    "start_time": "2023-02-12T18:07:26.984Z"
   },
   {
    "duration": 174,
    "start_time": "2023-02-12T18:07:27.007Z"
   },
   {
    "duration": 112718,
    "start_time": "2023-02-12T18:07:27.183Z"
   },
   {
    "duration": 39,
    "start_time": "2023-02-12T18:09:19.903Z"
   },
   {
    "duration": 243,
    "start_time": "2023-02-12T18:09:19.944Z"
   },
   {
    "duration": 173,
    "start_time": "2023-02-12T18:09:20.188Z"
   },
   {
    "duration": 10,
    "start_time": "2023-02-12T18:09:20.364Z"
   },
   {
    "duration": 15,
    "start_time": "2023-02-12T18:09:20.375Z"
   },
   {
    "duration": 15,
    "start_time": "2023-02-12T18:09:20.391Z"
   },
   {
    "duration": 33,
    "start_time": "2023-02-12T18:09:20.408Z"
   },
   {
    "duration": 100,
    "start_time": "2023-02-12T18:09:20.442Z"
   },
   {
    "duration": 193,
    "start_time": "2023-02-12T18:09:20.544Z"
   },
   {
    "duration": 298,
    "start_time": "2023-02-12T18:09:20.739Z"
   },
   {
    "duration": 55,
    "start_time": "2023-02-12T18:09:21.039Z"
   },
   {
    "duration": 53,
    "start_time": "2023-02-12T18:09:21.097Z"
   },
   {
    "duration": 43,
    "start_time": "2023-02-12T18:09:21.151Z"
   },
   {
    "duration": 69,
    "start_time": "2023-02-12T18:09:21.197Z"
   },
   {
    "duration": 27,
    "start_time": "2023-02-12T18:09:21.268Z"
   },
   {
    "duration": 80,
    "start_time": "2023-02-12T18:09:21.296Z"
   },
   {
    "duration": 102759,
    "start_time": "2023-02-12T18:09:21.378Z"
   },
   {
    "duration": 294,
    "start_time": "2023-02-12T18:11:04.138Z"
   },
   {
    "duration": 31,
    "start_time": "2023-02-12T18:11:04.436Z"
   },
   {
    "duration": 194,
    "start_time": "2023-02-12T18:11:04.469Z"
   },
   {
    "duration": 824779,
    "start_time": "2023-02-12T18:14:10.832Z"
   },
   {
    "duration": 102469,
    "start_time": "2023-02-12T18:50:52.069Z"
   },
   {
    "duration": 96,
    "start_time": "2023-02-12T19:00:25.378Z"
   },
   {
    "duration": 1426,
    "start_time": "2023-02-12T19:00:52.460Z"
   },
   {
    "duration": 65,
    "start_time": "2023-02-12T19:00:53.887Z"
   },
   {
    "duration": 4,
    "start_time": "2023-02-12T19:00:53.953Z"
   },
   {
    "duration": 6,
    "start_time": "2023-02-12T19:00:53.959Z"
   },
   {
    "duration": 7,
    "start_time": "2023-02-12T19:00:53.967Z"
   },
   {
    "duration": 6,
    "start_time": "2023-02-12T19:00:53.975Z"
   },
   {
    "duration": 16,
    "start_time": "2023-02-12T19:00:53.982Z"
   },
   {
    "duration": 12,
    "start_time": "2023-02-12T19:00:53.999Z"
   },
   {
    "duration": 23,
    "start_time": "2023-02-12T19:00:54.012Z"
   },
   {
    "duration": 5,
    "start_time": "2023-02-12T19:00:54.038Z"
   },
   {
    "duration": 9,
    "start_time": "2023-02-12T19:00:54.045Z"
   },
   {
    "duration": 6,
    "start_time": "2023-02-12T19:00:54.056Z"
   },
   {
    "duration": 30,
    "start_time": "2023-02-12T19:00:54.064Z"
   },
   {
    "duration": 7,
    "start_time": "2023-02-12T19:00:54.096Z"
   },
   {
    "duration": 38,
    "start_time": "2023-02-12T19:00:54.105Z"
   },
   {
    "duration": 18,
    "start_time": "2023-02-12T19:00:54.145Z"
   },
   {
    "duration": 11,
    "start_time": "2023-02-12T19:00:54.164Z"
   },
   {
    "duration": 194,
    "start_time": "2023-02-12T19:00:54.177Z"
   },
   {
    "duration": 9,
    "start_time": "2023-02-12T19:00:54.373Z"
   },
   {
    "duration": 7,
    "start_time": "2023-02-12T19:00:54.384Z"
   },
   {
    "duration": 7,
    "start_time": "2023-02-12T19:00:54.393Z"
   },
   {
    "duration": 35,
    "start_time": "2023-02-12T19:00:54.401Z"
   },
   {
    "duration": 172,
    "start_time": "2023-02-12T19:00:54.438Z"
   },
   {
    "duration": 109786,
    "start_time": "2023-02-12T19:00:54.611Z"
   },
   {
    "duration": 47,
    "start_time": "2023-02-12T19:02:44.399Z"
   },
   {
    "duration": 201,
    "start_time": "2023-02-12T19:02:44.448Z"
   },
   {
    "duration": 157,
    "start_time": "2023-02-12T19:02:44.650Z"
   },
   {
    "duration": 8,
    "start_time": "2023-02-12T19:02:44.813Z"
   },
   {
    "duration": 43,
    "start_time": "2023-02-12T19:02:44.823Z"
   },
   {
    "duration": 25,
    "start_time": "2023-02-12T19:02:44.868Z"
   },
   {
    "duration": 30,
    "start_time": "2023-02-12T19:02:44.895Z"
   },
   {
    "duration": 119,
    "start_time": "2023-02-12T19:02:44.927Z"
   },
   {
    "duration": 196,
    "start_time": "2023-02-12T19:02:45.048Z"
   },
   {
    "duration": 202,
    "start_time": "2023-02-12T19:02:45.246Z"
   },
   {
    "duration": 138,
    "start_time": "2023-02-12T19:02:45.450Z"
   },
   {
    "duration": 75,
    "start_time": "2023-02-12T19:02:45.591Z"
   },
   {
    "duration": 43,
    "start_time": "2023-02-12T19:02:45.668Z"
   },
   {
    "duration": 67,
    "start_time": "2023-02-12T19:02:45.712Z"
   },
   {
    "duration": 34,
    "start_time": "2023-02-12T19:02:45.782Z"
   },
   {
    "duration": 55,
    "start_time": "2023-02-12T19:02:45.818Z"
   },
   {
    "duration": 102210,
    "start_time": "2023-02-12T19:02:45.875Z"
   },
   {
    "duration": 85,
    "start_time": "2023-02-12T19:04:28.087Z"
   },
   {
    "duration": 0,
    "start_time": "2023-02-12T19:04:28.174Z"
   },
   {
    "duration": 1,
    "start_time": "2023-02-12T19:04:28.175Z"
   },
   {
    "duration": 147,
    "start_time": "2023-02-12T19:09:34.906Z"
   },
   {
    "duration": 48,
    "start_time": "2023-02-12T19:09:40.908Z"
   },
   {
    "duration": 12,
    "start_time": "2023-02-12T19:09:50.124Z"
   },
   {
    "duration": 152,
    "start_time": "2023-02-12T19:09:56.788Z"
   },
   {
    "duration": 72,
    "start_time": "2023-02-12T19:12:46.866Z"
   },
   {
    "duration": 263,
    "start_time": "2023-02-12T19:22:05.492Z"
   },
   {
    "duration": 279,
    "start_time": "2023-02-12T19:22:41.390Z"
   },
   {
    "duration": 296,
    "start_time": "2023-02-12T19:22:58.534Z"
   },
   {
    "duration": 1522,
    "start_time": "2023-02-12T19:23:03.893Z"
   },
   {
    "duration": 71,
    "start_time": "2023-02-12T19:23:05.417Z"
   },
   {
    "duration": 5,
    "start_time": "2023-02-12T19:23:05.490Z"
   },
   {
    "duration": 4,
    "start_time": "2023-02-12T19:23:05.497Z"
   },
   {
    "duration": 6,
    "start_time": "2023-02-12T19:23:05.503Z"
   },
   {
    "duration": 7,
    "start_time": "2023-02-12T19:23:05.510Z"
   },
   {
    "duration": 22,
    "start_time": "2023-02-12T19:23:05.518Z"
   },
   {
    "duration": 16,
    "start_time": "2023-02-12T19:23:05.542Z"
   },
   {
    "duration": 21,
    "start_time": "2023-02-12T19:23:05.561Z"
   },
   {
    "duration": 6,
    "start_time": "2023-02-12T19:23:05.586Z"
   },
   {
    "duration": 12,
    "start_time": "2023-02-12T19:23:05.594Z"
   },
   {
    "duration": 30,
    "start_time": "2023-02-12T19:23:05.608Z"
   },
   {
    "duration": 39,
    "start_time": "2023-02-12T19:23:05.640Z"
   },
   {
    "duration": 16,
    "start_time": "2023-02-12T19:23:05.681Z"
   },
   {
    "duration": 18,
    "start_time": "2023-02-12T19:23:05.699Z"
   },
   {
    "duration": 25,
    "start_time": "2023-02-12T19:23:05.719Z"
   },
   {
    "duration": 12,
    "start_time": "2023-02-12T19:23:05.745Z"
   },
   {
    "duration": 185,
    "start_time": "2023-02-12T19:23:05.759Z"
   },
   {
    "duration": 9,
    "start_time": "2023-02-12T19:23:05.947Z"
   },
   {
    "duration": 18,
    "start_time": "2023-02-12T19:23:05.958Z"
   },
   {
    "duration": 25,
    "start_time": "2023-02-12T19:23:05.978Z"
   },
   {
    "duration": 16,
    "start_time": "2023-02-12T19:23:06.004Z"
   },
   {
    "duration": 169,
    "start_time": "2023-02-12T19:23:06.021Z"
   },
   {
    "duration": 111855,
    "start_time": "2023-02-12T19:23:06.192Z"
   },
   {
    "duration": 292,
    "start_time": "2023-02-12T19:24:58.050Z"
   },
   {
    "duration": 40,
    "start_time": "2023-02-12T19:24:58.345Z"
   },
   {
    "duration": 205,
    "start_time": "2023-02-12T19:24:58.388Z"
   },
   {
    "duration": 9,
    "start_time": "2023-02-12T19:24:58.597Z"
   },
   {
    "duration": 37,
    "start_time": "2023-02-12T19:24:58.608Z"
   },
   {
    "duration": 44,
    "start_time": "2023-02-12T19:24:58.647Z"
   },
   {
    "duration": 28,
    "start_time": "2023-02-12T19:24:58.693Z"
   },
   {
    "duration": 125,
    "start_time": "2023-02-12T19:24:58.723Z"
   },
   {
    "duration": 115,
    "start_time": "2023-02-12T19:24:58.850Z"
   },
   {
    "duration": 203,
    "start_time": "2023-02-12T19:24:59.038Z"
   },
   {
    "duration": 155,
    "start_time": "2023-02-12T19:24:59.248Z"
   },
   {
    "duration": 60,
    "start_time": "2023-02-12T19:24:59.406Z"
   },
   {
    "duration": 46,
    "start_time": "2023-02-12T19:24:59.470Z"
   },
   {
    "duration": 287,
    "start_time": "2023-02-12T19:24:59.518Z"
   },
   {
    "duration": 37,
    "start_time": "2023-02-12T19:24:59.807Z"
   },
   {
    "duration": 46,
    "start_time": "2023-02-12T19:24:59.846Z"
   },
   {
    "duration": 103778,
    "start_time": "2023-02-12T19:24:59.894Z"
   },
   {
    "duration": 76,
    "start_time": "2023-02-12T19:26:43.674Z"
   },
   {
    "duration": 13,
    "start_time": "2023-02-12T19:26:43.752Z"
   },
   {
    "duration": 212,
    "start_time": "2023-02-12T19:26:43.767Z"
   },
   {
    "duration": 10083,
    "start_time": "2023-02-12T19:42:13.505Z"
   },
   {
    "duration": 10117,
    "start_time": "2023-02-12T19:43:19.404Z"
   },
   {
    "duration": 5336,
    "start_time": "2023-02-12T19:45:12.027Z"
   },
   {
    "duration": 163,
    "start_time": "2023-02-12T19:48:40.737Z"
   },
   {
    "duration": 55,
    "start_time": "2023-02-12T19:49:38.957Z"
   },
   {
    "duration": 53,
    "start_time": "2023-02-12T19:53:13.862Z"
   },
   {
    "duration": 6379,
    "start_time": "2023-02-12T19:59:12.527Z"
   },
   {
    "duration": 103002,
    "start_time": "2023-02-12T20:01:44.583Z"
   },
   {
    "duration": 267,
    "start_time": "2023-02-12T20:08:58.485Z"
   },
   {
    "duration": 174,
    "start_time": "2023-02-12T20:10:13.408Z"
   },
   {
    "duration": 218,
    "start_time": "2023-02-12T20:12:12.173Z"
   },
   {
    "duration": 1596,
    "start_time": "2023-02-12T20:12:22.399Z"
   },
   {
    "duration": 75,
    "start_time": "2023-02-12T20:12:23.998Z"
   },
   {
    "duration": 5,
    "start_time": "2023-02-12T20:12:24.076Z"
   },
   {
    "duration": 7,
    "start_time": "2023-02-12T20:12:24.084Z"
   },
   {
    "duration": 19,
    "start_time": "2023-02-12T20:12:24.092Z"
   },
   {
    "duration": 13,
    "start_time": "2023-02-12T20:12:24.112Z"
   },
   {
    "duration": 20,
    "start_time": "2023-02-12T20:12:24.127Z"
   },
   {
    "duration": 19,
    "start_time": "2023-02-12T20:12:24.148Z"
   },
   {
    "duration": 11,
    "start_time": "2023-02-12T20:12:24.169Z"
   },
   {
    "duration": 10,
    "start_time": "2023-02-12T20:12:24.182Z"
   },
   {
    "duration": 11,
    "start_time": "2023-02-12T20:12:24.194Z"
   },
   {
    "duration": 25,
    "start_time": "2023-02-12T20:12:24.207Z"
   },
   {
    "duration": 35,
    "start_time": "2023-02-12T20:12:24.233Z"
   },
   {
    "duration": 7,
    "start_time": "2023-02-12T20:12:24.270Z"
   },
   {
    "duration": 14,
    "start_time": "2023-02-12T20:12:24.279Z"
   },
   {
    "duration": 23,
    "start_time": "2023-02-12T20:12:24.295Z"
   },
   {
    "duration": 22,
    "start_time": "2023-02-12T20:12:24.321Z"
   },
   {
    "duration": 199,
    "start_time": "2023-02-12T20:12:24.346Z"
   },
   {
    "duration": 10,
    "start_time": "2023-02-12T20:12:24.547Z"
   },
   {
    "duration": 7,
    "start_time": "2023-02-12T20:12:24.559Z"
   },
   {
    "duration": 7,
    "start_time": "2023-02-12T20:12:24.568Z"
   },
   {
    "duration": 13,
    "start_time": "2023-02-12T20:12:24.576Z"
   },
   {
    "duration": 185,
    "start_time": "2023-02-12T20:12:24.591Z"
   },
   {
    "duration": 112946,
    "start_time": "2023-02-12T20:12:24.778Z"
   },
   {
    "duration": 118,
    "start_time": "2023-02-12T20:14:17.726Z"
   },
   {
    "duration": 130,
    "start_time": "2023-02-12T20:14:17.846Z"
   },
   {
    "duration": 194,
    "start_time": "2023-02-12T20:14:17.978Z"
   },
   {
    "duration": 7,
    "start_time": "2023-02-12T20:14:18.176Z"
   },
   {
    "duration": 14,
    "start_time": "2023-02-12T20:14:18.184Z"
   },
   {
    "duration": 12,
    "start_time": "2023-02-12T20:14:18.199Z"
   },
   {
    "duration": 27,
    "start_time": "2023-02-12T20:14:18.213Z"
   },
   {
    "duration": 98,
    "start_time": "2023-02-12T20:14:18.242Z"
   },
   {
    "duration": 197,
    "start_time": "2023-02-12T20:14:18.342Z"
   },
   {
    "duration": 200,
    "start_time": "2023-02-12T20:14:18.544Z"
   },
   {
    "duration": 10222,
    "start_time": "2023-02-12T20:14:18.746Z"
   },
   {
    "duration": 5370,
    "start_time": "2023-02-12T20:14:28.970Z"
   },
   {
    "duration": 6782,
    "start_time": "2023-02-12T20:14:34.341Z"
   },
   {
    "duration": 307,
    "start_time": "2023-02-12T20:14:41.125Z"
   },
   {
    "duration": 160,
    "start_time": "2023-02-12T20:14:41.437Z"
   },
   {
    "duration": 239,
    "start_time": "2023-02-12T20:14:41.599Z"
   },
   {
    "duration": 104911,
    "start_time": "2023-02-12T20:14:41.840Z"
   },
   {
    "duration": 47,
    "start_time": "2023-02-12T20:16:26.753Z"
   },
   {
    "duration": 10,
    "start_time": "2023-02-12T20:16:26.802Z"
   },
   {
    "duration": 186,
    "start_time": "2023-02-12T20:16:26.814Z"
   }
  ],
  "kernelspec": {
   "display_name": "Python 3 (ipykernel)",
   "language": "python",
   "name": "python3"
  },
  "language_info": {
   "codemirror_mode": {
    "name": "ipython",
    "version": 3
   },
   "file_extension": ".py",
   "mimetype": "text/x-python",
   "name": "python",
   "nbconvert_exporter": "python",
   "pygments_lexer": "ipython3",
   "version": "3.9.5"
  },
  "toc": {
   "base_numbering": 1,
   "nav_menu": {},
   "number_sections": true,
   "sideBar": true,
   "skip_h1_title": true,
   "title_cell": "Содержание",
   "title_sidebar": "Contents",
   "toc_cell": true,
   "toc_position": {
    "height": "calc(100% - 180px)",
    "left": "10px",
    "top": "150px",
    "width": "202px"
   },
   "toc_section_display": true,
   "toc_window_display": true
  }
 },
 "nbformat": 4,
 "nbformat_minor": 2
}
